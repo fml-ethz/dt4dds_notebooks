{
 "cells": [
  {
   "cell_type": "code",
   "execution_count": 2,
   "metadata": {},
   "outputs": [],
   "source": [
    "import numpy as np\n",
    "from scipy.optimize import curve_fit\n",
    "import plotly.graph_objects as pg\n",
    "import plotly.express as px\n",
    "import pandas as pd\n",
    "import statsmodels.formula.api as smf\n",
    "import statsmodels.stats.api as sms\n",
    "import statsmodels.api as sm"
   ]
  },
  {
   "attachments": {},
   "cell_type": "markdown",
   "metadata": {},
   "source": [
    "# Calibration curves"
   ]
  },
  {
   "cell_type": "code",
   "execution_count": 3,
   "metadata": {},
   "outputs": [
    {
     "data": {
      "application/vnd.plotly.v1+json": {
       "config": {
        "plotlyServerURL": "https://plot.ly"
       },
       "data": [
        {
         "hovertemplate": "name=Genscript (GCall)<br>c=%{x}<br>Ct=%{y}<extra></extra>",
         "legendgroup": "Genscript (GCall)",
         "marker": {
          "color": "#636efa",
          "symbol": "circle"
         },
         "mode": "markers",
         "name": "Genscript (GCall)",
         "orientation": "v",
         "showlegend": true,
         "type": "scatter",
         "x": [
          0.0464,
          0.00232,
          0.00232,
          0.00011599999999999999,
          0.00011599999999999999,
          0.0000057999999999999995,
          0.0000057999999999999995,
          2.9e-7,
          2.9e-7,
          1.4499999999999999e-8,
          1.4499999999999999e-8,
          0.0464
         ],
         "xaxis": "x",
         "y": [
          5.19,
          9.94,
          9.83,
          14.9,
          14.6,
          19.41,
          19.06,
          23.8,
          23.79,
          27.94,
          27.93,
          5.54
         ],
         "yaxis": "y"
        },
        {
         "hovertemplate": "<b>OLS trendline</b><br>Ct = -3.49317 * log10(c) + 0.80764<br>R<sup>2</sup>=0.999292<br><br>name=Genscript (GCall)<br>c=%{x}<br>Ct=%{y} <b>(trend)</b><extra></extra>",
         "legendgroup": "Genscript (GCall)",
         "marker": {
          "color": "#636efa",
          "symbol": "circle"
         },
         "mode": "lines",
         "name": "Genscript (GCall)",
         "showlegend": false,
         "type": "scatter",
         "x": [
          1.4499999999999999e-8,
          1.4499999999999999e-8,
          2.9e-7,
          2.9e-7,
          0.0000057999999999999995,
          0.0000057999999999999995,
          0.00011599999999999999,
          0.00011599999999999999,
          0.00232,
          0.00232,
          0.0464,
          0.0464
         ],
         "xaxis": "x",
         "y": [
          28.189285714285703,
          28.189285714285703,
          23.644571428571425,
          23.644571428571425,
          19.09985714285714,
          19.09985714285714,
          14.555142857142858,
          14.555142857142858,
          10.010428571428575,
          10.010428571428575,
          5.4657142857142915,
          5.4657142857142915
         ],
         "yaxis": "y"
        },
        {
         "hovertemplate": "name=Genscript (GCfix)<br>c=%{x}<br>Ct=%{y}<extra></extra>",
         "legendgroup": "Genscript (GCfix)",
         "marker": {
          "color": "#EF553B",
          "symbol": "circle"
         },
         "mode": "markers",
         "name": "Genscript (GCfix)",
         "orientation": "v",
         "showlegend": true,
         "type": "scatter",
         "x": [
          0.00000216,
          0.21600000000000003,
          0.21600000000000003,
          0.21600000000000003,
          0.0216,
          0.0216,
          0.00216,
          0.00216,
          0.00000216,
          0.00000216,
          null,
          null,
          null,
          0.00216,
          0.00021600000000000002,
          0.00021600000000000002,
          0.00021600000000000002,
          0.0000216,
          0.0000216,
          0.0216,
          0.0000216
         ],
         "xaxis": "x",
         "y": [
          21.57,
          4.18,
          4.3,
          4.25,
          7.57,
          7.62,
          11.07,
          11.09,
          21.4,
          21.6,
          32.05,
          31.87,
          31.86,
          11.15,
          14.71,
          14.57,
          14.57,
          18.09,
          18.06,
          7.71,
          18.12
         ],
         "yaxis": "y"
        },
        {
         "hovertemplate": "<b>OLS trendline</b><br>Ct = -3.46524 * log10(c) + 1.89896<br>R<sup>2</sup>=0.999884<br><br>name=Genscript (GCfix)<br>c=%{x}<br>Ct=%{y} <b>(trend)</b><extra></extra>",
         "legendgroup": "Genscript (GCfix)",
         "marker": {
          "color": "#EF553B",
          "symbol": "circle"
         },
         "mode": "lines",
         "name": "Genscript (GCfix)",
         "showlegend": false,
         "type": "scatter",
         "x": [
          0.00000216,
          0.00000216,
          0.00000216,
          0.0000216,
          0.0000216,
          0.0000216,
          0.00021600000000000002,
          0.00021600000000000002,
          0.00021600000000000002,
          0.00216,
          0.00216,
          0.00216,
          0.0216,
          0.0216,
          0.0216,
          0.21600000000000003,
          0.21600000000000003,
          0.21600000000000003
         ],
         "xaxis": "x",
         "y": [
          21.531428571428577,
          21.531428571428577,
          21.531428571428577,
          18.06619047619048,
          18.06619047619048,
          18.06619047619048,
          14.600952380952382,
          14.600952380952382,
          14.600952380952382,
          11.135714285714284,
          11.135714285714284,
          11.135714285714284,
          7.6704761904761884,
          7.6704761904761884,
          7.6704761904761884,
          4.2052380952380926,
          4.2052380952380926,
          4.2052380952380926
         ],
         "yaxis": "y"
        },
        {
         "hovertemplate": "name=Twist (GCall)<br>c=%{x}<br>Ct=%{y}<extra></extra>",
         "legendgroup": "Twist (GCall)",
         "marker": {
          "color": "#00cc96",
          "symbol": "circle"
         },
         "mode": "markers",
         "name": "Twist (GCall)",
         "orientation": "v",
         "showlegend": true,
         "type": "scatter",
         "x": [
          0.0045000000000000005,
          4.5000000000000006e-8,
          4.5000000000000003e-7,
          4.5000000000000003e-7,
          4.5000000000000003e-7,
          0.0000045,
          0.0000045,
          0.0000045,
          4.5000000000000006e-8,
          0.000045,
          0.000045,
          0.00045000000000000004,
          0.00045000000000000004,
          0.00045000000000000004,
          0.0045000000000000005,
          0.0045000000000000005,
          0.000045,
          4.5000000000000006e-8
         ],
         "xaxis": "x",
         "y": [
          9.89,
          28.36,
          24.81,
          24.74,
          24.49,
          21.11,
          21.12,
          20.87,
          28.2,
          17.43,
          16.91,
          13.73,
          13.74,
          13.65,
          10.1,
          10.15,
          17.45,
          28.42
         ],
         "yaxis": "y"
        },
        {
         "hovertemplate": "<b>OLS trendline</b><br>Ct = -3.65971 * log10(c) + 1.43825<br>R<sup>2</sup>=0.999462<br><br>name=Twist (GCall)<br>c=%{x}<br>Ct=%{y} <b>(trend)</b><extra></extra>",
         "legendgroup": "Twist (GCall)",
         "marker": {
          "color": "#00cc96",
          "symbol": "circle"
         },
         "mode": "lines",
         "name": "Twist (GCall)",
         "showlegend": false,
         "type": "scatter",
         "x": [
          4.5000000000000006e-8,
          4.5000000000000006e-8,
          4.5000000000000006e-8,
          4.5000000000000003e-7,
          4.5000000000000003e-7,
          4.5000000000000003e-7,
          0.0000045,
          0.0000045,
          0.0000045,
          0.000045,
          0.000045,
          0.000045,
          0.00045000000000000004,
          0.00045000000000000004,
          0.00045000000000000004,
          0.0045000000000000005,
          0.0045000000000000005,
          0.0045000000000000005
         ],
         "xaxis": "x",
         "y": [
          28.325396825396837,
          28.325396825396837,
          28.325396825396837,
          24.66568253968255,
          24.66568253968255,
          24.66568253968255,
          21.00596825396826,
          21.00596825396826,
          21.00596825396826,
          17.346253968253972,
          17.346253968253972,
          17.346253968253972,
          13.686539682539685,
          13.686539682539685,
          13.686539682539685,
          10.026825396825394,
          10.026825396825394,
          10.026825396825394
         ],
         "yaxis": "y"
        },
        {
         "hovertemplate": "name=Twist (GCfix)<br>c=%{x}<br>Ct=%{y}<extra></extra>",
         "legendgroup": "Twist (GCfix)",
         "marker": {
          "color": "#ab63fa",
          "symbol": "circle"
         },
         "mode": "markers",
         "name": "Twist (GCfix)",
         "orientation": "v",
         "showlegend": true,
         "type": "scatter",
         "x": [
          4.8e-7,
          0.0048,
          4.799999999999999e-8,
          4.8e-7,
          4.8e-7,
          0.0000048,
          0.0000048,
          0.0000048,
          4.799999999999999e-8,
          0.000047999999999999994,
          0.000047999999999999994,
          0.00047999999999999996,
          0.00047999999999999996,
          0.00047999999999999996,
          0.0048,
          0.0048,
          0.000047999999999999994,
          4.799999999999999e-8
         ],
         "xaxis": "x",
         "y": [
          24.92,
          10.12,
          28.77,
          24.91,
          24.78,
          21.13,
          21.14,
          20.95,
          28.57,
          17.36,
          17.2,
          13.7,
          13.72,
          13.62,
          10.16,
          10.14,
          17.54,
          28.69
         ],
         "yaxis": "y"
        },
        {
         "hovertemplate": "<b>OLS trendline</b><br>Ct = -3.71314 * log10(c) + 1.40837<br>R<sup>2</sup>=0.999672<br><br>name=Twist (GCfix)<br>c=%{x}<br>Ct=%{y} <b>(trend)</b><extra></extra>",
         "legendgroup": "Twist (GCfix)",
         "marker": {
          "color": "#ab63fa",
          "symbol": "circle"
         },
         "mode": "lines",
         "name": "Twist (GCfix)",
         "showlegend": false,
         "type": "scatter",
         "x": [
          4.799999999999999e-8,
          4.799999999999999e-8,
          4.799999999999999e-8,
          4.8e-7,
          4.8e-7,
          4.8e-7,
          0.0000048,
          0.0000048,
          0.0000048,
          0.000047999999999999994,
          0.000047999999999999994,
          0.000047999999999999994,
          0.00047999999999999996,
          0.00047999999999999996,
          0.00047999999999999996,
          0.0048,
          0.0048,
          0.0048
         ],
         "xaxis": "x",
         "y": [
          28.58396825396825,
          28.58396825396825,
          28.58396825396825,
          24.870825396825392,
          24.870825396825392,
          24.870825396825392,
          21.157682539682533,
          21.157682539682533,
          21.157682539682533,
          17.44453968253968,
          17.44453968253968,
          17.44453968253968,
          13.73139682539682,
          13.73139682539682,
          13.73139682539682,
          10.018253968253962,
          10.018253968253962,
          10.018253968253962
         ],
         "yaxis": "y"
        }
       ],
       "layout": {
        "font": {
         "family": "Inter"
        },
        "height": 330,
        "legend": {
         "font": {
          "size": 9.333333333333334
         },
         "title": {
          "text": "Pool"
         },
         "tracegroupgap": 0,
         "x": 1,
         "xanchor": "right",
         "y": 1,
         "yanchor": "top"
        },
        "margin": {
         "b": 0,
         "l": 0,
         "r": 10,
         "t": 10
        },
        "template": {
         "data": {
          "bar": [
           {
            "error_x": {
             "color": "rgb(36,36,36)"
            },
            "error_y": {
             "color": "rgb(36,36,36)"
            },
            "marker": {
             "line": {
              "color": "white",
              "width": 0.5
             },
             "pattern": {
              "fillmode": "overlay",
              "size": 10,
              "solidity": 0.2
             }
            },
            "type": "bar"
           }
          ],
          "barpolar": [
           {
            "marker": {
             "line": {
              "color": "white",
              "width": 0.5
             },
             "pattern": {
              "fillmode": "overlay",
              "size": 10,
              "solidity": 0.2
             }
            },
            "type": "barpolar"
           }
          ],
          "carpet": [
           {
            "aaxis": {
             "endlinecolor": "rgb(36,36,36)",
             "gridcolor": "white",
             "linecolor": "white",
             "minorgridcolor": "white",
             "startlinecolor": "rgb(36,36,36)"
            },
            "baxis": {
             "endlinecolor": "rgb(36,36,36)",
             "gridcolor": "white",
             "linecolor": "white",
             "minorgridcolor": "white",
             "startlinecolor": "rgb(36,36,36)"
            },
            "type": "carpet"
           }
          ],
          "choropleth": [
           {
            "colorbar": {
             "outlinewidth": 1,
             "tickcolor": "rgb(36,36,36)",
             "ticks": "outside"
            },
            "type": "choropleth"
           }
          ],
          "contour": [
           {
            "colorbar": {
             "outlinewidth": 1,
             "tickcolor": "rgb(36,36,36)",
             "ticks": "outside"
            },
            "colorscale": [
             [
              0,
              "#440154"
             ],
             [
              0.1111111111111111,
              "#482878"
             ],
             [
              0.2222222222222222,
              "#3e4989"
             ],
             [
              0.3333333333333333,
              "#31688e"
             ],
             [
              0.4444444444444444,
              "#26828e"
             ],
             [
              0.5555555555555556,
              "#1f9e89"
             ],
             [
              0.6666666666666666,
              "#35b779"
             ],
             [
              0.7777777777777778,
              "#6ece58"
             ],
             [
              0.8888888888888888,
              "#b5de2b"
             ],
             [
              1,
              "#fde725"
             ]
            ],
            "type": "contour"
           }
          ],
          "contourcarpet": [
           {
            "colorbar": {
             "outlinewidth": 1,
             "tickcolor": "rgb(36,36,36)",
             "ticks": "outside"
            },
            "type": "contourcarpet"
           }
          ],
          "heatmap": [
           {
            "colorbar": {
             "outlinewidth": 1,
             "tickcolor": "rgb(36,36,36)",
             "ticks": "outside"
            },
            "colorscale": [
             [
              0,
              "#440154"
             ],
             [
              0.1111111111111111,
              "#482878"
             ],
             [
              0.2222222222222222,
              "#3e4989"
             ],
             [
              0.3333333333333333,
              "#31688e"
             ],
             [
              0.4444444444444444,
              "#26828e"
             ],
             [
              0.5555555555555556,
              "#1f9e89"
             ],
             [
              0.6666666666666666,
              "#35b779"
             ],
             [
              0.7777777777777778,
              "#6ece58"
             ],
             [
              0.8888888888888888,
              "#b5de2b"
             ],
             [
              1,
              "#fde725"
             ]
            ],
            "type": "heatmap"
           }
          ],
          "heatmapgl": [
           {
            "colorbar": {
             "outlinewidth": 1,
             "tickcolor": "rgb(36,36,36)",
             "ticks": "outside"
            },
            "colorscale": [
             [
              0,
              "#440154"
             ],
             [
              0.1111111111111111,
              "#482878"
             ],
             [
              0.2222222222222222,
              "#3e4989"
             ],
             [
              0.3333333333333333,
              "#31688e"
             ],
             [
              0.4444444444444444,
              "#26828e"
             ],
             [
              0.5555555555555556,
              "#1f9e89"
             ],
             [
              0.6666666666666666,
              "#35b779"
             ],
             [
              0.7777777777777778,
              "#6ece58"
             ],
             [
              0.8888888888888888,
              "#b5de2b"
             ],
             [
              1,
              "#fde725"
             ]
            ],
            "type": "heatmapgl"
           }
          ],
          "histogram": [
           {
            "marker": {
             "line": {
              "color": "white",
              "width": 0.6
             }
            },
            "type": "histogram"
           }
          ],
          "histogram2d": [
           {
            "colorbar": {
             "outlinewidth": 1,
             "tickcolor": "rgb(36,36,36)",
             "ticks": "outside"
            },
            "colorscale": [
             [
              0,
              "#440154"
             ],
             [
              0.1111111111111111,
              "#482878"
             ],
             [
              0.2222222222222222,
              "#3e4989"
             ],
             [
              0.3333333333333333,
              "#31688e"
             ],
             [
              0.4444444444444444,
              "#26828e"
             ],
             [
              0.5555555555555556,
              "#1f9e89"
             ],
             [
              0.6666666666666666,
              "#35b779"
             ],
             [
              0.7777777777777778,
              "#6ece58"
             ],
             [
              0.8888888888888888,
              "#b5de2b"
             ],
             [
              1,
              "#fde725"
             ]
            ],
            "type": "histogram2d"
           }
          ],
          "histogram2dcontour": [
           {
            "colorbar": {
             "outlinewidth": 1,
             "tickcolor": "rgb(36,36,36)",
             "ticks": "outside"
            },
            "colorscale": [
             [
              0,
              "#440154"
             ],
             [
              0.1111111111111111,
              "#482878"
             ],
             [
              0.2222222222222222,
              "#3e4989"
             ],
             [
              0.3333333333333333,
              "#31688e"
             ],
             [
              0.4444444444444444,
              "#26828e"
             ],
             [
              0.5555555555555556,
              "#1f9e89"
             ],
             [
              0.6666666666666666,
              "#35b779"
             ],
             [
              0.7777777777777778,
              "#6ece58"
             ],
             [
              0.8888888888888888,
              "#b5de2b"
             ],
             [
              1,
              "#fde725"
             ]
            ],
            "type": "histogram2dcontour"
           }
          ],
          "mesh3d": [
           {
            "colorbar": {
             "outlinewidth": 1,
             "tickcolor": "rgb(36,36,36)",
             "ticks": "outside"
            },
            "type": "mesh3d"
           }
          ],
          "parcoords": [
           {
            "line": {
             "colorbar": {
              "outlinewidth": 1,
              "tickcolor": "rgb(36,36,36)",
              "ticks": "outside"
             }
            },
            "type": "parcoords"
           }
          ],
          "pie": [
           {
            "automargin": true,
            "type": "pie"
           }
          ],
          "scatter": [
           {
            "fillpattern": {
             "fillmode": "overlay",
             "size": 10,
             "solidity": 0.2
            },
            "type": "scatter"
           }
          ],
          "scatter3d": [
           {
            "line": {
             "colorbar": {
              "outlinewidth": 1,
              "tickcolor": "rgb(36,36,36)",
              "ticks": "outside"
             }
            },
            "marker": {
             "colorbar": {
              "outlinewidth": 1,
              "tickcolor": "rgb(36,36,36)",
              "ticks": "outside"
             }
            },
            "type": "scatter3d"
           }
          ],
          "scattercarpet": [
           {
            "marker": {
             "colorbar": {
              "outlinewidth": 1,
              "tickcolor": "rgb(36,36,36)",
              "ticks": "outside"
             }
            },
            "type": "scattercarpet"
           }
          ],
          "scattergeo": [
           {
            "marker": {
             "colorbar": {
              "outlinewidth": 1,
              "tickcolor": "rgb(36,36,36)",
              "ticks": "outside"
             }
            },
            "type": "scattergeo"
           }
          ],
          "scattergl": [
           {
            "marker": {
             "colorbar": {
              "outlinewidth": 1,
              "tickcolor": "rgb(36,36,36)",
              "ticks": "outside"
             }
            },
            "type": "scattergl"
           }
          ],
          "scattermapbox": [
           {
            "marker": {
             "colorbar": {
              "outlinewidth": 1,
              "tickcolor": "rgb(36,36,36)",
              "ticks": "outside"
             }
            },
            "type": "scattermapbox"
           }
          ],
          "scatterpolar": [
           {
            "marker": {
             "colorbar": {
              "outlinewidth": 1,
              "tickcolor": "rgb(36,36,36)",
              "ticks": "outside"
             }
            },
            "type": "scatterpolar"
           }
          ],
          "scatterpolargl": [
           {
            "marker": {
             "colorbar": {
              "outlinewidth": 1,
              "tickcolor": "rgb(36,36,36)",
              "ticks": "outside"
             }
            },
            "type": "scatterpolargl"
           }
          ],
          "scatterternary": [
           {
            "marker": {
             "colorbar": {
              "outlinewidth": 1,
              "tickcolor": "rgb(36,36,36)",
              "ticks": "outside"
             }
            },
            "type": "scatterternary"
           }
          ],
          "surface": [
           {
            "colorbar": {
             "outlinewidth": 1,
             "tickcolor": "rgb(36,36,36)",
             "ticks": "outside"
            },
            "colorscale": [
             [
              0,
              "#440154"
             ],
             [
              0.1111111111111111,
              "#482878"
             ],
             [
              0.2222222222222222,
              "#3e4989"
             ],
             [
              0.3333333333333333,
              "#31688e"
             ],
             [
              0.4444444444444444,
              "#26828e"
             ],
             [
              0.5555555555555556,
              "#1f9e89"
             ],
             [
              0.6666666666666666,
              "#35b779"
             ],
             [
              0.7777777777777778,
              "#6ece58"
             ],
             [
              0.8888888888888888,
              "#b5de2b"
             ],
             [
              1,
              "#fde725"
             ]
            ],
            "type": "surface"
           }
          ],
          "table": [
           {
            "cells": {
             "fill": {
              "color": "rgb(237,237,237)"
             },
             "line": {
              "color": "white"
             }
            },
            "header": {
             "fill": {
              "color": "rgb(217,217,217)"
             },
             "line": {
              "color": "white"
             }
            },
            "type": "table"
           }
          ]
         },
         "layout": {
          "annotationdefaults": {
           "arrowhead": 0,
           "arrowwidth": 1
          },
          "autotypenumbers": "strict",
          "coloraxis": {
           "colorbar": {
            "outlinewidth": 1,
            "tickcolor": "rgb(36,36,36)",
            "ticks": "outside"
           }
          },
          "colorscale": {
           "diverging": [
            [
             0,
             "rgb(103,0,31)"
            ],
            [
             0.1,
             "rgb(178,24,43)"
            ],
            [
             0.2,
             "rgb(214,96,77)"
            ],
            [
             0.3,
             "rgb(244,165,130)"
            ],
            [
             0.4,
             "rgb(253,219,199)"
            ],
            [
             0.5,
             "rgb(247,247,247)"
            ],
            [
             0.6,
             "rgb(209,229,240)"
            ],
            [
             0.7,
             "rgb(146,197,222)"
            ],
            [
             0.8,
             "rgb(67,147,195)"
            ],
            [
             0.9,
             "rgb(33,102,172)"
            ],
            [
             1,
             "rgb(5,48,97)"
            ]
           ],
           "sequential": [
            [
             0,
             "#440154"
            ],
            [
             0.1111111111111111,
             "#482878"
            ],
            [
             0.2222222222222222,
             "#3e4989"
            ],
            [
             0.3333333333333333,
             "#31688e"
            ],
            [
             0.4444444444444444,
             "#26828e"
            ],
            [
             0.5555555555555556,
             "#1f9e89"
            ],
            [
             0.6666666666666666,
             "#35b779"
            ],
            [
             0.7777777777777778,
             "#6ece58"
            ],
            [
             0.8888888888888888,
             "#b5de2b"
            ],
            [
             1,
             "#fde725"
            ]
           ],
           "sequentialminus": [
            [
             0,
             "#440154"
            ],
            [
             0.1111111111111111,
             "#482878"
            ],
            [
             0.2222222222222222,
             "#3e4989"
            ],
            [
             0.3333333333333333,
             "#31688e"
            ],
            [
             0.4444444444444444,
             "#26828e"
            ],
            [
             0.5555555555555556,
             "#1f9e89"
            ],
            [
             0.6666666666666666,
             "#35b779"
            ],
            [
             0.7777777777777778,
             "#6ece58"
            ],
            [
             0.8888888888888888,
             "#b5de2b"
            ],
            [
             1,
             "#fde725"
            ]
           ]
          },
          "colorway": [
           "#1F77B4",
           "#FF7F0E",
           "#2CA02C",
           "#D62728",
           "#9467BD",
           "#8C564B",
           "#E377C2",
           "#7F7F7F",
           "#BCBD22",
           "#17BECF"
          ],
          "font": {
           "color": "rgb(36,36,36)"
          },
          "geo": {
           "bgcolor": "white",
           "lakecolor": "white",
           "landcolor": "white",
           "showlakes": true,
           "showland": true,
           "subunitcolor": "white"
          },
          "hoverlabel": {
           "align": "left"
          },
          "hovermode": "closest",
          "mapbox": {
           "style": "light"
          },
          "paper_bgcolor": "white",
          "plot_bgcolor": "white",
          "polar": {
           "angularaxis": {
            "gridcolor": "rgb(232,232,232)",
            "linecolor": "rgb(36,36,36)",
            "showgrid": false,
            "showline": true,
            "ticks": "outside"
           },
           "bgcolor": "white",
           "radialaxis": {
            "gridcolor": "rgb(232,232,232)",
            "linecolor": "rgb(36,36,36)",
            "showgrid": false,
            "showline": true,
            "ticks": "outside"
           }
          },
          "scene": {
           "xaxis": {
            "backgroundcolor": "white",
            "gridcolor": "rgb(232,232,232)",
            "gridwidth": 2,
            "linecolor": "rgb(36,36,36)",
            "showbackground": true,
            "showgrid": false,
            "showline": true,
            "ticks": "outside",
            "zeroline": false,
            "zerolinecolor": "rgb(36,36,36)"
           },
           "yaxis": {
            "backgroundcolor": "white",
            "gridcolor": "rgb(232,232,232)",
            "gridwidth": 2,
            "linecolor": "rgb(36,36,36)",
            "showbackground": true,
            "showgrid": false,
            "showline": true,
            "ticks": "outside",
            "zeroline": false,
            "zerolinecolor": "rgb(36,36,36)"
           },
           "zaxis": {
            "backgroundcolor": "white",
            "gridcolor": "rgb(232,232,232)",
            "gridwidth": 2,
            "linecolor": "rgb(36,36,36)",
            "showbackground": true,
            "showgrid": false,
            "showline": true,
            "ticks": "outside",
            "zeroline": false,
            "zerolinecolor": "rgb(36,36,36)"
           }
          },
          "shapedefaults": {
           "fillcolor": "black",
           "line": {
            "width": 0
           },
           "opacity": 0.3
          },
          "ternary": {
           "aaxis": {
            "gridcolor": "rgb(232,232,232)",
            "linecolor": "rgb(36,36,36)",
            "showgrid": false,
            "showline": true,
            "ticks": "outside"
           },
           "baxis": {
            "gridcolor": "rgb(232,232,232)",
            "linecolor": "rgb(36,36,36)",
            "showgrid": false,
            "showline": true,
            "ticks": "outside"
           },
           "bgcolor": "white",
           "caxis": {
            "gridcolor": "rgb(232,232,232)",
            "linecolor": "rgb(36,36,36)",
            "showgrid": false,
            "showline": true,
            "ticks": "outside"
           }
          },
          "title": {
           "x": 0.05
          },
          "xaxis": {
           "automargin": true,
           "gridcolor": "rgb(232,232,232)",
           "linecolor": "rgb(36,36,36)",
           "showgrid": false,
           "showline": true,
           "ticks": "outside",
           "title": {
            "standoff": 15
           },
           "zeroline": false,
           "zerolinecolor": "rgb(36,36,36)"
          },
          "yaxis": {
           "automargin": true,
           "gridcolor": "rgb(232,232,232)",
           "linecolor": "rgb(36,36,36)",
           "showgrid": false,
           "showline": true,
           "ticks": "outside",
           "title": {
            "standoff": 15
           },
           "zeroline": false,
           "zerolinecolor": "rgb(36,36,36)"
          }
         }
        },
        "width": 330,
        "xaxis": {
         "anchor": "y",
         "domain": [
          0,
          1
         ],
         "dtick": 2,
         "exponentformat": "e",
         "minor": {
          "dtick": 1,
          "ticks": "outside"
         },
         "range": [
          -8,
          0
         ],
         "showexponent": "all",
         "tickfont": {
          "size": 9.333333333333334
         },
         "title": {
          "font": {
           "family": "Inter",
           "size": 9.333333333333334
          },
          "text": "Concentration / ng uL<sup>-1</sup>"
         },
         "type": "log"
        },
        "yaxis": {
         "anchor": "x",
         "domain": [
          0,
          1
         ],
         "dtick": 5,
         "minor": {
          "dtick": 2.5,
          "ticks": "outside"
         },
         "range": [
          2.5,
          30
         ],
         "tickfont": {
          "size": 9.333333333333334
         },
         "title": {
          "font": {
           "family": "Inter",
           "size": 9.333333333333334
          },
          "text": "Cycle threshold"
         }
        }
       }
      }
     },
     "metadata": {},
     "output_type": "display_data"
    }
   ],
   "source": [
    "data = {\n",
    "    'Twist (GCall)': ['cal_Twist_GCall.csv', 45.0/100/100],\n",
    "    'Twist (GCfix)': ['cal_Twist_GCfix.csv', 48.0/100/100],\n",
    "    'Genscript (GCall)': ['cal_Genscript_GCall.csv', 0.0464],\n",
    "    'Genscript (GCfix)': ['cal_Genscript_GCfix.csv', 21.6],\n",
    "}\n",
    "\n",
    "dfs = []\n",
    "for name, info in data.items():\n",
    "    df = pd.read_csv(info[0])\n",
    "    df['c'] = info[1]/df['Dilution']\n",
    "    df['name'] = name\n",
    "    dfs.append(df)\n",
    "\n",
    "df = pd.concat(dfs)\n",
    "df.sort_values(by=\"name\", inplace=True)\n",
    "\n",
    "fig = px.scatter(\n",
    "    df, \n",
    "    x=\"c\", \n",
    "    y=\"Ct\", \n",
    "    color=\"name\", \n",
    "    log_x=True,\n",
    "    trendline='ols',\n",
    "    trendline_options={'log_x': True}\n",
    ")\n",
    "\n",
    "\n",
    "fig.update_layout(\n",
    "    template=\"simple_white\", \n",
    "    height=330, \n",
    "    width=330, \n",
    "    # showlegend=False, \n",
    "    margin=dict(l=0, r=10, t=10, b=0),\n",
    "    font_family=\"Inter\",\n",
    "    legend_font_size=28/3,\n",
    ")\n",
    "fig.update_xaxes(\n",
    "    title_text='Concentration / ng uL<sup>-1</sup>', \n",
    "    range=[-8, 0],\n",
    "    dtick=2,\n",
    "    title_font_family=\"Inter\", \n",
    "    title_font_size=28/3, \n",
    "    tickfont_size=28/3, \n",
    "    minor_ticks=\"outside\", \n",
    "    minor_dtick=1,\n",
    "    showexponent = 'all',\n",
    "    exponentformat = 'e'\n",
    ")\n",
    "fig.update_yaxes(\n",
    "    title_text='Cycle threshold', \n",
    "    range=[2.5, 30],\n",
    "    dtick=5, \n",
    "    title_font_family=\"Inter\", \n",
    "    title_font_size=28/3, \n",
    "    tickfont_size=28/3, \n",
    "    minor_ticks=\"outside\", \n",
    "    minor_dtick=2.5\n",
    ")\n",
    "\n",
    "fig.update_layout(legend=dict(\n",
    "    title=\"Pool\",\n",
    "    yanchor=\"top\",\n",
    "    y=1.0,\n",
    "    xanchor=\"right\",\n",
    "    x=1.0\n",
    "))\n",
    "\n",
    "fig.show()\n",
    "fig.write_image(\"cal_curve.svg\")"
   ]
  },
  {
   "cell_type": "code",
   "execution_count": 8,
   "metadata": {},
   "outputs": [
    {
     "data": {
      "text/html": [
       "<div>\n",
       "<style scoped>\n",
       "    .dataframe tbody tr th:only-of-type {\n",
       "        vertical-align: middle;\n",
       "    }\n",
       "\n",
       "    .dataframe tbody tr th {\n",
       "        vertical-align: top;\n",
       "    }\n",
       "\n",
       "    .dataframe thead th {\n",
       "        text-align: right;\n",
       "    }\n",
       "</style>\n",
       "<table border=\"1\" class=\"dataframe\">\n",
       "  <thead>\n",
       "    <tr style=\"text-align: right;\">\n",
       "      <th></th>\n",
       "      <th>slope</th>\n",
       "      <th>intercept</th>\n",
       "      <th>R2</th>\n",
       "      <th>eff</th>\n",
       "    </tr>\n",
       "    <tr>\n",
       "      <th>name</th>\n",
       "      <th></th>\n",
       "      <th></th>\n",
       "      <th></th>\n",
       "      <th></th>\n",
       "    </tr>\n",
       "  </thead>\n",
       "  <tbody>\n",
       "    <tr>\n",
       "      <th>Genscript (GCall)</th>\n",
       "      <td>-3.493166</td>\n",
       "      <td>0.807640</td>\n",
       "      <td>0.999292</td>\n",
       "      <td>0.933184</td>\n",
       "    </tr>\n",
       "    <tr>\n",
       "      <th>Genscript (GCfix)</th>\n",
       "      <td>-3.465238</td>\n",
       "      <td>1.898962</td>\n",
       "      <td>0.999884</td>\n",
       "      <td>0.943482</td>\n",
       "    </tr>\n",
       "    <tr>\n",
       "      <th>Twist (GCall)</th>\n",
       "      <td>-3.659714</td>\n",
       "      <td>1.438254</td>\n",
       "      <td>0.999462</td>\n",
       "      <td>0.876054</td>\n",
       "    </tr>\n",
       "    <tr>\n",
       "      <th>Twist (GCfix)</th>\n",
       "      <td>-3.713143</td>\n",
       "      <td>1.408371</td>\n",
       "      <td>0.999672</td>\n",
       "      <td>0.859147</td>\n",
       "    </tr>\n",
       "  </tbody>\n",
       "</table>\n",
       "</div>"
      ],
      "text/plain": [
       "                      slope  intercept        R2       eff\n",
       "name                                                      \n",
       "Genscript (GCall) -3.493166   0.807640  0.999292  0.933184\n",
       "Genscript (GCfix) -3.465238   1.898962  0.999884  0.943482\n",
       "Twist (GCall)     -3.659714   1.438254  0.999462  0.876054\n",
       "Twist (GCfix)     -3.713143   1.408371  0.999672  0.859147"
      ]
     },
     "execution_count": 8,
     "metadata": {},
     "output_type": "execute_result"
    }
   ],
   "source": [
    "names = []\n",
    "slopes = []\n",
    "intercepts = []\n",
    "R2s = []\n",
    "\n",
    "for index, row in px.get_trendline_results(fig).iterrows():\n",
    "    names.append(row[0])\n",
    "    slopes.append(row[1].params[1])\n",
    "    intercepts.append(row[1].params[0])\n",
    "    R2s.append(row[1].rsquared)\n",
    "\n",
    "cal = pd.DataFrame.from_dict({'name': names, 'slope': slopes, 'intercept': intercepts, 'R2': R2s}).set_index('name')\n",
    "cal['eff'] = 10**(-1/cal.slope)-1\n",
    "cal"
   ]
  },
  {
   "attachments": {},
   "cell_type": "markdown",
   "metadata": {},
   "source": [
    "# Initial abundance"
   ]
  },
  {
   "cell_type": "code",
   "execution_count": 4,
   "metadata": {},
   "outputs": [
    {
     "data": {
      "text/html": [
       "<div>\n",
       "<style scoped>\n",
       "    .dataframe tbody tr th:only-of-type {\n",
       "        vertical-align: middle;\n",
       "    }\n",
       "\n",
       "    .dataframe tbody tr th {\n",
       "        vertical-align: top;\n",
       "    }\n",
       "\n",
       "    .dataframe thead th {\n",
       "        text-align: right;\n",
       "    }\n",
       "</style>\n",
       "<table border=\"1\" class=\"dataframe\">\n",
       "  <thead>\n",
       "    <tr style=\"text-align: right;\">\n",
       "      <th></th>\n",
       "      <th>Ct_mean</th>\n",
       "      <th>Ct_std</th>\n",
       "      <th>c0</th>\n",
       "    </tr>\n",
       "    <tr>\n",
       "      <th>name</th>\n",
       "      <th></th>\n",
       "      <th></th>\n",
       "      <th></th>\n",
       "    </tr>\n",
       "  </thead>\n",
       "  <tbody>\n",
       "    <tr>\n",
       "      <th>Twist (GCall)</th>\n",
       "      <td>16.069375</td>\n",
       "      <td>0.030429</td>\n",
       "      <td>1.004879</td>\n",
       "    </tr>\n",
       "    <tr>\n",
       "      <th>Twist (GCfix)</th>\n",
       "      <td>15.497083</td>\n",
       "      <td>0.025211</td>\n",
       "      <td>1.605897</td>\n",
       "    </tr>\n",
       "    <tr>\n",
       "      <th>Genscript (GCall)</th>\n",
       "      <td>15.971562</td>\n",
       "      <td>0.143280</td>\n",
       "      <td>0.022801</td>\n",
       "    </tr>\n",
       "    <tr>\n",
       "      <th>Genscript (GCfix)</th>\n",
       "      <td>16.518333</td>\n",
       "      <td>0.075515</td>\n",
       "      <td>0.030207</td>\n",
       "    </tr>\n",
       "  </tbody>\n",
       "</table>\n",
       "</div>"
      ],
      "text/plain": [
       "                     Ct_mean    Ct_std        c0\n",
       "name                                            \n",
       "Twist (GCall)      16.069375  0.030429  1.004879\n",
       "Twist (GCfix)      15.497083  0.025211  1.605897\n",
       "Genscript (GCall)  15.971562  0.143280  0.022801\n",
       "Genscript (GCfix)  16.518333  0.075515  0.030207"
      ]
     },
     "execution_count": 4,
     "metadata": {},
     "output_type": "execute_result"
    }
   ],
   "source": [
    "data = {\n",
    "    'Twist (GCall)': ['amp_Twist_GCall.csv', 2*5*1000],\n",
    "    'Twist (GCfix)': ['amp_Twist_GCfix.csv', 2*5*1000],\n",
    "    'Genscript (GCall)': ['amp_Genscript_GCall.csv', 2*5*50],\n",
    "    'Genscript (GCfix)': ['amp_Genscript_GCfix.csv', 2*5*50],\n",
    "}\n",
    "\n",
    "names = []\n",
    "means = []\n",
    "stds = []\n",
    "cs = []\n",
    "\n",
    "for name, info in data.items():\n",
    "    df = pd.read_csv(info[0])\n",
    "    names.append(name)\n",
    "    means.append(df['Ct'].mean())\n",
    "    stds.append(df['Ct'].std())\n",
    "    slope, intercept = cal.loc[name, 'slope'], cal.loc[name, 'intercept']\n",
    "    cs.append(info[1]*10**((df['Ct'].mean()-intercept)/slope))\n",
    "\n",
    "init_abundance = pd.DataFrame.from_dict({'name': names, 'Ct_mean': means, 'Ct_std': stds, 'c0': cs}).set_index(\"name\")\n",
    "init_abundance"
   ]
  },
  {
   "attachments": {},
   "cell_type": "markdown",
   "metadata": {},
   "source": [
    "# Decay"
   ]
  },
  {
   "cell_type": "code",
   "execution_count": 10,
   "metadata": {},
   "outputs": [
    {
     "data": {
      "application/vnd.plotly.v1+json": {
       "config": {
        "plotlyServerURL": "https://plot.ly"
       },
       "data": [
        {
         "error_y": {
          "array": [
           0.18749472347394033,
           0.012504943704152805,
           0.10102261965823989,
           0.0027845996993561798
          ]
         },
         "hovertemplate": "name=Genscript (GCall)<br>t=%{x}<br>c_mean=%{y}<extra></extra>",
         "legendgroup": "Genscript (GCall)",
         "marker": {
          "color": "#636efa",
          "symbol": "circle"
         },
         "mode": "markers",
         "name": "Genscript (GCall)",
         "orientation": "v",
         "showlegend": true,
         "type": "scatter",
         "x": [
          0,
          1.9548333333333332,
          3.954833333333333,
          6.607625
         ],
         "xaxis": "x",
         "y": [
          1,
          0.11300748041269787,
          0.10513288700856888,
          0.006051605888853592
         ],
         "yaxis": "y"
        },
        {
         "hovertemplate": "<b>OLS trendline</b><br>log10(c_mean) = -0.322806 * t<br>R<sup>2</sup>=0.971057<br><br>name=Genscript (GCall)<br>t=%{x}<br>c_mean=%{y} <b>(trend)</b><extra></extra>",
         "legendgroup": "Genscript (GCall)",
         "marker": {
          "color": "#636efa",
          "symbol": "circle"
         },
         "mode": "lines",
         "name": "Genscript (GCall)",
         "showlegend": false,
         "type": "scatter",
         "x": [
          0,
          1.9548333333333332,
          3.954833333333333,
          6.607625
         ],
         "xaxis": "x",
         "y": [
          1,
          0.23386601721200667,
          0.05288763491240327,
          0.007362338620464946
         ],
         "yaxis": "y"
        },
        {
         "error_y": {
          "array": [
           0.043282978681362994,
           0.01703438778859442,
           0.005529644474568501,
           0.0008676355163810398
          ]
         },
         "hovertemplate": "name=Genscript (GCfix)<br>t=%{x}<br>c_mean=%{y}<extra></extra>",
         "legendgroup": "Genscript (GCfix)",
         "marker": {
          "color": "#EF553B",
          "symbol": "circle"
         },
         "mode": "markers",
         "name": "Genscript (GCfix)",
         "orientation": "v",
         "showlegend": true,
         "type": "scatter",
         "x": [
          0,
          2.1319166666666667,
          4.972208333333334,
          6.90625
         ],
         "xaxis": "x",
         "y": [
          1,
          0.08327587447714029,
          0.027200253654206363,
          0.009418735377512453
         ],
         "yaxis": "y"
        },
        {
         "hovertemplate": "<b>OLS trendline</b><br>log10(c_mean) = -0.312835 * t<br>R<sup>2</sup>=0.975600<br><br>name=Genscript (GCfix)<br>t=%{x}<br>c_mean=%{y} <b>(trend)</b><extra></extra>",
         "legendgroup": "Genscript (GCfix)",
         "marker": {
          "color": "#EF553B",
          "symbol": "circle"
         },
         "mode": "lines",
         "name": "Genscript (GCfix)",
         "showlegend": false,
         "type": "scatter",
         "x": [
          0,
          2.1319166666666667,
          4.972208333333334,
          6.90625
         ],
         "xaxis": "x",
         "y": [
          1,
          0.21530874593114005,
          0.02783035783972342,
          0.006910074092111493
         ],
         "yaxis": "y"
        },
        {
         "error_y": {
          "array": [
           0.2838745322469767,
           0.00780073181282507,
           0.01228774742041067,
           0.005420666192656338
          ]
         },
         "hovertemplate": "name=Twist (GCall)<br>t=%{x}<br>c_mean=%{y}<extra></extra>",
         "legendgroup": "Twist (GCall)",
         "marker": {
          "color": "#00cc96",
          "symbol": "circle"
         },
         "mode": "markers",
         "name": "Twist (GCall)",
         "orientation": "v",
         "showlegend": true,
         "type": "scatter",
         "x": [
          0,
          2.0103750000000002,
          4.028,
          7.0035
         ],
         "xaxis": "x",
         "y": [
          1,
          0.07363072377454671,
          0.027634860975496313,
          0.017043876984460245
         ],
         "yaxis": "y"
        },
        {
         "hovertemplate": "<b>OLS trendline</b><br>log10(c_mean) = -0.302107 * t<br>R<sup>2</sup>=0.924905<br><br>name=Twist (GCall)<br>t=%{x}<br>c_mean=%{y} <b>(trend)</b><extra></extra>",
         "legendgroup": "Twist (GCall)",
         "marker": {
          "color": "#00cc96",
          "symbol": "circle"
         },
         "mode": "lines",
         "name": "Twist (GCall)",
         "showlegend": false,
         "type": "scatter",
         "x": [
          0,
          2.0103750000000002,
          4.028,
          7.0035
         ],
         "xaxis": "x",
         "y": [
          1,
          0.24697442395128588,
          0.06068951792509384,
          0.007659401127401598
         ],
         "yaxis": "y"
        },
        {
         "error_y": {
          "array": [
           0.020952577467784714,
           0.02358569900244658,
           0.0410146146846875,
           0.0017670341889120184
          ]
         },
         "hovertemplate": "name=Twist (GCfix)<br>t=%{x}<br>c_mean=%{y}<extra></extra>",
         "legendgroup": "Twist (GCfix)",
         "marker": {
          "color": "#ab63fa",
          "symbol": "circle"
         },
         "mode": "markers",
         "name": "Twist (GCfix)",
         "orientation": "v",
         "showlegend": true,
         "type": "scatter",
         "x": [
          0,
          2.0103750000000002,
          4.028,
          7.0035
         ],
         "xaxis": "x",
         "y": [
          1,
          0.03538748861428037,
          0.044073084789875414,
          0.0038082353353916564
         ],
         "yaxis": "y"
        },
        {
         "hovertemplate": "<b>OLS trendline</b><br>log10(c_mean) = -0.365316 * t<br>R<sup>2</sup>=0.944222<br><br>name=Twist (GCfix)<br>t=%{x}<br>c_mean=%{y} <b>(trend)</b><extra></extra>",
         "legendgroup": "Twist (GCfix)",
         "marker": {
          "color": "#ab63fa",
          "symbol": "circle"
         },
         "mode": "lines",
         "name": "Twist (GCfix)",
         "showlegend": false,
         "type": "scatter",
         "x": [
          0,
          2.0103750000000002,
          4.028,
          7.0035
         ],
         "xaxis": "x",
         "y": [
          1,
          0.184322279507107,
          0.03376813880349197,
          0.0027638173948698885
         ],
         "yaxis": "y"
        }
       ],
       "layout": {
        "font": {
         "family": "Inter"
        },
        "height": 330,
        "legend": {
         "font": {
          "size": 9.333333333333334
         },
         "title": {
          "text": "Pool"
         },
         "tracegroupgap": 0,
         "x": 1,
         "xanchor": "right",
         "y": 1,
         "yanchor": "top"
        },
        "margin": {
         "b": 0,
         "l": 0,
         "r": 10,
         "t": 10
        },
        "template": {
         "data": {
          "bar": [
           {
            "error_x": {
             "color": "rgb(36,36,36)"
            },
            "error_y": {
             "color": "rgb(36,36,36)"
            },
            "marker": {
             "line": {
              "color": "white",
              "width": 0.5
             },
             "pattern": {
              "fillmode": "overlay",
              "size": 10,
              "solidity": 0.2
             }
            },
            "type": "bar"
           }
          ],
          "barpolar": [
           {
            "marker": {
             "line": {
              "color": "white",
              "width": 0.5
             },
             "pattern": {
              "fillmode": "overlay",
              "size": 10,
              "solidity": 0.2
             }
            },
            "type": "barpolar"
           }
          ],
          "carpet": [
           {
            "aaxis": {
             "endlinecolor": "rgb(36,36,36)",
             "gridcolor": "white",
             "linecolor": "white",
             "minorgridcolor": "white",
             "startlinecolor": "rgb(36,36,36)"
            },
            "baxis": {
             "endlinecolor": "rgb(36,36,36)",
             "gridcolor": "white",
             "linecolor": "white",
             "minorgridcolor": "white",
             "startlinecolor": "rgb(36,36,36)"
            },
            "type": "carpet"
           }
          ],
          "choropleth": [
           {
            "colorbar": {
             "outlinewidth": 1,
             "tickcolor": "rgb(36,36,36)",
             "ticks": "outside"
            },
            "type": "choropleth"
           }
          ],
          "contour": [
           {
            "colorbar": {
             "outlinewidth": 1,
             "tickcolor": "rgb(36,36,36)",
             "ticks": "outside"
            },
            "colorscale": [
             [
              0,
              "#440154"
             ],
             [
              0.1111111111111111,
              "#482878"
             ],
             [
              0.2222222222222222,
              "#3e4989"
             ],
             [
              0.3333333333333333,
              "#31688e"
             ],
             [
              0.4444444444444444,
              "#26828e"
             ],
             [
              0.5555555555555556,
              "#1f9e89"
             ],
             [
              0.6666666666666666,
              "#35b779"
             ],
             [
              0.7777777777777778,
              "#6ece58"
             ],
             [
              0.8888888888888888,
              "#b5de2b"
             ],
             [
              1,
              "#fde725"
             ]
            ],
            "type": "contour"
           }
          ],
          "contourcarpet": [
           {
            "colorbar": {
             "outlinewidth": 1,
             "tickcolor": "rgb(36,36,36)",
             "ticks": "outside"
            },
            "type": "contourcarpet"
           }
          ],
          "heatmap": [
           {
            "colorbar": {
             "outlinewidth": 1,
             "tickcolor": "rgb(36,36,36)",
             "ticks": "outside"
            },
            "colorscale": [
             [
              0,
              "#440154"
             ],
             [
              0.1111111111111111,
              "#482878"
             ],
             [
              0.2222222222222222,
              "#3e4989"
             ],
             [
              0.3333333333333333,
              "#31688e"
             ],
             [
              0.4444444444444444,
              "#26828e"
             ],
             [
              0.5555555555555556,
              "#1f9e89"
             ],
             [
              0.6666666666666666,
              "#35b779"
             ],
             [
              0.7777777777777778,
              "#6ece58"
             ],
             [
              0.8888888888888888,
              "#b5de2b"
             ],
             [
              1,
              "#fde725"
             ]
            ],
            "type": "heatmap"
           }
          ],
          "heatmapgl": [
           {
            "colorbar": {
             "outlinewidth": 1,
             "tickcolor": "rgb(36,36,36)",
             "ticks": "outside"
            },
            "colorscale": [
             [
              0,
              "#440154"
             ],
             [
              0.1111111111111111,
              "#482878"
             ],
             [
              0.2222222222222222,
              "#3e4989"
             ],
             [
              0.3333333333333333,
              "#31688e"
             ],
             [
              0.4444444444444444,
              "#26828e"
             ],
             [
              0.5555555555555556,
              "#1f9e89"
             ],
             [
              0.6666666666666666,
              "#35b779"
             ],
             [
              0.7777777777777778,
              "#6ece58"
             ],
             [
              0.8888888888888888,
              "#b5de2b"
             ],
             [
              1,
              "#fde725"
             ]
            ],
            "type": "heatmapgl"
           }
          ],
          "histogram": [
           {
            "marker": {
             "line": {
              "color": "white",
              "width": 0.6
             }
            },
            "type": "histogram"
           }
          ],
          "histogram2d": [
           {
            "colorbar": {
             "outlinewidth": 1,
             "tickcolor": "rgb(36,36,36)",
             "ticks": "outside"
            },
            "colorscale": [
             [
              0,
              "#440154"
             ],
             [
              0.1111111111111111,
              "#482878"
             ],
             [
              0.2222222222222222,
              "#3e4989"
             ],
             [
              0.3333333333333333,
              "#31688e"
             ],
             [
              0.4444444444444444,
              "#26828e"
             ],
             [
              0.5555555555555556,
              "#1f9e89"
             ],
             [
              0.6666666666666666,
              "#35b779"
             ],
             [
              0.7777777777777778,
              "#6ece58"
             ],
             [
              0.8888888888888888,
              "#b5de2b"
             ],
             [
              1,
              "#fde725"
             ]
            ],
            "type": "histogram2d"
           }
          ],
          "histogram2dcontour": [
           {
            "colorbar": {
             "outlinewidth": 1,
             "tickcolor": "rgb(36,36,36)",
             "ticks": "outside"
            },
            "colorscale": [
             [
              0,
              "#440154"
             ],
             [
              0.1111111111111111,
              "#482878"
             ],
             [
              0.2222222222222222,
              "#3e4989"
             ],
             [
              0.3333333333333333,
              "#31688e"
             ],
             [
              0.4444444444444444,
              "#26828e"
             ],
             [
              0.5555555555555556,
              "#1f9e89"
             ],
             [
              0.6666666666666666,
              "#35b779"
             ],
             [
              0.7777777777777778,
              "#6ece58"
             ],
             [
              0.8888888888888888,
              "#b5de2b"
             ],
             [
              1,
              "#fde725"
             ]
            ],
            "type": "histogram2dcontour"
           }
          ],
          "mesh3d": [
           {
            "colorbar": {
             "outlinewidth": 1,
             "tickcolor": "rgb(36,36,36)",
             "ticks": "outside"
            },
            "type": "mesh3d"
           }
          ],
          "parcoords": [
           {
            "line": {
             "colorbar": {
              "outlinewidth": 1,
              "tickcolor": "rgb(36,36,36)",
              "ticks": "outside"
             }
            },
            "type": "parcoords"
           }
          ],
          "pie": [
           {
            "automargin": true,
            "type": "pie"
           }
          ],
          "scatter": [
           {
            "fillpattern": {
             "fillmode": "overlay",
             "size": 10,
             "solidity": 0.2
            },
            "type": "scatter"
           }
          ],
          "scatter3d": [
           {
            "line": {
             "colorbar": {
              "outlinewidth": 1,
              "tickcolor": "rgb(36,36,36)",
              "ticks": "outside"
             }
            },
            "marker": {
             "colorbar": {
              "outlinewidth": 1,
              "tickcolor": "rgb(36,36,36)",
              "ticks": "outside"
             }
            },
            "type": "scatter3d"
           }
          ],
          "scattercarpet": [
           {
            "marker": {
             "colorbar": {
              "outlinewidth": 1,
              "tickcolor": "rgb(36,36,36)",
              "ticks": "outside"
             }
            },
            "type": "scattercarpet"
           }
          ],
          "scattergeo": [
           {
            "marker": {
             "colorbar": {
              "outlinewidth": 1,
              "tickcolor": "rgb(36,36,36)",
              "ticks": "outside"
             }
            },
            "type": "scattergeo"
           }
          ],
          "scattergl": [
           {
            "marker": {
             "colorbar": {
              "outlinewidth": 1,
              "tickcolor": "rgb(36,36,36)",
              "ticks": "outside"
             }
            },
            "type": "scattergl"
           }
          ],
          "scattermapbox": [
           {
            "marker": {
             "colorbar": {
              "outlinewidth": 1,
              "tickcolor": "rgb(36,36,36)",
              "ticks": "outside"
             }
            },
            "type": "scattermapbox"
           }
          ],
          "scatterpolar": [
           {
            "marker": {
             "colorbar": {
              "outlinewidth": 1,
              "tickcolor": "rgb(36,36,36)",
              "ticks": "outside"
             }
            },
            "type": "scatterpolar"
           }
          ],
          "scatterpolargl": [
           {
            "marker": {
             "colorbar": {
              "outlinewidth": 1,
              "tickcolor": "rgb(36,36,36)",
              "ticks": "outside"
             }
            },
            "type": "scatterpolargl"
           }
          ],
          "scatterternary": [
           {
            "marker": {
             "colorbar": {
              "outlinewidth": 1,
              "tickcolor": "rgb(36,36,36)",
              "ticks": "outside"
             }
            },
            "type": "scatterternary"
           }
          ],
          "surface": [
           {
            "colorbar": {
             "outlinewidth": 1,
             "tickcolor": "rgb(36,36,36)",
             "ticks": "outside"
            },
            "colorscale": [
             [
              0,
              "#440154"
             ],
             [
              0.1111111111111111,
              "#482878"
             ],
             [
              0.2222222222222222,
              "#3e4989"
             ],
             [
              0.3333333333333333,
              "#31688e"
             ],
             [
              0.4444444444444444,
              "#26828e"
             ],
             [
              0.5555555555555556,
              "#1f9e89"
             ],
             [
              0.6666666666666666,
              "#35b779"
             ],
             [
              0.7777777777777778,
              "#6ece58"
             ],
             [
              0.8888888888888888,
              "#b5de2b"
             ],
             [
              1,
              "#fde725"
             ]
            ],
            "type": "surface"
           }
          ],
          "table": [
           {
            "cells": {
             "fill": {
              "color": "rgb(237,237,237)"
             },
             "line": {
              "color": "white"
             }
            },
            "header": {
             "fill": {
              "color": "rgb(217,217,217)"
             },
             "line": {
              "color": "white"
             }
            },
            "type": "table"
           }
          ]
         },
         "layout": {
          "annotationdefaults": {
           "arrowhead": 0,
           "arrowwidth": 1
          },
          "autotypenumbers": "strict",
          "coloraxis": {
           "colorbar": {
            "outlinewidth": 1,
            "tickcolor": "rgb(36,36,36)",
            "ticks": "outside"
           }
          },
          "colorscale": {
           "diverging": [
            [
             0,
             "rgb(103,0,31)"
            ],
            [
             0.1,
             "rgb(178,24,43)"
            ],
            [
             0.2,
             "rgb(214,96,77)"
            ],
            [
             0.3,
             "rgb(244,165,130)"
            ],
            [
             0.4,
             "rgb(253,219,199)"
            ],
            [
             0.5,
             "rgb(247,247,247)"
            ],
            [
             0.6,
             "rgb(209,229,240)"
            ],
            [
             0.7,
             "rgb(146,197,222)"
            ],
            [
             0.8,
             "rgb(67,147,195)"
            ],
            [
             0.9,
             "rgb(33,102,172)"
            ],
            [
             1,
             "rgb(5,48,97)"
            ]
           ],
           "sequential": [
            [
             0,
             "#440154"
            ],
            [
             0.1111111111111111,
             "#482878"
            ],
            [
             0.2222222222222222,
             "#3e4989"
            ],
            [
             0.3333333333333333,
             "#31688e"
            ],
            [
             0.4444444444444444,
             "#26828e"
            ],
            [
             0.5555555555555556,
             "#1f9e89"
            ],
            [
             0.6666666666666666,
             "#35b779"
            ],
            [
             0.7777777777777778,
             "#6ece58"
            ],
            [
             0.8888888888888888,
             "#b5de2b"
            ],
            [
             1,
             "#fde725"
            ]
           ],
           "sequentialminus": [
            [
             0,
             "#440154"
            ],
            [
             0.1111111111111111,
             "#482878"
            ],
            [
             0.2222222222222222,
             "#3e4989"
            ],
            [
             0.3333333333333333,
             "#31688e"
            ],
            [
             0.4444444444444444,
             "#26828e"
            ],
            [
             0.5555555555555556,
             "#1f9e89"
            ],
            [
             0.6666666666666666,
             "#35b779"
            ],
            [
             0.7777777777777778,
             "#6ece58"
            ],
            [
             0.8888888888888888,
             "#b5de2b"
            ],
            [
             1,
             "#fde725"
            ]
           ]
          },
          "colorway": [
           "#1F77B4",
           "#FF7F0E",
           "#2CA02C",
           "#D62728",
           "#9467BD",
           "#8C564B",
           "#E377C2",
           "#7F7F7F",
           "#BCBD22",
           "#17BECF"
          ],
          "font": {
           "color": "rgb(36,36,36)"
          },
          "geo": {
           "bgcolor": "white",
           "lakecolor": "white",
           "landcolor": "white",
           "showlakes": true,
           "showland": true,
           "subunitcolor": "white"
          },
          "hoverlabel": {
           "align": "left"
          },
          "hovermode": "closest",
          "mapbox": {
           "style": "light"
          },
          "paper_bgcolor": "white",
          "plot_bgcolor": "white",
          "polar": {
           "angularaxis": {
            "gridcolor": "rgb(232,232,232)",
            "linecolor": "rgb(36,36,36)",
            "showgrid": false,
            "showline": true,
            "ticks": "outside"
           },
           "bgcolor": "white",
           "radialaxis": {
            "gridcolor": "rgb(232,232,232)",
            "linecolor": "rgb(36,36,36)",
            "showgrid": false,
            "showline": true,
            "ticks": "outside"
           }
          },
          "scene": {
           "xaxis": {
            "backgroundcolor": "white",
            "gridcolor": "rgb(232,232,232)",
            "gridwidth": 2,
            "linecolor": "rgb(36,36,36)",
            "showbackground": true,
            "showgrid": false,
            "showline": true,
            "ticks": "outside",
            "zeroline": false,
            "zerolinecolor": "rgb(36,36,36)"
           },
           "yaxis": {
            "backgroundcolor": "white",
            "gridcolor": "rgb(232,232,232)",
            "gridwidth": 2,
            "linecolor": "rgb(36,36,36)",
            "showbackground": true,
            "showgrid": false,
            "showline": true,
            "ticks": "outside",
            "zeroline": false,
            "zerolinecolor": "rgb(36,36,36)"
           },
           "zaxis": {
            "backgroundcolor": "white",
            "gridcolor": "rgb(232,232,232)",
            "gridwidth": 2,
            "linecolor": "rgb(36,36,36)",
            "showbackground": true,
            "showgrid": false,
            "showline": true,
            "ticks": "outside",
            "zeroline": false,
            "zerolinecolor": "rgb(36,36,36)"
           }
          },
          "shapedefaults": {
           "fillcolor": "black",
           "line": {
            "width": 0
           },
           "opacity": 0.3
          },
          "ternary": {
           "aaxis": {
            "gridcolor": "rgb(232,232,232)",
            "linecolor": "rgb(36,36,36)",
            "showgrid": false,
            "showline": true,
            "ticks": "outside"
           },
           "baxis": {
            "gridcolor": "rgb(232,232,232)",
            "linecolor": "rgb(36,36,36)",
            "showgrid": false,
            "showline": true,
            "ticks": "outside"
           },
           "bgcolor": "white",
           "caxis": {
            "gridcolor": "rgb(232,232,232)",
            "linecolor": "rgb(36,36,36)",
            "showgrid": false,
            "showline": true,
            "ticks": "outside"
           }
          },
          "title": {
           "x": 0.05
          },
          "xaxis": {
           "automargin": true,
           "gridcolor": "rgb(232,232,232)",
           "linecolor": "rgb(36,36,36)",
           "showgrid": false,
           "showline": true,
           "ticks": "outside",
           "title": {
            "standoff": 15
           },
           "zeroline": false,
           "zerolinecolor": "rgb(36,36,36)"
          },
          "yaxis": {
           "automargin": true,
           "gridcolor": "rgb(232,232,232)",
           "linecolor": "rgb(36,36,36)",
           "showgrid": false,
           "showline": true,
           "ticks": "outside",
           "title": {
            "standoff": 15
           },
           "zeroline": false,
           "zerolinecolor": "rgb(36,36,36)"
          }
         }
        },
        "width": 330,
        "xaxis": {
         "anchor": "y",
         "domain": [
          0,
          1
         ],
         "dtick": 2,
         "exponentformat": "e",
         "minor": {
          "dtick": 1,
          "ticks": "outside"
         },
         "range": [
          -0.1,
          7.5
         ],
         "showexponent": "all",
         "tickfont": {
          "size": 9.333333333333334
         },
         "title": {
          "font": {
           "family": "Inter",
           "size": 9.333333333333334
          },
          "text": "Time / d"
         }
        },
        "yaxis": {
         "anchor": "x",
         "domain": [
          0,
          1
         ],
         "dtick": 1,
         "minor": {
          "dtick": 0.5,
          "ticks": "outside"
         },
         "range": [
          -3,
          0.5
         ],
         "tickfont": {
          "size": 9.333333333333334
         },
         "title": {
          "font": {
           "family": "Inter",
           "size": 9.333333333333334
          },
          "text": "Relative concentration"
         },
         "type": "log"
        }
       }
      }
     },
     "metadata": {},
     "output_type": "display_data"
    }
   ],
   "source": [
    "data = {\n",
    "    'Twist (GCall)': 'decay_Twist_GCall.csv',\n",
    "    'Twist (GCfix)': 'decay_Twist_GCfix.csv',\n",
    "    'Genscript (GCall)': 'decay_Genscript_GCall.csv',\n",
    "    'Genscript (GCfix)': 'decay_Genscript_GCfix.csv',\n",
    "}\n",
    "\n",
    "dfs = []\n",
    "for name, info in data.items():\n",
    "    df = pd.read_csv(info)\n",
    "    slope, intercept = cal.loc[name, 'slope'], cal.loc[name, 'intercept']\n",
    "    df['c'] = 10**((df['Ct']-intercept)/slope)\n",
    "    df['t'] = df['Time']/24\n",
    "    c0 = df.loc[df.Time == 0.0, 'c'].mean()\n",
    "    df['rel_c'] = df['c']/c0\n",
    "    df['name'] = name\n",
    "    \n",
    "    dfs.append(df)\n",
    "\n",
    "\n",
    "df = pd.concat(dfs)\n",
    "df.sort_values(by=\"name\", inplace=True)\n",
    "\n",
    "def wavg(group):\n",
    "    d = {}\n",
    "    d['c_mean'] = group.rel_c.mean()\n",
    "    d['c_std'] = group.rel_c.std()\n",
    "    return pd.Series(d, index=['c_mean', 'c_std'])\n",
    "\n",
    "df_aggregate = df.groupby(['name', 't'], as_index=False).apply(wavg)\n",
    "\n",
    "fig = px.scatter(\n",
    "    df_aggregate,\n",
    "    x=\"t\",\n",
    "    y='c_mean',\n",
    "    error_y='c_std',\n",
    "    color=\"name\",\n",
    "    log_y=True,\n",
    "    trendline='ols',\n",
    "    trendline_options={'log_y': True, \"add_constant\": False},\n",
    ")\n",
    "\n",
    "\n",
    "\n",
    "\n",
    "fig.update_layout(\n",
    "    template=\"simple_white\", \n",
    "    height=330, \n",
    "    width=330, \n",
    "    # showlegend=False, \n",
    "    margin=dict(l=0, r=10, t=10, b=0),\n",
    "    font_family=\"Inter\",\n",
    "    legend_font_size=28/3,\n",
    ")\n",
    "fig.update_xaxes(\n",
    "    title_text='Time / d', \n",
    "    range=[-0.1, 7.5],\n",
    "    dtick=2,\n",
    "    title_font_family=\"Inter\", \n",
    "    title_font_size=28/3, \n",
    "    tickfont_size=28/3, \n",
    "    minor_ticks=\"outside\", \n",
    "    minor_dtick=1,\n",
    "    showexponent = 'all',\n",
    "    exponentformat = 'e'\n",
    ")\n",
    "fig.update_yaxes(\n",
    "    title_text='Relative concentration', \n",
    "    range=[-3, 0.5],\n",
    "    dtick=1, \n",
    "    title_font_family=\"Inter\", \n",
    "    title_font_size=28/3, \n",
    "    tickfont_size=28/3, \n",
    "    minor_ticks=\"outside\", \n",
    "    minor_dtick=0.5\n",
    ")\n",
    "\n",
    "fig.update_layout(legend=dict(\n",
    "    title=\"Pool\",\n",
    "    yanchor=\"top\",\n",
    "    y=1.0,\n",
    "    xanchor=\"right\",\n",
    "    x=1.0\n",
    "))\n",
    "\n",
    "fig.show()\n",
    "fig.write_image(\"decay.svg\")"
   ]
  },
  {
   "cell_type": "code",
   "execution_count": 11,
   "metadata": {},
   "outputs": [
    {
     "data": {
      "text/html": [
       "<div>\n",
       "<style scoped>\n",
       "    .dataframe tbody tr th:only-of-type {\n",
       "        vertical-align: middle;\n",
       "    }\n",
       "\n",
       "    .dataframe tbody tr th {\n",
       "        vertical-align: top;\n",
       "    }\n",
       "\n",
       "    .dataframe thead th {\n",
       "        text-align: right;\n",
       "    }\n",
       "</style>\n",
       "<table border=\"1\" class=\"dataframe\">\n",
       "  <thead>\n",
       "    <tr style=\"text-align: right;\">\n",
       "      <th></th>\n",
       "      <th>slope</th>\n",
       "      <th>slope_std</th>\n",
       "      <th>R2</th>\n",
       "      <th>k</th>\n",
       "      <th>k_std</th>\n",
       "      <th>tau</th>\n",
       "      <th>tau_std</th>\n",
       "    </tr>\n",
       "    <tr>\n",
       "      <th>name</th>\n",
       "      <th></th>\n",
       "      <th></th>\n",
       "      <th></th>\n",
       "      <th></th>\n",
       "      <th></th>\n",
       "      <th></th>\n",
       "      <th></th>\n",
       "    </tr>\n",
       "  </thead>\n",
       "  <tbody>\n",
       "    <tr>\n",
       "      <th>Genscript (GCall)</th>\n",
       "      <td>-0.322806</td>\n",
       "      <td>0.032176</td>\n",
       "      <td>0.971057</td>\n",
       "      <td>-0.743289</td>\n",
       "      <td>0.074088</td>\n",
       "      <td>0.932540</td>\n",
       "      <td>0.092951</td>\n",
       "    </tr>\n",
       "    <tr>\n",
       "      <th>Genscript (GCfix)</th>\n",
       "      <td>-0.312835</td>\n",
       "      <td>0.028564</td>\n",
       "      <td>0.975600</td>\n",
       "      <td>-0.720329</td>\n",
       "      <td>0.065771</td>\n",
       "      <td>0.962264</td>\n",
       "      <td>0.087861</td>\n",
       "    </tr>\n",
       "    <tr>\n",
       "      <th>Twist (GCall)</th>\n",
       "      <td>-0.302107</td>\n",
       "      <td>0.049700</td>\n",
       "      <td>0.924905</td>\n",
       "      <td>-0.695627</td>\n",
       "      <td>0.114438</td>\n",
       "      <td>0.996436</td>\n",
       "      <td>0.163925</td>\n",
       "    </tr>\n",
       "    <tr>\n",
       "      <th>Twist (GCfix)</th>\n",
       "      <td>-0.365316</td>\n",
       "      <td>0.051263</td>\n",
       "      <td>0.944222</td>\n",
       "      <td>-0.841171</td>\n",
       "      <td>0.118037</td>\n",
       "      <td>0.824026</td>\n",
       "      <td>0.115631</td>\n",
       "    </tr>\n",
       "  </tbody>\n",
       "</table>\n",
       "</div>"
      ],
      "text/plain": [
       "                      slope  slope_std        R2         k     k_std  \\\n",
       "name                                                                   \n",
       "Genscript (GCall) -0.322806   0.032176  0.971057 -0.743289  0.074088   \n",
       "Genscript (GCfix) -0.312835   0.028564  0.975600 -0.720329  0.065771   \n",
       "Twist (GCall)     -0.302107   0.049700  0.924905 -0.695627  0.114438   \n",
       "Twist (GCfix)     -0.365316   0.051263  0.944222 -0.841171  0.118037   \n",
       "\n",
       "                        tau   tau_std  \n",
       "name                                   \n",
       "Genscript (GCall)  0.932540  0.092951  \n",
       "Genscript (GCfix)  0.962264  0.087861  \n",
       "Twist (GCall)      0.996436  0.163925  \n",
       "Twist (GCfix)      0.824026  0.115631  "
      ]
     },
     "execution_count": 11,
     "metadata": {},
     "output_type": "execute_result"
    }
   ],
   "source": [
    "names = []\n",
    "slopes = []\n",
    "slope_std = []\n",
    "R2s = []\n",
    "\n",
    "for index, row in px.get_trendline_results(fig).iterrows():\n",
    "    names.append(row[0])\n",
    "    slopes.append(row[1].params[0])\n",
    "    slope_std.append(row[1].bse[0])\n",
    "    R2s.append(row[1].rsquared)\n",
    "\n",
    "decay = pd.DataFrame.from_dict({'name': names, 'slope': slopes, 'slope_std': slope_std, 'R2': R2s}).set_index('name')\n",
    "decay['k'] = decay.slope*np.log(10)\n",
    "decay['k_std'] = decay.slope_std*np.log(10)\n",
    "decay['tau'] = -np.log(2)/(decay.slope*np.log(10))\n",
    "decay['tau_std'] = -decay['tau']*decay.slope_std*np.log(10)/(decay.slope*np.log(10))\n",
    "decay"
   ]
  },
  {
   "cell_type": "code",
   "execution_count": 7,
   "metadata": {},
   "outputs": [
    {
     "data": {
      "text/html": [
       "<div>\n",
       "<style scoped>\n",
       "    .dataframe tbody tr th:only-of-type {\n",
       "        vertical-align: middle;\n",
       "    }\n",
       "\n",
       "    .dataframe tbody tr th {\n",
       "        vertical-align: top;\n",
       "    }\n",
       "\n",
       "    .dataframe thead th {\n",
       "        text-align: right;\n",
       "    }\n",
       "</style>\n",
       "<table border=\"1\" class=\"dataframe\">\n",
       "  <thead>\n",
       "    <tr style=\"text-align: right;\">\n",
       "      <th></th>\n",
       "      <th>name</th>\n",
       "      <th>t</th>\n",
       "      <th>c_mean</th>\n",
       "      <th>c_std</th>\n",
       "      <th>n_taus</th>\n",
       "    </tr>\n",
       "  </thead>\n",
       "  <tbody>\n",
       "    <tr>\n",
       "      <th>0</th>\n",
       "      <td>Genscript (GCall)</td>\n",
       "      <td>0.000000</td>\n",
       "      <td>1.000000</td>\n",
       "      <td>0.187495</td>\n",
       "      <td>0.000000</td>\n",
       "    </tr>\n",
       "    <tr>\n",
       "      <th>1</th>\n",
       "      <td>Genscript (GCall)</td>\n",
       "      <td>1.954833</td>\n",
       "      <td>0.113007</td>\n",
       "      <td>0.012505</td>\n",
       "      <td>2.096246</td>\n",
       "    </tr>\n",
       "    <tr>\n",
       "      <th>2</th>\n",
       "      <td>Genscript (GCall)</td>\n",
       "      <td>3.954833</td>\n",
       "      <td>0.105133</td>\n",
       "      <td>0.101023</td>\n",
       "      <td>4.240926</td>\n",
       "    </tr>\n",
       "    <tr>\n",
       "      <th>3</th>\n",
       "      <td>Genscript (GCall)</td>\n",
       "      <td>6.607625</td>\n",
       "      <td>0.006052</td>\n",
       "      <td>0.002785</td>\n",
       "      <td>7.085620</td>\n",
       "    </tr>\n",
       "    <tr>\n",
       "      <th>4</th>\n",
       "      <td>Genscript (GCfix)</td>\n",
       "      <td>0.000000</td>\n",
       "      <td>1.000000</td>\n",
       "      <td>0.043283</td>\n",
       "      <td>0.000000</td>\n",
       "    </tr>\n",
       "    <tr>\n",
       "      <th>5</th>\n",
       "      <td>Genscript (GCfix)</td>\n",
       "      <td>2.131917</td>\n",
       "      <td>0.083276</td>\n",
       "      <td>0.017034</td>\n",
       "      <td>2.215521</td>\n",
       "    </tr>\n",
       "    <tr>\n",
       "      <th>6</th>\n",
       "      <td>Genscript (GCfix)</td>\n",
       "      <td>4.972208</td>\n",
       "      <td>0.027200</td>\n",
       "      <td>0.005530</td>\n",
       "      <td>5.167197</td>\n",
       "    </tr>\n",
       "    <tr>\n",
       "      <th>7</th>\n",
       "      <td>Genscript (GCfix)</td>\n",
       "      <td>6.906250</td>\n",
       "      <td>0.009419</td>\n",
       "      <td>0.000868</td>\n",
       "      <td>7.177083</td>\n",
       "    </tr>\n",
       "    <tr>\n",
       "      <th>8</th>\n",
       "      <td>Twist (GCall)</td>\n",
       "      <td>0.000000</td>\n",
       "      <td>1.000000</td>\n",
       "      <td>0.283875</td>\n",
       "      <td>0.000000</td>\n",
       "    </tr>\n",
       "    <tr>\n",
       "      <th>9</th>\n",
       "      <td>Twist (GCall)</td>\n",
       "      <td>2.010375</td>\n",
       "      <td>0.073631</td>\n",
       "      <td>0.007801</td>\n",
       "      <td>2.017566</td>\n",
       "    </tr>\n",
       "    <tr>\n",
       "      <th>10</th>\n",
       "      <td>Twist (GCall)</td>\n",
       "      <td>4.028000</td>\n",
       "      <td>0.027635</td>\n",
       "      <td>0.012288</td>\n",
       "      <td>4.042409</td>\n",
       "    </tr>\n",
       "    <tr>\n",
       "      <th>11</th>\n",
       "      <td>Twist (GCall)</td>\n",
       "      <td>7.003500</td>\n",
       "      <td>0.017044</td>\n",
       "      <td>0.005421</td>\n",
       "      <td>7.028553</td>\n",
       "    </tr>\n",
       "    <tr>\n",
       "      <th>12</th>\n",
       "      <td>Twist (GCfix)</td>\n",
       "      <td>0.000000</td>\n",
       "      <td>1.000000</td>\n",
       "      <td>0.020953</td>\n",
       "      <td>0.000000</td>\n",
       "    </tr>\n",
       "    <tr>\n",
       "      <th>13</th>\n",
       "      <td>Twist (GCfix)</td>\n",
       "      <td>2.010375</td>\n",
       "      <td>0.035387</td>\n",
       "      <td>0.023586</td>\n",
       "      <td>2.439698</td>\n",
       "    </tr>\n",
       "    <tr>\n",
       "      <th>14</th>\n",
       "      <td>Twist (GCfix)</td>\n",
       "      <td>4.028000</td>\n",
       "      <td>0.044073</td>\n",
       "      <td>0.041015</td>\n",
       "      <td>4.888194</td>\n",
       "    </tr>\n",
       "    <tr>\n",
       "      <th>15</th>\n",
       "      <td>Twist (GCfix)</td>\n",
       "      <td>7.003500</td>\n",
       "      <td>0.003808</td>\n",
       "      <td>0.001767</td>\n",
       "      <td>8.499122</td>\n",
       "    </tr>\n",
       "  </tbody>\n",
       "</table>\n",
       "</div>"
      ],
      "text/plain": [
       "                 name         t    c_mean     c_std    n_taus\n",
       "0   Genscript (GCall)  0.000000  1.000000  0.187495  0.000000\n",
       "1   Genscript (GCall)  1.954833  0.113007  0.012505  2.096246\n",
       "2   Genscript (GCall)  3.954833  0.105133  0.101023  4.240926\n",
       "3   Genscript (GCall)  6.607625  0.006052  0.002785  7.085620\n",
       "4   Genscript (GCfix)  0.000000  1.000000  0.043283  0.000000\n",
       "5   Genscript (GCfix)  2.131917  0.083276  0.017034  2.215521\n",
       "6   Genscript (GCfix)  4.972208  0.027200  0.005530  5.167197\n",
       "7   Genscript (GCfix)  6.906250  0.009419  0.000868  7.177083\n",
       "8       Twist (GCall)  0.000000  1.000000  0.283875  0.000000\n",
       "9       Twist (GCall)  2.010375  0.073631  0.007801  2.017566\n",
       "10      Twist (GCall)  4.028000  0.027635  0.012288  4.042409\n",
       "11      Twist (GCall)  7.003500  0.017044  0.005421  7.028553\n",
       "12      Twist (GCfix)  0.000000  1.000000  0.020953  0.000000\n",
       "13      Twist (GCfix)  2.010375  0.035387  0.023586  2.439698\n",
       "14      Twist (GCfix)  4.028000  0.044073  0.041015  4.888194\n",
       "15      Twist (GCfix)  7.003500  0.003808  0.001767  8.499122"
      ]
     },
     "execution_count": 7,
     "metadata": {},
     "output_type": "execute_result"
    }
   ],
   "source": [
    "for name in df_aggregate.name.unique():\n",
    "    tau = decay.loc[name, 'tau']\n",
    "    df_aggregate.loc[df_aggregate.name == name, 'n_taus'] = df_aggregate.loc[df_aggregate.name == name, 't']/tau\n",
    "\n",
    "df_aggregate"
   ]
  }
 ],
 "metadata": {
  "kernelspec": {
   "display_name": "np_pd_sp",
   "language": "python",
   "name": "python3"
  },
  "language_info": {
   "codemirror_mode": {
    "name": "ipython",
    "version": 3
   },
   "file_extension": ".py",
   "mimetype": "text/x-python",
   "name": "python",
   "nbconvert_exporter": "python",
   "pygments_lexer": "ipython3",
   "version": "3.9.7"
  },
  "orig_nbformat": 4
 },
 "nbformat": 4,
 "nbformat_minor": 2
}
