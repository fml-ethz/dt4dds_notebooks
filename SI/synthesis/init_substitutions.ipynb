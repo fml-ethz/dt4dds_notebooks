{
 "cells": [
  {
   "cell_type": "code",
   "execution_count": 2,
   "metadata": {},
   "outputs": [],
   "source": [
    "import pandas as pd\n",
    "import numpy as np\n",
    "import statsmodels.formula.api as smf\n",
    "import statsmodels.api as sm\n",
    "import plotly.express as px\n",
    "import plotly.graph_objects as pg\n",
    "\n",
    "seq_sub_rate = (0.0011+0.0025)/2"
   ]
  },
  {
   "cell_type": "code",
   "execution_count": 3,
   "metadata": {},
   "outputs": [],
   "source": [
    "%load_ext autoreload\n",
    "%autoreload 2\n",
    "import dt4dds.analysis as analysis\n",
    "\n",
    "data = analysis.SeriesAnalysis([\n",
    "    ('Genscript_GCall', 15, analysis.ErrorAnalysis(\"../../data/PCR/15c_Genscript_GCall\")),\n",
    "    ('Genscript_GCall', 20, analysis.ErrorAnalysis(\"../../data/PCR/20c_Genscript_GCall\")),\n",
    "    ('Genscript_GCall', 25, analysis.ErrorAnalysis(\"../../data/PCR/25c_Genscript_GCall\")),\n",
    "    ('Genscript_GCall', 30, analysis.ErrorAnalysis(\"../../data/PCR/30c_Genscript_GCall\")),\n",
    "    ('Genscript_GCfix', 10, analysis.ErrorAnalysis(\"../../data/PCR/10c_Genscript_GCfix\")),\n",
    "    ('Genscript_GCfix', 15, analysis.ErrorAnalysis(\"../../data/PCR/15c_Genscript_GCfix\")),\n",
    "    ('Genscript_GCfix', 20, analysis.ErrorAnalysis(\"../../data/PCR/20c_Genscript_GCfix\")),\n",
    "    ('Genscript_GCfix', 25, analysis.ErrorAnalysis(\"../../data/PCR/25c_Genscript_GCfix\")),\n",
    "    ('Twist_GCall', 15, analysis.ErrorAnalysis(\"../../data/PCR/15c_Twist_GCall\")),\n",
    "    ('Twist_GCall', 30, analysis.ErrorAnalysis(\"../../data/PCR/30c_Twist_GCall\")),\n",
    "    ('Twist_GCall', 45, analysis.ErrorAnalysis(\"../../data/PCR/45c_Twist_GCall\")),\n",
    "    ('Twist_GCall', 60, analysis.ErrorAnalysis(\"../../data/PCR/60c_Twist_GCall\")),\n",
    "    ('Twist_GCall', 75, analysis.ErrorAnalysis(\"../../data/PCR/75c_Twist_GCall\")),\n",
    "    ('Twist_GCall', 90, analysis.ErrorAnalysis(\"../../data/PCR/90c_Twist_GCall\")),\n",
    "    ('Twist_GCfix', 15, analysis.ErrorAnalysis(\"../../data/PCR/15c_Twist_GCfix\")),\n",
    "    ('Twist_GCfix', 30, analysis.ErrorAnalysis(\"../../data/PCR/30c_Twist_GCfix\")),\n",
    "    ('Twist_GCfix', 45, analysis.ErrorAnalysis(\"../../data/PCR/45c_Twist_GCfix\")),\n",
    "    ('Twist_GCfix', 60, analysis.ErrorAnalysis(\"../../data/PCR/60c_Twist_GCfix\")),\n",
    "    ('Twist_GCfix', 75, analysis.ErrorAnalysis(\"../../data/PCR/75c_Twist_GCfix\")),\n",
    "    ('Twist_GCfix', 90, analysis.ErrorAnalysis(\"../../data/PCR/90c_Twist_GCfix\")),\n",
    "])"
   ]
  },
  {
   "cell_type": "code",
   "execution_count": 4,
   "metadata": {},
   "outputs": [],
   "source": [
    "alldf = data.data[f\"overall_error_rates\"].loc[data.data[f\"overall_error_rates\"]['type'] == \"substitutions\"].copy()\n",
    "alldf[['synthesis', 'GC']] = alldf.group.str.split('_', expand=True)"
   ]
  },
  {
   "cell_type": "code",
   "execution_count": 5,
   "metadata": {},
   "outputs": [
    {
     "name": "stderr",
     "output_type": "stream",
     "text": [
      "c:\\Users\\agimpel\\Envs\\dt4dds\\lib\\site-packages\\scipy\\stats\\_stats_py.py:1736: UserWarning:\n",
      "\n",
      "kurtosistest only valid for n>=20 ... continuing anyway, n=16\n",
      "\n"
     ]
    },
    {
     "data": {
      "text/html": [
       "<table class=\"simpletable\">\n",
       "<caption>OLS Regression Results</caption>\n",
       "<tr>\n",
       "  <th>Dep. Variable:</th>          <td>rate</td>       <th>  R-squared:         </th> <td>   0.884</td>\n",
       "</tr>\n",
       "<tr>\n",
       "  <th>Model:</th>                   <td>OLS</td>       <th>  Adj. R-squared:    </th> <td>   0.876</td>\n",
       "</tr>\n",
       "<tr>\n",
       "  <th>Method:</th>             <td>Least Squares</td>  <th>  F-statistic:       </th> <td>   106.7</td>\n",
       "</tr>\n",
       "<tr>\n",
       "  <th>Date:</th>             <td>Wed, 21 Jun 2023</td> <th>  Prob (F-statistic):</th> <td>6.23e-08</td>\n",
       "</tr>\n",
       "<tr>\n",
       "  <th>Time:</th>                 <td>12:36:18</td>     <th>  Log-Likelihood:    </th> <td>  100.17</td>\n",
       "</tr>\n",
       "<tr>\n",
       "  <th>No. Observations:</th>      <td>    16</td>      <th>  AIC:               </th> <td>  -196.3</td>\n",
       "</tr>\n",
       "<tr>\n",
       "  <th>Df Residuals:</th>          <td>    14</td>      <th>  BIC:               </th> <td>  -194.8</td>\n",
       "</tr>\n",
       "<tr>\n",
       "  <th>Df Model:</th>              <td>     1</td>      <th>                     </th>     <td> </td>   \n",
       "</tr>\n",
       "<tr>\n",
       "  <th>Covariance Type:</th>      <td>nonrobust</td>    <th>                     </th>     <td> </td>   \n",
       "</tr>\n",
       "</table>\n",
       "<table class=\"simpletable\">\n",
       "<tr>\n",
       "       <td></td>         <th>coef</th>     <th>std err</th>      <th>t</th>      <th>P>|t|</th>  <th>[0.025</th>    <th>0.975]</th>  \n",
       "</tr>\n",
       "<tr>\n",
       "  <th>Intercept</th>  <td>    0.0027</td> <td>    0.000</td> <td>    6.462</td> <td> 0.000</td> <td>    0.002</td> <td>    0.004</td>\n",
       "</tr>\n",
       "<tr>\n",
       "  <th>series_var</th> <td>    0.0002</td> <td> 2.02e-05</td> <td>   10.331</td> <td> 0.000</td> <td>    0.000</td> <td>    0.000</td>\n",
       "</tr>\n",
       "</table>\n",
       "<table class=\"simpletable\">\n",
       "<tr>\n",
       "  <th>Omnibus:</th>       <td> 1.504</td> <th>  Durbin-Watson:     </th> <td>   3.427</td>\n",
       "</tr>\n",
       "<tr>\n",
       "  <th>Prob(Omnibus):</th> <td> 0.471</td> <th>  Jarque-Bera (JB):  </th> <td>   1.099</td>\n",
       "</tr>\n",
       "<tr>\n",
       "  <th>Skew:</th>          <td> 0.406</td> <th>  Prob(JB):          </th> <td>   0.577</td>\n",
       "</tr>\n",
       "<tr>\n",
       "  <th>Kurtosis:</th>      <td> 2.006</td> <th>  Cond. No.          </th> <td>    71.6</td>\n",
       "</tr>\n",
       "</table><br/><br/>Notes:<br/>[1] Standard Errors assume that the covariance matrix of the errors is correctly specified."
      ],
      "text/latex": [
       "\\begin{center}\n",
       "\\begin{tabular}{lclc}\n",
       "\\toprule\n",
       "\\textbf{Dep. Variable:}    &       rate       & \\textbf{  R-squared:         } &     0.884   \\\\\n",
       "\\textbf{Model:}            &       OLS        & \\textbf{  Adj. R-squared:    } &     0.876   \\\\\n",
       "\\textbf{Method:}           &  Least Squares   & \\textbf{  F-statistic:       } &     106.7   \\\\\n",
       "\\textbf{Date:}             & Wed, 21 Jun 2023 & \\textbf{  Prob (F-statistic):} &  6.23e-08   \\\\\n",
       "\\textbf{Time:}             &     12:36:18     & \\textbf{  Log-Likelihood:    } &    100.17   \\\\\n",
       "\\textbf{No. Observations:} &          16      & \\textbf{  AIC:               } &    -196.3   \\\\\n",
       "\\textbf{Df Residuals:}     &          14      & \\textbf{  BIC:               } &    -194.8   \\\\\n",
       "\\textbf{Df Model:}         &           1      & \\textbf{                     } &             \\\\\n",
       "\\textbf{Covariance Type:}  &    nonrobust     & \\textbf{                     } &             \\\\\n",
       "\\bottomrule\n",
       "\\end{tabular}\n",
       "\\begin{tabular}{lcccccc}\n",
       "                     & \\textbf{coef} & \\textbf{std err} & \\textbf{t} & \\textbf{P$> |$t$|$} & \\textbf{[0.025} & \\textbf{0.975]}  \\\\\n",
       "\\midrule\n",
       "\\textbf{Intercept}   &       0.0027  &        0.000     &     6.462  &         0.000        &        0.002    &        0.004     \\\\\n",
       "\\textbf{series\\_var} &       0.0002  &     2.02e-05     &    10.331  &         0.000        &        0.000    &        0.000     \\\\\n",
       "\\bottomrule\n",
       "\\end{tabular}\n",
       "\\begin{tabular}{lclc}\n",
       "\\textbf{Omnibus:}       &  1.504 & \\textbf{  Durbin-Watson:     } &    3.427  \\\\\n",
       "\\textbf{Prob(Omnibus):} &  0.471 & \\textbf{  Jarque-Bera (JB):  } &    1.099  \\\\\n",
       "\\textbf{Skew:}          &  0.406 & \\textbf{  Prob(JB):          } &    0.577  \\\\\n",
       "\\textbf{Kurtosis:}      &  2.006 & \\textbf{  Cond. No.          } &     71.6  \\\\\n",
       "\\bottomrule\n",
       "\\end{tabular}\n",
       "%\\caption{OLS Regression Results}\n",
       "\\end{center}\n",
       "\n",
       "Notes: \\newline\n",
       " [1] Standard Errors assume that the covariance matrix of the errors is correctly specified."
      ],
      "text/plain": [
       "<class 'statsmodels.iolib.summary.Summary'>\n",
       "\"\"\"\n",
       "                            OLS Regression Results                            \n",
       "==============================================================================\n",
       "Dep. Variable:                   rate   R-squared:                       0.884\n",
       "Model:                            OLS   Adj. R-squared:                  0.876\n",
       "Method:                 Least Squares   F-statistic:                     106.7\n",
       "Date:                Wed, 21 Jun 2023   Prob (F-statistic):           6.23e-08\n",
       "Time:                        12:36:18   Log-Likelihood:                 100.17\n",
       "No. Observations:                  16   AIC:                            -196.3\n",
       "Df Residuals:                      14   BIC:                            -194.8\n",
       "Df Model:                           1                                         \n",
       "Covariance Type:            nonrobust                                         \n",
       "==============================================================================\n",
       "                 coef    std err          t      P>|t|      [0.025      0.975]\n",
       "------------------------------------------------------------------------------\n",
       "Intercept      0.0027      0.000      6.462      0.000       0.002       0.004\n",
       "series_var     0.0002   2.02e-05     10.331      0.000       0.000       0.000\n",
       "==============================================================================\n",
       "Omnibus:                        1.504   Durbin-Watson:                   3.427\n",
       "Prob(Omnibus):                  0.471   Jarque-Bera (JB):                1.099\n",
       "Skew:                           0.406   Prob(JB):                        0.577\n",
       "Kurtosis:                       2.006   Cond. No.                         71.6\n",
       "==============================================================================\n",
       "\n",
       "Notes:\n",
       "[1] Standard Errors assume that the covariance matrix of the errors is correctly specified.\n",
       "\"\"\""
      ]
     },
     "metadata": {},
     "output_type": "display_data"
    },
    {
     "name": "stderr",
     "output_type": "stream",
     "text": [
      "c:\\Users\\agimpel\\Envs\\dt4dds\\lib\\site-packages\\scipy\\stats\\_stats_py.py:1736: UserWarning:\n",
      "\n",
      "kurtosistest only valid for n>=20 ... continuing anyway, n=16\n",
      "\n"
     ]
    },
    {
     "data": {
      "text/html": [
       "<div>\n",
       "<style scoped>\n",
       "    .dataframe tbody tr th:only-of-type {\n",
       "        vertical-align: middle;\n",
       "    }\n",
       "\n",
       "    .dataframe tbody tr th {\n",
       "        vertical-align: top;\n",
       "    }\n",
       "\n",
       "    .dataframe thead th {\n",
       "        text-align: right;\n",
       "    }\n",
       "</style>\n",
       "<table border=\"1\" class=\"dataframe\">\n",
       "  <thead>\n",
       "    <tr style=\"text-align: right;\">\n",
       "      <th></th>\n",
       "      <th>Coef.</th>\n",
       "      <th>Std.Err.</th>\n",
       "      <th>t</th>\n",
       "      <th>P&gt;|t|</th>\n",
       "      <th>[0.025</th>\n",
       "      <th>0.975]</th>\n",
       "    </tr>\n",
       "  </thead>\n",
       "  <tbody>\n",
       "    <tr>\n",
       "      <th>Intercept</th>\n",
       "      <td>0.002726</td>\n",
       "      <td>0.000422</td>\n",
       "      <td>6.462401</td>\n",
       "      <td>1.491703e-05</td>\n",
       "      <td>0.001821</td>\n",
       "      <td>0.003631</td>\n",
       "    </tr>\n",
       "    <tr>\n",
       "      <th>series_var</th>\n",
       "      <td>0.000208</td>\n",
       "      <td>0.000020</td>\n",
       "      <td>10.330715</td>\n",
       "      <td>6.233656e-08</td>\n",
       "      <td>0.000165</td>\n",
       "      <td>0.000252</td>\n",
       "    </tr>\n",
       "  </tbody>\n",
       "</table>\n",
       "</div>"
      ],
      "text/plain": [
       "               Coef.  Std.Err.          t         P>|t|    [0.025    0.975]\n",
       "Intercept   0.002726  0.000422   6.462401  1.491703e-05  0.001821  0.003631\n",
       "series_var  0.000208  0.000020  10.330715  6.233656e-08  0.000165  0.000252"
      ]
     },
     "metadata": {},
     "output_type": "display_data"
    },
    {
     "data": {
      "text/html": [
       "<table class=\"simpletable\">\n",
       "<caption>OLS Regression Results</caption>\n",
       "<tr>\n",
       "  <th>Dep. Variable:</th>          <td>rate</td>       <th>  R-squared:         </th> <td>   0.991</td>\n",
       "</tr>\n",
       "<tr>\n",
       "  <th>Model:</th>                   <td>OLS</td>       <th>  Adj. R-squared:    </th> <td>   0.991</td>\n",
       "</tr>\n",
       "<tr>\n",
       "  <th>Method:</th>             <td>Least Squares</td>  <th>  F-statistic:       </th> <td>   2560.</td>\n",
       "</tr>\n",
       "<tr>\n",
       "  <th>Date:</th>             <td>Wed, 21 Jun 2023</td> <th>  Prob (F-statistic):</th> <td>2.90e-24</td>\n",
       "</tr>\n",
       "<tr>\n",
       "  <th>Time:</th>                 <td>12:36:18</td>     <th>  Log-Likelihood:    </th> <td>  164.08</td>\n",
       "</tr>\n",
       "<tr>\n",
       "  <th>No. Observations:</th>      <td>    24</td>      <th>  AIC:               </th> <td>  -324.2</td>\n",
       "</tr>\n",
       "<tr>\n",
       "  <th>Df Residuals:</th>          <td>    22</td>      <th>  BIC:               </th> <td>  -321.8</td>\n",
       "</tr>\n",
       "<tr>\n",
       "  <th>Df Model:</th>              <td>     1</td>      <th>                     </th>     <td> </td>   \n",
       "</tr>\n",
       "<tr>\n",
       "  <th>Covariance Type:</th>      <td>nonrobust</td>    <th>                     </th>     <td> </td>   \n",
       "</tr>\n",
       "</table>\n",
       "<table class=\"simpletable\">\n",
       "<tr>\n",
       "       <td></td>         <th>coef</th>     <th>std err</th>      <th>t</th>      <th>P>|t|</th>  <th>[0.025</th>    <th>0.975]</th>  \n",
       "</tr>\n",
       "<tr>\n",
       "  <th>Intercept</th>  <td>    0.0025</td> <td>    0.000</td> <td>   19.599</td> <td> 0.000</td> <td>    0.002</td> <td>    0.003</td>\n",
       "</tr>\n",
       "<tr>\n",
       "  <th>series_var</th> <td>    0.0001</td> <td> 2.16e-06</td> <td>   50.594</td> <td> 0.000</td> <td>    0.000</td> <td>    0.000</td>\n",
       "</tr>\n",
       "</table>\n",
       "<table class=\"simpletable\">\n",
       "<tr>\n",
       "  <th>Omnibus:</th>       <td> 1.352</td> <th>  Durbin-Watson:     </th> <td>   2.853</td>\n",
       "</tr>\n",
       "<tr>\n",
       "  <th>Prob(Omnibus):</th> <td> 0.509</td> <th>  Jarque-Bera (JB):  </th> <td>   0.906</td>\n",
       "</tr>\n",
       "<tr>\n",
       "  <th>Skew:</th>          <td>-0.062</td> <th>  Prob(JB):          </th> <td>   0.636</td>\n",
       "</tr>\n",
       "<tr>\n",
       "  <th>Kurtosis:</th>      <td> 2.056</td> <th>  Cond. No.          </th> <td>    133.</td>\n",
       "</tr>\n",
       "</table><br/><br/>Notes:<br/>[1] Standard Errors assume that the covariance matrix of the errors is correctly specified."
      ],
      "text/latex": [
       "\\begin{center}\n",
       "\\begin{tabular}{lclc}\n",
       "\\toprule\n",
       "\\textbf{Dep. Variable:}    &       rate       & \\textbf{  R-squared:         } &     0.991   \\\\\n",
       "\\textbf{Model:}            &       OLS        & \\textbf{  Adj. R-squared:    } &     0.991   \\\\\n",
       "\\textbf{Method:}           &  Least Squares   & \\textbf{  F-statistic:       } &     2560.   \\\\\n",
       "\\textbf{Date:}             & Wed, 21 Jun 2023 & \\textbf{  Prob (F-statistic):} &  2.90e-24   \\\\\n",
       "\\textbf{Time:}             &     12:36:18     & \\textbf{  Log-Likelihood:    } &    164.08   \\\\\n",
       "\\textbf{No. Observations:} &          24      & \\textbf{  AIC:               } &    -324.2   \\\\\n",
       "\\textbf{Df Residuals:}     &          22      & \\textbf{  BIC:               } &    -321.8   \\\\\n",
       "\\textbf{Df Model:}         &           1      & \\textbf{                     } &             \\\\\n",
       "\\textbf{Covariance Type:}  &    nonrobust     & \\textbf{                     } &             \\\\\n",
       "\\bottomrule\n",
       "\\end{tabular}\n",
       "\\begin{tabular}{lcccccc}\n",
       "                     & \\textbf{coef} & \\textbf{std err} & \\textbf{t} & \\textbf{P$> |$t$|$} & \\textbf{[0.025} & \\textbf{0.975]}  \\\\\n",
       "\\midrule\n",
       "\\textbf{Intercept}   &       0.0025  &        0.000     &    19.599  &         0.000        &        0.002    &        0.003     \\\\\n",
       "\\textbf{series\\_var} &       0.0001  &     2.16e-06     &    50.594  &         0.000        &        0.000    &        0.000     \\\\\n",
       "\\bottomrule\n",
       "\\end{tabular}\n",
       "\\begin{tabular}{lclc}\n",
       "\\textbf{Omnibus:}       &  1.352 & \\textbf{  Durbin-Watson:     } &    2.853  \\\\\n",
       "\\textbf{Prob(Omnibus):} &  0.509 & \\textbf{  Jarque-Bera (JB):  } &    0.906  \\\\\n",
       "\\textbf{Skew:}          & -0.062 & \\textbf{  Prob(JB):          } &    0.636  \\\\\n",
       "\\textbf{Kurtosis:}      &  2.056 & \\textbf{  Cond. No.          } &     133.  \\\\\n",
       "\\bottomrule\n",
       "\\end{tabular}\n",
       "%\\caption{OLS Regression Results}\n",
       "\\end{center}\n",
       "\n",
       "Notes: \\newline\n",
       " [1] Standard Errors assume that the covariance matrix of the errors is correctly specified."
      ],
      "text/plain": [
       "<class 'statsmodels.iolib.summary.Summary'>\n",
       "\"\"\"\n",
       "                            OLS Regression Results                            \n",
       "==============================================================================\n",
       "Dep. Variable:                   rate   R-squared:                       0.991\n",
       "Model:                            OLS   Adj. R-squared:                  0.991\n",
       "Method:                 Least Squares   F-statistic:                     2560.\n",
       "Date:                Wed, 21 Jun 2023   Prob (F-statistic):           2.90e-24\n",
       "Time:                        12:36:18   Log-Likelihood:                 164.08\n",
       "No. Observations:                  24   AIC:                            -324.2\n",
       "Df Residuals:                      22   BIC:                            -321.8\n",
       "Df Model:                           1                                         \n",
       "Covariance Type:            nonrobust                                         \n",
       "==============================================================================\n",
       "                 coef    std err          t      P>|t|      [0.025      0.975]\n",
       "------------------------------------------------------------------------------\n",
       "Intercept      0.0025      0.000     19.599      0.000       0.002       0.003\n",
       "series_var     0.0001   2.16e-06     50.594      0.000       0.000       0.000\n",
       "==============================================================================\n",
       "Omnibus:                        1.352   Durbin-Watson:                   2.853\n",
       "Prob(Omnibus):                  0.509   Jarque-Bera (JB):                0.906\n",
       "Skew:                          -0.062   Prob(JB):                        0.636\n",
       "Kurtosis:                       2.056   Cond. No.                         133.\n",
       "==============================================================================\n",
       "\n",
       "Notes:\n",
       "[1] Standard Errors assume that the covariance matrix of the errors is correctly specified.\n",
       "\"\"\""
      ]
     },
     "metadata": {},
     "output_type": "display_data"
    },
    {
     "data": {
      "text/html": [
       "<div>\n",
       "<style scoped>\n",
       "    .dataframe tbody tr th:only-of-type {\n",
       "        vertical-align: middle;\n",
       "    }\n",
       "\n",
       "    .dataframe tbody tr th {\n",
       "        vertical-align: top;\n",
       "    }\n",
       "\n",
       "    .dataframe thead th {\n",
       "        text-align: right;\n",
       "    }\n",
       "</style>\n",
       "<table border=\"1\" class=\"dataframe\">\n",
       "  <thead>\n",
       "    <tr style=\"text-align: right;\">\n",
       "      <th></th>\n",
       "      <th>Coef.</th>\n",
       "      <th>Std.Err.</th>\n",
       "      <th>t</th>\n",
       "      <th>P&gt;|t|</th>\n",
       "      <th>[0.025</th>\n",
       "      <th>0.975]</th>\n",
       "    </tr>\n",
       "  </thead>\n",
       "  <tbody>\n",
       "    <tr>\n",
       "      <th>Intercept</th>\n",
       "      <td>0.002475</td>\n",
       "      <td>0.000126</td>\n",
       "      <td>19.598768</td>\n",
       "      <td>2.034264e-15</td>\n",
       "      <td>0.002213</td>\n",
       "      <td>0.002737</td>\n",
       "    </tr>\n",
       "    <tr>\n",
       "      <th>series_var</th>\n",
       "      <td>0.000109</td>\n",
       "      <td>0.000002</td>\n",
       "      <td>50.594325</td>\n",
       "      <td>2.904193e-24</td>\n",
       "      <td>0.000105</td>\n",
       "      <td>0.000114</td>\n",
       "    </tr>\n",
       "  </tbody>\n",
       "</table>\n",
       "</div>"
      ],
      "text/plain": [
       "               Coef.  Std.Err.          t         P>|t|    [0.025    0.975]\n",
       "Intercept   0.002475  0.000126  19.598768  2.034264e-15  0.002213  0.002737\n",
       "series_var  0.000109  0.000002  50.594325  2.904193e-24  0.000105  0.000114"
      ]
     },
     "metadata": {},
     "output_type": "display_data"
    },
    {
     "data": {
      "application/vnd.plotly.v1+json": {
       "config": {
        "plotlyServerURL": "https://plot.ly"
       },
       "data": [
        {
         "hovertemplate": "synthesis=Genscript<br>read=1<br>series_var=%{x}<br>rate=%{y}<extra></extra>",
         "legendgroup": "Genscript, 1",
         "marker": {
          "color": "#6baed6",
          "symbol": "circle"
         },
         "mode": "markers",
         "name": "Genscript, 1",
         "orientation": "v",
         "showlegend": true,
         "type": "scatter",
         "x": [
          15,
          20,
          25,
          30,
          10,
          15,
          20,
          25
         ],
         "xaxis": "x",
         "y": [
          0.00579502237395194,
          0.006314717799717533,
          0.007660051666351579,
          0.008516263313406503,
          0.004396251870818666,
          0.005343696462906858,
          0.006603428940169044,
          0.007344935268355711
         ],
         "yaxis": "y"
        },
        {
         "hovertemplate": "synthesis=Genscript<br>read=2<br>series_var=%{x}<br>rate=%{y}<extra></extra>",
         "legendgroup": "Genscript, 2",
         "marker": {
          "color": "#6baed6",
          "symbol": "diamond"
         },
         "mode": "markers",
         "name": "Genscript, 2",
         "orientation": "v",
         "showlegend": true,
         "type": "scatter",
         "x": [
          15,
          20,
          25,
          30,
          10,
          15,
          20,
          25
         ],
         "xaxis": "x",
         "y": [
          0.006757865002580246,
          0.007274975811224003,
          0.0086751181509956,
          0.009480021457768587,
          0.005000764759093448,
          0.005933330333277869,
          0.007236934439412706,
          0.007952282323218663
         ],
         "yaxis": "y"
        },
        {
         "hovertemplate": "synthesis=Twist<br>read=1<br>series_var=%{x}<br>rate=%{y}<extra></extra>",
         "legendgroup": "Twist, 1",
         "marker": {
          "color": "#fb6a4a",
          "symbol": "circle"
         },
         "mode": "markers",
         "name": "Twist, 1",
         "orientation": "v",
         "showlegend": true,
         "type": "scatter",
         "x": [
          15,
          30,
          45,
          60,
          75,
          90,
          15,
          30,
          45,
          60,
          75,
          90
         ],
         "xaxis": "x",
         "y": [
          0.003636443150763648,
          0.005689052548851926,
          0.007006444407641768,
          0.008931328576932091,
          0.010505456875019286,
          0.011871423974303423,
          0.003919681702311748,
          0.005642736241149997,
          0.0072057715851740626,
          0.009021781222128778,
          0.010562587303043389,
          0.01206881790393473
         ],
         "yaxis": "y"
        },
        {
         "hovertemplate": "synthesis=Twist<br>read=2<br>series_var=%{x}<br>rate=%{y}<extra></extra>",
         "legendgroup": "Twist, 2",
         "marker": {
          "color": "#fb6a4a",
          "symbol": "diamond"
         },
         "mode": "markers",
         "name": "Twist, 2",
         "orientation": "v",
         "showlegend": true,
         "type": "scatter",
         "x": [
          15,
          30,
          45,
          60,
          75,
          90,
          15,
          30,
          45,
          60,
          75,
          90
         ],
         "xaxis": "x",
         "y": [
          0.0040629836030334245,
          0.006150199198543202,
          0.007445549921169234,
          0.009365097786768209,
          0.01094693710727466,
          0.012293608858927252,
          0.004303494949486458,
          0.006077064973870066,
          0.0076210182244830105,
          0.009482836908825143,
          0.010947629964547028,
          0.012487035666280158
         ],
         "yaxis": "y"
        },
        {
         "line": {
          "color": "#08519c",
          "width": 2.5
         },
         "mode": "lines",
         "showlegend": false,
         "type": "scatter",
         "x": [
          0,
          10,
          20,
          30,
          40,
          50,
          60,
          70,
          80,
          90
         ],
         "y": [
          0.0027260188285396295,
          0.004809436288433845,
          0.006892853748328061,
          0.008976271208222277,
          0.011059688668116492,
          0.013143106128010708,
          0.015226523587904923,
          0.01730994104779914,
          0.019393358507693356,
          0.02147677596758757
         ]
        },
        {
         "line": {
          "color": "#a50f15",
          "width": 2.5
         },
         "mode": "lines",
         "showlegend": false,
         "type": "scatter",
         "x": [
          0,
          10,
          20,
          30,
          40,
          50,
          60,
          70,
          80,
          90
         ],
         "y": [
          0.002475432188739822,
          0.0035693576659200357,
          0.004663283143100249,
          0.005757208620280463,
          0.006851134097460677,
          0.007945059574640891,
          0.009038985051821104,
          0.010132910529001317,
          0.011226836006181531,
          0.012320761483361746
         ]
        }
       ],
       "layout": {
        "font": {
         "family": "Inter"
        },
        "height": 330,
        "legend": {
         "font": {
          "size": 9.333333333333334
         },
         "title": {
          "text": "synthesis, read"
         },
         "tracegroupgap": 0
        },
        "margin": {
         "b": 0,
         "l": 0,
         "r": 10,
         "t": 20
        },
        "shapes": [
         {
          "line": {
           "dash": "dash",
           "width": 2
          },
          "type": "line",
          "x0": 0,
          "x1": 1,
          "xref": "x domain",
          "y0": 0.0018,
          "y1": 0.0018,
          "yref": "y"
         }
        ],
        "showlegend": false,
        "template": {
         "data": {
          "bar": [
           {
            "error_x": {
             "color": "rgb(36,36,36)"
            },
            "error_y": {
             "color": "rgb(36,36,36)"
            },
            "marker": {
             "line": {
              "color": "white",
              "width": 0.5
             },
             "pattern": {
              "fillmode": "overlay",
              "size": 10,
              "solidity": 0.2
             }
            },
            "type": "bar"
           }
          ],
          "barpolar": [
           {
            "marker": {
             "line": {
              "color": "white",
              "width": 0.5
             },
             "pattern": {
              "fillmode": "overlay",
              "size": 10,
              "solidity": 0.2
             }
            },
            "type": "barpolar"
           }
          ],
          "carpet": [
           {
            "aaxis": {
             "endlinecolor": "rgb(36,36,36)",
             "gridcolor": "white",
             "linecolor": "white",
             "minorgridcolor": "white",
             "startlinecolor": "rgb(36,36,36)"
            },
            "baxis": {
             "endlinecolor": "rgb(36,36,36)",
             "gridcolor": "white",
             "linecolor": "white",
             "minorgridcolor": "white",
             "startlinecolor": "rgb(36,36,36)"
            },
            "type": "carpet"
           }
          ],
          "choropleth": [
           {
            "colorbar": {
             "outlinewidth": 1,
             "tickcolor": "rgb(36,36,36)",
             "ticks": "outside"
            },
            "type": "choropleth"
           }
          ],
          "contour": [
           {
            "colorbar": {
             "outlinewidth": 1,
             "tickcolor": "rgb(36,36,36)",
             "ticks": "outside"
            },
            "colorscale": [
             [
              0,
              "#440154"
             ],
             [
              0.1111111111111111,
              "#482878"
             ],
             [
              0.2222222222222222,
              "#3e4989"
             ],
             [
              0.3333333333333333,
              "#31688e"
             ],
             [
              0.4444444444444444,
              "#26828e"
             ],
             [
              0.5555555555555556,
              "#1f9e89"
             ],
             [
              0.6666666666666666,
              "#35b779"
             ],
             [
              0.7777777777777778,
              "#6ece58"
             ],
             [
              0.8888888888888888,
              "#b5de2b"
             ],
             [
              1,
              "#fde725"
             ]
            ],
            "type": "contour"
           }
          ],
          "contourcarpet": [
           {
            "colorbar": {
             "outlinewidth": 1,
             "tickcolor": "rgb(36,36,36)",
             "ticks": "outside"
            },
            "type": "contourcarpet"
           }
          ],
          "heatmap": [
           {
            "colorbar": {
             "outlinewidth": 1,
             "tickcolor": "rgb(36,36,36)",
             "ticks": "outside"
            },
            "colorscale": [
             [
              0,
              "#440154"
             ],
             [
              0.1111111111111111,
              "#482878"
             ],
             [
              0.2222222222222222,
              "#3e4989"
             ],
             [
              0.3333333333333333,
              "#31688e"
             ],
             [
              0.4444444444444444,
              "#26828e"
             ],
             [
              0.5555555555555556,
              "#1f9e89"
             ],
             [
              0.6666666666666666,
              "#35b779"
             ],
             [
              0.7777777777777778,
              "#6ece58"
             ],
             [
              0.8888888888888888,
              "#b5de2b"
             ],
             [
              1,
              "#fde725"
             ]
            ],
            "type": "heatmap"
           }
          ],
          "heatmapgl": [
           {
            "colorbar": {
             "outlinewidth": 1,
             "tickcolor": "rgb(36,36,36)",
             "ticks": "outside"
            },
            "colorscale": [
             [
              0,
              "#440154"
             ],
             [
              0.1111111111111111,
              "#482878"
             ],
             [
              0.2222222222222222,
              "#3e4989"
             ],
             [
              0.3333333333333333,
              "#31688e"
             ],
             [
              0.4444444444444444,
              "#26828e"
             ],
             [
              0.5555555555555556,
              "#1f9e89"
             ],
             [
              0.6666666666666666,
              "#35b779"
             ],
             [
              0.7777777777777778,
              "#6ece58"
             ],
             [
              0.8888888888888888,
              "#b5de2b"
             ],
             [
              1,
              "#fde725"
             ]
            ],
            "type": "heatmapgl"
           }
          ],
          "histogram": [
           {
            "marker": {
             "line": {
              "color": "white",
              "width": 0.6
             }
            },
            "type": "histogram"
           }
          ],
          "histogram2d": [
           {
            "colorbar": {
             "outlinewidth": 1,
             "tickcolor": "rgb(36,36,36)",
             "ticks": "outside"
            },
            "colorscale": [
             [
              0,
              "#440154"
             ],
             [
              0.1111111111111111,
              "#482878"
             ],
             [
              0.2222222222222222,
              "#3e4989"
             ],
             [
              0.3333333333333333,
              "#31688e"
             ],
             [
              0.4444444444444444,
              "#26828e"
             ],
             [
              0.5555555555555556,
              "#1f9e89"
             ],
             [
              0.6666666666666666,
              "#35b779"
             ],
             [
              0.7777777777777778,
              "#6ece58"
             ],
             [
              0.8888888888888888,
              "#b5de2b"
             ],
             [
              1,
              "#fde725"
             ]
            ],
            "type": "histogram2d"
           }
          ],
          "histogram2dcontour": [
           {
            "colorbar": {
             "outlinewidth": 1,
             "tickcolor": "rgb(36,36,36)",
             "ticks": "outside"
            },
            "colorscale": [
             [
              0,
              "#440154"
             ],
             [
              0.1111111111111111,
              "#482878"
             ],
             [
              0.2222222222222222,
              "#3e4989"
             ],
             [
              0.3333333333333333,
              "#31688e"
             ],
             [
              0.4444444444444444,
              "#26828e"
             ],
             [
              0.5555555555555556,
              "#1f9e89"
             ],
             [
              0.6666666666666666,
              "#35b779"
             ],
             [
              0.7777777777777778,
              "#6ece58"
             ],
             [
              0.8888888888888888,
              "#b5de2b"
             ],
             [
              1,
              "#fde725"
             ]
            ],
            "type": "histogram2dcontour"
           }
          ],
          "mesh3d": [
           {
            "colorbar": {
             "outlinewidth": 1,
             "tickcolor": "rgb(36,36,36)",
             "ticks": "outside"
            },
            "type": "mesh3d"
           }
          ],
          "parcoords": [
           {
            "line": {
             "colorbar": {
              "outlinewidth": 1,
              "tickcolor": "rgb(36,36,36)",
              "ticks": "outside"
             }
            },
            "type": "parcoords"
           }
          ],
          "pie": [
           {
            "automargin": true,
            "type": "pie"
           }
          ],
          "scatter": [
           {
            "fillpattern": {
             "fillmode": "overlay",
             "size": 10,
             "solidity": 0.2
            },
            "type": "scatter"
           }
          ],
          "scatter3d": [
           {
            "line": {
             "colorbar": {
              "outlinewidth": 1,
              "tickcolor": "rgb(36,36,36)",
              "ticks": "outside"
             }
            },
            "marker": {
             "colorbar": {
              "outlinewidth": 1,
              "tickcolor": "rgb(36,36,36)",
              "ticks": "outside"
             }
            },
            "type": "scatter3d"
           }
          ],
          "scattercarpet": [
           {
            "marker": {
             "colorbar": {
              "outlinewidth": 1,
              "tickcolor": "rgb(36,36,36)",
              "ticks": "outside"
             }
            },
            "type": "scattercarpet"
           }
          ],
          "scattergeo": [
           {
            "marker": {
             "colorbar": {
              "outlinewidth": 1,
              "tickcolor": "rgb(36,36,36)",
              "ticks": "outside"
             }
            },
            "type": "scattergeo"
           }
          ],
          "scattergl": [
           {
            "marker": {
             "colorbar": {
              "outlinewidth": 1,
              "tickcolor": "rgb(36,36,36)",
              "ticks": "outside"
             }
            },
            "type": "scattergl"
           }
          ],
          "scattermapbox": [
           {
            "marker": {
             "colorbar": {
              "outlinewidth": 1,
              "tickcolor": "rgb(36,36,36)",
              "ticks": "outside"
             }
            },
            "type": "scattermapbox"
           }
          ],
          "scatterpolar": [
           {
            "marker": {
             "colorbar": {
              "outlinewidth": 1,
              "tickcolor": "rgb(36,36,36)",
              "ticks": "outside"
             }
            },
            "type": "scatterpolar"
           }
          ],
          "scatterpolargl": [
           {
            "marker": {
             "colorbar": {
              "outlinewidth": 1,
              "tickcolor": "rgb(36,36,36)",
              "ticks": "outside"
             }
            },
            "type": "scatterpolargl"
           }
          ],
          "scatterternary": [
           {
            "marker": {
             "colorbar": {
              "outlinewidth": 1,
              "tickcolor": "rgb(36,36,36)",
              "ticks": "outside"
             }
            },
            "type": "scatterternary"
           }
          ],
          "surface": [
           {
            "colorbar": {
             "outlinewidth": 1,
             "tickcolor": "rgb(36,36,36)",
             "ticks": "outside"
            },
            "colorscale": [
             [
              0,
              "#440154"
             ],
             [
              0.1111111111111111,
              "#482878"
             ],
             [
              0.2222222222222222,
              "#3e4989"
             ],
             [
              0.3333333333333333,
              "#31688e"
             ],
             [
              0.4444444444444444,
              "#26828e"
             ],
             [
              0.5555555555555556,
              "#1f9e89"
             ],
             [
              0.6666666666666666,
              "#35b779"
             ],
             [
              0.7777777777777778,
              "#6ece58"
             ],
             [
              0.8888888888888888,
              "#b5de2b"
             ],
             [
              1,
              "#fde725"
             ]
            ],
            "type": "surface"
           }
          ],
          "table": [
           {
            "cells": {
             "fill": {
              "color": "rgb(237,237,237)"
             },
             "line": {
              "color": "white"
             }
            },
            "header": {
             "fill": {
              "color": "rgb(217,217,217)"
             },
             "line": {
              "color": "white"
             }
            },
            "type": "table"
           }
          ]
         },
         "layout": {
          "annotationdefaults": {
           "arrowhead": 0,
           "arrowwidth": 1
          },
          "autotypenumbers": "strict",
          "coloraxis": {
           "colorbar": {
            "outlinewidth": 1,
            "tickcolor": "rgb(36,36,36)",
            "ticks": "outside"
           }
          },
          "colorscale": {
           "diverging": [
            [
             0,
             "rgb(103,0,31)"
            ],
            [
             0.1,
             "rgb(178,24,43)"
            ],
            [
             0.2,
             "rgb(214,96,77)"
            ],
            [
             0.3,
             "rgb(244,165,130)"
            ],
            [
             0.4,
             "rgb(253,219,199)"
            ],
            [
             0.5,
             "rgb(247,247,247)"
            ],
            [
             0.6,
             "rgb(209,229,240)"
            ],
            [
             0.7,
             "rgb(146,197,222)"
            ],
            [
             0.8,
             "rgb(67,147,195)"
            ],
            [
             0.9,
             "rgb(33,102,172)"
            ],
            [
             1,
             "rgb(5,48,97)"
            ]
           ],
           "sequential": [
            [
             0,
             "#440154"
            ],
            [
             0.1111111111111111,
             "#482878"
            ],
            [
             0.2222222222222222,
             "#3e4989"
            ],
            [
             0.3333333333333333,
             "#31688e"
            ],
            [
             0.4444444444444444,
             "#26828e"
            ],
            [
             0.5555555555555556,
             "#1f9e89"
            ],
            [
             0.6666666666666666,
             "#35b779"
            ],
            [
             0.7777777777777778,
             "#6ece58"
            ],
            [
             0.8888888888888888,
             "#b5de2b"
            ],
            [
             1,
             "#fde725"
            ]
           ],
           "sequentialminus": [
            [
             0,
             "#440154"
            ],
            [
             0.1111111111111111,
             "#482878"
            ],
            [
             0.2222222222222222,
             "#3e4989"
            ],
            [
             0.3333333333333333,
             "#31688e"
            ],
            [
             0.4444444444444444,
             "#26828e"
            ],
            [
             0.5555555555555556,
             "#1f9e89"
            ],
            [
             0.6666666666666666,
             "#35b779"
            ],
            [
             0.7777777777777778,
             "#6ece58"
            ],
            [
             0.8888888888888888,
             "#b5de2b"
            ],
            [
             1,
             "#fde725"
            ]
           ]
          },
          "colorway": [
           "#1F77B4",
           "#FF7F0E",
           "#2CA02C",
           "#D62728",
           "#9467BD",
           "#8C564B",
           "#E377C2",
           "#7F7F7F",
           "#BCBD22",
           "#17BECF"
          ],
          "font": {
           "color": "rgb(36,36,36)"
          },
          "geo": {
           "bgcolor": "white",
           "lakecolor": "white",
           "landcolor": "white",
           "showlakes": true,
           "showland": true,
           "subunitcolor": "white"
          },
          "hoverlabel": {
           "align": "left"
          },
          "hovermode": "closest",
          "mapbox": {
           "style": "light"
          },
          "paper_bgcolor": "white",
          "plot_bgcolor": "white",
          "polar": {
           "angularaxis": {
            "gridcolor": "rgb(232,232,232)",
            "linecolor": "rgb(36,36,36)",
            "showgrid": false,
            "showline": true,
            "ticks": "outside"
           },
           "bgcolor": "white",
           "radialaxis": {
            "gridcolor": "rgb(232,232,232)",
            "linecolor": "rgb(36,36,36)",
            "showgrid": false,
            "showline": true,
            "ticks": "outside"
           }
          },
          "scene": {
           "xaxis": {
            "backgroundcolor": "white",
            "gridcolor": "rgb(232,232,232)",
            "gridwidth": 2,
            "linecolor": "rgb(36,36,36)",
            "showbackground": true,
            "showgrid": false,
            "showline": true,
            "ticks": "outside",
            "zeroline": false,
            "zerolinecolor": "rgb(36,36,36)"
           },
           "yaxis": {
            "backgroundcolor": "white",
            "gridcolor": "rgb(232,232,232)",
            "gridwidth": 2,
            "linecolor": "rgb(36,36,36)",
            "showbackground": true,
            "showgrid": false,
            "showline": true,
            "ticks": "outside",
            "zeroline": false,
            "zerolinecolor": "rgb(36,36,36)"
           },
           "zaxis": {
            "backgroundcolor": "white",
            "gridcolor": "rgb(232,232,232)",
            "gridwidth": 2,
            "linecolor": "rgb(36,36,36)",
            "showbackground": true,
            "showgrid": false,
            "showline": true,
            "ticks": "outside",
            "zeroline": false,
            "zerolinecolor": "rgb(36,36,36)"
           }
          },
          "shapedefaults": {
           "fillcolor": "black",
           "line": {
            "width": 0
           },
           "opacity": 0.3
          },
          "ternary": {
           "aaxis": {
            "gridcolor": "rgb(232,232,232)",
            "linecolor": "rgb(36,36,36)",
            "showgrid": false,
            "showline": true,
            "ticks": "outside"
           },
           "baxis": {
            "gridcolor": "rgb(232,232,232)",
            "linecolor": "rgb(36,36,36)",
            "showgrid": false,
            "showline": true,
            "ticks": "outside"
           },
           "bgcolor": "white",
           "caxis": {
            "gridcolor": "rgb(232,232,232)",
            "linecolor": "rgb(36,36,36)",
            "showgrid": false,
            "showline": true,
            "ticks": "outside"
           }
          },
          "title": {
           "x": 0.05
          },
          "xaxis": {
           "automargin": true,
           "gridcolor": "rgb(232,232,232)",
           "linecolor": "rgb(36,36,36)",
           "showgrid": false,
           "showline": true,
           "ticks": "outside",
           "title": {
            "standoff": 15
           },
           "zeroline": false,
           "zerolinecolor": "rgb(36,36,36)"
          },
          "yaxis": {
           "automargin": true,
           "gridcolor": "rgb(232,232,232)",
           "linecolor": "rgb(36,36,36)",
           "showgrid": false,
           "showline": true,
           "ticks": "outside",
           "title": {
            "standoff": 15
           },
           "zeroline": false,
           "zerolinecolor": "rgb(36,36,36)"
          }
         }
        },
        "width": 330,
        "xaxis": {
         "anchor": "y",
         "domain": [
          0,
          1
         ],
         "range": [
          0,
          31
         ],
         "tickfont": {
          "size": 9.333333333333334
         },
         "title": {
          "font": {
           "size": 9.333333333333334
          },
          "text": "PCR cycles"
         }
        },
        "yaxis": {
         "anchor": "x",
         "domain": [
          0,
          1
         ],
         "minor": {
          "dtick": 0.001,
          "ticks": "outside"
         },
         "range": [
          0,
          0.012
         ],
         "tickfont": {
          "size": 9.333333333333334
         },
         "title": {
          "font": {
           "size": 9.333333333333334
          },
          "text": "Substitution rate / 10<sup>-3</sup> nt<sup>-1</sup>"
         }
        }
       }
      }
     },
     "metadata": {},
     "output_type": "display_data"
    }
   ],
   "source": [
    "colors_lines = [\"#08519c\", \"#a50f15\"]\n",
    "colors_points = [\"#6baed6\", \"#fb6a4a\"]\n",
    "\n",
    "\n",
    "\n",
    "\n",
    "\n",
    "fig = px.scatter(\n",
    "    alldf,\n",
    "    x=\"series_var\",\n",
    "    y=\"rate\",\n",
    "    color=\"synthesis\",\n",
    "    symbol=\"read\",\n",
    "    color_discrete_sequence=colors_points\n",
    ")\n",
    "\n",
    "x_var = np.linspace(0, 90, 10)\n",
    "\n",
    "for i, synthesis in enumerate(alldf.synthesis.unique()):\n",
    "    window = alldf.loc[alldf.synthesis == synthesis]\n",
    "    fit = smf.ols(formula='rate ~ series_var', data=window).fit()\n",
    "    display(fit.summary())\n",
    "    display(fit.summary2().tables[1])\n",
    "\n",
    "    fig.add_trace(\n",
    "        pg.Scatter(\n",
    "            x=x_var,\n",
    "            y=fit.predict(exog={'series_var': x_var}),\n",
    "            mode=\"lines\",\n",
    "            showlegend=False,\n",
    "            line=dict(color=colors_lines[i], width=2.5)\n",
    "        )\n",
    "    )\n",
    "\n",
    "\n",
    "fig.add_hline(y=seq_sub_rate, line_width=2, line_dash=\"dash\")\n",
    "\n",
    "\n",
    "\n",
    "\n",
    "\n",
    "fig.update_layout(\n",
    "    template='simple_white',\n",
    "    height=330,\n",
    "    width=330,\n",
    "    showlegend=False,\n",
    "    margin=dict(l=0, r=10, t=20, b=00),\n",
    "    font_family=\"Inter\",\n",
    "    legend_font_size=28/3,\n",
    ")\n",
    "fig.update_xaxes(\n",
    "    title=\"PCR cycles\",\n",
    "    range=[0, 31],\n",
    "    title_font_size=28/3, \n",
    "    tickfont_size=28/3\n",
    ")\n",
    "fig.update_yaxes(\n",
    "    title=\"Substitution rate / 10<sup>-3</sup> nt<sup>-1</sup>\",\n",
    "    range=[0, 0.012], \n",
    "    title_font_size=28/3, \n",
    "    tickfont_size=28/3, \n",
    "    minor_ticks=\"outside\", \n",
    "    minor_dtick=0.001\n",
    ")\n",
    "\n",
    "fig.show()\n",
    "fig.write_image(\"init_substitutions.svg\")"
   ]
  }
 ],
 "metadata": {
  "kernelspec": {
   "display_name": "np_pd_sp",
   "language": "python",
   "name": "python3"
  },
  "language_info": {
   "codemirror_mode": {
    "name": "ipython",
    "version": 3
   },
   "file_extension": ".py",
   "mimetype": "text/x-python",
   "name": "python",
   "nbconvert_exporter": "python",
   "pygments_lexer": "ipython3",
   "version": "3.9.7"
  },
  "orig_nbformat": 4,
  "vscode": {
   "interpreter": {
    "hash": "da8130b5c8ccf41f100662caf67f3ba756beedabd599674f9119b95438e5e458"
   }
  }
 },
 "nbformat": 4,
 "nbformat_minor": 2
}
