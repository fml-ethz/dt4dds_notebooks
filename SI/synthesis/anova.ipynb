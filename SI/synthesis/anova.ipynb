{
 "cells": [
  {
   "cell_type": "code",
   "execution_count": 12,
   "metadata": {},
   "outputs": [],
   "source": [
    "import pandas as pd\n",
    "import statsmodels.formula.api as smf\n",
    "import statsmodels.api as sm\n",
    "import plotly.express as px\n",
    "import plotly.graph_objects as pg\n",
    "\n",
    "def anova(idata, errortype):\n",
    "    errordata = idata.data['overall_error_rates'].loc[(idata.data['overall_error_rates']['type'] == errortype)].copy()\n",
    "    errordata[['synthesis', 'GC', 'PCRC', 'Decay']] = errordata.group.str.split('_', expand=True)\n",
    "    errordata = errordata.astype({'PCRC': 'int', 'Decay': 'int'})\n",
    "\n",
    "    model = smf.ols('rate ~ C(synthesis) + C(GC) + C(synthesis):C(GC) + PCRC + Decay', data=errordata).fit()\n",
    "    display(model.summary())\n",
    "    aov = sm.stats.anova_lm(model, typ=2, robust='hc3')\n",
    "    aov['eta_sq'] = aov[:]['sum_sq']/sum(aov['sum_sq'])\n",
    "    aov2 = aov.copy()\n",
    "    aov2['eta_sq'] = [f\"{i*100:0.1f}%\" for i in aov['eta_sq']]\n",
    "    display(aov2)\n",
    "    return aov"
   ]
  },
  {
   "cell_type": "code",
   "execution_count": 3,
   "metadata": {},
   "outputs": [
    {
     "name": "stdout",
     "output_type": "stream",
     "text": [
      "The autoreload extension is already loaded. To reload it, use:\n",
      "  %reload_ext autoreload\n"
     ]
    }
   ],
   "source": [
    "%load_ext autoreload\n",
    "%autoreload 2\n",
    "import dt4dds.analysis as analysis\n",
    "\n",
    "data = analysis.GroupAnalysis([\n",
    "    ('Genscript_GCfix_36_0', analysis.ErrorAnalysis(\"../../data/Aging/0a_Genscript_GCfix\")),\n",
    "    ('Genscript_GCfix_42_0', analysis.ErrorAnalysis(\"../../data/Aging/0b_Genscript_GCfix\")),\n",
    "    ('Genscript_GCfix_42_2', analysis.ErrorAnalysis(\"../../data/Aging/2d_Genscript_GCfix\")),\n",
    "    ('Genscript_GCfix_42_4', analysis.ErrorAnalysis(\"../../data/Aging/4d_Genscript_GCfix\")),\n",
    "    ('Genscript_GCfix_42_7', analysis.ErrorAnalysis(\"../../data/Aging/7d_Genscript_GCfix\")),\n",
    "    ('Genscript_GCfix_10_0', analysis.ErrorAnalysis(\"../../data/PCR/10c_Genscript_GCfix\")),\n",
    "    ('Genscript_GCfix_15_0', analysis.ErrorAnalysis(\"../../data/PCR/15c_Genscript_GCfix\")),\n",
    "    ('Genscript_GCfix_20_0', analysis.ErrorAnalysis(\"../../data/PCR/20c_Genscript_GCfix\")),\n",
    "    ('Genscript_GCfix_25_0', analysis.ErrorAnalysis(\"../../data/PCR/25c_Genscript_GCfix\")),\n",
    "    ('Genscript_GCall_36_0', analysis.ErrorAnalysis(\"../../data/Aging/0a_Genscript_GCall\")),\n",
    "    ('Genscript_GCall_42_0', analysis.ErrorAnalysis(\"../../data/Aging/0b_Genscript_GCall\")),\n",
    "    ('Genscript_GCall_42_2', analysis.ErrorAnalysis(\"../../data/Aging/2d_Genscript_GCall\")),\n",
    "    ('Genscript_GCall_42_4', analysis.ErrorAnalysis(\"../../data/Aging/4d_Genscript_GCall\")),\n",
    "    ('Genscript_GCall_42_7', analysis.ErrorAnalysis(\"../../data/Aging/7d_Genscript_GCall\")),\n",
    "    ('Genscript_GCall_15_0', analysis.ErrorAnalysis(\"../../data/PCR/15c_Genscript_GCall\")),\n",
    "    ('Genscript_GCall_20_0', analysis.ErrorAnalysis(\"../../data/PCR/20c_Genscript_GCall\")),\n",
    "    ('Genscript_GCall_25_0', analysis.ErrorAnalysis(\"../../data/PCR/25c_Genscript_GCall\")),\n",
    "    ('Genscript_GCall_30_0', analysis.ErrorAnalysis(\"../../data/PCR/30c_Genscript_GCall\")),\n",
    "    ('Twist_GCall_15_0', analysis.ErrorAnalysis(\"../../data/PCR/15c_Twist_GCall\")),\n",
    "    ('Twist_GCall_30_0', analysis.ErrorAnalysis(\"../../data/PCR/30c_Twist_GCall\")),\n",
    "    ('Twist_GCall_45_0', analysis.ErrorAnalysis(\"../../data/PCR/45c_Twist_GCall\")),\n",
    "    ('Twist_GCall_60_0', analysis.ErrorAnalysis(\"../../data/PCR/60c_Twist_GCall\")),\n",
    "    ('Twist_GCall_75_0', analysis.ErrorAnalysis(\"../../data/PCR/75c_Twist_GCall\")),\n",
    "    ('Twist_GCall_90_0', analysis.ErrorAnalysis(\"../../data/PCR/90c_Twist_GCall\")),\n",
    "    ('Twist_GCall_37_0', analysis.ErrorAnalysis(\"../../data/Aging/0a_Twist_GCall\")),\n",
    "    ('Twist_GCall_43_0', analysis.ErrorAnalysis(\"../../data/Aging/0b_Twist_GCall\")),\n",
    "    ('Twist_GCall_43_2', analysis.ErrorAnalysis(\"../../data/Aging/2d_Twist_GCall\")),\n",
    "    ('Twist_GCall_43_4', analysis.ErrorAnalysis(\"../../data/Aging/4d_Twist_GCall\")),\n",
    "    ('Twist_GCall_43_7', analysis.ErrorAnalysis(\"../../data/Aging/7d_Twist_GCall\")),\n",
    "    ('Twist_GCfix_15_0', analysis.ErrorAnalysis(\"../../data/PCR/15c_Twist_GCfix\")),\n",
    "    ('Twist_GCfix_30_0', analysis.ErrorAnalysis(\"../../data/PCR/30c_Twist_GCfix\")),\n",
    "    ('Twist_GCfix_45_0', analysis.ErrorAnalysis(\"../../data/PCR/45c_Twist_GCfix\")),\n",
    "    ('Twist_GCfix_60_0', analysis.ErrorAnalysis(\"../../data/PCR/60c_Twist_GCfix\")),\n",
    "    ('Twist_GCfix_75_0', analysis.ErrorAnalysis(\"../../data/PCR/75c_Twist_GCfix\")),\n",
    "    ('Twist_GCfix_90_0', analysis.ErrorAnalysis(\"../../data/PCR/90c_Twist_GCfix\")),\n",
    "    ('Twist_GCfix_39_0', analysis.ErrorAnalysis(\"../../data/Aging/0a_Twist_GCfix\")),\n",
    "    ('Twist_GCfix_45_0', analysis.ErrorAnalysis(\"../../data/Aging/0b_Twist_GCfix\")),\n",
    "    ('Twist_GCfix_45_2', analysis.ErrorAnalysis(\"../../data/Aging/2d_Twist_GCfix\")),\n",
    "    ('Twist_GCfix_45_4', analysis.ErrorAnalysis(\"../../data/Aging/4d_Twist_GCfix\")),\n",
    "    ('Twist_GCfix_45_7', analysis.ErrorAnalysis(\"../../data/Aging/7d_Twist_GCfix\")),\n",
    "])"
   ]
  },
  {
   "cell_type": "code",
   "execution_count": 5,
   "metadata": {},
   "outputs": [],
   "source": [
    "def summary(group):\n",
    "        d = {}\n",
    "        d['mean'] = group.rate.mean()\n",
    "        d['std'] = group.rate.std()\n",
    "        d['min'] = group.rate.min()\n",
    "        d['max'] = group.rate.max()\n",
    "        return pd.Series(d, index=['mean', 'std', 'min', 'max'])\n",
    "\n",
    "errordata = data.data['overall_error_rates'].copy()\n",
    "errordata[['synthesis', 'GC', 'PCRC', 'Decay']] = errordata.group.str.split('_', expand=True)"
   ]
  },
  {
   "cell_type": "code",
   "execution_count": 13,
   "metadata": {},
   "outputs": [
    {
     "data": {
      "text/html": [
       "<table class=\"simpletable\">\n",
       "<caption>OLS Regression Results</caption>\n",
       "<tr>\n",
       "  <th>Dep. Variable:</th>          <td>rate</td>       <th>  R-squared:         </th> <td>   0.994</td>\n",
       "</tr>\n",
       "<tr>\n",
       "  <th>Model:</th>                   <td>OLS</td>       <th>  Adj. R-squared:    </th> <td>   0.994</td>\n",
       "</tr>\n",
       "<tr>\n",
       "  <th>Method:</th>             <td>Least Squares</td>  <th>  F-statistic:       </th> <td>   2453.</td>\n",
       "</tr>\n",
       "<tr>\n",
       "  <th>Date:</th>             <td>Thu, 23 Mar 2023</td> <th>  Prob (F-statistic):</th> <td>1.07e-80</td>\n",
       "</tr>\n",
       "<tr>\n",
       "  <th>Time:</th>                 <td>11:12:22</td>     <th>  Log-Likelihood:    </th> <td>  489.23</td>\n",
       "</tr>\n",
       "<tr>\n",
       "  <th>No. Observations:</th>      <td>    80</td>      <th>  AIC:               </th> <td>  -966.5</td>\n",
       "</tr>\n",
       "<tr>\n",
       "  <th>Df Residuals:</th>          <td>    74</td>      <th>  BIC:               </th> <td>  -952.2</td>\n",
       "</tr>\n",
       "<tr>\n",
       "  <th>Df Model:</th>              <td>     5</td>      <th>                     </th>     <td> </td>   \n",
       "</tr>\n",
       "<tr>\n",
       "  <th>Covariance Type:</th>      <td>nonrobust</td>    <th>                     </th>     <td> </td>   \n",
       "</tr>\n",
       "</table>\n",
       "<table class=\"simpletable\">\n",
       "<tr>\n",
       "                    <td></td>                      <th>coef</th>     <th>std err</th>      <th>t</th>      <th>P>|t|</th>  <th>[0.025</th>    <th>0.975]</th>  \n",
       "</tr>\n",
       "<tr>\n",
       "  <th>Intercept</th>                            <td>    0.0121</td> <td>    0.000</td> <td>   66.366</td> <td> 0.000</td> <td>    0.012</td> <td>    0.012</td>\n",
       "</tr>\n",
       "<tr>\n",
       "  <th>C(synthesis)[T.Twist]</th>                <td>   -0.0112</td> <td>    0.000</td> <td>  -60.403</td> <td> 0.000</td> <td>   -0.012</td> <td>   -0.011</td>\n",
       "</tr>\n",
       "<tr>\n",
       "  <th>C(GC)[T.GCfix]</th>                       <td>    0.0044</td> <td>    0.000</td> <td>   23.561</td> <td> 0.000</td> <td>    0.004</td> <td>    0.005</td>\n",
       "</tr>\n",
       "<tr>\n",
       "  <th>C(synthesis)[T.Twist]:C(GC)[T.GCfix]</th> <td>   -0.0044</td> <td>    0.000</td> <td>  -17.402</td> <td> 0.000</td> <td>   -0.005</td> <td>   -0.004</td>\n",
       "</tr>\n",
       "<tr>\n",
       "  <th>PCRC</th>                                 <td>-6.036e-06</td> <td> 3.82e-06</td> <td>   -1.580</td> <td> 0.118</td> <td>-1.36e-05</td> <td> 1.58e-06</td>\n",
       "</tr>\n",
       "<tr>\n",
       "  <th>Decay</th>                                <td>-4.944e-06</td> <td> 2.74e-05</td> <td>   -0.180</td> <td> 0.857</td> <td>-5.96e-05</td> <td> 4.97e-05</td>\n",
       "</tr>\n",
       "</table>\n",
       "<table class=\"simpletable\">\n",
       "<tr>\n",
       "  <th>Omnibus:</th>       <td> 7.968</td> <th>  Durbin-Watson:     </th> <td>   0.567</td>\n",
       "</tr>\n",
       "<tr>\n",
       "  <th>Prob(Omnibus):</th> <td> 0.019</td> <th>  Jarque-Bera (JB):  </th> <td>   9.720</td>\n",
       "</tr>\n",
       "<tr>\n",
       "  <th>Skew:</th>          <td>-0.453</td> <th>  Prob(JB):          </th> <td> 0.00775</td>\n",
       "</tr>\n",
       "<tr>\n",
       "  <th>Kurtosis:</th>      <td> 4.448</td> <th>  Cond. No.          </th> <td>    241.</td>\n",
       "</tr>\n",
       "</table><br/><br/>Notes:<br/>[1] Standard Errors assume that the covariance matrix of the errors is correctly specified."
      ],
      "text/plain": [
       "<class 'statsmodels.iolib.summary.Summary'>\n",
       "\"\"\"\n",
       "                            OLS Regression Results                            \n",
       "==============================================================================\n",
       "Dep. Variable:                   rate   R-squared:                       0.994\n",
       "Model:                            OLS   Adj. R-squared:                  0.994\n",
       "Method:                 Least Squares   F-statistic:                     2453.\n",
       "Date:                Thu, 23 Mar 2023   Prob (F-statistic):           1.07e-80\n",
       "Time:                        11:12:22   Log-Likelihood:                 489.23\n",
       "No. Observations:                  80   AIC:                            -966.5\n",
       "Df Residuals:                      74   BIC:                            -952.2\n",
       "Df Model:                           5                                         \n",
       "Covariance Type:            nonrobust                                         \n",
       "========================================================================================================\n",
       "                                           coef    std err          t      P>|t|      [0.025      0.975]\n",
       "--------------------------------------------------------------------------------------------------------\n",
       "Intercept                                0.0121      0.000     66.366      0.000       0.012       0.012\n",
       "C(synthesis)[T.Twist]                   -0.0112      0.000    -60.403      0.000      -0.012      -0.011\n",
       "C(GC)[T.GCfix]                           0.0044      0.000     23.561      0.000       0.004       0.005\n",
       "C(synthesis)[T.Twist]:C(GC)[T.GCfix]    -0.0044      0.000    -17.402      0.000      -0.005      -0.004\n",
       "PCRC                                 -6.036e-06   3.82e-06     -1.580      0.118   -1.36e-05    1.58e-06\n",
       "Decay                                -4.944e-06   2.74e-05     -0.180      0.857   -5.96e-05    4.97e-05\n",
       "==============================================================================\n",
       "Omnibus:                        7.968   Durbin-Watson:                   0.567\n",
       "Prob(Omnibus):                  0.019   Jarque-Bera (JB):                9.720\n",
       "Skew:                          -0.453   Prob(JB):                      0.00775\n",
       "Kurtosis:                       4.448   Cond. No.                         241.\n",
       "==============================================================================\n",
       "\n",
       "Notes:\n",
       "[1] Standard Errors assume that the covariance matrix of the errors is correctly specified.\n",
       "\"\"\""
      ]
     },
     "metadata": {},
     "output_type": "display_data"
    },
    {
     "data": {
      "text/html": [
       "<div>\n",
       "<style scoped>\n",
       "    .dataframe tbody tr th:only-of-type {\n",
       "        vertical-align: middle;\n",
       "    }\n",
       "\n",
       "    .dataframe tbody tr th {\n",
       "        vertical-align: top;\n",
       "    }\n",
       "\n",
       "    .dataframe thead th {\n",
       "        text-align: right;\n",
       "    }\n",
       "</style>\n",
       "<table border=\"1\" class=\"dataframe\">\n",
       "  <thead>\n",
       "    <tr style=\"text-align: right;\">\n",
       "      <th></th>\n",
       "      <th>sum_sq</th>\n",
       "      <th>df</th>\n",
       "      <th>F</th>\n",
       "      <th>PR(&gt;F)</th>\n",
       "      <th>eta_sq</th>\n",
       "    </tr>\n",
       "  </thead>\n",
       "  <tbody>\n",
       "    <tr>\n",
       "      <th>C(synthesis)</th>\n",
       "      <td>3.218085e-03</td>\n",
       "      <td>1.0</td>\n",
       "      <td>10421.217916</td>\n",
       "      <td>2.250311e-81</td>\n",
       "      <td>96.9%</td>\n",
       "    </tr>\n",
       "    <tr>\n",
       "      <th>C(GC)</th>\n",
       "      <td>6.273956e-06</td>\n",
       "      <td>1.0</td>\n",
       "      <td>20.317132</td>\n",
       "      <td>2.410631e-05</td>\n",
       "      <td>0.2%</td>\n",
       "    </tr>\n",
       "    <tr>\n",
       "      <th>C(synthesis):C(GC)</th>\n",
       "      <td>7.313177e-05</td>\n",
       "      <td>1.0</td>\n",
       "      <td>236.824723</td>\n",
       "      <td>9.154429e-25</td>\n",
       "      <td>2.2%</td>\n",
       "    </tr>\n",
       "    <tr>\n",
       "      <th>PCRC</th>\n",
       "      <td>9.052362e-07</td>\n",
       "      <td>1.0</td>\n",
       "      <td>2.931452</td>\n",
       "      <td>9.105727e-02</td>\n",
       "      <td>0.0%</td>\n",
       "    </tr>\n",
       "    <tr>\n",
       "      <th>Decay</th>\n",
       "      <td>1.982498e-08</td>\n",
       "      <td>1.0</td>\n",
       "      <td>0.064200</td>\n",
       "      <td>8.006797e-01</td>\n",
       "      <td>0.0%</td>\n",
       "    </tr>\n",
       "    <tr>\n",
       "      <th>Residual</th>\n",
       "      <td>2.285129e-05</td>\n",
       "      <td>74.0</td>\n",
       "      <td>NaN</td>\n",
       "      <td>NaN</td>\n",
       "      <td>0.7%</td>\n",
       "    </tr>\n",
       "  </tbody>\n",
       "</table>\n",
       "</div>"
      ],
      "text/plain": [
       "                          sum_sq    df             F        PR(>F) eta_sq\n",
       "C(synthesis)        3.218085e-03   1.0  10421.217916  2.250311e-81  96.9%\n",
       "C(GC)               6.273956e-06   1.0     20.317132  2.410631e-05   0.2%\n",
       "C(synthesis):C(GC)  7.313177e-05   1.0    236.824723  9.154429e-25   2.2%\n",
       "PCRC                9.052362e-07   1.0      2.931452  9.105727e-02   0.0%\n",
       "Decay               1.982498e-08   1.0      0.064200  8.006797e-01   0.0%\n",
       "Residual            2.285129e-05  74.0           NaN           NaN   0.7%"
      ]
     },
     "metadata": {},
     "output_type": "display_data"
    }
   ],
   "source": [
    "del_table = anova(data, 'deletions')"
   ]
  },
  {
   "cell_type": "code",
   "execution_count": 9,
   "metadata": {},
   "outputs": [
    {
     "data": {
      "text/html": [
       "<table class=\"simpletable\">\n",
       "<caption>OLS Regression Results</caption>\n",
       "<tr>\n",
       "  <th>Dep. Variable:</th>          <td>rate</td>       <th>  R-squared:         </th> <td>   0.936</td>\n",
       "</tr>\n",
       "<tr>\n",
       "  <th>Model:</th>                   <td>OLS</td>       <th>  Adj. R-squared:    </th> <td>   0.932</td>\n",
       "</tr>\n",
       "<tr>\n",
       "  <th>Method:</th>             <td>Least Squares</td>  <th>  F-statistic:       </th> <td>   217.5</td>\n",
       "</tr>\n",
       "<tr>\n",
       "  <th>Date:</th>             <td>Thu, 23 Mar 2023</td> <th>  Prob (F-statistic):</th> <td>9.18e-43</td>\n",
       "</tr>\n",
       "<tr>\n",
       "  <th>Time:</th>                 <td>11:04:41</td>     <th>  Log-Likelihood:    </th> <td>  496.09</td>\n",
       "</tr>\n",
       "<tr>\n",
       "  <th>No. Observations:</th>      <td>    80</td>      <th>  AIC:               </th> <td>  -980.2</td>\n",
       "</tr>\n",
       "<tr>\n",
       "  <th>Df Residuals:</th>          <td>    74</td>      <th>  BIC:               </th> <td>  -965.9</td>\n",
       "</tr>\n",
       "<tr>\n",
       "  <th>Df Model:</th>              <td>     5</td>      <th>                     </th>     <td> </td>   \n",
       "</tr>\n",
       "<tr>\n",
       "  <th>Covariance Type:</th>      <td>nonrobust</td>    <th>                     </th>     <td> </td>   \n",
       "</tr>\n",
       "</table>\n",
       "<table class=\"simpletable\">\n",
       "<tr>\n",
       "                    <td></td>                      <th>coef</th>     <th>std err</th>      <th>t</th>      <th>P>|t|</th>  <th>[0.025</th>    <th>0.975]</th>  \n",
       "</tr>\n",
       "<tr>\n",
       "  <th>Intercept</th>                            <td>    0.0051</td> <td>    0.000</td> <td>   30.515</td> <td> 0.000</td> <td>    0.005</td> <td>    0.005</td>\n",
       "</tr>\n",
       "<tr>\n",
       "  <th>C(synthesis)[T.Twist]</th>                <td>   -0.0026</td> <td>    0.000</td> <td>  -15.059</td> <td> 0.000</td> <td>   -0.003</td> <td>   -0.002</td>\n",
       "</tr>\n",
       "<tr>\n",
       "  <th>C(GC)[T.GCfix]</th>                       <td>   -0.0013</td> <td>    0.000</td> <td>   -7.496</td> <td> 0.000</td> <td>   -0.002</td> <td>   -0.001</td>\n",
       "</tr>\n",
       "<tr>\n",
       "  <th>C(synthesis)[T.Twist]:C(GC)[T.GCfix]</th> <td>    0.0012</td> <td>    0.000</td> <td>    5.282</td> <td> 0.000</td> <td>    0.001</td> <td>    0.002</td>\n",
       "</tr>\n",
       "<tr>\n",
       "  <th>PCRC</th>                                 <td>    0.0001</td> <td> 3.51e-06</td> <td>   30.670</td> <td> 0.000</td> <td>    0.000</td> <td>    0.000</td>\n",
       "</tr>\n",
       "<tr>\n",
       "  <th>Decay</th>                                <td>    0.0001</td> <td> 2.52e-05</td> <td>    4.551</td> <td> 0.000</td> <td> 6.44e-05</td> <td>    0.000</td>\n",
       "</tr>\n",
       "</table>\n",
       "<table class=\"simpletable\">\n",
       "<tr>\n",
       "  <th>Omnibus:</th>       <td> 3.534</td> <th>  Durbin-Watson:     </th> <td>   1.855</td>\n",
       "</tr>\n",
       "<tr>\n",
       "  <th>Prob(Omnibus):</th> <td> 0.171</td> <th>  Jarque-Bera (JB):  </th> <td>   2.753</td>\n",
       "</tr>\n",
       "<tr>\n",
       "  <th>Skew:</th>          <td> 0.377</td> <th>  Prob(JB):          </th> <td>   0.252</td>\n",
       "</tr>\n",
       "<tr>\n",
       "  <th>Kurtosis:</th>      <td> 3.506</td> <th>  Cond. No.          </th> <td>    241.</td>\n",
       "</tr>\n",
       "</table><br/><br/>Notes:<br/>[1] Standard Errors assume that the covariance matrix of the errors is correctly specified."
      ],
      "text/plain": [
       "<class 'statsmodels.iolib.summary.Summary'>\n",
       "\"\"\"\n",
       "                            OLS Regression Results                            \n",
       "==============================================================================\n",
       "Dep. Variable:                   rate   R-squared:                       0.936\n",
       "Model:                            OLS   Adj. R-squared:                  0.932\n",
       "Method:                 Least Squares   F-statistic:                     217.5\n",
       "Date:                Thu, 23 Mar 2023   Prob (F-statistic):           9.18e-43\n",
       "Time:                        11:04:41   Log-Likelihood:                 496.09\n",
       "No. Observations:                  80   AIC:                            -980.2\n",
       "Df Residuals:                      74   BIC:                            -965.9\n",
       "Df Model:                           5                                         \n",
       "Covariance Type:            nonrobust                                         \n",
       "========================================================================================================\n",
       "                                           coef    std err          t      P>|t|      [0.025      0.975]\n",
       "--------------------------------------------------------------------------------------------------------\n",
       "Intercept                                0.0051      0.000     30.515      0.000       0.005       0.005\n",
       "C(synthesis)[T.Twist]                   -0.0026      0.000    -15.059      0.000      -0.003      -0.002\n",
       "C(GC)[T.GCfix]                          -0.0013      0.000     -7.496      0.000      -0.002      -0.001\n",
       "C(synthesis)[T.Twist]:C(GC)[T.GCfix]     0.0012      0.000      5.282      0.000       0.001       0.002\n",
       "PCRC                                     0.0001   3.51e-06     30.670      0.000       0.000       0.000\n",
       "Decay                                    0.0001   2.52e-05      4.551      0.000    6.44e-05       0.000\n",
       "==============================================================================\n",
       "Omnibus:                        3.534   Durbin-Watson:                   1.855\n",
       "Prob(Omnibus):                  0.171   Jarque-Bera (JB):                2.753\n",
       "Skew:                           0.377   Prob(JB):                        0.252\n",
       "Kurtosis:                       3.506   Cond. No.                         241.\n",
       "==============================================================================\n",
       "\n",
       "Notes:\n",
       "[1] Standard Errors assume that the covariance matrix of the errors is correctly specified.\n",
       "\"\"\""
      ]
     },
     "metadata": {},
     "output_type": "display_data"
    },
    {
     "data": {
      "text/html": [
       "<div>\n",
       "<style scoped>\n",
       "    .dataframe tbody tr th:only-of-type {\n",
       "        vertical-align: middle;\n",
       "    }\n",
       "\n",
       "    .dataframe tbody tr th {\n",
       "        vertical-align: top;\n",
       "    }\n",
       "\n",
       "    .dataframe thead th {\n",
       "        text-align: right;\n",
       "    }\n",
       "</style>\n",
       "<table border=\"1\" class=\"dataframe\">\n",
       "  <thead>\n",
       "    <tr style=\"text-align: right;\">\n",
       "      <th></th>\n",
       "      <th>sum_sq</th>\n",
       "      <th>df</th>\n",
       "      <th>F</th>\n",
       "      <th>PR(&gt;F)</th>\n",
       "      <th>eta_sq</th>\n",
       "    </tr>\n",
       "  </thead>\n",
       "  <tbody>\n",
       "    <tr>\n",
       "      <th>C(synthesis)</th>\n",
       "      <td>0.000061</td>\n",
       "      <td>1.0</td>\n",
       "      <td>233.158045</td>\n",
       "      <td>1.422658e-24</td>\n",
       "      <td>11.2%</td>\n",
       "    </tr>\n",
       "    <tr>\n",
       "      <th>C(GC)</th>\n",
       "      <td>0.000002</td>\n",
       "      <td>1.0</td>\n",
       "      <td>8.183014</td>\n",
       "      <td>5.492861e-03</td>\n",
       "      <td>0.4%</td>\n",
       "    </tr>\n",
       "    <tr>\n",
       "      <th>C(synthesis):C(GC)</th>\n",
       "      <td>0.000006</td>\n",
       "      <td>1.0</td>\n",
       "      <td>23.283556</td>\n",
       "      <td>7.309050e-06</td>\n",
       "      <td>1.1%</td>\n",
       "    </tr>\n",
       "    <tr>\n",
       "      <th>PCRC</th>\n",
       "      <td>0.000448</td>\n",
       "      <td>1.0</td>\n",
       "      <td>1724.177762</td>\n",
       "      <td>5.099223e-53</td>\n",
       "      <td>82.5%</td>\n",
       "    </tr>\n",
       "    <tr>\n",
       "      <th>Decay</th>\n",
       "      <td>0.000007</td>\n",
       "      <td>1.0</td>\n",
       "      <td>25.977159</td>\n",
       "      <td>2.562990e-06</td>\n",
       "      <td>1.2%</td>\n",
       "    </tr>\n",
       "    <tr>\n",
       "      <th>Residual</th>\n",
       "      <td>0.000019</td>\n",
       "      <td>74.0</td>\n",
       "      <td>NaN</td>\n",
       "      <td>NaN</td>\n",
       "      <td>3.5%</td>\n",
       "    </tr>\n",
       "  </tbody>\n",
       "</table>\n",
       "</div>"
      ],
      "text/plain": [
       "                      sum_sq    df            F        PR(>F) eta_sq\n",
       "C(synthesis)        0.000061   1.0   233.158045  1.422658e-24  11.2%\n",
       "C(GC)               0.000002   1.0     8.183014  5.492861e-03   0.4%\n",
       "C(synthesis):C(GC)  0.000006   1.0    23.283556  7.309050e-06   1.1%\n",
       "PCRC                0.000448   1.0  1724.177762  5.099223e-53  82.5%\n",
       "Decay               0.000007   1.0    25.977159  2.562990e-06   1.2%\n",
       "Residual            0.000019  74.0          NaN           NaN   3.5%"
      ]
     },
     "metadata": {},
     "output_type": "display_data"
    }
   ],
   "source": [
    "sub_table = anova(data, 'substitutions')"
   ]
  },
  {
   "cell_type": "code",
   "execution_count": 31,
   "metadata": {},
   "outputs": [
    {
     "data": {
      "application/vnd.plotly.v1+json": {
       "config": {
        "plotlyServerURL": "https://plot.ly"
       },
       "data": [
        {
         "alignmentgroup": "True",
         "hovertemplate": "synthesis=Genscript<br>type=substitutions<br>GC=%{x}<br>rate=%{y}<extra></extra>",
         "legendgroup": "Genscript",
         "marker": {
          "color": "#3182bd"
         },
         "name": "Genscript",
         "notched": false,
         "offsetgroup": "Genscript",
         "orientation": "v",
         "showlegend": true,
         "type": "box",
         "x": [
          "GCfix",
          "GCfix",
          "GCfix",
          "GCfix",
          "GCfix",
          "GCfix",
          "GCfix",
          "GCfix",
          "GCfix",
          "GCfix",
          "GCfix",
          "GCfix",
          "GCfix",
          "GCfix",
          "GCfix",
          "GCfix",
          "GCfix",
          "GCfix",
          "GCall",
          "GCall",
          "GCall",
          "GCall",
          "GCall",
          "GCall",
          "GCall",
          "GCall",
          "GCall",
          "GCall",
          "GCall",
          "GCall",
          "GCall",
          "GCall",
          "GCall",
          "GCall",
          "GCall",
          "GCall"
         ],
         "x0": " ",
         "xaxis": "x",
         "y": [
          0.0071569102741870045,
          0.007559789192450624,
          0.007378696751022,
          0.007794790590469683,
          0.007954818266261264,
          0.00839444686354408,
          0.008351230704976469,
          0.008800978024469245,
          0.008608843506916038,
          0.008981890423470333,
          0.004400106564644122,
          0.005000282764940391,
          0.005340105026389301,
          0.005937556702169275,
          0.006606861486192187,
          0.007237794836951149,
          0.007342035841328141,
          0.007962822557220245,
          0.007827072554245832,
          0.008463089136282465,
          0.009193915280760447,
          0.009831024246709502,
          0.009566961058852191,
          0.010266171834276151,
          0.0101603483955082,
          0.010877986771805279,
          0.010415720492957104,
          0.010990979333034227,
          0.005785869881268208,
          0.006756193020494412,
          0.006319707753554835,
          0.007276564359948665,
          0.0076595158964894855,
          0.00868271814071706,
          0.00851718343970769,
          0.00948241914007306
         ],
         "y0": " ",
         "yaxis": "y"
        },
        {
         "alignmentgroup": "True",
         "hovertemplate": "synthesis=Genscript<br>type=deletions<br>GC=%{x}<br>rate=%{y}<extra></extra>",
         "legendgroup": "Genscript",
         "marker": {
          "color": "#3182bd"
         },
         "name": "Genscript",
         "notched": false,
         "offsetgroup": "Genscript",
         "orientation": "v",
         "showlegend": false,
         "type": "box",
         "x": [
          "GCfix",
          "GCfix",
          "GCfix",
          "GCfix",
          "GCfix",
          "GCfix",
          "GCfix",
          "GCfix",
          "GCfix",
          "GCfix",
          "GCfix",
          "GCfix",
          "GCfix",
          "GCfix",
          "GCfix",
          "GCfix",
          "GCfix",
          "GCfix",
          "GCall",
          "GCall",
          "GCall",
          "GCall",
          "GCall",
          "GCall",
          "GCall",
          "GCall",
          "GCall",
          "GCall",
          "GCall",
          "GCall",
          "GCall",
          "GCall",
          "GCall",
          "GCall",
          "GCall",
          "GCall"
         ],
         "x0": " ",
         "xaxis": "x2",
         "y": [
          0.01566776552181798,
          0.015657003616915105,
          0.01520180485230414,
          0.015192317194764151,
          0.01586098272931391,
          0.015842351335708518,
          0.016232271120096165,
          0.01620851696574061,
          0.01659012458592818,
          0.016570834553608676,
          0.016279409002965466,
          0.016238852341918728,
          0.017089118762235,
          0.01705586128244307,
          0.016581757074175363,
          0.016547579870061415,
          0.017052042758786953,
          0.01701596472065025,
          0.010209052928981947,
          0.010169140153043692,
          0.01097551261073196,
          0.01094156550119845,
          0.011170807125376162,
          0.011126610839214322,
          0.011461413266543772,
          0.011417677627235185,
          0.011894284622188132,
          0.0118452032528228,
          0.01324413415975087,
          0.013209604130968935,
          0.012999110954795471,
          0.012975245905216476,
          0.012646511859080426,
          0.012632428805396802,
          0.012556035321372764,
          0.012530994933002257
         ],
         "y0": " ",
         "yaxis": "y2"
        },
        {
         "alignmentgroup": "True",
         "hovertemplate": "synthesis=Genscript<br>type=insertions<br>GC=%{x}<br>rate=%{y}<extra></extra>",
         "legendgroup": "Genscript",
         "marker": {
          "color": "#3182bd"
         },
         "name": "Genscript",
         "notched": false,
         "offsetgroup": "Genscript",
         "orientation": "v",
         "showlegend": false,
         "type": "box",
         "x": [
          "GCfix",
          "GCfix",
          "GCfix",
          "GCfix",
          "GCfix",
          "GCfix",
          "GCfix",
          "GCfix",
          "GCfix",
          "GCfix",
          "GCfix",
          "GCfix",
          "GCfix",
          "GCfix",
          "GCfix",
          "GCfix",
          "GCfix",
          "GCfix",
          "GCall",
          "GCall",
          "GCall",
          "GCall",
          "GCall",
          "GCall",
          "GCall",
          "GCall",
          "GCall",
          "GCall",
          "GCall",
          "GCall",
          "GCall",
          "GCall",
          "GCall",
          "GCall",
          "GCall",
          "GCall"
         ],
         "x0": " ",
         "xaxis": "x3",
         "y": [
          0.0005961513035137721,
          0.0006028133416002273,
          0.0006134529601006063,
          0.0006206111240817452,
          0.0006122750315874386,
          0.0006180222545406561,
          0.000611839817282218,
          0.0006144990798660616,
          0.0006111674605698838,
          0.0006166263307463319,
          0.0006087461621442204,
          0.000610264108828488,
          0.0006141558288437748,
          0.0006191400937994217,
          0.0006224177044678957,
          0.0006270445080110814,
          0.0006295885183456431,
          0.0006327634756381799,
          0.0004349445941045023,
          0.00045110831302926514,
          0.00043936502206551434,
          0.0004568509765506653,
          0.0004358096863933423,
          0.00045436061499390233,
          0.0004385666700831907,
          0.00045753121403065974,
          0.000442879383017045,
          0.00045696180242826644,
          0.0004251369928694766,
          0.00043572466098076374,
          0.0004216434954649523,
          0.00043616813987356446,
          0.00042626742787530596,
          0.0004453295438624582,
          0.0004134015041744624,
          0.0004266617078865266
         ],
         "y0": " ",
         "yaxis": "y3"
        },
        {
         "alignmentgroup": "True",
         "hovertemplate": "synthesis=Genscript<br>type=delevents<br>GC=%{x}<br>rate=%{y}<extra></extra>",
         "legendgroup": "Genscript",
         "marker": {
          "color": "#3182bd"
         },
         "name": "Genscript",
         "notched": false,
         "offsetgroup": "Genscript",
         "orientation": "v",
         "showlegend": false,
         "type": "box",
         "x": [
          "GCfix",
          "GCfix",
          "GCfix",
          "GCfix",
          "GCfix",
          "GCfix",
          "GCfix",
          "GCfix",
          "GCfix",
          "GCfix",
          "GCfix",
          "GCfix",
          "GCfix",
          "GCfix",
          "GCfix",
          "GCfix",
          "GCfix",
          "GCfix",
          "GCall",
          "GCall",
          "GCall",
          "GCall",
          "GCall",
          "GCall",
          "GCall",
          "GCall",
          "GCall",
          "GCall",
          "GCall",
          "GCall",
          "GCall",
          "GCall",
          "GCall",
          "GCall",
          "GCall",
          "GCall"
         ],
         "x0": " ",
         "xaxis": "x4",
         "y": [
          0.013419784834408066,
          0.01332691353732285,
          0.01304613677652194,
          0.012956122070114606,
          0.013593937208906408,
          0.013488439700744956,
          0.013854738958995076,
          0.013750051725102163,
          0.014138984665387069,
          0.014027377083085693,
          0.013980102109892605,
          0.013901013077550931,
          0.014577074824075798,
          0.014466603816776807,
          0.014249212233792951,
          0.01414109171227792,
          0.014608023023921422,
          0.014468230813259163,
          0.00923066019881824,
          0.009203492349662766,
          0.00985663906912343,
          0.009834918797553712,
          0.010039795195914997,
          0.01000264531761723,
          0.010260247398123961,
          0.010229051231114237,
          0.010606617296624116,
          0.010569112359039737,
          0.01174517659289409,
          0.011709495217561863,
          0.011533482351585378,
          0.011501716338167201,
          0.011248099106648658,
          0.01123721452865019,
          0.01126688889138788,
          0.011208551277243883
         ],
         "y0": " ",
         "yaxis": "y4"
        },
        {
         "alignmentgroup": "True",
         "hovertemplate": "synthesis=Twist<br>type=substitutions<br>GC=%{x}<br>rate=%{y}<extra></extra>",
         "legendgroup": "Twist",
         "marker": {
          "color": "#de2d26"
         },
         "name": "Twist",
         "notched": false,
         "offsetgroup": "Twist",
         "orientation": "v",
         "showlegend": true,
         "type": "box",
         "x": [
          "GCall",
          "GCall",
          "GCall",
          "GCall",
          "GCall",
          "GCall",
          "GCall",
          "GCall",
          "GCall",
          "GCall",
          "GCall",
          "GCall",
          "GCall",
          "GCall",
          "GCall",
          "GCall",
          "GCall",
          "GCall",
          "GCall",
          "GCall",
          "GCall",
          "GCall",
          "GCfix",
          "GCfix",
          "GCfix",
          "GCfix",
          "GCfix",
          "GCfix",
          "GCfix",
          "GCfix",
          "GCfix",
          "GCfix",
          "GCfix",
          "GCfix",
          "GCfix",
          "GCfix",
          "GCfix",
          "GCfix",
          "GCfix",
          "GCfix",
          "GCfix",
          "GCfix",
          "GCfix",
          "GCfix"
         ],
         "x0": " ",
         "xaxis": "x",
         "y": [
          0.003636443150763648,
          0.0040629836030334245,
          0.005689052548851926,
          0.006150199198543202,
          0.007006444407641768,
          0.007445549921169234,
          0.008932819852314413,
          0.009367833956841303,
          0.010505456875019286,
          0.01094693710727466,
          0.011871423974303423,
          0.012293608858927252,
          0.006050356161757001,
          0.006693608564480968,
          0.0067355011663334284,
          0.007424291968907097,
          0.0071735237607060956,
          0.007852111559467871,
          0.007456032901632337,
          0.008118353569785044,
          0.007664197664891255,
          0.008317266742188424,
          0.003919681702311748,
          0.004303494949486458,
          0.005642736241149997,
          0.006077064973870066,
          0.0072057715851740626,
          0.0076210182244830105,
          0.009021781222128778,
          0.009482836908825143,
          0.010562587303043389,
          0.010947629964547028,
          0.01206881790393473,
          0.012487035666280158,
          0.006005683677991919,
          0.006446664604771953,
          0.006673460325501472,
          0.007165911277085198,
          0.0071587930936668,
          0.007631439561239185,
          0.007691739006436818,
          0.008166757910938658,
          0.0077149178088900495,
          0.0081515652515676
         ],
         "y0": " ",
         "yaxis": "y"
        },
        {
         "alignmentgroup": "True",
         "hovertemplate": "synthesis=Twist<br>type=deletions<br>GC=%{x}<br>rate=%{y}<extra></extra>",
         "legendgroup": "Twist",
         "marker": {
          "color": "#de2d26"
         },
         "name": "Twist",
         "notched": false,
         "offsetgroup": "Twist",
         "orientation": "v",
         "showlegend": false,
         "type": "box",
         "x": [
          "GCall",
          "GCall",
          "GCall",
          "GCall",
          "GCall",
          "GCall",
          "GCall",
          "GCall",
          "GCall",
          "GCall",
          "GCall",
          "GCall",
          "GCall",
          "GCall",
          "GCall",
          "GCall",
          "GCall",
          "GCall",
          "GCall",
          "GCall",
          "GCall",
          "GCall",
          "GCfix",
          "GCfix",
          "GCfix",
          "GCfix",
          "GCfix",
          "GCfix",
          "GCfix",
          "GCfix",
          "GCfix",
          "GCfix",
          "GCfix",
          "GCfix",
          "GCfix",
          "GCfix",
          "GCfix",
          "GCfix",
          "GCfix",
          "GCfix",
          "GCfix",
          "GCfix",
          "GCfix",
          "GCfix"
         ],
         "x0": " ",
         "xaxis": "x2",
         "y": [
          0.0003913644320726613,
          0.0004023577238092249,
          0.0004775367481154062,
          0.0004967663635809021,
          0.0005261379676213076,
          0.0005468572980985702,
          0.0006236521067370522,
          0.0006540027733586236,
          0.000689894513310029,
          0.000727056931752377,
          0.0007342616518197572,
          0.0007708415576002348,
          0.0004672520802800043,
          0.0004900423462895996,
          0.000516100682543083,
          0.0005402739539876679,
          0.0005328642259458226,
          0.0005561952322662186,
          0.0005413878313658034,
          0.0005676957298962176,
          0.0005615082183902398,
          0.0005850840641126177,
          0.0004075835884765641,
          0.0004062482792768823,
          0.0004713584429168313,
          0.00047819240316860495,
          0.0005434748532473413,
          0.000543670142691487,
          0.0006241122104039158,
          0.0006330197540632888,
          0.0007083748244023245,
          0.0007193908070076073,
          0.0007758074068631756,
          0.0007892278956298084,
          0.0004954030199797455,
          0.0004982717410472197,
          0.0005118325218095844,
          0.0005193644014902485,
          0.000555315160189662,
          0.0005598547542104977,
          0.0006103959588524791,
          0.0006063487026059093,
          0.0006072022037317767,
          0.0005955822933687659
         ],
         "y0": " ",
         "yaxis": "y2"
        },
        {
         "alignmentgroup": "True",
         "hovertemplate": "synthesis=Twist<br>type=insertions<br>GC=%{x}<br>rate=%{y}<extra></extra>",
         "legendgroup": "Twist",
         "marker": {
          "color": "#de2d26"
         },
         "name": "Twist",
         "notched": false,
         "offsetgroup": "Twist",
         "orientation": "v",
         "showlegend": false,
         "type": "box",
         "x": [
          "GCall",
          "GCall",
          "GCall",
          "GCall",
          "GCall",
          "GCall",
          "GCall",
          "GCall",
          "GCall",
          "GCall",
          "GCall",
          "GCall",
          "GCall",
          "GCall",
          "GCall",
          "GCall",
          "GCall",
          "GCall",
          "GCall",
          "GCall",
          "GCall",
          "GCall",
          "GCfix",
          "GCfix",
          "GCfix",
          "GCfix",
          "GCfix",
          "GCfix",
          "GCfix",
          "GCfix",
          "GCfix",
          "GCfix",
          "GCfix",
          "GCfix",
          "GCfix",
          "GCfix",
          "GCfix",
          "GCfix",
          "GCfix",
          "GCfix",
          "GCfix",
          "GCfix",
          "GCfix",
          "GCfix"
         ],
         "x0": " ",
         "xaxis": "x3",
         "y": [
          0.0000489876507048289,
          0.00005453924609526962,
          0.00005657581395789245,
          0.00006153756720878766,
          0.00006310957468031991,
          0.000069143346204696,
          0.00007591679095002558,
          0.0000820201809047894,
          0.0000867176128567635,
          0.00009423140441208168,
          0.00009730665115776115,
          0.00010475185488850425,
          0.0000581334140749093,
          0.0000663369946392491,
          0.00006163603553746548,
          0.0000703837258588999,
          0.00006394296261677198,
          0.00007283587362666526,
          0.00006640704122599396,
          0.00007500123588154755,
          0.0000685771776939662,
          0.00007583514086023441,
          0.000060786402505205026,
          0.00006413524740092873,
          0.0000678873102363856,
          0.00007158988745138198,
          0.0000772030891049594,
          0.00008004529054089832,
          0.0000881615295415964,
          0.00009341850074901214,
          0.00010063472284427117,
          0.00010235662054993213,
          0.0001116053037803396,
          0.00011447981607545337,
          0.0000665835719140045,
          0.00007222670680426034,
          0.00007250068815158946,
          0.00007745031386641025,
          0.000075214469406398,
          0.00007968512529912476,
          0.00008038374067313557,
          0.00008413347251287026,
          0.00008346251952922096,
          0.00008427418072430718
         ],
         "y0": " ",
         "yaxis": "y3"
        },
        {
         "alignmentgroup": "True",
         "hovertemplate": "synthesis=Twist<br>type=delevents<br>GC=%{x}<br>rate=%{y}<extra></extra>",
         "legendgroup": "Twist",
         "marker": {
          "color": "#de2d26"
         },
         "name": "Twist",
         "notched": false,
         "offsetgroup": "Twist",
         "orientation": "v",
         "showlegend": false,
         "type": "box",
         "x": [
          "GCall",
          "GCall",
          "GCall",
          "GCall",
          "GCall",
          "GCall",
          "GCall",
          "GCall",
          "GCall",
          "GCall",
          "GCall",
          "GCall",
          "GCall",
          "GCall",
          "GCall",
          "GCall",
          "GCall",
          "GCall",
          "GCall",
          "GCall",
          "GCall",
          "GCall",
          "GCfix",
          "GCfix",
          "GCfix",
          "GCfix",
          "GCfix",
          "GCfix",
          "GCfix",
          "GCfix",
          "GCfix",
          "GCfix",
          "GCfix",
          "GCfix",
          "GCfix",
          "GCfix",
          "GCfix",
          "GCfix",
          "GCfix",
          "GCfix",
          "GCfix",
          "GCfix",
          "GCfix",
          "GCfix"
         ],
         "x0": " ",
         "xaxis": "x4",
         "y": [
          0.00022396641613090074,
          0.0002332518193223399,
          0.00030452015960334884,
          0.00031923086064337264,
          0.0003603370542350032,
          0.00037976428149757817,
          0.00044919530250629166,
          0.00047406929294135886,
          0.000514905520068809,
          0.0005470375209637354,
          0.0005660304335700627,
          0.0005995996679926715,
          0.0003105438078273142,
          0.00032973029195457334,
          0.00034512088807959633,
          0.00036558107561172545,
          0.00036235586310715337,
          0.00038351449481846816,
          0.00037460846126639353,
          0.0003976800748824679,
          0.0003748476186817039,
          0.0003948637804910787,
          0.00022524752005592625,
          0.0002344853765798019,
          0.00029942268036741603,
          0.00031460487790806684,
          0.0003630208107578361,
          0.000379070742221503,
          0.00044406853377518875,
          0.000467513940590545,
          0.0005182434564254647,
          0.0005411128846700688,
          0.0005810051930291773,
          0.0006097070644231827,
          0.000316510972161481,
          0.00033020706145170945,
          0.00034651420041848256,
          0.0003626031619950464,
          0.000369675480429859,
          0.00038315797153033607,
          0.00039362662336354075,
          0.000406342162554044,
          0.0003881376048063055,
          0.00039663888020053664
         ],
         "y0": " ",
         "yaxis": "y4"
        }
       ],
       "layout": {
        "annotations": [
         {
          "font": {},
          "showarrow": false,
          "text": "type=substitutions",
          "x": 0.1175,
          "xanchor": "center",
          "xref": "paper",
          "y": 1,
          "yanchor": "bottom",
          "yref": "paper"
         },
         {
          "font": {},
          "showarrow": false,
          "text": "type=deletions",
          "x": 0.3725,
          "xanchor": "center",
          "xref": "paper",
          "y": 1,
          "yanchor": "bottom",
          "yref": "paper"
         },
         {
          "font": {},
          "showarrow": false,
          "text": "type=insertions",
          "x": 0.6275,
          "xanchor": "center",
          "xref": "paper",
          "y": 1,
          "yanchor": "bottom",
          "yref": "paper"
         },
         {
          "font": {},
          "showarrow": false,
          "text": "type=delevents",
          "x": 0.8824999999999998,
          "xanchor": "center",
          "xref": "paper",
          "y": 1,
          "yanchor": "bottom",
          "yref": "paper"
         }
        ],
        "boxmode": "group",
        "font": {
         "family": "Inter"
        },
        "height": 250,
        "legend": {
         "font": {
          "size": 9.333333333333334
         },
         "title": {
          "text": "synthesis"
         },
         "tracegroupgap": 0
        },
        "margin": {
         "b": 0,
         "l": 0,
         "r": 10,
         "t": 20
        },
        "showlegend": false,
        "template": {
         "data": {
          "bar": [
           {
            "error_x": {
             "color": "rgb(36,36,36)"
            },
            "error_y": {
             "color": "rgb(36,36,36)"
            },
            "marker": {
             "line": {
              "color": "white",
              "width": 0.5
             },
             "pattern": {
              "fillmode": "overlay",
              "size": 10,
              "solidity": 0.2
             }
            },
            "type": "bar"
           }
          ],
          "barpolar": [
           {
            "marker": {
             "line": {
              "color": "white",
              "width": 0.5
             },
             "pattern": {
              "fillmode": "overlay",
              "size": 10,
              "solidity": 0.2
             }
            },
            "type": "barpolar"
           }
          ],
          "carpet": [
           {
            "aaxis": {
             "endlinecolor": "rgb(36,36,36)",
             "gridcolor": "white",
             "linecolor": "white",
             "minorgridcolor": "white",
             "startlinecolor": "rgb(36,36,36)"
            },
            "baxis": {
             "endlinecolor": "rgb(36,36,36)",
             "gridcolor": "white",
             "linecolor": "white",
             "minorgridcolor": "white",
             "startlinecolor": "rgb(36,36,36)"
            },
            "type": "carpet"
           }
          ],
          "choropleth": [
           {
            "colorbar": {
             "outlinewidth": 1,
             "tickcolor": "rgb(36,36,36)",
             "ticks": "outside"
            },
            "type": "choropleth"
           }
          ],
          "contour": [
           {
            "colorbar": {
             "outlinewidth": 1,
             "tickcolor": "rgb(36,36,36)",
             "ticks": "outside"
            },
            "colorscale": [
             [
              0,
              "#440154"
             ],
             [
              0.1111111111111111,
              "#482878"
             ],
             [
              0.2222222222222222,
              "#3e4989"
             ],
             [
              0.3333333333333333,
              "#31688e"
             ],
             [
              0.4444444444444444,
              "#26828e"
             ],
             [
              0.5555555555555556,
              "#1f9e89"
             ],
             [
              0.6666666666666666,
              "#35b779"
             ],
             [
              0.7777777777777778,
              "#6ece58"
             ],
             [
              0.8888888888888888,
              "#b5de2b"
             ],
             [
              1,
              "#fde725"
             ]
            ],
            "type": "contour"
           }
          ],
          "contourcarpet": [
           {
            "colorbar": {
             "outlinewidth": 1,
             "tickcolor": "rgb(36,36,36)",
             "ticks": "outside"
            },
            "type": "contourcarpet"
           }
          ],
          "heatmap": [
           {
            "colorbar": {
             "outlinewidth": 1,
             "tickcolor": "rgb(36,36,36)",
             "ticks": "outside"
            },
            "colorscale": [
             [
              0,
              "#440154"
             ],
             [
              0.1111111111111111,
              "#482878"
             ],
             [
              0.2222222222222222,
              "#3e4989"
             ],
             [
              0.3333333333333333,
              "#31688e"
             ],
             [
              0.4444444444444444,
              "#26828e"
             ],
             [
              0.5555555555555556,
              "#1f9e89"
             ],
             [
              0.6666666666666666,
              "#35b779"
             ],
             [
              0.7777777777777778,
              "#6ece58"
             ],
             [
              0.8888888888888888,
              "#b5de2b"
             ],
             [
              1,
              "#fde725"
             ]
            ],
            "type": "heatmap"
           }
          ],
          "heatmapgl": [
           {
            "colorbar": {
             "outlinewidth": 1,
             "tickcolor": "rgb(36,36,36)",
             "ticks": "outside"
            },
            "colorscale": [
             [
              0,
              "#440154"
             ],
             [
              0.1111111111111111,
              "#482878"
             ],
             [
              0.2222222222222222,
              "#3e4989"
             ],
             [
              0.3333333333333333,
              "#31688e"
             ],
             [
              0.4444444444444444,
              "#26828e"
             ],
             [
              0.5555555555555556,
              "#1f9e89"
             ],
             [
              0.6666666666666666,
              "#35b779"
             ],
             [
              0.7777777777777778,
              "#6ece58"
             ],
             [
              0.8888888888888888,
              "#b5de2b"
             ],
             [
              1,
              "#fde725"
             ]
            ],
            "type": "heatmapgl"
           }
          ],
          "histogram": [
           {
            "marker": {
             "line": {
              "color": "white",
              "width": 0.6
             }
            },
            "type": "histogram"
           }
          ],
          "histogram2d": [
           {
            "colorbar": {
             "outlinewidth": 1,
             "tickcolor": "rgb(36,36,36)",
             "ticks": "outside"
            },
            "colorscale": [
             [
              0,
              "#440154"
             ],
             [
              0.1111111111111111,
              "#482878"
             ],
             [
              0.2222222222222222,
              "#3e4989"
             ],
             [
              0.3333333333333333,
              "#31688e"
             ],
             [
              0.4444444444444444,
              "#26828e"
             ],
             [
              0.5555555555555556,
              "#1f9e89"
             ],
             [
              0.6666666666666666,
              "#35b779"
             ],
             [
              0.7777777777777778,
              "#6ece58"
             ],
             [
              0.8888888888888888,
              "#b5de2b"
             ],
             [
              1,
              "#fde725"
             ]
            ],
            "type": "histogram2d"
           }
          ],
          "histogram2dcontour": [
           {
            "colorbar": {
             "outlinewidth": 1,
             "tickcolor": "rgb(36,36,36)",
             "ticks": "outside"
            },
            "colorscale": [
             [
              0,
              "#440154"
             ],
             [
              0.1111111111111111,
              "#482878"
             ],
             [
              0.2222222222222222,
              "#3e4989"
             ],
             [
              0.3333333333333333,
              "#31688e"
             ],
             [
              0.4444444444444444,
              "#26828e"
             ],
             [
              0.5555555555555556,
              "#1f9e89"
             ],
             [
              0.6666666666666666,
              "#35b779"
             ],
             [
              0.7777777777777778,
              "#6ece58"
             ],
             [
              0.8888888888888888,
              "#b5de2b"
             ],
             [
              1,
              "#fde725"
             ]
            ],
            "type": "histogram2dcontour"
           }
          ],
          "mesh3d": [
           {
            "colorbar": {
             "outlinewidth": 1,
             "tickcolor": "rgb(36,36,36)",
             "ticks": "outside"
            },
            "type": "mesh3d"
           }
          ],
          "parcoords": [
           {
            "line": {
             "colorbar": {
              "outlinewidth": 1,
              "tickcolor": "rgb(36,36,36)",
              "ticks": "outside"
             }
            },
            "type": "parcoords"
           }
          ],
          "pie": [
           {
            "automargin": true,
            "type": "pie"
           }
          ],
          "scatter": [
           {
            "fillpattern": {
             "fillmode": "overlay",
             "size": 10,
             "solidity": 0.2
            },
            "type": "scatter"
           }
          ],
          "scatter3d": [
           {
            "line": {
             "colorbar": {
              "outlinewidth": 1,
              "tickcolor": "rgb(36,36,36)",
              "ticks": "outside"
             }
            },
            "marker": {
             "colorbar": {
              "outlinewidth": 1,
              "tickcolor": "rgb(36,36,36)",
              "ticks": "outside"
             }
            },
            "type": "scatter3d"
           }
          ],
          "scattercarpet": [
           {
            "marker": {
             "colorbar": {
              "outlinewidth": 1,
              "tickcolor": "rgb(36,36,36)",
              "ticks": "outside"
             }
            },
            "type": "scattercarpet"
           }
          ],
          "scattergeo": [
           {
            "marker": {
             "colorbar": {
              "outlinewidth": 1,
              "tickcolor": "rgb(36,36,36)",
              "ticks": "outside"
             }
            },
            "type": "scattergeo"
           }
          ],
          "scattergl": [
           {
            "marker": {
             "colorbar": {
              "outlinewidth": 1,
              "tickcolor": "rgb(36,36,36)",
              "ticks": "outside"
             }
            },
            "type": "scattergl"
           }
          ],
          "scattermapbox": [
           {
            "marker": {
             "colorbar": {
              "outlinewidth": 1,
              "tickcolor": "rgb(36,36,36)",
              "ticks": "outside"
             }
            },
            "type": "scattermapbox"
           }
          ],
          "scatterpolar": [
           {
            "marker": {
             "colorbar": {
              "outlinewidth": 1,
              "tickcolor": "rgb(36,36,36)",
              "ticks": "outside"
             }
            },
            "type": "scatterpolar"
           }
          ],
          "scatterpolargl": [
           {
            "marker": {
             "colorbar": {
              "outlinewidth": 1,
              "tickcolor": "rgb(36,36,36)",
              "ticks": "outside"
             }
            },
            "type": "scatterpolargl"
           }
          ],
          "scatterternary": [
           {
            "marker": {
             "colorbar": {
              "outlinewidth": 1,
              "tickcolor": "rgb(36,36,36)",
              "ticks": "outside"
             }
            },
            "type": "scatterternary"
           }
          ],
          "surface": [
           {
            "colorbar": {
             "outlinewidth": 1,
             "tickcolor": "rgb(36,36,36)",
             "ticks": "outside"
            },
            "colorscale": [
             [
              0,
              "#440154"
             ],
             [
              0.1111111111111111,
              "#482878"
             ],
             [
              0.2222222222222222,
              "#3e4989"
             ],
             [
              0.3333333333333333,
              "#31688e"
             ],
             [
              0.4444444444444444,
              "#26828e"
             ],
             [
              0.5555555555555556,
              "#1f9e89"
             ],
             [
              0.6666666666666666,
              "#35b779"
             ],
             [
              0.7777777777777778,
              "#6ece58"
             ],
             [
              0.8888888888888888,
              "#b5de2b"
             ],
             [
              1,
              "#fde725"
             ]
            ],
            "type": "surface"
           }
          ],
          "table": [
           {
            "cells": {
             "fill": {
              "color": "rgb(237,237,237)"
             },
             "line": {
              "color": "white"
             }
            },
            "header": {
             "fill": {
              "color": "rgb(217,217,217)"
             },
             "line": {
              "color": "white"
             }
            },
            "type": "table"
           }
          ]
         },
         "layout": {
          "annotationdefaults": {
           "arrowhead": 0,
           "arrowwidth": 1
          },
          "autotypenumbers": "strict",
          "coloraxis": {
           "colorbar": {
            "outlinewidth": 1,
            "tickcolor": "rgb(36,36,36)",
            "ticks": "outside"
           }
          },
          "colorscale": {
           "diverging": [
            [
             0,
             "rgb(103,0,31)"
            ],
            [
             0.1,
             "rgb(178,24,43)"
            ],
            [
             0.2,
             "rgb(214,96,77)"
            ],
            [
             0.3,
             "rgb(244,165,130)"
            ],
            [
             0.4,
             "rgb(253,219,199)"
            ],
            [
             0.5,
             "rgb(247,247,247)"
            ],
            [
             0.6,
             "rgb(209,229,240)"
            ],
            [
             0.7,
             "rgb(146,197,222)"
            ],
            [
             0.8,
             "rgb(67,147,195)"
            ],
            [
             0.9,
             "rgb(33,102,172)"
            ],
            [
             1,
             "rgb(5,48,97)"
            ]
           ],
           "sequential": [
            [
             0,
             "#440154"
            ],
            [
             0.1111111111111111,
             "#482878"
            ],
            [
             0.2222222222222222,
             "#3e4989"
            ],
            [
             0.3333333333333333,
             "#31688e"
            ],
            [
             0.4444444444444444,
             "#26828e"
            ],
            [
             0.5555555555555556,
             "#1f9e89"
            ],
            [
             0.6666666666666666,
             "#35b779"
            ],
            [
             0.7777777777777778,
             "#6ece58"
            ],
            [
             0.8888888888888888,
             "#b5de2b"
            ],
            [
             1,
             "#fde725"
            ]
           ],
           "sequentialminus": [
            [
             0,
             "#440154"
            ],
            [
             0.1111111111111111,
             "#482878"
            ],
            [
             0.2222222222222222,
             "#3e4989"
            ],
            [
             0.3333333333333333,
             "#31688e"
            ],
            [
             0.4444444444444444,
             "#26828e"
            ],
            [
             0.5555555555555556,
             "#1f9e89"
            ],
            [
             0.6666666666666666,
             "#35b779"
            ],
            [
             0.7777777777777778,
             "#6ece58"
            ],
            [
             0.8888888888888888,
             "#b5de2b"
            ],
            [
             1,
             "#fde725"
            ]
           ]
          },
          "colorway": [
           "#1F77B4",
           "#FF7F0E",
           "#2CA02C",
           "#D62728",
           "#9467BD",
           "#8C564B",
           "#E377C2",
           "#7F7F7F",
           "#BCBD22",
           "#17BECF"
          ],
          "font": {
           "color": "rgb(36,36,36)"
          },
          "geo": {
           "bgcolor": "white",
           "lakecolor": "white",
           "landcolor": "white",
           "showlakes": true,
           "showland": true,
           "subunitcolor": "white"
          },
          "hoverlabel": {
           "align": "left"
          },
          "hovermode": "closest",
          "mapbox": {
           "style": "light"
          },
          "paper_bgcolor": "white",
          "plot_bgcolor": "white",
          "polar": {
           "angularaxis": {
            "gridcolor": "rgb(232,232,232)",
            "linecolor": "rgb(36,36,36)",
            "showgrid": false,
            "showline": true,
            "ticks": "outside"
           },
           "bgcolor": "white",
           "radialaxis": {
            "gridcolor": "rgb(232,232,232)",
            "linecolor": "rgb(36,36,36)",
            "showgrid": false,
            "showline": true,
            "ticks": "outside"
           }
          },
          "scene": {
           "xaxis": {
            "backgroundcolor": "white",
            "gridcolor": "rgb(232,232,232)",
            "gridwidth": 2,
            "linecolor": "rgb(36,36,36)",
            "showbackground": true,
            "showgrid": false,
            "showline": true,
            "ticks": "outside",
            "zeroline": false,
            "zerolinecolor": "rgb(36,36,36)"
           },
           "yaxis": {
            "backgroundcolor": "white",
            "gridcolor": "rgb(232,232,232)",
            "gridwidth": 2,
            "linecolor": "rgb(36,36,36)",
            "showbackground": true,
            "showgrid": false,
            "showline": true,
            "ticks": "outside",
            "zeroline": false,
            "zerolinecolor": "rgb(36,36,36)"
           },
           "zaxis": {
            "backgroundcolor": "white",
            "gridcolor": "rgb(232,232,232)",
            "gridwidth": 2,
            "linecolor": "rgb(36,36,36)",
            "showbackground": true,
            "showgrid": false,
            "showline": true,
            "ticks": "outside",
            "zeroline": false,
            "zerolinecolor": "rgb(36,36,36)"
           }
          },
          "shapedefaults": {
           "fillcolor": "black",
           "line": {
            "width": 0
           },
           "opacity": 0.3
          },
          "ternary": {
           "aaxis": {
            "gridcolor": "rgb(232,232,232)",
            "linecolor": "rgb(36,36,36)",
            "showgrid": false,
            "showline": true,
            "ticks": "outside"
           },
           "baxis": {
            "gridcolor": "rgb(232,232,232)",
            "linecolor": "rgb(36,36,36)",
            "showgrid": false,
            "showline": true,
            "ticks": "outside"
           },
           "bgcolor": "white",
           "caxis": {
            "gridcolor": "rgb(232,232,232)",
            "linecolor": "rgb(36,36,36)",
            "showgrid": false,
            "showline": true,
            "ticks": "outside"
           }
          },
          "title": {
           "x": 0.05
          },
          "xaxis": {
           "automargin": true,
           "gridcolor": "rgb(232,232,232)",
           "linecolor": "rgb(36,36,36)",
           "showgrid": false,
           "showline": true,
           "ticks": "outside",
           "title": {
            "standoff": 15
           },
           "zeroline": false,
           "zerolinecolor": "rgb(36,36,36)"
          },
          "yaxis": {
           "automargin": true,
           "gridcolor": "rgb(232,232,232)",
           "linecolor": "rgb(36,36,36)",
           "showgrid": false,
           "showline": true,
           "ticks": "outside",
           "title": {
            "standoff": 15
           },
           "zeroline": false,
           "zerolinecolor": "rgb(36,36,36)"
          }
         }
        },
        "width": 500,
        "xaxis": {
         "anchor": "y",
         "domain": [
          0,
          0.235
         ],
         "tickfont": {
          "size": 9.333333333333334
         },
         "title": {
          "font": {
           "size": 9.333333333333334
          },
          "text": "GC"
         }
        },
        "xaxis2": {
         "anchor": "y2",
         "domain": [
          0.255,
          0.49
         ],
         "matches": "x",
         "tickfont": {
          "size": 9.333333333333334
         },
         "title": {
          "font": {
           "size": 9.333333333333334
          },
          "text": "GC"
         }
        },
        "xaxis3": {
         "anchor": "y3",
         "domain": [
          0.51,
          0.745
         ],
         "matches": "x",
         "tickfont": {
          "size": 9.333333333333334
         },
         "title": {
          "font": {
           "size": 9.333333333333334
          },
          "text": "GC"
         }
        },
        "xaxis4": {
         "anchor": "y4",
         "domain": [
          0.7649999999999999,
          0.9999999999999999
         ],
         "matches": "x",
         "tickfont": {
          "size": 9.333333333333334
         },
         "title": {
          "font": {
           "size": 9.333333333333334
          },
          "text": "GC"
         }
        },
        "yaxis": {
         "anchor": "x",
         "domain": [
          0,
          1
         ],
         "minor": {
          "dtick": 0.0025,
          "ticks": "outside"
         },
         "range": [
          0,
          0.0175
         ],
         "tickfont": {
          "size": 9.333333333333334
         },
         "title": {
          "font": {
           "size": 9.333333333333334
          },
          "text": "rate"
         }
        },
        "yaxis2": {
         "anchor": "x2",
         "domain": [
          0,
          1
         ],
         "matches": "y",
         "minor": {
          "dtick": 0.0025,
          "ticks": "outside"
         },
         "range": [
          0,
          0.0175
         ],
         "showticklabels": false,
         "tickfont": {
          "size": 9.333333333333334
         },
         "title": {
          "font": {
           "size": 9.333333333333334
          }
         }
        },
        "yaxis3": {
         "anchor": "x3",
         "domain": [
          0,
          1
         ],
         "matches": "y",
         "minor": {
          "dtick": 0.0025,
          "ticks": "outside"
         },
         "range": [
          0,
          0.0175
         ],
         "showticklabels": false,
         "tickfont": {
          "size": 9.333333333333334
         },
         "title": {
          "font": {
           "size": 9.333333333333334
          }
         }
        },
        "yaxis4": {
         "anchor": "x4",
         "domain": [
          0,
          1
         ],
         "matches": "y",
         "minor": {
          "dtick": 0.0025,
          "ticks": "outside"
         },
         "range": [
          0,
          0.0175
         ],
         "showticklabels": false,
         "tickfont": {
          "size": 9.333333333333334
         },
         "title": {
          "font": {
           "size": 9.333333333333334
          }
         }
        }
       }
      }
     },
     "metadata": {},
     "output_type": "display_data"
    }
   ],
   "source": [
    "fig = px.box(\n",
    "    errordata,\n",
    "    x=\"GC\",\n",
    "    y=\"rate\",\n",
    "    color=\"synthesis\",\n",
    "    facet_col=\"type\",\n",
    "    color_discrete_sequence=[\"#3182bd\", \"#de2d26\"]\n",
    ")\n",
    "\n",
    "\n",
    "fig.update_layout(\n",
    "    template='simple_white',\n",
    "    height=250,\n",
    "    width=500,\n",
    "    showlegend=False,\n",
    "    margin=dict(l=0, r=10, t=20, b=00),\n",
    "    font_family=\"Inter\",\n",
    "    legend_font_size=28/3,\n",
    ")\n",
    "fig.update_xaxes(\n",
    "    title_font_size=28/3, \n",
    "    tickfont_size=28/3\n",
    ")\n",
    "fig.update_yaxes(\n",
    "    range=[0, 0.0175], \n",
    "    title_font_size=28/3, \n",
    "    tickfont_size=28/3, \n",
    "    minor_ticks=\"outside\", \n",
    "    minor_dtick=0.0025\n",
    ")"
   ]
  }
 ],
 "metadata": {
  "kernelspec": {
   "display_name": "np_pd_sp",
   "language": "python",
   "name": "python3"
  },
  "language_info": {
   "codemirror_mode": {
    "name": "ipython",
    "version": 3
   },
   "file_extension": ".py",
   "mimetype": "text/x-python",
   "name": "python",
   "nbconvert_exporter": "python",
   "pygments_lexer": "ipython3",
   "version": "3.9.7"
  },
  "orig_nbformat": 4,
  "vscode": {
   "interpreter": {
    "hash": "da8130b5c8ccf41f100662caf67f3ba756beedabd599674f9119b95438e5e458"
   }
  }
 },
 "nbformat": 4,
 "nbformat_minor": 2
}
