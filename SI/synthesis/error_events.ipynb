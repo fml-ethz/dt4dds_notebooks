{
 "cells": [
  {
   "cell_type": "code",
   "execution_count": 1,
   "metadata": {},
   "outputs": [],
   "source": [
    "import pandas as pd\n",
    "import numpy as np\n",
    "import scipy.stats\n",
    "import plotly.express as px\n",
    "import plotly.graph_objects as pg"
   ]
  },
  {
   "cell_type": "code",
   "execution_count": 2,
   "metadata": {},
   "outputs": [],
   "source": [
    "%load_ext autoreload\n",
    "%autoreload 2\n",
    "import dt4dds.analysis as analysis\n",
    "\n",
    "data = analysis.GroupAnalysis([\n",
    "    ('GCall', analysis.ErrorAnalysis(\"../../data/PCR/15c_Genscript_GCall\")),\n",
    "    ('GCall', analysis.ErrorAnalysis(\"../../data/PCR/20c_Genscript_GCall\")),\n",
    "    ('GCall', analysis.ErrorAnalysis(\"../../data/PCR/25c_Genscript_GCall\")),\n",
    "    ('GCall', analysis.ErrorAnalysis(\"../../data/Aging/0a_Genscript_GCall\")),\n",
    "    ('GCall', analysis.ErrorAnalysis(\"../../data/Aging/0b_Genscript_GCall\")),\n",
    "    ('GCall', analysis.ErrorAnalysis(\"../../data/Aging/2d_Genscript_GCall\")),\n",
    "    ('GCall', analysis.ErrorAnalysis(\"../../data/Aging/4d_Genscript_GCall\")),\n",
    "    ('GCall', analysis.ErrorAnalysis(\"../../data/Aging/7d_Genscript_GCall\")),\n",
    "    ('GCfix', analysis.ErrorAnalysis(\"../../data/PCR/10c_Genscript_GCfix\")),\n",
    "    ('GCfix', analysis.ErrorAnalysis(\"../../data/PCR/15c_Genscript_GCfix\")),\n",
    "    ('GCfix', analysis.ErrorAnalysis(\"../../data/PCR/20c_Genscript_GCfix\")),\n",
    "    ('GCfix', analysis.ErrorAnalysis(\"../../data/Aging/0a_Genscript_GCfix\")),\n",
    "    ('GCfix', analysis.ErrorAnalysis(\"../../data/Aging/0b_Genscript_GCfix\")),\n",
    "    ('GCfix', analysis.ErrorAnalysis(\"../../data/Aging/2d_Genscript_GCfix\")),\n",
    "    ('GCfix', analysis.ErrorAnalysis(\"../../data/Aging/4d_Genscript_GCfix\")),\n",
    "    ('GCfix', analysis.ErrorAnalysis(\"../../data/Aging/7d_Genscript_GCfix\")),\n",
    "])"
   ]
  },
  {
   "attachments": {},
   "cell_type": "markdown",
   "metadata": {},
   "source": [
    "# Consecutive errors"
   ]
  },
  {
   "cell_type": "code",
   "execution_count": 3,
   "metadata": {},
   "outputs": [],
   "source": [
    "from plotly.subplots import make_subplots\n",
    "\n",
    "\n",
    "\n",
    "colors = [\"#636363\", \"#bdbdbd\"]\n",
    "colors_marker = [\"#222222\", \"#222222\"]\n",
    "MAX_LENGTH = 4\n",
    "\n",
    "\n",
    "def length_plots(data, errortype):\n",
    "\n",
    "    fig = make_subplots(\n",
    "        rows=2, \n",
    "        shared_xaxes=True, \n",
    "        vertical_spacing=0.05,\n",
    "        row_heights=[0.3, 0.7],\n",
    "    )\n",
    "\n",
    "    idata = data.data[f\"error_frequency_by_length\"].copy()\n",
    "    idata.drop(idata.loc[idata['type'] != errortype].index, inplace=True)\n",
    "    idata.length.clip(upper=MAX_LENGTH, inplace=True)\n",
    "\n",
    "    newframe = idata.loc[idata.length == MAX_LENGTH].groupby(['type', 'exp', 'read', 'group'])['value'].sum().reset_index()\n",
    "    newframe['length'] = MAX_LENGTH\n",
    "\n",
    "    idata.drop(idata.loc[idata['length'] == MAX_LENGTH].index, inplace=True)\n",
    "    idata = pd.concat([idata, newframe], ignore_index=True)\n",
    "\n",
    "    def summary(group):\n",
    "        d = {}\n",
    "        d['mean'] = group.value.mean()\n",
    "        d['std'] = group.value.std()\n",
    "        return pd.Series(d, index=['mean', 'std'])\n",
    "\n",
    "    df_aggregate = idata.groupby(['group', 'length'], as_index=False).apply(summary)\n",
    "\n",
    "\n",
    "    length = np.arange(1, max(df_aggregate.length)+1)\n",
    "    mean_rates = data.data[f\"overall_error_rates\"].loc[data.data[f\"overall_error_rates\"].type == errortype].groupby('group').agg(mean=('rate', 'mean'), std=('rate', 'std'))\n",
    "\n",
    "\n",
    "\n",
    "    for i, group in enumerate(df_aggregate.group.unique()):\n",
    "\n",
    "        this_data = df_aggregate.loc[df_aggregate.group == group]\n",
    "\n",
    "        fig.add_trace(\n",
    "            pg.Bar(\n",
    "                x=this_data['length'],\n",
    "                y=this_data['mean'],\n",
    "                error_y=dict(\n",
    "                    type='data',\n",
    "                    array=this_data['std'],\n",
    "                    color='#222222',\n",
    "                    visible=True,\n",
    "                    thickness=1.5,\n",
    "                ),\n",
    "                marker_color=colors[i]\n",
    "            ),\n",
    "            col=1,\n",
    "            row=1\n",
    "        )\n",
    "        fig.add_trace(\n",
    "            pg.Bar(\n",
    "                x=this_data['length'],\n",
    "                y=this_data['mean'],\n",
    "                error_y=dict(\n",
    "                    type='data',\n",
    "                    array=this_data['std'],\n",
    "                    color='#222222',\n",
    "                    visible=True,\n",
    "                    thickness=1.5,\n",
    "                ),\n",
    "                marker_color=colors[i]\n",
    "            ),\n",
    "            col=1,\n",
    "            row=2\n",
    "        )\n",
    "\n",
    "        ratios = scipy.stats.geom.pmf(length, 1-mean_rates.loc[group, 'mean'])\n",
    "        ratios[2] = 1-np.sum(ratios[0:-1])\n",
    "\n",
    "        fig.add_trace(\n",
    "            pg.Scatter(\n",
    "                x=length-0.4/2+i*0.4,\n",
    "                y=ratios,\n",
    "                mode=\"markers\",\n",
    "                marker_color=colors_marker[i],\n",
    "                marker_line_color=colors_marker[i],\n",
    "                marker_line_width=2, \n",
    "                marker_size=8,\n",
    "                marker_symbol=\"diamond-wide\",\n",
    "            ),\n",
    "            col=1,\n",
    "            row=1\n",
    "        )\n",
    "        fig.add_trace(\n",
    "            pg.Scatter(\n",
    "                x=length-0.4/2+i*0.4,\n",
    "                y=ratios,\n",
    "                mode=\"markers\",\n",
    "                marker_color=colors_marker[i],\n",
    "                marker_line_color=colors_marker[i],\n",
    "                marker_line_width=2, \n",
    "                marker_size=8,\n",
    "                marker_symbol=\"diamond-wide\",\n",
    "            ),\n",
    "            col=1,\n",
    "            row=2\n",
    "        )\n",
    "\n",
    "\n",
    "    fig.update_layout(\n",
    "        template='simple_white',\n",
    "        height=175,\n",
    "        width=245,\n",
    "        showlegend=False,\n",
    "        barmode='group',\n",
    "        margin=dict(l=50, r=0, t=5, b=0),\n",
    "        font_family=\"Inter\",\n",
    "        legend_font_size=28/3,\n",
    "    )\n",
    "\n",
    "    ticktext = list(map(str, range(1, MAX_LENGTH+1)))\n",
    "    ticktext[-1] += '+'\n",
    "\n",
    "    fig.update_xaxes(\n",
    "        showticklabels=False, \n",
    "        visible=False, \n",
    "        range=[0.5, MAX_LENGTH+0.5],\n",
    "        tickmode = 'array',\n",
    "        tickvals = list(range(1, MAX_LENGTH+1)),\n",
    "        ticktext = ticktext,\n",
    "    )\n",
    "    fig.update_xaxes(showticklabels=True, visible=True, row=2, col=1)\n",
    "    fig.update_xaxes(showticklabels=True, visible=True, row=2, col=2)\n",
    "\n",
    "    fig.update_yaxes(tickformat=\",.0%\")\n",
    "    fig.update_yaxes(range=[0, 0.1], row=2, dtick=0.05)\n",
    "    fig.update_yaxes(range=[0.725, 1.03], row=1, dtick=0.2)\n",
    "\n",
    "    return fig"
   ]
  },
  {
   "cell_type": "code",
   "execution_count": 4,
   "metadata": {},
   "outputs": [
    {
     "data": {
      "application/vnd.plotly.v1+json": {
       "config": {
        "plotlyServerURL": "https://plot.ly"
       },
       "data": [
        {
         "error_y": {
          "array": [
           0.006416796175622658,
           0.0048948746523026455,
           0.0009204858715190076,
           0.0006924662282295728
          ],
          "color": "#222222",
          "thickness": 1.5,
          "type": "data",
          "visible": true
         },
         "marker": {
          "color": "#636363"
         },
         "type": "bar",
         "x": [
          1,
          2,
          3,
          4
         ],
         "xaxis": "x",
         "y": [
          0.9048072821968395,
          0.07367453088532622,
          0.011739590554537693,
          0.009778596363296619
         ],
         "yaxis": "y"
        },
        {
         "error_y": {
          "array": [
           0.006416796175622658,
           0.0048948746523026455,
           0.0009204858715190076,
           0.0006924662282295728
          ],
          "color": "#222222",
          "thickness": 1.5,
          "type": "data",
          "visible": true
         },
         "marker": {
          "color": "#636363"
         },
         "type": "bar",
         "x": [
          1,
          2,
          3,
          4
         ],
         "xaxis": "x2",
         "y": [
          0.9048072821968395,
          0.07367453088532622,
          0.011739590554537693,
          0.009778596363296619
         ],
         "yaxis": "y2"
        },
        {
         "marker": {
          "color": "#222222",
          "line": {
           "color": "#222222",
           "width": 2
          },
          "size": 8,
          "symbol": "diamond-wide"
         },
         "mode": "markers",
         "type": "scatter",
         "x": [
          0.8,
          1.8,
          2.8,
          3.8
         ],
         "xaxis": "x",
         "y": [
          0.9881891654440694,
          0.011671338743023008,
          0.0000016475619674105602,
          0.0000016281028856775373
         ],
         "yaxis": "y"
        },
        {
         "marker": {
          "color": "#222222",
          "line": {
           "color": "#222222",
           "width": 2
          },
          "size": 8,
          "symbol": "diamond-wide"
         },
         "mode": "markers",
         "type": "scatter",
         "x": [
          0.8,
          1.8,
          2.8,
          3.8
         ],
         "xaxis": "x2",
         "y": [
          0.9881891654440694,
          0.011671338743023008,
          0.0000016475619674105602,
          0.0000016281028856775373
         ],
         "yaxis": "y2"
        },
        {
         "error_y": {
          "array": [
           0.0028088259416386616,
           0.0018806189771564785,
           0.0007222276009528516,
           0.0006609687485020758
          ],
          "color": "#222222",
          "thickness": 1.5,
          "type": "data",
          "visible": true
         },
         "marker": {
          "color": "#bdbdbd"
         },
         "type": "bar",
         "x": [
          1,
          2,
          3,
          4
         ],
         "xaxis": "x",
         "y": [
          0.8656557723630932,
          0.09810346078605932,
          0.020715645222248173,
          0.01552512162859934
         ],
         "yaxis": "y"
        },
        {
         "error_y": {
          "array": [
           0.0028088259416386616,
           0.0018806189771564785,
           0.0007222276009528516,
           0.0006609687485020758
          ],
          "color": "#222222",
          "thickness": 1.5,
          "type": "data",
          "visible": true
         },
         "marker": {
          "color": "#bdbdbd"
         },
         "type": "bar",
         "x": [
          1,
          2,
          3,
          4
         ],
         "xaxis": "x2",
         "y": [
          0.8656557723630932,
          0.09810346078605932,
          0.020715645222248173,
          0.01552512162859934
         ],
         "yaxis": "y2"
        },
        {
         "marker": {
          "color": "#222222",
          "line": {
           "color": "#222222",
           "width": 2
          },
          "size": 8,
          "symbol": "diamond-wide"
         },
         "mode": "markers",
         "type": "scatter",
         "x": [
          1.2000000000000002,
          2.2,
          3.1999999999999997,
          4.2
         ],
         "xaxis": "x",
         "y": [
          0.983817303367157,
          0.015920816962532367,
          0.000004237919258964773,
          0.000004169338297223831
         ],
         "yaxis": "y"
        },
        {
         "marker": {
          "color": "#222222",
          "line": {
           "color": "#222222",
           "width": 2
          },
          "size": 8,
          "symbol": "diamond-wide"
         },
         "mode": "markers",
         "type": "scatter",
         "x": [
          1.2000000000000002,
          2.2,
          3.1999999999999997,
          4.2
         ],
         "xaxis": "x2",
         "y": [
          0.983817303367157,
          0.015920816962532367,
          0.000004237919258964773,
          0.000004169338297223831
         ],
         "yaxis": "y2"
        }
       ],
       "layout": {
        "barmode": "group",
        "font": {
         "family": "Inter"
        },
        "height": 175,
        "legend": {
         "font": {
          "size": 9.333333333333334
         }
        },
        "margin": {
         "b": 0,
         "l": 50,
         "r": 0,
         "t": 5
        },
        "showlegend": false,
        "template": {
         "data": {
          "bar": [
           {
            "error_x": {
             "color": "rgb(36,36,36)"
            },
            "error_y": {
             "color": "rgb(36,36,36)"
            },
            "marker": {
             "line": {
              "color": "white",
              "width": 0.5
             },
             "pattern": {
              "fillmode": "overlay",
              "size": 10,
              "solidity": 0.2
             }
            },
            "type": "bar"
           }
          ],
          "barpolar": [
           {
            "marker": {
             "line": {
              "color": "white",
              "width": 0.5
             },
             "pattern": {
              "fillmode": "overlay",
              "size": 10,
              "solidity": 0.2
             }
            },
            "type": "barpolar"
           }
          ],
          "carpet": [
           {
            "aaxis": {
             "endlinecolor": "rgb(36,36,36)",
             "gridcolor": "white",
             "linecolor": "white",
             "minorgridcolor": "white",
             "startlinecolor": "rgb(36,36,36)"
            },
            "baxis": {
             "endlinecolor": "rgb(36,36,36)",
             "gridcolor": "white",
             "linecolor": "white",
             "minorgridcolor": "white",
             "startlinecolor": "rgb(36,36,36)"
            },
            "type": "carpet"
           }
          ],
          "choropleth": [
           {
            "colorbar": {
             "outlinewidth": 1,
             "tickcolor": "rgb(36,36,36)",
             "ticks": "outside"
            },
            "type": "choropleth"
           }
          ],
          "contour": [
           {
            "colorbar": {
             "outlinewidth": 1,
             "tickcolor": "rgb(36,36,36)",
             "ticks": "outside"
            },
            "colorscale": [
             [
              0,
              "#440154"
             ],
             [
              0.1111111111111111,
              "#482878"
             ],
             [
              0.2222222222222222,
              "#3e4989"
             ],
             [
              0.3333333333333333,
              "#31688e"
             ],
             [
              0.4444444444444444,
              "#26828e"
             ],
             [
              0.5555555555555556,
              "#1f9e89"
             ],
             [
              0.6666666666666666,
              "#35b779"
             ],
             [
              0.7777777777777778,
              "#6ece58"
             ],
             [
              0.8888888888888888,
              "#b5de2b"
             ],
             [
              1,
              "#fde725"
             ]
            ],
            "type": "contour"
           }
          ],
          "contourcarpet": [
           {
            "colorbar": {
             "outlinewidth": 1,
             "tickcolor": "rgb(36,36,36)",
             "ticks": "outside"
            },
            "type": "contourcarpet"
           }
          ],
          "heatmap": [
           {
            "colorbar": {
             "outlinewidth": 1,
             "tickcolor": "rgb(36,36,36)",
             "ticks": "outside"
            },
            "colorscale": [
             [
              0,
              "#440154"
             ],
             [
              0.1111111111111111,
              "#482878"
             ],
             [
              0.2222222222222222,
              "#3e4989"
             ],
             [
              0.3333333333333333,
              "#31688e"
             ],
             [
              0.4444444444444444,
              "#26828e"
             ],
             [
              0.5555555555555556,
              "#1f9e89"
             ],
             [
              0.6666666666666666,
              "#35b779"
             ],
             [
              0.7777777777777778,
              "#6ece58"
             ],
             [
              0.8888888888888888,
              "#b5de2b"
             ],
             [
              1,
              "#fde725"
             ]
            ],
            "type": "heatmap"
           }
          ],
          "heatmapgl": [
           {
            "colorbar": {
             "outlinewidth": 1,
             "tickcolor": "rgb(36,36,36)",
             "ticks": "outside"
            },
            "colorscale": [
             [
              0,
              "#440154"
             ],
             [
              0.1111111111111111,
              "#482878"
             ],
             [
              0.2222222222222222,
              "#3e4989"
             ],
             [
              0.3333333333333333,
              "#31688e"
             ],
             [
              0.4444444444444444,
              "#26828e"
             ],
             [
              0.5555555555555556,
              "#1f9e89"
             ],
             [
              0.6666666666666666,
              "#35b779"
             ],
             [
              0.7777777777777778,
              "#6ece58"
             ],
             [
              0.8888888888888888,
              "#b5de2b"
             ],
             [
              1,
              "#fde725"
             ]
            ],
            "type": "heatmapgl"
           }
          ],
          "histogram": [
           {
            "marker": {
             "line": {
              "color": "white",
              "width": 0.6
             }
            },
            "type": "histogram"
           }
          ],
          "histogram2d": [
           {
            "colorbar": {
             "outlinewidth": 1,
             "tickcolor": "rgb(36,36,36)",
             "ticks": "outside"
            },
            "colorscale": [
             [
              0,
              "#440154"
             ],
             [
              0.1111111111111111,
              "#482878"
             ],
             [
              0.2222222222222222,
              "#3e4989"
             ],
             [
              0.3333333333333333,
              "#31688e"
             ],
             [
              0.4444444444444444,
              "#26828e"
             ],
             [
              0.5555555555555556,
              "#1f9e89"
             ],
             [
              0.6666666666666666,
              "#35b779"
             ],
             [
              0.7777777777777778,
              "#6ece58"
             ],
             [
              0.8888888888888888,
              "#b5de2b"
             ],
             [
              1,
              "#fde725"
             ]
            ],
            "type": "histogram2d"
           }
          ],
          "histogram2dcontour": [
           {
            "colorbar": {
             "outlinewidth": 1,
             "tickcolor": "rgb(36,36,36)",
             "ticks": "outside"
            },
            "colorscale": [
             [
              0,
              "#440154"
             ],
             [
              0.1111111111111111,
              "#482878"
             ],
             [
              0.2222222222222222,
              "#3e4989"
             ],
             [
              0.3333333333333333,
              "#31688e"
             ],
             [
              0.4444444444444444,
              "#26828e"
             ],
             [
              0.5555555555555556,
              "#1f9e89"
             ],
             [
              0.6666666666666666,
              "#35b779"
             ],
             [
              0.7777777777777778,
              "#6ece58"
             ],
             [
              0.8888888888888888,
              "#b5de2b"
             ],
             [
              1,
              "#fde725"
             ]
            ],
            "type": "histogram2dcontour"
           }
          ],
          "mesh3d": [
           {
            "colorbar": {
             "outlinewidth": 1,
             "tickcolor": "rgb(36,36,36)",
             "ticks": "outside"
            },
            "type": "mesh3d"
           }
          ],
          "parcoords": [
           {
            "line": {
             "colorbar": {
              "outlinewidth": 1,
              "tickcolor": "rgb(36,36,36)",
              "ticks": "outside"
             }
            },
            "type": "parcoords"
           }
          ],
          "pie": [
           {
            "automargin": true,
            "type": "pie"
           }
          ],
          "scatter": [
           {
            "fillpattern": {
             "fillmode": "overlay",
             "size": 10,
             "solidity": 0.2
            },
            "type": "scatter"
           }
          ],
          "scatter3d": [
           {
            "line": {
             "colorbar": {
              "outlinewidth": 1,
              "tickcolor": "rgb(36,36,36)",
              "ticks": "outside"
             }
            },
            "marker": {
             "colorbar": {
              "outlinewidth": 1,
              "tickcolor": "rgb(36,36,36)",
              "ticks": "outside"
             }
            },
            "type": "scatter3d"
           }
          ],
          "scattercarpet": [
           {
            "marker": {
             "colorbar": {
              "outlinewidth": 1,
              "tickcolor": "rgb(36,36,36)",
              "ticks": "outside"
             }
            },
            "type": "scattercarpet"
           }
          ],
          "scattergeo": [
           {
            "marker": {
             "colorbar": {
              "outlinewidth": 1,
              "tickcolor": "rgb(36,36,36)",
              "ticks": "outside"
             }
            },
            "type": "scattergeo"
           }
          ],
          "scattergl": [
           {
            "marker": {
             "colorbar": {
              "outlinewidth": 1,
              "tickcolor": "rgb(36,36,36)",
              "ticks": "outside"
             }
            },
            "type": "scattergl"
           }
          ],
          "scattermapbox": [
           {
            "marker": {
             "colorbar": {
              "outlinewidth": 1,
              "tickcolor": "rgb(36,36,36)",
              "ticks": "outside"
             }
            },
            "type": "scattermapbox"
           }
          ],
          "scatterpolar": [
           {
            "marker": {
             "colorbar": {
              "outlinewidth": 1,
              "tickcolor": "rgb(36,36,36)",
              "ticks": "outside"
             }
            },
            "type": "scatterpolar"
           }
          ],
          "scatterpolargl": [
           {
            "marker": {
             "colorbar": {
              "outlinewidth": 1,
              "tickcolor": "rgb(36,36,36)",
              "ticks": "outside"
             }
            },
            "type": "scatterpolargl"
           }
          ],
          "scatterternary": [
           {
            "marker": {
             "colorbar": {
              "outlinewidth": 1,
              "tickcolor": "rgb(36,36,36)",
              "ticks": "outside"
             }
            },
            "type": "scatterternary"
           }
          ],
          "surface": [
           {
            "colorbar": {
             "outlinewidth": 1,
             "tickcolor": "rgb(36,36,36)",
             "ticks": "outside"
            },
            "colorscale": [
             [
              0,
              "#440154"
             ],
             [
              0.1111111111111111,
              "#482878"
             ],
             [
              0.2222222222222222,
              "#3e4989"
             ],
             [
              0.3333333333333333,
              "#31688e"
             ],
             [
              0.4444444444444444,
              "#26828e"
             ],
             [
              0.5555555555555556,
              "#1f9e89"
             ],
             [
              0.6666666666666666,
              "#35b779"
             ],
             [
              0.7777777777777778,
              "#6ece58"
             ],
             [
              0.8888888888888888,
              "#b5de2b"
             ],
             [
              1,
              "#fde725"
             ]
            ],
            "type": "surface"
           }
          ],
          "table": [
           {
            "cells": {
             "fill": {
              "color": "rgb(237,237,237)"
             },
             "line": {
              "color": "white"
             }
            },
            "header": {
             "fill": {
              "color": "rgb(217,217,217)"
             },
             "line": {
              "color": "white"
             }
            },
            "type": "table"
           }
          ]
         },
         "layout": {
          "annotationdefaults": {
           "arrowhead": 0,
           "arrowwidth": 1
          },
          "autotypenumbers": "strict",
          "coloraxis": {
           "colorbar": {
            "outlinewidth": 1,
            "tickcolor": "rgb(36,36,36)",
            "ticks": "outside"
           }
          },
          "colorscale": {
           "diverging": [
            [
             0,
             "rgb(103,0,31)"
            ],
            [
             0.1,
             "rgb(178,24,43)"
            ],
            [
             0.2,
             "rgb(214,96,77)"
            ],
            [
             0.3,
             "rgb(244,165,130)"
            ],
            [
             0.4,
             "rgb(253,219,199)"
            ],
            [
             0.5,
             "rgb(247,247,247)"
            ],
            [
             0.6,
             "rgb(209,229,240)"
            ],
            [
             0.7,
             "rgb(146,197,222)"
            ],
            [
             0.8,
             "rgb(67,147,195)"
            ],
            [
             0.9,
             "rgb(33,102,172)"
            ],
            [
             1,
             "rgb(5,48,97)"
            ]
           ],
           "sequential": [
            [
             0,
             "#440154"
            ],
            [
             0.1111111111111111,
             "#482878"
            ],
            [
             0.2222222222222222,
             "#3e4989"
            ],
            [
             0.3333333333333333,
             "#31688e"
            ],
            [
             0.4444444444444444,
             "#26828e"
            ],
            [
             0.5555555555555556,
             "#1f9e89"
            ],
            [
             0.6666666666666666,
             "#35b779"
            ],
            [
             0.7777777777777778,
             "#6ece58"
            ],
            [
             0.8888888888888888,
             "#b5de2b"
            ],
            [
             1,
             "#fde725"
            ]
           ],
           "sequentialminus": [
            [
             0,
             "#440154"
            ],
            [
             0.1111111111111111,
             "#482878"
            ],
            [
             0.2222222222222222,
             "#3e4989"
            ],
            [
             0.3333333333333333,
             "#31688e"
            ],
            [
             0.4444444444444444,
             "#26828e"
            ],
            [
             0.5555555555555556,
             "#1f9e89"
            ],
            [
             0.6666666666666666,
             "#35b779"
            ],
            [
             0.7777777777777778,
             "#6ece58"
            ],
            [
             0.8888888888888888,
             "#b5de2b"
            ],
            [
             1,
             "#fde725"
            ]
           ]
          },
          "colorway": [
           "#1F77B4",
           "#FF7F0E",
           "#2CA02C",
           "#D62728",
           "#9467BD",
           "#8C564B",
           "#E377C2",
           "#7F7F7F",
           "#BCBD22",
           "#17BECF"
          ],
          "font": {
           "color": "rgb(36,36,36)"
          },
          "geo": {
           "bgcolor": "white",
           "lakecolor": "white",
           "landcolor": "white",
           "showlakes": true,
           "showland": true,
           "subunitcolor": "white"
          },
          "hoverlabel": {
           "align": "left"
          },
          "hovermode": "closest",
          "mapbox": {
           "style": "light"
          },
          "paper_bgcolor": "white",
          "plot_bgcolor": "white",
          "polar": {
           "angularaxis": {
            "gridcolor": "rgb(232,232,232)",
            "linecolor": "rgb(36,36,36)",
            "showgrid": false,
            "showline": true,
            "ticks": "outside"
           },
           "bgcolor": "white",
           "radialaxis": {
            "gridcolor": "rgb(232,232,232)",
            "linecolor": "rgb(36,36,36)",
            "showgrid": false,
            "showline": true,
            "ticks": "outside"
           }
          },
          "scene": {
           "xaxis": {
            "backgroundcolor": "white",
            "gridcolor": "rgb(232,232,232)",
            "gridwidth": 2,
            "linecolor": "rgb(36,36,36)",
            "showbackground": true,
            "showgrid": false,
            "showline": true,
            "ticks": "outside",
            "zeroline": false,
            "zerolinecolor": "rgb(36,36,36)"
           },
           "yaxis": {
            "backgroundcolor": "white",
            "gridcolor": "rgb(232,232,232)",
            "gridwidth": 2,
            "linecolor": "rgb(36,36,36)",
            "showbackground": true,
            "showgrid": false,
            "showline": true,
            "ticks": "outside",
            "zeroline": false,
            "zerolinecolor": "rgb(36,36,36)"
           },
           "zaxis": {
            "backgroundcolor": "white",
            "gridcolor": "rgb(232,232,232)",
            "gridwidth": 2,
            "linecolor": "rgb(36,36,36)",
            "showbackground": true,
            "showgrid": false,
            "showline": true,
            "ticks": "outside",
            "zeroline": false,
            "zerolinecolor": "rgb(36,36,36)"
           }
          },
          "shapedefaults": {
           "fillcolor": "black",
           "line": {
            "width": 0
           },
           "opacity": 0.3
          },
          "ternary": {
           "aaxis": {
            "gridcolor": "rgb(232,232,232)",
            "linecolor": "rgb(36,36,36)",
            "showgrid": false,
            "showline": true,
            "ticks": "outside"
           },
           "baxis": {
            "gridcolor": "rgb(232,232,232)",
            "linecolor": "rgb(36,36,36)",
            "showgrid": false,
            "showline": true,
            "ticks": "outside"
           },
           "bgcolor": "white",
           "caxis": {
            "gridcolor": "rgb(232,232,232)",
            "linecolor": "rgb(36,36,36)",
            "showgrid": false,
            "showline": true,
            "ticks": "outside"
           }
          },
          "title": {
           "x": 0.05
          },
          "xaxis": {
           "automargin": true,
           "gridcolor": "rgb(232,232,232)",
           "linecolor": "rgb(36,36,36)",
           "showgrid": false,
           "showline": true,
           "ticks": "outside",
           "title": {
            "standoff": 15
           },
           "zeroline": false,
           "zerolinecolor": "rgb(36,36,36)"
          },
          "yaxis": {
           "automargin": true,
           "gridcolor": "rgb(232,232,232)",
           "linecolor": "rgb(36,36,36)",
           "showgrid": false,
           "showline": true,
           "ticks": "outside",
           "title": {
            "standoff": 15
           },
           "zeroline": false,
           "zerolinecolor": "rgb(36,36,36)"
          }
         }
        },
        "width": 245,
        "xaxis": {
         "anchor": "y",
         "domain": [
          0,
          1
         ],
         "matches": "x2",
         "range": [
          0.5,
          4.5
         ],
         "showticklabels": false,
         "tickfont": {
          "size": 9.333333333333334
         },
         "tickmode": "array",
         "ticktext": [
          "1",
          "2",
          "3",
          "4+"
         ],
         "tickvals": [
          1,
          2,
          3,
          4
         ],
         "title": {
          "font": {
           "size": 9.333333333333334
          },
          "text": "Length of consecutive deletions"
         },
         "visible": false
        },
        "xaxis2": {
         "anchor": "y2",
         "domain": [
          0,
          1
         ],
         "range": [
          0.5,
          4.5
         ],
         "showticklabels": true,
         "tickfont": {
          "size": 9.333333333333334
         },
         "tickmode": "array",
         "ticktext": [
          "1",
          "2",
          "3",
          "4+"
         ],
         "tickvals": [
          1,
          2,
          3,
          4
         ],
         "title": {
          "font": {
           "size": 9.333333333333334
          },
          "text": "Length of consecutive deletions"
         },
         "visible": true
        },
        "yaxis": {
         "anchor": "x",
         "domain": [
          0.715,
          1
         ],
         "dtick": 0.2,
         "range": [
          0.725,
          1.03
         ],
         "tickfont": {
          "size": 9.333333333333334
         },
         "tickformat": ",.0%",
         "title": {
          "font": {
           "size": 9.333333333333334
          }
         }
        },
        "yaxis2": {
         "anchor": "x2",
         "domain": [
          0,
          0.6649999999999999
         ],
         "dtick": 0.03,
         "range": [
          0,
          0.105
         ],
         "tickfont": {
          "size": 9.333333333333334
         },
         "tickformat": ",.0%",
         "title": {
          "font": {
           "size": 9.333333333333334
          },
          "text": "Frequency"
         }
        }
       }
      }
     },
     "metadata": {},
     "output_type": "display_data"
    }
   ],
   "source": [
    "fig = length_plots(data, 'deletions')\n",
    "fig.update_yaxes(title='Frequency', range=[0, 0.105], row=2, dtick=0.03, title_font_size=28/3, tickfont_size=28/3)\n",
    "fig.update_yaxes(range=[0.725, 1.03], row=1, dtick=0.2, title_font_size=28/3, tickfont_size=28/3)\n",
    "fig.update_xaxes(title='Length of consecutive deletions', title_font_size=28/3, tickfont_size=28/3)\n",
    "fig.show()\n",
    "fig.write_image(\"length_dels.svg\")"
   ]
  },
  {
   "cell_type": "code",
   "execution_count": 5,
   "metadata": {},
   "outputs": [
    {
     "data": {
      "text/plain": [
       "'GCall'"
      ]
     },
     "metadata": {},
     "output_type": "display_data"
    },
    {
     "data": {
      "text/html": [
       "<div>\n",
       "<style scoped>\n",
       "    .dataframe tbody tr th:only-of-type {\n",
       "        vertical-align: middle;\n",
       "    }\n",
       "\n",
       "    .dataframe tbody tr th {\n",
       "        vertical-align: top;\n",
       "    }\n",
       "\n",
       "    .dataframe thead th {\n",
       "        text-align: right;\n",
       "    }\n",
       "</style>\n",
       "<table border=\"1\" class=\"dataframe\">\n",
       "  <thead>\n",
       "    <tr style=\"text-align: right;\">\n",
       "      <th></th>\n",
       "      <th>length</th>\n",
       "      <th>value</th>\n",
       "    </tr>\n",
       "  </thead>\n",
       "  <tbody>\n",
       "    <tr>\n",
       "      <th>0</th>\n",
       "      <td>1</td>\n",
       "      <td>0.904807</td>\n",
       "    </tr>\n",
       "    <tr>\n",
       "      <th>1</th>\n",
       "      <td>2</td>\n",
       "      <td>0.073675</td>\n",
       "    </tr>\n",
       "    <tr>\n",
       "      <th>2</th>\n",
       "      <td>3</td>\n",
       "      <td>0.011740</td>\n",
       "    </tr>\n",
       "    <tr>\n",
       "      <th>3</th>\n",
       "      <td>4</td>\n",
       "      <td>0.003537</td>\n",
       "    </tr>\n",
       "    <tr>\n",
       "      <th>4</th>\n",
       "      <td>5</td>\n",
       "      <td>0.001672</td>\n",
       "    </tr>\n",
       "    <tr>\n",
       "      <th>5</th>\n",
       "      <td>6</td>\n",
       "      <td>0.001108</td>\n",
       "    </tr>\n",
       "    <tr>\n",
       "      <th>6</th>\n",
       "      <td>7</td>\n",
       "      <td>0.000857</td>\n",
       "    </tr>\n",
       "    <tr>\n",
       "      <th>7</th>\n",
       "      <td>8</td>\n",
       "      <td>0.000693</td>\n",
       "    </tr>\n",
       "    <tr>\n",
       "      <th>8</th>\n",
       "      <td>9</td>\n",
       "      <td>0.000548</td>\n",
       "    </tr>\n",
       "    <tr>\n",
       "      <th>9</th>\n",
       "      <td>10</td>\n",
       "      <td>0.000409</td>\n",
       "    </tr>\n",
       "    <tr>\n",
       "      <th>10</th>\n",
       "      <td>11</td>\n",
       "      <td>0.000323</td>\n",
       "    </tr>\n",
       "    <tr>\n",
       "      <th>11</th>\n",
       "      <td>12</td>\n",
       "      <td>0.000251</td>\n",
       "    </tr>\n",
       "    <tr>\n",
       "      <th>12</th>\n",
       "      <td>13</td>\n",
       "      <td>0.000191</td>\n",
       "    </tr>\n",
       "    <tr>\n",
       "      <th>13</th>\n",
       "      <td>14</td>\n",
       "      <td>0.000128</td>\n",
       "    </tr>\n",
       "    <tr>\n",
       "      <th>14</th>\n",
       "      <td>15</td>\n",
       "      <td>0.000061</td>\n",
       "    </tr>\n",
       "  </tbody>\n",
       "</table>\n",
       "</div>"
      ],
      "text/plain": [
       "    length     value\n",
       "0        1  0.904807\n",
       "1        2  0.073675\n",
       "2        3  0.011740\n",
       "3        4  0.003537\n",
       "4        5  0.001672\n",
       "5        6  0.001108\n",
       "6        7  0.000857\n",
       "7        8  0.000693\n",
       "8        9  0.000548\n",
       "9       10  0.000409\n",
       "10      11  0.000323\n",
       "11      12  0.000251\n",
       "12      13  0.000191\n",
       "13      14  0.000128\n",
       "14      15  0.000061"
      ]
     },
     "metadata": {},
     "output_type": "display_data"
    },
    {
     "data": {
      "text/plain": [
       "2.5637905128398475"
      ]
     },
     "metadata": {},
     "output_type": "display_data"
    },
    {
     "data": {
      "text/plain": [
       "'GCfix'"
      ]
     },
     "metadata": {},
     "output_type": "display_data"
    },
    {
     "data": {
      "text/html": [
       "<div>\n",
       "<style scoped>\n",
       "    .dataframe tbody tr th:only-of-type {\n",
       "        vertical-align: middle;\n",
       "    }\n",
       "\n",
       "    .dataframe tbody tr th {\n",
       "        vertical-align: top;\n",
       "    }\n",
       "\n",
       "    .dataframe thead th {\n",
       "        text-align: right;\n",
       "    }\n",
       "</style>\n",
       "<table border=\"1\" class=\"dataframe\">\n",
       "  <thead>\n",
       "    <tr style=\"text-align: right;\">\n",
       "      <th></th>\n",
       "      <th>length</th>\n",
       "      <th>value</th>\n",
       "    </tr>\n",
       "  </thead>\n",
       "  <tbody>\n",
       "    <tr>\n",
       "      <th>0</th>\n",
       "      <td>1</td>\n",
       "      <td>0.865656</td>\n",
       "    </tr>\n",
       "    <tr>\n",
       "      <th>1</th>\n",
       "      <td>2</td>\n",
       "      <td>0.098103</td>\n",
       "    </tr>\n",
       "    <tr>\n",
       "      <th>2</th>\n",
       "      <td>3</td>\n",
       "      <td>0.020716</td>\n",
       "    </tr>\n",
       "    <tr>\n",
       "      <th>3</th>\n",
       "      <td>4</td>\n",
       "      <td>0.006529</td>\n",
       "    </tr>\n",
       "    <tr>\n",
       "      <th>4</th>\n",
       "      <td>5</td>\n",
       "      <td>0.002908</td>\n",
       "    </tr>\n",
       "    <tr>\n",
       "      <th>5</th>\n",
       "      <td>6</td>\n",
       "      <td>0.001597</td>\n",
       "    </tr>\n",
       "    <tr>\n",
       "      <th>6</th>\n",
       "      <td>7</td>\n",
       "      <td>0.001083</td>\n",
       "    </tr>\n",
       "    <tr>\n",
       "      <th>7</th>\n",
       "      <td>8</td>\n",
       "      <td>0.000793</td>\n",
       "    </tr>\n",
       "    <tr>\n",
       "      <th>8</th>\n",
       "      <td>9</td>\n",
       "      <td>0.000616</td>\n",
       "    </tr>\n",
       "    <tr>\n",
       "      <th>9</th>\n",
       "      <td>10</td>\n",
       "      <td>0.000490</td>\n",
       "    </tr>\n",
       "    <tr>\n",
       "      <th>10</th>\n",
       "      <td>11</td>\n",
       "      <td>0.000412</td>\n",
       "    </tr>\n",
       "    <tr>\n",
       "      <th>11</th>\n",
       "      <td>12</td>\n",
       "      <td>0.000323</td>\n",
       "    </tr>\n",
       "    <tr>\n",
       "      <th>12</th>\n",
       "      <td>13</td>\n",
       "      <td>0.000245</td>\n",
       "    </tr>\n",
       "    <tr>\n",
       "      <th>13</th>\n",
       "      <td>14</td>\n",
       "      <td>0.000209</td>\n",
       "    </tr>\n",
       "    <tr>\n",
       "      <th>14</th>\n",
       "      <td>15</td>\n",
       "      <td>0.000166</td>\n",
       "    </tr>\n",
       "    <tr>\n",
       "      <th>15</th>\n",
       "      <td>16</td>\n",
       "      <td>0.000107</td>\n",
       "    </tr>\n",
       "    <tr>\n",
       "      <th>16</th>\n",
       "      <td>17</td>\n",
       "      <td>0.000047</td>\n",
       "    </tr>\n",
       "  </tbody>\n",
       "</table>\n",
       "</div>"
      ],
      "text/plain": [
       "    length     value\n",
       "0        1  0.865656\n",
       "1        2  0.098103\n",
       "2        3  0.020716\n",
       "3        4  0.006529\n",
       "4        5  0.002908\n",
       "5        6  0.001597\n",
       "6        7  0.001083\n",
       "7        8  0.000793\n",
       "8        9  0.000616\n",
       "9       10  0.000490\n",
       "10      11  0.000412\n",
       "11      12  0.000323\n",
       "12      13  0.000245\n",
       "13      14  0.000209\n",
       "14      15  0.000166\n",
       "15      16  0.000107\n",
       "16      17  0.000047"
      ]
     },
     "metadata": {},
     "output_type": "display_data"
    },
    {
     "data": {
      "text/plain": [
       "2.6237670751123847"
      ]
     },
     "metadata": {},
     "output_type": "display_data"
    }
   ],
   "source": [
    "idata = data.data[f\"error_frequency_by_length\"].copy()\n",
    "\n",
    "for group in idata.group.unique():\n",
    "    legnthmean = idata.drop(idata.loc[(idata['type'] != 'deletions') | (idata['group'] != group)].index)\n",
    "    lengthmean = legnthmean.groupby('length').agg({'value': 'mean'}).reset_index()\n",
    "    display(group, lengthmean)\n",
    "    lengthmean['value'].to_csv(f\"del_by_length_Genscript_{group}.csv\", index=False)\n",
    "    lengthmean.drop(lengthmean.loc[lengthmean.length == 1].index, inplace=True)\n",
    "    lengthmean.value /= lengthmean.value.sum()\n",
    "    display(np.sum(lengthmean['value']*lengthmean['length']))"
   ]
  },
  {
   "attachments": {},
   "cell_type": "markdown",
   "metadata": {},
   "source": [
    "# Errors per read"
   ]
  },
  {
   "cell_type": "code",
   "execution_count": 6,
   "metadata": {},
   "outputs": [],
   "source": [
    "n_bases = {\n",
    "    'GCall': 102,\n",
    "    'GCfix': 117,\n",
    "}\n",
    "MAX_ERRORS = 3\n",
    "\n",
    "def per_read(data, errortype, n_bases):\n",
    "\n",
    "    idata = data.data[f\"error_frequency_by_read\"].copy()\n",
    "\n",
    "    idata.drop(idata.loc[idata['type'] != errortype].index, inplace=True)\n",
    "    idata.frequency.clip(upper=MAX_ERRORS, inplace=True)\n",
    "\n",
    "    newframe = idata.loc[idata.frequency == MAX_ERRORS].groupby(['type', 'exp', 'read', 'group'])['value'].sum().reset_index()\n",
    "    newframe['frequency'] = MAX_ERRORS\n",
    "\n",
    "    idata.drop(idata.loc[idata['frequency'] == MAX_ERRORS].index, inplace=True)\n",
    "    idata = pd.concat([idata, newframe], ignore_index=True)\n",
    "\n",
    "    def summary(group):\n",
    "        d = {}\n",
    "        d['mean'] = group.value.mean()\n",
    "        d['std'] = group.value.std()\n",
    "        return pd.Series(d, index=['mean', 'std'])\n",
    "\n",
    "    df_aggregate = idata.groupby(['group', 'frequency'], as_index=False).apply(summary)\n",
    "\n",
    "\n",
    "    frequency = np.arange(0, max(df_aggregate.frequency)+1)\n",
    "    mean_rates = data.data[f\"overall_error_rates\"].loc[data.data[f\"overall_error_rates\"].type == errortype].groupby('group').agg(mean=('rate', 'mean'), std=('rate', 'std'))\n",
    "\n",
    "    fig = pg.Figure()\n",
    "\n",
    "    for i, group in enumerate(df_aggregate.group.unique()):\n",
    "\n",
    "        this_data = df_aggregate.loc[df_aggregate.group == group]\n",
    "\n",
    "        fig.add_trace(\n",
    "            pg.Bar(\n",
    "                x=this_data['frequency'],\n",
    "                y=this_data['mean'],\n",
    "                error_y=dict(\n",
    "                    type='data',\n",
    "                    array=this_data['std'],\n",
    "                    color='#222222',\n",
    "                    visible=True,\n",
    "                    thickness=1.5,\n",
    "                ),\n",
    "                marker_color=colors[i]\n",
    "            )\n",
    "        )\n",
    "\n",
    "        ratios = scipy.stats.binom.pmf(frequency, n_bases[group], mean_rates.loc[group, 'mean'])\n",
    "        ratios[3] = 1-np.sum(ratios[0:-1])\n",
    "\n",
    "        fig.add_trace(\n",
    "            pg.Scatter(\n",
    "                x=frequency-0.4/2+i*0.4,\n",
    "                y=ratios,\n",
    "                mode=\"markers\",\n",
    "                marker_color=colors_marker[i],\n",
    "                marker_line_color=colors_marker[i],\n",
    "                marker_line_width=2, \n",
    "                marker_size=8,\n",
    "                marker_symbol=\"diamond-wide\",\n",
    "            ),\n",
    "        )\n",
    "        fig.add_trace(\n",
    "            pg.Scatter(\n",
    "                x=frequency-0.4/2+i*0.4,\n",
    "                y=ratios,\n",
    "                mode=\"markers\",\n",
    "                marker_color=colors_marker[i],\n",
    "                marker_line_color=colors_marker[i],\n",
    "                marker_line_width=2, \n",
    "                marker_size=8,\n",
    "                marker_symbol=\"diamond-wide\",\n",
    "            ),\n",
    "        )\n",
    "\n",
    "\n",
    "    fig.update_layout(\n",
    "        template='simple_white',\n",
    "        height=175,\n",
    "        width=245,\n",
    "        showlegend=False,\n",
    "        barmode='group',\n",
    "        margin=dict(l=50, r=0, t=5, b=0),\n",
    "        font_family=\"Inter\",\n",
    "        legend_font_size=28/3,\n",
    "    )\n",
    "\n",
    "    ticktext = list(map(str, range(0, MAX_ERRORS+1)))\n",
    "    ticktext[-1] += '+'\n",
    "\n",
    "    fig.update_xaxes(\n",
    "        range=[-0.5, MAX_ERRORS+0.5],\n",
    "        tickmode = 'array',\n",
    "        tickvals = list(range(0, MAX_ERRORS+1)),\n",
    "        ticktext = ticktext,\n",
    "    )\n",
    "\n",
    "    fig.update_yaxes(\n",
    "        title=\"Frequency\", \n",
    "        tickformat=\",.0%\", \n",
    "        range=[0, 0.5], \n",
    "        dtick=0.25,\n",
    "        title_font_family=\"Inter\",\n",
    "        title_font_size=28/3, \n",
    "        tickfont_size=28/3\n",
    "    )\n",
    "\n",
    "    return fig"
   ]
  },
  {
   "cell_type": "code",
   "execution_count": 7,
   "metadata": {},
   "outputs": [
    {
     "data": {
      "application/vnd.plotly.v1+json": {
       "config": {
        "plotlyServerURL": "https://plot.ly"
       },
       "data": [
        {
         "error_y": {
          "array": [
           0.016853584350927465,
           0.001203500187202759,
           0.0034777759583663895,
           0.01347667397329049
          ],
          "color": "#222222",
          "thickness": 1.5,
          "type": "data",
          "visible": true
         },
         "marker": {
          "color": "#636363"
         },
         "type": "bar",
         "x": [
          0,
          1,
          2,
          3
         ],
         "y": [
          0.51920170179101,
          0.24498742892428416,
          0.10733718459088734,
          0.12847368469381848
         ]
        },
        {
         "marker": {
          "color": "#222222",
          "line": {
           "color": "#222222",
           "width": 2
          },
          "size": 8,
          "symbol": "diamond-wide"
         },
         "mode": "markers",
         "type": "scatter",
         "x": [
          -0.2,
          0.8,
          1.8,
          2.8
         ],
         "y": [
          0.3487730606849376,
          0.3692779100260137,
          0.1935775247166814,
          0.08837150457236731
         ]
        },
        {
         "marker": {
          "color": "#222222",
          "line": {
           "color": "#222222",
           "width": 2
          },
          "size": 8,
          "symbol": "diamond-wide"
         },
         "mode": "markers",
         "type": "scatter",
         "x": [
          -0.2,
          0.8,
          1.8,
          2.8
         ],
         "y": [
          0.3487730606849376,
          0.3692779100260137,
          0.1935775247166814,
          0.08837150457236731
         ]
        },
        {
         "error_y": {
          "array": [
           0.0061593834471080555,
           0.0022515910223789245,
           0.0016282318078689837,
           0.007201539853543372
          ],
          "color": "#222222",
          "thickness": 1.5,
          "type": "data",
          "visible": true
         },
         "marker": {
          "color": "#bdbdbd"
         },
         "type": "bar",
         "x": [
          0,
          1,
          2,
          3
         ],
         "y": [
          0.39413852312822184,
          0.2560595885147172,
          0.14580340145593929,
          0.2039984869011216
         ]
        },
        {
         "marker": {
          "color": "#222222",
          "line": {
           "color": "#222222",
           "width": 2
          },
          "size": 8,
          "symbol": "diamond-wide"
         },
         "mode": "markers",
         "type": "scatter",
         "x": [
          0.2,
          1.2000000000000002,
          2.2,
          3.1999999999999997
         ],
         "y": [
          0.20915842841191548,
          0.3294605727570482,
          0.257260826215855,
          0.20412017261518134
         ]
        },
        {
         "marker": {
          "color": "#222222",
          "line": {
           "color": "#222222",
           "width": 2
          },
          "size": 8,
          "symbol": "diamond-wide"
         },
         "mode": "markers",
         "type": "scatter",
         "x": [
          0.2,
          1.2000000000000002,
          2.2,
          3.1999999999999997
         ],
         "y": [
          0.20915842841191548,
          0.3294605727570482,
          0.257260826215855,
          0.20412017261518134
         ]
        }
       ],
       "layout": {
        "barmode": "group",
        "font": {
         "family": "Inter"
        },
        "height": 175,
        "legend": {
         "font": {
          "size": 9.333333333333334
         }
        },
        "margin": {
         "b": 0,
         "l": 50,
         "r": 0,
         "t": 5
        },
        "showlegend": false,
        "template": {
         "data": {
          "bar": [
           {
            "error_x": {
             "color": "rgb(36,36,36)"
            },
            "error_y": {
             "color": "rgb(36,36,36)"
            },
            "marker": {
             "line": {
              "color": "white",
              "width": 0.5
             },
             "pattern": {
              "fillmode": "overlay",
              "size": 10,
              "solidity": 0.2
             }
            },
            "type": "bar"
           }
          ],
          "barpolar": [
           {
            "marker": {
             "line": {
              "color": "white",
              "width": 0.5
             },
             "pattern": {
              "fillmode": "overlay",
              "size": 10,
              "solidity": 0.2
             }
            },
            "type": "barpolar"
           }
          ],
          "carpet": [
           {
            "aaxis": {
             "endlinecolor": "rgb(36,36,36)",
             "gridcolor": "white",
             "linecolor": "white",
             "minorgridcolor": "white",
             "startlinecolor": "rgb(36,36,36)"
            },
            "baxis": {
             "endlinecolor": "rgb(36,36,36)",
             "gridcolor": "white",
             "linecolor": "white",
             "minorgridcolor": "white",
             "startlinecolor": "rgb(36,36,36)"
            },
            "type": "carpet"
           }
          ],
          "choropleth": [
           {
            "colorbar": {
             "outlinewidth": 1,
             "tickcolor": "rgb(36,36,36)",
             "ticks": "outside"
            },
            "type": "choropleth"
           }
          ],
          "contour": [
           {
            "colorbar": {
             "outlinewidth": 1,
             "tickcolor": "rgb(36,36,36)",
             "ticks": "outside"
            },
            "colorscale": [
             [
              0,
              "#440154"
             ],
             [
              0.1111111111111111,
              "#482878"
             ],
             [
              0.2222222222222222,
              "#3e4989"
             ],
             [
              0.3333333333333333,
              "#31688e"
             ],
             [
              0.4444444444444444,
              "#26828e"
             ],
             [
              0.5555555555555556,
              "#1f9e89"
             ],
             [
              0.6666666666666666,
              "#35b779"
             ],
             [
              0.7777777777777778,
              "#6ece58"
             ],
             [
              0.8888888888888888,
              "#b5de2b"
             ],
             [
              1,
              "#fde725"
             ]
            ],
            "type": "contour"
           }
          ],
          "contourcarpet": [
           {
            "colorbar": {
             "outlinewidth": 1,
             "tickcolor": "rgb(36,36,36)",
             "ticks": "outside"
            },
            "type": "contourcarpet"
           }
          ],
          "heatmap": [
           {
            "colorbar": {
             "outlinewidth": 1,
             "tickcolor": "rgb(36,36,36)",
             "ticks": "outside"
            },
            "colorscale": [
             [
              0,
              "#440154"
             ],
             [
              0.1111111111111111,
              "#482878"
             ],
             [
              0.2222222222222222,
              "#3e4989"
             ],
             [
              0.3333333333333333,
              "#31688e"
             ],
             [
              0.4444444444444444,
              "#26828e"
             ],
             [
              0.5555555555555556,
              "#1f9e89"
             ],
             [
              0.6666666666666666,
              "#35b779"
             ],
             [
              0.7777777777777778,
              "#6ece58"
             ],
             [
              0.8888888888888888,
              "#b5de2b"
             ],
             [
              1,
              "#fde725"
             ]
            ],
            "type": "heatmap"
           }
          ],
          "heatmapgl": [
           {
            "colorbar": {
             "outlinewidth": 1,
             "tickcolor": "rgb(36,36,36)",
             "ticks": "outside"
            },
            "colorscale": [
             [
              0,
              "#440154"
             ],
             [
              0.1111111111111111,
              "#482878"
             ],
             [
              0.2222222222222222,
              "#3e4989"
             ],
             [
              0.3333333333333333,
              "#31688e"
             ],
             [
              0.4444444444444444,
              "#26828e"
             ],
             [
              0.5555555555555556,
              "#1f9e89"
             ],
             [
              0.6666666666666666,
              "#35b779"
             ],
             [
              0.7777777777777778,
              "#6ece58"
             ],
             [
              0.8888888888888888,
              "#b5de2b"
             ],
             [
              1,
              "#fde725"
             ]
            ],
            "type": "heatmapgl"
           }
          ],
          "histogram": [
           {
            "marker": {
             "line": {
              "color": "white",
              "width": 0.6
             }
            },
            "type": "histogram"
           }
          ],
          "histogram2d": [
           {
            "colorbar": {
             "outlinewidth": 1,
             "tickcolor": "rgb(36,36,36)",
             "ticks": "outside"
            },
            "colorscale": [
             [
              0,
              "#440154"
             ],
             [
              0.1111111111111111,
              "#482878"
             ],
             [
              0.2222222222222222,
              "#3e4989"
             ],
             [
              0.3333333333333333,
              "#31688e"
             ],
             [
              0.4444444444444444,
              "#26828e"
             ],
             [
              0.5555555555555556,
              "#1f9e89"
             ],
             [
              0.6666666666666666,
              "#35b779"
             ],
             [
              0.7777777777777778,
              "#6ece58"
             ],
             [
              0.8888888888888888,
              "#b5de2b"
             ],
             [
              1,
              "#fde725"
             ]
            ],
            "type": "histogram2d"
           }
          ],
          "histogram2dcontour": [
           {
            "colorbar": {
             "outlinewidth": 1,
             "tickcolor": "rgb(36,36,36)",
             "ticks": "outside"
            },
            "colorscale": [
             [
              0,
              "#440154"
             ],
             [
              0.1111111111111111,
              "#482878"
             ],
             [
              0.2222222222222222,
              "#3e4989"
             ],
             [
              0.3333333333333333,
              "#31688e"
             ],
             [
              0.4444444444444444,
              "#26828e"
             ],
             [
              0.5555555555555556,
              "#1f9e89"
             ],
             [
              0.6666666666666666,
              "#35b779"
             ],
             [
              0.7777777777777778,
              "#6ece58"
             ],
             [
              0.8888888888888888,
              "#b5de2b"
             ],
             [
              1,
              "#fde725"
             ]
            ],
            "type": "histogram2dcontour"
           }
          ],
          "mesh3d": [
           {
            "colorbar": {
             "outlinewidth": 1,
             "tickcolor": "rgb(36,36,36)",
             "ticks": "outside"
            },
            "type": "mesh3d"
           }
          ],
          "parcoords": [
           {
            "line": {
             "colorbar": {
              "outlinewidth": 1,
              "tickcolor": "rgb(36,36,36)",
              "ticks": "outside"
             }
            },
            "type": "parcoords"
           }
          ],
          "pie": [
           {
            "automargin": true,
            "type": "pie"
           }
          ],
          "scatter": [
           {
            "fillpattern": {
             "fillmode": "overlay",
             "size": 10,
             "solidity": 0.2
            },
            "type": "scatter"
           }
          ],
          "scatter3d": [
           {
            "line": {
             "colorbar": {
              "outlinewidth": 1,
              "tickcolor": "rgb(36,36,36)",
              "ticks": "outside"
             }
            },
            "marker": {
             "colorbar": {
              "outlinewidth": 1,
              "tickcolor": "rgb(36,36,36)",
              "ticks": "outside"
             }
            },
            "type": "scatter3d"
           }
          ],
          "scattercarpet": [
           {
            "marker": {
             "colorbar": {
              "outlinewidth": 1,
              "tickcolor": "rgb(36,36,36)",
              "ticks": "outside"
             }
            },
            "type": "scattercarpet"
           }
          ],
          "scattergeo": [
           {
            "marker": {
             "colorbar": {
              "outlinewidth": 1,
              "tickcolor": "rgb(36,36,36)",
              "ticks": "outside"
             }
            },
            "type": "scattergeo"
           }
          ],
          "scattergl": [
           {
            "marker": {
             "colorbar": {
              "outlinewidth": 1,
              "tickcolor": "rgb(36,36,36)",
              "ticks": "outside"
             }
            },
            "type": "scattergl"
           }
          ],
          "scattermapbox": [
           {
            "marker": {
             "colorbar": {
              "outlinewidth": 1,
              "tickcolor": "rgb(36,36,36)",
              "ticks": "outside"
             }
            },
            "type": "scattermapbox"
           }
          ],
          "scatterpolar": [
           {
            "marker": {
             "colorbar": {
              "outlinewidth": 1,
              "tickcolor": "rgb(36,36,36)",
              "ticks": "outside"
             }
            },
            "type": "scatterpolar"
           }
          ],
          "scatterpolargl": [
           {
            "marker": {
             "colorbar": {
              "outlinewidth": 1,
              "tickcolor": "rgb(36,36,36)",
              "ticks": "outside"
             }
            },
            "type": "scatterpolargl"
           }
          ],
          "scatterternary": [
           {
            "marker": {
             "colorbar": {
              "outlinewidth": 1,
              "tickcolor": "rgb(36,36,36)",
              "ticks": "outside"
             }
            },
            "type": "scatterternary"
           }
          ],
          "surface": [
           {
            "colorbar": {
             "outlinewidth": 1,
             "tickcolor": "rgb(36,36,36)",
             "ticks": "outside"
            },
            "colorscale": [
             [
              0,
              "#440154"
             ],
             [
              0.1111111111111111,
              "#482878"
             ],
             [
              0.2222222222222222,
              "#3e4989"
             ],
             [
              0.3333333333333333,
              "#31688e"
             ],
             [
              0.4444444444444444,
              "#26828e"
             ],
             [
              0.5555555555555556,
              "#1f9e89"
             ],
             [
              0.6666666666666666,
              "#35b779"
             ],
             [
              0.7777777777777778,
              "#6ece58"
             ],
             [
              0.8888888888888888,
              "#b5de2b"
             ],
             [
              1,
              "#fde725"
             ]
            ],
            "type": "surface"
           }
          ],
          "table": [
           {
            "cells": {
             "fill": {
              "color": "rgb(237,237,237)"
             },
             "line": {
              "color": "white"
             }
            },
            "header": {
             "fill": {
              "color": "rgb(217,217,217)"
             },
             "line": {
              "color": "white"
             }
            },
            "type": "table"
           }
          ]
         },
         "layout": {
          "annotationdefaults": {
           "arrowhead": 0,
           "arrowwidth": 1
          },
          "autotypenumbers": "strict",
          "coloraxis": {
           "colorbar": {
            "outlinewidth": 1,
            "tickcolor": "rgb(36,36,36)",
            "ticks": "outside"
           }
          },
          "colorscale": {
           "diverging": [
            [
             0,
             "rgb(103,0,31)"
            ],
            [
             0.1,
             "rgb(178,24,43)"
            ],
            [
             0.2,
             "rgb(214,96,77)"
            ],
            [
             0.3,
             "rgb(244,165,130)"
            ],
            [
             0.4,
             "rgb(253,219,199)"
            ],
            [
             0.5,
             "rgb(247,247,247)"
            ],
            [
             0.6,
             "rgb(209,229,240)"
            ],
            [
             0.7,
             "rgb(146,197,222)"
            ],
            [
             0.8,
             "rgb(67,147,195)"
            ],
            [
             0.9,
             "rgb(33,102,172)"
            ],
            [
             1,
             "rgb(5,48,97)"
            ]
           ],
           "sequential": [
            [
             0,
             "#440154"
            ],
            [
             0.1111111111111111,
             "#482878"
            ],
            [
             0.2222222222222222,
             "#3e4989"
            ],
            [
             0.3333333333333333,
             "#31688e"
            ],
            [
             0.4444444444444444,
             "#26828e"
            ],
            [
             0.5555555555555556,
             "#1f9e89"
            ],
            [
             0.6666666666666666,
             "#35b779"
            ],
            [
             0.7777777777777778,
             "#6ece58"
            ],
            [
             0.8888888888888888,
             "#b5de2b"
            ],
            [
             1,
             "#fde725"
            ]
           ],
           "sequentialminus": [
            [
             0,
             "#440154"
            ],
            [
             0.1111111111111111,
             "#482878"
            ],
            [
             0.2222222222222222,
             "#3e4989"
            ],
            [
             0.3333333333333333,
             "#31688e"
            ],
            [
             0.4444444444444444,
             "#26828e"
            ],
            [
             0.5555555555555556,
             "#1f9e89"
            ],
            [
             0.6666666666666666,
             "#35b779"
            ],
            [
             0.7777777777777778,
             "#6ece58"
            ],
            [
             0.8888888888888888,
             "#b5de2b"
            ],
            [
             1,
             "#fde725"
            ]
           ]
          },
          "colorway": [
           "#1F77B4",
           "#FF7F0E",
           "#2CA02C",
           "#D62728",
           "#9467BD",
           "#8C564B",
           "#E377C2",
           "#7F7F7F",
           "#BCBD22",
           "#17BECF"
          ],
          "font": {
           "color": "rgb(36,36,36)"
          },
          "geo": {
           "bgcolor": "white",
           "lakecolor": "white",
           "landcolor": "white",
           "showlakes": true,
           "showland": true,
           "subunitcolor": "white"
          },
          "hoverlabel": {
           "align": "left"
          },
          "hovermode": "closest",
          "mapbox": {
           "style": "light"
          },
          "paper_bgcolor": "white",
          "plot_bgcolor": "white",
          "polar": {
           "angularaxis": {
            "gridcolor": "rgb(232,232,232)",
            "linecolor": "rgb(36,36,36)",
            "showgrid": false,
            "showline": true,
            "ticks": "outside"
           },
           "bgcolor": "white",
           "radialaxis": {
            "gridcolor": "rgb(232,232,232)",
            "linecolor": "rgb(36,36,36)",
            "showgrid": false,
            "showline": true,
            "ticks": "outside"
           }
          },
          "scene": {
           "xaxis": {
            "backgroundcolor": "white",
            "gridcolor": "rgb(232,232,232)",
            "gridwidth": 2,
            "linecolor": "rgb(36,36,36)",
            "showbackground": true,
            "showgrid": false,
            "showline": true,
            "ticks": "outside",
            "zeroline": false,
            "zerolinecolor": "rgb(36,36,36)"
           },
           "yaxis": {
            "backgroundcolor": "white",
            "gridcolor": "rgb(232,232,232)",
            "gridwidth": 2,
            "linecolor": "rgb(36,36,36)",
            "showbackground": true,
            "showgrid": false,
            "showline": true,
            "ticks": "outside",
            "zeroline": false,
            "zerolinecolor": "rgb(36,36,36)"
           },
           "zaxis": {
            "backgroundcolor": "white",
            "gridcolor": "rgb(232,232,232)",
            "gridwidth": 2,
            "linecolor": "rgb(36,36,36)",
            "showbackground": true,
            "showgrid": false,
            "showline": true,
            "ticks": "outside",
            "zeroline": false,
            "zerolinecolor": "rgb(36,36,36)"
           }
          },
          "shapedefaults": {
           "fillcolor": "black",
           "line": {
            "width": 0
           },
           "opacity": 0.3
          },
          "ternary": {
           "aaxis": {
            "gridcolor": "rgb(232,232,232)",
            "linecolor": "rgb(36,36,36)",
            "showgrid": false,
            "showline": true,
            "ticks": "outside"
           },
           "baxis": {
            "gridcolor": "rgb(232,232,232)",
            "linecolor": "rgb(36,36,36)",
            "showgrid": false,
            "showline": true,
            "ticks": "outside"
           },
           "bgcolor": "white",
           "caxis": {
            "gridcolor": "rgb(232,232,232)",
            "linecolor": "rgb(36,36,36)",
            "showgrid": false,
            "showline": true,
            "ticks": "outside"
           }
          },
          "title": {
           "x": 0.05
          },
          "xaxis": {
           "automargin": true,
           "gridcolor": "rgb(232,232,232)",
           "linecolor": "rgb(36,36,36)",
           "showgrid": false,
           "showline": true,
           "ticks": "outside",
           "title": {
            "standoff": 15
           },
           "zeroline": false,
           "zerolinecolor": "rgb(36,36,36)"
          },
          "yaxis": {
           "automargin": true,
           "gridcolor": "rgb(232,232,232)",
           "linecolor": "rgb(36,36,36)",
           "showgrid": false,
           "showline": true,
           "ticks": "outside",
           "title": {
            "standoff": 15
           },
           "zeroline": false,
           "zerolinecolor": "rgb(36,36,36)"
          }
         }
        },
        "width": 245,
        "xaxis": {
         "range": [
          -0.5,
          3.5
         ],
         "tickfont": {
          "size": 9.333333333333334
         },
         "tickmode": "array",
         "ticktext": [
          "0",
          "1",
          "2",
          "3+"
         ],
         "tickvals": [
          0,
          1,
          2,
          3
         ],
         "title": {
          "font": {
           "family": "Inter",
           "size": 9.333333333333334
          },
          "text": "Deletion events per read"
         }
        },
        "yaxis": {
         "dtick": 0.2,
         "range": [
          0,
          0.6
         ],
         "tickfont": {
          "size": 9.333333333333334
         },
         "tickformat": ",.0%",
         "title": {
          "font": {
           "family": "Inter",
           "size": 9.333333333333334
          },
          "text": "Frequency"
         }
        }
       }
      }
     },
     "metadata": {},
     "output_type": "display_data"
    }
   ],
   "source": [
    "fig = per_read(data, 'delevents', n_bases)\n",
    "fig.update_yaxes(  \n",
    "    range=[0, 0.6], \n",
    "    dtick=0.2\n",
    ")\n",
    "fig.update_xaxes(title='Deletion events per read', title_font_family=\"Inter\", title_font_size=28/3, tickfont_size=28/3)\n",
    "fig.show()\n",
    "fig.write_image(\"read_dels.svg\")"
   ]
  },
  {
   "cell_type": "code",
   "execution_count": 8,
   "metadata": {},
   "outputs": [
    {
     "data": {
      "text/plain": [
       "'GCall'"
      ]
     },
     "metadata": {},
     "output_type": "display_data"
    },
    {
     "data": {
      "text/html": [
       "<div>\n",
       "<style scoped>\n",
       "    .dataframe tbody tr th:only-of-type {\n",
       "        vertical-align: middle;\n",
       "    }\n",
       "\n",
       "    .dataframe tbody tr th {\n",
       "        vertical-align: top;\n",
       "    }\n",
       "\n",
       "    .dataframe thead th {\n",
       "        text-align: right;\n",
       "    }\n",
       "</style>\n",
       "<table border=\"1\" class=\"dataframe\">\n",
       "  <thead>\n",
       "    <tr style=\"text-align: right;\">\n",
       "      <th></th>\n",
       "      <th>value</th>\n",
       "    </tr>\n",
       "    <tr>\n",
       "      <th>frequency</th>\n",
       "      <th></th>\n",
       "    </tr>\n",
       "  </thead>\n",
       "  <tbody>\n",
       "    <tr>\n",
       "      <th>0</th>\n",
       "      <td>0.519202</td>\n",
       "    </tr>\n",
       "    <tr>\n",
       "      <th>1</th>\n",
       "      <td>0.244987</td>\n",
       "    </tr>\n",
       "    <tr>\n",
       "      <th>2</th>\n",
       "      <td>0.107337</td>\n",
       "    </tr>\n",
       "    <tr>\n",
       "      <th>3</th>\n",
       "      <td>0.052245</td>\n",
       "    </tr>\n",
       "    <tr>\n",
       "      <th>4</th>\n",
       "      <td>0.028378</td>\n",
       "    </tr>\n",
       "    <tr>\n",
       "      <th>5</th>\n",
       "      <td>0.016943</td>\n",
       "    </tr>\n",
       "    <tr>\n",
       "      <th>6</th>\n",
       "      <td>0.010816</td>\n",
       "    </tr>\n",
       "    <tr>\n",
       "      <th>7</th>\n",
       "      <td>0.007342</td>\n",
       "    </tr>\n",
       "    <tr>\n",
       "      <th>8</th>\n",
       "      <td>0.005052</td>\n",
       "    </tr>\n",
       "    <tr>\n",
       "      <th>9</th>\n",
       "      <td>0.003438</td>\n",
       "    </tr>\n",
       "    <tr>\n",
       "      <th>10</th>\n",
       "      <td>0.002256</td>\n",
       "    </tr>\n",
       "    <tr>\n",
       "      <th>11</th>\n",
       "      <td>0.001232</td>\n",
       "    </tr>\n",
       "    <tr>\n",
       "      <th>12</th>\n",
       "      <td>0.000550</td>\n",
       "    </tr>\n",
       "    <tr>\n",
       "      <th>13</th>\n",
       "      <td>0.000186</td>\n",
       "    </tr>\n",
       "    <tr>\n",
       "      <th>14</th>\n",
       "      <td>0.000033</td>\n",
       "    </tr>\n",
       "    <tr>\n",
       "      <th>15</th>\n",
       "      <td>0.000004</td>\n",
       "    </tr>\n",
       "  </tbody>\n",
       "</table>\n",
       "</div>"
      ],
      "text/plain": [
       "              value\n",
       "frequency          \n",
       "0          0.519202\n",
       "1          0.244987\n",
       "2          0.107337\n",
       "3          0.052245\n",
       "4          0.028378\n",
       "5          0.016943\n",
       "6          0.010816\n",
       "7          0.007342\n",
       "8          0.005052\n",
       "9          0.003438\n",
       "10         0.002256\n",
       "11         0.001232\n",
       "12         0.000550\n",
       "13         0.000186\n",
       "14         0.000033\n",
       "15         0.000004"
      ]
     },
     "metadata": {},
     "output_type": "display_data"
    },
    {
     "data": {
      "text/plain": [
       "'GCfix'"
      ]
     },
     "metadata": {},
     "output_type": "display_data"
    },
    {
     "data": {
      "text/html": [
       "<div>\n",
       "<style scoped>\n",
       "    .dataframe tbody tr th:only-of-type {\n",
       "        vertical-align: middle;\n",
       "    }\n",
       "\n",
       "    .dataframe tbody tr th {\n",
       "        vertical-align: top;\n",
       "    }\n",
       "\n",
       "    .dataframe thead th {\n",
       "        text-align: right;\n",
       "    }\n",
       "</style>\n",
       "<table border=\"1\" class=\"dataframe\">\n",
       "  <thead>\n",
       "    <tr style=\"text-align: right;\">\n",
       "      <th></th>\n",
       "      <th>value</th>\n",
       "    </tr>\n",
       "    <tr>\n",
       "      <th>frequency</th>\n",
       "      <th></th>\n",
       "    </tr>\n",
       "  </thead>\n",
       "  <tbody>\n",
       "    <tr>\n",
       "      <th>0</th>\n",
       "      <td>0.394139</td>\n",
       "    </tr>\n",
       "    <tr>\n",
       "      <th>1</th>\n",
       "      <td>0.256060</td>\n",
       "    </tr>\n",
       "    <tr>\n",
       "      <th>2</th>\n",
       "      <td>0.145803</td>\n",
       "    </tr>\n",
       "    <tr>\n",
       "      <th>3</th>\n",
       "      <td>0.078978</td>\n",
       "    </tr>\n",
       "    <tr>\n",
       "      <th>4</th>\n",
       "      <td>0.042470</td>\n",
       "    </tr>\n",
       "    <tr>\n",
       "      <th>5</th>\n",
       "      <td>0.024198</td>\n",
       "    </tr>\n",
       "    <tr>\n",
       "      <th>6</th>\n",
       "      <td>0.015706</td>\n",
       "    </tr>\n",
       "    <tr>\n",
       "      <th>7</th>\n",
       "      <td>0.011521</td>\n",
       "    </tr>\n",
       "    <tr>\n",
       "      <th>8</th>\n",
       "      <td>0.008978</td>\n",
       "    </tr>\n",
       "    <tr>\n",
       "      <th>9</th>\n",
       "      <td>0.007227</td>\n",
       "    </tr>\n",
       "    <tr>\n",
       "      <th>10</th>\n",
       "      <td>0.005660</td>\n",
       "    </tr>\n",
       "    <tr>\n",
       "      <th>11</th>\n",
       "      <td>0.004177</td>\n",
       "    </tr>\n",
       "    <tr>\n",
       "      <th>12</th>\n",
       "      <td>0.002742</td>\n",
       "    </tr>\n",
       "    <tr>\n",
       "      <th>13</th>\n",
       "      <td>0.001480</td>\n",
       "    </tr>\n",
       "    <tr>\n",
       "      <th>14</th>\n",
       "      <td>0.000629</td>\n",
       "    </tr>\n",
       "    <tr>\n",
       "      <th>15</th>\n",
       "      <td>0.000193</td>\n",
       "    </tr>\n",
       "    <tr>\n",
       "      <th>16</th>\n",
       "      <td>0.000036</td>\n",
       "    </tr>\n",
       "    <tr>\n",
       "      <th>17</th>\n",
       "      <td>0.000003</td>\n",
       "    </tr>\n",
       "  </tbody>\n",
       "</table>\n",
       "</div>"
      ],
      "text/plain": [
       "              value\n",
       "frequency          \n",
       "0          0.394139\n",
       "1          0.256060\n",
       "2          0.145803\n",
       "3          0.078978\n",
       "4          0.042470\n",
       "5          0.024198\n",
       "6          0.015706\n",
       "7          0.011521\n",
       "8          0.008978\n",
       "9          0.007227\n",
       "10         0.005660\n",
       "11         0.004177\n",
       "12         0.002742\n",
       "13         0.001480\n",
       "14         0.000629\n",
       "15         0.000193\n",
       "16         0.000036\n",
       "17         0.000003"
      ]
     },
     "metadata": {},
     "output_type": "display_data"
    }
   ],
   "source": [
    "idata = data.data[f\"error_frequency_by_read\"].copy()\n",
    "\n",
    "for group in idata.group.unique():\n",
    "    mean_data = idata.drop(idata.loc[(idata['type'] != 'delevents') | (idata['group'] != group)].index)\n",
    "    mean_data = pd.DataFrame(mean_data.groupby('frequency')['value'].mean())\n",
    "    display(group, mean_data)\n",
    "    mean_data.to_csv(f\"del_per_read_Genscript_{group}.csv\", index=False)"
   ]
  }
 ],
 "metadata": {
  "kernelspec": {
   "display_name": "np_pd_sp",
   "language": "python",
   "name": "python3"
  },
  "language_info": {
   "codemirror_mode": {
    "name": "ipython",
    "version": 3
   },
   "file_extension": ".py",
   "mimetype": "text/x-python",
   "name": "python",
   "nbconvert_exporter": "python",
   "pygments_lexer": "ipython3",
   "version": "3.9.7"
  },
  "orig_nbformat": 4,
  "vscode": {
   "interpreter": {
    "hash": "da8130b5c8ccf41f100662caf67f3ba756beedabd599674f9119b95438e5e458"
   }
  }
 },
 "nbformat": 4,
 "nbformat_minor": 2
}
