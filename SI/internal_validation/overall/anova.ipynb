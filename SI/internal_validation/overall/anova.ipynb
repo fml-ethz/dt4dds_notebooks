{
 "cells": [
  {
   "cell_type": "code",
   "execution_count": 1,
   "metadata": {},
   "outputs": [],
   "source": [
    "import pandas as pd\n",
    "import statsmodels.formula.api as smf\n",
    "import statsmodels.api as sm\n",
    "import plotly.express as px\n",
    "import plotly.graph_objects as pg\n",
    "\n",
    "def anova(idata, errortype):\n",
    "    errordata = idata.data['overall_error_rates'].loc[(idata.data['overall_error_rates']['type'] == errortype)].copy()\n",
    "    errordata[['synthesis', 'GC', 'PCRC', 'Decay']] = errordata.group.str.split('_', expand=True)\n",
    "    errordata = errordata.astype({'PCRC': 'int', 'Decay': 'int'})\n",
    "    display(errordata)\n",
    "\n",
    "    model = smf.ols('rate ~ C(synthesis) + PCRC + Decay', data=errordata).fit()\n",
    "    display(model.summary())\n",
    "    aov = sm.stats.anova_lm(model, typ=2, robust='hc3')\n",
    "    aov['eta_sq'] = aov[:]['sum_sq']/sum(aov['sum_sq'])\n",
    "    aov2 = aov.copy()\n",
    "    aov2['eta_sq'] = [f\"{i*100:0.1f}%\" for i in aov['eta_sq']]\n",
    "    display(aov2)\n",
    "    return aov"
   ]
  },
  {
   "cell_type": "code",
   "execution_count": 2,
   "metadata": {},
   "outputs": [],
   "source": [
    "%load_ext autoreload\n",
    "%autoreload 2\n",
    "import dt4dds.analysis as analysis\n",
    "\n",
    "data = analysis.GroupAnalysis([\n",
    "    ('Genscript_GCfix_36_0', analysis.ErrorAnalysis(\"../../../data/internal_validation/Genscript_GCfix_Aging/0a\")),\n",
    "    ('Genscript_GCfix_42_0', analysis.ErrorAnalysis(\"../../../data/internal_validation/Genscript_GCfix_Aging/0b\")),\n",
    "    ('Genscript_GCfix_42_2', analysis.ErrorAnalysis(\"../../../data/internal_validation/Genscript_GCfix_Aging/2d\")),\n",
    "    ('Genscript_GCfix_42_4', analysis.ErrorAnalysis(\"../../../data/internal_validation/Genscript_GCfix_Aging/4d\")),\n",
    "    ('Genscript_GCfix_42_7', analysis.ErrorAnalysis(\"../../../data/internal_validation/Genscript_GCfix_Aging/7d\")),\n",
    "    ('Genscript_GCfix_10_0', analysis.ErrorAnalysis(\"../../../data/internal_validation/Genscript_GCfix_PCR/PCR0\")),\n",
    "    ('Genscript_GCfix_15_0', analysis.ErrorAnalysis(\"../../../data/internal_validation/Genscript_GCfix_PCR/PCR1\")),\n",
    "    ('Genscript_GCfix_20_0', analysis.ErrorAnalysis(\"../../../data/internal_validation/Genscript_GCfix_PCR/PCR2\")),\n",
    "    ('Genscript_GCfix_25_0', analysis.ErrorAnalysis(\"../../../data/internal_validation/Genscript_GCfix_PCR/PCR3\")),\n",
    "    ('Genscript_GCall_36_0', analysis.ErrorAnalysis(\"../../../data/internal_validation/Genscript_GCall_Aging/0a\")),\n",
    "    ('Genscript_GCall_42_0', analysis.ErrorAnalysis(\"../../../data/internal_validation/Genscript_GCall_Aging/0b\")),\n",
    "    ('Genscript_GCall_42_2', analysis.ErrorAnalysis(\"../../../data/internal_validation/Genscript_GCall_Aging/2d\")),\n",
    "    ('Genscript_GCall_42_4', analysis.ErrorAnalysis(\"../../../data/internal_validation/Genscript_GCall_Aging/4d\")),\n",
    "    ('Genscript_GCall_42_7', analysis.ErrorAnalysis(\"../../../data/internal_validation/Genscript_GCall_Aging/7d\")),\n",
    "    ('Genscript_GCall_15_0', analysis.ErrorAnalysis(\"../../../data/internal_validation/Genscript_GCall_PCR/PCR0\")),\n",
    "    ('Genscript_GCall_20_0', analysis.ErrorAnalysis(\"../../../data/internal_validation/Genscript_GCall_PCR/PCR1\")),\n",
    "    ('Genscript_GCall_25_0', analysis.ErrorAnalysis(\"../../../data/internal_validation/Genscript_GCall_PCR/PCR2\")),\n",
    "    ('Genscript_GCall_30_0', analysis.ErrorAnalysis(\"../../../data/internal_validation/Genscript_GCall_PCR/PCR3\")),\n",
    "    ('Twist_GCall_15_0', analysis.ErrorAnalysis(\"../../../data/internal_validation/Twist_GCall_PCR/PCR0\")),\n",
    "    ('Twist_GCall_30_0', analysis.ErrorAnalysis(\"../../../data/internal_validation/Twist_GCall_PCR/PCR1\")),\n",
    "    ('Twist_GCall_45_0', analysis.ErrorAnalysis(\"../../../data/internal_validation/Twist_GCall_PCR/PCR2\")),\n",
    "    ('Twist_GCall_60_0', analysis.ErrorAnalysis(\"../../../data/internal_validation/Twist_GCall_PCR/PCR3\")),\n",
    "    ('Twist_GCall_75_0', analysis.ErrorAnalysis(\"../../../data/internal_validation/Twist_GCall_PCR/PCR4\")),\n",
    "    ('Twist_GCall_90_0', analysis.ErrorAnalysis(\"../../../data/internal_validation/Twist_GCall_PCR/PCR5\")),\n",
    "    ('Twist_GCall_37_0', analysis.ErrorAnalysis(\"../../../data/internal_validation/Twist_GCall_Aging/0a\")),\n",
    "    ('Twist_GCall_43_0', analysis.ErrorAnalysis(\"../../../data/internal_validation/Twist_GCall_Aging/0b\")),\n",
    "    ('Twist_GCall_43_2', analysis.ErrorAnalysis(\"../../../data/internal_validation/Twist_GCall_Aging/2d\")),\n",
    "    ('Twist_GCall_43_4', analysis.ErrorAnalysis(\"../../../data/internal_validation/Twist_GCall_Aging/4d\")),\n",
    "    ('Twist_GCall_43_7', analysis.ErrorAnalysis(\"../../../data/internal_validation/Twist_GCall_Aging/7d\")),\n",
    "    ('Twist_GCfix_15_0', analysis.ErrorAnalysis(\"../../../data/internal_validation/Twist_GCfix_PCR/PCR0\")),\n",
    "    ('Twist_GCfix_30_0', analysis.ErrorAnalysis(\"../../../data/internal_validation/Twist_GCfix_PCR/PCR1\")),\n",
    "    ('Twist_GCfix_45_0', analysis.ErrorAnalysis(\"../../../data/internal_validation/Twist_GCfix_PCR/PCR2\")),\n",
    "    ('Twist_GCfix_60_0', analysis.ErrorAnalysis(\"../../../data/internal_validation/Twist_GCfix_PCR/PCR3\")),\n",
    "    ('Twist_GCfix_75_0', analysis.ErrorAnalysis(\"../../../data/internal_validation/Twist_GCfix_PCR/PCR4\")),\n",
    "    ('Twist_GCfix_90_0', analysis.ErrorAnalysis(\"../../../data/internal_validation/Twist_GCfix_PCR/PCR5\")),\n",
    "    ('Twist_GCfix_39_0', analysis.ErrorAnalysis(\"../../../data/internal_validation/Twist_GCfix_Aging/0a\")),\n",
    "    ('Twist_GCfix_45_0', analysis.ErrorAnalysis(\"../../../data/internal_validation/Twist_GCfix_Aging/0b\")),\n",
    "    ('Twist_GCfix_45_2', analysis.ErrorAnalysis(\"../../../data/internal_validation/Twist_GCfix_Aging/2d\")),\n",
    "    ('Twist_GCfix_45_4', analysis.ErrorAnalysis(\"../../../data/internal_validation/Twist_GCfix_Aging/4d\")),\n",
    "    ('Twist_GCfix_45_7', analysis.ErrorAnalysis(\"../../../data/internal_validation/Twist_GCfix_Aging/7d\")),\n",
    "])"
   ]
  },
  {
   "cell_type": "code",
   "execution_count": 3,
   "metadata": {},
   "outputs": [
    {
     "data": {
      "text/html": [
       "<div>\n",
       "<style scoped>\n",
       "    .dataframe tbody tr th:only-of-type {\n",
       "        vertical-align: middle;\n",
       "    }\n",
       "\n",
       "    .dataframe tbody tr th {\n",
       "        vertical-align: top;\n",
       "    }\n",
       "\n",
       "    .dataframe thead th {\n",
       "        text-align: right;\n",
       "    }\n",
       "</style>\n",
       "<table border=\"1\" class=\"dataframe\">\n",
       "  <thead>\n",
       "    <tr style=\"text-align: right;\">\n",
       "      <th></th>\n",
       "      <th>mean</th>\n",
       "      <th>std</th>\n",
       "      <th>min</th>\n",
       "      <th>max</th>\n",
       "    </tr>\n",
       "    <tr>\n",
       "      <th>type</th>\n",
       "      <th></th>\n",
       "      <th></th>\n",
       "      <th></th>\n",
       "      <th></th>\n",
       "    </tr>\n",
       "  </thead>\n",
       "  <tbody>\n",
       "    <tr>\n",
       "      <th>deletions</th>\n",
       "      <td>0.006395</td>\n",
       "      <td>0.006602</td>\n",
       "      <td>0.000563</td>\n",
       "      <td>0.015513</td>\n",
       "    </tr>\n",
       "    <tr>\n",
       "      <th>delevents</th>\n",
       "      <td>0.005100</td>\n",
       "      <td>0.005290</td>\n",
       "      <td>0.000386</td>\n",
       "      <td>0.012121</td>\n",
       "    </tr>\n",
       "    <tr>\n",
       "      <th>insertions</th>\n",
       "      <td>0.000018</td>\n",
       "      <td>0.000011</td>\n",
       "      <td>0.000002</td>\n",
       "      <td>0.000043</td>\n",
       "    </tr>\n",
       "    <tr>\n",
       "      <th>substitutions</th>\n",
       "      <td>0.007258</td>\n",
       "      <td>0.002381</td>\n",
       "      <td>0.002510</td>\n",
       "      <td>0.011767</td>\n",
       "    </tr>\n",
       "  </tbody>\n",
       "</table>\n",
       "</div>"
      ],
      "text/plain": [
       "                   mean       std       min       max\n",
       "type                                                 \n",
       "deletions      0.006395  0.006602  0.000563  0.015513\n",
       "delevents      0.005100  0.005290  0.000386  0.012121\n",
       "insertions     0.000018  0.000011  0.000002  0.000043\n",
       "substitutions  0.007258  0.002381  0.002510  0.011767"
      ]
     },
     "metadata": {},
     "output_type": "display_data"
    },
    {
     "data": {
      "text/html": [
       "<div>\n",
       "<style scoped>\n",
       "    .dataframe tbody tr th:only-of-type {\n",
       "        vertical-align: middle;\n",
       "    }\n",
       "\n",
       "    .dataframe tbody tr th {\n",
       "        vertical-align: top;\n",
       "    }\n",
       "\n",
       "    .dataframe thead th {\n",
       "        text-align: right;\n",
       "    }\n",
       "</style>\n",
       "<table border=\"1\" class=\"dataframe\">\n",
       "  <thead>\n",
       "    <tr style=\"text-align: right;\">\n",
       "      <th></th>\n",
       "      <th></th>\n",
       "      <th>mean</th>\n",
       "      <th>std</th>\n",
       "      <th>min</th>\n",
       "      <th>max</th>\n",
       "    </tr>\n",
       "    <tr>\n",
       "      <th>synthesis</th>\n",
       "      <th>type</th>\n",
       "      <th></th>\n",
       "      <th></th>\n",
       "      <th></th>\n",
       "      <th></th>\n",
       "    </tr>\n",
       "  </thead>\n",
       "  <tbody>\n",
       "    <tr>\n",
       "      <th rowspan=\"4\" valign=\"top\">Genscript</th>\n",
       "      <th>deletions</th>\n",
       "      <td>0.013497</td>\n",
       "      <td>0.002011</td>\n",
       "      <td>0.011430</td>\n",
       "      <td>0.015513</td>\n",
       "    </tr>\n",
       "    <tr>\n",
       "      <th>delevents</th>\n",
       "      <td>0.010838</td>\n",
       "      <td>0.001263</td>\n",
       "      <td>0.009498</td>\n",
       "      <td>0.012121</td>\n",
       "    </tr>\n",
       "    <tr>\n",
       "      <th>insertions</th>\n",
       "      <td>0.000021</td>\n",
       "      <td>0.000012</td>\n",
       "      <td>0.000002</td>\n",
       "      <td>0.000043</td>\n",
       "    </tr>\n",
       "    <tr>\n",
       "      <th>substitutions</th>\n",
       "      <td>0.007832</td>\n",
       "      <td>0.002565</td>\n",
       "      <td>0.002854</td>\n",
       "      <td>0.011767</td>\n",
       "    </tr>\n",
       "    <tr>\n",
       "      <th rowspan=\"4\" valign=\"top\">Twist</th>\n",
       "      <th>deletions</th>\n",
       "      <td>0.000584</td>\n",
       "      <td>0.000015</td>\n",
       "      <td>0.000563</td>\n",
       "      <td>0.000620</td>\n",
       "    </tr>\n",
       "    <tr>\n",
       "      <th>delevents</th>\n",
       "      <td>0.000405</td>\n",
       "      <td>0.000013</td>\n",
       "      <td>0.000386</td>\n",
       "      <td>0.000439</td>\n",
       "    </tr>\n",
       "    <tr>\n",
       "      <th>insertions</th>\n",
       "      <td>0.000015</td>\n",
       "      <td>0.000009</td>\n",
       "      <td>0.000002</td>\n",
       "      <td>0.000039</td>\n",
       "    </tr>\n",
       "    <tr>\n",
       "      <th>substitutions</th>\n",
       "      <td>0.006787</td>\n",
       "      <td>0.002134</td>\n",
       "      <td>0.002510</td>\n",
       "      <td>0.011501</td>\n",
       "    </tr>\n",
       "  </tbody>\n",
       "</table>\n",
       "</div>"
      ],
      "text/plain": [
       "                             mean       std       min       max\n",
       "synthesis type                                                 \n",
       "Genscript deletions      0.013497  0.002011  0.011430  0.015513\n",
       "          delevents      0.010838  0.001263  0.009498  0.012121\n",
       "          insertions     0.000021  0.000012  0.000002  0.000043\n",
       "          substitutions  0.007832  0.002565  0.002854  0.011767\n",
       "Twist     deletions      0.000584  0.000015  0.000563  0.000620\n",
       "          delevents      0.000405  0.000013  0.000386  0.000439\n",
       "          insertions     0.000015  0.000009  0.000002  0.000039\n",
       "          substitutions  0.006787  0.002134  0.002510  0.011501"
      ]
     },
     "metadata": {},
     "output_type": "display_data"
    }
   ],
   "source": [
    "def summary(group):\n",
    "        d = {}\n",
    "        d['mean'] = group.rate.mean()\n",
    "        d['std'] = group.rate.std()\n",
    "        d['min'] = group.rate.min()\n",
    "        d['max'] = group.rate.max()\n",
    "        return pd.Series(d, index=['mean', 'std', 'min', 'max'])\n",
    "\n",
    "errordata = data.data['overall_error_rates'].copy()\n",
    "errordata[['synthesis', 'GC', 'PCRC', 'Decay']] = errordata.group.str.split('_', expand=True)\n",
    "display(errordata.groupby(['type']).apply(summary))\n",
    "display(errordata.groupby(['synthesis', 'type']).apply(summary))"
   ]
  },
  {
   "cell_type": "code",
   "execution_count": 4,
   "metadata": {},
   "outputs": [
    {
     "data": {
      "text/html": [
       "<div>\n",
       "<style scoped>\n",
       "    .dataframe tbody tr th:only-of-type {\n",
       "        vertical-align: middle;\n",
       "    }\n",
       "\n",
       "    .dataframe tbody tr th {\n",
       "        vertical-align: top;\n",
       "    }\n",
       "\n",
       "    .dataframe thead th {\n",
       "        text-align: right;\n",
       "    }\n",
       "</style>\n",
       "<table border=\"1\" class=\"dataframe\">\n",
       "  <thead>\n",
       "    <tr style=\"text-align: right;\">\n",
       "      <th></th>\n",
       "      <th>type</th>\n",
       "      <th>rate</th>\n",
       "      <th>read</th>\n",
       "      <th>exp</th>\n",
       "      <th>group</th>\n",
       "      <th>synthesis</th>\n",
       "      <th>GC</th>\n",
       "      <th>PCRC</th>\n",
       "      <th>Decay</th>\n",
       "    </tr>\n",
       "  </thead>\n",
       "  <tbody>\n",
       "    <tr>\n",
       "      <th>1</th>\n",
       "      <td>deletions</td>\n",
       "      <td>0.015469</td>\n",
       "      <td>1</td>\n",
       "      <td>0a</td>\n",
       "      <td>Genscript_GCfix_36_0</td>\n",
       "      <td>Genscript</td>\n",
       "      <td>GCfix</td>\n",
       "      <td>36</td>\n",
       "      <td>0</td>\n",
       "    </tr>\n",
       "    <tr>\n",
       "      <th>5</th>\n",
       "      <td>deletions</td>\n",
       "      <td>0.015469</td>\n",
       "      <td>2</td>\n",
       "      <td>0a</td>\n",
       "      <td>Genscript_GCfix_36_0</td>\n",
       "      <td>Genscript</td>\n",
       "      <td>GCfix</td>\n",
       "      <td>36</td>\n",
       "      <td>0</td>\n",
       "    </tr>\n",
       "    <tr>\n",
       "      <th>9</th>\n",
       "      <td>deletions</td>\n",
       "      <td>0.015492</td>\n",
       "      <td>1</td>\n",
       "      <td>0b</td>\n",
       "      <td>Genscript_GCfix_42_0</td>\n",
       "      <td>Genscript</td>\n",
       "      <td>GCfix</td>\n",
       "      <td>42</td>\n",
       "      <td>0</td>\n",
       "    </tr>\n",
       "    <tr>\n",
       "      <th>13</th>\n",
       "      <td>deletions</td>\n",
       "      <td>0.015494</td>\n",
       "      <td>2</td>\n",
       "      <td>0b</td>\n",
       "      <td>Genscript_GCfix_42_0</td>\n",
       "      <td>Genscript</td>\n",
       "      <td>GCfix</td>\n",
       "      <td>42</td>\n",
       "      <td>0</td>\n",
       "    </tr>\n",
       "    <tr>\n",
       "      <th>17</th>\n",
       "      <td>deletions</td>\n",
       "      <td>0.015494</td>\n",
       "      <td>1</td>\n",
       "      <td>2d</td>\n",
       "      <td>Genscript_GCfix_42_2</td>\n",
       "      <td>Genscript</td>\n",
       "      <td>GCfix</td>\n",
       "      <td>42</td>\n",
       "      <td>2</td>\n",
       "    </tr>\n",
       "    <tr>\n",
       "      <th>...</th>\n",
       "      <td>...</td>\n",
       "      <td>...</td>\n",
       "      <td>...</td>\n",
       "      <td>...</td>\n",
       "      <td>...</td>\n",
       "      <td>...</td>\n",
       "      <td>...</td>\n",
       "      <td>...</td>\n",
       "      <td>...</td>\n",
       "    </tr>\n",
       "    <tr>\n",
       "      <th>301</th>\n",
       "      <td>deletions</td>\n",
       "      <td>0.000579</td>\n",
       "      <td>2</td>\n",
       "      <td>2d</td>\n",
       "      <td>Twist_GCfix_45_2</td>\n",
       "      <td>Twist</td>\n",
       "      <td>GCfix</td>\n",
       "      <td>45</td>\n",
       "      <td>2</td>\n",
       "    </tr>\n",
       "    <tr>\n",
       "      <th>305</th>\n",
       "      <td>deletions</td>\n",
       "      <td>0.000590</td>\n",
       "      <td>1</td>\n",
       "      <td>4d</td>\n",
       "      <td>Twist_GCfix_45_4</td>\n",
       "      <td>Twist</td>\n",
       "      <td>GCfix</td>\n",
       "      <td>45</td>\n",
       "      <td>4</td>\n",
       "    </tr>\n",
       "    <tr>\n",
       "      <th>309</th>\n",
       "      <td>deletions</td>\n",
       "      <td>0.000604</td>\n",
       "      <td>2</td>\n",
       "      <td>4d</td>\n",
       "      <td>Twist_GCfix_45_4</td>\n",
       "      <td>Twist</td>\n",
       "      <td>GCfix</td>\n",
       "      <td>45</td>\n",
       "      <td>4</td>\n",
       "    </tr>\n",
       "    <tr>\n",
       "      <th>313</th>\n",
       "      <td>deletions</td>\n",
       "      <td>0.000603</td>\n",
       "      <td>1</td>\n",
       "      <td>7d</td>\n",
       "      <td>Twist_GCfix_45_7</td>\n",
       "      <td>Twist</td>\n",
       "      <td>GCfix</td>\n",
       "      <td>45</td>\n",
       "      <td>7</td>\n",
       "    </tr>\n",
       "    <tr>\n",
       "      <th>317</th>\n",
       "      <td>deletions</td>\n",
       "      <td>0.000617</td>\n",
       "      <td>2</td>\n",
       "      <td>7d</td>\n",
       "      <td>Twist_GCfix_45_7</td>\n",
       "      <td>Twist</td>\n",
       "      <td>GCfix</td>\n",
       "      <td>45</td>\n",
       "      <td>7</td>\n",
       "    </tr>\n",
       "  </tbody>\n",
       "</table>\n",
       "<p>80 rows × 9 columns</p>\n",
       "</div>"
      ],
      "text/plain": [
       "          type      rate read exp                 group  synthesis     GC  \\\n",
       "1    deletions  0.015469    1  0a  Genscript_GCfix_36_0  Genscript  GCfix   \n",
       "5    deletions  0.015469    2  0a  Genscript_GCfix_36_0  Genscript  GCfix   \n",
       "9    deletions  0.015492    1  0b  Genscript_GCfix_42_0  Genscript  GCfix   \n",
       "13   deletions  0.015494    2  0b  Genscript_GCfix_42_0  Genscript  GCfix   \n",
       "17   deletions  0.015494    1  2d  Genscript_GCfix_42_2  Genscript  GCfix   \n",
       "..         ...       ...  ...  ..                   ...        ...    ...   \n",
       "301  deletions  0.000579    2  2d      Twist_GCfix_45_2      Twist  GCfix   \n",
       "305  deletions  0.000590    1  4d      Twist_GCfix_45_4      Twist  GCfix   \n",
       "309  deletions  0.000604    2  4d      Twist_GCfix_45_4      Twist  GCfix   \n",
       "313  deletions  0.000603    1  7d      Twist_GCfix_45_7      Twist  GCfix   \n",
       "317  deletions  0.000617    2  7d      Twist_GCfix_45_7      Twist  GCfix   \n",
       "\n",
       "     PCRC  Decay  \n",
       "1      36      0  \n",
       "5      36      0  \n",
       "9      42      0  \n",
       "13     42      0  \n",
       "17     42      2  \n",
       "..    ...    ...  \n",
       "301    45      2  \n",
       "305    45      4  \n",
       "309    45      4  \n",
       "313    45      7  \n",
       "317    45      7  \n",
       "\n",
       "[80 rows x 9 columns]"
      ]
     },
     "metadata": {},
     "output_type": "display_data"
    },
    {
     "data": {
      "text/html": [
       "<table class=\"simpletable\">\n",
       "<caption>OLS Regression Results</caption>\n",
       "<tr>\n",
       "  <th>Dep. Variable:</th>          <td>rate</td>       <th>  R-squared:         </th> <td>   0.959</td>\n",
       "</tr>\n",
       "<tr>\n",
       "  <th>Model:</th>                   <td>OLS</td>       <th>  Adj. R-squared:    </th> <td>   0.957</td>\n",
       "</tr>\n",
       "<tr>\n",
       "  <th>Method:</th>             <td>Least Squares</td>  <th>  F-statistic:       </th> <td>   592.7</td>\n",
       "</tr>\n",
       "<tr>\n",
       "  <th>Date:</th>             <td>Thu, 22 Jun 2023</td> <th>  Prob (F-statistic):</th> <td>1.32e-52</td>\n",
       "</tr>\n",
       "<tr>\n",
       "  <th>Time:</th>                 <td>12:36:13</td>     <th>  Log-Likelihood:    </th> <td>  416.40</td>\n",
       "</tr>\n",
       "<tr>\n",
       "  <th>No. Observations:</th>      <td>    80</td>      <th>  AIC:               </th> <td>  -824.8</td>\n",
       "</tr>\n",
       "<tr>\n",
       "  <th>Df Residuals:</th>          <td>    76</td>      <th>  BIC:               </th> <td>  -815.3</td>\n",
       "</tr>\n",
       "<tr>\n",
       "  <th>Df Model:</th>              <td>     3</td>      <th>                     </th>     <td> </td>   \n",
       "</tr>\n",
       "<tr>\n",
       "  <th>Covariance Type:</th>      <td>nonrobust</td>    <th>                     </th>     <td> </td>   \n",
       "</tr>\n",
       "</table>\n",
       "<table class=\"simpletable\">\n",
       "<tr>\n",
       "            <td></td>               <th>coef</th>     <th>std err</th>      <th>t</th>      <th>P>|t|</th>  <th>[0.025</th>    <th>0.975]</th>  \n",
       "</tr>\n",
       "<tr>\n",
       "  <th>Intercept</th>             <td>    0.0136</td> <td>    0.000</td> <td>   36.169</td> <td> 0.000</td> <td>    0.013</td> <td>    0.014</td>\n",
       "</tr>\n",
       "<tr>\n",
       "  <th>C(synthesis)[T.Twist]</th> <td>   -0.0128</td> <td>    0.000</td> <td>  -37.296</td> <td> 0.000</td> <td>   -0.014</td> <td>   -0.012</td>\n",
       "</tr>\n",
       "<tr>\n",
       "  <th>PCRC</th>                  <td>-4.009e-06</td> <td> 9.36e-06</td> <td>   -0.428</td> <td> 0.670</td> <td>-2.26e-05</td> <td> 1.46e-05</td>\n",
       "</tr>\n",
       "<tr>\n",
       "  <th>Decay</th>                 <td> 3.355e-07</td> <td> 6.73e-05</td> <td>    0.005</td> <td> 0.996</td> <td>   -0.000</td> <td>    0.000</td>\n",
       "</tr>\n",
       "</table>\n",
       "<table class=\"simpletable\">\n",
       "<tr>\n",
       "  <th>Omnibus:</th>       <td> 4.031</td> <th>  Durbin-Watson:     </th> <td>   0.138</td>\n",
       "</tr>\n",
       "<tr>\n",
       "  <th>Prob(Omnibus):</th> <td> 0.133</td> <th>  Jarque-Bera (JB):  </th> <td>   2.051</td>\n",
       "</tr>\n",
       "<tr>\n",
       "  <th>Skew:</th>          <td> 0.000</td> <th>  Prob(JB):          </th> <td>   0.359</td>\n",
       "</tr>\n",
       "<tr>\n",
       "  <th>Kurtosis:</th>      <td> 2.216</td> <th>  Cond. No.          </th> <td>    112.</td>\n",
       "</tr>\n",
       "</table><br/><br/>Notes:<br/>[1] Standard Errors assume that the covariance matrix of the errors is correctly specified."
      ],
      "text/latex": [
       "\\begin{center}\n",
       "\\begin{tabular}{lclc}\n",
       "\\toprule\n",
       "\\textbf{Dep. Variable:}        &       rate       & \\textbf{  R-squared:         } &     0.959   \\\\\n",
       "\\textbf{Model:}                &       OLS        & \\textbf{  Adj. R-squared:    } &     0.957   \\\\\n",
       "\\textbf{Method:}               &  Least Squares   & \\textbf{  F-statistic:       } &     592.7   \\\\\n",
       "\\textbf{Date:}                 & Thu, 22 Jun 2023 & \\textbf{  Prob (F-statistic):} &  1.32e-52   \\\\\n",
       "\\textbf{Time:}                 &     12:36:13     & \\textbf{  Log-Likelihood:    } &    416.40   \\\\\n",
       "\\textbf{No. Observations:}     &          80      & \\textbf{  AIC:               } &    -824.8   \\\\\n",
       "\\textbf{Df Residuals:}         &          76      & \\textbf{  BIC:               } &    -815.3   \\\\\n",
       "\\textbf{Df Model:}             &           3      & \\textbf{                     } &             \\\\\n",
       "\\textbf{Covariance Type:}      &    nonrobust     & \\textbf{                     } &             \\\\\n",
       "\\bottomrule\n",
       "\\end{tabular}\n",
       "\\begin{tabular}{lcccccc}\n",
       "                               & \\textbf{coef} & \\textbf{std err} & \\textbf{t} & \\textbf{P$> |$t$|$} & \\textbf{[0.025} & \\textbf{0.975]}  \\\\\n",
       "\\midrule\n",
       "\\textbf{Intercept}             &       0.0136  &        0.000     &    36.169  &         0.000        &        0.013    &        0.014     \\\\\n",
       "\\textbf{C(synthesis)[T.Twist]} &      -0.0128  &        0.000     &   -37.296  &         0.000        &       -0.014    &       -0.012     \\\\\n",
       "\\textbf{PCRC}                  &   -4.009e-06  &     9.36e-06     &    -0.428  &         0.670        &    -2.26e-05    &     1.46e-05     \\\\\n",
       "\\textbf{Decay}                 &    3.355e-07  &     6.73e-05     &     0.005  &         0.996        &       -0.000    &        0.000     \\\\\n",
       "\\bottomrule\n",
       "\\end{tabular}\n",
       "\\begin{tabular}{lclc}\n",
       "\\textbf{Omnibus:}       &  4.031 & \\textbf{  Durbin-Watson:     } &    0.138  \\\\\n",
       "\\textbf{Prob(Omnibus):} &  0.133 & \\textbf{  Jarque-Bera (JB):  } &    2.051  \\\\\n",
       "\\textbf{Skew:}          &  0.000 & \\textbf{  Prob(JB):          } &    0.359  \\\\\n",
       "\\textbf{Kurtosis:}      &  2.216 & \\textbf{  Cond. No.          } &     112.  \\\\\n",
       "\\bottomrule\n",
       "\\end{tabular}\n",
       "%\\caption{OLS Regression Results}\n",
       "\\end{center}\n",
       "\n",
       "Notes: \\newline\n",
       " [1] Standard Errors assume that the covariance matrix of the errors is correctly specified."
      ],
      "text/plain": [
       "<class 'statsmodels.iolib.summary.Summary'>\n",
       "\"\"\"\n",
       "                            OLS Regression Results                            \n",
       "==============================================================================\n",
       "Dep. Variable:                   rate   R-squared:                       0.959\n",
       "Model:                            OLS   Adj. R-squared:                  0.957\n",
       "Method:                 Least Squares   F-statistic:                     592.7\n",
       "Date:                Thu, 22 Jun 2023   Prob (F-statistic):           1.32e-52\n",
       "Time:                        12:36:13   Log-Likelihood:                 416.40\n",
       "No. Observations:                  80   AIC:                            -824.8\n",
       "Df Residuals:                      76   BIC:                            -815.3\n",
       "Df Model:                           3                                         \n",
       "Covariance Type:            nonrobust                                         \n",
       "=========================================================================================\n",
       "                            coef    std err          t      P>|t|      [0.025      0.975]\n",
       "-----------------------------------------------------------------------------------------\n",
       "Intercept                 0.0136      0.000     36.169      0.000       0.013       0.014\n",
       "C(synthesis)[T.Twist]    -0.0128      0.000    -37.296      0.000      -0.014      -0.012\n",
       "PCRC                  -4.009e-06   9.36e-06     -0.428      0.670   -2.26e-05    1.46e-05\n",
       "Decay                  3.355e-07   6.73e-05      0.005      0.996      -0.000       0.000\n",
       "==============================================================================\n",
       "Omnibus:                        4.031   Durbin-Watson:                   0.138\n",
       "Prob(Omnibus):                  0.133   Jarque-Bera (JB):                2.051\n",
       "Skew:                           0.000   Prob(JB):                        0.359\n",
       "Kurtosis:                       2.216   Cond. No.                         112.\n",
       "==============================================================================\n",
       "\n",
       "Notes:\n",
       "[1] Standard Errors assume that the covariance matrix of the errors is correctly specified.\n",
       "\"\"\""
      ]
     },
     "metadata": {},
     "output_type": "display_data"
    },
    {
     "data": {
      "text/html": [
       "<div>\n",
       "<style scoped>\n",
       "    .dataframe tbody tr th:only-of-type {\n",
       "        vertical-align: middle;\n",
       "    }\n",
       "\n",
       "    .dataframe tbody tr th {\n",
       "        vertical-align: top;\n",
       "    }\n",
       "\n",
       "    .dataframe thead th {\n",
       "        text-align: right;\n",
       "    }\n",
       "</style>\n",
       "<table border=\"1\" class=\"dataframe\">\n",
       "  <thead>\n",
       "    <tr style=\"text-align: right;\">\n",
       "      <th></th>\n",
       "      <th>sum_sq</th>\n",
       "      <th>df</th>\n",
       "      <th>F</th>\n",
       "      <th>PR(&gt;F)</th>\n",
       "      <th>eta_sq</th>\n",
       "    </tr>\n",
       "  </thead>\n",
       "  <tbody>\n",
       "    <tr>\n",
       "      <th>C(synthesis)</th>\n",
       "      <td>2.348233e-03</td>\n",
       "      <td>1.0</td>\n",
       "      <td>1264.461596</td>\n",
       "      <td>4.052241e-49</td>\n",
       "      <td>94.3%</td>\n",
       "    </tr>\n",
       "    <tr>\n",
       "      <th>PCRC</th>\n",
       "      <td>8.012629e-07</td>\n",
       "      <td>1.0</td>\n",
       "      <td>0.431459</td>\n",
       "      <td>5.132581e-01</td>\n",
       "      <td>0.0%</td>\n",
       "    </tr>\n",
       "    <tr>\n",
       "      <th>Decay</th>\n",
       "      <td>4.106751e-11</td>\n",
       "      <td>1.0</td>\n",
       "      <td>0.000022</td>\n",
       "      <td>9.962603e-01</td>\n",
       "      <td>0.0%</td>\n",
       "    </tr>\n",
       "    <tr>\n",
       "      <th>Residual</th>\n",
       "      <td>1.411397e-04</td>\n",
       "      <td>76.0</td>\n",
       "      <td>NaN</td>\n",
       "      <td>NaN</td>\n",
       "      <td>5.7%</td>\n",
       "    </tr>\n",
       "  </tbody>\n",
       "</table>\n",
       "</div>"
      ],
      "text/plain": [
       "                    sum_sq    df            F        PR(>F) eta_sq\n",
       "C(synthesis)  2.348233e-03   1.0  1264.461596  4.052241e-49  94.3%\n",
       "PCRC          8.012629e-07   1.0     0.431459  5.132581e-01   0.0%\n",
       "Decay         4.106751e-11   1.0     0.000022  9.962603e-01   0.0%\n",
       "Residual      1.411397e-04  76.0          NaN           NaN   5.7%"
      ]
     },
     "metadata": {},
     "output_type": "display_data"
    }
   ],
   "source": [
    "del_table = anova(data, 'deletions')"
   ]
  },
  {
   "cell_type": "code",
   "execution_count": 5,
   "metadata": {},
   "outputs": [
    {
     "data": {
      "text/html": [
       "<div>\n",
       "<style scoped>\n",
       "    .dataframe tbody tr th:only-of-type {\n",
       "        vertical-align: middle;\n",
       "    }\n",
       "\n",
       "    .dataframe tbody tr th {\n",
       "        vertical-align: top;\n",
       "    }\n",
       "\n",
       "    .dataframe thead th {\n",
       "        text-align: right;\n",
       "    }\n",
       "</style>\n",
       "<table border=\"1\" class=\"dataframe\">\n",
       "  <thead>\n",
       "    <tr style=\"text-align: right;\">\n",
       "      <th></th>\n",
       "      <th>type</th>\n",
       "      <th>rate</th>\n",
       "      <th>read</th>\n",
       "      <th>exp</th>\n",
       "      <th>group</th>\n",
       "      <th>synthesis</th>\n",
       "      <th>GC</th>\n",
       "      <th>PCRC</th>\n",
       "      <th>Decay</th>\n",
       "    </tr>\n",
       "  </thead>\n",
       "  <tbody>\n",
       "    <tr>\n",
       "      <th>0</th>\n",
       "      <td>substitutions</td>\n",
       "      <td>0.007747</td>\n",
       "      <td>1</td>\n",
       "      <td>0a</td>\n",
       "      <td>Genscript_GCfix_36_0</td>\n",
       "      <td>Genscript</td>\n",
       "      <td>GCfix</td>\n",
       "      <td>36</td>\n",
       "      <td>0</td>\n",
       "    </tr>\n",
       "    <tr>\n",
       "      <th>4</th>\n",
       "      <td>substitutions</td>\n",
       "      <td>0.008949</td>\n",
       "      <td>2</td>\n",
       "      <td>0a</td>\n",
       "      <td>Genscript_GCfix_36_0</td>\n",
       "      <td>Genscript</td>\n",
       "      <td>GCfix</td>\n",
       "      <td>36</td>\n",
       "      <td>0</td>\n",
       "    </tr>\n",
       "    <tr>\n",
       "      <th>8</th>\n",
       "      <td>substitutions</td>\n",
       "      <td>0.008759</td>\n",
       "      <td>1</td>\n",
       "      <td>0b</td>\n",
       "      <td>Genscript_GCfix_42_0</td>\n",
       "      <td>Genscript</td>\n",
       "      <td>GCfix</td>\n",
       "      <td>42</td>\n",
       "      <td>0</td>\n",
       "    </tr>\n",
       "    <tr>\n",
       "      <th>12</th>\n",
       "      <td>substitutions</td>\n",
       "      <td>0.009955</td>\n",
       "      <td>2</td>\n",
       "      <td>0b</td>\n",
       "      <td>Genscript_GCfix_42_0</td>\n",
       "      <td>Genscript</td>\n",
       "      <td>GCfix</td>\n",
       "      <td>42</td>\n",
       "      <td>0</td>\n",
       "    </tr>\n",
       "    <tr>\n",
       "      <th>16</th>\n",
       "      <td>substitutions</td>\n",
       "      <td>0.009330</td>\n",
       "      <td>1</td>\n",
       "      <td>2d</td>\n",
       "      <td>Genscript_GCfix_42_2</td>\n",
       "      <td>Genscript</td>\n",
       "      <td>GCfix</td>\n",
       "      <td>42</td>\n",
       "      <td>2</td>\n",
       "    </tr>\n",
       "    <tr>\n",
       "      <th>...</th>\n",
       "      <td>...</td>\n",
       "      <td>...</td>\n",
       "      <td>...</td>\n",
       "      <td>...</td>\n",
       "      <td>...</td>\n",
       "      <td>...</td>\n",
       "      <td>...</td>\n",
       "      <td>...</td>\n",
       "      <td>...</td>\n",
       "    </tr>\n",
       "    <tr>\n",
       "      <th>300</th>\n",
       "      <td>substitutions</td>\n",
       "      <td>0.007489</td>\n",
       "      <td>2</td>\n",
       "      <td>2d</td>\n",
       "      <td>Twist_GCfix_45_2</td>\n",
       "      <td>Twist</td>\n",
       "      <td>GCfix</td>\n",
       "      <td>45</td>\n",
       "      <td>2</td>\n",
       "    </tr>\n",
       "    <tr>\n",
       "      <th>304</th>\n",
       "      <td>substitutions</td>\n",
       "      <td>0.006227</td>\n",
       "      <td>1</td>\n",
       "      <td>4d</td>\n",
       "      <td>Twist_GCfix_45_4</td>\n",
       "      <td>Twist</td>\n",
       "      <td>GCfix</td>\n",
       "      <td>45</td>\n",
       "      <td>4</td>\n",
       "    </tr>\n",
       "    <tr>\n",
       "      <th>308</th>\n",
       "      <td>substitutions</td>\n",
       "      <td>0.007441</td>\n",
       "      <td>2</td>\n",
       "      <td>4d</td>\n",
       "      <td>Twist_GCfix_45_4</td>\n",
       "      <td>Twist</td>\n",
       "      <td>GCfix</td>\n",
       "      <td>45</td>\n",
       "      <td>4</td>\n",
       "    </tr>\n",
       "    <tr>\n",
       "      <th>312</th>\n",
       "      <td>substitutions</td>\n",
       "      <td>0.006991</td>\n",
       "      <td>1</td>\n",
       "      <td>7d</td>\n",
       "      <td>Twist_GCfix_45_7</td>\n",
       "      <td>Twist</td>\n",
       "      <td>GCfix</td>\n",
       "      <td>45</td>\n",
       "      <td>7</td>\n",
       "    </tr>\n",
       "    <tr>\n",
       "      <th>316</th>\n",
       "      <td>substitutions</td>\n",
       "      <td>0.008207</td>\n",
       "      <td>2</td>\n",
       "      <td>7d</td>\n",
       "      <td>Twist_GCfix_45_7</td>\n",
       "      <td>Twist</td>\n",
       "      <td>GCfix</td>\n",
       "      <td>45</td>\n",
       "      <td>7</td>\n",
       "    </tr>\n",
       "  </tbody>\n",
       "</table>\n",
       "<p>80 rows × 9 columns</p>\n",
       "</div>"
      ],
      "text/plain": [
       "              type      rate read exp                 group  synthesis     GC  \\\n",
       "0    substitutions  0.007747    1  0a  Genscript_GCfix_36_0  Genscript  GCfix   \n",
       "4    substitutions  0.008949    2  0a  Genscript_GCfix_36_0  Genscript  GCfix   \n",
       "8    substitutions  0.008759    1  0b  Genscript_GCfix_42_0  Genscript  GCfix   \n",
       "12   substitutions  0.009955    2  0b  Genscript_GCfix_42_0  Genscript  GCfix   \n",
       "16   substitutions  0.009330    1  2d  Genscript_GCfix_42_2  Genscript  GCfix   \n",
       "..             ...       ...  ...  ..                   ...        ...    ...   \n",
       "300  substitutions  0.007489    2  2d      Twist_GCfix_45_2      Twist  GCfix   \n",
       "304  substitutions  0.006227    1  4d      Twist_GCfix_45_4      Twist  GCfix   \n",
       "308  substitutions  0.007441    2  4d      Twist_GCfix_45_4      Twist  GCfix   \n",
       "312  substitutions  0.006991    1  7d      Twist_GCfix_45_7      Twist  GCfix   \n",
       "316  substitutions  0.008207    2  7d      Twist_GCfix_45_7      Twist  GCfix   \n",
       "\n",
       "     PCRC  Decay  \n",
       "0      36      0  \n",
       "4      36      0  \n",
       "8      42      0  \n",
       "12     42      0  \n",
       "16     42      2  \n",
       "..    ...    ...  \n",
       "300    45      2  \n",
       "304    45      4  \n",
       "308    45      4  \n",
       "312    45      7  \n",
       "316    45      7  \n",
       "\n",
       "[80 rows x 9 columns]"
      ]
     },
     "metadata": {},
     "output_type": "display_data"
    },
    {
     "data": {
      "text/html": [
       "<table class=\"simpletable\">\n",
       "<caption>OLS Regression Results</caption>\n",
       "<tr>\n",
       "  <th>Dep. Variable:</th>          <td>rate</td>       <th>  R-squared:         </th> <td>   0.874</td>\n",
       "</tr>\n",
       "<tr>\n",
       "  <th>Model:</th>                   <td>OLS</td>       <th>  Adj. R-squared:    </th> <td>   0.869</td>\n",
       "</tr>\n",
       "<tr>\n",
       "  <th>Method:</th>             <td>Least Squares</td>  <th>  F-statistic:       </th> <td>   175.9</td>\n",
       "</tr>\n",
       "<tr>\n",
       "  <th>Date:</th>             <td>Thu, 22 Jun 2023</td> <th>  Prob (F-statistic):</th> <td>4.14e-34</td>\n",
       "</tr>\n",
       "<tr>\n",
       "  <th>Time:</th>                 <td>12:36:13</td>     <th>  Log-Likelihood:    </th> <td>  453.11</td>\n",
       "</tr>\n",
       "<tr>\n",
       "  <th>No. Observations:</th>      <td>    80</td>      <th>  AIC:               </th> <td>  -898.2</td>\n",
       "</tr>\n",
       "<tr>\n",
       "  <th>Df Residuals:</th>          <td>    76</td>      <th>  BIC:               </th> <td>  -888.7</td>\n",
       "</tr>\n",
       "<tr>\n",
       "  <th>Df Model:</th>              <td>     3</td>      <th>                     </th>     <td> </td>   \n",
       "</tr>\n",
       "<tr>\n",
       "  <th>Covariance Type:</th>      <td>nonrobust</td>    <th>                     </th>     <td> </td>   \n",
       "</tr>\n",
       "</table>\n",
       "<table class=\"simpletable\">\n",
       "<tr>\n",
       "            <td></td>               <th>coef</th>     <th>std err</th>      <th>t</th>      <th>P>|t|</th>  <th>[0.025</th>    <th>0.975]</th>  \n",
       "</tr>\n",
       "<tr>\n",
       "  <th>Intercept</th>             <td>    0.0036</td> <td>    0.000</td> <td>   15.153</td> <td> 0.000</td> <td>    0.003</td> <td>    0.004</td>\n",
       "</tr>\n",
       "<tr>\n",
       "  <th>C(synthesis)[T.Twist]</th> <td>   -0.0030</td> <td>    0.000</td> <td>  -13.652</td> <td> 0.000</td> <td>   -0.003</td> <td>   -0.003</td>\n",
       "</tr>\n",
       "<tr>\n",
       "  <th>PCRC</th>                  <td>    0.0001</td> <td> 5.91e-06</td> <td>   20.464</td> <td> 0.000</td> <td>    0.000</td> <td>    0.000</td>\n",
       "</tr>\n",
       "<tr>\n",
       "  <th>Decay</th>                 <td>    0.0003</td> <td> 4.25e-05</td> <td>    6.615</td> <td> 0.000</td> <td>    0.000</td> <td>    0.000</td>\n",
       "</tr>\n",
       "</table>\n",
       "<table class=\"simpletable\">\n",
       "<tr>\n",
       "  <th>Omnibus:</th>       <td> 2.296</td> <th>  Durbin-Watson:     </th> <td>   2.286</td>\n",
       "</tr>\n",
       "<tr>\n",
       "  <th>Prob(Omnibus):</th> <td> 0.317</td> <th>  Jarque-Bera (JB):  </th> <td>   1.590</td>\n",
       "</tr>\n",
       "<tr>\n",
       "  <th>Skew:</th>          <td>-0.114</td> <th>  Prob(JB):          </th> <td>   0.451</td>\n",
       "</tr>\n",
       "<tr>\n",
       "  <th>Kurtosis:</th>      <td> 2.348</td> <th>  Cond. No.          </th> <td>    112.</td>\n",
       "</tr>\n",
       "</table><br/><br/>Notes:<br/>[1] Standard Errors assume that the covariance matrix of the errors is correctly specified."
      ],
      "text/latex": [
       "\\begin{center}\n",
       "\\begin{tabular}{lclc}\n",
       "\\toprule\n",
       "\\textbf{Dep. Variable:}        &       rate       & \\textbf{  R-squared:         } &     0.874   \\\\\n",
       "\\textbf{Model:}                &       OLS        & \\textbf{  Adj. R-squared:    } &     0.869   \\\\\n",
       "\\textbf{Method:}               &  Least Squares   & \\textbf{  F-statistic:       } &     175.9   \\\\\n",
       "\\textbf{Date:}                 & Thu, 22 Jun 2023 & \\textbf{  Prob (F-statistic):} &  4.14e-34   \\\\\n",
       "\\textbf{Time:}                 &     12:36:13     & \\textbf{  Log-Likelihood:    } &    453.11   \\\\\n",
       "\\textbf{No. Observations:}     &          80      & \\textbf{  AIC:               } &    -898.2   \\\\\n",
       "\\textbf{Df Residuals:}         &          76      & \\textbf{  BIC:               } &    -888.7   \\\\\n",
       "\\textbf{Df Model:}             &           3      & \\textbf{                     } &             \\\\\n",
       "\\textbf{Covariance Type:}      &    nonrobust     & \\textbf{                     } &             \\\\\n",
       "\\bottomrule\n",
       "\\end{tabular}\n",
       "\\begin{tabular}{lcccccc}\n",
       "                               & \\textbf{coef} & \\textbf{std err} & \\textbf{t} & \\textbf{P$> |$t$|$} & \\textbf{[0.025} & \\textbf{0.975]}  \\\\\n",
       "\\midrule\n",
       "\\textbf{Intercept}             &       0.0036  &        0.000     &    15.153  &         0.000        &        0.003    &        0.004     \\\\\n",
       "\\textbf{C(synthesis)[T.Twist]} &      -0.0030  &        0.000     &   -13.652  &         0.000        &       -0.003    &       -0.003     \\\\\n",
       "\\textbf{PCRC}                  &       0.0001  &     5.91e-06     &    20.464  &         0.000        &        0.000    &        0.000     \\\\\n",
       "\\textbf{Decay}                 &       0.0003  &     4.25e-05     &     6.615  &         0.000        &        0.000    &        0.000     \\\\\n",
       "\\bottomrule\n",
       "\\end{tabular}\n",
       "\\begin{tabular}{lclc}\n",
       "\\textbf{Omnibus:}       &  2.296 & \\textbf{  Durbin-Watson:     } &    2.286  \\\\\n",
       "\\textbf{Prob(Omnibus):} &  0.317 & \\textbf{  Jarque-Bera (JB):  } &    1.590  \\\\\n",
       "\\textbf{Skew:}          & -0.114 & \\textbf{  Prob(JB):          } &    0.451  \\\\\n",
       "\\textbf{Kurtosis:}      &  2.348 & \\textbf{  Cond. No.          } &     112.  \\\\\n",
       "\\bottomrule\n",
       "\\end{tabular}\n",
       "%\\caption{OLS Regression Results}\n",
       "\\end{center}\n",
       "\n",
       "Notes: \\newline\n",
       " [1] Standard Errors assume that the covariance matrix of the errors is correctly specified."
      ],
      "text/plain": [
       "<class 'statsmodels.iolib.summary.Summary'>\n",
       "\"\"\"\n",
       "                            OLS Regression Results                            \n",
       "==============================================================================\n",
       "Dep. Variable:                   rate   R-squared:                       0.874\n",
       "Model:                            OLS   Adj. R-squared:                  0.869\n",
       "Method:                 Least Squares   F-statistic:                     175.9\n",
       "Date:                Thu, 22 Jun 2023   Prob (F-statistic):           4.14e-34\n",
       "Time:                        12:36:13   Log-Likelihood:                 453.11\n",
       "No. Observations:                  80   AIC:                            -898.2\n",
       "Df Residuals:                      76   BIC:                            -888.7\n",
       "Df Model:                           3                                         \n",
       "Covariance Type:            nonrobust                                         \n",
       "=========================================================================================\n",
       "                            coef    std err          t      P>|t|      [0.025      0.975]\n",
       "-----------------------------------------------------------------------------------------\n",
       "Intercept                 0.0036      0.000     15.153      0.000       0.003       0.004\n",
       "C(synthesis)[T.Twist]    -0.0030      0.000    -13.652      0.000      -0.003      -0.003\n",
       "PCRC                      0.0001   5.91e-06     20.464      0.000       0.000       0.000\n",
       "Decay                     0.0003   4.25e-05      6.615      0.000       0.000       0.000\n",
       "==============================================================================\n",
       "Omnibus:                        2.296   Durbin-Watson:                   2.286\n",
       "Prob(Omnibus):                  0.317   Jarque-Bera (JB):                1.590\n",
       "Skew:                          -0.114   Prob(JB):                        0.451\n",
       "Kurtosis:                       2.348   Cond. No.                         112.\n",
       "==============================================================================\n",
       "\n",
       "Notes:\n",
       "[1] Standard Errors assume that the covariance matrix of the errors is correctly specified.\n",
       "\"\"\""
      ]
     },
     "metadata": {},
     "output_type": "display_data"
    },
    {
     "data": {
      "text/html": [
       "<div>\n",
       "<style scoped>\n",
       "    .dataframe tbody tr th:only-of-type {\n",
       "        vertical-align: middle;\n",
       "    }\n",
       "\n",
       "    .dataframe tbody tr th {\n",
       "        vertical-align: top;\n",
       "    }\n",
       "\n",
       "    .dataframe thead th {\n",
       "        text-align: right;\n",
       "    }\n",
       "</style>\n",
       "<table border=\"1\" class=\"dataframe\">\n",
       "  <thead>\n",
       "    <tr style=\"text-align: right;\">\n",
       "      <th></th>\n",
       "      <th>sum_sq</th>\n",
       "      <th>df</th>\n",
       "      <th>F</th>\n",
       "      <th>PR(&gt;F)</th>\n",
       "      <th>eta_sq</th>\n",
       "    </tr>\n",
       "  </thead>\n",
       "  <tbody>\n",
       "    <tr>\n",
       "      <th>C(synthesis)</th>\n",
       "      <td>0.000129</td>\n",
       "      <td>1.0</td>\n",
       "      <td>174.359601</td>\n",
       "      <td>2.300086e-21</td>\n",
       "      <td>28.3%</td>\n",
       "    </tr>\n",
       "    <tr>\n",
       "      <th>PCRC</th>\n",
       "      <td>0.000240</td>\n",
       "      <td>1.0</td>\n",
       "      <td>324.141374</td>\n",
       "      <td>3.902592e-29</td>\n",
       "      <td>52.6%</td>\n",
       "    </tr>\n",
       "    <tr>\n",
       "      <th>Decay</th>\n",
       "      <td>0.000031</td>\n",
       "      <td>1.0</td>\n",
       "      <td>41.906313</td>\n",
       "      <td>8.465637e-09</td>\n",
       "      <td>6.8%</td>\n",
       "    </tr>\n",
       "    <tr>\n",
       "      <th>Residual</th>\n",
       "      <td>0.000056</td>\n",
       "      <td>76.0</td>\n",
       "      <td>NaN</td>\n",
       "      <td>NaN</td>\n",
       "      <td>12.3%</td>\n",
       "    </tr>\n",
       "  </tbody>\n",
       "</table>\n",
       "</div>"
      ],
      "text/plain": [
       "                sum_sq    df           F        PR(>F) eta_sq\n",
       "C(synthesis)  0.000129   1.0  174.359601  2.300086e-21  28.3%\n",
       "PCRC          0.000240   1.0  324.141374  3.902592e-29  52.6%\n",
       "Decay         0.000031   1.0   41.906313  8.465637e-09   6.8%\n",
       "Residual      0.000056  76.0         NaN           NaN  12.3%"
      ]
     },
     "metadata": {},
     "output_type": "display_data"
    }
   ],
   "source": [
    "sub_table = anova(data, 'substitutions')"
   ]
  },
  {
   "cell_type": "code",
   "execution_count": 6,
   "metadata": {},
   "outputs": [
    {
     "data": {
      "text/html": [
       "<div>\n",
       "<style scoped>\n",
       "    .dataframe tbody tr th:only-of-type {\n",
       "        vertical-align: middle;\n",
       "    }\n",
       "\n",
       "    .dataframe tbody tr th {\n",
       "        vertical-align: top;\n",
       "    }\n",
       "\n",
       "    .dataframe thead th {\n",
       "        text-align: right;\n",
       "    }\n",
       "</style>\n",
       "<table border=\"1\" class=\"dataframe\">\n",
       "  <thead>\n",
       "    <tr style=\"text-align: right;\">\n",
       "      <th></th>\n",
       "      <th>type</th>\n",
       "      <th>rate</th>\n",
       "      <th>read</th>\n",
       "      <th>exp</th>\n",
       "      <th>group</th>\n",
       "      <th>synthesis</th>\n",
       "      <th>GC</th>\n",
       "      <th>PCRC</th>\n",
       "      <th>Decay</th>\n",
       "    </tr>\n",
       "  </thead>\n",
       "  <tbody>\n",
       "    <tr>\n",
       "      <th>2</th>\n",
       "      <td>insertions</td>\n",
       "      <td>0.000017</td>\n",
       "      <td>1</td>\n",
       "      <td>0a</td>\n",
       "      <td>Genscript_GCfix_36_0</td>\n",
       "      <td>Genscript</td>\n",
       "      <td>GCfix</td>\n",
       "      <td>36</td>\n",
       "      <td>0</td>\n",
       "    </tr>\n",
       "    <tr>\n",
       "      <th>6</th>\n",
       "      <td>insertions</td>\n",
       "      <td>0.000024</td>\n",
       "      <td>2</td>\n",
       "      <td>0a</td>\n",
       "      <td>Genscript_GCfix_36_0</td>\n",
       "      <td>Genscript</td>\n",
       "      <td>GCfix</td>\n",
       "      <td>36</td>\n",
       "      <td>0</td>\n",
       "    </tr>\n",
       "    <tr>\n",
       "      <th>10</th>\n",
       "      <td>insertions</td>\n",
       "      <td>0.000024</td>\n",
       "      <td>1</td>\n",
       "      <td>0b</td>\n",
       "      <td>Genscript_GCfix_42_0</td>\n",
       "      <td>Genscript</td>\n",
       "      <td>GCfix</td>\n",
       "      <td>42</td>\n",
       "      <td>0</td>\n",
       "    </tr>\n",
       "    <tr>\n",
       "      <th>14</th>\n",
       "      <td>insertions</td>\n",
       "      <td>0.000031</td>\n",
       "      <td>2</td>\n",
       "      <td>0b</td>\n",
       "      <td>Genscript_GCfix_42_0</td>\n",
       "      <td>Genscript</td>\n",
       "      <td>GCfix</td>\n",
       "      <td>42</td>\n",
       "      <td>0</td>\n",
       "    </tr>\n",
       "    <tr>\n",
       "      <th>18</th>\n",
       "      <td>insertions</td>\n",
       "      <td>0.000026</td>\n",
       "      <td>1</td>\n",
       "      <td>2d</td>\n",
       "      <td>Genscript_GCfix_42_2</td>\n",
       "      <td>Genscript</td>\n",
       "      <td>GCfix</td>\n",
       "      <td>42</td>\n",
       "      <td>2</td>\n",
       "    </tr>\n",
       "    <tr>\n",
       "      <th>...</th>\n",
       "      <td>...</td>\n",
       "      <td>...</td>\n",
       "      <td>...</td>\n",
       "      <td>...</td>\n",
       "      <td>...</td>\n",
       "      <td>...</td>\n",
       "      <td>...</td>\n",
       "      <td>...</td>\n",
       "      <td>...</td>\n",
       "    </tr>\n",
       "    <tr>\n",
       "      <th>302</th>\n",
       "      <td>insertions</td>\n",
       "      <td>0.000018</td>\n",
       "      <td>2</td>\n",
       "      <td>2d</td>\n",
       "      <td>Twist_GCfix_45_2</td>\n",
       "      <td>Twist</td>\n",
       "      <td>GCfix</td>\n",
       "      <td>45</td>\n",
       "      <td>2</td>\n",
       "    </tr>\n",
       "    <tr>\n",
       "      <th>306</th>\n",
       "      <td>insertions</td>\n",
       "      <td>0.000012</td>\n",
       "      <td>1</td>\n",
       "      <td>4d</td>\n",
       "      <td>Twist_GCfix_45_4</td>\n",
       "      <td>Twist</td>\n",
       "      <td>GCfix</td>\n",
       "      <td>45</td>\n",
       "      <td>4</td>\n",
       "    </tr>\n",
       "    <tr>\n",
       "      <th>310</th>\n",
       "      <td>insertions</td>\n",
       "      <td>0.000017</td>\n",
       "      <td>2</td>\n",
       "      <td>4d</td>\n",
       "      <td>Twist_GCfix_45_4</td>\n",
       "      <td>Twist</td>\n",
       "      <td>GCfix</td>\n",
       "      <td>45</td>\n",
       "      <td>4</td>\n",
       "    </tr>\n",
       "    <tr>\n",
       "      <th>314</th>\n",
       "      <td>insertions</td>\n",
       "      <td>0.000016</td>\n",
       "      <td>1</td>\n",
       "      <td>7d</td>\n",
       "      <td>Twist_GCfix_45_7</td>\n",
       "      <td>Twist</td>\n",
       "      <td>GCfix</td>\n",
       "      <td>45</td>\n",
       "      <td>7</td>\n",
       "    </tr>\n",
       "    <tr>\n",
       "      <th>318</th>\n",
       "      <td>insertions</td>\n",
       "      <td>0.000021</td>\n",
       "      <td>2</td>\n",
       "      <td>7d</td>\n",
       "      <td>Twist_GCfix_45_7</td>\n",
       "      <td>Twist</td>\n",
       "      <td>GCfix</td>\n",
       "      <td>45</td>\n",
       "      <td>7</td>\n",
       "    </tr>\n",
       "  </tbody>\n",
       "</table>\n",
       "<p>80 rows × 9 columns</p>\n",
       "</div>"
      ],
      "text/plain": [
       "           type      rate read exp                 group  synthesis     GC  \\\n",
       "2    insertions  0.000017    1  0a  Genscript_GCfix_36_0  Genscript  GCfix   \n",
       "6    insertions  0.000024    2  0a  Genscript_GCfix_36_0  Genscript  GCfix   \n",
       "10   insertions  0.000024    1  0b  Genscript_GCfix_42_0  Genscript  GCfix   \n",
       "14   insertions  0.000031    2  0b  Genscript_GCfix_42_0  Genscript  GCfix   \n",
       "18   insertions  0.000026    1  2d  Genscript_GCfix_42_2  Genscript  GCfix   \n",
       "..          ...       ...  ...  ..                   ...        ...    ...   \n",
       "302  insertions  0.000018    2  2d      Twist_GCfix_45_2      Twist  GCfix   \n",
       "306  insertions  0.000012    1  4d      Twist_GCfix_45_4      Twist  GCfix   \n",
       "310  insertions  0.000017    2  4d      Twist_GCfix_45_4      Twist  GCfix   \n",
       "314  insertions  0.000016    1  7d      Twist_GCfix_45_7      Twist  GCfix   \n",
       "318  insertions  0.000021    2  7d      Twist_GCfix_45_7      Twist  GCfix   \n",
       "\n",
       "     PCRC  Decay  \n",
       "2      36      0  \n",
       "6      36      0  \n",
       "10     42      0  \n",
       "14     42      0  \n",
       "18     42      2  \n",
       "..    ...    ...  \n",
       "302    45      2  \n",
       "306    45      4  \n",
       "310    45      4  \n",
       "314    45      7  \n",
       "318    45      7  \n",
       "\n",
       "[80 rows x 9 columns]"
      ]
     },
     "metadata": {},
     "output_type": "display_data"
    },
    {
     "data": {
      "text/html": [
       "<table class=\"simpletable\">\n",
       "<caption>OLS Regression Results</caption>\n",
       "<tr>\n",
       "  <th>Dep. Variable:</th>          <td>rate</td>       <th>  R-squared:         </th> <td>   0.833</td>\n",
       "</tr>\n",
       "<tr>\n",
       "  <th>Model:</th>                   <td>OLS</td>       <th>  Adj. R-squared:    </th> <td>   0.826</td>\n",
       "</tr>\n",
       "<tr>\n",
       "  <th>Method:</th>             <td>Least Squares</td>  <th>  F-statistic:       </th> <td>   126.1</td>\n",
       "</tr>\n",
       "<tr>\n",
       "  <th>Date:</th>             <td>Thu, 22 Jun 2023</td> <th>  Prob (F-statistic):</th> <td>1.98e-29</td>\n",
       "</tr>\n",
       "<tr>\n",
       "  <th>Time:</th>                 <td>12:36:13</td>     <th>  Log-Likelihood:    </th> <td>  873.46</td>\n",
       "</tr>\n",
       "<tr>\n",
       "  <th>No. Observations:</th>      <td>    80</td>      <th>  AIC:               </th> <td>  -1739.</td>\n",
       "</tr>\n",
       "<tr>\n",
       "  <th>Df Residuals:</th>          <td>    76</td>      <th>  BIC:               </th> <td>  -1729.</td>\n",
       "</tr>\n",
       "<tr>\n",
       "  <th>Df Model:</th>              <td>     3</td>      <th>                     </th>     <td> </td>   \n",
       "</tr>\n",
       "<tr>\n",
       "  <th>Covariance Type:</th>      <td>nonrobust</td>    <th>                     </th>     <td> </td>   \n",
       "</tr>\n",
       "</table>\n",
       "<table class=\"simpletable\">\n",
       "<tr>\n",
       "            <td></td>               <th>coef</th>     <th>std err</th>      <th>t</th>      <th>P>|t|</th>  <th>[0.025</th>    <th>0.975]</th>  \n",
       "</tr>\n",
       "<tr>\n",
       "  <th>Intercept</th>             <td> 2.322e-06</td> <td> 1.24e-06</td> <td>    1.867</td> <td> 0.066</td> <td>-1.55e-07</td> <td>  4.8e-06</td>\n",
       "</tr>\n",
       "<tr>\n",
       "  <th>C(synthesis)[T.Twist]</th> <td> -1.36e-05</td> <td> 1.14e-06</td> <td>  -11.954</td> <td> 0.000</td> <td>-1.59e-05</td> <td>-1.13e-05</td>\n",
       "</tr>\n",
       "<tr>\n",
       "  <th>PCRC</th>                  <td> 5.108e-07</td> <td> 3.09e-08</td> <td>   16.532</td> <td> 0.000</td> <td> 4.49e-07</td> <td> 5.72e-07</td>\n",
       "</tr>\n",
       "<tr>\n",
       "  <th>Decay</th>                 <td> 1.506e-06</td> <td> 2.22e-07</td> <td>    6.779</td> <td> 0.000</td> <td> 1.06e-06</td> <td> 1.95e-06</td>\n",
       "</tr>\n",
       "</table>\n",
       "<table class=\"simpletable\">\n",
       "<tr>\n",
       "  <th>Omnibus:</th>       <td> 5.391</td> <th>  Durbin-Watson:     </th> <td>   2.341</td>\n",
       "</tr>\n",
       "<tr>\n",
       "  <th>Prob(Omnibus):</th> <td> 0.068</td> <th>  Jarque-Bera (JB):  </th> <td>   3.387</td>\n",
       "</tr>\n",
       "<tr>\n",
       "  <th>Skew:</th>          <td> 0.323</td> <th>  Prob(JB):          </th> <td>   0.184</td>\n",
       "</tr>\n",
       "<tr>\n",
       "  <th>Kurtosis:</th>      <td> 2.226</td> <th>  Cond. No.          </th> <td>    112.</td>\n",
       "</tr>\n",
       "</table><br/><br/>Notes:<br/>[1] Standard Errors assume that the covariance matrix of the errors is correctly specified."
      ],
      "text/latex": [
       "\\begin{center}\n",
       "\\begin{tabular}{lclc}\n",
       "\\toprule\n",
       "\\textbf{Dep. Variable:}        &       rate       & \\textbf{  R-squared:         } &     0.833   \\\\\n",
       "\\textbf{Model:}                &       OLS        & \\textbf{  Adj. R-squared:    } &     0.826   \\\\\n",
       "\\textbf{Method:}               &  Least Squares   & \\textbf{  F-statistic:       } &     126.1   \\\\\n",
       "\\textbf{Date:}                 & Thu, 22 Jun 2023 & \\textbf{  Prob (F-statistic):} &  1.98e-29   \\\\\n",
       "\\textbf{Time:}                 &     12:36:13     & \\textbf{  Log-Likelihood:    } &    873.46   \\\\\n",
       "\\textbf{No. Observations:}     &          80      & \\textbf{  AIC:               } &    -1739.   \\\\\n",
       "\\textbf{Df Residuals:}         &          76      & \\textbf{  BIC:               } &    -1729.   \\\\\n",
       "\\textbf{Df Model:}             &           3      & \\textbf{                     } &             \\\\\n",
       "\\textbf{Covariance Type:}      &    nonrobust     & \\textbf{                     } &             \\\\\n",
       "\\bottomrule\n",
       "\\end{tabular}\n",
       "\\begin{tabular}{lcccccc}\n",
       "                               & \\textbf{coef} & \\textbf{std err} & \\textbf{t} & \\textbf{P$> |$t$|$} & \\textbf{[0.025} & \\textbf{0.975]}  \\\\\n",
       "\\midrule\n",
       "\\textbf{Intercept}             &    2.322e-06  &     1.24e-06     &     1.867  &         0.066        &    -1.55e-07    &      4.8e-06     \\\\\n",
       "\\textbf{C(synthesis)[T.Twist]} &    -1.36e-05  &     1.14e-06     &   -11.954  &         0.000        &    -1.59e-05    &    -1.13e-05     \\\\\n",
       "\\textbf{PCRC}                  &    5.108e-07  &     3.09e-08     &    16.532  &         0.000        &     4.49e-07    &     5.72e-07     \\\\\n",
       "\\textbf{Decay}                 &    1.506e-06  &     2.22e-07     &     6.779  &         0.000        &     1.06e-06    &     1.95e-06     \\\\\n",
       "\\bottomrule\n",
       "\\end{tabular}\n",
       "\\begin{tabular}{lclc}\n",
       "\\textbf{Omnibus:}       &  5.391 & \\textbf{  Durbin-Watson:     } &    2.341  \\\\\n",
       "\\textbf{Prob(Omnibus):} &  0.068 & \\textbf{  Jarque-Bera (JB):  } &    3.387  \\\\\n",
       "\\textbf{Skew:}          &  0.323 & \\textbf{  Prob(JB):          } &    0.184  \\\\\n",
       "\\textbf{Kurtosis:}      &  2.226 & \\textbf{  Cond. No.          } &     112.  \\\\\n",
       "\\bottomrule\n",
       "\\end{tabular}\n",
       "%\\caption{OLS Regression Results}\n",
       "\\end{center}\n",
       "\n",
       "Notes: \\newline\n",
       " [1] Standard Errors assume that the covariance matrix of the errors is correctly specified."
      ],
      "text/plain": [
       "<class 'statsmodels.iolib.summary.Summary'>\n",
       "\"\"\"\n",
       "                            OLS Regression Results                            \n",
       "==============================================================================\n",
       "Dep. Variable:                   rate   R-squared:                       0.833\n",
       "Model:                            OLS   Adj. R-squared:                  0.826\n",
       "Method:                 Least Squares   F-statistic:                     126.1\n",
       "Date:                Thu, 22 Jun 2023   Prob (F-statistic):           1.98e-29\n",
       "Time:                        12:36:13   Log-Likelihood:                 873.46\n",
       "No. Observations:                  80   AIC:                            -1739.\n",
       "Df Residuals:                      76   BIC:                            -1729.\n",
       "Df Model:                           3                                         \n",
       "Covariance Type:            nonrobust                                         \n",
       "=========================================================================================\n",
       "                            coef    std err          t      P>|t|      [0.025      0.975]\n",
       "-----------------------------------------------------------------------------------------\n",
       "Intercept              2.322e-06   1.24e-06      1.867      0.066   -1.55e-07     4.8e-06\n",
       "C(synthesis)[T.Twist]  -1.36e-05   1.14e-06    -11.954      0.000   -1.59e-05   -1.13e-05\n",
       "PCRC                   5.108e-07   3.09e-08     16.532      0.000    4.49e-07    5.72e-07\n",
       "Decay                  1.506e-06   2.22e-07      6.779      0.000    1.06e-06    1.95e-06\n",
       "==============================================================================\n",
       "Omnibus:                        5.391   Durbin-Watson:                   2.341\n",
       "Prob(Omnibus):                  0.068   Jarque-Bera (JB):                3.387\n",
       "Skew:                           0.323   Prob(JB):                        0.184\n",
       "Kurtosis:                       2.226   Cond. No.                         112.\n",
       "==============================================================================\n",
       "\n",
       "Notes:\n",
       "[1] Standard Errors assume that the covariance matrix of the errors is correctly specified.\n",
       "\"\"\""
      ]
     },
     "metadata": {},
     "output_type": "display_data"
    },
    {
     "data": {
      "text/html": [
       "<div>\n",
       "<style scoped>\n",
       "    .dataframe tbody tr th:only-of-type {\n",
       "        vertical-align: middle;\n",
       "    }\n",
       "\n",
       "    .dataframe tbody tr th {\n",
       "        vertical-align: top;\n",
       "    }\n",
       "\n",
       "    .dataframe thead th {\n",
       "        text-align: right;\n",
       "    }\n",
       "</style>\n",
       "<table border=\"1\" class=\"dataframe\">\n",
       "  <thead>\n",
       "    <tr style=\"text-align: right;\">\n",
       "      <th></th>\n",
       "      <th>sum_sq</th>\n",
       "      <th>df</th>\n",
       "      <th>F</th>\n",
       "      <th>PR(&gt;F)</th>\n",
       "      <th>eta_sq</th>\n",
       "    </tr>\n",
       "  </thead>\n",
       "  <tbody>\n",
       "    <tr>\n",
       "      <th>C(synthesis)</th>\n",
       "      <td>2.221736e-09</td>\n",
       "      <td>1.0</td>\n",
       "      <td>109.730704</td>\n",
       "      <td>2.108345e-16</td>\n",
       "      <td>26.8%</td>\n",
       "    </tr>\n",
       "    <tr>\n",
       "      <th>PCRC</th>\n",
       "      <td>3.925615e-09</td>\n",
       "      <td>1.0</td>\n",
       "      <td>193.884587</td>\n",
       "      <td>1.305915e-22</td>\n",
       "      <td>47.3%</td>\n",
       "    </tr>\n",
       "    <tr>\n",
       "      <th>Decay</th>\n",
       "      <td>6.157382e-10</td>\n",
       "      <td>1.0</td>\n",
       "      <td>30.411070</td>\n",
       "      <td>4.618830e-07</td>\n",
       "      <td>7.4%</td>\n",
       "    </tr>\n",
       "    <tr>\n",
       "      <th>Residual</th>\n",
       "      <td>1.538785e-09</td>\n",
       "      <td>76.0</td>\n",
       "      <td>NaN</td>\n",
       "      <td>NaN</td>\n",
       "      <td>18.5%</td>\n",
       "    </tr>\n",
       "  </tbody>\n",
       "</table>\n",
       "</div>"
      ],
      "text/plain": [
       "                    sum_sq    df           F        PR(>F) eta_sq\n",
       "C(synthesis)  2.221736e-09   1.0  109.730704  2.108345e-16  26.8%\n",
       "PCRC          3.925615e-09   1.0  193.884587  1.305915e-22  47.3%\n",
       "Decay         6.157382e-10   1.0   30.411070  4.618830e-07   7.4%\n",
       "Residual      1.538785e-09  76.0         NaN           NaN  18.5%"
      ]
     },
     "metadata": {},
     "output_type": "display_data"
    }
   ],
   "source": [
    "ins_table = anova(data, 'insertions')"
   ]
  },
  {
   "cell_type": "code",
   "execution_count": 7,
   "metadata": {},
   "outputs": [
    {
     "data": {
      "application/vnd.plotly.v1+json": {
       "config": {
        "plotlyServerURL": "https://plot.ly"
       },
       "data": [
        {
         "alignmentgroup": "True",
         "hovertemplate": "index=C(synthesis)<br>type=%{x}<br>eta_sq=%{y}<extra></extra>",
         "legendgroup": "C(synthesis)",
         "marker": {
          "color": "#252525",
          "pattern": {
           "shape": ""
          }
         },
         "name": "C(synthesis)",
         "offsetgroup": "C(synthesis)",
         "orientation": "v",
         "showlegend": true,
         "textposition": "auto",
         "type": "bar",
         "x": [
          "Dels.",
          "Subs."
         ],
         "xaxis": "x",
         "y": [
          0.9429995707146339,
          0.28286427581950424
         ],
         "yaxis": "y"
        },
        {
         "alignmentgroup": "True",
         "hovertemplate": "index=PCRC<br>type=%{x}<br>eta_sq=%{y}<extra></extra>",
         "legendgroup": "PCRC",
         "marker": {
          "color": "#636363",
          "pattern": {
           "shape": ""
          }
         },
         "name": "PCRC",
         "offsetgroup": "PCRC",
         "orientation": "v",
         "showlegend": true,
         "textposition": "auto",
         "type": "bar",
         "x": [
          "Dels.",
          "Subs."
         ],
         "xaxis": "x",
         "y": [
          0.0003217697894866761,
          0.5258558432455216
         ],
         "yaxis": "y"
        },
        {
         "alignmentgroup": "True",
         "hovertemplate": "index=Decay<br>type=%{x}<br>eta_sq=%{y}<extra></extra>",
         "legendgroup": "Decay",
         "marker": {
          "color": "#969696",
          "pattern": {
           "shape": ""
          }
         },
         "name": "Decay",
         "offsetgroup": "Decay",
         "orientation": "v",
         "showlegend": true,
         "textposition": "auto",
         "type": "bar",
         "x": [
          "Dels.",
          "Subs."
         ],
         "xaxis": "x",
         "y": [
          1.6491819202973812e-8,
          0.06798477805931888
         ],
         "yaxis": "y"
        },
        {
         "alignmentgroup": "True",
         "hovertemplate": "index=Residual<br>type=%{x}<br>eta_sq=%{y}<extra></extra>",
         "legendgroup": "Residual",
         "marker": {
          "color": "#cccccc",
          "pattern": {
           "shape": ""
          }
         },
         "name": "Residual",
         "offsetgroup": "Residual",
         "orientation": "v",
         "showlegend": true,
         "textposition": "auto",
         "type": "bar",
         "x": [
          "Dels.",
          "Subs."
         ],
         "xaxis": "x",
         "y": [
          0.056678643004060184,
          0.1232951028756552
         ],
         "yaxis": "y"
        }
       ],
       "layout": {
        "barmode": "relative",
        "font": {
         "family": "Inter"
        },
        "height": 375,
        "legend": {
         "font": {
          "size": 9.333333333333334
         },
         "title": {
          "text": ""
         },
         "tracegroupgap": 0,
         "x": -0.4,
         "xanchor": "left",
         "y": -0.15,
         "yanchor": "top"
        },
        "margin": {
         "b": 150,
         "l": 0,
         "r": 0,
         "t": 0
        },
        "template": {
         "data": {
          "bar": [
           {
            "error_x": {
             "color": "rgb(36,36,36)"
            },
            "error_y": {
             "color": "rgb(36,36,36)"
            },
            "marker": {
             "line": {
              "color": "white",
              "width": 0.5
             },
             "pattern": {
              "fillmode": "overlay",
              "size": 10,
              "solidity": 0.2
             }
            },
            "type": "bar"
           }
          ],
          "barpolar": [
           {
            "marker": {
             "line": {
              "color": "white",
              "width": 0.5
             },
             "pattern": {
              "fillmode": "overlay",
              "size": 10,
              "solidity": 0.2
             }
            },
            "type": "barpolar"
           }
          ],
          "carpet": [
           {
            "aaxis": {
             "endlinecolor": "rgb(36,36,36)",
             "gridcolor": "white",
             "linecolor": "white",
             "minorgridcolor": "white",
             "startlinecolor": "rgb(36,36,36)"
            },
            "baxis": {
             "endlinecolor": "rgb(36,36,36)",
             "gridcolor": "white",
             "linecolor": "white",
             "minorgridcolor": "white",
             "startlinecolor": "rgb(36,36,36)"
            },
            "type": "carpet"
           }
          ],
          "choropleth": [
           {
            "colorbar": {
             "outlinewidth": 1,
             "tickcolor": "rgb(36,36,36)",
             "ticks": "outside"
            },
            "type": "choropleth"
           }
          ],
          "contour": [
           {
            "colorbar": {
             "outlinewidth": 1,
             "tickcolor": "rgb(36,36,36)",
             "ticks": "outside"
            },
            "colorscale": [
             [
              0,
              "#440154"
             ],
             [
              0.1111111111111111,
              "#482878"
             ],
             [
              0.2222222222222222,
              "#3e4989"
             ],
             [
              0.3333333333333333,
              "#31688e"
             ],
             [
              0.4444444444444444,
              "#26828e"
             ],
             [
              0.5555555555555556,
              "#1f9e89"
             ],
             [
              0.6666666666666666,
              "#35b779"
             ],
             [
              0.7777777777777778,
              "#6ece58"
             ],
             [
              0.8888888888888888,
              "#b5de2b"
             ],
             [
              1,
              "#fde725"
             ]
            ],
            "type": "contour"
           }
          ],
          "contourcarpet": [
           {
            "colorbar": {
             "outlinewidth": 1,
             "tickcolor": "rgb(36,36,36)",
             "ticks": "outside"
            },
            "type": "contourcarpet"
           }
          ],
          "heatmap": [
           {
            "colorbar": {
             "outlinewidth": 1,
             "tickcolor": "rgb(36,36,36)",
             "ticks": "outside"
            },
            "colorscale": [
             [
              0,
              "#440154"
             ],
             [
              0.1111111111111111,
              "#482878"
             ],
             [
              0.2222222222222222,
              "#3e4989"
             ],
             [
              0.3333333333333333,
              "#31688e"
             ],
             [
              0.4444444444444444,
              "#26828e"
             ],
             [
              0.5555555555555556,
              "#1f9e89"
             ],
             [
              0.6666666666666666,
              "#35b779"
             ],
             [
              0.7777777777777778,
              "#6ece58"
             ],
             [
              0.8888888888888888,
              "#b5de2b"
             ],
             [
              1,
              "#fde725"
             ]
            ],
            "type": "heatmap"
           }
          ],
          "heatmapgl": [
           {
            "colorbar": {
             "outlinewidth": 1,
             "tickcolor": "rgb(36,36,36)",
             "ticks": "outside"
            },
            "colorscale": [
             [
              0,
              "#440154"
             ],
             [
              0.1111111111111111,
              "#482878"
             ],
             [
              0.2222222222222222,
              "#3e4989"
             ],
             [
              0.3333333333333333,
              "#31688e"
             ],
             [
              0.4444444444444444,
              "#26828e"
             ],
             [
              0.5555555555555556,
              "#1f9e89"
             ],
             [
              0.6666666666666666,
              "#35b779"
             ],
             [
              0.7777777777777778,
              "#6ece58"
             ],
             [
              0.8888888888888888,
              "#b5de2b"
             ],
             [
              1,
              "#fde725"
             ]
            ],
            "type": "heatmapgl"
           }
          ],
          "histogram": [
           {
            "marker": {
             "line": {
              "color": "white",
              "width": 0.6
             }
            },
            "type": "histogram"
           }
          ],
          "histogram2d": [
           {
            "colorbar": {
             "outlinewidth": 1,
             "tickcolor": "rgb(36,36,36)",
             "ticks": "outside"
            },
            "colorscale": [
             [
              0,
              "#440154"
             ],
             [
              0.1111111111111111,
              "#482878"
             ],
             [
              0.2222222222222222,
              "#3e4989"
             ],
             [
              0.3333333333333333,
              "#31688e"
             ],
             [
              0.4444444444444444,
              "#26828e"
             ],
             [
              0.5555555555555556,
              "#1f9e89"
             ],
             [
              0.6666666666666666,
              "#35b779"
             ],
             [
              0.7777777777777778,
              "#6ece58"
             ],
             [
              0.8888888888888888,
              "#b5de2b"
             ],
             [
              1,
              "#fde725"
             ]
            ],
            "type": "histogram2d"
           }
          ],
          "histogram2dcontour": [
           {
            "colorbar": {
             "outlinewidth": 1,
             "tickcolor": "rgb(36,36,36)",
             "ticks": "outside"
            },
            "colorscale": [
             [
              0,
              "#440154"
             ],
             [
              0.1111111111111111,
              "#482878"
             ],
             [
              0.2222222222222222,
              "#3e4989"
             ],
             [
              0.3333333333333333,
              "#31688e"
             ],
             [
              0.4444444444444444,
              "#26828e"
             ],
             [
              0.5555555555555556,
              "#1f9e89"
             ],
             [
              0.6666666666666666,
              "#35b779"
             ],
             [
              0.7777777777777778,
              "#6ece58"
             ],
             [
              0.8888888888888888,
              "#b5de2b"
             ],
             [
              1,
              "#fde725"
             ]
            ],
            "type": "histogram2dcontour"
           }
          ],
          "mesh3d": [
           {
            "colorbar": {
             "outlinewidth": 1,
             "tickcolor": "rgb(36,36,36)",
             "ticks": "outside"
            },
            "type": "mesh3d"
           }
          ],
          "parcoords": [
           {
            "line": {
             "colorbar": {
              "outlinewidth": 1,
              "tickcolor": "rgb(36,36,36)",
              "ticks": "outside"
             }
            },
            "type": "parcoords"
           }
          ],
          "pie": [
           {
            "automargin": true,
            "type": "pie"
           }
          ],
          "scatter": [
           {
            "fillpattern": {
             "fillmode": "overlay",
             "size": 10,
             "solidity": 0.2
            },
            "type": "scatter"
           }
          ],
          "scatter3d": [
           {
            "line": {
             "colorbar": {
              "outlinewidth": 1,
              "tickcolor": "rgb(36,36,36)",
              "ticks": "outside"
             }
            },
            "marker": {
             "colorbar": {
              "outlinewidth": 1,
              "tickcolor": "rgb(36,36,36)",
              "ticks": "outside"
             }
            },
            "type": "scatter3d"
           }
          ],
          "scattercarpet": [
           {
            "marker": {
             "colorbar": {
              "outlinewidth": 1,
              "tickcolor": "rgb(36,36,36)",
              "ticks": "outside"
             }
            },
            "type": "scattercarpet"
           }
          ],
          "scattergeo": [
           {
            "marker": {
             "colorbar": {
              "outlinewidth": 1,
              "tickcolor": "rgb(36,36,36)",
              "ticks": "outside"
             }
            },
            "type": "scattergeo"
           }
          ],
          "scattergl": [
           {
            "marker": {
             "colorbar": {
              "outlinewidth": 1,
              "tickcolor": "rgb(36,36,36)",
              "ticks": "outside"
             }
            },
            "type": "scattergl"
           }
          ],
          "scattermapbox": [
           {
            "marker": {
             "colorbar": {
              "outlinewidth": 1,
              "tickcolor": "rgb(36,36,36)",
              "ticks": "outside"
             }
            },
            "type": "scattermapbox"
           }
          ],
          "scatterpolar": [
           {
            "marker": {
             "colorbar": {
              "outlinewidth": 1,
              "tickcolor": "rgb(36,36,36)",
              "ticks": "outside"
             }
            },
            "type": "scatterpolar"
           }
          ],
          "scatterpolargl": [
           {
            "marker": {
             "colorbar": {
              "outlinewidth": 1,
              "tickcolor": "rgb(36,36,36)",
              "ticks": "outside"
             }
            },
            "type": "scatterpolargl"
           }
          ],
          "scatterternary": [
           {
            "marker": {
             "colorbar": {
              "outlinewidth": 1,
              "tickcolor": "rgb(36,36,36)",
              "ticks": "outside"
             }
            },
            "type": "scatterternary"
           }
          ],
          "surface": [
           {
            "colorbar": {
             "outlinewidth": 1,
             "tickcolor": "rgb(36,36,36)",
             "ticks": "outside"
            },
            "colorscale": [
             [
              0,
              "#440154"
             ],
             [
              0.1111111111111111,
              "#482878"
             ],
             [
              0.2222222222222222,
              "#3e4989"
             ],
             [
              0.3333333333333333,
              "#31688e"
             ],
             [
              0.4444444444444444,
              "#26828e"
             ],
             [
              0.5555555555555556,
              "#1f9e89"
             ],
             [
              0.6666666666666666,
              "#35b779"
             ],
             [
              0.7777777777777778,
              "#6ece58"
             ],
             [
              0.8888888888888888,
              "#b5de2b"
             ],
             [
              1,
              "#fde725"
             ]
            ],
            "type": "surface"
           }
          ],
          "table": [
           {
            "cells": {
             "fill": {
              "color": "rgb(237,237,237)"
             },
             "line": {
              "color": "white"
             }
            },
            "header": {
             "fill": {
              "color": "rgb(217,217,217)"
             },
             "line": {
              "color": "white"
             }
            },
            "type": "table"
           }
          ]
         },
         "layout": {
          "annotationdefaults": {
           "arrowhead": 0,
           "arrowwidth": 1
          },
          "autotypenumbers": "strict",
          "coloraxis": {
           "colorbar": {
            "outlinewidth": 1,
            "tickcolor": "rgb(36,36,36)",
            "ticks": "outside"
           }
          },
          "colorscale": {
           "diverging": [
            [
             0,
             "rgb(103,0,31)"
            ],
            [
             0.1,
             "rgb(178,24,43)"
            ],
            [
             0.2,
             "rgb(214,96,77)"
            ],
            [
             0.3,
             "rgb(244,165,130)"
            ],
            [
             0.4,
             "rgb(253,219,199)"
            ],
            [
             0.5,
             "rgb(247,247,247)"
            ],
            [
             0.6,
             "rgb(209,229,240)"
            ],
            [
             0.7,
             "rgb(146,197,222)"
            ],
            [
             0.8,
             "rgb(67,147,195)"
            ],
            [
             0.9,
             "rgb(33,102,172)"
            ],
            [
             1,
             "rgb(5,48,97)"
            ]
           ],
           "sequential": [
            [
             0,
             "#440154"
            ],
            [
             0.1111111111111111,
             "#482878"
            ],
            [
             0.2222222222222222,
             "#3e4989"
            ],
            [
             0.3333333333333333,
             "#31688e"
            ],
            [
             0.4444444444444444,
             "#26828e"
            ],
            [
             0.5555555555555556,
             "#1f9e89"
            ],
            [
             0.6666666666666666,
             "#35b779"
            ],
            [
             0.7777777777777778,
             "#6ece58"
            ],
            [
             0.8888888888888888,
             "#b5de2b"
            ],
            [
             1,
             "#fde725"
            ]
           ],
           "sequentialminus": [
            [
             0,
             "#440154"
            ],
            [
             0.1111111111111111,
             "#482878"
            ],
            [
             0.2222222222222222,
             "#3e4989"
            ],
            [
             0.3333333333333333,
             "#31688e"
            ],
            [
             0.4444444444444444,
             "#26828e"
            ],
            [
             0.5555555555555556,
             "#1f9e89"
            ],
            [
             0.6666666666666666,
             "#35b779"
            ],
            [
             0.7777777777777778,
             "#6ece58"
            ],
            [
             0.8888888888888888,
             "#b5de2b"
            ],
            [
             1,
             "#fde725"
            ]
           ]
          },
          "colorway": [
           "#1F77B4",
           "#FF7F0E",
           "#2CA02C",
           "#D62728",
           "#9467BD",
           "#8C564B",
           "#E377C2",
           "#7F7F7F",
           "#BCBD22",
           "#17BECF"
          ],
          "font": {
           "color": "rgb(36,36,36)"
          },
          "geo": {
           "bgcolor": "white",
           "lakecolor": "white",
           "landcolor": "white",
           "showlakes": true,
           "showland": true,
           "subunitcolor": "white"
          },
          "hoverlabel": {
           "align": "left"
          },
          "hovermode": "closest",
          "mapbox": {
           "style": "light"
          },
          "paper_bgcolor": "white",
          "plot_bgcolor": "white",
          "polar": {
           "angularaxis": {
            "gridcolor": "rgb(232,232,232)",
            "linecolor": "rgb(36,36,36)",
            "showgrid": false,
            "showline": true,
            "ticks": "outside"
           },
           "bgcolor": "white",
           "radialaxis": {
            "gridcolor": "rgb(232,232,232)",
            "linecolor": "rgb(36,36,36)",
            "showgrid": false,
            "showline": true,
            "ticks": "outside"
           }
          },
          "scene": {
           "xaxis": {
            "backgroundcolor": "white",
            "gridcolor": "rgb(232,232,232)",
            "gridwidth": 2,
            "linecolor": "rgb(36,36,36)",
            "showbackground": true,
            "showgrid": false,
            "showline": true,
            "ticks": "outside",
            "zeroline": false,
            "zerolinecolor": "rgb(36,36,36)"
           },
           "yaxis": {
            "backgroundcolor": "white",
            "gridcolor": "rgb(232,232,232)",
            "gridwidth": 2,
            "linecolor": "rgb(36,36,36)",
            "showbackground": true,
            "showgrid": false,
            "showline": true,
            "ticks": "outside",
            "zeroline": false,
            "zerolinecolor": "rgb(36,36,36)"
           },
           "zaxis": {
            "backgroundcolor": "white",
            "gridcolor": "rgb(232,232,232)",
            "gridwidth": 2,
            "linecolor": "rgb(36,36,36)",
            "showbackground": true,
            "showgrid": false,
            "showline": true,
            "ticks": "outside",
            "zeroline": false,
            "zerolinecolor": "rgb(36,36,36)"
           }
          },
          "shapedefaults": {
           "fillcolor": "black",
           "line": {
            "width": 0
           },
           "opacity": 0.3
          },
          "ternary": {
           "aaxis": {
            "gridcolor": "rgb(232,232,232)",
            "linecolor": "rgb(36,36,36)",
            "showgrid": false,
            "showline": true,
            "ticks": "outside"
           },
           "baxis": {
            "gridcolor": "rgb(232,232,232)",
            "linecolor": "rgb(36,36,36)",
            "showgrid": false,
            "showline": true,
            "ticks": "outside"
           },
           "bgcolor": "white",
           "caxis": {
            "gridcolor": "rgb(232,232,232)",
            "linecolor": "rgb(36,36,36)",
            "showgrid": false,
            "showline": true,
            "ticks": "outside"
           }
          },
          "title": {
           "x": 0.05
          },
          "xaxis": {
           "automargin": true,
           "gridcolor": "rgb(232,232,232)",
           "linecolor": "rgb(36,36,36)",
           "showgrid": false,
           "showline": true,
           "ticks": "outside",
           "title": {
            "standoff": 15
           },
           "zeroline": false,
           "zerolinecolor": "rgb(36,36,36)"
          },
          "yaxis": {
           "automargin": true,
           "gridcolor": "rgb(232,232,232)",
           "linecolor": "rgb(36,36,36)",
           "showgrid": false,
           "showline": true,
           "ticks": "outside",
           "title": {
            "standoff": 15
           },
           "zeroline": false,
           "zerolinecolor": "rgb(36,36,36)"
          }
         }
        },
        "width": 125,
        "xaxis": {
         "anchor": "y",
         "domain": [
          0,
          1
         ],
         "tickfont": {
          "size": 9.333333333333334
         },
         "title": {
          "font": {
           "size": 9.333333333333334
          },
          "text": ""
         }
        },
        "yaxis": {
         "anchor": "x",
         "domain": [
          0,
          1
         ],
         "range": [
          0,
          1
         ],
         "tickfont": {
          "size": 9.333333333333334
         },
         "tickformat": ",.0%",
         "title": {
          "font": {
           "size": 9.333333333333334
          },
          "text": "Explained variance"
         }
        }
       }
      }
     },
     "metadata": {},
     "output_type": "display_data"
    }
   ],
   "source": [
    "sub_table['type'] = 'Subs.'\n",
    "del_table['type'] = 'Dels.'\n",
    "df = pd.concat([del_table, sub_table])\n",
    "\n",
    "\n",
    "fig = px.bar(\n",
    "    df, \n",
    "    x=\"type\", \n",
    "    y=\"eta_sq\", \n",
    "    color=df.index,\n",
    "    color_discrete_sequence=[\"#252525\", \"#636363\", \"#969696\", \"#cccccc\"],\n",
    ")\n",
    "\n",
    "\n",
    "fig.update_layout(\n",
    "    template='simple_white',\n",
    "    height=400,\n",
    "    width=175,\n",
    "    # showlegend=False,\n",
    "    legend=dict(\n",
    "        yanchor=\"top\",\n",
    "        y=-0.15,\n",
    "        xanchor=\"left\",\n",
    "        x=-0.4,\n",
    "        title_text=''\n",
    "    )\n",
    ")\n",
    "fig.update_yaxes(title_text='Explained variance', tickformat=\",.0%\", range=[0, 1])\n",
    "fig.update_xaxes(title_text='')\n",
    "fig.update_layout(\n",
    "    height=375,\n",
    "    width=125,\n",
    "    margin=dict(l=0, r=0, t=0, b=150),\n",
    "    font_family=\"Inter\",\n",
    "    legend_font_size=28/3,\n",
    ")\n",
    "fig.update_xaxes(title_font_size=28/3, tickfont_size=28/3)\n",
    "fig.update_yaxes(title_font_size=28/3, tickfont_size=28/3)\n",
    "fig.show()\n",
    "fig.write_image(\"anova.svg\")"
   ]
  }
 ],
 "metadata": {
  "kernelspec": {
   "display_name": "np_pd_sp",
   "language": "python",
   "name": "python3"
  },
  "language_info": {
   "codemirror_mode": {
    "name": "ipython",
    "version": 3
   },
   "file_extension": ".py",
   "mimetype": "text/x-python",
   "name": "python",
   "nbconvert_exporter": "python",
   "pygments_lexer": "ipython3",
   "version": "3.9.7"
  },
  "orig_nbformat": 4,
  "vscode": {
   "interpreter": {
    "hash": "da8130b5c8ccf41f100662caf67f3ba756beedabd599674f9119b95438e5e458"
   }
  }
 },
 "nbformat": 4,
 "nbformat_minor": 2
}
