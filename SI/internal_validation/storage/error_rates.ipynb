{
 "cells": [
  {
   "cell_type": "code",
   "execution_count": 1,
   "metadata": {},
   "outputs": [],
   "source": [
    "import numpy as np\n",
    "from scipy.optimize import curve_fit\n",
    "import plotly.graph_objects as pg\n",
    "import plotly.express as px\n",
    "import pandas as pd\n",
    "import statsmodels.formula.api as smf\n",
    "import statsmodels.stats.api as sms\n",
    "import statsmodels.api as sm"
   ]
  },
  {
   "cell_type": "code",
   "execution_count": 2,
   "metadata": {},
   "outputs": [],
   "source": [
    "%load_ext autoreload\n",
    "%autoreload 2\n",
    "import dt4dds.analysis as analysis\n",
    "\n",
    "data = analysis.SeriesAnalysis([\n",
    "    ('Genscript_GCall', 0, analysis.ErrorAnalysis(\"../../../data/internal_validation/Genscript_GCall_Aging/0b\")),\n",
    "    ('Genscript_GCall', 2.10, analysis.ErrorAnalysis(\"../../../data/internal_validation/Genscript_GCall_Aging/2d\")),\n",
    "    ('Genscript_GCall', 4.24, analysis.ErrorAnalysis(\"../../../data/internal_validation/Genscript_GCall_Aging/4d\")),\n",
    "    ('Genscript_GCall', 7.09, analysis.ErrorAnalysis(\"../../../data/internal_validation/Genscript_GCall_Aging/7d\")),\n",
    "    ('Genscript_GCfix', 0, analysis.ErrorAnalysis(\"../../../data/internal_validation/Genscript_GCfix_Aging/0b\")),\n",
    "    ('Genscript_GCfix', 2.22, analysis.ErrorAnalysis(\"../../../data/internal_validation/Genscript_GCfix_Aging/2d\")),\n",
    "    ('Genscript_GCfix', 5.17, analysis.ErrorAnalysis(\"../../../data/internal_validation/Genscript_GCfix_Aging/4d\")),\n",
    "    ('Genscript_GCfix', 7.18, analysis.ErrorAnalysis(\"../../../data/internal_validation/Genscript_GCfix_Aging/7d\")),\n",
    "    ('Twist_GCall', 0, analysis.ErrorAnalysis(\"../../../data/internal_validation/Twist_GCall_Aging/0b\")),\n",
    "    ('Twist_GCall', 2.02, analysis.ErrorAnalysis(\"../../../data/internal_validation/Twist_GCall_Aging/2d\")),\n",
    "    ('Twist_GCall', 4.04, analysis.ErrorAnalysis(\"../../../data/internal_validation/Twist_GCall_Aging/4d\")),\n",
    "    ('Twist_GCall', 7.03, analysis.ErrorAnalysis(\"../../../data/internal_validation/Twist_GCall_Aging/7d\")),\n",
    "    ('Twist_GCfix', 0, analysis.ErrorAnalysis(\"../../../data/internal_validation/Twist_GCfix_Aging/0b\")),\n",
    "    ('Twist_GCfix', 2.44, analysis.ErrorAnalysis(\"../../../data/internal_validation/Twist_GCfix_Aging/2d\")),\n",
    "    ('Twist_GCfix', 4.89, analysis.ErrorAnalysis(\"../../../data/internal_validation/Twist_GCfix_Aging/4d\")),\n",
    "    ('Twist_GCfix', 8.50, analysis.ErrorAnalysis(\"../../../data/internal_validation/Twist_GCfix_Aging/7d\")),\n",
    "])"
   ]
  },
  {
   "cell_type": "code",
   "execution_count": 3,
   "metadata": {},
   "outputs": [
    {
     "data": {
      "application/vnd.plotly.v1+json": {
       "config": {
        "plotlyServerURL": "https://plot.ly"
       },
       "data": [
        {
         "hovertemplate": "prov=Genscript<br>GC=GCall<br>delta_series_var=%{x}<br>y=%{y}<extra></extra>",
         "legendgroup": "Genscript, GCall",
         "marker": {
          "color": "#238b45",
          "symbol": "circle"
         },
         "mode": "markers",
         "name": "Genscript, GCall",
         "orientation": "v",
         "showlegend": true,
         "type": "scatter",
         "x": [
          0,
          0,
          2.1,
          2.1,
          4.24,
          4.24,
          7.09,
          7.09
         ],
         "xaxis": "x",
         "y": [
          0,
          0,
          0.4594779590534944,
          0.4552254990729566,
          0.5461989926815094,
          0.5436614254348601,
          1.3077942131484235,
          1.3129447991840262
         ],
         "yaxis": "y"
        },
        {
         "hovertemplate": "prov=Genscript<br>GC=GCfix<br>delta_series_var=%{x}<br>y=%{y}<extra></extra>",
         "legendgroup": "Genscript, GCfix",
         "marker": {
          "color": "#238b45",
          "symbol": "diamond"
         },
         "mode": "markers",
         "name": "Genscript, GCfix",
         "orientation": "v",
         "showlegend": true,
         "type": "scatter",
         "x": [
          0,
          0,
          2.22,
          2.22,
          5.17,
          5.17,
          7.18,
          7.18
         ],
         "xaxis": "x",
         "y": [
          0,
          0,
          0.5711301266169959,
          0.5567635720910655,
          0.815567168014033,
          0.8082758737021495,
          1.0834870879812744,
          1.0706791238746707
         ],
         "yaxis": "y"
        },
        {
         "hovertemplate": "prov=Twist<br>GC=GCall<br>delta_series_var=%{x}<br>y=%{y}<extra></extra>",
         "legendgroup": "Twist, GCall",
         "marker": {
          "color": "#74c476",
          "symbol": "circle"
         },
         "mode": "markers",
         "name": "Twist, GCall",
         "orientation": "v",
         "showlegend": true,
         "type": "scatter",
         "x": [
          0,
          0,
          2.02,
          2.02,
          4.04,
          4.04,
          7.03,
          7.03
         ],
         "xaxis": "x",
         "y": [
          0,
          0,
          0.6162858119753769,
          0.6350573263933781,
          0.7082516653298581,
          0.7139777203099708,
          0.9703945260222555,
          0.980661978829467
         ],
         "yaxis": "y"
        },
        {
         "hovertemplate": "prov=Twist<br>GC=GCfix<br>delta_series_var=%{x}<br>y=%{y}<extra></extra>",
         "legendgroup": "Twist, GCfix",
         "marker": {
          "color": "#74c476",
          "symbol": "diamond"
         },
         "mode": "markers",
         "name": "Twist, GCfix",
         "orientation": "v",
         "showlegend": true,
         "type": "scatter",
         "x": [
          0,
          0,
          2.44,
          2.44,
          4.89,
          4.89,
          8.5,
          8.5
         ],
         "xaxis": "x",
         "y": [
          0,
          0,
          0.7144973372673015,
          0.7127724841677384,
          0.6672773616272603,
          0.6648448299688839,
          1.43108888060564,
          1.4306559805482462
         ],
         "yaxis": "y"
        },
        {
         "hovertemplate": "<b>OLS trendline</b><br>y = 0.164427 * delta_series_var<br>R<sup>2</sup>=0.962294<br><br>delta_series_var=%{x}<br>y=%{y} <b>(trend)</b><extra></extra>",
         "legendgroup": "Overall Trendline",
         "line": {
          "color": "#444444"
         },
         "mode": "lines",
         "name": "Overall Trendline",
         "showlegend": true,
         "type": "scatter",
         "x": [
          0,
          0,
          0,
          0,
          0,
          0,
          0,
          0,
          2.02,
          2.02,
          2.1,
          2.1,
          2.22,
          2.22,
          2.44,
          2.44,
          4.04,
          4.04,
          4.24,
          4.24,
          4.89,
          4.89,
          5.17,
          5.17,
          7.03,
          7.03,
          7.09,
          7.09,
          7.18,
          7.18,
          8.5,
          8.5
         ],
         "xaxis": "x",
         "y": [
          0,
          0,
          0,
          0,
          0,
          0,
          0,
          0,
          0.33214336771496666,
          0.33214336771496666,
          0.34529756049575744,
          0.34529756049575744,
          0.3650288496669436,
          0.3650288496669436,
          0.4012028798141181,
          0.4012028798141181,
          0.6642867354299333,
          0.6642867354299333,
          0.6971722173819103,
          0.6971722173819103,
          0.8040500337258351,
          0.8040500337258351,
          0.8500897084586028,
          0.8500897084586028,
          1.155924690611988,
          1.155924690611988,
          1.165790335197581,
          1.165790335197581,
          1.1805888020759705,
          1.1805888020759705,
          1.3976329829590182,
          1.3976329829590182
         ],
         "yaxis": "y"
        }
       ],
       "layout": {
        "annotations": [
         {
          "font": {
           "family": "Inter",
           "size": 9.333333333333334
          },
          "showarrow": false,
          "text": "1.64 · 10<sup>-4</sup> nt<sup>-1</sup> τ<sup>-1</sup>",
          "x": 2,
          "y": 0.9
         }
        ],
        "font": {
         "family": "Inter"
        },
        "height": 220,
        "legend": {
         "font": {
          "size": 9.333333333333334
         },
         "title": {
          "text": "prov, GC"
         },
         "tracegroupgap": 0
        },
        "margin": {
         "b": 0,
         "l": 0,
         "r": 8,
         "t": 5
        },
        "showlegend": false,
        "template": {
         "data": {
          "bar": [
           {
            "error_x": {
             "color": "rgb(36,36,36)"
            },
            "error_y": {
             "color": "rgb(36,36,36)"
            },
            "marker": {
             "line": {
              "color": "white",
              "width": 0.5
             },
             "pattern": {
              "fillmode": "overlay",
              "size": 10,
              "solidity": 0.2
             }
            },
            "type": "bar"
           }
          ],
          "barpolar": [
           {
            "marker": {
             "line": {
              "color": "white",
              "width": 0.5
             },
             "pattern": {
              "fillmode": "overlay",
              "size": 10,
              "solidity": 0.2
             }
            },
            "type": "barpolar"
           }
          ],
          "carpet": [
           {
            "aaxis": {
             "endlinecolor": "rgb(36,36,36)",
             "gridcolor": "white",
             "linecolor": "white",
             "minorgridcolor": "white",
             "startlinecolor": "rgb(36,36,36)"
            },
            "baxis": {
             "endlinecolor": "rgb(36,36,36)",
             "gridcolor": "white",
             "linecolor": "white",
             "minorgridcolor": "white",
             "startlinecolor": "rgb(36,36,36)"
            },
            "type": "carpet"
           }
          ],
          "choropleth": [
           {
            "colorbar": {
             "outlinewidth": 1,
             "tickcolor": "rgb(36,36,36)",
             "ticks": "outside"
            },
            "type": "choropleth"
           }
          ],
          "contour": [
           {
            "colorbar": {
             "outlinewidth": 1,
             "tickcolor": "rgb(36,36,36)",
             "ticks": "outside"
            },
            "colorscale": [
             [
              0,
              "#440154"
             ],
             [
              0.1111111111111111,
              "#482878"
             ],
             [
              0.2222222222222222,
              "#3e4989"
             ],
             [
              0.3333333333333333,
              "#31688e"
             ],
             [
              0.4444444444444444,
              "#26828e"
             ],
             [
              0.5555555555555556,
              "#1f9e89"
             ],
             [
              0.6666666666666666,
              "#35b779"
             ],
             [
              0.7777777777777778,
              "#6ece58"
             ],
             [
              0.8888888888888888,
              "#b5de2b"
             ],
             [
              1,
              "#fde725"
             ]
            ],
            "type": "contour"
           }
          ],
          "contourcarpet": [
           {
            "colorbar": {
             "outlinewidth": 1,
             "tickcolor": "rgb(36,36,36)",
             "ticks": "outside"
            },
            "type": "contourcarpet"
           }
          ],
          "heatmap": [
           {
            "colorbar": {
             "outlinewidth": 1,
             "tickcolor": "rgb(36,36,36)",
             "ticks": "outside"
            },
            "colorscale": [
             [
              0,
              "#440154"
             ],
             [
              0.1111111111111111,
              "#482878"
             ],
             [
              0.2222222222222222,
              "#3e4989"
             ],
             [
              0.3333333333333333,
              "#31688e"
             ],
             [
              0.4444444444444444,
              "#26828e"
             ],
             [
              0.5555555555555556,
              "#1f9e89"
             ],
             [
              0.6666666666666666,
              "#35b779"
             ],
             [
              0.7777777777777778,
              "#6ece58"
             ],
             [
              0.8888888888888888,
              "#b5de2b"
             ],
             [
              1,
              "#fde725"
             ]
            ],
            "type": "heatmap"
           }
          ],
          "heatmapgl": [
           {
            "colorbar": {
             "outlinewidth": 1,
             "tickcolor": "rgb(36,36,36)",
             "ticks": "outside"
            },
            "colorscale": [
             [
              0,
              "#440154"
             ],
             [
              0.1111111111111111,
              "#482878"
             ],
             [
              0.2222222222222222,
              "#3e4989"
             ],
             [
              0.3333333333333333,
              "#31688e"
             ],
             [
              0.4444444444444444,
              "#26828e"
             ],
             [
              0.5555555555555556,
              "#1f9e89"
             ],
             [
              0.6666666666666666,
              "#35b779"
             ],
             [
              0.7777777777777778,
              "#6ece58"
             ],
             [
              0.8888888888888888,
              "#b5de2b"
             ],
             [
              1,
              "#fde725"
             ]
            ],
            "type": "heatmapgl"
           }
          ],
          "histogram": [
           {
            "marker": {
             "line": {
              "color": "white",
              "width": 0.6
             }
            },
            "type": "histogram"
           }
          ],
          "histogram2d": [
           {
            "colorbar": {
             "outlinewidth": 1,
             "tickcolor": "rgb(36,36,36)",
             "ticks": "outside"
            },
            "colorscale": [
             [
              0,
              "#440154"
             ],
             [
              0.1111111111111111,
              "#482878"
             ],
             [
              0.2222222222222222,
              "#3e4989"
             ],
             [
              0.3333333333333333,
              "#31688e"
             ],
             [
              0.4444444444444444,
              "#26828e"
             ],
             [
              0.5555555555555556,
              "#1f9e89"
             ],
             [
              0.6666666666666666,
              "#35b779"
             ],
             [
              0.7777777777777778,
              "#6ece58"
             ],
             [
              0.8888888888888888,
              "#b5de2b"
             ],
             [
              1,
              "#fde725"
             ]
            ],
            "type": "histogram2d"
           }
          ],
          "histogram2dcontour": [
           {
            "colorbar": {
             "outlinewidth": 1,
             "tickcolor": "rgb(36,36,36)",
             "ticks": "outside"
            },
            "colorscale": [
             [
              0,
              "#440154"
             ],
             [
              0.1111111111111111,
              "#482878"
             ],
             [
              0.2222222222222222,
              "#3e4989"
             ],
             [
              0.3333333333333333,
              "#31688e"
             ],
             [
              0.4444444444444444,
              "#26828e"
             ],
             [
              0.5555555555555556,
              "#1f9e89"
             ],
             [
              0.6666666666666666,
              "#35b779"
             ],
             [
              0.7777777777777778,
              "#6ece58"
             ],
             [
              0.8888888888888888,
              "#b5de2b"
             ],
             [
              1,
              "#fde725"
             ]
            ],
            "type": "histogram2dcontour"
           }
          ],
          "mesh3d": [
           {
            "colorbar": {
             "outlinewidth": 1,
             "tickcolor": "rgb(36,36,36)",
             "ticks": "outside"
            },
            "type": "mesh3d"
           }
          ],
          "parcoords": [
           {
            "line": {
             "colorbar": {
              "outlinewidth": 1,
              "tickcolor": "rgb(36,36,36)",
              "ticks": "outside"
             }
            },
            "type": "parcoords"
           }
          ],
          "pie": [
           {
            "automargin": true,
            "type": "pie"
           }
          ],
          "scatter": [
           {
            "fillpattern": {
             "fillmode": "overlay",
             "size": 10,
             "solidity": 0.2
            },
            "type": "scatter"
           }
          ],
          "scatter3d": [
           {
            "line": {
             "colorbar": {
              "outlinewidth": 1,
              "tickcolor": "rgb(36,36,36)",
              "ticks": "outside"
             }
            },
            "marker": {
             "colorbar": {
              "outlinewidth": 1,
              "tickcolor": "rgb(36,36,36)",
              "ticks": "outside"
             }
            },
            "type": "scatter3d"
           }
          ],
          "scattercarpet": [
           {
            "marker": {
             "colorbar": {
              "outlinewidth": 1,
              "tickcolor": "rgb(36,36,36)",
              "ticks": "outside"
             }
            },
            "type": "scattercarpet"
           }
          ],
          "scattergeo": [
           {
            "marker": {
             "colorbar": {
              "outlinewidth": 1,
              "tickcolor": "rgb(36,36,36)",
              "ticks": "outside"
             }
            },
            "type": "scattergeo"
           }
          ],
          "scattergl": [
           {
            "marker": {
             "colorbar": {
              "outlinewidth": 1,
              "tickcolor": "rgb(36,36,36)",
              "ticks": "outside"
             }
            },
            "type": "scattergl"
           }
          ],
          "scattermapbox": [
           {
            "marker": {
             "colorbar": {
              "outlinewidth": 1,
              "tickcolor": "rgb(36,36,36)",
              "ticks": "outside"
             }
            },
            "type": "scattermapbox"
           }
          ],
          "scatterpolar": [
           {
            "marker": {
             "colorbar": {
              "outlinewidth": 1,
              "tickcolor": "rgb(36,36,36)",
              "ticks": "outside"
             }
            },
            "type": "scatterpolar"
           }
          ],
          "scatterpolargl": [
           {
            "marker": {
             "colorbar": {
              "outlinewidth": 1,
              "tickcolor": "rgb(36,36,36)",
              "ticks": "outside"
             }
            },
            "type": "scatterpolargl"
           }
          ],
          "scatterternary": [
           {
            "marker": {
             "colorbar": {
              "outlinewidth": 1,
              "tickcolor": "rgb(36,36,36)",
              "ticks": "outside"
             }
            },
            "type": "scatterternary"
           }
          ],
          "surface": [
           {
            "colorbar": {
             "outlinewidth": 1,
             "tickcolor": "rgb(36,36,36)",
             "ticks": "outside"
            },
            "colorscale": [
             [
              0,
              "#440154"
             ],
             [
              0.1111111111111111,
              "#482878"
             ],
             [
              0.2222222222222222,
              "#3e4989"
             ],
             [
              0.3333333333333333,
              "#31688e"
             ],
             [
              0.4444444444444444,
              "#26828e"
             ],
             [
              0.5555555555555556,
              "#1f9e89"
             ],
             [
              0.6666666666666666,
              "#35b779"
             ],
             [
              0.7777777777777778,
              "#6ece58"
             ],
             [
              0.8888888888888888,
              "#b5de2b"
             ],
             [
              1,
              "#fde725"
             ]
            ],
            "type": "surface"
           }
          ],
          "table": [
           {
            "cells": {
             "fill": {
              "color": "rgb(237,237,237)"
             },
             "line": {
              "color": "white"
             }
            },
            "header": {
             "fill": {
              "color": "rgb(217,217,217)"
             },
             "line": {
              "color": "white"
             }
            },
            "type": "table"
           }
          ]
         },
         "layout": {
          "annotationdefaults": {
           "arrowhead": 0,
           "arrowwidth": 1
          },
          "autotypenumbers": "strict",
          "coloraxis": {
           "colorbar": {
            "outlinewidth": 1,
            "tickcolor": "rgb(36,36,36)",
            "ticks": "outside"
           }
          },
          "colorscale": {
           "diverging": [
            [
             0,
             "rgb(103,0,31)"
            ],
            [
             0.1,
             "rgb(178,24,43)"
            ],
            [
             0.2,
             "rgb(214,96,77)"
            ],
            [
             0.3,
             "rgb(244,165,130)"
            ],
            [
             0.4,
             "rgb(253,219,199)"
            ],
            [
             0.5,
             "rgb(247,247,247)"
            ],
            [
             0.6,
             "rgb(209,229,240)"
            ],
            [
             0.7,
             "rgb(146,197,222)"
            ],
            [
             0.8,
             "rgb(67,147,195)"
            ],
            [
             0.9,
             "rgb(33,102,172)"
            ],
            [
             1,
             "rgb(5,48,97)"
            ]
           ],
           "sequential": [
            [
             0,
             "#440154"
            ],
            [
             0.1111111111111111,
             "#482878"
            ],
            [
             0.2222222222222222,
             "#3e4989"
            ],
            [
             0.3333333333333333,
             "#31688e"
            ],
            [
             0.4444444444444444,
             "#26828e"
            ],
            [
             0.5555555555555556,
             "#1f9e89"
            ],
            [
             0.6666666666666666,
             "#35b779"
            ],
            [
             0.7777777777777778,
             "#6ece58"
            ],
            [
             0.8888888888888888,
             "#b5de2b"
            ],
            [
             1,
             "#fde725"
            ]
           ],
           "sequentialminus": [
            [
             0,
             "#440154"
            ],
            [
             0.1111111111111111,
             "#482878"
            ],
            [
             0.2222222222222222,
             "#3e4989"
            ],
            [
             0.3333333333333333,
             "#31688e"
            ],
            [
             0.4444444444444444,
             "#26828e"
            ],
            [
             0.5555555555555556,
             "#1f9e89"
            ],
            [
             0.6666666666666666,
             "#35b779"
            ],
            [
             0.7777777777777778,
             "#6ece58"
            ],
            [
             0.8888888888888888,
             "#b5de2b"
            ],
            [
             1,
             "#fde725"
            ]
           ]
          },
          "colorway": [
           "#1F77B4",
           "#FF7F0E",
           "#2CA02C",
           "#D62728",
           "#9467BD",
           "#8C564B",
           "#E377C2",
           "#7F7F7F",
           "#BCBD22",
           "#17BECF"
          ],
          "font": {
           "color": "rgb(36,36,36)"
          },
          "geo": {
           "bgcolor": "white",
           "lakecolor": "white",
           "landcolor": "white",
           "showlakes": true,
           "showland": true,
           "subunitcolor": "white"
          },
          "hoverlabel": {
           "align": "left"
          },
          "hovermode": "closest",
          "mapbox": {
           "style": "light"
          },
          "paper_bgcolor": "white",
          "plot_bgcolor": "white",
          "polar": {
           "angularaxis": {
            "gridcolor": "rgb(232,232,232)",
            "linecolor": "rgb(36,36,36)",
            "showgrid": false,
            "showline": true,
            "ticks": "outside"
           },
           "bgcolor": "white",
           "radialaxis": {
            "gridcolor": "rgb(232,232,232)",
            "linecolor": "rgb(36,36,36)",
            "showgrid": false,
            "showline": true,
            "ticks": "outside"
           }
          },
          "scene": {
           "xaxis": {
            "backgroundcolor": "white",
            "gridcolor": "rgb(232,232,232)",
            "gridwidth": 2,
            "linecolor": "rgb(36,36,36)",
            "showbackground": true,
            "showgrid": false,
            "showline": true,
            "ticks": "outside",
            "zeroline": false,
            "zerolinecolor": "rgb(36,36,36)"
           },
           "yaxis": {
            "backgroundcolor": "white",
            "gridcolor": "rgb(232,232,232)",
            "gridwidth": 2,
            "linecolor": "rgb(36,36,36)",
            "showbackground": true,
            "showgrid": false,
            "showline": true,
            "ticks": "outside",
            "zeroline": false,
            "zerolinecolor": "rgb(36,36,36)"
           },
           "zaxis": {
            "backgroundcolor": "white",
            "gridcolor": "rgb(232,232,232)",
            "gridwidth": 2,
            "linecolor": "rgb(36,36,36)",
            "showbackground": true,
            "showgrid": false,
            "showline": true,
            "ticks": "outside",
            "zeroline": false,
            "zerolinecolor": "rgb(36,36,36)"
           }
          },
          "shapedefaults": {
           "fillcolor": "black",
           "line": {
            "width": 0
           },
           "opacity": 0.3
          },
          "ternary": {
           "aaxis": {
            "gridcolor": "rgb(232,232,232)",
            "linecolor": "rgb(36,36,36)",
            "showgrid": false,
            "showline": true,
            "ticks": "outside"
           },
           "baxis": {
            "gridcolor": "rgb(232,232,232)",
            "linecolor": "rgb(36,36,36)",
            "showgrid": false,
            "showline": true,
            "ticks": "outside"
           },
           "bgcolor": "white",
           "caxis": {
            "gridcolor": "rgb(232,232,232)",
            "linecolor": "rgb(36,36,36)",
            "showgrid": false,
            "showline": true,
            "ticks": "outside"
           }
          },
          "title": {
           "x": 0.05
          },
          "xaxis": {
           "automargin": true,
           "gridcolor": "rgb(232,232,232)",
           "linecolor": "rgb(36,36,36)",
           "showgrid": false,
           "showline": true,
           "ticks": "outside",
           "title": {
            "standoff": 15
           },
           "zeroline": false,
           "zerolinecolor": "rgb(36,36,36)"
          },
          "yaxis": {
           "automargin": true,
           "gridcolor": "rgb(232,232,232)",
           "linecolor": "rgb(36,36,36)",
           "showgrid": false,
           "showline": true,
           "ticks": "outside",
           "title": {
            "standoff": 15
           },
           "zeroline": false,
           "zerolinecolor": "rgb(36,36,36)"
          }
         }
        },
        "width": 330,
        "xaxis": {
         "anchor": "y",
         "domain": [
          0,
          1
         ],
         "dtick": 2,
         "minor": {
          "dtick": 1,
          "ticks": "outside"
         },
         "range": [
          -0.1,
          9
         ],
         "tickfont": {
          "size": 9.333333333333334
         },
         "title": {
          "font": {
           "family": "Inter",
           "size": 9.333333333333334
          },
          "text": "Storage duration / τ"
         }
        },
        "yaxis": {
         "anchor": "x",
         "domain": [
          0,
          1
         ],
         "dtick": 0.5,
         "minor": {
          "dtick": 0.25,
          "ticks": "outside"
         },
         "range": [
          -0.02,
          1.5
         ],
         "tickfont": {
          "size": 9.333333333333334
         },
         "title": {
          "font": {
           "family": "Inter",
           "size": 9.333333333333334
          },
          "text": "Excess substitution rate / 10<sup>-3</sup> nt<sup>-1</sup>"
         }
        }
       }
      }
     },
     "metadata": {},
     "output_type": "display_data"
    }
   ],
   "source": [
    "df = data.data[f\"overall_error_rates\"].copy()\n",
    "df.drop(df.loc[df['type'] == \"delevents\"].index, inplace=True)\n",
    "df.drop(df.loc[df['type'] == \"deletions\"].index, inplace=True)\n",
    "df.drop(df.loc[df['type'] == \"insertions\"].index, inplace=True)\n",
    "\n",
    "\n",
    "colors = ['#238b45', '#74c476', '#bae4b3']\n",
    "\n",
    "\n",
    "df['delta_rate'] = df['rate']\n",
    "for group in df['group'].unique():\n",
    "    for errortype in df['type'].unique():\n",
    "        for read in df['read'].unique():\n",
    "            idata = df.loc[(df['group'] == group) & (df['type'] == errortype) & (df['read'] == read)]\n",
    "            baseline = df.loc[(df['delta_series_var'] == 0) & (df['group'] == group) & (df['type'] == errortype) & (df['read'] == read), 'rate'].mean()\n",
    "            df.loc[(df['group'] == group) & (df['type'] == errortype) & (df['read'] == read), 'delta_rate'] -= baseline\n",
    "\n",
    "df[['prov', 'GC']] = df['group'].str.split(\"_\", expand=True)\n",
    "\n",
    "fig = px.scatter(\n",
    "    df, \n",
    "    x=df['delta_series_var'], \n",
    "    y=df['delta_rate']*1000, \n",
    "    color='prov',\n",
    "    symbol='GC', \n",
    "    trendline='ols',\n",
    "    trendline_scope=\"overall\",\n",
    "    trendline_options={\"add_constant\": False},\n",
    "    trendline_color_override=\"#444444\",\n",
    "    color_discrete_sequence=['#238b45', '#74c476', '#bae4b3']\n",
    ")\n",
    "fig.add_annotation(\n",
    "    x=2, y=0.9,\n",
    "    text=f\"{10*px.get_trendline_results(fig).px_fit_results[0].params[0]:.2f} · 10<sup>-4</sup> nt<sup>-1</sup> τ<sup>-1</sup>\",\n",
    "    showarrow=False,\n",
    "    font={'family': \"Inter\", 'size': 28/3}\n",
    ")\n",
    "\n",
    "\n",
    "fig.update_layout(\n",
    "    template=\"simple_white\", \n",
    "    height=220, \n",
    "    width=330, \n",
    "    showlegend=False, \n",
    "    margin=dict(l=0, r=8, t=5, b=0),\n",
    "    font_family=\"Inter\",\n",
    "    legend_font_size=28/3,\n",
    ")\n",
    "fig.update_xaxes(\n",
    "    title_text='Storage duration / τ',\n",
    "    title_font_family=\"Inter\", \n",
    "    title_font_size=28/3, \n",
    "    range=[-0.1, 9],\n",
    "    dtick=2,\n",
    "    minor_ticks=\"outside\", \n",
    "    minor_dtick=1,\n",
    "    tickfont_size=28/3, \n",
    ")\n",
    "fig.update_yaxes(\n",
    "    title_text='Excess substitution rate / 10<sup>-3</sup> nt<sup>-1</sup>',\n",
    "    title_font_family=\"Inter\", \n",
    "    title_font_size=28/3, \n",
    "    range=[-0.02, 1.5],\n",
    "    dtick=0.5,\n",
    "    minor_ticks=\"outside\", \n",
    "    minor_dtick=0.25,\n",
    "    tickfont_size=28/3, \n",
    ")\n",
    "\n",
    "\n",
    "fig.show()\n",
    "fig.write_image(\"error_rates.svg\")"
   ]
  },
  {
   "cell_type": "code",
   "execution_count": 4,
   "metadata": {},
   "outputs": [
    {
     "data": {
      "application/vnd.plotly.v1+json": {
       "config": {
        "plotlyServerURL": "https://plot.ly"
       },
       "data": [
        {
         "hovertemplate": "prov=Genscript<br>GC=GCall<br>delta_series_var=%{x}<br>y=%{y}<extra></extra>",
         "legendgroup": "Genscript, GCall",
         "marker": {
          "color": "#238b45",
          "symbol": "circle"
         },
         "mode": "markers",
         "name": "Genscript, GCall",
         "orientation": "v",
         "showlegend": true,
         "type": "scatter",
         "x": [
          0,
          0,
          2.1,
          2.1,
          4.24,
          4.24,
          7.09,
          7.09
         ],
         "xaxis": "x",
         "y": [
          0,
          0,
          -0.0006410735471917839,
          -0.0009019397635458282,
          0.06172005235370939,
          0.06400666962018582,
          0.05906584031923137,
          0.06093224829380878
         ],
         "yaxis": "y"
        },
        {
         "hovertemplate": "prov=Genscript<br>GC=GCfix<br>delta_series_var=%{x}<br>y=%{y}<extra></extra>",
         "legendgroup": "Genscript, GCfix",
         "marker": {
          "color": "#238b45",
          "symbol": "diamond"
         },
         "mode": "markers",
         "name": "Genscript, GCfix",
         "orientation": "v",
         "showlegend": true,
         "type": "scatter",
         "x": [
          0,
          0,
          2.22,
          2.22,
          5.17,
          5.17,
          7.18,
          7.18
         ],
         "xaxis": "x",
         "y": [
          0,
          0,
          0.0014031653265394323,
          0.001783882395047648,
          -0.04925124710712138,
          -0.05184562762572051,
          -0.056464044342180095,
          -0.05301307834746326
         ],
         "yaxis": "y"
        },
        {
         "hovertemplate": "prov=Twist<br>GC=GCall<br>delta_series_var=%{x}<br>y=%{y}<extra></extra>",
         "legendgroup": "Twist, GCall",
         "marker": {
          "color": "#74c476",
          "symbol": "circle"
         },
         "mode": "markers",
         "name": "Twist, GCall",
         "orientation": "v",
         "showlegend": true,
         "type": "scatter",
         "x": [
          0,
          0,
          2.02,
          2.02,
          4.04,
          4.04,
          7.03,
          7.03
         ],
         "xaxis": "x",
         "y": [
          0,
          0,
          -0.005376544846867897,
          -0.005052396547058067,
          -0.009516828573267501,
          -0.008931724252570352,
          0.011324238453902406,
          0.012690801918594993
         ],
         "yaxis": "y"
        },
        {
         "hovertemplate": "prov=Twist<br>GC=GCfix<br>delta_series_var=%{x}<br>y=%{y}<extra></extra>",
         "legendgroup": "Twist, GCfix",
         "marker": {
          "color": "#74c476",
          "symbol": "diamond"
         },
         "mode": "markers",
         "name": "Twist, GCfix",
         "orientation": "v",
         "showlegend": true,
         "type": "scatter",
         "x": [
          0,
          0,
          2.44,
          2.44,
          4.89,
          4.89,
          8.5,
          8.5
         ],
         "xaxis": "x",
         "y": [
          0,
          0,
          -0.00597907225458104,
          -0.005860960140590841,
          0.019619954280404497,
          0.0193162248992325,
          0.033033863267795595,
          0.03273943236064246
         ],
         "yaxis": "y"
        },
        {
         "hovertemplate": "<b>OLS trendline</b><br>y = 0.00133127 * delta_series_var<br>R<sup>2</sup>=0.039081<br><br>delta_series_var=%{x}<br>y=%{y} <b>(trend)</b><extra></extra>",
         "legendgroup": "Overall Trendline",
         "line": {
          "color": "#444444"
         },
         "mode": "lines",
         "name": "Overall Trendline",
         "showlegend": true,
         "type": "scatter",
         "x": [
          0,
          0,
          0,
          0,
          0,
          0,
          0,
          0,
          2.02,
          2.02,
          2.1,
          2.1,
          2.22,
          2.22,
          2.44,
          2.44,
          4.04,
          4.04,
          4.24,
          4.24,
          4.89,
          4.89,
          5.17,
          5.17,
          7.03,
          7.03,
          7.09,
          7.09,
          7.18,
          7.18,
          8.5,
          8.5
         ],
         "xaxis": "x",
         "y": [
          0,
          0,
          0,
          0,
          0,
          0,
          0,
          0,
          0.0026891752310720897,
          0.0026891752310720897,
          0.0027956772204214796,
          0.0027956772204214796,
          0.0029554302044455644,
          0.0029554302044455644,
          0.0032483106751563856,
          0.0032483106751563856,
          0.005378350462144179,
          0.005378350462144179,
          0.0056446054355176545,
          0.0056446054355176545,
          0.006509934098981445,
          0.006509934098981445,
          0.006882691061704309,
          0.006882691061704309,
          0.00935886231407762,
          0.00935886231407762,
          0.009438738806089662,
          0.009438738806089662,
          0.009558553544107725,
          0.009558553544107725,
          0.011315836368372655,
          0.011315836368372655
         ],
         "yaxis": "y"
        }
       ],
       "layout": {
        "annotations": [
         {
          "font": {
           "family": "Inter",
           "size": 9.333333333333334
          },
          "showarrow": false,
          "text": "0.01 · 10<sup>-4</sup> nt<sup>-1</sup> τ<sup>-1</sup>",
          "x": 2,
          "y": 0.9
         }
        ],
        "font": {
         "family": "Inter"
        },
        "height": 220,
        "legend": {
         "font": {
          "size": 9.333333333333334
         },
         "title": {
          "text": "prov, GC"
         },
         "tracegroupgap": 0
        },
        "margin": {
         "b": 0,
         "l": 0,
         "r": 8,
         "t": 5
        },
        "showlegend": false,
        "template": {
         "data": {
          "bar": [
           {
            "error_x": {
             "color": "rgb(36,36,36)"
            },
            "error_y": {
             "color": "rgb(36,36,36)"
            },
            "marker": {
             "line": {
              "color": "white",
              "width": 0.5
             },
             "pattern": {
              "fillmode": "overlay",
              "size": 10,
              "solidity": 0.2
             }
            },
            "type": "bar"
           }
          ],
          "barpolar": [
           {
            "marker": {
             "line": {
              "color": "white",
              "width": 0.5
             },
             "pattern": {
              "fillmode": "overlay",
              "size": 10,
              "solidity": 0.2
             }
            },
            "type": "barpolar"
           }
          ],
          "carpet": [
           {
            "aaxis": {
             "endlinecolor": "rgb(36,36,36)",
             "gridcolor": "white",
             "linecolor": "white",
             "minorgridcolor": "white",
             "startlinecolor": "rgb(36,36,36)"
            },
            "baxis": {
             "endlinecolor": "rgb(36,36,36)",
             "gridcolor": "white",
             "linecolor": "white",
             "minorgridcolor": "white",
             "startlinecolor": "rgb(36,36,36)"
            },
            "type": "carpet"
           }
          ],
          "choropleth": [
           {
            "colorbar": {
             "outlinewidth": 1,
             "tickcolor": "rgb(36,36,36)",
             "ticks": "outside"
            },
            "type": "choropleth"
           }
          ],
          "contour": [
           {
            "colorbar": {
             "outlinewidth": 1,
             "tickcolor": "rgb(36,36,36)",
             "ticks": "outside"
            },
            "colorscale": [
             [
              0,
              "#440154"
             ],
             [
              0.1111111111111111,
              "#482878"
             ],
             [
              0.2222222222222222,
              "#3e4989"
             ],
             [
              0.3333333333333333,
              "#31688e"
             ],
             [
              0.4444444444444444,
              "#26828e"
             ],
             [
              0.5555555555555556,
              "#1f9e89"
             ],
             [
              0.6666666666666666,
              "#35b779"
             ],
             [
              0.7777777777777778,
              "#6ece58"
             ],
             [
              0.8888888888888888,
              "#b5de2b"
             ],
             [
              1,
              "#fde725"
             ]
            ],
            "type": "contour"
           }
          ],
          "contourcarpet": [
           {
            "colorbar": {
             "outlinewidth": 1,
             "tickcolor": "rgb(36,36,36)",
             "ticks": "outside"
            },
            "type": "contourcarpet"
           }
          ],
          "heatmap": [
           {
            "colorbar": {
             "outlinewidth": 1,
             "tickcolor": "rgb(36,36,36)",
             "ticks": "outside"
            },
            "colorscale": [
             [
              0,
              "#440154"
             ],
             [
              0.1111111111111111,
              "#482878"
             ],
             [
              0.2222222222222222,
              "#3e4989"
             ],
             [
              0.3333333333333333,
              "#31688e"
             ],
             [
              0.4444444444444444,
              "#26828e"
             ],
             [
              0.5555555555555556,
              "#1f9e89"
             ],
             [
              0.6666666666666666,
              "#35b779"
             ],
             [
              0.7777777777777778,
              "#6ece58"
             ],
             [
              0.8888888888888888,
              "#b5de2b"
             ],
             [
              1,
              "#fde725"
             ]
            ],
            "type": "heatmap"
           }
          ],
          "heatmapgl": [
           {
            "colorbar": {
             "outlinewidth": 1,
             "tickcolor": "rgb(36,36,36)",
             "ticks": "outside"
            },
            "colorscale": [
             [
              0,
              "#440154"
             ],
             [
              0.1111111111111111,
              "#482878"
             ],
             [
              0.2222222222222222,
              "#3e4989"
             ],
             [
              0.3333333333333333,
              "#31688e"
             ],
             [
              0.4444444444444444,
              "#26828e"
             ],
             [
              0.5555555555555556,
              "#1f9e89"
             ],
             [
              0.6666666666666666,
              "#35b779"
             ],
             [
              0.7777777777777778,
              "#6ece58"
             ],
             [
              0.8888888888888888,
              "#b5de2b"
             ],
             [
              1,
              "#fde725"
             ]
            ],
            "type": "heatmapgl"
           }
          ],
          "histogram": [
           {
            "marker": {
             "line": {
              "color": "white",
              "width": 0.6
             }
            },
            "type": "histogram"
           }
          ],
          "histogram2d": [
           {
            "colorbar": {
             "outlinewidth": 1,
             "tickcolor": "rgb(36,36,36)",
             "ticks": "outside"
            },
            "colorscale": [
             [
              0,
              "#440154"
             ],
             [
              0.1111111111111111,
              "#482878"
             ],
             [
              0.2222222222222222,
              "#3e4989"
             ],
             [
              0.3333333333333333,
              "#31688e"
             ],
             [
              0.4444444444444444,
              "#26828e"
             ],
             [
              0.5555555555555556,
              "#1f9e89"
             ],
             [
              0.6666666666666666,
              "#35b779"
             ],
             [
              0.7777777777777778,
              "#6ece58"
             ],
             [
              0.8888888888888888,
              "#b5de2b"
             ],
             [
              1,
              "#fde725"
             ]
            ],
            "type": "histogram2d"
           }
          ],
          "histogram2dcontour": [
           {
            "colorbar": {
             "outlinewidth": 1,
             "tickcolor": "rgb(36,36,36)",
             "ticks": "outside"
            },
            "colorscale": [
             [
              0,
              "#440154"
             ],
             [
              0.1111111111111111,
              "#482878"
             ],
             [
              0.2222222222222222,
              "#3e4989"
             ],
             [
              0.3333333333333333,
              "#31688e"
             ],
             [
              0.4444444444444444,
              "#26828e"
             ],
             [
              0.5555555555555556,
              "#1f9e89"
             ],
             [
              0.6666666666666666,
              "#35b779"
             ],
             [
              0.7777777777777778,
              "#6ece58"
             ],
             [
              0.8888888888888888,
              "#b5de2b"
             ],
             [
              1,
              "#fde725"
             ]
            ],
            "type": "histogram2dcontour"
           }
          ],
          "mesh3d": [
           {
            "colorbar": {
             "outlinewidth": 1,
             "tickcolor": "rgb(36,36,36)",
             "ticks": "outside"
            },
            "type": "mesh3d"
           }
          ],
          "parcoords": [
           {
            "line": {
             "colorbar": {
              "outlinewidth": 1,
              "tickcolor": "rgb(36,36,36)",
              "ticks": "outside"
             }
            },
            "type": "parcoords"
           }
          ],
          "pie": [
           {
            "automargin": true,
            "type": "pie"
           }
          ],
          "scatter": [
           {
            "fillpattern": {
             "fillmode": "overlay",
             "size": 10,
             "solidity": 0.2
            },
            "type": "scatter"
           }
          ],
          "scatter3d": [
           {
            "line": {
             "colorbar": {
              "outlinewidth": 1,
              "tickcolor": "rgb(36,36,36)",
              "ticks": "outside"
             }
            },
            "marker": {
             "colorbar": {
              "outlinewidth": 1,
              "tickcolor": "rgb(36,36,36)",
              "ticks": "outside"
             }
            },
            "type": "scatter3d"
           }
          ],
          "scattercarpet": [
           {
            "marker": {
             "colorbar": {
              "outlinewidth": 1,
              "tickcolor": "rgb(36,36,36)",
              "ticks": "outside"
             }
            },
            "type": "scattercarpet"
           }
          ],
          "scattergeo": [
           {
            "marker": {
             "colorbar": {
              "outlinewidth": 1,
              "tickcolor": "rgb(36,36,36)",
              "ticks": "outside"
             }
            },
            "type": "scattergeo"
           }
          ],
          "scattergl": [
           {
            "marker": {
             "colorbar": {
              "outlinewidth": 1,
              "tickcolor": "rgb(36,36,36)",
              "ticks": "outside"
             }
            },
            "type": "scattergl"
           }
          ],
          "scattermapbox": [
           {
            "marker": {
             "colorbar": {
              "outlinewidth": 1,
              "tickcolor": "rgb(36,36,36)",
              "ticks": "outside"
             }
            },
            "type": "scattermapbox"
           }
          ],
          "scatterpolar": [
           {
            "marker": {
             "colorbar": {
              "outlinewidth": 1,
              "tickcolor": "rgb(36,36,36)",
              "ticks": "outside"
             }
            },
            "type": "scatterpolar"
           }
          ],
          "scatterpolargl": [
           {
            "marker": {
             "colorbar": {
              "outlinewidth": 1,
              "tickcolor": "rgb(36,36,36)",
              "ticks": "outside"
             }
            },
            "type": "scatterpolargl"
           }
          ],
          "scatterternary": [
           {
            "marker": {
             "colorbar": {
              "outlinewidth": 1,
              "tickcolor": "rgb(36,36,36)",
              "ticks": "outside"
             }
            },
            "type": "scatterternary"
           }
          ],
          "surface": [
           {
            "colorbar": {
             "outlinewidth": 1,
             "tickcolor": "rgb(36,36,36)",
             "ticks": "outside"
            },
            "colorscale": [
             [
              0,
              "#440154"
             ],
             [
              0.1111111111111111,
              "#482878"
             ],
             [
              0.2222222222222222,
              "#3e4989"
             ],
             [
              0.3333333333333333,
              "#31688e"
             ],
             [
              0.4444444444444444,
              "#26828e"
             ],
             [
              0.5555555555555556,
              "#1f9e89"
             ],
             [
              0.6666666666666666,
              "#35b779"
             ],
             [
              0.7777777777777778,
              "#6ece58"
             ],
             [
              0.8888888888888888,
              "#b5de2b"
             ],
             [
              1,
              "#fde725"
             ]
            ],
            "type": "surface"
           }
          ],
          "table": [
           {
            "cells": {
             "fill": {
              "color": "rgb(237,237,237)"
             },
             "line": {
              "color": "white"
             }
            },
            "header": {
             "fill": {
              "color": "rgb(217,217,217)"
             },
             "line": {
              "color": "white"
             }
            },
            "type": "table"
           }
          ]
         },
         "layout": {
          "annotationdefaults": {
           "arrowhead": 0,
           "arrowwidth": 1
          },
          "autotypenumbers": "strict",
          "coloraxis": {
           "colorbar": {
            "outlinewidth": 1,
            "tickcolor": "rgb(36,36,36)",
            "ticks": "outside"
           }
          },
          "colorscale": {
           "diverging": [
            [
             0,
             "rgb(103,0,31)"
            ],
            [
             0.1,
             "rgb(178,24,43)"
            ],
            [
             0.2,
             "rgb(214,96,77)"
            ],
            [
             0.3,
             "rgb(244,165,130)"
            ],
            [
             0.4,
             "rgb(253,219,199)"
            ],
            [
             0.5,
             "rgb(247,247,247)"
            ],
            [
             0.6,
             "rgb(209,229,240)"
            ],
            [
             0.7,
             "rgb(146,197,222)"
            ],
            [
             0.8,
             "rgb(67,147,195)"
            ],
            [
             0.9,
             "rgb(33,102,172)"
            ],
            [
             1,
             "rgb(5,48,97)"
            ]
           ],
           "sequential": [
            [
             0,
             "#440154"
            ],
            [
             0.1111111111111111,
             "#482878"
            ],
            [
             0.2222222222222222,
             "#3e4989"
            ],
            [
             0.3333333333333333,
             "#31688e"
            ],
            [
             0.4444444444444444,
             "#26828e"
            ],
            [
             0.5555555555555556,
             "#1f9e89"
            ],
            [
             0.6666666666666666,
             "#35b779"
            ],
            [
             0.7777777777777778,
             "#6ece58"
            ],
            [
             0.8888888888888888,
             "#b5de2b"
            ],
            [
             1,
             "#fde725"
            ]
           ],
           "sequentialminus": [
            [
             0,
             "#440154"
            ],
            [
             0.1111111111111111,
             "#482878"
            ],
            [
             0.2222222222222222,
             "#3e4989"
            ],
            [
             0.3333333333333333,
             "#31688e"
            ],
            [
             0.4444444444444444,
             "#26828e"
            ],
            [
             0.5555555555555556,
             "#1f9e89"
            ],
            [
             0.6666666666666666,
             "#35b779"
            ],
            [
             0.7777777777777778,
             "#6ece58"
            ],
            [
             0.8888888888888888,
             "#b5de2b"
            ],
            [
             1,
             "#fde725"
            ]
           ]
          },
          "colorway": [
           "#1F77B4",
           "#FF7F0E",
           "#2CA02C",
           "#D62728",
           "#9467BD",
           "#8C564B",
           "#E377C2",
           "#7F7F7F",
           "#BCBD22",
           "#17BECF"
          ],
          "font": {
           "color": "rgb(36,36,36)"
          },
          "geo": {
           "bgcolor": "white",
           "lakecolor": "white",
           "landcolor": "white",
           "showlakes": true,
           "showland": true,
           "subunitcolor": "white"
          },
          "hoverlabel": {
           "align": "left"
          },
          "hovermode": "closest",
          "mapbox": {
           "style": "light"
          },
          "paper_bgcolor": "white",
          "plot_bgcolor": "white",
          "polar": {
           "angularaxis": {
            "gridcolor": "rgb(232,232,232)",
            "linecolor": "rgb(36,36,36)",
            "showgrid": false,
            "showline": true,
            "ticks": "outside"
           },
           "bgcolor": "white",
           "radialaxis": {
            "gridcolor": "rgb(232,232,232)",
            "linecolor": "rgb(36,36,36)",
            "showgrid": false,
            "showline": true,
            "ticks": "outside"
           }
          },
          "scene": {
           "xaxis": {
            "backgroundcolor": "white",
            "gridcolor": "rgb(232,232,232)",
            "gridwidth": 2,
            "linecolor": "rgb(36,36,36)",
            "showbackground": true,
            "showgrid": false,
            "showline": true,
            "ticks": "outside",
            "zeroline": false,
            "zerolinecolor": "rgb(36,36,36)"
           },
           "yaxis": {
            "backgroundcolor": "white",
            "gridcolor": "rgb(232,232,232)",
            "gridwidth": 2,
            "linecolor": "rgb(36,36,36)",
            "showbackground": true,
            "showgrid": false,
            "showline": true,
            "ticks": "outside",
            "zeroline": false,
            "zerolinecolor": "rgb(36,36,36)"
           },
           "zaxis": {
            "backgroundcolor": "white",
            "gridcolor": "rgb(232,232,232)",
            "gridwidth": 2,
            "linecolor": "rgb(36,36,36)",
            "showbackground": true,
            "showgrid": false,
            "showline": true,
            "ticks": "outside",
            "zeroline": false,
            "zerolinecolor": "rgb(36,36,36)"
           }
          },
          "shapedefaults": {
           "fillcolor": "black",
           "line": {
            "width": 0
           },
           "opacity": 0.3
          },
          "ternary": {
           "aaxis": {
            "gridcolor": "rgb(232,232,232)",
            "linecolor": "rgb(36,36,36)",
            "showgrid": false,
            "showline": true,
            "ticks": "outside"
           },
           "baxis": {
            "gridcolor": "rgb(232,232,232)",
            "linecolor": "rgb(36,36,36)",
            "showgrid": false,
            "showline": true,
            "ticks": "outside"
           },
           "bgcolor": "white",
           "caxis": {
            "gridcolor": "rgb(232,232,232)",
            "linecolor": "rgb(36,36,36)",
            "showgrid": false,
            "showline": true,
            "ticks": "outside"
           }
          },
          "title": {
           "x": 0.05
          },
          "xaxis": {
           "automargin": true,
           "gridcolor": "rgb(232,232,232)",
           "linecolor": "rgb(36,36,36)",
           "showgrid": false,
           "showline": true,
           "ticks": "outside",
           "title": {
            "standoff": 15
           },
           "zeroline": false,
           "zerolinecolor": "rgb(36,36,36)"
          },
          "yaxis": {
           "automargin": true,
           "gridcolor": "rgb(232,232,232)",
           "linecolor": "rgb(36,36,36)",
           "showgrid": false,
           "showline": true,
           "ticks": "outside",
           "title": {
            "standoff": 15
           },
           "zeroline": false,
           "zerolinecolor": "rgb(36,36,36)"
          }
         }
        },
        "width": 330,
        "xaxis": {
         "anchor": "y",
         "domain": [
          0,
          1
         ],
         "dtick": 2,
         "minor": {
          "dtick": 1,
          "ticks": "outside"
         },
         "range": [
          -0.1,
          9
         ],
         "tickfont": {
          "size": 9.333333333333334
         },
         "title": {
          "font": {
           "family": "Inter",
           "size": 9.333333333333334
          },
          "text": "Storage duration / τ"
         }
        },
        "yaxis": {
         "anchor": "x",
         "domain": [
          0,
          1
         ],
         "dtick": 0.5,
         "minor": {
          "dtick": 0.25,
          "ticks": "outside"
         },
         "range": [
          -0.02,
          1.5
         ],
         "tickfont": {
          "size": 9.333333333333334
         },
         "title": {
          "font": {
           "family": "Inter",
           "size": 9.333333333333334
          },
          "text": "Excess deletion rate / 10<sup>-3</sup> nt<sup>-1</sup>"
         }
        }
       }
      }
     },
     "metadata": {},
     "output_type": "display_data"
    }
   ],
   "source": [
    "df = data.data[f\"overall_error_rates\"].copy()\n",
    "df.drop(df.loc[df['type'] == \"delevents\"].index, inplace=True)\n",
    "df.drop(df.loc[df['type'] == \"substitutions\"].index, inplace=True)\n",
    "df.drop(df.loc[df['type'] == \"insertions\"].index, inplace=True)\n",
    "\n",
    "\n",
    "colors = ['#238b45', '#74c476', '#bae4b3']\n",
    "\n",
    "\n",
    "df['delta_rate'] = df['rate']\n",
    "for group in df['group'].unique():\n",
    "    for errortype in df['type'].unique():\n",
    "        for read in df['read'].unique():\n",
    "            idata = df.loc[(df['group'] == group) & (df['type'] == errortype) & (df['read'] == read)]\n",
    "            baseline = df.loc[(df['delta_series_var'] == 0) & (df['group'] == group) & (df['type'] == errortype) & (df['read'] == read), 'rate'].mean()\n",
    "            df.loc[(df['group'] == group) & (df['type'] == errortype) & (df['read'] == read), 'delta_rate'] -= baseline\n",
    "\n",
    "df[['prov', 'GC']] = df['group'].str.split(\"_\", expand=True)\n",
    "\n",
    "fig = px.scatter(\n",
    "    df, \n",
    "    x=df['delta_series_var'], \n",
    "    y=df['delta_rate']*1000, \n",
    "    color='prov',\n",
    "    symbol='GC', \n",
    "    trendline='ols',\n",
    "    trendline_scope=\"overall\",\n",
    "    trendline_options={\"add_constant\": False},\n",
    "    trendline_color_override=\"#444444\",\n",
    "    color_discrete_sequence=['#238b45', '#74c476', '#bae4b3']\n",
    ")\n",
    "fig.add_annotation(\n",
    "    x=2, y=0.9,\n",
    "    text=f\"{10*px.get_trendline_results(fig).px_fit_results[0].params[0]:.2f} · 10<sup>-4</sup> nt<sup>-1</sup> τ<sup>-1</sup>\",\n",
    "    showarrow=False,\n",
    "    font={'family': \"Inter\", 'size': 28/3}\n",
    ")\n",
    "\n",
    "\n",
    "fig.update_layout(\n",
    "    template=\"simple_white\", \n",
    "    height=220, \n",
    "    width=330, \n",
    "    showlegend=False, \n",
    "    margin=dict(l=0, r=8, t=5, b=0),\n",
    "    font_family=\"Inter\",\n",
    "    legend_font_size=28/3,\n",
    ")\n",
    "fig.update_xaxes(\n",
    "    title_text='Storage duration / τ',\n",
    "    title_font_family=\"Inter\", \n",
    "    title_font_size=28/3, \n",
    "    range=[-0.1, 9],\n",
    "    dtick=2,\n",
    "    minor_ticks=\"outside\", \n",
    "    minor_dtick=1,\n",
    "    tickfont_size=28/3, \n",
    ")\n",
    "fig.update_yaxes(\n",
    "    title_text='Excess deletion rate / 10<sup>-3</sup> nt<sup>-1</sup>',\n",
    "    title_font_family=\"Inter\", \n",
    "    title_font_size=28/3, \n",
    "    range=[-0.02, 1.5],\n",
    "    dtick=0.5,\n",
    "    minor_ticks=\"outside\", \n",
    "    minor_dtick=0.25,\n",
    "    tickfont_size=28/3, \n",
    ")\n",
    "\n",
    "\n",
    "fig.show()\n",
    "# fig.write_image(\"error_rates.svg\")"
   ]
  },
  {
   "cell_type": "code",
   "execution_count": 5,
   "metadata": {},
   "outputs": [
    {
     "data": {
      "text/html": [
       "<div>\n",
       "<style scoped>\n",
       "    .dataframe tbody tr th:only-of-type {\n",
       "        vertical-align: middle;\n",
       "    }\n",
       "\n",
       "    .dataframe tbody tr th {\n",
       "        vertical-align: top;\n",
       "    }\n",
       "\n",
       "    .dataframe thead th {\n",
       "        text-align: right;\n",
       "    }\n",
       "</style>\n",
       "<table border=\"1\" class=\"dataframe\">\n",
       "  <thead>\n",
       "    <tr style=\"text-align: right;\">\n",
       "      <th></th>\n",
       "      <th>rate</th>\n",
       "      <th>ratio</th>\n",
       "      <th>ratio/2</th>\n",
       "    </tr>\n",
       "  </thead>\n",
       "  <tbody>\n",
       "    <tr>\n",
       "      <th>A2C/T2G</th>\n",
       "      <td>0.000004</td>\n",
       "      <td>0.052302</td>\n",
       "      <td>0.026151</td>\n",
       "    </tr>\n",
       "    <tr>\n",
       "      <th>A2G/T2C</th>\n",
       "      <td>0.000002</td>\n",
       "      <td>0.025755</td>\n",
       "      <td>0.012877</td>\n",
       "    </tr>\n",
       "    <tr>\n",
       "      <th>A2T/T2A</th>\n",
       "      <td>0.000001</td>\n",
       "      <td>0.019656</td>\n",
       "      <td>0.009828</td>\n",
       "    </tr>\n",
       "    <tr>\n",
       "      <th>C2A/G2T</th>\n",
       "      <td>0.000006</td>\n",
       "      <td>0.074984</td>\n",
       "      <td>0.037492</td>\n",
       "    </tr>\n",
       "    <tr>\n",
       "      <th>C2G/G2C</th>\n",
       "      <td>0.000005</td>\n",
       "      <td>0.068112</td>\n",
       "      <td>0.034056</td>\n",
       "    </tr>\n",
       "    <tr>\n",
       "      <th>C2T/G2A</th>\n",
       "      <td>0.000057</td>\n",
       "      <td>0.759192</td>\n",
       "      <td>0.379596</td>\n",
       "    </tr>\n",
       "  </tbody>\n",
       "</table>\n",
       "</div>"
      ],
      "text/plain": [
       "             rate     ratio   ratio/2\n",
       "A2C/T2G  0.000004  0.052302  0.026151\n",
       "A2G/T2C  0.000002  0.025755  0.012877\n",
       "A2T/T2A  0.000001  0.019656  0.009828\n",
       "C2A/G2T  0.000006  0.074984  0.037492\n",
       "C2G/G2C  0.000005  0.068112  0.034056\n",
       "C2T/G2A  0.000057  0.759192  0.379596"
      ]
     },
     "metadata": {},
     "output_type": "display_data"
    },
    {
     "data": {
      "application/vnd.plotly.v1+json": {
       "config": {
        "plotlyServerURL": "https://plot.ly"
       },
       "data": [
        {
         "alignmentgroup": "True",
         "hovertemplate": "index=C2T/G2A<br>ratio=%{x}<br>group=%{y}<extra></extra>",
         "legendgroup": "C2T/G2A",
         "marker": {
          "color": "#238b45",
          "pattern": {
           "shape": ""
          }
         },
         "name": "C2T/G2A",
         "offsetgroup": "C2T/G2A",
         "orientation": "h",
         "showlegend": true,
         "textposition": "auto",
         "type": "bar",
         "x": [
          0.7591920909456836
         ],
         "xaxis": "x",
         "y": [
          1
         ],
         "yaxis": "y"
        },
        {
         "alignmentgroup": "True",
         "hovertemplate": "index=C2A/G2T<br>ratio=%{x}<br>group=%{y}<extra></extra>",
         "legendgroup": "C2A/G2T",
         "marker": {
          "color": "#74c476",
          "pattern": {
           "shape": ""
          }
         },
         "name": "C2A/G2T",
         "offsetgroup": "C2A/G2T",
         "orientation": "h",
         "showlegend": true,
         "textposition": "auto",
         "type": "bar",
         "x": [
          0.07498357186907678
         ],
         "xaxis": "x",
         "y": [
          1
         ],
         "yaxis": "y"
        },
        {
         "alignmentgroup": "True",
         "hovertemplate": "index=C2G/G2C<br>ratio=%{x}<br>group=%{y}<extra></extra>",
         "legendgroup": "C2G/G2C",
         "marker": {
          "color": "#bae4b3",
          "pattern": {
           "shape": ""
          }
         },
         "name": "C2G/G2C",
         "offsetgroup": "C2G/G2C",
         "orientation": "h",
         "showlegend": true,
         "textposition": "auto",
         "type": "bar",
         "x": [
          0.06811186586176331
         ],
         "xaxis": "x",
         "y": [
          1
         ],
         "yaxis": "y"
        },
        {
         "alignmentgroup": "True",
         "hovertemplate": "index=A2C/T2G<br>ratio=%{x}<br>group=%{y}<extra></extra>",
         "legendgroup": "A2C/T2G",
         "marker": {
          "color": "#525252",
          "pattern": {
           "shape": ""
          }
         },
         "name": "A2C/T2G",
         "offsetgroup": "A2C/T2G",
         "orientation": "h",
         "showlegend": true,
         "textposition": "auto",
         "type": "bar",
         "x": [
          0.05230174080757866
         ],
         "xaxis": "x",
         "y": [
          1
         ],
         "yaxis": "y"
        },
        {
         "alignmentgroup": "True",
         "hovertemplate": "index=A2G/T2C<br>ratio=%{x}<br>group=%{y}<extra></extra>",
         "legendgroup": "A2G/T2C",
         "marker": {
          "color": "#969696",
          "pattern": {
           "shape": ""
          }
         },
         "name": "A2G/T2C",
         "offsetgroup": "A2G/T2C",
         "orientation": "h",
         "showlegend": true,
         "textposition": "auto",
         "type": "bar",
         "x": [
          0.025754909116562204
         ],
         "xaxis": "x",
         "y": [
          1
         ],
         "yaxis": "y"
        },
        {
         "alignmentgroup": "True",
         "hovertemplate": "index=A2T/T2A<br>ratio=%{x}<br>group=%{y}<extra></extra>",
         "legendgroup": "A2T/T2A",
         "marker": {
          "color": "#cccccc",
          "pattern": {
           "shape": ""
          }
         },
         "name": "A2T/T2A",
         "offsetgroup": "A2T/T2A",
         "orientation": "h",
         "showlegend": true,
         "textposition": "auto",
         "type": "bar",
         "x": [
          0.019655821399335523
         ],
         "xaxis": "x",
         "y": [
          1
         ],
         "yaxis": "y"
        }
       ],
       "layout": {
        "barmode": "relative",
        "coloraxis": {
         "showscale": false
        },
        "height": 85,
        "legend": {
         "title": {
          "text": "index"
         },
         "tracegroupgap": 0
        },
        "margin": {
         "b": 20,
         "l": 36,
         "r": 0,
         "t": 30
        },
        "showlegend": false,
        "template": {
         "data": {
          "bar": [
           {
            "error_x": {
             "color": "rgb(36,36,36)"
            },
            "error_y": {
             "color": "rgb(36,36,36)"
            },
            "marker": {
             "line": {
              "color": "white",
              "width": 0.5
             },
             "pattern": {
              "fillmode": "overlay",
              "size": 10,
              "solidity": 0.2
             }
            },
            "type": "bar"
           }
          ],
          "barpolar": [
           {
            "marker": {
             "line": {
              "color": "white",
              "width": 0.5
             },
             "pattern": {
              "fillmode": "overlay",
              "size": 10,
              "solidity": 0.2
             }
            },
            "type": "barpolar"
           }
          ],
          "carpet": [
           {
            "aaxis": {
             "endlinecolor": "rgb(36,36,36)",
             "gridcolor": "white",
             "linecolor": "white",
             "minorgridcolor": "white",
             "startlinecolor": "rgb(36,36,36)"
            },
            "baxis": {
             "endlinecolor": "rgb(36,36,36)",
             "gridcolor": "white",
             "linecolor": "white",
             "minorgridcolor": "white",
             "startlinecolor": "rgb(36,36,36)"
            },
            "type": "carpet"
           }
          ],
          "choropleth": [
           {
            "colorbar": {
             "outlinewidth": 1,
             "tickcolor": "rgb(36,36,36)",
             "ticks": "outside"
            },
            "type": "choropleth"
           }
          ],
          "contour": [
           {
            "colorbar": {
             "outlinewidth": 1,
             "tickcolor": "rgb(36,36,36)",
             "ticks": "outside"
            },
            "colorscale": [
             [
              0,
              "#440154"
             ],
             [
              0.1111111111111111,
              "#482878"
             ],
             [
              0.2222222222222222,
              "#3e4989"
             ],
             [
              0.3333333333333333,
              "#31688e"
             ],
             [
              0.4444444444444444,
              "#26828e"
             ],
             [
              0.5555555555555556,
              "#1f9e89"
             ],
             [
              0.6666666666666666,
              "#35b779"
             ],
             [
              0.7777777777777778,
              "#6ece58"
             ],
             [
              0.8888888888888888,
              "#b5de2b"
             ],
             [
              1,
              "#fde725"
             ]
            ],
            "type": "contour"
           }
          ],
          "contourcarpet": [
           {
            "colorbar": {
             "outlinewidth": 1,
             "tickcolor": "rgb(36,36,36)",
             "ticks": "outside"
            },
            "type": "contourcarpet"
           }
          ],
          "heatmap": [
           {
            "colorbar": {
             "outlinewidth": 1,
             "tickcolor": "rgb(36,36,36)",
             "ticks": "outside"
            },
            "colorscale": [
             [
              0,
              "#440154"
             ],
             [
              0.1111111111111111,
              "#482878"
             ],
             [
              0.2222222222222222,
              "#3e4989"
             ],
             [
              0.3333333333333333,
              "#31688e"
             ],
             [
              0.4444444444444444,
              "#26828e"
             ],
             [
              0.5555555555555556,
              "#1f9e89"
             ],
             [
              0.6666666666666666,
              "#35b779"
             ],
             [
              0.7777777777777778,
              "#6ece58"
             ],
             [
              0.8888888888888888,
              "#b5de2b"
             ],
             [
              1,
              "#fde725"
             ]
            ],
            "type": "heatmap"
           }
          ],
          "heatmapgl": [
           {
            "colorbar": {
             "outlinewidth": 1,
             "tickcolor": "rgb(36,36,36)",
             "ticks": "outside"
            },
            "colorscale": [
             [
              0,
              "#440154"
             ],
             [
              0.1111111111111111,
              "#482878"
             ],
             [
              0.2222222222222222,
              "#3e4989"
             ],
             [
              0.3333333333333333,
              "#31688e"
             ],
             [
              0.4444444444444444,
              "#26828e"
             ],
             [
              0.5555555555555556,
              "#1f9e89"
             ],
             [
              0.6666666666666666,
              "#35b779"
             ],
             [
              0.7777777777777778,
              "#6ece58"
             ],
             [
              0.8888888888888888,
              "#b5de2b"
             ],
             [
              1,
              "#fde725"
             ]
            ],
            "type": "heatmapgl"
           }
          ],
          "histogram": [
           {
            "marker": {
             "line": {
              "color": "white",
              "width": 0.6
             }
            },
            "type": "histogram"
           }
          ],
          "histogram2d": [
           {
            "colorbar": {
             "outlinewidth": 1,
             "tickcolor": "rgb(36,36,36)",
             "ticks": "outside"
            },
            "colorscale": [
             [
              0,
              "#440154"
             ],
             [
              0.1111111111111111,
              "#482878"
             ],
             [
              0.2222222222222222,
              "#3e4989"
             ],
             [
              0.3333333333333333,
              "#31688e"
             ],
             [
              0.4444444444444444,
              "#26828e"
             ],
             [
              0.5555555555555556,
              "#1f9e89"
             ],
             [
              0.6666666666666666,
              "#35b779"
             ],
             [
              0.7777777777777778,
              "#6ece58"
             ],
             [
              0.8888888888888888,
              "#b5de2b"
             ],
             [
              1,
              "#fde725"
             ]
            ],
            "type": "histogram2d"
           }
          ],
          "histogram2dcontour": [
           {
            "colorbar": {
             "outlinewidth": 1,
             "tickcolor": "rgb(36,36,36)",
             "ticks": "outside"
            },
            "colorscale": [
             [
              0,
              "#440154"
             ],
             [
              0.1111111111111111,
              "#482878"
             ],
             [
              0.2222222222222222,
              "#3e4989"
             ],
             [
              0.3333333333333333,
              "#31688e"
             ],
             [
              0.4444444444444444,
              "#26828e"
             ],
             [
              0.5555555555555556,
              "#1f9e89"
             ],
             [
              0.6666666666666666,
              "#35b779"
             ],
             [
              0.7777777777777778,
              "#6ece58"
             ],
             [
              0.8888888888888888,
              "#b5de2b"
             ],
             [
              1,
              "#fde725"
             ]
            ],
            "type": "histogram2dcontour"
           }
          ],
          "mesh3d": [
           {
            "colorbar": {
             "outlinewidth": 1,
             "tickcolor": "rgb(36,36,36)",
             "ticks": "outside"
            },
            "type": "mesh3d"
           }
          ],
          "parcoords": [
           {
            "line": {
             "colorbar": {
              "outlinewidth": 1,
              "tickcolor": "rgb(36,36,36)",
              "ticks": "outside"
             }
            },
            "type": "parcoords"
           }
          ],
          "pie": [
           {
            "automargin": true,
            "type": "pie"
           }
          ],
          "scatter": [
           {
            "fillpattern": {
             "fillmode": "overlay",
             "size": 10,
             "solidity": 0.2
            },
            "type": "scatter"
           }
          ],
          "scatter3d": [
           {
            "line": {
             "colorbar": {
              "outlinewidth": 1,
              "tickcolor": "rgb(36,36,36)",
              "ticks": "outside"
             }
            },
            "marker": {
             "colorbar": {
              "outlinewidth": 1,
              "tickcolor": "rgb(36,36,36)",
              "ticks": "outside"
             }
            },
            "type": "scatter3d"
           }
          ],
          "scattercarpet": [
           {
            "marker": {
             "colorbar": {
              "outlinewidth": 1,
              "tickcolor": "rgb(36,36,36)",
              "ticks": "outside"
             }
            },
            "type": "scattercarpet"
           }
          ],
          "scattergeo": [
           {
            "marker": {
             "colorbar": {
              "outlinewidth": 1,
              "tickcolor": "rgb(36,36,36)",
              "ticks": "outside"
             }
            },
            "type": "scattergeo"
           }
          ],
          "scattergl": [
           {
            "marker": {
             "colorbar": {
              "outlinewidth": 1,
              "tickcolor": "rgb(36,36,36)",
              "ticks": "outside"
             }
            },
            "type": "scattergl"
           }
          ],
          "scattermapbox": [
           {
            "marker": {
             "colorbar": {
              "outlinewidth": 1,
              "tickcolor": "rgb(36,36,36)",
              "ticks": "outside"
             }
            },
            "type": "scattermapbox"
           }
          ],
          "scatterpolar": [
           {
            "marker": {
             "colorbar": {
              "outlinewidth": 1,
              "tickcolor": "rgb(36,36,36)",
              "ticks": "outside"
             }
            },
            "type": "scatterpolar"
           }
          ],
          "scatterpolargl": [
           {
            "marker": {
             "colorbar": {
              "outlinewidth": 1,
              "tickcolor": "rgb(36,36,36)",
              "ticks": "outside"
             }
            },
            "type": "scatterpolargl"
           }
          ],
          "scatterternary": [
           {
            "marker": {
             "colorbar": {
              "outlinewidth": 1,
              "tickcolor": "rgb(36,36,36)",
              "ticks": "outside"
             }
            },
            "type": "scatterternary"
           }
          ],
          "surface": [
           {
            "colorbar": {
             "outlinewidth": 1,
             "tickcolor": "rgb(36,36,36)",
             "ticks": "outside"
            },
            "colorscale": [
             [
              0,
              "#440154"
             ],
             [
              0.1111111111111111,
              "#482878"
             ],
             [
              0.2222222222222222,
              "#3e4989"
             ],
             [
              0.3333333333333333,
              "#31688e"
             ],
             [
              0.4444444444444444,
              "#26828e"
             ],
             [
              0.5555555555555556,
              "#1f9e89"
             ],
             [
              0.6666666666666666,
              "#35b779"
             ],
             [
              0.7777777777777778,
              "#6ece58"
             ],
             [
              0.8888888888888888,
              "#b5de2b"
             ],
             [
              1,
              "#fde725"
             ]
            ],
            "type": "surface"
           }
          ],
          "table": [
           {
            "cells": {
             "fill": {
              "color": "rgb(237,237,237)"
             },
             "line": {
              "color": "white"
             }
            },
            "header": {
             "fill": {
              "color": "rgb(217,217,217)"
             },
             "line": {
              "color": "white"
             }
            },
            "type": "table"
           }
          ]
         },
         "layout": {
          "annotationdefaults": {
           "arrowhead": 0,
           "arrowwidth": 1
          },
          "autotypenumbers": "strict",
          "coloraxis": {
           "colorbar": {
            "outlinewidth": 1,
            "tickcolor": "rgb(36,36,36)",
            "ticks": "outside"
           }
          },
          "colorscale": {
           "diverging": [
            [
             0,
             "rgb(103,0,31)"
            ],
            [
             0.1,
             "rgb(178,24,43)"
            ],
            [
             0.2,
             "rgb(214,96,77)"
            ],
            [
             0.3,
             "rgb(244,165,130)"
            ],
            [
             0.4,
             "rgb(253,219,199)"
            ],
            [
             0.5,
             "rgb(247,247,247)"
            ],
            [
             0.6,
             "rgb(209,229,240)"
            ],
            [
             0.7,
             "rgb(146,197,222)"
            ],
            [
             0.8,
             "rgb(67,147,195)"
            ],
            [
             0.9,
             "rgb(33,102,172)"
            ],
            [
             1,
             "rgb(5,48,97)"
            ]
           ],
           "sequential": [
            [
             0,
             "#440154"
            ],
            [
             0.1111111111111111,
             "#482878"
            ],
            [
             0.2222222222222222,
             "#3e4989"
            ],
            [
             0.3333333333333333,
             "#31688e"
            ],
            [
             0.4444444444444444,
             "#26828e"
            ],
            [
             0.5555555555555556,
             "#1f9e89"
            ],
            [
             0.6666666666666666,
             "#35b779"
            ],
            [
             0.7777777777777778,
             "#6ece58"
            ],
            [
             0.8888888888888888,
             "#b5de2b"
            ],
            [
             1,
             "#fde725"
            ]
           ],
           "sequentialminus": [
            [
             0,
             "#440154"
            ],
            [
             0.1111111111111111,
             "#482878"
            ],
            [
             0.2222222222222222,
             "#3e4989"
            ],
            [
             0.3333333333333333,
             "#31688e"
            ],
            [
             0.4444444444444444,
             "#26828e"
            ],
            [
             0.5555555555555556,
             "#1f9e89"
            ],
            [
             0.6666666666666666,
             "#35b779"
            ],
            [
             0.7777777777777778,
             "#6ece58"
            ],
            [
             0.8888888888888888,
             "#b5de2b"
            ],
            [
             1,
             "#fde725"
            ]
           ]
          },
          "colorway": [
           "#1F77B4",
           "#FF7F0E",
           "#2CA02C",
           "#D62728",
           "#9467BD",
           "#8C564B",
           "#E377C2",
           "#7F7F7F",
           "#BCBD22",
           "#17BECF"
          ],
          "font": {
           "color": "rgb(36,36,36)"
          },
          "geo": {
           "bgcolor": "white",
           "lakecolor": "white",
           "landcolor": "white",
           "showlakes": true,
           "showland": true,
           "subunitcolor": "white"
          },
          "hoverlabel": {
           "align": "left"
          },
          "hovermode": "closest",
          "mapbox": {
           "style": "light"
          },
          "paper_bgcolor": "white",
          "plot_bgcolor": "white",
          "polar": {
           "angularaxis": {
            "gridcolor": "rgb(232,232,232)",
            "linecolor": "rgb(36,36,36)",
            "showgrid": false,
            "showline": true,
            "ticks": "outside"
           },
           "bgcolor": "white",
           "radialaxis": {
            "gridcolor": "rgb(232,232,232)",
            "linecolor": "rgb(36,36,36)",
            "showgrid": false,
            "showline": true,
            "ticks": "outside"
           }
          },
          "scene": {
           "xaxis": {
            "backgroundcolor": "white",
            "gridcolor": "rgb(232,232,232)",
            "gridwidth": 2,
            "linecolor": "rgb(36,36,36)",
            "showbackground": true,
            "showgrid": false,
            "showline": true,
            "ticks": "outside",
            "zeroline": false,
            "zerolinecolor": "rgb(36,36,36)"
           },
           "yaxis": {
            "backgroundcolor": "white",
            "gridcolor": "rgb(232,232,232)",
            "gridwidth": 2,
            "linecolor": "rgb(36,36,36)",
            "showbackground": true,
            "showgrid": false,
            "showline": true,
            "ticks": "outside",
            "zeroline": false,
            "zerolinecolor": "rgb(36,36,36)"
           },
           "zaxis": {
            "backgroundcolor": "white",
            "gridcolor": "rgb(232,232,232)",
            "gridwidth": 2,
            "linecolor": "rgb(36,36,36)",
            "showbackground": true,
            "showgrid": false,
            "showline": true,
            "ticks": "outside",
            "zeroline": false,
            "zerolinecolor": "rgb(36,36,36)"
           }
          },
          "shapedefaults": {
           "fillcolor": "black",
           "line": {
            "width": 0
           },
           "opacity": 0.3
          },
          "ternary": {
           "aaxis": {
            "gridcolor": "rgb(232,232,232)",
            "linecolor": "rgb(36,36,36)",
            "showgrid": false,
            "showline": true,
            "ticks": "outside"
           },
           "baxis": {
            "gridcolor": "rgb(232,232,232)",
            "linecolor": "rgb(36,36,36)",
            "showgrid": false,
            "showline": true,
            "ticks": "outside"
           },
           "bgcolor": "white",
           "caxis": {
            "gridcolor": "rgb(232,232,232)",
            "linecolor": "rgb(36,36,36)",
            "showgrid": false,
            "showline": true,
            "ticks": "outside"
           }
          },
          "title": {
           "x": 0.05
          },
          "xaxis": {
           "automargin": true,
           "gridcolor": "rgb(232,232,232)",
           "linecolor": "rgb(36,36,36)",
           "showgrid": false,
           "showline": true,
           "ticks": "outside",
           "title": {
            "standoff": 15
           },
           "zeroline": false,
           "zerolinecolor": "rgb(36,36,36)"
          },
          "yaxis": {
           "automargin": true,
           "gridcolor": "rgb(232,232,232)",
           "linecolor": "rgb(36,36,36)",
           "showgrid": false,
           "showline": true,
           "ticks": "outside",
           "title": {
            "standoff": 15
           },
           "zeroline": false,
           "zerolinecolor": "rgb(36,36,36)"
          }
         }
        },
        "width": 330,
        "xaxis": {
         "anchor": "y",
         "domain": [
          0,
          1
         ],
         "dtick": 0.25,
         "minor": {
          "dtick": 0.125,
          "ticks": "outside"
         },
         "range": [
          0,
          1
         ],
         "side": "top",
         "tickfont": {
          "size": 9.333333333333334
         },
         "tickformat": ",.0%",
         "title": {
          "font": {
           "family": "Inter",
           "size": 9.333333333333334
          },
          "text": "Fraction of substitutions"
         }
        },
        "yaxis": {
         "anchor": "x",
         "domain": [
          0,
          1
         ],
         "title": {
          "text": "group"
         },
         "visible": false
        }
       }
      }
     },
     "metadata": {},
     "output_type": "display_data"
    },
    {
     "data": {
      "text/html": [
       "<div>\n",
       "<style scoped>\n",
       "    .dataframe tbody tr th:only-of-type {\n",
       "        vertical-align: middle;\n",
       "    }\n",
       "\n",
       "    .dataframe tbody tr th {\n",
       "        vertical-align: top;\n",
       "    }\n",
       "\n",
       "    .dataframe thead th {\n",
       "        text-align: right;\n",
       "    }\n",
       "</style>\n",
       "<table border=\"1\" class=\"dataframe\">\n",
       "  <thead>\n",
       "    <tr style=\"text-align: right;\">\n",
       "      <th></th>\n",
       "      <th>rate</th>\n",
       "      <th>ratio</th>\n",
       "      <th>ratio/2</th>\n",
       "      <th>group</th>\n",
       "    </tr>\n",
       "  </thead>\n",
       "  <tbody>\n",
       "    <tr>\n",
       "      <th>C2T/G2A</th>\n",
       "      <td>0.000057</td>\n",
       "      <td>0.759192</td>\n",
       "      <td>0.379596</td>\n",
       "      <td>1</td>\n",
       "    </tr>\n",
       "    <tr>\n",
       "      <th>C2A/G2T</th>\n",
       "      <td>0.000006</td>\n",
       "      <td>0.074984</td>\n",
       "      <td>0.037492</td>\n",
       "      <td>1</td>\n",
       "    </tr>\n",
       "    <tr>\n",
       "      <th>C2G/G2C</th>\n",
       "      <td>0.000005</td>\n",
       "      <td>0.068112</td>\n",
       "      <td>0.034056</td>\n",
       "      <td>1</td>\n",
       "    </tr>\n",
       "    <tr>\n",
       "      <th>A2C/T2G</th>\n",
       "      <td>0.000004</td>\n",
       "      <td>0.052302</td>\n",
       "      <td>0.026151</td>\n",
       "      <td>1</td>\n",
       "    </tr>\n",
       "    <tr>\n",
       "      <th>A2G/T2C</th>\n",
       "      <td>0.000002</td>\n",
       "      <td>0.025755</td>\n",
       "      <td>0.012877</td>\n",
       "      <td>1</td>\n",
       "    </tr>\n",
       "    <tr>\n",
       "      <th>A2T/T2A</th>\n",
       "      <td>0.000001</td>\n",
       "      <td>0.019656</td>\n",
       "      <td>0.009828</td>\n",
       "      <td>1</td>\n",
       "    </tr>\n",
       "  </tbody>\n",
       "</table>\n",
       "</div>"
      ],
      "text/plain": [
       "             rate     ratio   ratio/2  group\n",
       "C2T/G2A  0.000057  0.759192  0.379596      1\n",
       "C2A/G2T  0.000006  0.074984  0.037492      1\n",
       "C2G/G2C  0.000005  0.068112  0.034056      1\n",
       "A2C/T2G  0.000004  0.052302  0.026151      1\n",
       "A2G/T2C  0.000002  0.025755  0.012877      1\n",
       "A2T/T2A  0.000001  0.019656  0.009828      1"
      ]
     },
     "execution_count": 5,
     "metadata": {},
     "output_type": "execute_result"
    }
   ],
   "source": [
    "df = data.data[f\"substitutions_by_type\"].copy()\n",
    "\n",
    "error_categories = {\n",
    "    'A2C': \"A2C/T2G\", \n",
    "    'A2G': \"A2G/T2C\", \n",
    "    'A2T': \"A2T/T2A\", \n",
    "    'C2A': \"C2A/G2T\", \n",
    "    'C2G': \"C2G/G2C\", \n",
    "    'C2T': \"C2T/G2A\", \n",
    "    'T2G': \"A2C/T2G\", \n",
    "    'T2C': \"A2G/T2C\", \n",
    "    'T2A': \"A2T/T2A\", \n",
    "    'G2T': \"C2A/G2T\", \n",
    "    'G2C': \"C2G/G2C\", \n",
    "    'G2A': \"C2T/G2A\"\n",
    "}\n",
    "\n",
    "# find intercept to normalize initial rates for each experiment group\n",
    "df['delta_rate'] = df['rate']\n",
    "for group in df['group'].unique():\n",
    "    for errortype in df['type'].unique():\n",
    "        for read in df['read'].unique():\n",
    "            idata = df.loc[(df['group'] == group) & (df['type'] == errortype) & (df['read'] == read)]\n",
    "            fit = smf.ols(formula='rate ~ delta_series_var', data=idata).fit()\n",
    "            df.loc[(df['group'] == group) & (df['type'] == errortype) & (df['read'] == read), 'delta_rate'] -= fit.params['Intercept']\n",
    "\n",
    "# combine analogous types into categories\n",
    "df['category'] = df['type']\n",
    "for error, category in error_categories.items():\n",
    "    df.loc[(df['type'] == error), 'category'] = category\n",
    "\n",
    "# find fits for the categories based on all data\n",
    "fits = {}\n",
    "ratios = {}\n",
    "for category in df['category'].unique():\n",
    "    idata = df.loc[(df['category'] == category)]\n",
    "    fits[category] = smf.ols(formula='delta_rate ~ delta_series_var', data=idata).fit()\n",
    "    ratios[category] = fits[category].params['delta_series_var']\n",
    "\n",
    "ratio_df = pd.DataFrame.from_dict(ratios, orient=\"index\", columns=[\"rate\"])\n",
    "ratio_df['ratio'] = ratio_df['rate']/ratio_df['rate'].sum()\n",
    "ratio_df['ratio/2'] = ratio_df['ratio']/2\n",
    "display(ratio_df)\n",
    "\n",
    "\n",
    "factor_df = ratio_df.copy()\n",
    "factor_df['group'] = 1\n",
    "factor_df.sort_values(\"ratio\", inplace=True, ascending=False)\n",
    "\n",
    "cat_color_map = {\n",
    "    \"C2G/G2C\": '#bae4b3', \n",
    "    \"A2C/T2G\": '#525252', \n",
    "    \"C2A/G2T\": '#74c476', \n",
    "    \"A2T/T2A\": '#cccccc', \n",
    "    \"C2T/G2A\": '#238b45', \n",
    "    \"A2G/T2C\": '#969696'\n",
    "}\n",
    "\n",
    "fig = px.bar(\n",
    "    factor_df,\n",
    "    y='group',\n",
    "    x='ratio',\n",
    "    color=factor_df.index,\n",
    "    range_x=[0, 1],\n",
    "    color_discrete_map=cat_color_map,\n",
    "    orientation='h',\n",
    ")\n",
    "\n",
    "fig.update_layout(\n",
    "    template=\"simple_white\", \n",
    "    height=85, \n",
    "    width=330, \n",
    "    showlegend=False, \n",
    "    coloraxis_showscale=False,\n",
    "    margin=dict(l=36, r=0, t=30, b=20),\n",
    ")\n",
    "fig.update_xaxes(\n",
    "    title_text='Fraction of substitutions', \n",
    "    tickformat=\",.0%\", \n",
    "    dtick=0.25, \n",
    "    side='top',\n",
    "    title_font_family=\"Inter\", \n",
    "    title_font_size=28/3, \n",
    "    tickfont_size=28/3, \n",
    "    minor_ticks=\"outside\", \n",
    "    minor_dtick=0.125\n",
    ")\n",
    "fig.update_yaxes(visible=False)\n",
    "\n",
    "fig.write_image(\"base_bias.svg\")\n",
    "fig.show()\n",
    "factor_df"
   ]
  }
 ],
 "metadata": {
  "kernelspec": {
   "display_name": "np_pd_sp",
   "language": "python",
   "name": "python3"
  },
  "language_info": {
   "codemirror_mode": {
    "name": "ipython",
    "version": 3
   },
   "file_extension": ".py",
   "mimetype": "text/x-python",
   "name": "python",
   "nbconvert_exporter": "python",
   "pygments_lexer": "ipython3",
   "version": "3.9.7"
  },
  "orig_nbformat": 4,
  "vscode": {
   "interpreter": {
    "hash": "da8130b5c8ccf41f100662caf67f3ba756beedabd599674f9119b95438e5e458"
   }
  }
 },
 "nbformat": 4,
 "nbformat_minor": 2
}
