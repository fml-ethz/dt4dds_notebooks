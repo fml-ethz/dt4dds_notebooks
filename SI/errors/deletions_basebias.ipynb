{
 "cells": [
  {
   "cell_type": "code",
   "execution_count": 1,
   "metadata": {},
   "outputs": [],
   "source": [
    "import numpy as np\n",
    "from scipy.optimize import curve_fit\n",
    "import scipy.stats\n",
    "import plotly.graph_objects as pg\n",
    "import plotly.express as px\n",
    "import pandas as pd\n",
    "import statsmodels.formula.api as smf\n",
    "import statsmodels.api as sm"
   ]
  },
  {
   "cell_type": "code",
   "execution_count": 2,
   "metadata": {},
   "outputs": [],
   "source": [
    "%load_ext autoreload\n",
    "%autoreload 2\n",
    "import dt4dds.analysis as analysis\n",
    "\n",
    "data = analysis.GroupAnalysis([\n",
    "    ('Genscript', analysis.ErrorAnalysis(\"../../data/PCR/15c_Genscript_GCall\")),\n",
    "    ('Genscript', analysis.ErrorAnalysis(\"../../data/PCR/20c_Genscript_GCall\")),\n",
    "    ('Genscript', analysis.ErrorAnalysis(\"../../data/PCR/25c_Genscript_GCall\")),\n",
    "    ('Genscript', analysis.ErrorAnalysis(\"../../data/PCR/10c_Genscript_GCfix\")),\n",
    "    ('Genscript', analysis.ErrorAnalysis(\"../../data/PCR/15c_Genscript_GCfix\")),\n",
    "    ('Genscript', analysis.ErrorAnalysis(\"../../data/PCR/20c_Genscript_GCfix\")),\n",
    "    ('Genscript', analysis.ErrorAnalysis(\"../../data/PCR/25c_Genscript_GCfix\")),\n",
    "    ('Genscript', analysis.ErrorAnalysis(\"../../data/Aging/0a_Genscript_GCall\")),\n",
    "    ('Genscript', analysis.ErrorAnalysis(\"../../data/Aging/0b_Genscript_GCall\")),\n",
    "    ('Genscript', analysis.ErrorAnalysis(\"../../data/Aging/2d_Genscript_GCall\")),\n",
    "    ('Genscript', analysis.ErrorAnalysis(\"../../data/Aging/4d_Genscript_GCall\")),\n",
    "    ('Genscript', analysis.ErrorAnalysis(\"../../data/Aging/7d_Genscript_GCall\")),\n",
    "    ('Genscript', analysis.ErrorAnalysis(\"../../data/Aging/0a_Genscript_GCfix\")),\n",
    "    ('Genscript', analysis.ErrorAnalysis(\"../../data/Aging/0b_Genscript_GCfix\")),\n",
    "    ('Genscript', analysis.ErrorAnalysis(\"../../data/Aging/2d_Genscript_GCfix\")),\n",
    "    ('Genscript', analysis.ErrorAnalysis(\"../../data/Aging/4d_Genscript_GCfix\")),\n",
    "    ('Genscript', analysis.ErrorAnalysis(\"../../data/Aging/7d_Genscript_GCfix\")),\n",
    "    ('Twist', analysis.ErrorAnalysis(\"../../data/PCR/15c_Twist_GCall\")),\n",
    "    ('Twist', analysis.ErrorAnalysis(\"../../data/PCR/30c_Twist_GCall\")),\n",
    "    ('Twist', analysis.ErrorAnalysis(\"../../data/PCR/45c_Twist_GCall\")),\n",
    "    ('Twist', analysis.ErrorAnalysis(\"../../data/PCR/60c_Twist_GCall\")),\n",
    "    ('Twist', analysis.ErrorAnalysis(\"../../data/PCR/75c_Twist_GCall\")),\n",
    "    ('Twist', analysis.ErrorAnalysis(\"../../data/PCR/90c_Twist_GCall\")),\n",
    "    ('Twist', analysis.ErrorAnalysis(\"../../data/PCR/15c_Twist_GCfix\")),\n",
    "    ('Twist', analysis.ErrorAnalysis(\"../../data/PCR/30c_Twist_GCfix\")),\n",
    "    ('Twist', analysis.ErrorAnalysis(\"../../data/PCR/45c_Twist_GCfix\")),\n",
    "    ('Twist', analysis.ErrorAnalysis(\"../../data/PCR/60c_Twist_GCfix\")),\n",
    "    ('Twist', analysis.ErrorAnalysis(\"../../data/PCR/75c_Twist_GCfix\")),\n",
    "    ('Twist', analysis.ErrorAnalysis(\"../../data/PCR/90c_Twist_GCfix\")),\n",
    "    ('Twist', analysis.ErrorAnalysis(\"../../data/Aging/0a_Twist_GCall\")),\n",
    "    ('Twist', analysis.ErrorAnalysis(\"../../data/Aging/0b_Twist_GCall\")),\n",
    "    ('Twist', analysis.ErrorAnalysis(\"../../data/Aging/2d_Twist_GCall\")),\n",
    "    ('Twist', analysis.ErrorAnalysis(\"../../data/Aging/4d_Twist_GCall\")),\n",
    "    ('Twist', analysis.ErrorAnalysis(\"../../data/Aging/7d_Twist_GCall\")),\n",
    "    ('Twist', analysis.ErrorAnalysis(\"../../data/Aging/0a_Twist_GCfix\")),\n",
    "    ('Twist', analysis.ErrorAnalysis(\"../../data/Aging/0b_Twist_GCfix\")),\n",
    "    ('Twist', analysis.ErrorAnalysis(\"../../data/Aging/2d_Twist_GCfix\")),\n",
    "    ('Twist', analysis.ErrorAnalysis(\"../../data/Aging/4d_Twist_GCfix\")),\n",
    "    ('Twist', analysis.ErrorAnalysis(\"../../data/Aging/7d_Twist_GCfix\")),\n",
    "])"
   ]
  },
  {
   "attachments": {},
   "cell_type": "markdown",
   "metadata": {},
   "source": [
    "# Overall deletion base bias"
   ]
  },
  {
   "cell_type": "code",
   "execution_count": 3,
   "metadata": {},
   "outputs": [
    {
     "data": {
      "text/html": [
       "<div>\n",
       "<style scoped>\n",
       "    .dataframe tbody tr th:only-of-type {\n",
       "        vertical-align: middle;\n",
       "    }\n",
       "\n",
       "    .dataframe tbody tr th {\n",
       "        vertical-align: top;\n",
       "    }\n",
       "\n",
       "    .dataframe thead th {\n",
       "        text-align: right;\n",
       "    }\n",
       "</style>\n",
       "<table border=\"1\" class=\"dataframe\">\n",
       "  <thead>\n",
       "    <tr style=\"text-align: right;\">\n",
       "      <th></th>\n",
       "      <th>group</th>\n",
       "      <th>type</th>\n",
       "      <th>read</th>\n",
       "      <th>mean</th>\n",
       "      <th>std</th>\n",
       "      <th>count</th>\n",
       "    </tr>\n",
       "  </thead>\n",
       "  <tbody>\n",
       "    <tr>\n",
       "      <th>0</th>\n",
       "      <td>Genscript</td>\n",
       "      <td>A</td>\n",
       "      <td>1</td>\n",
       "      <td>0.270987</td>\n",
       "      <td>0.031651</td>\n",
       "      <td>17.0</td>\n",
       "    </tr>\n",
       "    <tr>\n",
       "      <th>1</th>\n",
       "      <td>Genscript</td>\n",
       "      <td>A</td>\n",
       "      <td>2</td>\n",
       "      <td>0.245503</td>\n",
       "      <td>0.013282</td>\n",
       "      <td>17.0</td>\n",
       "    </tr>\n",
       "    <tr>\n",
       "      <th>2</th>\n",
       "      <td>Genscript</td>\n",
       "      <td>C</td>\n",
       "      <td>1</td>\n",
       "      <td>0.252126</td>\n",
       "      <td>0.003236</td>\n",
       "      <td>17.0</td>\n",
       "    </tr>\n",
       "    <tr>\n",
       "      <th>3</th>\n",
       "      <td>Genscript</td>\n",
       "      <td>C</td>\n",
       "      <td>2</td>\n",
       "      <td>0.231902</td>\n",
       "      <td>0.015397</td>\n",
       "      <td>17.0</td>\n",
       "    </tr>\n",
       "    <tr>\n",
       "      <th>4</th>\n",
       "      <td>Genscript</td>\n",
       "      <td>G</td>\n",
       "      <td>1</td>\n",
       "      <td>0.231739</td>\n",
       "      <td>0.015505</td>\n",
       "      <td>17.0</td>\n",
       "    </tr>\n",
       "    <tr>\n",
       "      <th>5</th>\n",
       "      <td>Genscript</td>\n",
       "      <td>G</td>\n",
       "      <td>2</td>\n",
       "      <td>0.251855</td>\n",
       "      <td>0.003458</td>\n",
       "      <td>17.0</td>\n",
       "    </tr>\n",
       "    <tr>\n",
       "      <th>6</th>\n",
       "      <td>Genscript</td>\n",
       "      <td>T</td>\n",
       "      <td>1</td>\n",
       "      <td>0.245148</td>\n",
       "      <td>0.013108</td>\n",
       "      <td>17.0</td>\n",
       "    </tr>\n",
       "    <tr>\n",
       "      <th>7</th>\n",
       "      <td>Genscript</td>\n",
       "      <td>T</td>\n",
       "      <td>2</td>\n",
       "      <td>0.270740</td>\n",
       "      <td>0.031846</td>\n",
       "      <td>17.0</td>\n",
       "    </tr>\n",
       "    <tr>\n",
       "      <th>8</th>\n",
       "      <td>Twist</td>\n",
       "      <td>A</td>\n",
       "      <td>1</td>\n",
       "      <td>0.246854</td>\n",
       "      <td>0.004203</td>\n",
       "      <td>22.0</td>\n",
       "    </tr>\n",
       "    <tr>\n",
       "      <th>9</th>\n",
       "      <td>Twist</td>\n",
       "      <td>A</td>\n",
       "      <td>2</td>\n",
       "      <td>0.250685</td>\n",
       "      <td>0.004224</td>\n",
       "      <td>22.0</td>\n",
       "    </tr>\n",
       "    <tr>\n",
       "      <th>10</th>\n",
       "      <td>Twist</td>\n",
       "      <td>C</td>\n",
       "      <td>1</td>\n",
       "      <td>0.236282</td>\n",
       "      <td>0.003803</td>\n",
       "      <td>22.0</td>\n",
       "    </tr>\n",
       "    <tr>\n",
       "      <th>11</th>\n",
       "      <td>Twist</td>\n",
       "      <td>C</td>\n",
       "      <td>2</td>\n",
       "      <td>0.262073</td>\n",
       "      <td>0.004786</td>\n",
       "      <td>22.0</td>\n",
       "    </tr>\n",
       "    <tr>\n",
       "      <th>12</th>\n",
       "      <td>Twist</td>\n",
       "      <td>G</td>\n",
       "      <td>1</td>\n",
       "      <td>0.266925</td>\n",
       "      <td>0.005755</td>\n",
       "      <td>22.0</td>\n",
       "    </tr>\n",
       "    <tr>\n",
       "      <th>13</th>\n",
       "      <td>Twist</td>\n",
       "      <td>G</td>\n",
       "      <td>2</td>\n",
       "      <td>0.236194</td>\n",
       "      <td>0.005732</td>\n",
       "      <td>22.0</td>\n",
       "    </tr>\n",
       "    <tr>\n",
       "      <th>14</th>\n",
       "      <td>Twist</td>\n",
       "      <td>T</td>\n",
       "      <td>1</td>\n",
       "      <td>0.249939</td>\n",
       "      <td>0.006700</td>\n",
       "      <td>22.0</td>\n",
       "    </tr>\n",
       "    <tr>\n",
       "      <th>15</th>\n",
       "      <td>Twist</td>\n",
       "      <td>T</td>\n",
       "      <td>2</td>\n",
       "      <td>0.251047</td>\n",
       "      <td>0.006011</td>\n",
       "      <td>22.0</td>\n",
       "    </tr>\n",
       "  </tbody>\n",
       "</table>\n",
       "</div>"
      ],
      "text/plain": [
       "        group type read      mean       std  count\n",
       "0   Genscript    A    1  0.270987  0.031651   17.0\n",
       "1   Genscript    A    2  0.245503  0.013282   17.0\n",
       "2   Genscript    C    1  0.252126  0.003236   17.0\n",
       "3   Genscript    C    2  0.231902  0.015397   17.0\n",
       "4   Genscript    G    1  0.231739  0.015505   17.0\n",
       "5   Genscript    G    2  0.251855  0.003458   17.0\n",
       "6   Genscript    T    1  0.245148  0.013108   17.0\n",
       "7   Genscript    T    2  0.270740  0.031846   17.0\n",
       "8       Twist    A    1  0.246854  0.004203   22.0\n",
       "9       Twist    A    2  0.250685  0.004224   22.0\n",
       "10      Twist    C    1  0.236282  0.003803   22.0\n",
       "11      Twist    C    2  0.262073  0.004786   22.0\n",
       "12      Twist    G    1  0.266925  0.005755   22.0\n",
       "13      Twist    G    2  0.236194  0.005732   22.0\n",
       "14      Twist    T    1  0.249939  0.006700   22.0\n",
       "15      Twist    T    2  0.251047  0.006011   22.0"
      ]
     },
     "execution_count": 3,
     "metadata": {},
     "output_type": "execute_result"
    }
   ],
   "source": [
    "plot_data = data.data['deletions_by_type'].copy()\n",
    "\n",
    "def wavg(group):\n",
    "    d = {}\n",
    "    d['mean'] = group.ratio.mean()\n",
    "    d['std'] = group.ratio.std()\n",
    "    d['count'] = group.ratio.count()\n",
    "    return pd.Series(d, index=['mean', 'std', 'count'])\n",
    "\n",
    "\n",
    "df_aggregate = plot_data.groupby(['group', 'type', 'read'], as_index=False).apply(wavg)\n",
    "df_aggregate"
   ]
  },
  {
   "cell_type": "code",
   "execution_count": 4,
   "metadata": {},
   "outputs": [
    {
     "data": {
      "text/html": [
       "<div>\n",
       "<style scoped>\n",
       "    .dataframe tbody tr th:only-of-type {\n",
       "        vertical-align: middle;\n",
       "    }\n",
       "\n",
       "    .dataframe tbody tr th {\n",
       "        vertical-align: top;\n",
       "    }\n",
       "\n",
       "    .dataframe thead th {\n",
       "        text-align: right;\n",
       "    }\n",
       "</style>\n",
       "<table border=\"1\" class=\"dataframe\">\n",
       "  <thead>\n",
       "    <tr style=\"text-align: right;\">\n",
       "      <th></th>\n",
       "      <th>type</th>\n",
       "      <th>ratio</th>\n",
       "      <th>rate</th>\n",
       "      <th>read</th>\n",
       "      <th>exp</th>\n",
       "      <th>group</th>\n",
       "    </tr>\n",
       "  </thead>\n",
       "  <tbody>\n",
       "    <tr>\n",
       "      <th>0</th>\n",
       "      <td>A</td>\n",
       "      <td>0.303000</td>\n",
       "      <td>0.004017</td>\n",
       "      <td>1</td>\n",
       "      <td>15c_Genscript_GCall</td>\n",
       "      <td>Genscript</td>\n",
       "    </tr>\n",
       "    <tr>\n",
       "      <th>1</th>\n",
       "      <td>C</td>\n",
       "      <td>0.250591</td>\n",
       "      <td>0.003322</td>\n",
       "      <td>1</td>\n",
       "      <td>15c_Genscript_GCall</td>\n",
       "      <td>Genscript</td>\n",
       "    </tr>\n",
       "    <tr>\n",
       "      <th>2</th>\n",
       "      <td>G</td>\n",
       "      <td>0.215258</td>\n",
       "      <td>0.002854</td>\n",
       "      <td>1</td>\n",
       "      <td>15c_Genscript_GCall</td>\n",
       "      <td>Genscript</td>\n",
       "    </tr>\n",
       "    <tr>\n",
       "      <th>3</th>\n",
       "      <td>T</td>\n",
       "      <td>0.231151</td>\n",
       "      <td>0.003065</td>\n",
       "      <td>1</td>\n",
       "      <td>15c_Genscript_GCall</td>\n",
       "      <td>Genscript</td>\n",
       "    </tr>\n",
       "    <tr>\n",
       "      <th>4</th>\n",
       "      <td>A</td>\n",
       "      <td>0.231806</td>\n",
       "      <td>0.003067</td>\n",
       "      <td>2</td>\n",
       "      <td>15c_Genscript_GCall</td>\n",
       "      <td>Genscript</td>\n",
       "    </tr>\n",
       "    <tr>\n",
       "      <th>...</th>\n",
       "      <td>...</td>\n",
       "      <td>...</td>\n",
       "      <td>...</td>\n",
       "      <td>...</td>\n",
       "      <td>...</td>\n",
       "      <td>...</td>\n",
       "    </tr>\n",
       "    <tr>\n",
       "      <th>307</th>\n",
       "      <td>T</td>\n",
       "      <td>0.233631</td>\n",
       "      <td>0.000142</td>\n",
       "      <td>1</td>\n",
       "      <td>7d_Twist_GCfix</td>\n",
       "      <td>Twist</td>\n",
       "    </tr>\n",
       "    <tr>\n",
       "      <th>308</th>\n",
       "      <td>A</td>\n",
       "      <td>0.241176</td>\n",
       "      <td>0.000144</td>\n",
       "      <td>2</td>\n",
       "      <td>7d_Twist_GCfix</td>\n",
       "      <td>Twist</td>\n",
       "    </tr>\n",
       "    <tr>\n",
       "      <th>309</th>\n",
       "      <td>C</td>\n",
       "      <td>0.268302</td>\n",
       "      <td>0.000160</td>\n",
       "      <td>2</td>\n",
       "      <td>7d_Twist_GCfix</td>\n",
       "      <td>Twist</td>\n",
       "    </tr>\n",
       "    <tr>\n",
       "      <th>310</th>\n",
       "      <td>G</td>\n",
       "      <td>0.243588</td>\n",
       "      <td>0.000145</td>\n",
       "      <td>2</td>\n",
       "      <td>7d_Twist_GCfix</td>\n",
       "      <td>Twist</td>\n",
       "    </tr>\n",
       "    <tr>\n",
       "      <th>311</th>\n",
       "      <td>T</td>\n",
       "      <td>0.246935</td>\n",
       "      <td>0.000147</td>\n",
       "      <td>2</td>\n",
       "      <td>7d_Twist_GCfix</td>\n",
       "      <td>Twist</td>\n",
       "    </tr>\n",
       "  </tbody>\n",
       "</table>\n",
       "<p>312 rows × 6 columns</p>\n",
       "</div>"
      ],
      "text/plain": [
       "    type     ratio      rate read                  exp      group\n",
       "0      A  0.303000  0.004017    1  15c_Genscript_GCall  Genscript\n",
       "1      C  0.250591  0.003322    1  15c_Genscript_GCall  Genscript\n",
       "2      G  0.215258  0.002854    1  15c_Genscript_GCall  Genscript\n",
       "3      T  0.231151  0.003065    1  15c_Genscript_GCall  Genscript\n",
       "4      A  0.231806  0.003067    2  15c_Genscript_GCall  Genscript\n",
       "..   ...       ...       ...  ...                  ...        ...\n",
       "307    T  0.233631  0.000142    1       7d_Twist_GCfix      Twist\n",
       "308    A  0.241176  0.000144    2       7d_Twist_GCfix      Twist\n",
       "309    C  0.268302  0.000160    2       7d_Twist_GCfix      Twist\n",
       "310    G  0.243588  0.000145    2       7d_Twist_GCfix      Twist\n",
       "311    T  0.246935  0.000147    2       7d_Twist_GCfix      Twist\n",
       "\n",
       "[312 rows x 6 columns]"
      ]
     },
     "metadata": {},
     "output_type": "display_data"
    }
   ],
   "source": [
    "display(plot_data)"
   ]
  },
  {
   "cell_type": "code",
   "execution_count": 5,
   "metadata": {},
   "outputs": [
    {
     "data": {
      "text/plain": [
       "'Genscript'"
      ]
     },
     "metadata": {},
     "output_type": "display_data"
    },
    {
     "data": {
      "text/html": [
       "<table class=\"simpletable\">\n",
       "<caption>OLS Regression Results</caption>\n",
       "<tr>\n",
       "  <th>Dep. Variable:</th>          <td>ratio</td>      <th>  R-squared:         </th> <td>   0.374</td>\n",
       "</tr>\n",
       "<tr>\n",
       "  <th>Model:</th>                   <td>OLS</td>       <th>  Adj. R-squared:    </th> <td>   0.345</td>\n",
       "</tr>\n",
       "<tr>\n",
       "  <th>Method:</th>             <td>Least Squares</td>  <th>  F-statistic:       </th> <td>   12.76</td>\n",
       "</tr>\n",
       "<tr>\n",
       "  <th>Date:</th>             <td>Thu, 22 Jun 2023</td> <th>  Prob (F-statistic):</th> <td>1.23e-06</td>\n",
       "</tr>\n",
       "<tr>\n",
       "  <th>Time:</th>                 <td>16:28:37</td>     <th>  Log-Likelihood:    </th> <td>  175.54</td>\n",
       "</tr>\n",
       "<tr>\n",
       "  <th>No. Observations:</th>      <td>    68</td>      <th>  AIC:               </th> <td>  -343.1</td>\n",
       "</tr>\n",
       "<tr>\n",
       "  <th>Df Residuals:</th>          <td>    64</td>      <th>  BIC:               </th> <td>  -334.2</td>\n",
       "</tr>\n",
       "<tr>\n",
       "  <th>Df Model:</th>              <td>     3</td>      <th>                     </th>     <td> </td>   \n",
       "</tr>\n",
       "<tr>\n",
       "  <th>Covariance Type:</th>      <td>nonrobust</td>    <th>                     </th>     <td> </td>   \n",
       "</tr>\n",
       "</table>\n",
       "<table class=\"simpletable\">\n",
       "<tr>\n",
       "        <td></td>          <th>coef</th>     <th>std err</th>      <th>t</th>      <th>P>|t|</th>  <th>[0.025</th>    <th>0.975]</th>  \n",
       "</tr>\n",
       "<tr>\n",
       "  <th>Intercept</th>    <td>    0.2710</td> <td>    0.005</td> <td>   59.208</td> <td> 0.000</td> <td>    0.262</td> <td>    0.280</td>\n",
       "</tr>\n",
       "<tr>\n",
       "  <th>C(type)[T.C]</th> <td>   -0.0189</td> <td>    0.006</td> <td>   -2.914</td> <td> 0.005</td> <td>   -0.032</td> <td>   -0.006</td>\n",
       "</tr>\n",
       "<tr>\n",
       "  <th>C(type)[T.G]</th> <td>   -0.0392</td> <td>    0.006</td> <td>   -6.064</td> <td> 0.000</td> <td>   -0.052</td> <td>   -0.026</td>\n",
       "</tr>\n",
       "<tr>\n",
       "  <th>C(type)[T.T]</th> <td>   -0.0258</td> <td>    0.006</td> <td>   -3.992</td> <td> 0.000</td> <td>   -0.039</td> <td>   -0.013</td>\n",
       "</tr>\n",
       "</table>\n",
       "<table class=\"simpletable\">\n",
       "<tr>\n",
       "  <th>Omnibus:</th>       <td> 3.792</td> <th>  Durbin-Watson:     </th> <td>   2.072</td>\n",
       "</tr>\n",
       "<tr>\n",
       "  <th>Prob(Omnibus):</th> <td> 0.150</td> <th>  Jarque-Bera (JB):  </th> <td>   2.008</td>\n",
       "</tr>\n",
       "<tr>\n",
       "  <th>Skew:</th>          <td> 0.116</td> <th>  Prob(JB):          </th> <td>   0.366</td>\n",
       "</tr>\n",
       "<tr>\n",
       "  <th>Kurtosis:</th>      <td> 2.191</td> <th>  Cond. No.          </th> <td>    4.79</td>\n",
       "</tr>\n",
       "</table><br/><br/>Notes:<br/>[1] Standard Errors assume that the covariance matrix of the errors is correctly specified."
      ],
      "text/latex": [
       "\\begin{center}\n",
       "\\begin{tabular}{lclc}\n",
       "\\toprule\n",
       "\\textbf{Dep. Variable:}    &      ratio       & \\textbf{  R-squared:         } &     0.374   \\\\\n",
       "\\textbf{Model:}            &       OLS        & \\textbf{  Adj. R-squared:    } &     0.345   \\\\\n",
       "\\textbf{Method:}           &  Least Squares   & \\textbf{  F-statistic:       } &     12.76   \\\\\n",
       "\\textbf{Date:}             & Thu, 22 Jun 2023 & \\textbf{  Prob (F-statistic):} &  1.23e-06   \\\\\n",
       "\\textbf{Time:}             &     16:28:37     & \\textbf{  Log-Likelihood:    } &    175.54   \\\\\n",
       "\\textbf{No. Observations:} &          68      & \\textbf{  AIC:               } &    -343.1   \\\\\n",
       "\\textbf{Df Residuals:}     &          64      & \\textbf{  BIC:               } &    -334.2   \\\\\n",
       "\\textbf{Df Model:}         &           3      & \\textbf{                     } &             \\\\\n",
       "\\textbf{Covariance Type:}  &    nonrobust     & \\textbf{                     } &             \\\\\n",
       "\\bottomrule\n",
       "\\end{tabular}\n",
       "\\begin{tabular}{lcccccc}\n",
       "                      & \\textbf{coef} & \\textbf{std err} & \\textbf{t} & \\textbf{P$> |$t$|$} & \\textbf{[0.025} & \\textbf{0.975]}  \\\\\n",
       "\\midrule\n",
       "\\textbf{Intercept}    &       0.2710  &        0.005     &    59.208  &         0.000        &        0.262    &        0.280     \\\\\n",
       "\\textbf{C(type)[T.C]} &      -0.0189  &        0.006     &    -2.914  &         0.005        &       -0.032    &       -0.006     \\\\\n",
       "\\textbf{C(type)[T.G]} &      -0.0392  &        0.006     &    -6.064  &         0.000        &       -0.052    &       -0.026     \\\\\n",
       "\\textbf{C(type)[T.T]} &      -0.0258  &        0.006     &    -3.992  &         0.000        &       -0.039    &       -0.013     \\\\\n",
       "\\bottomrule\n",
       "\\end{tabular}\n",
       "\\begin{tabular}{lclc}\n",
       "\\textbf{Omnibus:}       &  3.792 & \\textbf{  Durbin-Watson:     } &    2.072  \\\\\n",
       "\\textbf{Prob(Omnibus):} &  0.150 & \\textbf{  Jarque-Bera (JB):  } &    2.008  \\\\\n",
       "\\textbf{Skew:}          &  0.116 & \\textbf{  Prob(JB):          } &    0.366  \\\\\n",
       "\\textbf{Kurtosis:}      &  2.191 & \\textbf{  Cond. No.          } &     4.79  \\\\\n",
       "\\bottomrule\n",
       "\\end{tabular}\n",
       "%\\caption{OLS Regression Results}\n",
       "\\end{center}\n",
       "\n",
       "Notes: \\newline\n",
       " [1] Standard Errors assume that the covariance matrix of the errors is correctly specified."
      ],
      "text/plain": [
       "<class 'statsmodels.iolib.summary.Summary'>\n",
       "\"\"\"\n",
       "                            OLS Regression Results                            \n",
       "==============================================================================\n",
       "Dep. Variable:                  ratio   R-squared:                       0.374\n",
       "Model:                            OLS   Adj. R-squared:                  0.345\n",
       "Method:                 Least Squares   F-statistic:                     12.76\n",
       "Date:                Thu, 22 Jun 2023   Prob (F-statistic):           1.23e-06\n",
       "Time:                        16:28:37   Log-Likelihood:                 175.54\n",
       "No. Observations:                  68   AIC:                            -343.1\n",
       "Df Residuals:                      64   BIC:                            -334.2\n",
       "Df Model:                           3                                         \n",
       "Covariance Type:            nonrobust                                         \n",
       "================================================================================\n",
       "                   coef    std err          t      P>|t|      [0.025      0.975]\n",
       "--------------------------------------------------------------------------------\n",
       "Intercept        0.2710      0.005     59.208      0.000       0.262       0.280\n",
       "C(type)[T.C]    -0.0189      0.006     -2.914      0.005      -0.032      -0.006\n",
       "C(type)[T.G]    -0.0392      0.006     -6.064      0.000      -0.052      -0.026\n",
       "C(type)[T.T]    -0.0258      0.006     -3.992      0.000      -0.039      -0.013\n",
       "==============================================================================\n",
       "Omnibus:                        3.792   Durbin-Watson:                   2.072\n",
       "Prob(Omnibus):                  0.150   Jarque-Bera (JB):                2.008\n",
       "Skew:                           0.116   Prob(JB):                        0.366\n",
       "Kurtosis:                       2.191   Cond. No.                         4.79\n",
       "==============================================================================\n",
       "\n",
       "Notes:\n",
       "[1] Standard Errors assume that the covariance matrix of the errors is correctly specified.\n",
       "\"\"\""
      ]
     },
     "metadata": {},
     "output_type": "display_data"
    },
    {
     "data": {
      "text/html": [
       "<div>\n",
       "<style scoped>\n",
       "    .dataframe tbody tr th:only-of-type {\n",
       "        vertical-align: middle;\n",
       "    }\n",
       "\n",
       "    .dataframe tbody tr th {\n",
       "        vertical-align: top;\n",
       "    }\n",
       "\n",
       "    .dataframe thead th {\n",
       "        text-align: right;\n",
       "    }\n",
       "</style>\n",
       "<table border=\"1\" class=\"dataframe\">\n",
       "  <thead>\n",
       "    <tr style=\"text-align: right;\">\n",
       "      <th></th>\n",
       "      <th>sum_sq</th>\n",
       "      <th>df</th>\n",
       "      <th>F</th>\n",
       "      <th>PR(&gt;F)</th>\n",
       "      <th>eta_sq</th>\n",
       "    </tr>\n",
       "  </thead>\n",
       "  <tbody>\n",
       "    <tr>\n",
       "      <th>C(type)</th>\n",
       "      <td>0.012881</td>\n",
       "      <td>3.0</td>\n",
       "      <td>12.057327</td>\n",
       "      <td>0.000002</td>\n",
       "      <td>0.361099</td>\n",
       "    </tr>\n",
       "    <tr>\n",
       "      <th>Residual</th>\n",
       "      <td>0.022791</td>\n",
       "      <td>64.0</td>\n",
       "      <td>NaN</td>\n",
       "      <td>NaN</td>\n",
       "      <td>0.638901</td>\n",
       "    </tr>\n",
       "  </tbody>\n",
       "</table>\n",
       "</div>"
      ],
      "text/plain": [
       "            sum_sq    df          F    PR(>F)    eta_sq\n",
       "C(type)   0.012881   3.0  12.057327  0.000002  0.361099\n",
       "Residual  0.022791  64.0        NaN       NaN  0.638901"
      ]
     },
     "metadata": {},
     "output_type": "display_data"
    },
    {
     "data": {
      "text/plain": [
       "'Twist'"
      ]
     },
     "metadata": {},
     "output_type": "display_data"
    },
    {
     "data": {
      "text/html": [
       "<table class=\"simpletable\">\n",
       "<caption>OLS Regression Results</caption>\n",
       "<tr>\n",
       "  <th>Dep. Variable:</th>          <td>ratio</td>      <th>  R-squared:         </th> <td>   0.822</td>\n",
       "</tr>\n",
       "<tr>\n",
       "  <th>Model:</th>                   <td>OLS</td>       <th>  Adj. R-squared:    </th> <td>   0.815</td>\n",
       "</tr>\n",
       "<tr>\n",
       "  <th>Method:</th>             <td>Least Squares</td>  <th>  F-statistic:       </th> <td>   129.0</td>\n",
       "</tr>\n",
       "<tr>\n",
       "  <th>Date:</th>             <td>Thu, 22 Jun 2023</td> <th>  Prob (F-statistic):</th> <td>2.36e-31</td>\n",
       "</tr>\n",
       "<tr>\n",
       "  <th>Time:</th>                 <td>16:28:38</td>     <th>  Log-Likelihood:    </th> <td>  339.18</td>\n",
       "</tr>\n",
       "<tr>\n",
       "  <th>No. Observations:</th>      <td>    88</td>      <th>  AIC:               </th> <td>  -670.4</td>\n",
       "</tr>\n",
       "<tr>\n",
       "  <th>Df Residuals:</th>          <td>    84</td>      <th>  BIC:               </th> <td>  -660.5</td>\n",
       "</tr>\n",
       "<tr>\n",
       "  <th>Df Model:</th>              <td>     3</td>      <th>                     </th>     <td> </td>   \n",
       "</tr>\n",
       "<tr>\n",
       "  <th>Covariance Type:</th>      <td>nonrobust</td>    <th>                     </th>     <td> </td>   \n",
       "</tr>\n",
       "</table>\n",
       "<table class=\"simpletable\">\n",
       "<tr>\n",
       "        <td></td>          <th>coef</th>     <th>std err</th>      <th>t</th>      <th>P>|t|</th>  <th>[0.025</th>    <th>0.975]</th>  \n",
       "</tr>\n",
       "<tr>\n",
       "  <th>Intercept</th>    <td>    0.2469</td> <td>    0.001</td> <td>  220.653</td> <td> 0.000</td> <td>    0.245</td> <td>    0.249</td>\n",
       "</tr>\n",
       "<tr>\n",
       "  <th>C(type)[T.C]</th> <td>   -0.0106</td> <td>    0.002</td> <td>   -6.682</td> <td> 0.000</td> <td>   -0.014</td> <td>   -0.007</td>\n",
       "</tr>\n",
       "<tr>\n",
       "  <th>C(type)[T.G]</th> <td>    0.0201</td> <td>    0.002</td> <td>   12.686</td> <td> 0.000</td> <td>    0.017</td> <td>    0.023</td>\n",
       "</tr>\n",
       "<tr>\n",
       "  <th>C(type)[T.T]</th> <td>    0.0031</td> <td>    0.002</td> <td>    1.950</td> <td> 0.055</td> <td>-6.14e-05</td> <td>    0.006</td>\n",
       "</tr>\n",
       "</table>\n",
       "<table class=\"simpletable\">\n",
       "<tr>\n",
       "  <th>Omnibus:</th>       <td> 2.358</td> <th>  Durbin-Watson:     </th> <td>   2.544</td>\n",
       "</tr>\n",
       "<tr>\n",
       "  <th>Prob(Omnibus):</th> <td> 0.308</td> <th>  Jarque-Bera (JB):  </th> <td>   1.693</td>\n",
       "</tr>\n",
       "<tr>\n",
       "  <th>Skew:</th>          <td>-0.263</td> <th>  Prob(JB):          </th> <td>   0.429</td>\n",
       "</tr>\n",
       "<tr>\n",
       "  <th>Kurtosis:</th>      <td> 3.431</td> <th>  Cond. No.          </th> <td>    4.79</td>\n",
       "</tr>\n",
       "</table><br/><br/>Notes:<br/>[1] Standard Errors assume that the covariance matrix of the errors is correctly specified."
      ],
      "text/latex": [
       "\\begin{center}\n",
       "\\begin{tabular}{lclc}\n",
       "\\toprule\n",
       "\\textbf{Dep. Variable:}    &      ratio       & \\textbf{  R-squared:         } &     0.822   \\\\\n",
       "\\textbf{Model:}            &       OLS        & \\textbf{  Adj. R-squared:    } &     0.815   \\\\\n",
       "\\textbf{Method:}           &  Least Squares   & \\textbf{  F-statistic:       } &     129.0   \\\\\n",
       "\\textbf{Date:}             & Thu, 22 Jun 2023 & \\textbf{  Prob (F-statistic):} &  2.36e-31   \\\\\n",
       "\\textbf{Time:}             &     16:28:38     & \\textbf{  Log-Likelihood:    } &    339.18   \\\\\n",
       "\\textbf{No. Observations:} &          88      & \\textbf{  AIC:               } &    -670.4   \\\\\n",
       "\\textbf{Df Residuals:}     &          84      & \\textbf{  BIC:               } &    -660.5   \\\\\n",
       "\\textbf{Df Model:}         &           3      & \\textbf{                     } &             \\\\\n",
       "\\textbf{Covariance Type:}  &    nonrobust     & \\textbf{                     } &             \\\\\n",
       "\\bottomrule\n",
       "\\end{tabular}\n",
       "\\begin{tabular}{lcccccc}\n",
       "                      & \\textbf{coef} & \\textbf{std err} & \\textbf{t} & \\textbf{P$> |$t$|$} & \\textbf{[0.025} & \\textbf{0.975]}  \\\\\n",
       "\\midrule\n",
       "\\textbf{Intercept}    &       0.2469  &        0.001     &   220.653  &         0.000        &        0.245    &        0.249     \\\\\n",
       "\\textbf{C(type)[T.C]} &      -0.0106  &        0.002     &    -6.682  &         0.000        &       -0.014    &       -0.007     \\\\\n",
       "\\textbf{C(type)[T.G]} &       0.0201  &        0.002     &    12.686  &         0.000        &        0.017    &        0.023     \\\\\n",
       "\\textbf{C(type)[T.T]} &       0.0031  &        0.002     &     1.950  &         0.055        &    -6.14e-05    &        0.006     \\\\\n",
       "\\bottomrule\n",
       "\\end{tabular}\n",
       "\\begin{tabular}{lclc}\n",
       "\\textbf{Omnibus:}       &  2.358 & \\textbf{  Durbin-Watson:     } &    2.544  \\\\\n",
       "\\textbf{Prob(Omnibus):} &  0.308 & \\textbf{  Jarque-Bera (JB):  } &    1.693  \\\\\n",
       "\\textbf{Skew:}          & -0.263 & \\textbf{  Prob(JB):          } &    0.429  \\\\\n",
       "\\textbf{Kurtosis:}      &  3.431 & \\textbf{  Cond. No.          } &     4.79  \\\\\n",
       "\\bottomrule\n",
       "\\end{tabular}\n",
       "%\\caption{OLS Regression Results}\n",
       "\\end{center}\n",
       "\n",
       "Notes: \\newline\n",
       " [1] Standard Errors assume that the covariance matrix of the errors is correctly specified."
      ],
      "text/plain": [
       "<class 'statsmodels.iolib.summary.Summary'>\n",
       "\"\"\"\n",
       "                            OLS Regression Results                            \n",
       "==============================================================================\n",
       "Dep. Variable:                  ratio   R-squared:                       0.822\n",
       "Model:                            OLS   Adj. R-squared:                  0.815\n",
       "Method:                 Least Squares   F-statistic:                     129.0\n",
       "Date:                Thu, 22 Jun 2023   Prob (F-statistic):           2.36e-31\n",
       "Time:                        16:28:38   Log-Likelihood:                 339.18\n",
       "No. Observations:                  88   AIC:                            -670.4\n",
       "Df Residuals:                      84   BIC:                            -660.5\n",
       "Df Model:                           3                                         \n",
       "Covariance Type:            nonrobust                                         \n",
       "================================================================================\n",
       "                   coef    std err          t      P>|t|      [0.025      0.975]\n",
       "--------------------------------------------------------------------------------\n",
       "Intercept        0.2469      0.001    220.653      0.000       0.245       0.249\n",
       "C(type)[T.C]    -0.0106      0.002     -6.682      0.000      -0.014      -0.007\n",
       "C(type)[T.G]     0.0201      0.002     12.686      0.000       0.017       0.023\n",
       "C(type)[T.T]     0.0031      0.002      1.950      0.055   -6.14e-05       0.006\n",
       "==============================================================================\n",
       "Omnibus:                        2.358   Durbin-Watson:                   2.544\n",
       "Prob(Omnibus):                  0.308   Jarque-Bera (JB):                1.693\n",
       "Skew:                          -0.263   Prob(JB):                        0.429\n",
       "Kurtosis:                       3.431   Cond. No.                         4.79\n",
       "==============================================================================\n",
       "\n",
       "Notes:\n",
       "[1] Standard Errors assume that the covariance matrix of the errors is correctly specified.\n",
       "\"\"\""
      ]
     },
     "metadata": {},
     "output_type": "display_data"
    },
    {
     "data": {
      "text/html": [
       "<div>\n",
       "<style scoped>\n",
       "    .dataframe tbody tr th:only-of-type {\n",
       "        vertical-align: middle;\n",
       "    }\n",
       "\n",
       "    .dataframe tbody tr th {\n",
       "        vertical-align: top;\n",
       "    }\n",
       "\n",
       "    .dataframe thead th {\n",
       "        text-align: right;\n",
       "    }\n",
       "</style>\n",
       "<table border=\"1\" class=\"dataframe\">\n",
       "  <thead>\n",
       "    <tr style=\"text-align: right;\">\n",
       "      <th></th>\n",
       "      <th>sum_sq</th>\n",
       "      <th>df</th>\n",
       "      <th>F</th>\n",
       "      <th>PR(&gt;F)</th>\n",
       "      <th>eta_sq</th>\n",
       "    </tr>\n",
       "  </thead>\n",
       "  <tbody>\n",
       "    <tr>\n",
       "      <th>C(type)</th>\n",
       "      <td>0.011614</td>\n",
       "      <td>3.0</td>\n",
       "      <td>140.599541</td>\n",
       "      <td>1.208264e-32</td>\n",
       "      <td>0.833926</td>\n",
       "    </tr>\n",
       "    <tr>\n",
       "      <th>Residual</th>\n",
       "      <td>0.002313</td>\n",
       "      <td>84.0</td>\n",
       "      <td>NaN</td>\n",
       "      <td>NaN</td>\n",
       "      <td>0.166074</td>\n",
       "    </tr>\n",
       "  </tbody>\n",
       "</table>\n",
       "</div>"
      ],
      "text/plain": [
       "            sum_sq    df           F        PR(>F)    eta_sq\n",
       "C(type)   0.011614   3.0  140.599541  1.208264e-32  0.833926\n",
       "Residual  0.002313  84.0         NaN           NaN  0.166074"
      ]
     },
     "metadata": {},
     "output_type": "display_data"
    }
   ],
   "source": [
    "for syn in plot_data.group.unique():\n",
    "    display(syn)\n",
    "    window = plot_data.loc[(plot_data.group == syn) & (plot_data.read == \"1\")]\n",
    "    model = smf.ols('ratio ~ C(type)', data=window).fit()\n",
    "    display(model.summary())\n",
    "    aov = sm.stats.anova_lm(model, typ=2, robust='hc3')\n",
    "    aov['eta_sq'] = aov[:]['sum_sq']/sum(aov['sum_sq'])\n",
    "    display(aov)"
   ]
  },
  {
   "cell_type": "code",
   "execution_count": 6,
   "metadata": {},
   "outputs": [
    {
     "data": {
      "application/vnd.plotly.v1+json": {
       "config": {
        "plotlyServerURL": "https://plot.ly"
       },
       "data": [
        {
         "alignmentgroup": "True",
         "error_y": {
          "array": [
           0.031650772689767515
          ]
         },
         "hovertemplate": "type=%{x}<br>read=1<br>group=Genscript<br>mean=%{y}<extra></extra>",
         "legendgroup": "A",
         "marker": {
          "color": "#3182bd",
          "pattern": {
           "shape": ""
          }
         },
         "name": "A",
         "offsetgroup": "A",
         "orientation": "v",
         "showlegend": true,
         "textposition": "auto",
         "type": "bar",
         "x": [
          "A"
         ],
         "xaxis": "x3",
         "y": [
          0.27098670044065404
         ],
         "yaxis": "y3"
        },
        {
         "alignmentgroup": "True",
         "error_y": {
          "array": [
           0.004202926703861457
          ]
         },
         "hovertemplate": "type=%{x}<br>read=1<br>group=Twist<br>mean=%{y}<extra></extra>",
         "legendgroup": "A",
         "marker": {
          "color": "#3182bd",
          "pattern": {
           "shape": ""
          }
         },
         "name": "A",
         "offsetgroup": "A",
         "orientation": "v",
         "showlegend": false,
         "textposition": "auto",
         "type": "bar",
         "x": [
          "A"
         ],
         "xaxis": "x4",
         "y": [
          0.24685412313139612
         ],
         "yaxis": "y4"
        },
        {
         "alignmentgroup": "True",
         "error_y": {
          "array": [
           0.013282477713561157
          ]
         },
         "hovertemplate": "type=%{x}<br>read=2<br>group=Genscript<br>mean=%{y}<extra></extra>",
         "legendgroup": "A",
         "marker": {
          "color": "#3182bd",
          "pattern": {
           "shape": ""
          }
         },
         "name": "A",
         "offsetgroup": "A",
         "orientation": "v",
         "showlegend": false,
         "textposition": "auto",
         "type": "bar",
         "x": [
          "A"
         ],
         "xaxis": "x",
         "y": [
          0.24550272666362047
         ],
         "yaxis": "y"
        },
        {
         "alignmentgroup": "True",
         "error_y": {
          "array": [
           0.004224136331209263
          ]
         },
         "hovertemplate": "type=%{x}<br>read=2<br>group=Twist<br>mean=%{y}<extra></extra>",
         "legendgroup": "A",
         "marker": {
          "color": "#3182bd",
          "pattern": {
           "shape": ""
          }
         },
         "name": "A",
         "offsetgroup": "A",
         "orientation": "v",
         "showlegend": false,
         "textposition": "auto",
         "type": "bar",
         "x": [
          "A"
         ],
         "xaxis": "x2",
         "y": [
          0.25068512492106954
         ],
         "yaxis": "y2"
        },
        {
         "alignmentgroup": "True",
         "error_y": {
          "array": [
           0.003235986886405852
          ]
         },
         "hovertemplate": "type=%{x}<br>read=1<br>group=Genscript<br>mean=%{y}<extra></extra>",
         "legendgroup": "C",
         "marker": {
          "color": "#de2d26",
          "pattern": {
           "shape": ""
          }
         },
         "name": "C",
         "offsetgroup": "C",
         "orientation": "v",
         "showlegend": true,
         "textposition": "auto",
         "type": "bar",
         "x": [
          "C"
         ],
         "xaxis": "x3",
         "y": [
          0.2521264750660291
         ],
         "yaxis": "y3"
        },
        {
         "alignmentgroup": "True",
         "error_y": {
          "array": [
           0.003803086518720995
          ]
         },
         "hovertemplate": "type=%{x}<br>read=1<br>group=Twist<br>mean=%{y}<extra></extra>",
         "legendgroup": "C",
         "marker": {
          "color": "#de2d26",
          "pattern": {
           "shape": ""
          }
         },
         "name": "C",
         "offsetgroup": "C",
         "orientation": "v",
         "showlegend": false,
         "textposition": "auto",
         "type": "bar",
         "x": [
          "C"
         ],
         "xaxis": "x4",
         "y": [
          0.23628194545860778
         ],
         "yaxis": "y4"
        },
        {
         "alignmentgroup": "True",
         "error_y": {
          "array": [
           0.015397388308613874
          ]
         },
         "hovertemplate": "type=%{x}<br>read=2<br>group=Genscript<br>mean=%{y}<extra></extra>",
         "legendgroup": "C",
         "marker": {
          "color": "#de2d26",
          "pattern": {
           "shape": ""
          }
         },
         "name": "C",
         "offsetgroup": "C",
         "orientation": "v",
         "showlegend": false,
         "textposition": "auto",
         "type": "bar",
         "x": [
          "C"
         ],
         "xaxis": "x",
         "y": [
          0.23190226149783466
         ],
         "yaxis": "y"
        },
        {
         "alignmentgroup": "True",
         "error_y": {
          "array": [
           0.00478600681200542
          ]
         },
         "hovertemplate": "type=%{x}<br>read=2<br>group=Twist<br>mean=%{y}<extra></extra>",
         "legendgroup": "C",
         "marker": {
          "color": "#de2d26",
          "pattern": {
           "shape": ""
          }
         },
         "name": "C",
         "offsetgroup": "C",
         "orientation": "v",
         "showlegend": false,
         "textposition": "auto",
         "type": "bar",
         "x": [
          "C"
         ],
         "xaxis": "x2",
         "y": [
          0.26207315338256276
         ],
         "yaxis": "y2"
        },
        {
         "alignmentgroup": "True",
         "error_y": {
          "array": [
           0.015505059745544371
          ]
         },
         "hovertemplate": "type=%{x}<br>read=1<br>group=Genscript<br>mean=%{y}<extra></extra>",
         "legendgroup": "G",
         "marker": {
          "color": "#31a354",
          "pattern": {
           "shape": ""
          }
         },
         "name": "G",
         "offsetgroup": "G",
         "orientation": "v",
         "showlegend": true,
         "textposition": "auto",
         "type": "bar",
         "x": [
          "G"
         ],
         "xaxis": "x3",
         "y": [
          0.23173915453871693
         ],
         "yaxis": "y3"
        },
        {
         "alignmentgroup": "True",
         "error_y": {
          "array": [
           0.005754856116343086
          ]
         },
         "hovertemplate": "type=%{x}<br>read=1<br>group=Twist<br>mean=%{y}<extra></extra>",
         "legendgroup": "G",
         "marker": {
          "color": "#31a354",
          "pattern": {
           "shape": ""
          }
         },
         "name": "G",
         "offsetgroup": "G",
         "orientation": "v",
         "showlegend": false,
         "textposition": "auto",
         "type": "bar",
         "x": [
          "G"
         ],
         "xaxis": "x4",
         "y": [
          0.2669249527419301
         ],
         "yaxis": "y4"
        },
        {
         "alignmentgroup": "True",
         "error_y": {
          "array": [
           0.003458314578651749
          ]
         },
         "hovertemplate": "type=%{x}<br>read=2<br>group=Genscript<br>mean=%{y}<extra></extra>",
         "legendgroup": "G",
         "marker": {
          "color": "#31a354",
          "pattern": {
           "shape": ""
          }
         },
         "name": "G",
         "offsetgroup": "G",
         "orientation": "v",
         "showlegend": false,
         "textposition": "auto",
         "type": "bar",
         "x": [
          "G"
         ],
         "xaxis": "x",
         "y": [
          0.25185536586991486
         ],
         "yaxis": "y"
        },
        {
         "alignmentgroup": "True",
         "error_y": {
          "array": [
           0.005732208969591443
          ]
         },
         "hovertemplate": "type=%{x}<br>read=2<br>group=Twist<br>mean=%{y}<extra></extra>",
         "legendgroup": "G",
         "marker": {
          "color": "#31a354",
          "pattern": {
           "shape": ""
          }
         },
         "name": "G",
         "offsetgroup": "G",
         "orientation": "v",
         "showlegend": false,
         "textposition": "auto",
         "type": "bar",
         "x": [
          "G"
         ],
         "xaxis": "x2",
         "y": [
          0.2361944880706193
         ],
         "yaxis": "y2"
        },
        {
         "alignmentgroup": "True",
         "error_y": {
          "array": [
           0.013107676727759079
          ]
         },
         "hovertemplate": "type=%{x}<br>read=1<br>group=Genscript<br>mean=%{y}<extra></extra>",
         "legendgroup": "T",
         "marker": {
          "color": "#756bb1",
          "pattern": {
           "shape": ""
          }
         },
         "name": "T",
         "offsetgroup": "T",
         "orientation": "v",
         "showlegend": true,
         "textposition": "auto",
         "type": "bar",
         "x": [
          "T"
         ],
         "xaxis": "x3",
         "y": [
          0.24514766995459994
         ],
         "yaxis": "y3"
        },
        {
         "alignmentgroup": "True",
         "error_y": {
          "array": [
           0.006700238774932354
          ]
         },
         "hovertemplate": "type=%{x}<br>read=1<br>group=Twist<br>mean=%{y}<extra></extra>",
         "legendgroup": "T",
         "marker": {
          "color": "#756bb1",
          "pattern": {
           "shape": ""
          }
         },
         "name": "T",
         "offsetgroup": "T",
         "orientation": "v",
         "showlegend": false,
         "textposition": "auto",
         "type": "bar",
         "x": [
          "T"
         ],
         "xaxis": "x4",
         "y": [
          0.24993897866806603
         ],
         "yaxis": "y4"
        },
        {
         "alignmentgroup": "True",
         "error_y": {
          "array": [
           0.03184592908079062
          ]
         },
         "hovertemplate": "type=%{x}<br>read=2<br>group=Genscript<br>mean=%{y}<extra></extra>",
         "legendgroup": "T",
         "marker": {
          "color": "#756bb1",
          "pattern": {
           "shape": ""
          }
         },
         "name": "T",
         "offsetgroup": "T",
         "orientation": "v",
         "showlegend": false,
         "textposition": "auto",
         "type": "bar",
         "x": [
          "T"
         ],
         "xaxis": "x",
         "y": [
          0.2707396459686301
         ],
         "yaxis": "y"
        },
        {
         "alignmentgroup": "True",
         "error_y": {
          "array": [
           0.006010742626867444
          ]
         },
         "hovertemplate": "type=%{x}<br>read=2<br>group=Twist<br>mean=%{y}<extra></extra>",
         "legendgroup": "T",
         "marker": {
          "color": "#756bb1",
          "pattern": {
           "shape": ""
          }
         },
         "name": "T",
         "offsetgroup": "T",
         "orientation": "v",
         "showlegend": false,
         "textposition": "auto",
         "type": "bar",
         "x": [
          "T"
         ],
         "xaxis": "x2",
         "y": [
          0.2510472336257484
         ],
         "yaxis": "y2"
        }
       ],
       "layout": {
        "annotations": [
         {
          "showarrow": false,
          "text": "group=Genscript",
          "x": 0.23249999999999998,
          "xanchor": "center",
          "xref": "paper",
          "y": 1,
          "yanchor": "bottom",
          "yref": "paper"
         },
         {
          "showarrow": false,
          "text": "group=Twist",
          "x": 0.7475,
          "xanchor": "center",
          "xref": "paper",
          "y": 1,
          "yanchor": "bottom",
          "yref": "paper"
         },
         {
          "showarrow": false,
          "text": "read=2",
          "textangle": 90,
          "x": 0.98,
          "xanchor": "left",
          "xref": "paper",
          "y": 0.2375,
          "yanchor": "middle",
          "yref": "paper"
         },
         {
          "showarrow": false,
          "text": "read=1",
          "textangle": 90,
          "x": 0.98,
          "xanchor": "left",
          "xref": "paper",
          "y": 0.7625,
          "yanchor": "middle",
          "yref": "paper"
         }
        ],
        "barmode": "relative",
        "font": {
         "family": "Inter"
        },
        "height": 330,
        "legend": {
         "font": {
          "size": 9.333333333333334
         },
         "title": {
          "text": "type"
         },
         "tracegroupgap": 0
        },
        "margin": {
         "b": 0,
         "l": 0,
         "r": 20,
         "t": 20
        },
        "shapes": [
         {
          "line": {
           "dash": "dot",
           "width": 2
          },
          "type": "line",
          "x0": 0,
          "x1": 1,
          "xref": "x domain",
          "y0": 0.25,
          "y1": 0.25,
          "yref": "y"
         },
         {
          "line": {
           "dash": "dot",
           "width": 2
          },
          "type": "line",
          "x0": 0,
          "x1": 1,
          "xref": "x2 domain",
          "y0": 0.25,
          "y1": 0.25,
          "yref": "y2"
         },
         {
          "line": {
           "dash": "dot",
           "width": 2
          },
          "type": "line",
          "x0": 0,
          "x1": 1,
          "xref": "x3 domain",
          "y0": 0.25,
          "y1": 0.25,
          "yref": "y3"
         },
         {
          "line": {
           "dash": "dot",
           "width": 2
          },
          "type": "line",
          "x0": 0,
          "x1": 1,
          "xref": "x4 domain",
          "y0": 0.25,
          "y1": 0.25,
          "yref": "y4"
         }
        ],
        "showlegend": false,
        "template": {
         "data": {
          "bar": [
           {
            "error_x": {
             "color": "rgb(36,36,36)"
            },
            "error_y": {
             "color": "rgb(36,36,36)"
            },
            "marker": {
             "line": {
              "color": "white",
              "width": 0.5
             },
             "pattern": {
              "fillmode": "overlay",
              "size": 10,
              "solidity": 0.2
             }
            },
            "type": "bar"
           }
          ],
          "barpolar": [
           {
            "marker": {
             "line": {
              "color": "white",
              "width": 0.5
             },
             "pattern": {
              "fillmode": "overlay",
              "size": 10,
              "solidity": 0.2
             }
            },
            "type": "barpolar"
           }
          ],
          "carpet": [
           {
            "aaxis": {
             "endlinecolor": "rgb(36,36,36)",
             "gridcolor": "white",
             "linecolor": "white",
             "minorgridcolor": "white",
             "startlinecolor": "rgb(36,36,36)"
            },
            "baxis": {
             "endlinecolor": "rgb(36,36,36)",
             "gridcolor": "white",
             "linecolor": "white",
             "minorgridcolor": "white",
             "startlinecolor": "rgb(36,36,36)"
            },
            "type": "carpet"
           }
          ],
          "choropleth": [
           {
            "colorbar": {
             "outlinewidth": 1,
             "tickcolor": "rgb(36,36,36)",
             "ticks": "outside"
            },
            "type": "choropleth"
           }
          ],
          "contour": [
           {
            "colorbar": {
             "outlinewidth": 1,
             "tickcolor": "rgb(36,36,36)",
             "ticks": "outside"
            },
            "colorscale": [
             [
              0,
              "#440154"
             ],
             [
              0.1111111111111111,
              "#482878"
             ],
             [
              0.2222222222222222,
              "#3e4989"
             ],
             [
              0.3333333333333333,
              "#31688e"
             ],
             [
              0.4444444444444444,
              "#26828e"
             ],
             [
              0.5555555555555556,
              "#1f9e89"
             ],
             [
              0.6666666666666666,
              "#35b779"
             ],
             [
              0.7777777777777778,
              "#6ece58"
             ],
             [
              0.8888888888888888,
              "#b5de2b"
             ],
             [
              1,
              "#fde725"
             ]
            ],
            "type": "contour"
           }
          ],
          "contourcarpet": [
           {
            "colorbar": {
             "outlinewidth": 1,
             "tickcolor": "rgb(36,36,36)",
             "ticks": "outside"
            },
            "type": "contourcarpet"
           }
          ],
          "heatmap": [
           {
            "colorbar": {
             "outlinewidth": 1,
             "tickcolor": "rgb(36,36,36)",
             "ticks": "outside"
            },
            "colorscale": [
             [
              0,
              "#440154"
             ],
             [
              0.1111111111111111,
              "#482878"
             ],
             [
              0.2222222222222222,
              "#3e4989"
             ],
             [
              0.3333333333333333,
              "#31688e"
             ],
             [
              0.4444444444444444,
              "#26828e"
             ],
             [
              0.5555555555555556,
              "#1f9e89"
             ],
             [
              0.6666666666666666,
              "#35b779"
             ],
             [
              0.7777777777777778,
              "#6ece58"
             ],
             [
              0.8888888888888888,
              "#b5de2b"
             ],
             [
              1,
              "#fde725"
             ]
            ],
            "type": "heatmap"
           }
          ],
          "heatmapgl": [
           {
            "colorbar": {
             "outlinewidth": 1,
             "tickcolor": "rgb(36,36,36)",
             "ticks": "outside"
            },
            "colorscale": [
             [
              0,
              "#440154"
             ],
             [
              0.1111111111111111,
              "#482878"
             ],
             [
              0.2222222222222222,
              "#3e4989"
             ],
             [
              0.3333333333333333,
              "#31688e"
             ],
             [
              0.4444444444444444,
              "#26828e"
             ],
             [
              0.5555555555555556,
              "#1f9e89"
             ],
             [
              0.6666666666666666,
              "#35b779"
             ],
             [
              0.7777777777777778,
              "#6ece58"
             ],
             [
              0.8888888888888888,
              "#b5de2b"
             ],
             [
              1,
              "#fde725"
             ]
            ],
            "type": "heatmapgl"
           }
          ],
          "histogram": [
           {
            "marker": {
             "line": {
              "color": "white",
              "width": 0.6
             }
            },
            "type": "histogram"
           }
          ],
          "histogram2d": [
           {
            "colorbar": {
             "outlinewidth": 1,
             "tickcolor": "rgb(36,36,36)",
             "ticks": "outside"
            },
            "colorscale": [
             [
              0,
              "#440154"
             ],
             [
              0.1111111111111111,
              "#482878"
             ],
             [
              0.2222222222222222,
              "#3e4989"
             ],
             [
              0.3333333333333333,
              "#31688e"
             ],
             [
              0.4444444444444444,
              "#26828e"
             ],
             [
              0.5555555555555556,
              "#1f9e89"
             ],
             [
              0.6666666666666666,
              "#35b779"
             ],
             [
              0.7777777777777778,
              "#6ece58"
             ],
             [
              0.8888888888888888,
              "#b5de2b"
             ],
             [
              1,
              "#fde725"
             ]
            ],
            "type": "histogram2d"
           }
          ],
          "histogram2dcontour": [
           {
            "colorbar": {
             "outlinewidth": 1,
             "tickcolor": "rgb(36,36,36)",
             "ticks": "outside"
            },
            "colorscale": [
             [
              0,
              "#440154"
             ],
             [
              0.1111111111111111,
              "#482878"
             ],
             [
              0.2222222222222222,
              "#3e4989"
             ],
             [
              0.3333333333333333,
              "#31688e"
             ],
             [
              0.4444444444444444,
              "#26828e"
             ],
             [
              0.5555555555555556,
              "#1f9e89"
             ],
             [
              0.6666666666666666,
              "#35b779"
             ],
             [
              0.7777777777777778,
              "#6ece58"
             ],
             [
              0.8888888888888888,
              "#b5de2b"
             ],
             [
              1,
              "#fde725"
             ]
            ],
            "type": "histogram2dcontour"
           }
          ],
          "mesh3d": [
           {
            "colorbar": {
             "outlinewidth": 1,
             "tickcolor": "rgb(36,36,36)",
             "ticks": "outside"
            },
            "type": "mesh3d"
           }
          ],
          "parcoords": [
           {
            "line": {
             "colorbar": {
              "outlinewidth": 1,
              "tickcolor": "rgb(36,36,36)",
              "ticks": "outside"
             }
            },
            "type": "parcoords"
           }
          ],
          "pie": [
           {
            "automargin": true,
            "type": "pie"
           }
          ],
          "scatter": [
           {
            "fillpattern": {
             "fillmode": "overlay",
             "size": 10,
             "solidity": 0.2
            },
            "type": "scatter"
           }
          ],
          "scatter3d": [
           {
            "line": {
             "colorbar": {
              "outlinewidth": 1,
              "tickcolor": "rgb(36,36,36)",
              "ticks": "outside"
             }
            },
            "marker": {
             "colorbar": {
              "outlinewidth": 1,
              "tickcolor": "rgb(36,36,36)",
              "ticks": "outside"
             }
            },
            "type": "scatter3d"
           }
          ],
          "scattercarpet": [
           {
            "marker": {
             "colorbar": {
              "outlinewidth": 1,
              "tickcolor": "rgb(36,36,36)",
              "ticks": "outside"
             }
            },
            "type": "scattercarpet"
           }
          ],
          "scattergeo": [
           {
            "marker": {
             "colorbar": {
              "outlinewidth": 1,
              "tickcolor": "rgb(36,36,36)",
              "ticks": "outside"
             }
            },
            "type": "scattergeo"
           }
          ],
          "scattergl": [
           {
            "marker": {
             "colorbar": {
              "outlinewidth": 1,
              "tickcolor": "rgb(36,36,36)",
              "ticks": "outside"
             }
            },
            "type": "scattergl"
           }
          ],
          "scattermapbox": [
           {
            "marker": {
             "colorbar": {
              "outlinewidth": 1,
              "tickcolor": "rgb(36,36,36)",
              "ticks": "outside"
             }
            },
            "type": "scattermapbox"
           }
          ],
          "scatterpolar": [
           {
            "marker": {
             "colorbar": {
              "outlinewidth": 1,
              "tickcolor": "rgb(36,36,36)",
              "ticks": "outside"
             }
            },
            "type": "scatterpolar"
           }
          ],
          "scatterpolargl": [
           {
            "marker": {
             "colorbar": {
              "outlinewidth": 1,
              "tickcolor": "rgb(36,36,36)",
              "ticks": "outside"
             }
            },
            "type": "scatterpolargl"
           }
          ],
          "scatterternary": [
           {
            "marker": {
             "colorbar": {
              "outlinewidth": 1,
              "tickcolor": "rgb(36,36,36)",
              "ticks": "outside"
             }
            },
            "type": "scatterternary"
           }
          ],
          "surface": [
           {
            "colorbar": {
             "outlinewidth": 1,
             "tickcolor": "rgb(36,36,36)",
             "ticks": "outside"
            },
            "colorscale": [
             [
              0,
              "#440154"
             ],
             [
              0.1111111111111111,
              "#482878"
             ],
             [
              0.2222222222222222,
              "#3e4989"
             ],
             [
              0.3333333333333333,
              "#31688e"
             ],
             [
              0.4444444444444444,
              "#26828e"
             ],
             [
              0.5555555555555556,
              "#1f9e89"
             ],
             [
              0.6666666666666666,
              "#35b779"
             ],
             [
              0.7777777777777778,
              "#6ece58"
             ],
             [
              0.8888888888888888,
              "#b5de2b"
             ],
             [
              1,
              "#fde725"
             ]
            ],
            "type": "surface"
           }
          ],
          "table": [
           {
            "cells": {
             "fill": {
              "color": "rgb(237,237,237)"
             },
             "line": {
              "color": "white"
             }
            },
            "header": {
             "fill": {
              "color": "rgb(217,217,217)"
             },
             "line": {
              "color": "white"
             }
            },
            "type": "table"
           }
          ]
         },
         "layout": {
          "annotationdefaults": {
           "arrowhead": 0,
           "arrowwidth": 1
          },
          "autotypenumbers": "strict",
          "coloraxis": {
           "colorbar": {
            "outlinewidth": 1,
            "tickcolor": "rgb(36,36,36)",
            "ticks": "outside"
           }
          },
          "colorscale": {
           "diverging": [
            [
             0,
             "rgb(103,0,31)"
            ],
            [
             0.1,
             "rgb(178,24,43)"
            ],
            [
             0.2,
             "rgb(214,96,77)"
            ],
            [
             0.3,
             "rgb(244,165,130)"
            ],
            [
             0.4,
             "rgb(253,219,199)"
            ],
            [
             0.5,
             "rgb(247,247,247)"
            ],
            [
             0.6,
             "rgb(209,229,240)"
            ],
            [
             0.7,
             "rgb(146,197,222)"
            ],
            [
             0.8,
             "rgb(67,147,195)"
            ],
            [
             0.9,
             "rgb(33,102,172)"
            ],
            [
             1,
             "rgb(5,48,97)"
            ]
           ],
           "sequential": [
            [
             0,
             "#440154"
            ],
            [
             0.1111111111111111,
             "#482878"
            ],
            [
             0.2222222222222222,
             "#3e4989"
            ],
            [
             0.3333333333333333,
             "#31688e"
            ],
            [
             0.4444444444444444,
             "#26828e"
            ],
            [
             0.5555555555555556,
             "#1f9e89"
            ],
            [
             0.6666666666666666,
             "#35b779"
            ],
            [
             0.7777777777777778,
             "#6ece58"
            ],
            [
             0.8888888888888888,
             "#b5de2b"
            ],
            [
             1,
             "#fde725"
            ]
           ],
           "sequentialminus": [
            [
             0,
             "#440154"
            ],
            [
             0.1111111111111111,
             "#482878"
            ],
            [
             0.2222222222222222,
             "#3e4989"
            ],
            [
             0.3333333333333333,
             "#31688e"
            ],
            [
             0.4444444444444444,
             "#26828e"
            ],
            [
             0.5555555555555556,
             "#1f9e89"
            ],
            [
             0.6666666666666666,
             "#35b779"
            ],
            [
             0.7777777777777778,
             "#6ece58"
            ],
            [
             0.8888888888888888,
             "#b5de2b"
            ],
            [
             1,
             "#fde725"
            ]
           ]
          },
          "colorway": [
           "#1F77B4",
           "#FF7F0E",
           "#2CA02C",
           "#D62728",
           "#9467BD",
           "#8C564B",
           "#E377C2",
           "#7F7F7F",
           "#BCBD22",
           "#17BECF"
          ],
          "font": {
           "color": "rgb(36,36,36)"
          },
          "geo": {
           "bgcolor": "white",
           "lakecolor": "white",
           "landcolor": "white",
           "showlakes": true,
           "showland": true,
           "subunitcolor": "white"
          },
          "hoverlabel": {
           "align": "left"
          },
          "hovermode": "closest",
          "mapbox": {
           "style": "light"
          },
          "paper_bgcolor": "white",
          "plot_bgcolor": "white",
          "polar": {
           "angularaxis": {
            "gridcolor": "rgb(232,232,232)",
            "linecolor": "rgb(36,36,36)",
            "showgrid": false,
            "showline": true,
            "ticks": "outside"
           },
           "bgcolor": "white",
           "radialaxis": {
            "gridcolor": "rgb(232,232,232)",
            "linecolor": "rgb(36,36,36)",
            "showgrid": false,
            "showline": true,
            "ticks": "outside"
           }
          },
          "scene": {
           "xaxis": {
            "backgroundcolor": "white",
            "gridcolor": "rgb(232,232,232)",
            "gridwidth": 2,
            "linecolor": "rgb(36,36,36)",
            "showbackground": true,
            "showgrid": false,
            "showline": true,
            "ticks": "outside",
            "zeroline": false,
            "zerolinecolor": "rgb(36,36,36)"
           },
           "yaxis": {
            "backgroundcolor": "white",
            "gridcolor": "rgb(232,232,232)",
            "gridwidth": 2,
            "linecolor": "rgb(36,36,36)",
            "showbackground": true,
            "showgrid": false,
            "showline": true,
            "ticks": "outside",
            "zeroline": false,
            "zerolinecolor": "rgb(36,36,36)"
           },
           "zaxis": {
            "backgroundcolor": "white",
            "gridcolor": "rgb(232,232,232)",
            "gridwidth": 2,
            "linecolor": "rgb(36,36,36)",
            "showbackground": true,
            "showgrid": false,
            "showline": true,
            "ticks": "outside",
            "zeroline": false,
            "zerolinecolor": "rgb(36,36,36)"
           }
          },
          "shapedefaults": {
           "fillcolor": "black",
           "line": {
            "width": 0
           },
           "opacity": 0.3
          },
          "ternary": {
           "aaxis": {
            "gridcolor": "rgb(232,232,232)",
            "linecolor": "rgb(36,36,36)",
            "showgrid": false,
            "showline": true,
            "ticks": "outside"
           },
           "baxis": {
            "gridcolor": "rgb(232,232,232)",
            "linecolor": "rgb(36,36,36)",
            "showgrid": false,
            "showline": true,
            "ticks": "outside"
           },
           "bgcolor": "white",
           "caxis": {
            "gridcolor": "rgb(232,232,232)",
            "linecolor": "rgb(36,36,36)",
            "showgrid": false,
            "showline": true,
            "ticks": "outside"
           }
          },
          "title": {
           "x": 0.05
          },
          "xaxis": {
           "automargin": true,
           "gridcolor": "rgb(232,232,232)",
           "linecolor": "rgb(36,36,36)",
           "showgrid": false,
           "showline": true,
           "ticks": "outside",
           "title": {
            "standoff": 15
           },
           "zeroline": false,
           "zerolinecolor": "rgb(36,36,36)"
          },
          "yaxis": {
           "automargin": true,
           "gridcolor": "rgb(232,232,232)",
           "linecolor": "rgb(36,36,36)",
           "showgrid": false,
           "showline": true,
           "ticks": "outside",
           "title": {
            "standoff": 15
           },
           "zeroline": false,
           "zerolinecolor": "rgb(36,36,36)"
          }
         }
        },
        "width": 330,
        "xaxis": {
         "anchor": "y",
         "categoryarray": [
          "A",
          "C",
          "G",
          "T"
         ],
         "categoryorder": "array",
         "domain": [
          0,
          0.46499999999999997
         ],
         "minor": {
          "dtick": 0.25,
          "ticks": "outside"
         },
         "tickfont": {
          "size": 9.333333333333334
         },
         "title": {
          "font": {
           "family": "Inter",
           "size": 9.333333333333334
          },
          "text": ""
         }
        },
        "xaxis2": {
         "anchor": "y2",
         "categoryarray": [
          "A",
          "C",
          "G",
          "T"
         ],
         "categoryorder": "array",
         "domain": [
          0.515,
          0.98
         ],
         "matches": "x",
         "minor": {
          "dtick": 0.25,
          "ticks": "outside"
         },
         "tickfont": {
          "size": 9.333333333333334
         },
         "title": {
          "font": {
           "family": "Inter",
           "size": 9.333333333333334
          },
          "text": ""
         }
        },
        "xaxis3": {
         "anchor": "y3",
         "domain": [
          0,
          0.46499999999999997
         ],
         "matches": "x",
         "minor": {
          "dtick": 0.25,
          "ticks": "outside"
         },
         "showticklabels": false,
         "tickfont": {
          "size": 9.333333333333334
         },
         "title": {
          "font": {
           "family": "Inter",
           "size": 9.333333333333334
          },
          "text": ""
         }
        },
        "xaxis4": {
         "anchor": "y4",
         "domain": [
          0.515,
          0.98
         ],
         "matches": "x",
         "minor": {
          "dtick": 0.25,
          "ticks": "outside"
         },
         "showticklabels": false,
         "tickfont": {
          "size": 9.333333333333334
         },
         "title": {
          "font": {
           "family": "Inter",
           "size": 9.333333333333334
          },
          "text": ""
         }
        },
        "yaxis": {
         "anchor": "x",
         "domain": [
          0,
          0.475
         ],
         "dtick": 0.1,
         "minor": {
          "dtick": 0.05,
          "ticks": "outside"
         },
         "range": [
          0,
          0.35
         ],
         "tickfont": {
          "size": 9.333333333333334
         },
         "title": {
          "font": {
           "family": "Inter",
           "size": 9.333333333333334
          },
          "text": "Fraction"
         }
        },
        "yaxis2": {
         "anchor": "x2",
         "domain": [
          0,
          0.475
         ],
         "dtick": 0.1,
         "matches": "y",
         "minor": {
          "dtick": 0.05,
          "ticks": "outside"
         },
         "range": [
          0,
          0.35
         ],
         "showticklabels": false,
         "tickfont": {
          "size": 9.333333333333334
         },
         "title": {
          "font": {
           "family": "Inter",
           "size": 9.333333333333334
          }
         }
        },
        "yaxis3": {
         "anchor": "x3",
         "domain": [
          0.525,
          1
         ],
         "dtick": 0.1,
         "matches": "y",
         "minor": {
          "dtick": 0.05,
          "ticks": "outside"
         },
         "range": [
          0,
          0.35
         ],
         "tickfont": {
          "size": 9.333333333333334
         },
         "title": {
          "font": {
           "family": "Inter",
           "size": 9.333333333333334
          },
          "text": "Fraction"
         }
        },
        "yaxis4": {
         "anchor": "x4",
         "domain": [
          0.525,
          1
         ],
         "dtick": 0.1,
         "matches": "y",
         "minor": {
          "dtick": 0.05,
          "ticks": "outside"
         },
         "range": [
          0,
          0.35
         ],
         "showticklabels": false,
         "tickfont": {
          "size": 9.333333333333334
         },
         "title": {
          "font": {
           "family": "Inter",
           "size": 9.333333333333334
          }
         }
        }
       }
      }
     },
     "metadata": {},
     "output_type": "display_data"
    }
   ],
   "source": [
    "fig = px.bar(\n",
    "    df_aggregate,\n",
    "    x=\"type\",\n",
    "    y=\"mean\",\n",
    "    error_y=\"std\",\n",
    "    color=\"type\",\n",
    "    facet_col=\"group\",\n",
    "    facet_row=\"read\",\n",
    "    facet_col_spacing=0.05,\n",
    "    facet_row_spacing=0.05,\n",
    "    color_discrete_map={\"A\": \"#3182bd\", \"C\": \"#de2d26\", \"G\": \"#31a354\", \"T\": \"#756bb1\"}\n",
    ")\n",
    "\n",
    "fig.update_xaxes(\n",
    "    title='',\n",
    "    minor_ticks=\"outside\", \n",
    "    minor_dtick=0.25,\n",
    "    title_font_family=\"Inter\",\n",
    "    title_font_size=28/3, \n",
    "    tickfont_size=28/3\n",
    ")\n",
    "\n",
    "fig.update_yaxes(\n",
    "    title='Fraction',\n",
    "    col=1\n",
    ")\n",
    "fig.update_yaxes(\n",
    "    range=[0, 0.35],\n",
    "    dtick=0.1,\n",
    "    minor_ticks=\"outside\", \n",
    "    minor_dtick=0.05,\n",
    "    title_font_family=\"Inter\",\n",
    "    title_font_size=28/3, \n",
    "    tickfont_size=28/3,\n",
    ")\n",
    "\n",
    "fig.add_hline(\n",
    "    y=0.25,\n",
    "    line_width=2,\n",
    "    line_dash=\"dot\"\n",
    ")\n",
    "\n",
    "fig.update_layout(\n",
    "    template='simple_white',\n",
    "    height=330,\n",
    "    width=330,\n",
    "    showlegend=False,\n",
    "    margin=dict(l=0, r=20, t=20, b=0),\n",
    "    font_family=\"Inter\",\n",
    "    legend_font_size=28/3,\n",
    ")\n",
    "\n",
    "fig.show()\n",
    "fig.write_image(\"base_bias.svg\")"
   ]
  },
  {
   "cell_type": "code",
   "execution_count": 7,
   "metadata": {},
   "outputs": [
    {
     "data": {
      "text/html": [
       "<div>\n",
       "<style scoped>\n",
       "    .dataframe tbody tr th:only-of-type {\n",
       "        vertical-align: middle;\n",
       "    }\n",
       "\n",
       "    .dataframe tbody tr th {\n",
       "        vertical-align: top;\n",
       "    }\n",
       "\n",
       "    .dataframe thead th {\n",
       "        text-align: right;\n",
       "    }\n",
       "</style>\n",
       "<table border=\"1\" class=\"dataframe\">\n",
       "  <thead>\n",
       "    <tr style=\"text-align: right;\">\n",
       "      <th></th>\n",
       "      <th>type</th>\n",
       "      <th>read</th>\n",
       "      <th>mean</th>\n",
       "      <th>std</th>\n",
       "      <th>count</th>\n",
       "    </tr>\n",
       "  </thead>\n",
       "  <tbody>\n",
       "    <tr>\n",
       "      <th>0</th>\n",
       "      <td>A</td>\n",
       "      <td>1</td>\n",
       "      <td>0.257373</td>\n",
       "      <td>0.024053</td>\n",
       "      <td>39.0</td>\n",
       "    </tr>\n",
       "    <tr>\n",
       "      <th>1</th>\n",
       "      <td>A</td>\n",
       "      <td>2</td>\n",
       "      <td>0.248426</td>\n",
       "      <td>0.009535</td>\n",
       "      <td>39.0</td>\n",
       "    </tr>\n",
       "    <tr>\n",
       "      <th>2</th>\n",
       "      <td>C</td>\n",
       "      <td>1</td>\n",
       "      <td>0.243189</td>\n",
       "      <td>0.008704</td>\n",
       "      <td>39.0</td>\n",
       "    </tr>\n",
       "    <tr>\n",
       "      <th>3</th>\n",
       "      <td>C</td>\n",
       "      <td>2</td>\n",
       "      <td>0.248922</td>\n",
       "      <td>0.018499</td>\n",
       "      <td>39.0</td>\n",
       "    </tr>\n",
       "    <tr>\n",
       "      <th>4</th>\n",
       "      <td>G</td>\n",
       "      <td>1</td>\n",
       "      <td>0.251588</td>\n",
       "      <td>0.020784</td>\n",
       "      <td>39.0</td>\n",
       "    </tr>\n",
       "    <tr>\n",
       "      <th>5</th>\n",
       "      <td>G</td>\n",
       "      <td>2</td>\n",
       "      <td>0.243021</td>\n",
       "      <td>0.009224</td>\n",
       "      <td>39.0</td>\n",
       "    </tr>\n",
       "    <tr>\n",
       "      <th>6</th>\n",
       "      <td>T</td>\n",
       "      <td>1</td>\n",
       "      <td>0.247850</td>\n",
       "      <td>0.010146</td>\n",
       "      <td>39.0</td>\n",
       "    </tr>\n",
       "    <tr>\n",
       "      <th>7</th>\n",
       "      <td>T</td>\n",
       "      <td>2</td>\n",
       "      <td>0.259631</td>\n",
       "      <td>0.023342</td>\n",
       "      <td>39.0</td>\n",
       "    </tr>\n",
       "  </tbody>\n",
       "</table>\n",
       "</div>"
      ],
      "text/plain": [
       "  type read      mean       std  count\n",
       "0    A    1  0.257373  0.024053   39.0\n",
       "1    A    2  0.248426  0.009535   39.0\n",
       "2    C    1  0.243189  0.008704   39.0\n",
       "3    C    2  0.248922  0.018499   39.0\n",
       "4    G    1  0.251588  0.020784   39.0\n",
       "5    G    2  0.243021  0.009224   39.0\n",
       "6    T    1  0.247850  0.010146   39.0\n",
       "7    T    2  0.259631  0.023342   39.0"
      ]
     },
     "execution_count": 7,
     "metadata": {},
     "output_type": "execute_result"
    }
   ],
   "source": [
    "plot_data = data.data['deletions_by_type'].copy()\n",
    "\n",
    "def wavg(group):\n",
    "    d = {}\n",
    "    d['mean'] = group.ratio.mean()\n",
    "    d['std'] = group.ratio.std()\n",
    "    d['count'] = group.ratio.count()\n",
    "    return pd.Series(d, index=['mean', 'std', 'count'])\n",
    "\n",
    "\n",
    "df_aggregate = plot_data.groupby(['type', 'read'], as_index=False).apply(wavg)\n",
    "df_aggregate"
   ]
  },
  {
   "attachments": {},
   "cell_type": "markdown",
   "metadata": {},
   "source": [
    "# Deletion base bias by position"
   ]
  },
  {
   "cell_type": "code",
   "execution_count": 8,
   "metadata": {},
   "outputs": [
    {
     "data": {
      "text/html": [
       "<div>\n",
       "<style scoped>\n",
       "    .dataframe tbody tr th:only-of-type {\n",
       "        vertical-align: middle;\n",
       "    }\n",
       "\n",
       "    .dataframe tbody tr th {\n",
       "        vertical-align: top;\n",
       "    }\n",
       "\n",
       "    .dataframe thead th {\n",
       "        text-align: right;\n",
       "    }\n",
       "</style>\n",
       "<table border=\"1\" class=\"dataframe\">\n",
       "  <thead>\n",
       "    <tr style=\"text-align: right;\">\n",
       "      <th></th>\n",
       "      <th>group</th>\n",
       "      <th>type</th>\n",
       "      <th>read</th>\n",
       "      <th>position</th>\n",
       "      <th>mean</th>\n",
       "      <th>std</th>\n",
       "      <th>count</th>\n",
       "    </tr>\n",
       "  </thead>\n",
       "  <tbody>\n",
       "    <tr>\n",
       "      <th>0</th>\n",
       "      <td>Genscript</td>\n",
       "      <td>A</td>\n",
       "      <td>1</td>\n",
       "      <td>0</td>\n",
       "      <td>0.184694</td>\n",
       "      <td>0.033653</td>\n",
       "      <td>17.0</td>\n",
       "    </tr>\n",
       "    <tr>\n",
       "      <th>1</th>\n",
       "      <td>Genscript</td>\n",
       "      <td>A</td>\n",
       "      <td>1</td>\n",
       "      <td>1</td>\n",
       "      <td>0.177575</td>\n",
       "      <td>0.005842</td>\n",
       "      <td>17.0</td>\n",
       "    </tr>\n",
       "    <tr>\n",
       "      <th>2</th>\n",
       "      <td>Genscript</td>\n",
       "      <td>A</td>\n",
       "      <td>1</td>\n",
       "      <td>2</td>\n",
       "      <td>0.216676</td>\n",
       "      <td>0.005939</td>\n",
       "      <td>17.0</td>\n",
       "    </tr>\n",
       "    <tr>\n",
       "      <th>3</th>\n",
       "      <td>Genscript</td>\n",
       "      <td>A</td>\n",
       "      <td>1</td>\n",
       "      <td>3</td>\n",
       "      <td>0.236135</td>\n",
       "      <td>0.009995</td>\n",
       "      <td>17.0</td>\n",
       "    </tr>\n",
       "    <tr>\n",
       "      <th>4</th>\n",
       "      <td>Genscript</td>\n",
       "      <td>A</td>\n",
       "      <td>1</td>\n",
       "      <td>4</td>\n",
       "      <td>0.249565</td>\n",
       "      <td>0.017237</td>\n",
       "      <td>17.0</td>\n",
       "    </tr>\n",
       "    <tr>\n",
       "      <th>...</th>\n",
       "      <td>...</td>\n",
       "      <td>...</td>\n",
       "      <td>...</td>\n",
       "      <td>...</td>\n",
       "      <td>...</td>\n",
       "      <td>...</td>\n",
       "      <td>...</td>\n",
       "    </tr>\n",
       "    <tr>\n",
       "      <th>1795</th>\n",
       "      <td>Twist</td>\n",
       "      <td>T</td>\n",
       "      <td>2</td>\n",
       "      <td>103</td>\n",
       "      <td>0.265583</td>\n",
       "      <td>0.029746</td>\n",
       "      <td>22.0</td>\n",
       "    </tr>\n",
       "    <tr>\n",
       "      <th>1796</th>\n",
       "      <td>Twist</td>\n",
       "      <td>T</td>\n",
       "      <td>2</td>\n",
       "      <td>104</td>\n",
       "      <td>0.236886</td>\n",
       "      <td>0.031114</td>\n",
       "      <td>22.0</td>\n",
       "    </tr>\n",
       "    <tr>\n",
       "      <th>1797</th>\n",
       "      <td>Twist</td>\n",
       "      <td>T</td>\n",
       "      <td>2</td>\n",
       "      <td>105</td>\n",
       "      <td>0.220025</td>\n",
       "      <td>0.024923</td>\n",
       "      <td>22.0</td>\n",
       "    </tr>\n",
       "    <tr>\n",
       "      <th>1798</th>\n",
       "      <td>Twist</td>\n",
       "      <td>T</td>\n",
       "      <td>2</td>\n",
       "      <td>106</td>\n",
       "      <td>0.200266</td>\n",
       "      <td>0.029146</td>\n",
       "      <td>22.0</td>\n",
       "    </tr>\n",
       "    <tr>\n",
       "      <th>1799</th>\n",
       "      <td>Twist</td>\n",
       "      <td>T</td>\n",
       "      <td>2</td>\n",
       "      <td>107</td>\n",
       "      <td>0.066133</td>\n",
       "      <td>0.023341</td>\n",
       "      <td>22.0</td>\n",
       "    </tr>\n",
       "  </tbody>\n",
       "</table>\n",
       "<p>1800 rows × 7 columns</p>\n",
       "</div>"
      ],
      "text/plain": [
       "          group type read  position      mean       std  count\n",
       "0     Genscript    A    1         0  0.184694  0.033653   17.0\n",
       "1     Genscript    A    1         1  0.177575  0.005842   17.0\n",
       "2     Genscript    A    1         2  0.216676  0.005939   17.0\n",
       "3     Genscript    A    1         3  0.236135  0.009995   17.0\n",
       "4     Genscript    A    1         4  0.249565  0.017237   17.0\n",
       "...         ...  ...  ...       ...       ...       ...    ...\n",
       "1795      Twist    T    2       103  0.265583  0.029746   22.0\n",
       "1796      Twist    T    2       104  0.236886  0.031114   22.0\n",
       "1797      Twist    T    2       105  0.220025  0.024923   22.0\n",
       "1798      Twist    T    2       106  0.200266  0.029146   22.0\n",
       "1799      Twist    T    2       107  0.066133  0.023341   22.0\n",
       "\n",
       "[1800 rows x 7 columns]"
      ]
     },
     "execution_count": 8,
     "metadata": {},
     "output_type": "execute_result"
    }
   ],
   "source": [
    "plot_data = data.data['deletions_by_refposition_by_type'].copy()\n",
    "\n",
    "def wavg(group):\n",
    "    d = {}\n",
    "    d['mean'] = group.ratio.mean()\n",
    "    d['std'] = group.ratio.std()\n",
    "    d['count'] = group.ratio.count()\n",
    "    return pd.Series(d, index=['mean', 'std', 'count'])\n",
    "\n",
    "\n",
    "df_aggregate = plot_data.groupby(['group', 'type', 'read', 'position'], as_index=False).apply(wavg)\n",
    "df_aggregate"
   ]
  },
  {
   "cell_type": "code",
   "execution_count": 9,
   "metadata": {},
   "outputs": [
    {
     "data": {
      "application/vnd.plotly.v1+json": {
       "config": {
        "plotlyServerURL": "https://plot.ly"
       },
       "data": [
        {
         "hovertemplate": "type=A<br>read=1<br>group=Genscript<br>position=%{x}<br>mean=%{y}<extra></extra>",
         "legendgroup": "A",
         "marker": {
          "color": "#3182bd",
          "symbol": "circle"
         },
         "mode": "markers",
         "name": "A",
         "showlegend": true,
         "type": "scattergl",
         "x": [
          0,
          1,
          2,
          3,
          4,
          5,
          6,
          7,
          8,
          9,
          10,
          11,
          12,
          13,
          14,
          15,
          16,
          17,
          18,
          19,
          20,
          21,
          22,
          23,
          24,
          25,
          26,
          27,
          28,
          29,
          30,
          31,
          32,
          33,
          34,
          35,
          36,
          37,
          38,
          39,
          40,
          41,
          42,
          43,
          44,
          45,
          46,
          47,
          48,
          49,
          50,
          51,
          52,
          53,
          54,
          55,
          56,
          57,
          58,
          59,
          60,
          61,
          62,
          63,
          64,
          65,
          66,
          67,
          68,
          69,
          70,
          71,
          72,
          73,
          74,
          75,
          76,
          77,
          78,
          79,
          80,
          81,
          82,
          83,
          84,
          85,
          86,
          87,
          88,
          89,
          90,
          91,
          92,
          93,
          94,
          95,
          96,
          97,
          98,
          99,
          100,
          101,
          102,
          103,
          104,
          105,
          106,
          107,
          108,
          109,
          110,
          111,
          112,
          113,
          114,
          115,
          116
         ],
         "xaxis": "x3",
         "y": [
          0.18469384590567045,
          0.17757542473707338,
          0.21667591068511508,
          0.23613493079252396,
          0.24956542581005817,
          0.24598995891678335,
          0.26250630899782423,
          0.2637544892724667,
          0.2591679452745761,
          0.26902327359111833,
          0.2668918714385542,
          0.2709823144419593,
          0.2601669933587475,
          0.25922753978497093,
          0.2610056473944776,
          0.2614196106070513,
          0.2703167752003913,
          0.26125007478848883,
          0.26255593895041013,
          0.26165609836355597,
          0.2660102030551678,
          0.25768002710883886,
          0.2607594663302418,
          0.2546476894325905,
          0.255226455486559,
          0.2563083484983194,
          0.2565656584419977,
          0.25094127667052224,
          0.2556470311765827,
          0.25173607575442775,
          0.25018622607961927,
          0.24700498088170583,
          0.25387158511086266,
          0.25223459969826784,
          0.2559733138673105,
          0.2545373703727608,
          0.2597040883683139,
          0.250292786972714,
          0.2533863134128802,
          0.25186594803328843,
          0.25754661955242275,
          0.2620943686071923,
          0.26261046765059565,
          0.2511452858422975,
          0.24828940127551324,
          0.2565927131792514,
          0.24992280163361436,
          0.2542743171592577,
          0.25114624392335566,
          0.24855713487473394,
          0.2544716723794504,
          0.25150263113380955,
          0.24529676205507844,
          0.24384355307521227,
          0.24328950403616942,
          0.25131651137247685,
          0.2471131198875502,
          0.25313923274872185,
          0.2516838671290377,
          0.24742316744249807,
          0.25110867621094496,
          0.2426156319402359,
          0.2501569916277182,
          0.24502546498619068,
          0.2474489395349861,
          0.24833292430975865,
          0.24668100374190308,
          0.2534333144338561,
          0.2532811712587044,
          0.25326655128062636,
          0.26229869154006424,
          0.24591452238528747,
          0.2480496053838153,
          0.2430018276681319,
          0.24564453291103513,
          0.23317249758288194,
          0.24349514009301548,
          0.24183669880058917,
          0.24252522450487615,
          0.2534408592777943,
          0.2629959135450772,
          0.26509504444453946,
          0.2899942536895054,
          0.32465961770581164,
          0.5994808693680831,
          0.23999134161820457,
          0.5994193425413384,
          0.6067667743787215,
          0.251358259614098,
          0.29909479660926996,
          0.23917127115862394,
          0.24778654265922817,
          0.25154800907685343,
          0.2521812895503857,
          0.2421231158157734,
          0.2408508845583477,
          0.23589995872970687,
          0.22848268643047354,
          0.23730467378487355,
          0.24340835328320812,
          0.269960532201448,
          0.35301758675300765,
          0.24194144851265031,
          0.2455312955243123,
          0.24192120201212403,
          0.23555577034733094,
          0.22975858831155774,
          0.23289486133133785,
          0.24302568108636466,
          0.23882652097567444,
          0.2460369897770382,
          0.24443176525494895,
          0.23533713891621388,
          0.24169375004282992,
          0.25429328940710155,
          0.35117915607565414,
          0.4609607104441456
         ],
         "yaxis": "y3"
        },
        {
         "hovertemplate": "type=A<br>read=1<br>group=Twist<br>position=%{x}<br>mean=%{y}<extra></extra>",
         "legendgroup": "A",
         "marker": {
          "color": "#3182bd",
          "symbol": "circle"
         },
         "mode": "markers",
         "name": "A",
         "showlegend": false,
         "type": "scattergl",
         "x": [
          0,
          1,
          2,
          3,
          4,
          5,
          6,
          7,
          8,
          9,
          10,
          11,
          12,
          13,
          14,
          15,
          16,
          17,
          18,
          19,
          20,
          21,
          22,
          23,
          24,
          25,
          26,
          27,
          28,
          29,
          30,
          31,
          32,
          33,
          34,
          35,
          36,
          37,
          38,
          39,
          40,
          41,
          42,
          43,
          44,
          45,
          46,
          47,
          48,
          49,
          50,
          51,
          52,
          53,
          54,
          55,
          56,
          57,
          58,
          59,
          60,
          61,
          62,
          63,
          64,
          65,
          66,
          67,
          68,
          69,
          70,
          71,
          72,
          73,
          74,
          75,
          76,
          77,
          78,
          79,
          80,
          81,
          82,
          83,
          84,
          85,
          86,
          87,
          88,
          89,
          90,
          91,
          92,
          93,
          94,
          95,
          96,
          97,
          98,
          99,
          100,
          101,
          102,
          103,
          104,
          105,
          106,
          107
         ],
         "xaxis": "x4",
         "y": [
          0.11045339025907999,
          0.2034975057642029,
          0.2317378445025425,
          0.24392805159120048,
          0.2543864808792477,
          0.24618532632774634,
          0.23256479959202583,
          0.24814596295629618,
          0.23777909042093662,
          0.2608301912420909,
          0.23581048937547858,
          0.23308048776278315,
          0.2394883930782715,
          0.2303673889306065,
          0.2301027147883519,
          0.241253856203035,
          0.24648867955845558,
          0.22759826290997145,
          0.24649616810681182,
          0.23858314062865188,
          0.23840278886282576,
          0.23097890902404652,
          0.2285915079920305,
          0.23544099970604926,
          0.24142962860691125,
          0.24720154072396136,
          0.22958883314032244,
          0.2555270404276586,
          0.25229512607955623,
          0.24931511583358035,
          0.23780695557283626,
          0.24097561295695302,
          0.2442263126121939,
          0.24665075054879254,
          0.2420882502394351,
          0.24061891995907334,
          0.24257759444574054,
          0.24505833659802653,
          0.24783356145596055,
          0.2508415134798385,
          0.23263876147449725,
          0.24146695108079522,
          0.2379045013974384,
          0.23031975481709493,
          0.23108634683335752,
          0.23471972382612574,
          0.23592055061903994,
          0.24159498896806414,
          0.24419220956821064,
          0.2422526106597589,
          0.24088443191909314,
          0.24594178652041626,
          0.24093084597726186,
          0.2303552152372596,
          0.24567833344458065,
          0.23117338673078255,
          0.2405292997760921,
          0.24481840198187202,
          0.2507291769998124,
          0.23967688616005517,
          0.24297861183722047,
          0.23936121095600313,
          0.25008766672306454,
          0.2395425804633338,
          0.23421057446737087,
          0.25559549411561255,
          0.2376103613683331,
          0.24549160694020603,
          0.24074806155218703,
          0.24251628336187633,
          0.23974094159708362,
          0.257257215892681,
          0.23738223015514828,
          0.25395782508387454,
          0.2371589634939021,
          0.24443954873630078,
          0.23476309460342878,
          0.23781205800406927,
          0.24429060625313992,
          0.2435091832884926,
          0.23375499436986866,
          0.2515021868629317,
          0.24922767307773322,
          0.24775352391830127,
          0.2563494245195686,
          0.25525868637659443,
          0.2335488683921416,
          0.25099666640242513,
          0.24255332307103117,
          0.23974678461334503,
          0.2461463763534872,
          0.24320385100038386,
          0.24289816119677266,
          0.28154752162542823,
          0.23686468486398315,
          0.2789404663816122,
          0.22591973502443272,
          0.2425571593605608,
          0.19621901268809153,
          0.2154226847236873,
          0.2515126337090282,
          0.30292979919195173,
          0.23994865176835403,
          0.2791944664271077,
          0.1828899432043027,
          0.33605901884758316,
          0.4488867420750866,
          0.507700361319306
         ],
         "yaxis": "y4"
        },
        {
         "hovertemplate": "type=A<br>read=2<br>group=Genscript<br>position=%{x}<br>mean=%{y}<extra></extra>",
         "legendgroup": "A",
         "marker": {
          "color": "#3182bd",
          "symbol": "circle"
         },
         "mode": "markers",
         "name": "A",
         "showlegend": false,
         "type": "scattergl",
         "x": [
          0,
          1,
          2,
          3,
          4,
          5,
          6,
          7,
          8,
          9,
          10,
          11,
          12,
          13,
          14,
          15,
          16,
          17,
          18,
          19,
          20,
          21,
          22,
          23,
          24,
          25,
          26,
          27,
          28,
          29,
          30,
          31,
          32,
          33,
          34,
          35,
          36,
          37,
          38,
          39,
          40,
          41,
          42,
          43,
          44,
          45,
          46,
          47,
          48,
          49,
          50,
          51,
          52,
          53,
          54,
          55,
          56,
          57,
          58,
          59,
          60,
          61,
          62,
          63,
          64,
          65,
          66,
          67,
          68,
          69,
          70,
          71,
          72,
          73,
          74,
          75,
          76,
          77,
          78,
          79,
          80,
          81,
          82,
          83,
          84,
          85,
          86,
          87,
          88,
          89,
          90,
          91,
          92,
          93,
          94,
          95,
          96,
          97,
          98,
          99,
          100,
          101,
          102,
          103,
          104,
          105,
          106,
          107,
          108,
          109,
          110,
          111,
          112,
          113,
          114,
          115,
          116
         ],
         "xaxis": "x",
         "y": [
          0.11014123132029618,
          0.21011269109159328,
          0.22722287961304305,
          0.24496397404961603,
          0.25449142448711004,
          0.2388801706794032,
          0.23627559083224844,
          0.2345125348077241,
          0.23139104414175568,
          0.22977941119719128,
          0.24534294480027974,
          0.2270133175895841,
          0.31487151223704324,
          0.2353866614632897,
          0.2244214589784153,
          0.2433255512205612,
          0.24202378029208887,
          0.23294014390312423,
          0.18294723269528965,
          0.21795427747603735,
          0.23457930332130644,
          0.2360000040785637,
          0.2403325395186269,
          0.23607447788998984,
          0.23270567397793754,
          0.23755959793954506,
          0.24088741748040743,
          0.23892749996248408,
          0.24491545201804937,
          0.24644510036153064,
          0.25092641465939225,
          0.2416148124560595,
          0.24950463738559644,
          0.24635466615409402,
          0.24713250708939624,
          0.2482777261075224,
          0.24070524049357875,
          0.24743377701390698,
          0.24817475374588163,
          0.2501174720807871,
          0.24564575502619104,
          0.24848302830852098,
          0.24695320097249038,
          0.25209548101535184,
          0.25459012818978954,
          0.2500899170295689,
          0.24436415515176055,
          0.24481472777612184,
          0.2452181211770369,
          0.23868780562197522,
          0.24633728088552445,
          0.2530718060423011,
          0.24057398107994868,
          0.24170968396109488,
          0.2483622199042647,
          0.24385517986467137,
          0.24670192112018696,
          0.24781513836292013,
          0.2504216530576566,
          0.24120362021709016,
          0.2474605890342152,
          0.2561662803523279,
          0.2501061194779649,
          0.2608597704310332,
          0.2623833101519659,
          0.25468061693584904,
          0.25481677710295253,
          0.25499684738392236,
          0.25527581748465156,
          0.2590938545359325,
          0.2657777879113331,
          0.25863749161431027,
          0.25268469406073324,
          0.2553216499220583,
          0.2505822603809488,
          0.25506306257925637,
          0.2539200612474006,
          0.2539649678021071,
          0.24982608837858422,
          0.25582389251483595,
          0.25997821090369627,
          0.2556142089888169,
          0.252953964549516,
          0.2602426583412961,
          0.2504830084304758,
          0.250261531060183,
          0.2514428419973096,
          0.2448800328876843,
          0.24830770394923074,
          0.2510081607711885,
          0.25570948940568766,
          0.24488153584549116,
          0.2592443987136357,
          0.24871866650104327,
          0.24313002426653962,
          0.2556346709965516,
          0.25720862429881824,
          0.24724035860601964,
          0.260875368937462,
          0.2611264495555382,
          0.3120933221594813,
          0.23948132840126338,
          0.2570704889472513,
          0.25598376594081595,
          0.25008823314200135,
          0.251925988061274,
          0.2652297880703191,
          0.26524772151509546,
          0.2641396638063184,
          0.261991155839108,
          0.2813142652917537,
          0.2747069016076117,
          0.2878177905701429,
          0.29545160976143325,
          0.3051924011493114,
          0.3832830876077691,
          0.3828027673056453
         ],
         "yaxis": "y"
        },
        {
         "hovertemplate": "type=A<br>read=2<br>group=Twist<br>position=%{x}<br>mean=%{y}<extra></extra>",
         "legendgroup": "A",
         "marker": {
          "color": "#3182bd",
          "symbol": "circle"
         },
         "mode": "markers",
         "name": "A",
         "showlegend": false,
         "type": "scattergl",
         "x": [
          0,
          1,
          2,
          3,
          4,
          5,
          6,
          7,
          8,
          9,
          10,
          11,
          12,
          13,
          14,
          15,
          16,
          17,
          18,
          19,
          20,
          21,
          22,
          23,
          24,
          25,
          26,
          27,
          28,
          29,
          30,
          31,
          32,
          33,
          34,
          35,
          36,
          37,
          38,
          39,
          40,
          41,
          42,
          43,
          44,
          45,
          46,
          47,
          48,
          49,
          50,
          51,
          52,
          53,
          54,
          55,
          56,
          57,
          58,
          59,
          60,
          61,
          62,
          63,
          64,
          65,
          66,
          67,
          68,
          69,
          70,
          71,
          72,
          73,
          74,
          75,
          76,
          77,
          78,
          79,
          80,
          81,
          82,
          83,
          84,
          85,
          86,
          87,
          88,
          89,
          90,
          91,
          92,
          93,
          94,
          95,
          96,
          97,
          98,
          99,
          100,
          101,
          102,
          103,
          104,
          105,
          106,
          107
         ],
         "xaxis": "x2",
         "y": [
          0.05036603531850486,
          0.1323248158480406,
          0.1894441947384201,
          0.2445987610934602,
          0.2550342942815705,
          0.25304874700957714,
          0.24853566227441598,
          0.24453988067694762,
          0.24886413223369394,
          0.2503162313556127,
          0.25419659429366465,
          0.2450498312627153,
          0.2582855964669062,
          0.24534105090633432,
          0.25118992939818435,
          0.25874475319667367,
          0.2444065618323038,
          0.25032471483409907,
          0.25467878442926284,
          0.2473353595158535,
          0.2568690458632462,
          0.2431801393013477,
          0.2509624848754163,
          0.2501744535837578,
          0.2505581546296111,
          0.24917835728640136,
          0.2468338714142081,
          0.265712852996909,
          0.24932925550523583,
          0.24318227628886027,
          0.24664766936897678,
          0.25556877617464885,
          0.2584077214235259,
          0.25953761862516495,
          0.24795948147435362,
          0.24981877938692784,
          0.2551305277544824,
          0.24948362409459646,
          0.2561886644493267,
          0.2454017562058116,
          0.2562163961684176,
          0.27242673830842806,
          0.2566943009966709,
          0.24500902461021615,
          0.2583488328609851,
          0.25417563055763415,
          0.26322841692494414,
          0.2676043511524011,
          0.25953405405974306,
          0.24924185566706097,
          0.2539152086610644,
          0.2459054515896525,
          0.26494957599672003,
          0.25157764730369364,
          0.2612829569848342,
          0.2490971985975927,
          0.25927548423348573,
          0.2435785218948488,
          0.23634558731901503,
          0.25839694736264485,
          0.24877168094490704,
          0.25627627072255676,
          0.264249939316884,
          0.26237677072913673,
          0.2780242246511399,
          0.2540351466689291,
          0.25144348539359485,
          0.26114158607403537,
          0.25920716879703626,
          0.2525610274825453,
          0.25056157908475307,
          0.2517375718156405,
          0.2528906014748183,
          0.26881178186477783,
          0.2691883101315957,
          0.25657444697163523,
          0.2556556266119309,
          0.252619782905133,
          0.2624834725666442,
          0.24797197864100753,
          0.24314510034281422,
          0.2551981716052387,
          0.26028170774855824,
          0.25583988925428586,
          0.26427523138695247,
          0.25679555238558033,
          0.24876054168380632,
          0.2573632362252704,
          0.2639381170070606,
          0.2602126005772174,
          0.2598847327553879,
          0.27113347537007715,
          0.254764601712372,
          0.2702354659142429,
          0.26088805734126874,
          0.25494273355198843,
          0.26873711833830255,
          0.2646326444862432,
          0.2592821008962653,
          0.27332761699993174,
          0.26790590376586115,
          0.2751193413824372,
          0.26450539409946555,
          0.25532995416016685,
          0.25138322049638956,
          0.2881087465046688,
          0.3525646153062262,
          0.757540361688514
         ],
         "yaxis": "y2"
        },
        {
         "hovertemplate": "type=C<br>read=1<br>group=Genscript<br>position=%{x}<br>mean=%{y}<extra></extra>",
         "legendgroup": "C",
         "marker": {
          "color": "#de2d26",
          "symbol": "circle"
         },
         "mode": "markers",
         "name": "C",
         "showlegend": true,
         "type": "scattergl",
         "x": [
          0,
          1,
          2,
          3,
          4,
          5,
          6,
          7,
          8,
          9,
          10,
          11,
          12,
          13,
          14,
          15,
          16,
          17,
          18,
          19,
          20,
          21,
          22,
          23,
          24,
          25,
          26,
          27,
          28,
          29,
          30,
          31,
          32,
          33,
          34,
          35,
          36,
          37,
          38,
          39,
          40,
          41,
          42,
          43,
          44,
          45,
          46,
          47,
          48,
          49,
          50,
          51,
          52,
          53,
          54,
          55,
          56,
          57,
          58,
          59,
          60,
          61,
          62,
          63,
          64,
          65,
          66,
          67,
          68,
          69,
          70,
          71,
          72,
          73,
          74,
          75,
          76,
          77,
          78,
          79,
          80,
          81,
          82,
          83,
          84,
          85,
          86,
          87,
          88,
          89,
          90,
          91,
          92,
          93,
          94,
          95,
          96,
          97,
          98,
          99,
          100,
          101,
          102,
          103,
          104,
          105,
          106,
          107,
          108,
          109,
          110,
          111,
          112,
          113,
          114,
          115,
          116
         ],
         "xaxis": "x3",
         "y": [
          0.3943644768797299,
          0.2758408920381435,
          0.2951767912154723,
          0.2716523035893309,
          0.2605314086336827,
          0.255059110682748,
          0.2526274087160058,
          0.25056791115134863,
          0.24049908714757826,
          0.24200093654825144,
          0.2324588230606375,
          0.2370018698120091,
          0.2352925813012532,
          0.2375617279067508,
          0.24334836210428468,
          0.23941060233183573,
          0.2428904631319025,
          0.24892520934102944,
          0.24519577568926873,
          0.24338576956781371,
          0.24197635481513355,
          0.24071180931353992,
          0.2450538370877057,
          0.2504746897577468,
          0.23637904801162174,
          0.2512076668483156,
          0.24734552189947395,
          0.24314418221497924,
          0.24605168462087293,
          0.24092699244755594,
          0.2545859968970357,
          0.2534683514351903,
          0.24650412559907664,
          0.2536632049273864,
          0.24975030059460773,
          0.2506521048552011,
          0.24023779979721002,
          0.23986146468559558,
          0.2535145963675247,
          0.24906588211942082,
          0.24155737513747522,
          0.24553840465208102,
          0.25199027766688054,
          0.24623675894364266,
          0.25023757306287064,
          0.25369771241241945,
          0.25595749205900437,
          0.24910815621651583,
          0.24916562855280777,
          0.25141534460268755,
          0.24666822196736166,
          0.23947866565600162,
          0.2528480622912024,
          0.24920785298083614,
          0.23427584486772352,
          0.2427930415984248,
          0.24038377949478457,
          0.2429369699956028,
          0.2407100271140404,
          0.24838509907875045,
          0.24548881632373104,
          0.2562003289680083,
          0.25429309941171807,
          0.26160567371269344,
          0.25867807344635746,
          0.24937170259741825,
          0.2607203628712244,
          0.25131675519691027,
          0.2456865315927993,
          0.24647858212924986,
          0.24175136020517934,
          0.2506437691346785,
          0.24299985017463593,
          0.24375199655827254,
          0.24037930874012403,
          0.24412166036275984,
          0.24818163834640064,
          0.2459752628680958,
          0.24443665059335462,
          0.24349446019593923,
          0.24255896788686548,
          0.2386205736929444,
          0.23824239601276045,
          0.23010199353246572,
          0.24517621577161736,
          0.606734215218422,
          0.24295054002517041,
          0.24220093201998363,
          0.6008612016409202,
          0.27784675633315825,
          0.27321422468856676,
          0.2587644649109566,
          0.2576418780137957,
          0.2504160783003447,
          0.2583154872206607,
          0.25058889476614127,
          0.2552677545015436,
          0.257985619259653,
          0.25922317355993707,
          0.25303490148486896,
          0.24252608555187946,
          0.207794801151414,
          0.2677096681615048,
          0.2657779309906261,
          0.25979500429535285,
          0.26980560173671664,
          0.27090735750272665,
          0.2755490751840267,
          0.273723136961447,
          0.2674847504044417,
          0.2531709694476671,
          0.26288102038110783,
          0.25157755385003755,
          0.25003261747957795,
          0.25169402641038163,
          0.21087349427460092,
          0.15379460926804592
         ],
         "yaxis": "y3"
        },
        {
         "hovertemplate": "type=C<br>read=1<br>group=Twist<br>position=%{x}<br>mean=%{y}<extra></extra>",
         "legendgroup": "C",
         "marker": {
          "color": "#de2d26",
          "symbol": "circle"
         },
         "mode": "markers",
         "name": "C",
         "showlegend": false,
         "type": "scattergl",
         "x": [
          0,
          1,
          2,
          3,
          4,
          5,
          6,
          7,
          8,
          9,
          10,
          11,
          12,
          13,
          14,
          15,
          16,
          17,
          18,
          19,
          20,
          21,
          22,
          23,
          24,
          25,
          26,
          27,
          28,
          29,
          30,
          31,
          32,
          33,
          34,
          35,
          36,
          37,
          38,
          39,
          40,
          41,
          42,
          43,
          44,
          45,
          46,
          47,
          48,
          49,
          50,
          51,
          52,
          53,
          54,
          55,
          56,
          57,
          58,
          59,
          60,
          61,
          62,
          63,
          64,
          65,
          66,
          67,
          68,
          69,
          70,
          71,
          72,
          73,
          74,
          75,
          76,
          77,
          78,
          79,
          80,
          81,
          82,
          83,
          84,
          85,
          86,
          87,
          88,
          89,
          90,
          91,
          92,
          93,
          94,
          95,
          96,
          97,
          98,
          99,
          100,
          101,
          102,
          103,
          104,
          105,
          106,
          107
         ],
         "xaxis": "x4",
         "y": [
          0.30826004545279306,
          0.14220381218514924,
          0.25032669720317524,
          0.22411715934853468,
          0.21877890309655654,
          0.240911530667939,
          0.23984176146053612,
          0.23958255661068265,
          0.23939938632605215,
          0.2334128646925012,
          0.23928836350670749,
          0.23750353810469838,
          0.2584245725037189,
          0.2448223234200885,
          0.24455591405388635,
          0.2350024688484523,
          0.22902148958940807,
          0.2662865601479894,
          0.23470683883173696,
          0.24911916855110158,
          0.24046606142583835,
          0.24166920731385677,
          0.25466466291412837,
          0.2550415729689905,
          0.2389800735943617,
          0.24021515291541898,
          0.26798880250217294,
          0.24566780443449987,
          0.24739286939426802,
          0.24274865998580616,
          0.24462209364419749,
          0.2402741788887787,
          0.2531073181971528,
          0.24732625938247407,
          0.23776263911892614,
          0.23768270659123836,
          0.23853518848536845,
          0.25385151251067134,
          0.2371454361397296,
          0.23655276510971185,
          0.23692335180454568,
          0.23801496848588766,
          0.2275182643648874,
          0.24607517273192026,
          0.24646641303251762,
          0.22159856656824609,
          0.24521325982647102,
          0.2352792389817007,
          0.22705471512440834,
          0.24473569816960158,
          0.23289557067024405,
          0.22609012672840834,
          0.24764458121756408,
          0.24783051743774595,
          0.24407108528668015,
          0.23430152374316798,
          0.23809308943126561,
          0.22510647624609914,
          0.24926006365098308,
          0.2336178083104256,
          0.23652158517648927,
          0.23123373547123213,
          0.23605262923817927,
          0.24171600749215622,
          0.24146629324635444,
          0.22997424860182478,
          0.236660744774833,
          0.23678378543799541,
          0.24054886400508757,
          0.2302317488464648,
          0.23676533534753777,
          0.24168466598712648,
          0.24517485496474556,
          0.23259514392580186,
          0.24203067806588632,
          0.23158251975204242,
          0.2337116298373638,
          0.2299581374567924,
          0.2457746176497791,
          0.24553471429785356,
          0.23334231773236497,
          0.23554289215468938,
          0.2402567591922855,
          0.23866724923680668,
          0.23164818525657618,
          0.2342971568992365,
          0.24896972670250478,
          0.24225424551149502,
          0.2520703787989198,
          0.24825275926214016,
          0.2415278439883206,
          0.24433905521961705,
          0.24274063952859948,
          0.23737322881311365,
          0.23184421910148642,
          0.2188771706921905,
          0.23945892690025994,
          0.2709739510104558,
          0.20482139868885765,
          0.19702556151113634,
          0.19773340495402827,
          0.208240479332942,
          0.2789536949076125,
          0.23215817107937162,
          0.3739615442829343,
          0.21548466736007904,
          0.1469557102715231,
          0.05785852420104929
         ],
         "yaxis": "y4"
        },
        {
         "hovertemplate": "type=C<br>read=2<br>group=Genscript<br>position=%{x}<br>mean=%{y}<extra></extra>",
         "legendgroup": "C",
         "marker": {
          "color": "#de2d26",
          "symbol": "circle"
         },
         "mode": "markers",
         "name": "C",
         "showlegend": false,
         "type": "scattergl",
         "x": [
          0,
          1,
          2,
          3,
          4,
          5,
          6,
          7,
          8,
          9,
          10,
          11,
          12,
          13,
          14,
          15,
          16,
          17,
          18,
          19,
          20,
          21,
          22,
          23,
          24,
          25,
          26,
          27,
          28,
          29,
          30,
          31,
          32,
          33,
          34,
          35,
          36,
          37,
          38,
          39,
          40,
          41,
          42,
          43,
          44,
          45,
          46,
          47,
          48,
          49,
          50,
          51,
          52,
          53,
          54,
          55,
          56,
          57,
          58,
          59,
          60,
          61,
          62,
          63,
          64,
          65,
          66,
          67,
          68,
          69,
          70,
          71,
          72,
          73,
          74,
          75,
          76,
          77,
          78,
          79,
          80,
          81,
          82,
          83,
          84,
          85,
          86,
          87,
          88,
          89,
          90,
          91,
          92,
          93,
          94,
          95,
          96,
          97,
          98,
          99,
          100,
          101,
          102,
          103,
          104,
          105,
          106,
          107,
          108,
          109,
          110,
          111,
          112,
          113,
          114,
          115,
          116
         ],
         "xaxis": "x",
         "y": [
          0.2684957192071732,
          0.23162193273531695,
          0.2668152794713412,
          0.2611170309768064,
          0.2610692138560789,
          0.2597856749934989,
          0.27648942036837854,
          0.2732091298195655,
          0.2627495420120988,
          0.2653526580601127,
          0.2573215810042122,
          0.2836417483676631,
          0.1608067333087239,
          0.2544011303578288,
          0.2625176764818312,
          0.2573307185504021,
          0.2674645708464924,
          0.2721516611788782,
          0.18610027601315324,
          0.23940264356735455,
          0.25426794622763954,
          0.25818627788514087,
          0.2541327273813977,
          0.2612191161146919,
          0.25761194152704453,
          0.26700457544165546,
          0.26928341602574357,
          0.26932714056393814,
          0.26479917463801794,
          0.26519059310863186,
          0.2586584623848993,
          0.25856350902076486,
          0.25538840446871747,
          0.2583588109774736,
          0.2512550111820277,
          0.2550470938118249,
          0.25769186693390056,
          0.24943811406515362,
          0.25375923475483597,
          0.25647379789179175,
          0.2607342633150789,
          0.25797759494620726,
          0.25662491817586414,
          0.2610203462269554,
          0.2532834706564518,
          0.2555950987035495,
          0.2574065665268598,
          0.262111496890265,
          0.2539619928319891,
          0.26159137803097987,
          0.25273173449119857,
          0.25482586226036846,
          0.25507104594658664,
          0.25478824509841846,
          0.2456970902047948,
          0.2524215176644004,
          0.25121076113775,
          0.2584500641791411,
          0.25512114627194904,
          0.2527637757565244,
          0.25053667888083325,
          0.2532481577265595,
          0.26014168920284736,
          0.2534280028166987,
          0.2479967053216268,
          0.2386833986557603,
          0.24330089184997158,
          0.23858532160379736,
          0.24070728994338772,
          0.23322207293306713,
          0.23763767119287096,
          0.2293125480691997,
          0.25132534818826724,
          0.246110758900283,
          0.24568076828228294,
          0.237417512876199,
          0.2343066811468711,
          0.24805112919425032,
          0.24837132414876262,
          0.24894587786111053,
          0.2449373089382295,
          0.2471287675501467,
          0.2474509419450001,
          0.246684846253754,
          0.24810056449524248,
          0.2525312434930384,
          0.25291297300315246,
          0.25498793319125096,
          0.25437375041126103,
          0.26091200253861774,
          0.24905992408612868,
          0.24382447585722566,
          0.23902228099167436,
          0.24819361193457934,
          0.24916554632867569,
          0.23525617631756182,
          0.23721192513175376,
          0.2311002384027681,
          0.22723088106225292,
          0.21630524686349517,
          0.19518577666403947,
          0.16288561926080555,
          0.24038086793399868,
          0.24003094103630873,
          0.24486663637878792,
          0.23946729234677194,
          0.2454295402530543,
          0.23215965734206456,
          0.23367074357074072,
          0.2266998782581146,
          0.20941601694884332,
          0.237999899528743,
          0.21559759136035123,
          0.20610538033375214,
          0.2045127491266055,
          0.17482104470391863,
          0.14885397392433108
         ],
         "yaxis": "y"
        },
        {
         "hovertemplate": "type=C<br>read=2<br>group=Twist<br>position=%{x}<br>mean=%{y}<extra></extra>",
         "legendgroup": "C",
         "marker": {
          "color": "#de2d26",
          "symbol": "circle"
         },
         "mode": "markers",
         "name": "C",
         "showlegend": false,
         "type": "scattergl",
         "x": [
          0,
          1,
          2,
          3,
          4,
          5,
          6,
          7,
          8,
          9,
          10,
          11,
          12,
          13,
          14,
          15,
          16,
          17,
          18,
          19,
          20,
          21,
          22,
          23,
          24,
          25,
          26,
          27,
          28,
          29,
          30,
          31,
          32,
          33,
          34,
          35,
          36,
          37,
          38,
          39,
          40,
          41,
          42,
          43,
          44,
          45,
          46,
          47,
          48,
          49,
          50,
          51,
          52,
          53,
          54,
          55,
          56,
          57,
          58,
          59,
          60,
          61,
          62,
          63,
          64,
          65,
          66,
          67,
          68,
          69,
          70,
          71,
          72,
          73,
          74,
          75,
          76,
          77,
          78,
          79,
          80,
          81,
          82,
          83,
          84,
          85,
          86,
          87,
          88,
          89,
          90,
          91,
          92,
          93,
          94,
          95,
          96,
          97,
          98,
          99,
          100,
          101,
          102,
          103,
          104,
          105,
          106,
          107
         ],
         "xaxis": "x2",
         "y": [
          0.49945902381175084,
          0.1037909996440667,
          0.34009438682972937,
          0.235915946557108,
          0.2608958044602975,
          0.22807748805812553,
          0.2571400057666038,
          0.26208625191777346,
          0.2716720025432317,
          0.253628639164532,
          0.2517694228883117,
          0.26735063480537025,
          0.2574111499419182,
          0.26576405567139183,
          0.2586260070583383,
          0.2542855688215693,
          0.2578703062982956,
          0.2624716988018055,
          0.26591001177959894,
          0.2559133524493753,
          0.258702419925241,
          0.274114567445705,
          0.2624836997119247,
          0.25462789740629405,
          0.2651037830407286,
          0.2628308270283607,
          0.2559049224311071,
          0.24995372198781277,
          0.26556159144254693,
          0.26275274789512043,
          0.2686483770699622,
          0.2693959102275316,
          0.2577207325575553,
          0.26943486062861316,
          0.27059897315527937,
          0.27431544792054513,
          0.25242472119775045,
          0.2622995669408877,
          0.2712471923031439,
          0.27250902423888984,
          0.26478947671051184,
          0.2581921774381123,
          0.25589959103712584,
          0.280840380698228,
          0.2667381920746173,
          0.25683992781289466,
          0.2628350471561242,
          0.25848164918491423,
          0.2754465086773425,
          0.25093382127200275,
          0.2635949260947255,
          0.26391688564427296,
          0.26197255032196404,
          0.25499547071769546,
          0.2589105193005153,
          0.2762308268463935,
          0.2650092354708695,
          0.27949480288649275,
          0.2788337861808339,
          0.26377336606705426,
          0.2641764207867014,
          0.2634851560578491,
          0.2768106480172912,
          0.26064840646183063,
          0.25433761109619923,
          0.2685296705799445,
          0.2716509690556792,
          0.2647869427954496,
          0.2696343974176651,
          0.2559802900245776,
          0.2522152961408339,
          0.2569167608421025,
          0.2644112124441915,
          0.2594295524520409,
          0.25013936563756345,
          0.2552786794827774,
          0.2598174542269128,
          0.25378716022774905,
          0.25254329922802354,
          0.2576507222745675,
          0.262052021993412,
          0.24991600440670372,
          0.24895952647610342,
          0.25163469958328655,
          0.2585158016501282,
          0.25303486766641053,
          0.26791370174658397,
          0.2562636167909376,
          0.2510656310831482,
          0.2564315309376561,
          0.2422567815306148,
          0.25075338080190207,
          0.26704279373803375,
          0.2533263840365858,
          0.26004272259795275,
          0.2513044775458054,
          0.25873779742051956,
          0.2643637013119282,
          0.24977791167854455,
          0.2610524587875671,
          0.24661340398041717,
          0.2536451083490684,
          0.24369430851403484,
          0.2684204499558385,
          0.27625077817374044,
          0.2360011035343544,
          0.1865187535142045,
          0.06358550445076849
         ],
         "yaxis": "y2"
        },
        {
         "hovertemplate": "type=G<br>read=1<br>group=Genscript<br>position=%{x}<br>mean=%{y}<extra></extra>",
         "legendgroup": "G",
         "marker": {
          "color": "#31a354",
          "symbol": "circle"
         },
         "mode": "markers",
         "name": "G",
         "showlegend": true,
         "type": "scattergl",
         "x": [
          0,
          1,
          2,
          3,
          4,
          5,
          6,
          7,
          8,
          9,
          10,
          11,
          12,
          13,
          14,
          15,
          16,
          17,
          18,
          19,
          20,
          21,
          22,
          23,
          24,
          25,
          26,
          27,
          28,
          29,
          30,
          31,
          32,
          33,
          34,
          35,
          36,
          37,
          38,
          39,
          40,
          41,
          42,
          43,
          44,
          45,
          46,
          47,
          48,
          49,
          50,
          51,
          52,
          53,
          54,
          55,
          56,
          57,
          58,
          59,
          60,
          61,
          62,
          63,
          64,
          65,
          66,
          67,
          68,
          69,
          70,
          71,
          72,
          73,
          74,
          75,
          76,
          77,
          78,
          79,
          80,
          81,
          82,
          83,
          84,
          85,
          86,
          87,
          88,
          89,
          90,
          91,
          92,
          93,
          94,
          95,
          96,
          97,
          98,
          99,
          100,
          101,
          102,
          103,
          104,
          105,
          106,
          107,
          108,
          109,
          110,
          111,
          112,
          113,
          114,
          115,
          116
         ],
         "xaxis": "x3",
         "y": [
          0.11574418999661756,
          0.16545637357317852,
          0.1944984849657665,
          0.20734600197764863,
          0.21875838340019796,
          0.23090248053589618,
          0.21608491543932673,
          0.22913404466634912,
          0.23483688455795876,
          0.2341187466792107,
          0.23878256776546075,
          0.2397670763904817,
          0.2537889658839858,
          0.24728005468230277,
          0.24399112842499318,
          0.2426192541388577,
          0.23882072879250704,
          0.2438187082756007,
          0.23774087245218953,
          0.23865346637531748,
          0.24198343328042457,
          0.23955551251286078,
          0.2509691869202091,
          0.24693062397831705,
          0.244496262147065,
          0.23639501189560336,
          0.23811819263483958,
          0.24052163747387892,
          0.24248398344529326,
          0.25005305966914126,
          0.24045773074900834,
          0.23404943604975353,
          0.23612631188016867,
          0.23707914620144763,
          0.23952768251718903,
          0.23569077195615395,
          0.2371462738096162,
          0.24328245042726132,
          0.24299299141289032,
          0.24738555316027422,
          0.24263835894753658,
          0.2457896319548242,
          0.2495891890217005,
          0.25888105022096,
          0.2539240813541314,
          0.24756817141879453,
          0.25360780464307453,
          0.247052557929255,
          0.25211312953191267,
          0.25141985268255657,
          0.25541491907419855,
          0.25937118402905796,
          0.2611955739988915,
          0.25825436195336265,
          0.2721065199057436,
          0.2639364564400707,
          0.2614197208354385,
          0.2558832261983457,
          0.25722992601484834,
          0.26200329728716976,
          0.2522374205896996,
          0.2530595847416231,
          0.245905124571449,
          0.2517462433988209,
          0.2563553861555782,
          0.250460359969563,
          0.24917691225617364,
          0.26042306947844374,
          0.2559617286685296,
          0.2586037092153341,
          0.25287638449911454,
          0.2583348781704105,
          0.25726076707916307,
          0.26196158301108186,
          0.26946992342771353,
          0.271064539747502,
          0.26382315547165197,
          0.2685331787162284,
          0.2620088470182267,
          0.25156245698757806,
          0.2546455612086377,
          0.24970836039711972,
          0.24022486048810285,
          0.21175523852500633,
          0.2579856258649023,
          0.2595552218678606,
          0.2608520146409632,
          0.2609359643876932,
          0.2633909743205962,
          0.15642562248529943,
          0.26376370972306157,
          0.2538159261238292,
          0.2585404601125827,
          0.26771168697823483,
          0.270791464646594,
          0.27712093154429346,
          0.2690280504917493,
          0.26384126534573227,
          0.2614355789603485,
          0.26991487769370004,
          0.25562817551672123,
          0.25151461583096624,
          0.2635918390766414,
          0.25163522380824344,
          0.2658067887342386,
          0.25544387875286745,
          0.26231187998199074,
          0.2625664165898227,
          0.2574609114064822,
          0.26155175595924657,
          0.2651716812408113,
          0.25195521759501804,
          0.2625295265216517,
          0.2611483002453119,
          0.26980235004924663,
          0.2326492189538235,
          0.24732720185319382
         ],
         "yaxis": "y3"
        },
        {
         "hovertemplate": "type=G<br>read=1<br>group=Twist<br>position=%{x}<br>mean=%{y}<extra></extra>",
         "legendgroup": "G",
         "marker": {
          "color": "#31a354",
          "symbol": "circle"
         },
         "mode": "markers",
         "name": "G",
         "showlegend": false,
         "type": "scattergl",
         "x": [
          0,
          1,
          2,
          3,
          4,
          5,
          6,
          7,
          8,
          9,
          10,
          11,
          12,
          13,
          14,
          15,
          16,
          17,
          18,
          19,
          20,
          21,
          22,
          23,
          24,
          25,
          26,
          27,
          28,
          29,
          30,
          31,
          32,
          33,
          34,
          35,
          36,
          37,
          38,
          39,
          40,
          41,
          42,
          43,
          44,
          45,
          46,
          47,
          48,
          49,
          50,
          51,
          52,
          53,
          54,
          55,
          56,
          57,
          58,
          59,
          60,
          61,
          62,
          63,
          64,
          65,
          66,
          67,
          68,
          69,
          70,
          71,
          72,
          73,
          74,
          75,
          76,
          77,
          78,
          79,
          80,
          81,
          82,
          83,
          84,
          85,
          86,
          87,
          88,
          89,
          90,
          91,
          92,
          93,
          94,
          95,
          96,
          97,
          98,
          99,
          100,
          101,
          102,
          103,
          104,
          105,
          106,
          107
         ],
         "xaxis": "x4",
         "y": [
          0.11257763669569423,
          0.20746609107556893,
          0.23848858829973632,
          0.25815325053796057,
          0.2838061950913428,
          0.2606512085284244,
          0.26458808227277103,
          0.26550379520059436,
          0.266903635981154,
          0.2531005470329448,
          0.2696856630215515,
          0.27064597261545353,
          0.2546859177974519,
          0.27149661058088986,
          0.26521376591834916,
          0.2783411290592228,
          0.2641332465162961,
          0.24326990074581156,
          0.2563986134808767,
          0.26052000801933517,
          0.2619797230170083,
          0.2744271098648092,
          0.26412092080153327,
          0.2569566525621109,
          0.2627446619489671,
          0.25662165180476487,
          0.2563026931186444,
          0.25888412138286304,
          0.25959332765201726,
          0.25966636587906466,
          0.2567140919577691,
          0.26327421681109425,
          0.2573815608265799,
          0.25516299262556424,
          0.268166810887158,
          0.270846918014825,
          0.2639081317560897,
          0.2585928143111048,
          0.2556071470310907,
          0.2598559364957863,
          0.2787580460249843,
          0.27687916086157255,
          0.2716838906097902,
          0.26286111500177295,
          0.2604583406846113,
          0.27784235714038474,
          0.2699963100740737,
          0.27991796391096013,
          0.2626142381914358,
          0.2758253207429972,
          0.287604834548498,
          0.2633323739943579,
          0.27277248238522794,
          0.26674097607163866,
          0.26149009175759486,
          0.274669788914655,
          0.2745620395168106,
          0.2734482531985902,
          0.2605847259766615,
          0.2734205258273706,
          0.2672444602314966,
          0.2735661879626317,
          0.26549189578732896,
          0.2652491039522252,
          0.28186547448425864,
          0.26679858506415655,
          0.26599732066618403,
          0.27024487776527645,
          0.2729823458499357,
          0.27683211261149415,
          0.2642536297419326,
          0.255694528973549,
          0.27091024437036443,
          0.2689129137885551,
          0.2649216270722292,
          0.2639300154414323,
          0.2745593163493349,
          0.28704830850597185,
          0.2627865270219784,
          0.2718120627966012,
          0.27356869158069097,
          0.26109114541170286,
          0.2613025579801691,
          0.2637135479195953,
          0.26110848149254645,
          0.2616574542692878,
          0.2784753582442262,
          0.25098007911355497,
          0.2621190820466863,
          0.26394094003488067,
          0.25846995986731974,
          0.261202091517988,
          0.2591080187008626,
          0.2401141782478241,
          0.29780006285766586,
          0.25285248809182365,
          0.2554120583717703,
          0.2420612465217159,
          0.3855878072165011,
          0.3798728955103533,
          0.34979575353845255,
          0.25433035146784627,
          0.239021382685058,
          0.22359955941250728,
          0.2157410472216129,
          0.2678229941113562,
          0.25339765745878623,
          0.3299648363196784
         ],
         "yaxis": "y4"
        },
        {
         "hovertemplate": "type=G<br>read=2<br>group=Genscript<br>position=%{x}<br>mean=%{y}<extra></extra>",
         "legendgroup": "G",
         "marker": {
          "color": "#31a354",
          "symbol": "circle"
         },
         "mode": "markers",
         "name": "G",
         "showlegend": false,
         "type": "scattergl",
         "x": [
          0,
          1,
          2,
          3,
          4,
          5,
          6,
          7,
          8,
          9,
          10,
          11,
          12,
          13,
          14,
          15,
          16,
          17,
          18,
          19,
          20,
          21,
          22,
          23,
          24,
          25,
          26,
          27,
          28,
          29,
          30,
          31,
          32,
          33,
          34,
          35,
          36,
          37,
          38,
          39,
          40,
          41,
          42,
          43,
          44,
          45,
          46,
          47,
          48,
          49,
          50,
          51,
          52,
          53,
          54,
          55,
          56,
          57,
          58,
          59,
          60,
          61,
          62,
          63,
          64,
          65,
          66,
          67,
          68,
          69,
          70,
          71,
          72,
          73,
          74,
          75,
          76,
          77,
          78,
          79,
          80,
          81,
          82,
          83,
          84,
          85,
          86,
          87,
          88,
          89,
          90,
          91,
          92,
          93,
          94,
          95,
          96,
          97,
          98,
          99,
          100,
          101,
          102,
          103,
          104,
          105,
          106,
          107,
          108,
          109,
          110,
          111,
          112,
          113,
          114,
          115,
          116
         ],
         "xaxis": "x",
         "y": [
          0.1289137725825751,
          0.22245932290105547,
          0.25151587905637274,
          0.2512450826124712,
          0.2523568417495394,
          0.26004988913902516,
          0.24110024193971769,
          0.2522955439211275,
          0.2556934610082657,
          0.2635138574152346,
          0.25801622558227716,
          0.25314575270103395,
          0.18952369607831976,
          0.6111729037445677,
          0.2684624525097302,
          0.25816999368558907,
          0.6068556761623813,
          0.25786145642368347,
          0.19966364984560345,
          0.23379535039554575,
          0.24042697939476354,
          0.24414006984695813,
          0.2562553089071483,
          0.25339898282666307,
          0.256231904793774,
          0.24948055421161164,
          0.2497788457510745,
          0.24788539277254995,
          0.24420977938947494,
          0.23341208501052507,
          0.23768672186244116,
          0.25144901009402504,
          0.24441075194647444,
          0.24477717080788572,
          0.2512484387629417,
          0.24863492960268724,
          0.2526139798746396,
          0.2592983801651229,
          0.25573579705700683,
          0.25312872566547656,
          0.2569405115593941,
          0.24632265124736114,
          0.2560216669166229,
          0.24238859509231994,
          0.2442094283656238,
          0.2461050226215542,
          0.24206856302326957,
          0.24420998837180777,
          0.24666569591140436,
          0.25062031559449405,
          0.2577656607446168,
          0.24032008159186347,
          0.2537017500765311,
          0.2508441842116792,
          0.2470023801753365,
          0.25101846577144604,
          0.24984580855974603,
          0.23527533538168788,
          0.24188661075674212,
          0.24467377300224663,
          0.24641544401960633,
          0.2361486490676229,
          0.24417705629296976,
          0.24291068627876058,
          0.24201766601869124,
          0.246868362289988,
          0.24736964740898446,
          0.25047209107329527,
          0.2509226403024153,
          0.2545964417382346,
          0.252223025246635,
          0.25957762935228285,
          0.2544881486438064,
          0.2493410739630427,
          0.2528410892766879,
          0.24793543610143692,
          0.25237783220108556,
          0.2479069994828738,
          0.2486998342850069,
          0.24556652775262897,
          0.23663889770339216,
          0.24687167759958828,
          0.24194027709677138,
          0.24150006535913326,
          0.24641519458708608,
          0.23354796369033784,
          0.23983411378485892,
          0.2435322884204799,
          0.23570436994734614,
          0.23064383327163943,
          0.23229561298346338,
          0.24208830250510857,
          0.23071439203315203,
          0.24146028233656072,
          0.2434700275312385,
          0.24576213980035413,
          0.24837695289066902,
          0.2557062143532449,
          0.25667454630114866,
          0.2857917244343241,
          0.2665398245832708,
          0.3587770812613686,
          0.24248910021826475,
          0.2571567985724108,
          0.25291231917139523,
          0.25221458895621546,
          0.23542837616199178,
          0.2510825122796208,
          0.2528398140166643,
          0.2607397196445556,
          0.2590517521565511,
          0.247833532813199,
          0.26349478841335044,
          0.27228266573589166,
          0.27611448395236904,
          0.2665252055106487,
          0.31556828244817514
         ],
         "yaxis": "y"
        },
        {
         "hovertemplate": "type=G<br>read=2<br>group=Twist<br>position=%{x}<br>mean=%{y}<extra></extra>",
         "legendgroup": "G",
         "marker": {
          "color": "#31a354",
          "symbol": "circle"
         },
         "mode": "markers",
         "name": "G",
         "showlegend": false,
         "type": "scattergl",
         "x": [
          0,
          1,
          2,
          3,
          4,
          5,
          6,
          7,
          8,
          9,
          10,
          11,
          12,
          13,
          14,
          15,
          16,
          17,
          18,
          19,
          20,
          21,
          22,
          23,
          24,
          25,
          26,
          27,
          28,
          29,
          30,
          31,
          32,
          33,
          34,
          35,
          36,
          37,
          38,
          39,
          40,
          41,
          42,
          43,
          44,
          45,
          46,
          47,
          48,
          49,
          50,
          51,
          52,
          53,
          54,
          55,
          56,
          57,
          58,
          59,
          60,
          61,
          62,
          63,
          64,
          65,
          66,
          67,
          68,
          69,
          70,
          71,
          72,
          73,
          74,
          75,
          76,
          77,
          78,
          79,
          80,
          81,
          82,
          83,
          84,
          85,
          86,
          87,
          88,
          89,
          90,
          91,
          92,
          93,
          94,
          95,
          96,
          97,
          98,
          99,
          100,
          101,
          102,
          103,
          104,
          105,
          106,
          107
         ],
         "xaxis": "x2",
         "y": [
          0.04598350409010365,
          0.14091534357768493,
          0.19849280535954844,
          0.24313364137807636,
          0.2543095626787244,
          0.260477734659971,
          0.24429861166012748,
          0.24865445943437925,
          0.23785717499292244,
          0.25907181737717927,
          0.24648744589949523,
          0.2471876065390731,
          0.24639410238798257,
          0.2486088811629639,
          0.24758803343974273,
          0.24397546971221679,
          0.2612333922680656,
          0.24281098287153452,
          0.2448001773399522,
          0.2626348082527908,
          0.23982398531735158,
          0.24517214205197357,
          0.23926349997914126,
          0.2406547354378317,
          0.2388426583178186,
          0.245730996408225,
          0.24245810190936384,
          0.24692441593849465,
          0.2436724071635142,
          0.25987149267621573,
          0.24101014395325862,
          0.23987199520482774,
          0.23907991986940916,
          0.2421764714961245,
          0.2380396910214877,
          0.24714026969612385,
          0.2465320441786032,
          0.24638387007332965,
          0.2334351091508477,
          0.24493865501866666,
          0.2379963265731468,
          0.24331961195294272,
          0.23543380522182303,
          0.24766782030300094,
          0.24911362312326657,
          0.2426831899167273,
          0.23726806927223232,
          0.23808545662088323,
          0.230836425461311,
          0.247070944662381,
          0.2450235932379396,
          0.25823104233861305,
          0.23523511287131643,
          0.24758924326592055,
          0.2529543278215089,
          0.246148470454596,
          0.2374476677001602,
          0.2429472085656763,
          0.25187444789311575,
          0.23588981175304122,
          0.25140680538531857,
          0.24649223206658535,
          0.22913148656486396,
          0.2495087995553246,
          0.23998508573766816,
          0.24415381759317126,
          0.23444383039070418,
          0.23876142450576518,
          0.2358952159627526,
          0.24972099737096343,
          0.2616961694066045,
          0.24817519533845822,
          0.24919619897445935,
          0.23733266782062878,
          0.24437379821801902,
          0.2512361467417667,
          0.24254902118621607,
          0.25628773396236065,
          0.2495879793053734,
          0.25135690617002876,
          0.24560473443627207,
          0.26277630609930325,
          0.2518417355381602,
          0.248934833108014,
          0.24786463561667274,
          0.25768012634428444,
          0.24972471111298414,
          0.25160912255142887,
          0.24955635512864738,
          0.24359060244099862,
          0.27407030448518366,
          0.23922603900774647,
          0.24702381366728401,
          0.24586071302863421,
          0.2466109483572846,
          0.2542867094207978,
          0.24580995216321877,
          0.23310799620077713,
          0.24748708102842165,
          0.2377464986774571,
          0.2529087825936523,
          0.25142096081519305,
          0.2621013333898693,
          0.21066698032394623,
          0.23547979814897416,
          0.255864722416828,
          0.26065040773611486,
          0.11274108290269629
         ],
         "yaxis": "y2"
        },
        {
         "hovertemplate": "type=T<br>read=1<br>group=Genscript<br>position=%{x}<br>mean=%{y}<extra></extra>",
         "legendgroup": "T",
         "marker": {
          "color": "#756bb1",
          "symbol": "circle"
         },
         "mode": "markers",
         "name": "T",
         "showlegend": true,
         "type": "scattergl",
         "x": [
          0,
          1,
          2,
          3,
          4,
          5,
          6,
          7,
          8,
          9,
          10,
          11,
          12,
          13,
          14,
          15,
          16,
          17,
          18,
          19,
          20,
          21,
          22,
          23,
          24,
          25,
          26,
          27,
          28,
          29,
          30,
          31,
          32,
          33,
          34,
          35,
          36,
          37,
          38,
          39,
          40,
          41,
          42,
          43,
          44,
          45,
          46,
          47,
          48,
          49,
          50,
          51,
          52,
          53,
          54,
          55,
          56,
          57,
          58,
          59,
          60,
          61,
          62,
          63,
          64,
          65,
          66,
          67,
          68,
          69,
          70,
          71,
          72,
          73,
          74,
          75,
          76,
          77,
          78,
          79,
          80,
          81,
          82,
          83,
          84,
          85,
          86,
          87,
          88,
          89,
          90,
          91,
          92,
          93,
          94,
          95,
          96,
          97,
          98,
          99,
          100,
          101,
          102,
          103,
          104,
          105,
          106,
          107,
          108,
          109,
          110,
          111,
          112,
          113,
          114,
          115,
          116
         ],
         "xaxis": "x3",
         "y": [
          0.3051974872179821,
          0.38112730965160463,
          0.29364881313364616,
          0.2848667636404964,
          0.2711447821560612,
          0.2680484498645725,
          0.26878136684684323,
          0.2565435549098355,
          0.2654960830198869,
          0.25485704318141944,
          0.2618667377353475,
          0.2522487393555498,
          0.25075145945601346,
          0.2559306776259755,
          0.25165486207624455,
          0.25655053292225516,
          0.2479720328751992,
          0.2460060075948811,
          0.2545074129081317,
          0.2563046656933129,
          0.2500300088492742,
          0.26205265106476044,
          0.24321750966184344,
          0.24794699683134572,
          0.26389823435475435,
          0.25608897275776166,
          0.2579706270236887,
          0.2653929036406196,
          0.2558173007572511,
          0.25728387212887516,
          0.2547700462743367,
          0.26547723163335024,
          0.26349797740989195,
          0.2570230491728982,
          0.2547487030208927,
          0.25911975281588406,
          0.2629118380248599,
          0.266563297914429,
          0.2501060988067048,
          0.25168261668701647,
          0.25825764636256543,
          0.24657759478590258,
          0.23581006566082335,
          0.24373690499309977,
          0.2475489443074848,
          0.24214140298953465,
          0.24051190166430678,
          0.24956496869497147,
          0.24757499799192395,
          0.24860766784002195,
          0.24344518657898942,
          0.2496475191811308,
          0.24065960165482767,
          0.24869423199058904,
          0.25032813119036357,
          0.2419539905890277,
          0.2510833797822267,
          0.24804057105732966,
          0.25037617974207355,
          0.24218843619158173,
          0.25116508687562433,
          0.24812445435013272,
          0.24964478438911464,
          0.24162261790229506,
          0.2375176008630783,
          0.25183501312326,
          0.243421721130699,
          0.2348268608907899,
          0.24507056847996658,
          0.24165115737478965,
          0.24307356375564182,
          0.24510683030962344,
          0.25168977736238574,
          0.25128459276251375,
          0.24450623492112727,
          0.25164130230685633,
          0.24450006608893193,
          0.24365485961508662,
          0.25102927788354246,
          0.25150222353868845,
          0.23979955735941966,
          0.24657602146539653,
          0.23153848980963132,
          0.2334831502367164,
          0.2533742940015456,
          0.24328880776802667,
          0.2528497983113382,
          0.2396369742102936,
          0.2391796074102344,
          0.2666328245722724,
          0.22385079442974776,
          0.23963306630598596,
          0.23226965279676817,
          0.22969094517103486,
          0.22876993231697182,
          0.23143928913121764,
          0.2398042362770002,
          0.24969042896414115,
          0.24203657369484077,
          0.23364186753822294,
          0.23188520672995128,
          0.18767299626461215,
          0.2267570442492034,
          0.23705554967681822,
          0.23247700495828452,
          0.239194749163085,
          0.23702217420372484,
          0.22898964689481272,
          0.22579027054570616,
          0.2321369726606373,
          0.2356203595344834,
          0.24073199676892512,
          0.25055578071209683,
          0.24712533223228025,
          0.22421033413327024,
          0.2052981306959215,
          0.1379174784346147
         ],
         "yaxis": "y3"
        },
        {
         "hovertemplate": "type=T<br>read=1<br>group=Twist<br>position=%{x}<br>mean=%{y}<extra></extra>",
         "legendgroup": "T",
         "marker": {
          "color": "#756bb1",
          "symbol": "circle"
         },
         "mode": "markers",
         "name": "T",
         "showlegend": false,
         "type": "scattergl",
         "x": [
          0,
          1,
          2,
          3,
          4,
          5,
          6,
          7,
          8,
          9,
          10,
          11,
          12,
          13,
          14,
          15,
          16,
          17,
          18,
          19,
          20,
          21,
          22,
          23,
          24,
          25,
          26,
          27,
          28,
          29,
          30,
          31,
          32,
          33,
          34,
          35,
          36,
          37,
          38,
          39,
          40,
          41,
          42,
          43,
          44,
          45,
          46,
          47,
          48,
          49,
          50,
          51,
          52,
          53,
          54,
          55,
          56,
          57,
          58,
          59,
          60,
          61,
          62,
          63,
          64,
          65,
          66,
          67,
          68,
          69,
          70,
          71,
          72,
          73,
          74,
          75,
          76,
          77,
          78,
          79,
          80,
          81,
          82,
          83,
          84,
          85,
          86,
          87,
          88,
          89,
          90,
          91,
          92,
          93,
          94,
          95,
          96,
          97,
          98,
          99,
          100,
          101,
          102,
          103,
          104,
          105,
          106,
          107
         ],
         "xaxis": "x4",
         "y": [
          0.4687089275924327,
          0.44683259097507916,
          0.27944686999454577,
          0.2738015385223042,
          0.24302842093285293,
          0.2522519344758904,
          0.26300535667466707,
          0.2467676852324268,
          0.2559178872718572,
          0.25265639703246306,
          0.2552154840962623,
          0.2587700015170649,
          0.24740111662055767,
          0.25331367706841523,
          0.2601276052394126,
          0.24540254588928992,
          0.2603565843358402,
          0.2628452761962276,
          0.26239837958057444,
          0.25177768280091145,
          0.2591514266943276,
          0.2529247737972875,
          0.25262290829230777,
          0.2525607747628492,
          0.25684563584975995,
          0.25596165455585473,
          0.24611967123886025,
          0.23992103375497847,
          0.24071867687415846,
          0.24826985830154882,
          0.2608568588251971,
          0.25547599134317395,
          0.2452848083640733,
          0.2508599974431691,
          0.2519822997544808,
          0.2508514554348633,
          0.25497908531280133,
          0.24249733658019723,
          0.2594138553732192,
          0.2527497849146632,
          0.2516798406959728,
          0.2436389195717446,
          0.262893343627884,
          0.26074395744921186,
          0.2619888994495135,
          0.26583935246524343,
          0.24886987948041545,
          0.2432078081392751,
          0.26613883711594527,
          0.2371863704276424,
          0.23861516286216472,
          0.2646357127568175,
          0.238652090419946,
          0.25507329125335587,
          0.24876048951114446,
          0.25985530061139445,
          0.24681557127583176,
          0.2566268685734387,
          0.23942603337254312,
          0.25328477970214874,
          0.2532553427547936,
          0.2558388656101331,
          0.24836780825142724,
          0.25349230809228485,
          0.24245765780201609,
          0.24763167221840607,
          0.2597315731906498,
          0.24747972985652214,
          0.24572072859278968,
          0.25041985518016463,
          0.259240093313446,
          0.2453635891466434,
          0.2465326705097418,
          0.24453411720176838,
          0.25588873136798235,
          0.2600479160702247,
          0.25696595920987253,
          0.24518149603316652,
          0.24714824907510266,
          0.23914403961705266,
          0.2593339963170754,
          0.2518637755706759,
          0.24921300974981228,
          0.24986567892529674,
          0.25089390873130885,
          0.2487867024548813,
          0.23900604666112749,
          0.2557690089725249,
          0.24325721608336268,
          0.24805951608963409,
          0.25385581979087246,
          0.25125500226201103,
          0.2552531805737653,
          0.240965071313634,
          0.2334910331768646,
          0.24932987483437366,
          0.2792092797035371,
          0.24440764310726754,
          0.21337178140654967,
          0.20767885825482307,
          0.200958207798491,
          0.23449937000725996,
          0.24207627063897552,
          0.2650478030810135,
          0.22740746529115008,
          0.18063331968098162,
          0.15075989019460392,
          0.10447627815996632
         ],
         "yaxis": "y4"
        },
        {
         "hovertemplate": "type=T<br>read=2<br>group=Genscript<br>position=%{x}<br>mean=%{y}<extra></extra>",
         "legendgroup": "T",
         "marker": {
          "color": "#756bb1",
          "symbol": "circle"
         },
         "mode": "markers",
         "name": "T",
         "showlegend": false,
         "type": "scattergl",
         "x": [
          0,
          1,
          2,
          3,
          4,
          5,
          6,
          7,
          8,
          9,
          10,
          11,
          12,
          13,
          14,
          15,
          16,
          17,
          18,
          19,
          20,
          21,
          22,
          23,
          24,
          25,
          26,
          27,
          28,
          29,
          30,
          31,
          32,
          33,
          34,
          35,
          36,
          37,
          38,
          39,
          40,
          41,
          42,
          43,
          44,
          45,
          46,
          47,
          48,
          49,
          50,
          51,
          52,
          53,
          54,
          55,
          56,
          57,
          58,
          59,
          60,
          61,
          62,
          63,
          64,
          65,
          66,
          67,
          68,
          69,
          70,
          71,
          72,
          73,
          74,
          75,
          76,
          77,
          78,
          79,
          80,
          81,
          82,
          83,
          84,
          85,
          86,
          87,
          88,
          89,
          90,
          91,
          92,
          93,
          94,
          95,
          96,
          97,
          98,
          99,
          100,
          101,
          102,
          103,
          104,
          105,
          106,
          107,
          108,
          109,
          110,
          111,
          112,
          113,
          114,
          115,
          116
         ],
         "xaxis": "x",
         "y": [
          0.49244927688995555,
          0.3358060532720343,
          0.25444596185924295,
          0.24267391236110633,
          0.23208251990727174,
          0.24128426518807272,
          0.24613474685965536,
          0.23998279145158286,
          0.25016595283787996,
          0.24135407332746148,
          0.23931924861323092,
          0.23619918134171888,
          0.3347980583759132,
          0.24466338999469814,
          0.6000815122511888,
          0.5982684487582958,
          0.2331175938880319,
          0.5960835674381664,
          0.4312888414459537,
          0.3088477285610624,
          0.27072577105629037,
          0.26167364818933736,
          0.24927942419282706,
          0.24930742316865526,
          0.25345047970124396,
          0.24595527240718779,
          0.2400503207427745,
          0.24385996670102786,
          0.24607559395445774,
          0.2549522215193124,
          0.25272840109326733,
          0.2483726684291506,
          0.25069620619921174,
          0.25050935206054664,
          0.2503640429656344,
          0.24804025047796543,
          0.24898891269788112,
          0.24382972875581643,
          0.24233021444227554,
          0.24028000436194474,
          0.23667947009933593,
          0.24721672549791057,
          0.24040021393502253,
          0.24449557766537278,
          0.24791697278813493,
          0.24820996164532735,
          0.2561607152981101,
          0.24886378696180533,
          0.2541541900795697,
          0.2491005007525508,
          0.24316532387866013,
          0.25178225010546706,
          0.25065322289693354,
          0.2526578867288074,
          0.258938309715604,
          0.2527048366994822,
          0.25224150918231697,
          0.2584594620762509,
          0.25257058991365217,
          0.26135883102413876,
          0.2555872880653452,
          0.2544369128534896,
          0.245575135026218,
          0.24280154047350747,
          0.24760231850771597,
          0.2597676221184027,
          0.2545126836380915,
          0.25594573993898506,
          0.25309425226954535,
          0.2530876307927658,
          0.24436151564916098,
          0.2524723309642071,
          0.24150180910719315,
          0.24922651721461597,
          0.2508958820600804,
          0.2595839884431077,
          0.2593954254046427,
          0.25007690352076883,
          0.25310275318764625,
          0.2496637018714246,
          0.2584455824546822,
          0.25038534586144806,
          0.2576548164087126,
          0.25157243004581664,
          0.25500123248719575,
          0.2636592617564407,
          0.255810071214679,
          0.2565997455005848,
          0.26161417569216205,
          0.2574360034185545,
          0.2629349735247203,
          0.26920568579217463,
          0.27101892826153795,
          0.2616274392278167,
          0.26423440187354624,
          0.26334701288553236,
          0.257202497678759,
          0.26595318863796735,
          0.2552192036991365,
          0.23677657914664263,
          0.22618107659320838,
          0.23885597107656248,
          0.2600595429004853,
          0.2468284944504645,
          0.25213281130781556,
          0.2563921306357387,
          0.2539122955146349,
          0.25151010886321923,
          0.24934977860627663,
          0.2505692462582218,
          0.25021796560285187,
          0.23945966605044638,
          0.23308982965615538,
          0.22616034416892283,
          0.21418036577171398,
          0.17537066217766362,
          0.15277497632184853
         ],
         "yaxis": "y"
        },
        {
         "hovertemplate": "type=T<br>read=2<br>group=Twist<br>position=%{x}<br>mean=%{y}<extra></extra>",
         "legendgroup": "T",
         "marker": {
          "color": "#756bb1",
          "symbol": "circle"
         },
         "mode": "markers",
         "name": "T",
         "showlegend": false,
         "type": "scattergl",
         "x": [
          0,
          1,
          2,
          3,
          4,
          5,
          6,
          7,
          8,
          9,
          10,
          11,
          12,
          13,
          14,
          15,
          16,
          17,
          18,
          19,
          20,
          21,
          22,
          23,
          24,
          25,
          26,
          27,
          28,
          29,
          30,
          31,
          32,
          33,
          34,
          35,
          36,
          37,
          38,
          39,
          40,
          41,
          42,
          43,
          44,
          45,
          46,
          47,
          48,
          49,
          50,
          51,
          52,
          53,
          54,
          55,
          56,
          57,
          58,
          59,
          60,
          61,
          62,
          63,
          64,
          65,
          66,
          67,
          68,
          69,
          70,
          71,
          72,
          73,
          74,
          75,
          76,
          77,
          78,
          79,
          80,
          81,
          82,
          83,
          84,
          85,
          86,
          87,
          88,
          89,
          90,
          91,
          92,
          93,
          94,
          95,
          96,
          97,
          98,
          99,
          100,
          101,
          102,
          103,
          104,
          105,
          106,
          107
         ],
         "xaxis": "x2",
         "y": [
          0.4041914367796408,
          0.6229688409302078,
          0.2719686130723021,
          0.27635165097135556,
          0.22976033857940772,
          0.2583960302723263,
          0.2500257202988526,
          0.24471940797089967,
          0.24160669023015197,
          0.23698331210267617,
          0.2475465369185284,
          0.2404119273928414,
          0.23790915120319298,
          0.24028601225930996,
          0.24259603010373476,
          0.24299420826954024,
          0.23648973960133501,
          0.24439260349256087,
          0.23461102645118614,
          0.23411647978198047,
          0.24460454889416117,
          0.2375331512009738,
          0.24729031543351782,
          0.2545429135721165,
          0.24549540401184167,
          0.242259819277013,
          0.2548031042453211,
          0.23740900907678364,
          0.2414367458887031,
          0.23419348313980357,
          0.24369380960780251,
          0.2351633183929918,
          0.2447916261495096,
          0.22885104925009744,
          0.2434018543488793,
          0.2287255029964032,
          0.24591270686916386,
          0.24183293889118626,
          0.2391290340966818,
          0.23715056453663194,
          0.24099780054792364,
          0.226061472300517,
          0.2519723027443803,
          0.2264827743885549,
          0.22579935194113102,
          0.24630125171274386,
          0.23666846664669935,
          0.23582854304180137,
          0.2341830118016035,
          0.2527533783985552,
          0.23746627200627052,
          0.2319466204274615,
          0.2378427608099994,
          0.24583763871269032,
          0.22685219589314157,
          0.22852350410141778,
          0.23826761259548454,
          0.2339794666529821,
          0.23294617860703537,
          0.24193987481725968,
          0.23564509288307303,
          0.2337463411530088,
          0.22980792610096082,
          0.22746602325370813,
          0.22765307851499267,
          0.2332813651579551,
          0.2424617151600218,
          0.23531004662474989,
          0.2352632178225461,
          0.24173768512191354,
          0.23552695536780854,
          0.2431704720037988,
          0.23350198710653086,
          0.23442599786255258,
          0.23629852601282195,
          0.23691072680382075,
          0.24197789797494007,
          0.23730532290475725,
          0.2353852488999588,
          0.24302039291439606,
          0.2491981432275017,
          0.2321095178887542,
          0.2389170302371781,
          0.24359057805441353,
          0.22934433134624668,
          0.23248945360372486,
          0.23360104545662563,
          0.23476402443236302,
          0.23543989678114377,
          0.23976526604412787,
          0.22378818122881364,
          0.23888710482027434,
          0.23116879088231015,
          0.230577437020537,
          0.23245827170349395,
          0.23946607948140833,
          0.22671513207795907,
          0.2378956580010514,
          0.2434529063967685,
          0.22787342553504414,
          0.23257190966006946,
          0.21981458945330143,
          0.2296989639966303,
          0.26558261556004825,
          0.2368862031808958,
          0.22002542754414886,
          0.2002662234434545,
          0.06613305095802126
         ],
         "yaxis": "y2"
        }
       ],
       "layout": {
        "annotations": [
         {
          "showarrow": false,
          "text": "group=Genscript",
          "x": 0.24,
          "xanchor": "center",
          "xref": "paper",
          "y": 1,
          "yanchor": "bottom",
          "yref": "paper"
         },
         {
          "showarrow": false,
          "text": "group=Twist",
          "x": 0.74,
          "xanchor": "center",
          "xref": "paper",
          "y": 1,
          "yanchor": "bottom",
          "yref": "paper"
         },
         {
          "showarrow": false,
          "text": "read=2",
          "textangle": 90,
          "x": 0.98,
          "xanchor": "left",
          "xref": "paper",
          "y": 0.2425,
          "yanchor": "middle",
          "yref": "paper"
         },
         {
          "showarrow": false,
          "text": "read=1",
          "textangle": 90,
          "x": 0.98,
          "xanchor": "left",
          "xref": "paper",
          "y": 0.7575000000000001,
          "yanchor": "middle",
          "yref": "paper"
         }
        ],
        "font": {
         "family": "Inter"
        },
        "height": 330,
        "legend": {
         "font": {
          "size": 9.333333333333334
         },
         "title": {
          "text": "type"
         },
         "tracegroupgap": 0
        },
        "margin": {
         "b": 0,
         "l": 0,
         "r": 20,
         "t": 20
        },
        "shapes": [
         {
          "line": {
           "dash": "dot",
           "width": 2
          },
          "type": "line",
          "x0": 0,
          "x1": 1,
          "xref": "x domain",
          "y0": 0.25,
          "y1": 0.25,
          "yref": "y"
         },
         {
          "line": {
           "dash": "dot",
           "width": 2
          },
          "type": "line",
          "x0": 0,
          "x1": 1,
          "xref": "x2 domain",
          "y0": 0.25,
          "y1": 0.25,
          "yref": "y2"
         },
         {
          "line": {
           "dash": "dot",
           "width": 2
          },
          "type": "line",
          "x0": 0,
          "x1": 1,
          "xref": "x3 domain",
          "y0": 0.25,
          "y1": 0.25,
          "yref": "y3"
         },
         {
          "line": {
           "dash": "dot",
           "width": 2
          },
          "type": "line",
          "x0": 0,
          "x1": 1,
          "xref": "x4 domain",
          "y0": 0.25,
          "y1": 0.25,
          "yref": "y4"
         }
        ],
        "showlegend": false,
        "template": {
         "data": {
          "bar": [
           {
            "error_x": {
             "color": "rgb(36,36,36)"
            },
            "error_y": {
             "color": "rgb(36,36,36)"
            },
            "marker": {
             "line": {
              "color": "white",
              "width": 0.5
             },
             "pattern": {
              "fillmode": "overlay",
              "size": 10,
              "solidity": 0.2
             }
            },
            "type": "bar"
           }
          ],
          "barpolar": [
           {
            "marker": {
             "line": {
              "color": "white",
              "width": 0.5
             },
             "pattern": {
              "fillmode": "overlay",
              "size": 10,
              "solidity": 0.2
             }
            },
            "type": "barpolar"
           }
          ],
          "carpet": [
           {
            "aaxis": {
             "endlinecolor": "rgb(36,36,36)",
             "gridcolor": "white",
             "linecolor": "white",
             "minorgridcolor": "white",
             "startlinecolor": "rgb(36,36,36)"
            },
            "baxis": {
             "endlinecolor": "rgb(36,36,36)",
             "gridcolor": "white",
             "linecolor": "white",
             "minorgridcolor": "white",
             "startlinecolor": "rgb(36,36,36)"
            },
            "type": "carpet"
           }
          ],
          "choropleth": [
           {
            "colorbar": {
             "outlinewidth": 1,
             "tickcolor": "rgb(36,36,36)",
             "ticks": "outside"
            },
            "type": "choropleth"
           }
          ],
          "contour": [
           {
            "colorbar": {
             "outlinewidth": 1,
             "tickcolor": "rgb(36,36,36)",
             "ticks": "outside"
            },
            "colorscale": [
             [
              0,
              "#440154"
             ],
             [
              0.1111111111111111,
              "#482878"
             ],
             [
              0.2222222222222222,
              "#3e4989"
             ],
             [
              0.3333333333333333,
              "#31688e"
             ],
             [
              0.4444444444444444,
              "#26828e"
             ],
             [
              0.5555555555555556,
              "#1f9e89"
             ],
             [
              0.6666666666666666,
              "#35b779"
             ],
             [
              0.7777777777777778,
              "#6ece58"
             ],
             [
              0.8888888888888888,
              "#b5de2b"
             ],
             [
              1,
              "#fde725"
             ]
            ],
            "type": "contour"
           }
          ],
          "contourcarpet": [
           {
            "colorbar": {
             "outlinewidth": 1,
             "tickcolor": "rgb(36,36,36)",
             "ticks": "outside"
            },
            "type": "contourcarpet"
           }
          ],
          "heatmap": [
           {
            "colorbar": {
             "outlinewidth": 1,
             "tickcolor": "rgb(36,36,36)",
             "ticks": "outside"
            },
            "colorscale": [
             [
              0,
              "#440154"
             ],
             [
              0.1111111111111111,
              "#482878"
             ],
             [
              0.2222222222222222,
              "#3e4989"
             ],
             [
              0.3333333333333333,
              "#31688e"
             ],
             [
              0.4444444444444444,
              "#26828e"
             ],
             [
              0.5555555555555556,
              "#1f9e89"
             ],
             [
              0.6666666666666666,
              "#35b779"
             ],
             [
              0.7777777777777778,
              "#6ece58"
             ],
             [
              0.8888888888888888,
              "#b5de2b"
             ],
             [
              1,
              "#fde725"
             ]
            ],
            "type": "heatmap"
           }
          ],
          "heatmapgl": [
           {
            "colorbar": {
             "outlinewidth": 1,
             "tickcolor": "rgb(36,36,36)",
             "ticks": "outside"
            },
            "colorscale": [
             [
              0,
              "#440154"
             ],
             [
              0.1111111111111111,
              "#482878"
             ],
             [
              0.2222222222222222,
              "#3e4989"
             ],
             [
              0.3333333333333333,
              "#31688e"
             ],
             [
              0.4444444444444444,
              "#26828e"
             ],
             [
              0.5555555555555556,
              "#1f9e89"
             ],
             [
              0.6666666666666666,
              "#35b779"
             ],
             [
              0.7777777777777778,
              "#6ece58"
             ],
             [
              0.8888888888888888,
              "#b5de2b"
             ],
             [
              1,
              "#fde725"
             ]
            ],
            "type": "heatmapgl"
           }
          ],
          "histogram": [
           {
            "marker": {
             "line": {
              "color": "white",
              "width": 0.6
             }
            },
            "type": "histogram"
           }
          ],
          "histogram2d": [
           {
            "colorbar": {
             "outlinewidth": 1,
             "tickcolor": "rgb(36,36,36)",
             "ticks": "outside"
            },
            "colorscale": [
             [
              0,
              "#440154"
             ],
             [
              0.1111111111111111,
              "#482878"
             ],
             [
              0.2222222222222222,
              "#3e4989"
             ],
             [
              0.3333333333333333,
              "#31688e"
             ],
             [
              0.4444444444444444,
              "#26828e"
             ],
             [
              0.5555555555555556,
              "#1f9e89"
             ],
             [
              0.6666666666666666,
              "#35b779"
             ],
             [
              0.7777777777777778,
              "#6ece58"
             ],
             [
              0.8888888888888888,
              "#b5de2b"
             ],
             [
              1,
              "#fde725"
             ]
            ],
            "type": "histogram2d"
           }
          ],
          "histogram2dcontour": [
           {
            "colorbar": {
             "outlinewidth": 1,
             "tickcolor": "rgb(36,36,36)",
             "ticks": "outside"
            },
            "colorscale": [
             [
              0,
              "#440154"
             ],
             [
              0.1111111111111111,
              "#482878"
             ],
             [
              0.2222222222222222,
              "#3e4989"
             ],
             [
              0.3333333333333333,
              "#31688e"
             ],
             [
              0.4444444444444444,
              "#26828e"
             ],
             [
              0.5555555555555556,
              "#1f9e89"
             ],
             [
              0.6666666666666666,
              "#35b779"
             ],
             [
              0.7777777777777778,
              "#6ece58"
             ],
             [
              0.8888888888888888,
              "#b5de2b"
             ],
             [
              1,
              "#fde725"
             ]
            ],
            "type": "histogram2dcontour"
           }
          ],
          "mesh3d": [
           {
            "colorbar": {
             "outlinewidth": 1,
             "tickcolor": "rgb(36,36,36)",
             "ticks": "outside"
            },
            "type": "mesh3d"
           }
          ],
          "parcoords": [
           {
            "line": {
             "colorbar": {
              "outlinewidth": 1,
              "tickcolor": "rgb(36,36,36)",
              "ticks": "outside"
             }
            },
            "type": "parcoords"
           }
          ],
          "pie": [
           {
            "automargin": true,
            "type": "pie"
           }
          ],
          "scatter": [
           {
            "fillpattern": {
             "fillmode": "overlay",
             "size": 10,
             "solidity": 0.2
            },
            "type": "scatter"
           }
          ],
          "scatter3d": [
           {
            "line": {
             "colorbar": {
              "outlinewidth": 1,
              "tickcolor": "rgb(36,36,36)",
              "ticks": "outside"
             }
            },
            "marker": {
             "colorbar": {
              "outlinewidth": 1,
              "tickcolor": "rgb(36,36,36)",
              "ticks": "outside"
             }
            },
            "type": "scatter3d"
           }
          ],
          "scattercarpet": [
           {
            "marker": {
             "colorbar": {
              "outlinewidth": 1,
              "tickcolor": "rgb(36,36,36)",
              "ticks": "outside"
             }
            },
            "type": "scattercarpet"
           }
          ],
          "scattergeo": [
           {
            "marker": {
             "colorbar": {
              "outlinewidth": 1,
              "tickcolor": "rgb(36,36,36)",
              "ticks": "outside"
             }
            },
            "type": "scattergeo"
           }
          ],
          "scattergl": [
           {
            "marker": {
             "colorbar": {
              "outlinewidth": 1,
              "tickcolor": "rgb(36,36,36)",
              "ticks": "outside"
             }
            },
            "type": "scattergl"
           }
          ],
          "scattermapbox": [
           {
            "marker": {
             "colorbar": {
              "outlinewidth": 1,
              "tickcolor": "rgb(36,36,36)",
              "ticks": "outside"
             }
            },
            "type": "scattermapbox"
           }
          ],
          "scatterpolar": [
           {
            "marker": {
             "colorbar": {
              "outlinewidth": 1,
              "tickcolor": "rgb(36,36,36)",
              "ticks": "outside"
             }
            },
            "type": "scatterpolar"
           }
          ],
          "scatterpolargl": [
           {
            "marker": {
             "colorbar": {
              "outlinewidth": 1,
              "tickcolor": "rgb(36,36,36)",
              "ticks": "outside"
             }
            },
            "type": "scatterpolargl"
           }
          ],
          "scatterternary": [
           {
            "marker": {
             "colorbar": {
              "outlinewidth": 1,
              "tickcolor": "rgb(36,36,36)",
              "ticks": "outside"
             }
            },
            "type": "scatterternary"
           }
          ],
          "surface": [
           {
            "colorbar": {
             "outlinewidth": 1,
             "tickcolor": "rgb(36,36,36)",
             "ticks": "outside"
            },
            "colorscale": [
             [
              0,
              "#440154"
             ],
             [
              0.1111111111111111,
              "#482878"
             ],
             [
              0.2222222222222222,
              "#3e4989"
             ],
             [
              0.3333333333333333,
              "#31688e"
             ],
             [
              0.4444444444444444,
              "#26828e"
             ],
             [
              0.5555555555555556,
              "#1f9e89"
             ],
             [
              0.6666666666666666,
              "#35b779"
             ],
             [
              0.7777777777777778,
              "#6ece58"
             ],
             [
              0.8888888888888888,
              "#b5de2b"
             ],
             [
              1,
              "#fde725"
             ]
            ],
            "type": "surface"
           }
          ],
          "table": [
           {
            "cells": {
             "fill": {
              "color": "rgb(237,237,237)"
             },
             "line": {
              "color": "white"
             }
            },
            "header": {
             "fill": {
              "color": "rgb(217,217,217)"
             },
             "line": {
              "color": "white"
             }
            },
            "type": "table"
           }
          ]
         },
         "layout": {
          "annotationdefaults": {
           "arrowhead": 0,
           "arrowwidth": 1
          },
          "autotypenumbers": "strict",
          "coloraxis": {
           "colorbar": {
            "outlinewidth": 1,
            "tickcolor": "rgb(36,36,36)",
            "ticks": "outside"
           }
          },
          "colorscale": {
           "diverging": [
            [
             0,
             "rgb(103,0,31)"
            ],
            [
             0.1,
             "rgb(178,24,43)"
            ],
            [
             0.2,
             "rgb(214,96,77)"
            ],
            [
             0.3,
             "rgb(244,165,130)"
            ],
            [
             0.4,
             "rgb(253,219,199)"
            ],
            [
             0.5,
             "rgb(247,247,247)"
            ],
            [
             0.6,
             "rgb(209,229,240)"
            ],
            [
             0.7,
             "rgb(146,197,222)"
            ],
            [
             0.8,
             "rgb(67,147,195)"
            ],
            [
             0.9,
             "rgb(33,102,172)"
            ],
            [
             1,
             "rgb(5,48,97)"
            ]
           ],
           "sequential": [
            [
             0,
             "#440154"
            ],
            [
             0.1111111111111111,
             "#482878"
            ],
            [
             0.2222222222222222,
             "#3e4989"
            ],
            [
             0.3333333333333333,
             "#31688e"
            ],
            [
             0.4444444444444444,
             "#26828e"
            ],
            [
             0.5555555555555556,
             "#1f9e89"
            ],
            [
             0.6666666666666666,
             "#35b779"
            ],
            [
             0.7777777777777778,
             "#6ece58"
            ],
            [
             0.8888888888888888,
             "#b5de2b"
            ],
            [
             1,
             "#fde725"
            ]
           ],
           "sequentialminus": [
            [
             0,
             "#440154"
            ],
            [
             0.1111111111111111,
             "#482878"
            ],
            [
             0.2222222222222222,
             "#3e4989"
            ],
            [
             0.3333333333333333,
             "#31688e"
            ],
            [
             0.4444444444444444,
             "#26828e"
            ],
            [
             0.5555555555555556,
             "#1f9e89"
            ],
            [
             0.6666666666666666,
             "#35b779"
            ],
            [
             0.7777777777777778,
             "#6ece58"
            ],
            [
             0.8888888888888888,
             "#b5de2b"
            ],
            [
             1,
             "#fde725"
            ]
           ]
          },
          "colorway": [
           "#1F77B4",
           "#FF7F0E",
           "#2CA02C",
           "#D62728",
           "#9467BD",
           "#8C564B",
           "#E377C2",
           "#7F7F7F",
           "#BCBD22",
           "#17BECF"
          ],
          "font": {
           "color": "rgb(36,36,36)"
          },
          "geo": {
           "bgcolor": "white",
           "lakecolor": "white",
           "landcolor": "white",
           "showlakes": true,
           "showland": true,
           "subunitcolor": "white"
          },
          "hoverlabel": {
           "align": "left"
          },
          "hovermode": "closest",
          "mapbox": {
           "style": "light"
          },
          "paper_bgcolor": "white",
          "plot_bgcolor": "white",
          "polar": {
           "angularaxis": {
            "gridcolor": "rgb(232,232,232)",
            "linecolor": "rgb(36,36,36)",
            "showgrid": false,
            "showline": true,
            "ticks": "outside"
           },
           "bgcolor": "white",
           "radialaxis": {
            "gridcolor": "rgb(232,232,232)",
            "linecolor": "rgb(36,36,36)",
            "showgrid": false,
            "showline": true,
            "ticks": "outside"
           }
          },
          "scene": {
           "xaxis": {
            "backgroundcolor": "white",
            "gridcolor": "rgb(232,232,232)",
            "gridwidth": 2,
            "linecolor": "rgb(36,36,36)",
            "showbackground": true,
            "showgrid": false,
            "showline": true,
            "ticks": "outside",
            "zeroline": false,
            "zerolinecolor": "rgb(36,36,36)"
           },
           "yaxis": {
            "backgroundcolor": "white",
            "gridcolor": "rgb(232,232,232)",
            "gridwidth": 2,
            "linecolor": "rgb(36,36,36)",
            "showbackground": true,
            "showgrid": false,
            "showline": true,
            "ticks": "outside",
            "zeroline": false,
            "zerolinecolor": "rgb(36,36,36)"
           },
           "zaxis": {
            "backgroundcolor": "white",
            "gridcolor": "rgb(232,232,232)",
            "gridwidth": 2,
            "linecolor": "rgb(36,36,36)",
            "showbackground": true,
            "showgrid": false,
            "showline": true,
            "ticks": "outside",
            "zeroline": false,
            "zerolinecolor": "rgb(36,36,36)"
           }
          },
          "shapedefaults": {
           "fillcolor": "black",
           "line": {
            "width": 0
           },
           "opacity": 0.3
          },
          "ternary": {
           "aaxis": {
            "gridcolor": "rgb(232,232,232)",
            "linecolor": "rgb(36,36,36)",
            "showgrid": false,
            "showline": true,
            "ticks": "outside"
           },
           "baxis": {
            "gridcolor": "rgb(232,232,232)",
            "linecolor": "rgb(36,36,36)",
            "showgrid": false,
            "showline": true,
            "ticks": "outside"
           },
           "bgcolor": "white",
           "caxis": {
            "gridcolor": "rgb(232,232,232)",
            "linecolor": "rgb(36,36,36)",
            "showgrid": false,
            "showline": true,
            "ticks": "outside"
           }
          },
          "title": {
           "x": 0.05
          },
          "xaxis": {
           "automargin": true,
           "gridcolor": "rgb(232,232,232)",
           "linecolor": "rgb(36,36,36)",
           "showgrid": false,
           "showline": true,
           "ticks": "outside",
           "title": {
            "standoff": 15
           },
           "zeroline": false,
           "zerolinecolor": "rgb(36,36,36)"
          },
          "yaxis": {
           "automargin": true,
           "gridcolor": "rgb(232,232,232)",
           "linecolor": "rgb(36,36,36)",
           "showgrid": false,
           "showline": true,
           "ticks": "outside",
           "title": {
            "standoff": 15
           },
           "zeroline": false,
           "zerolinecolor": "rgb(36,36,36)"
          }
         }
        },
        "width": 330,
        "xaxis": {
         "anchor": "y",
         "domain": [
          0,
          0.48
         ],
         "minor": {
          "dtick": 25,
          "ticks": "outside"
         },
         "tickfont": {
          "size": 9.333333333333334
         },
         "title": {
          "font": {
           "family": "Inter",
           "size": 9.333333333333334
          },
          "text": "Position"
         }
        },
        "xaxis2": {
         "anchor": "y2",
         "domain": [
          0.5,
          0.98
         ],
         "matches": "x",
         "minor": {
          "dtick": 25,
          "ticks": "outside"
         },
         "tickfont": {
          "size": 9.333333333333334
         },
         "title": {
          "font": {
           "family": "Inter",
           "size": 9.333333333333334
          },
          "text": "Position"
         }
        },
        "xaxis3": {
         "anchor": "y3",
         "domain": [
          0,
          0.48
         ],
         "matches": "x",
         "minor": {
          "dtick": 25,
          "ticks": "outside"
         },
         "showticklabels": false,
         "tickfont": {
          "size": 9.333333333333334
         },
         "title": {
          "font": {
           "family": "Inter",
           "size": 9.333333333333334
          }
         }
        },
        "xaxis4": {
         "anchor": "y4",
         "domain": [
          0.5,
          0.98
         ],
         "matches": "x",
         "minor": {
          "dtick": 25,
          "ticks": "outside"
         },
         "showticklabels": false,
         "tickfont": {
          "size": 9.333333333333334
         },
         "title": {
          "font": {
           "family": "Inter",
           "size": 9.333333333333334
          }
         }
        },
        "yaxis": {
         "anchor": "x",
         "domain": [
          0,
          0.485
         ],
         "dtick": 0.25,
         "minor": {
          "dtick": 0.125,
          "ticks": "outside"
         },
         "tickfont": {
          "size": 9.333333333333334
         },
         "title": {
          "font": {
           "family": "Inter",
           "size": 9.333333333333334
          },
          "text": "Fraction"
         }
        },
        "yaxis2": {
         "anchor": "x2",
         "domain": [
          0,
          0.485
         ],
         "dtick": 0.25,
         "matches": "y",
         "minor": {
          "dtick": 0.125,
          "ticks": "outside"
         },
         "showticklabels": false,
         "tickfont": {
          "size": 9.333333333333334
         },
         "title": {
          "font": {
           "family": "Inter",
           "size": 9.333333333333334
          }
         }
        },
        "yaxis3": {
         "anchor": "x3",
         "domain": [
          0.515,
          1
         ],
         "dtick": 0.25,
         "matches": "y",
         "minor": {
          "dtick": 0.125,
          "ticks": "outside"
         },
         "tickfont": {
          "size": 9.333333333333334
         },
         "title": {
          "font": {
           "family": "Inter",
           "size": 9.333333333333334
          },
          "text": "Fraction"
         }
        },
        "yaxis4": {
         "anchor": "x4",
         "domain": [
          0.515,
          1
         ],
         "dtick": 0.25,
         "matches": "y",
         "minor": {
          "dtick": 0.125,
          "ticks": "outside"
         },
         "showticklabels": false,
         "tickfont": {
          "size": 9.333333333333334
         },
         "title": {
          "font": {
           "family": "Inter",
           "size": 9.333333333333334
          }
         }
        }
       }
      }
     },
     "metadata": {},
     "output_type": "display_data"
    }
   ],
   "source": [
    "fig = px.scatter(\n",
    "    df_aggregate,\n",
    "    x=\"position\",\n",
    "    y=\"mean\",\n",
    "    color=\"type\",\n",
    "    facet_col=\"group\",\n",
    "    facet_row=\"read\",\n",
    "    color_discrete_map={\"A\": \"#3182bd\", \"C\": \"#de2d26\", \"G\": \"#31a354\", \"T\": \"#756bb1\"}\n",
    ")\n",
    "\n",
    "fig.update_xaxes(\n",
    "    title='Position',\n",
    "    row=1,\n",
    ")\n",
    "fig.update_xaxes(\n",
    "    minor_ticks=\"outside\", \n",
    "    minor_dtick=25,\n",
    "    title_font_family=\"Inter\",\n",
    "    title_font_size=28/3, \n",
    "    tickfont_size=28/3\n",
    ")\n",
    "\n",
    "fig.update_yaxes(\n",
    "    title='Fraction',\n",
    "    col=1\n",
    ")\n",
    "fig.update_yaxes(\n",
    "    dtick=0.25,\n",
    "    minor_ticks=\"outside\", \n",
    "    minor_dtick=0.25/2,\n",
    "    title_font_family=\"Inter\",\n",
    "    title_font_size=28/3, \n",
    "    tickfont_size=28/3,\n",
    ")\n",
    "\n",
    "fig.add_hline(\n",
    "    y=0.25,\n",
    "    line_width=2,\n",
    "    line_dash=\"dot\"\n",
    ")\n",
    "\n",
    "fig.update_layout(\n",
    "    template='simple_white',\n",
    "    height=330,\n",
    "    width=330,\n",
    "    showlegend=False,\n",
    "    margin=dict(l=0, r=20, t=20, b=0),\n",
    "    font_family=\"Inter\",\n",
    "    legend_font_size=28/3,\n",
    ")\n",
    "\n",
    "fig.show()\n",
    "fig.write_image(\"position_bias.svg\")"
   ]
  }
 ],
 "metadata": {
  "kernelspec": {
   "display_name": "np_pd_sp",
   "language": "python",
   "name": "python3"
  },
  "language_info": {
   "codemirror_mode": {
    "name": "ipython",
    "version": 3
   },
   "file_extension": ".py",
   "mimetype": "text/x-python",
   "name": "python",
   "nbconvert_exporter": "python",
   "pygments_lexer": "ipython3",
   "version": "3.9.7"
  },
  "orig_nbformat": 4
 },
 "nbformat": 4,
 "nbformat_minor": 2
}
