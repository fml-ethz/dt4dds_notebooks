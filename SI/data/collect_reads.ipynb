{
 "cells": [
  {
   "cell_type": "code",
   "execution_count": 6,
   "metadata": {},
   "outputs": [],
   "source": [
    "import pathlib\n",
    "import pandas as pd\n",
    "import re"
   ]
  },
  {
   "cell_type": "code",
   "execution_count": 7,
   "metadata": {},
   "outputs": [],
   "source": [
    "data = []\n",
    "\n",
    "for path in pathlib.Path(\".\").glob(\"../../data/**/log_paired.out\"):\n",
    "    group_name = pathlib.Path(path).parents[1].name\n",
    "    exp_name = pathlib.Path(path).parents[0].name\n",
    "\n",
    "    with open(path) as f:\n",
    "        line = next((s for s in f.readlines() if \"[dt4dds.analysis.alignment][INFO] Categorized\" in s), None)[30:]\n",
    "\n",
    "    if line:\n",
    "        total, matches, matches_p, partial, partial_p, nonmatch, nonmatch_p = re.findall(r'\\d*[.,]?\\d+', line)\n",
    "\n",
    "\n",
    "        with open(pathlib.Path(path).parent / \"log_scafstats_paired.out\") as f:\n",
    "            for line in f.readlines():\n",
    "                if line.startswith(\"Input:\"):\n",
    "                    break\n",
    "\n",
    "        if line.startswith(\"Input:\"):\n",
    "            total_reads, _ = re.findall(r'\\d*[.,]?\\d+', line)        \n",
    "                \n",
    "        data.append([group_name, exp_name, total_reads, total, matches, matches_p, partial, partial_p, nonmatch, nonmatch_p])"
   ]
  },
  {
   "cell_type": "code",
   "execution_count": 8,
   "metadata": {},
   "outputs": [],
   "source": [
    "df = pd.DataFrame(data, columns=[\"group\", \"exp\", \"reads\", \"total\", \"match\", \"match_p\", \"partial\", \"partial_p\", \"nonmatch\", \"nonmatch_p\"])\n",
    "df.to_csv(\"./exps.csv\", index=False)"
   ]
  },
  {
   "cell_type": "code",
   "execution_count": 9,
   "metadata": {},
   "outputs": [],
   "source": [
    "data = []\n",
    "\n",
    "for path in pathlib.Path(\".\").glob(\"../../data/**/log_phix.out\"):\n",
    "    group_name = pathlib.Path(path).parents[1].name\n",
    "    exp_name = pathlib.Path(path).parents[0].name\n",
    "\n",
    "    with open(path) as f:\n",
    "        line = next((s for s in f.readlines() if \"[dt4dds.analysis.alignment][INFO] Categorized\" in s), None)[30:]\n",
    "\n",
    "    if line:   \n",
    "        total, matches, matches_p, ambigious, ambigious_p, partial, partial_p, nonmatch, nonmatch_p = re.findall(r'\\d*[.,]?\\d+', line)   \n",
    "        \n",
    "        \n",
    "    data.append([group_name, exp_name, total, matches, matches_p, ambigious, ambigious_p, partial, partial_p, nonmatch, nonmatch_p])"
   ]
  },
  {
   "cell_type": "code",
   "execution_count": 10,
   "metadata": {},
   "outputs": [],
   "source": [
    "df = pd.DataFrame(data, columns=[\"group\", \"exp\", \"total\", \"match\", \"match_p\", \"ambigious\", \"ambigious_p\", \"partial\", \"partial_p\", \"nonmatch\", \"nonmatch_p\"])\n",
    "df.to_csv(\"./phix.csv\", index=False)"
   ]
  }
 ],
 "metadata": {
  "kernelspec": {
   "display_name": "np_pd_sp",
   "language": "python",
   "name": "python3"
  },
  "language_info": {
   "codemirror_mode": {
    "name": "ipython",
    "version": 3
   },
   "file_extension": ".py",
   "mimetype": "text/x-python",
   "name": "python",
   "nbconvert_exporter": "python",
   "pygments_lexer": "ipython3",
   "version": "3.9.7"
  },
  "orig_nbformat": 4
 },
 "nbformat": 4,
 "nbformat_minor": 2
}
