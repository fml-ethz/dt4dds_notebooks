{
 "cells": [
  {
   "cell_type": "code",
   "execution_count": 1,
   "metadata": {},
   "outputs": [],
   "source": [
    "import pandas as pd\n",
    "import numpy as np\n",
    "import statsmodels.formula.api as smf\n",
    "import statsmodels.api as sm\n",
    "import plotly.express as px\n",
    "import plotly.graph_objects as pg\n",
    "\n",
    "def anova(idata, errortype):\n",
    "    df = idata.loc[idata.type == errortype]\n",
    "    model = smf.ols('val ~ C(synthesis) + PCRC + Decay', data=df).fit()\n",
    "    display(model.summary())\n",
    "    aov = sm.stats.anova_lm(model, typ=2, robust='hc3')\n",
    "    aov['eta_sq'] = aov[:]['sum_sq']/sum(aov['sum_sq'])\n",
    "    aov2 = aov.copy()\n",
    "    aov2['eta_sq'] = [f\"{i*100:0.1f}%\" for i in aov['eta_sq']]\n",
    "    display(aov2)\n",
    "    return aov"
   ]
  },
  {
   "cell_type": "code",
   "execution_count": 2,
   "metadata": {},
   "outputs": [],
   "source": [
    "%load_ext autoreload\n",
    "%autoreload 2\n",
    "import dt4dds.analysis as analysis\n",
    "\n",
    "data = analysis.GroupAnalysis([\n",
    "    ('Genscript_GCfix_36_0', analysis.ErrorAnalysis(\"../data/Aging/0a_Genscript_GCfix\")),\n",
    "    ('Genscript_GCfix_42_0', analysis.ErrorAnalysis(\"../data/Aging/0b_Genscript_GCfix\")),\n",
    "    ('Genscript_GCfix_42_2', analysis.ErrorAnalysis(\"../data/Aging/2d_Genscript_GCfix\")),\n",
    "    ('Genscript_GCfix_42_4', analysis.ErrorAnalysis(\"../data/Aging/4d_Genscript_GCfix\")),\n",
    "    ('Genscript_GCfix_42_7', analysis.ErrorAnalysis(\"../data/Aging/7d_Genscript_GCfix\")),\n",
    "    ('Genscript_GCfix_10_0', analysis.ErrorAnalysis(\"../data/PCR/10c_Genscript_GCfix\")),\n",
    "    ('Genscript_GCfix_15_0', analysis.ErrorAnalysis(\"../data/PCR/15c_Genscript_GCfix\")),\n",
    "    ('Genscript_GCfix_20_0', analysis.ErrorAnalysis(\"../data/PCR/20c_Genscript_GCfix\")),\n",
    "    ('Genscript_GCfix_25_0', analysis.ErrorAnalysis(\"../data/PCR/25c_Genscript_GCfix\")),\n",
    "    ('Genscript_GCall_36_0', analysis.ErrorAnalysis(\"../data/Aging/0a_Genscript_GCall\")),\n",
    "    ('Genscript_GCall_42_0', analysis.ErrorAnalysis(\"../data/Aging/0b_Genscript_GCall\")),\n",
    "    ('Genscript_GCall_42_2', analysis.ErrorAnalysis(\"../data/Aging/2d_Genscript_GCall\")),\n",
    "    ('Genscript_GCall_42_4', analysis.ErrorAnalysis(\"../data/Aging/4d_Genscript_GCall\")),\n",
    "    ('Genscript_GCall_42_7', analysis.ErrorAnalysis(\"../data/Aging/7d_Genscript_GCall\")),\n",
    "    ('Genscript_GCall_15_0', analysis.ErrorAnalysis(\"../data/PCR/15c_Genscript_GCall\")),\n",
    "    ('Genscript_GCall_20_0', analysis.ErrorAnalysis(\"../data/PCR/20c_Genscript_GCall\")),\n",
    "    ('Genscript_GCall_25_0', analysis.ErrorAnalysis(\"../data/PCR/25c_Genscript_GCall\")),\n",
    "    ('Genscript_GCall_30_0', analysis.ErrorAnalysis(\"../data/PCR/30c_Genscript_GCall\")),\n",
    "    ('Twist_GCall_15_0', analysis.ErrorAnalysis(\"../data/PCR/15c_Twist_GCall\")),\n",
    "    ('Twist_GCall_30_0', analysis.ErrorAnalysis(\"../data/PCR/30c_Twist_GCall\")),\n",
    "    ('Twist_GCall_45_0', analysis.ErrorAnalysis(\"../data/PCR/45c_Twist_GCall\")),\n",
    "    ('Twist_GCall_60_0', analysis.ErrorAnalysis(\"../data/PCR/60c_Twist_GCall\")),\n",
    "    ('Twist_GCall_75_0', analysis.ErrorAnalysis(\"../data/PCR/75c_Twist_GCall\")),\n",
    "    ('Twist_GCall_90_0', analysis.ErrorAnalysis(\"../data/PCR/90c_Twist_GCall\")),\n",
    "    ('Twist_GCall_37_0', analysis.ErrorAnalysis(\"../data/Aging/0a_Twist_GCall\")),\n",
    "    ('Twist_GCall_43_0', analysis.ErrorAnalysis(\"../data/Aging/0b_Twist_GCall\")),\n",
    "    ('Twist_GCall_43_2', analysis.ErrorAnalysis(\"../data/Aging/2d_Twist_GCall\")),\n",
    "    ('Twist_GCall_43_4', analysis.ErrorAnalysis(\"../data/Aging/4d_Twist_GCall\")),\n",
    "    ('Twist_GCall_43_7', analysis.ErrorAnalysis(\"../data/Aging/7d_Twist_GCall\")),\n",
    "    ('Twist_GCfix_15_0', analysis.ErrorAnalysis(\"../data/PCR/15c_Twist_GCfix\")),\n",
    "    ('Twist_GCfix_30_0', analysis.ErrorAnalysis(\"../data/PCR/30c_Twist_GCfix\")),\n",
    "    ('Twist_GCfix_45_0', analysis.ErrorAnalysis(\"../data/PCR/45c_Twist_GCfix\")),\n",
    "    ('Twist_GCfix_60_0', analysis.ErrorAnalysis(\"../data/PCR/60c_Twist_GCfix\")),\n",
    "    ('Twist_GCfix_75_0', analysis.ErrorAnalysis(\"../data/PCR/75c_Twist_GCfix\")),\n",
    "    ('Twist_GCfix_90_0', analysis.ErrorAnalysis(\"../data/PCR/90c_Twist_GCfix\")),\n",
    "    ('Twist_GCfix_39_0', analysis.ErrorAnalysis(\"../data/Aging/0a_Twist_GCfix\")),\n",
    "    ('Twist_GCfix_45_0', analysis.ErrorAnalysis(\"../data/Aging/0b_Twist_GCfix\")),\n",
    "    ('Twist_GCfix_45_2', analysis.ErrorAnalysis(\"../data/Aging/2d_Twist_GCfix\")),\n",
    "    ('Twist_GCfix_45_4', analysis.ErrorAnalysis(\"../data/Aging/4d_Twist_GCfix\")),\n",
    "    ('Twist_GCfix_45_7', analysis.ErrorAnalysis(\"../data/Aging/7d_Twist_GCfix\")),\n",
    "])"
   ]
  },
  {
   "cell_type": "code",
   "execution_count": 3,
   "metadata": {},
   "outputs": [
    {
     "data": {
      "text/html": [
       "<div>\n",
       "<style scoped>\n",
       "    .dataframe tbody tr th:only-of-type {\n",
       "        vertical-align: middle;\n",
       "    }\n",
       "\n",
       "    .dataframe tbody tr th {\n",
       "        vertical-align: top;\n",
       "    }\n",
       "\n",
       "    .dataframe thead th {\n",
       "        text-align: right;\n",
       "    }\n",
       "</style>\n",
       "<table border=\"1\" class=\"dataframe\">\n",
       "  <thead>\n",
       "    <tr style=\"text-align: right;\">\n",
       "      <th></th>\n",
       "      <th>mean</th>\n",
       "      <th>std</th>\n",
       "      <th>min</th>\n",
       "      <th>max</th>\n",
       "    </tr>\n",
       "    <tr>\n",
       "      <th>type</th>\n",
       "      <th></th>\n",
       "      <th></th>\n",
       "      <th></th>\n",
       "      <th></th>\n",
       "    </tr>\n",
       "  </thead>\n",
       "  <tbody>\n",
       "    <tr>\n",
       "      <th>deletions</th>\n",
       "      <td>0.006651</td>\n",
       "      <td>0.006948</td>\n",
       "      <td>0.000391</td>\n",
       "      <td>0.017075</td>\n",
       "    </tr>\n",
       "    <tr>\n",
       "      <th>delevents</th>\n",
       "      <td>0.005544</td>\n",
       "      <td>0.005849</td>\n",
       "      <td>0.000217</td>\n",
       "      <td>0.013984</td>\n",
       "    </tr>\n",
       "    <tr>\n",
       "      <th>insertions</th>\n",
       "      <td>0.000280</td>\n",
       "      <td>0.000234</td>\n",
       "      <td>0.000049</td>\n",
       "      <td>0.000637</td>\n",
       "    </tr>\n",
       "    <tr>\n",
       "      <th>substitutions</th>\n",
       "      <td>0.007906</td>\n",
       "      <td>0.001956</td>\n",
       "      <td>0.003636</td>\n",
       "      <td>0.012487</td>\n",
       "    </tr>\n",
       "  </tbody>\n",
       "</table>\n",
       "</div>"
      ],
      "text/plain": [
       "                   mean       std       min       max\n",
       "type                                                 \n",
       "deletions      0.006651  0.006948  0.000391  0.017075\n",
       "delevents      0.005544  0.005849  0.000217  0.013984\n",
       "insertions     0.000280  0.000234  0.000049  0.000637\n",
       "substitutions  0.007906  0.001956  0.003636  0.012487"
      ]
     },
     "metadata": {},
     "output_type": "display_data"
    },
    {
     "data": {
      "text/html": [
       "<div>\n",
       "<style scoped>\n",
       "    .dataframe tbody tr th:only-of-type {\n",
       "        vertical-align: middle;\n",
       "    }\n",
       "\n",
       "    .dataframe tbody tr th {\n",
       "        vertical-align: top;\n",
       "    }\n",
       "\n",
       "    .dataframe thead th {\n",
       "        text-align: right;\n",
       "    }\n",
       "</style>\n",
       "<table border=\"1\" class=\"dataframe\">\n",
       "  <thead>\n",
       "    <tr style=\"text-align: right;\">\n",
       "      <th></th>\n",
       "      <th></th>\n",
       "      <th>mean</th>\n",
       "      <th>std</th>\n",
       "      <th>min</th>\n",
       "      <th>max</th>\n",
       "    </tr>\n",
       "    <tr>\n",
       "      <th>synthesis</th>\n",
       "      <th>type</th>\n",
       "      <th></th>\n",
       "      <th></th>\n",
       "      <th></th>\n",
       "      <th></th>\n",
       "    </tr>\n",
       "  </thead>\n",
       "  <tbody>\n",
       "    <tr>\n",
       "      <th rowspan=\"4\" valign=\"top\">Genscript</th>\n",
       "      <th>deletions</th>\n",
       "      <td>0.014084</td>\n",
       "      <td>0.002371</td>\n",
       "      <td>0.010155</td>\n",
       "      <td>0.017075</td>\n",
       "    </tr>\n",
       "    <tr>\n",
       "      <th>delevents</th>\n",
       "      <td>0.011854</td>\n",
       "      <td>0.001658</td>\n",
       "      <td>0.008989</td>\n",
       "      <td>0.013984</td>\n",
       "    </tr>\n",
       "    <tr>\n",
       "      <th>insertions</th>\n",
       "      <td>0.000528</td>\n",
       "      <td>0.000091</td>\n",
       "      <td>0.000415</td>\n",
       "      <td>0.000637</td>\n",
       "    </tr>\n",
       "    <tr>\n",
       "      <th>substitutions</th>\n",
       "      <td>0.008025</td>\n",
       "      <td>0.001631</td>\n",
       "      <td>0.004396</td>\n",
       "      <td>0.010994</td>\n",
       "    </tr>\n",
       "    <tr>\n",
       "      <th rowspan=\"4\" valign=\"top\">Twist</th>\n",
       "      <th>deletions</th>\n",
       "      <td>0.000570</td>\n",
       "      <td>0.000102</td>\n",
       "      <td>0.000391</td>\n",
       "      <td>0.000789</td>\n",
       "    </tr>\n",
       "    <tr>\n",
       "      <th>delevents</th>\n",
       "      <td>0.000381</td>\n",
       "      <td>0.000095</td>\n",
       "      <td>0.000217</td>\n",
       "      <td>0.000590</td>\n",
       "    </tr>\n",
       "    <tr>\n",
       "      <th>insertions</th>\n",
       "      <td>0.000077</td>\n",
       "      <td>0.000015</td>\n",
       "      <td>0.000049</td>\n",
       "      <td>0.000114</td>\n",
       "    </tr>\n",
       "    <tr>\n",
       "      <th>substitutions</th>\n",
       "      <td>0.007808</td>\n",
       "      <td>0.002201</td>\n",
       "      <td>0.003636</td>\n",
       "      <td>0.012487</td>\n",
       "    </tr>\n",
       "  </tbody>\n",
       "</table>\n",
       "</div>"
      ],
      "text/plain": [
       "                             mean       std       min       max\n",
       "synthesis type                                                 \n",
       "Genscript deletions      0.014084  0.002371  0.010155  0.017075\n",
       "          delevents      0.011854  0.001658  0.008989  0.013984\n",
       "          insertions     0.000528  0.000091  0.000415  0.000637\n",
       "          substitutions  0.008025  0.001631  0.004396  0.010994\n",
       "Twist     deletions      0.000570  0.000102  0.000391  0.000789\n",
       "          delevents      0.000381  0.000095  0.000217  0.000590\n",
       "          insertions     0.000077  0.000015  0.000049  0.000114\n",
       "          substitutions  0.007808  0.002201  0.003636  0.012487"
      ]
     },
     "metadata": {},
     "output_type": "display_data"
    }
   ],
   "source": [
    "def summary(group):\n",
    "    d = {}\n",
    "    d['mean'] = group.val.mean()\n",
    "    d['std'] = group.val.std()\n",
    "    d['min'] = group.val.min()\n",
    "    d['max'] = group.val.max()\n",
    "    return pd.Series(d, index=['mean', 'std', 'min', 'max'])\n",
    "\n",
    "errordata = data.data['overall_error_rates'].copy()\n",
    "errordata.rename(columns={'rate': 'val'}, inplace=True)\n",
    "errordata[['synthesis', 'GC', 'PCRC', 'Decay']] = errordata.group.str.split('_', expand=True)\n",
    "errordata = errordata.astype({'PCRC': 'int', 'Decay': 'int'})\n",
    "display(errordata.groupby(['type']).apply(summary))\n",
    "display(errordata.groupby(['synthesis', 'type']).apply(summary))"
   ]
  },
  {
   "cell_type": "code",
   "execution_count": 4,
   "metadata": {},
   "outputs": [
    {
     "data": {
      "text/html": [
       "<table class=\"simpletable\">\n",
       "<caption>OLS Regression Results</caption>\n",
       "<tr>\n",
       "  <th>Dep. Variable:</th>           <td>val</td>       <th>  R-squared:         </th> <td>   0.949</td>\n",
       "</tr>\n",
       "<tr>\n",
       "  <th>Model:</th>                   <td>OLS</td>       <th>  Adj. R-squared:    </th> <td>   0.947</td>\n",
       "</tr>\n",
       "<tr>\n",
       "  <th>Method:</th>             <td>Least Squares</td>  <th>  F-statistic:       </th> <td>   470.0</td>\n",
       "</tr>\n",
       "<tr>\n",
       "  <th>Date:</th>             <td>Wed, 21 Jun 2023</td> <th>  Prob (F-statistic):</th> <td>5.90e-49</td>\n",
       "</tr>\n",
       "<tr>\n",
       "  <th>Time:</th>                 <td>10:14:04</td>     <th>  Log-Likelihood:    </th> <td>  403.45</td>\n",
       "</tr>\n",
       "<tr>\n",
       "  <th>No. Observations:</th>      <td>    80</td>      <th>  AIC:               </th> <td>  -798.9</td>\n",
       "</tr>\n",
       "<tr>\n",
       "  <th>Df Residuals:</th>          <td>    76</td>      <th>  BIC:               </th> <td>  -789.4</td>\n",
       "</tr>\n",
       "<tr>\n",
       "  <th>Df Model:</th>              <td>     3</td>      <th>                     </th>     <td> </td>   \n",
       "</tr>\n",
       "<tr>\n",
       "  <th>Covariance Type:</th>      <td>nonrobust</td>    <th>                     </th>     <td> </td>   \n",
       "</tr>\n",
       "</table>\n",
       "<table class=\"simpletable\">\n",
       "<tr>\n",
       "            <td></td>               <th>coef</th>     <th>std err</th>      <th>t</th>      <th>P>|t|</th>  <th>[0.025</th>    <th>0.975]</th>  \n",
       "</tr>\n",
       "<tr>\n",
       "  <th>Intercept</th>             <td>    0.0144</td> <td>    0.000</td> <td>   32.530</td> <td> 0.000</td> <td>    0.014</td> <td>    0.015</td>\n",
       "</tr>\n",
       "<tr>\n",
       "  <th>C(synthesis)[T.Twist]</th> <td>   -0.0133</td> <td>    0.000</td> <td>  -32.961</td> <td> 0.000</td> <td>   -0.014</td> <td>   -0.013</td>\n",
       "</tr>\n",
       "<tr>\n",
       "  <th>PCRC</th>                  <td>-1.012e-05</td> <td>  1.1e-05</td> <td>   -0.920</td> <td> 0.360</td> <td> -3.2e-05</td> <td> 1.18e-05</td>\n",
       "</tr>\n",
       "<tr>\n",
       "  <th>Decay</th>                 <td>  -3.1e-08</td> <td> 7.91e-05</td> <td>   -0.000</td> <td> 1.000</td> <td>   -0.000</td> <td>    0.000</td>\n",
       "</tr>\n",
       "</table>\n",
       "<table class=\"simpletable\">\n",
       "<tr>\n",
       "  <th>Omnibus:</th>       <td> 0.910</td> <th>  Durbin-Watson:     </th> <td>   0.275</td>\n",
       "</tr>\n",
       "<tr>\n",
       "  <th>Prob(Omnibus):</th> <td> 0.634</td> <th>  Jarque-Bera (JB):  </th> <td>   0.653</td>\n",
       "</tr>\n",
       "<tr>\n",
       "  <th>Skew:</th>          <td>-0.221</td> <th>  Prob(JB):          </th> <td>   0.721</td>\n",
       "</tr>\n",
       "<tr>\n",
       "  <th>Kurtosis:</th>      <td> 3.030</td> <th>  Cond. No.          </th> <td>    112.</td>\n",
       "</tr>\n",
       "</table><br/><br/>Notes:<br/>[1] Standard Errors assume that the covariance matrix of the errors is correctly specified."
      ],
      "text/latex": [
       "\\begin{center}\n",
       "\\begin{tabular}{lclc}\n",
       "\\toprule\n",
       "\\textbf{Dep. Variable:}        &       val        & \\textbf{  R-squared:         } &     0.949   \\\\\n",
       "\\textbf{Model:}                &       OLS        & \\textbf{  Adj. R-squared:    } &     0.947   \\\\\n",
       "\\textbf{Method:}               &  Least Squares   & \\textbf{  F-statistic:       } &     470.0   \\\\\n",
       "\\textbf{Date:}                 & Wed, 21 Jun 2023 & \\textbf{  Prob (F-statistic):} &  5.90e-49   \\\\\n",
       "\\textbf{Time:}                 &     10:14:04     & \\textbf{  Log-Likelihood:    } &    403.45   \\\\\n",
       "\\textbf{No. Observations:}     &          80      & \\textbf{  AIC:               } &    -798.9   \\\\\n",
       "\\textbf{Df Residuals:}         &          76      & \\textbf{  BIC:               } &    -789.4   \\\\\n",
       "\\textbf{Df Model:}             &           3      & \\textbf{                     } &             \\\\\n",
       "\\textbf{Covariance Type:}      &    nonrobust     & \\textbf{                     } &             \\\\\n",
       "\\bottomrule\n",
       "\\end{tabular}\n",
       "\\begin{tabular}{lcccccc}\n",
       "                               & \\textbf{coef} & \\textbf{std err} & \\textbf{t} & \\textbf{P$> |$t$|$} & \\textbf{[0.025} & \\textbf{0.975]}  \\\\\n",
       "\\midrule\n",
       "\\textbf{Intercept}             &       0.0144  &        0.000     &    32.530  &         0.000        &        0.014    &        0.015     \\\\\n",
       "\\textbf{C(synthesis)[T.Twist]} &      -0.0133  &        0.000     &   -32.961  &         0.000        &       -0.014    &       -0.013     \\\\\n",
       "\\textbf{PCRC}                  &   -1.012e-05  &      1.1e-05     &    -0.920  &         0.360        &     -3.2e-05    &     1.18e-05     \\\\\n",
       "\\textbf{Decay}                 &     -3.1e-08  &     7.91e-05     &    -0.000  &         1.000        &       -0.000    &        0.000     \\\\\n",
       "\\bottomrule\n",
       "\\end{tabular}\n",
       "\\begin{tabular}{lclc}\n",
       "\\textbf{Omnibus:}       &  0.910 & \\textbf{  Durbin-Watson:     } &    0.275  \\\\\n",
       "\\textbf{Prob(Omnibus):} &  0.634 & \\textbf{  Jarque-Bera (JB):  } &    0.653  \\\\\n",
       "\\textbf{Skew:}          & -0.221 & \\textbf{  Prob(JB):          } &    0.721  \\\\\n",
       "\\textbf{Kurtosis:}      &  3.030 & \\textbf{  Cond. No.          } &     112.  \\\\\n",
       "\\bottomrule\n",
       "\\end{tabular}\n",
       "%\\caption{OLS Regression Results}\n",
       "\\end{center}\n",
       "\n",
       "Notes: \\newline\n",
       " [1] Standard Errors assume that the covariance matrix of the errors is correctly specified."
      ],
      "text/plain": [
       "<class 'statsmodels.iolib.summary.Summary'>\n",
       "\"\"\"\n",
       "                            OLS Regression Results                            \n",
       "==============================================================================\n",
       "Dep. Variable:                    val   R-squared:                       0.949\n",
       "Model:                            OLS   Adj. R-squared:                  0.947\n",
       "Method:                 Least Squares   F-statistic:                     470.0\n",
       "Date:                Wed, 21 Jun 2023   Prob (F-statistic):           5.90e-49\n",
       "Time:                        10:14:04   Log-Likelihood:                 403.45\n",
       "No. Observations:                  80   AIC:                            -798.9\n",
       "Df Residuals:                      76   BIC:                            -789.4\n",
       "Df Model:                           3                                         \n",
       "Covariance Type:            nonrobust                                         \n",
       "=========================================================================================\n",
       "                            coef    std err          t      P>|t|      [0.025      0.975]\n",
       "-----------------------------------------------------------------------------------------\n",
       "Intercept                 0.0144      0.000     32.530      0.000       0.014       0.015\n",
       "C(synthesis)[T.Twist]    -0.0133      0.000    -32.961      0.000      -0.014      -0.013\n",
       "PCRC                  -1.012e-05    1.1e-05     -0.920      0.360    -3.2e-05    1.18e-05\n",
       "Decay                   -3.1e-08   7.91e-05     -0.000      1.000      -0.000       0.000\n",
       "==============================================================================\n",
       "Omnibus:                        0.910   Durbin-Watson:                   0.275\n",
       "Prob(Omnibus):                  0.634   Jarque-Bera (JB):                0.653\n",
       "Skew:                          -0.221   Prob(JB):                        0.721\n",
       "Kurtosis:                       3.030   Cond. No.                         112.\n",
       "==============================================================================\n",
       "\n",
       "Notes:\n",
       "[1] Standard Errors assume that the covariance matrix of the errors is correctly specified.\n",
       "\"\"\""
      ]
     },
     "metadata": {},
     "output_type": "display_data"
    },
    {
     "data": {
      "text/html": [
       "<div>\n",
       "<style scoped>\n",
       "    .dataframe tbody tr th:only-of-type {\n",
       "        vertical-align: middle;\n",
       "    }\n",
       "\n",
       "    .dataframe tbody tr th {\n",
       "        vertical-align: top;\n",
       "    }\n",
       "\n",
       "    .dataframe thead th {\n",
       "        text-align: right;\n",
       "    }\n",
       "</style>\n",
       "<table border=\"1\" class=\"dataframe\">\n",
       "  <thead>\n",
       "    <tr style=\"text-align: right;\">\n",
       "      <th></th>\n",
       "      <th>sum_sq</th>\n",
       "      <th>df</th>\n",
       "      <th>F</th>\n",
       "      <th>PR(&gt;F)</th>\n",
       "      <th>eta_sq</th>\n",
       "    </tr>\n",
       "  </thead>\n",
       "  <tbody>\n",
       "    <tr>\n",
       "      <th>C(synthesis)</th>\n",
       "      <td>2.396590e-03</td>\n",
       "      <td>1.0</td>\n",
       "      <td>9.337566e+02</td>\n",
       "      <td>1.937875e-44</td>\n",
       "      <td>92.3%</td>\n",
       "    </tr>\n",
       "    <tr>\n",
       "      <th>PCRC</th>\n",
       "      <td>4.617652e-06</td>\n",
       "      <td>1.0</td>\n",
       "      <td>1.799124e+00</td>\n",
       "      <td>1.838130e-01</td>\n",
       "      <td>0.2%</td>\n",
       "    </tr>\n",
       "    <tr>\n",
       "      <th>Decay</th>\n",
       "      <td>3.336901e-13</td>\n",
       "      <td>1.0</td>\n",
       "      <td>1.300120e-07</td>\n",
       "      <td>9.997133e-01</td>\n",
       "      <td>0.0%</td>\n",
       "    </tr>\n",
       "    <tr>\n",
       "      <th>Residual</th>\n",
       "      <td>1.950624e-04</td>\n",
       "      <td>76.0</td>\n",
       "      <td>NaN</td>\n",
       "      <td>NaN</td>\n",
       "      <td>7.5%</td>\n",
       "    </tr>\n",
       "  </tbody>\n",
       "</table>\n",
       "</div>"
      ],
      "text/plain": [
       "                    sum_sq    df             F        PR(>F) eta_sq\n",
       "C(synthesis)  2.396590e-03   1.0  9.337566e+02  1.937875e-44  92.3%\n",
       "PCRC          4.617652e-06   1.0  1.799124e+00  1.838130e-01   0.2%\n",
       "Decay         3.336901e-13   1.0  1.300120e-07  9.997133e-01   0.0%\n",
       "Residual      1.950624e-04  76.0           NaN           NaN   7.5%"
      ]
     },
     "metadata": {},
     "output_type": "display_data"
    }
   ],
   "source": [
    "del_table = anova(errordata, 'deletions')"
   ]
  },
  {
   "cell_type": "code",
   "execution_count": 5,
   "metadata": {},
   "outputs": [
    {
     "data": {
      "text/html": [
       "<table class=\"simpletable\">\n",
       "<caption>OLS Regression Results</caption>\n",
       "<tr>\n",
       "  <th>Dep. Variable:</th>           <td>val</td>       <th>  R-squared:         </th> <td>   0.888</td>\n",
       "</tr>\n",
       "<tr>\n",
       "  <th>Model:</th>                   <td>OLS</td>       <th>  Adj. R-squared:    </th> <td>   0.884</td>\n",
       "</tr>\n",
       "<tr>\n",
       "  <th>Method:</th>             <td>Least Squares</td>  <th>  F-statistic:       </th> <td>   200.9</td>\n",
       "</tr>\n",
       "<tr>\n",
       "  <th>Date:</th>             <td>Wed, 21 Jun 2023</td> <th>  Prob (F-statistic):</th> <td>4.91e-36</td>\n",
       "</tr>\n",
       "<tr>\n",
       "  <th>Time:</th>                 <td>10:14:04</td>     <th>  Log-Likelihood:    </th> <td>  473.51</td>\n",
       "</tr>\n",
       "<tr>\n",
       "  <th>No. Observations:</th>      <td>    80</td>      <th>  AIC:               </th> <td>  -939.0</td>\n",
       "</tr>\n",
       "<tr>\n",
       "  <th>Df Residuals:</th>          <td>    76</td>      <th>  BIC:               </th> <td>  -929.5</td>\n",
       "</tr>\n",
       "<tr>\n",
       "  <th>Df Model:</th>              <td>     3</td>      <th>                     </th>     <td> </td>   \n",
       "</tr>\n",
       "<tr>\n",
       "  <th>Covariance Type:</th>      <td>nonrobust</td>    <th>                     </th>     <td> </td>   \n",
       "</tr>\n",
       "</table>\n",
       "<table class=\"simpletable\">\n",
       "<tr>\n",
       "            <td></td>               <th>coef</th>     <th>std err</th>      <th>t</th>      <th>P>|t|</th>  <th>[0.025</th>    <th>0.975]</th>  \n",
       "</tr>\n",
       "<tr>\n",
       "  <th>Intercept</th>             <td>    0.0044</td> <td>    0.000</td> <td>   24.010</td> <td> 0.000</td> <td>    0.004</td> <td>    0.005</td>\n",
       "</tr>\n",
       "<tr>\n",
       "  <th>C(synthesis)[T.Twist]</th> <td>   -0.0020</td> <td>    0.000</td> <td>  -11.766</td> <td> 0.000</td> <td>   -0.002</td> <td>   -0.002</td>\n",
       "</tr>\n",
       "<tr>\n",
       "  <th>PCRC</th>                  <td>    0.0001</td> <td> 4.58e-06</td> <td>   23.725</td> <td> 0.000</td> <td> 9.96e-05</td> <td>    0.000</td>\n",
       "</tr>\n",
       "<tr>\n",
       "  <th>Decay</th>                 <td>    0.0001</td> <td> 3.29e-05</td> <td>    3.470</td> <td> 0.001</td> <td> 4.87e-05</td> <td>    0.000</td>\n",
       "</tr>\n",
       "</table>\n",
       "<table class=\"simpletable\">\n",
       "<tr>\n",
       "  <th>Omnibus:</th>       <td> 0.799</td> <th>  Durbin-Watson:     </th> <td>   0.969</td>\n",
       "</tr>\n",
       "<tr>\n",
       "  <th>Prob(Omnibus):</th> <td> 0.671</td> <th>  Jarque-Bera (JB):  </th> <td>   0.322</td>\n",
       "</tr>\n",
       "<tr>\n",
       "  <th>Skew:</th>          <td> 0.075</td> <th>  Prob(JB):          </th> <td>   0.851</td>\n",
       "</tr>\n",
       "<tr>\n",
       "  <th>Kurtosis:</th>      <td> 3.272</td> <th>  Cond. No.          </th> <td>    112.</td>\n",
       "</tr>\n",
       "</table><br/><br/>Notes:<br/>[1] Standard Errors assume that the covariance matrix of the errors is correctly specified."
      ],
      "text/latex": [
       "\\begin{center}\n",
       "\\begin{tabular}{lclc}\n",
       "\\toprule\n",
       "\\textbf{Dep. Variable:}        &       val        & \\textbf{  R-squared:         } &     0.888   \\\\\n",
       "\\textbf{Model:}                &       OLS        & \\textbf{  Adj. R-squared:    } &     0.884   \\\\\n",
       "\\textbf{Method:}               &  Least Squares   & \\textbf{  F-statistic:       } &     200.9   \\\\\n",
       "\\textbf{Date:}                 & Wed, 21 Jun 2023 & \\textbf{  Prob (F-statistic):} &  4.91e-36   \\\\\n",
       "\\textbf{Time:}                 &     10:14:04     & \\textbf{  Log-Likelihood:    } &    473.51   \\\\\n",
       "\\textbf{No. Observations:}     &          80      & \\textbf{  AIC:               } &    -939.0   \\\\\n",
       "\\textbf{Df Residuals:}         &          76      & \\textbf{  BIC:               } &    -929.5   \\\\\n",
       "\\textbf{Df Model:}             &           3      & \\textbf{                     } &             \\\\\n",
       "\\textbf{Covariance Type:}      &    nonrobust     & \\textbf{                     } &             \\\\\n",
       "\\bottomrule\n",
       "\\end{tabular}\n",
       "\\begin{tabular}{lcccccc}\n",
       "                               & \\textbf{coef} & \\textbf{std err} & \\textbf{t} & \\textbf{P$> |$t$|$} & \\textbf{[0.025} & \\textbf{0.975]}  \\\\\n",
       "\\midrule\n",
       "\\textbf{Intercept}             &       0.0044  &        0.000     &    24.010  &         0.000        &        0.004    &        0.005     \\\\\n",
       "\\textbf{C(synthesis)[T.Twist]} &      -0.0020  &        0.000     &   -11.766  &         0.000        &       -0.002    &       -0.002     \\\\\n",
       "\\textbf{PCRC}                  &       0.0001  &     4.58e-06     &    23.725  &         0.000        &     9.96e-05    &        0.000     \\\\\n",
       "\\textbf{Decay}                 &       0.0001  &     3.29e-05     &     3.470  &         0.001        &     4.87e-05    &        0.000     \\\\\n",
       "\\bottomrule\n",
       "\\end{tabular}\n",
       "\\begin{tabular}{lclc}\n",
       "\\textbf{Omnibus:}       &  0.799 & \\textbf{  Durbin-Watson:     } &    0.969  \\\\\n",
       "\\textbf{Prob(Omnibus):} &  0.671 & \\textbf{  Jarque-Bera (JB):  } &    0.322  \\\\\n",
       "\\textbf{Skew:}          &  0.075 & \\textbf{  Prob(JB):          } &    0.851  \\\\\n",
       "\\textbf{Kurtosis:}      &  3.272 & \\textbf{  Cond. No.          } &     112.  \\\\\n",
       "\\bottomrule\n",
       "\\end{tabular}\n",
       "%\\caption{OLS Regression Results}\n",
       "\\end{center}\n",
       "\n",
       "Notes: \\newline\n",
       " [1] Standard Errors assume that the covariance matrix of the errors is correctly specified."
      ],
      "text/plain": [
       "<class 'statsmodels.iolib.summary.Summary'>\n",
       "\"\"\"\n",
       "                            OLS Regression Results                            \n",
       "==============================================================================\n",
       "Dep. Variable:                    val   R-squared:                       0.888\n",
       "Model:                            OLS   Adj. R-squared:                  0.884\n",
       "Method:                 Least Squares   F-statistic:                     200.9\n",
       "Date:                Wed, 21 Jun 2023   Prob (F-statistic):           4.91e-36\n",
       "Time:                        10:14:04   Log-Likelihood:                 473.51\n",
       "No. Observations:                  80   AIC:                            -939.0\n",
       "Df Residuals:                      76   BIC:                            -929.5\n",
       "Df Model:                           3                                         \n",
       "Covariance Type:            nonrobust                                         \n",
       "=========================================================================================\n",
       "                            coef    std err          t      P>|t|      [0.025      0.975]\n",
       "-----------------------------------------------------------------------------------------\n",
       "Intercept                 0.0044      0.000     24.010      0.000       0.004       0.005\n",
       "C(synthesis)[T.Twist]    -0.0020      0.000    -11.766      0.000      -0.002      -0.002\n",
       "PCRC                      0.0001   4.58e-06     23.725      0.000    9.96e-05       0.000\n",
       "Decay                     0.0001   3.29e-05      3.470      0.001    4.87e-05       0.000\n",
       "==============================================================================\n",
       "Omnibus:                        0.799   Durbin-Watson:                   0.969\n",
       "Prob(Omnibus):                  0.671   Jarque-Bera (JB):                0.322\n",
       "Skew:                           0.075   Prob(JB):                        0.851\n",
       "Kurtosis:                       3.272   Cond. No.                         112.\n",
       "==============================================================================\n",
       "\n",
       "Notes:\n",
       "[1] Standard Errors assume that the covariance matrix of the errors is correctly specified.\n",
       "\"\"\""
      ]
     },
     "metadata": {},
     "output_type": "display_data"
    },
    {
     "data": {
      "text/html": [
       "<div>\n",
       "<style scoped>\n",
       "    .dataframe tbody tr th:only-of-type {\n",
       "        vertical-align: middle;\n",
       "    }\n",
       "\n",
       "    .dataframe tbody tr th {\n",
       "        vertical-align: top;\n",
       "    }\n",
       "\n",
       "    .dataframe thead th {\n",
       "        text-align: right;\n",
       "    }\n",
       "</style>\n",
       "<table border=\"1\" class=\"dataframe\">\n",
       "  <thead>\n",
       "    <tr style=\"text-align: right;\">\n",
       "      <th></th>\n",
       "      <th>sum_sq</th>\n",
       "      <th>df</th>\n",
       "      <th>F</th>\n",
       "      <th>PR(&gt;F)</th>\n",
       "      <th>eta_sq</th>\n",
       "    </tr>\n",
       "  </thead>\n",
       "  <tbody>\n",
       "    <tr>\n",
       "      <th>C(synthesis)</th>\n",
       "      <td>0.000051</td>\n",
       "      <td>1.0</td>\n",
       "      <td>115.403128</td>\n",
       "      <td>6.656245e-17</td>\n",
       "      <td>7.9%</td>\n",
       "    </tr>\n",
       "    <tr>\n",
       "      <th>PCRC</th>\n",
       "      <td>0.000557</td>\n",
       "      <td>1.0</td>\n",
       "      <td>1251.414821</td>\n",
       "      <td>5.878049e-49</td>\n",
       "      <td>86.2%</td>\n",
       "    </tr>\n",
       "    <tr>\n",
       "      <th>Decay</th>\n",
       "      <td>0.000004</td>\n",
       "      <td>1.0</td>\n",
       "      <td>9.375963</td>\n",
       "      <td>3.039231e-03</td>\n",
       "      <td>0.6%</td>\n",
       "    </tr>\n",
       "    <tr>\n",
       "      <th>Residual</th>\n",
       "      <td>0.000034</td>\n",
       "      <td>76.0</td>\n",
       "      <td>NaN</td>\n",
       "      <td>NaN</td>\n",
       "      <td>5.2%</td>\n",
       "    </tr>\n",
       "  </tbody>\n",
       "</table>\n",
       "</div>"
      ],
      "text/plain": [
       "                sum_sq    df            F        PR(>F) eta_sq\n",
       "C(synthesis)  0.000051   1.0   115.403128  6.656245e-17   7.9%\n",
       "PCRC          0.000557   1.0  1251.414821  5.878049e-49  86.2%\n",
       "Decay         0.000004   1.0     9.375963  3.039231e-03   0.6%\n",
       "Residual      0.000034  76.0          NaN           NaN   5.2%"
      ]
     },
     "metadata": {},
     "output_type": "display_data"
    }
   ],
   "source": [
    "sub_table = anova(errordata, 'substitutions')"
   ]
  },
  {
   "cell_type": "code",
   "execution_count": 6,
   "metadata": {},
   "outputs": [
    {
     "data": {
      "text/html": [
       "<table class=\"simpletable\">\n",
       "<caption>OLS Regression Results</caption>\n",
       "<tr>\n",
       "  <th>Dep. Variable:</th>           <td>val</td>       <th>  R-squared:         </th> <td>   0.932</td>\n",
       "</tr>\n",
       "<tr>\n",
       "  <th>Model:</th>                   <td>OLS</td>       <th>  Adj. R-squared:    </th> <td>   0.929</td>\n",
       "</tr>\n",
       "<tr>\n",
       "  <th>Method:</th>             <td>Least Squares</td>  <th>  F-statistic:       </th> <td>   346.8</td>\n",
       "</tr>\n",
       "<tr>\n",
       "  <th>Date:</th>             <td>Wed, 21 Jun 2023</td> <th>  Prob (F-statistic):</th> <td>3.05e-44</td>\n",
       "</tr>\n",
       "<tr>\n",
       "  <th>Time:</th>                 <td>10:14:05</td>     <th>  Log-Likelihood:    </th> <td>  663.31</td>\n",
       "</tr>\n",
       "<tr>\n",
       "  <th>No. Observations:</th>      <td>    80</td>      <th>  AIC:               </th> <td>  -1319.</td>\n",
       "</tr>\n",
       "<tr>\n",
       "  <th>Df Residuals:</th>          <td>    76</td>      <th>  BIC:               </th> <td>  -1309.</td>\n",
       "</tr>\n",
       "<tr>\n",
       "  <th>Df Model:</th>              <td>     3</td>      <th>                     </th>     <td> </td>   \n",
       "</tr>\n",
       "<tr>\n",
       "  <th>Covariance Type:</th>      <td>nonrobust</td>    <th>                     </th>     <td> </td>   \n",
       "</tr>\n",
       "</table>\n",
       "<table class=\"simpletable\">\n",
       "<tr>\n",
       "            <td></td>               <th>coef</th>     <th>std err</th>      <th>t</th>      <th>P>|t|</th>  <th>[0.025</th>    <th>0.975]</th>  \n",
       "</tr>\n",
       "<tr>\n",
       "  <th>Intercept</th>             <td>    0.0005</td> <td> 1.72e-05</td> <td>   29.914</td> <td> 0.000</td> <td>    0.000</td> <td>    0.001</td>\n",
       "</tr>\n",
       "<tr>\n",
       "  <th>C(synthesis)[T.Twist]</th> <td>   -0.0005</td> <td> 1.57e-05</td> <td>  -29.106</td> <td> 0.000</td> <td>   -0.000</td> <td>   -0.000</td>\n",
       "</tr>\n",
       "<tr>\n",
       "  <th>PCRC</th>                  <td> 4.188e-07</td> <td> 4.27e-07</td> <td>    0.980</td> <td> 0.330</td> <td>-4.32e-07</td> <td> 1.27e-06</td>\n",
       "</tr>\n",
       "<tr>\n",
       "  <th>Decay</th>                 <td> 1.432e-08</td> <td> 3.07e-06</td> <td>    0.005</td> <td> 0.996</td> <td> -6.1e-06</td> <td> 6.13e-06</td>\n",
       "</tr>\n",
       "</table>\n",
       "<table class=\"simpletable\">\n",
       "<tr>\n",
       "  <th>Omnibus:</th>       <td> 2.465</td> <th>  Durbin-Watson:     </th> <td>   0.197</td>\n",
       "</tr>\n",
       "<tr>\n",
       "  <th>Prob(Omnibus):</th> <td> 0.292</td> <th>  Jarque-Bera (JB):  </th> <td>   1.556</td>\n",
       "</tr>\n",
       "<tr>\n",
       "  <th>Skew:</th>          <td> 0.011</td> <th>  Prob(JB):          </th> <td>   0.459</td>\n",
       "</tr>\n",
       "<tr>\n",
       "  <th>Kurtosis:</th>      <td> 2.317</td> <th>  Cond. No.          </th> <td>    112.</td>\n",
       "</tr>\n",
       "</table><br/><br/>Notes:<br/>[1] Standard Errors assume that the covariance matrix of the errors is correctly specified."
      ],
      "text/latex": [
       "\\begin{center}\n",
       "\\begin{tabular}{lclc}\n",
       "\\toprule\n",
       "\\textbf{Dep. Variable:}        &       val        & \\textbf{  R-squared:         } &     0.932   \\\\\n",
       "\\textbf{Model:}                &       OLS        & \\textbf{  Adj. R-squared:    } &     0.929   \\\\\n",
       "\\textbf{Method:}               &  Least Squares   & \\textbf{  F-statistic:       } &     346.8   \\\\\n",
       "\\textbf{Date:}                 & Wed, 21 Jun 2023 & \\textbf{  Prob (F-statistic):} &  3.05e-44   \\\\\n",
       "\\textbf{Time:}                 &     10:14:05     & \\textbf{  Log-Likelihood:    } &    663.31   \\\\\n",
       "\\textbf{No. Observations:}     &          80      & \\textbf{  AIC:               } &    -1319.   \\\\\n",
       "\\textbf{Df Residuals:}         &          76      & \\textbf{  BIC:               } &    -1309.   \\\\\n",
       "\\textbf{Df Model:}             &           3      & \\textbf{                     } &             \\\\\n",
       "\\textbf{Covariance Type:}      &    nonrobust     & \\textbf{                     } &             \\\\\n",
       "\\bottomrule\n",
       "\\end{tabular}\n",
       "\\begin{tabular}{lcccccc}\n",
       "                               & \\textbf{coef} & \\textbf{std err} & \\textbf{t} & \\textbf{P$> |$t$|$} & \\textbf{[0.025} & \\textbf{0.975]}  \\\\\n",
       "\\midrule\n",
       "\\textbf{Intercept}             &       0.0005  &     1.72e-05     &    29.914  &         0.000        &        0.000    &        0.001     \\\\\n",
       "\\textbf{C(synthesis)[T.Twist]} &      -0.0005  &     1.57e-05     &   -29.106  &         0.000        &       -0.000    &       -0.000     \\\\\n",
       "\\textbf{PCRC}                  &    4.188e-07  &     4.27e-07     &     0.980  &         0.330        &    -4.32e-07    &     1.27e-06     \\\\\n",
       "\\textbf{Decay}                 &    1.432e-08  &     3.07e-06     &     0.005  &         0.996        &     -6.1e-06    &     6.13e-06     \\\\\n",
       "\\bottomrule\n",
       "\\end{tabular}\n",
       "\\begin{tabular}{lclc}\n",
       "\\textbf{Omnibus:}       &  2.465 & \\textbf{  Durbin-Watson:     } &    0.197  \\\\\n",
       "\\textbf{Prob(Omnibus):} &  0.292 & \\textbf{  Jarque-Bera (JB):  } &    1.556  \\\\\n",
       "\\textbf{Skew:}          &  0.011 & \\textbf{  Prob(JB):          } &    0.459  \\\\\n",
       "\\textbf{Kurtosis:}      &  2.317 & \\textbf{  Cond. No.          } &     112.  \\\\\n",
       "\\bottomrule\n",
       "\\end{tabular}\n",
       "%\\caption{OLS Regression Results}\n",
       "\\end{center}\n",
       "\n",
       "Notes: \\newline\n",
       " [1] Standard Errors assume that the covariance matrix of the errors is correctly specified."
      ],
      "text/plain": [
       "<class 'statsmodels.iolib.summary.Summary'>\n",
       "\"\"\"\n",
       "                            OLS Regression Results                            \n",
       "==============================================================================\n",
       "Dep. Variable:                    val   R-squared:                       0.932\n",
       "Model:                            OLS   Adj. R-squared:                  0.929\n",
       "Method:                 Least Squares   F-statistic:                     346.8\n",
       "Date:                Wed, 21 Jun 2023   Prob (F-statistic):           3.05e-44\n",
       "Time:                        10:14:05   Log-Likelihood:                 663.31\n",
       "No. Observations:                  80   AIC:                            -1319.\n",
       "Df Residuals:                      76   BIC:                            -1309.\n",
       "Df Model:                           3                                         \n",
       "Covariance Type:            nonrobust                                         \n",
       "=========================================================================================\n",
       "                            coef    std err          t      P>|t|      [0.025      0.975]\n",
       "-----------------------------------------------------------------------------------------\n",
       "Intercept                 0.0005   1.72e-05     29.914      0.000       0.000       0.001\n",
       "C(synthesis)[T.Twist]    -0.0005   1.57e-05    -29.106      0.000      -0.000      -0.000\n",
       "PCRC                   4.188e-07   4.27e-07      0.980      0.330   -4.32e-07    1.27e-06\n",
       "Decay                  1.432e-08   3.07e-06      0.005      0.996    -6.1e-06    6.13e-06\n",
       "==============================================================================\n",
       "Omnibus:                        2.465   Durbin-Watson:                   0.197\n",
       "Prob(Omnibus):                  0.292   Jarque-Bera (JB):                1.556\n",
       "Skew:                           0.011   Prob(JB):                        0.459\n",
       "Kurtosis:                       2.317   Cond. No.                         112.\n",
       "==============================================================================\n",
       "\n",
       "Notes:\n",
       "[1] Standard Errors assume that the covariance matrix of the errors is correctly specified.\n",
       "\"\"\""
      ]
     },
     "metadata": {},
     "output_type": "display_data"
    },
    {
     "data": {
      "text/html": [
       "<div>\n",
       "<style scoped>\n",
       "    .dataframe tbody tr th:only-of-type {\n",
       "        vertical-align: middle;\n",
       "    }\n",
       "\n",
       "    .dataframe tbody tr th {\n",
       "        vertical-align: top;\n",
       "    }\n",
       "\n",
       "    .dataframe thead th {\n",
       "        text-align: right;\n",
       "    }\n",
       "</style>\n",
       "<table border=\"1\" class=\"dataframe\">\n",
       "  <thead>\n",
       "    <tr style=\"text-align: right;\">\n",
       "      <th></th>\n",
       "      <th>sum_sq</th>\n",
       "      <th>df</th>\n",
       "      <th>F</th>\n",
       "      <th>PR(&gt;F)</th>\n",
       "      <th>eta_sq</th>\n",
       "    </tr>\n",
       "  </thead>\n",
       "  <tbody>\n",
       "    <tr>\n",
       "      <th>C(synthesis)</th>\n",
       "      <td>3.224748e-06</td>\n",
       "      <td>1.0</td>\n",
       "      <td>832.765385</td>\n",
       "      <td>1.067362e-42</td>\n",
       "      <td>91.4%</td>\n",
       "    </tr>\n",
       "    <tr>\n",
       "      <th>PCRC</th>\n",
       "      <td>8.186384e-09</td>\n",
       "      <td>1.0</td>\n",
       "      <td>2.114068</td>\n",
       "      <td>1.500682e-01</td>\n",
       "      <td>0.2%</td>\n",
       "    </tr>\n",
       "    <tr>\n",
       "      <th>Decay</th>\n",
       "      <td>8.529131e-14</td>\n",
       "      <td>1.0</td>\n",
       "      <td>0.000022</td>\n",
       "      <td>9.962677e-01</td>\n",
       "      <td>0.0%</td>\n",
       "    </tr>\n",
       "    <tr>\n",
       "      <th>Residual</th>\n",
       "      <td>2.942976e-07</td>\n",
       "      <td>76.0</td>\n",
       "      <td>NaN</td>\n",
       "      <td>NaN</td>\n",
       "      <td>8.3%</td>\n",
       "    </tr>\n",
       "  </tbody>\n",
       "</table>\n",
       "</div>"
      ],
      "text/plain": [
       "                    sum_sq    df           F        PR(>F) eta_sq\n",
       "C(synthesis)  3.224748e-06   1.0  832.765385  1.067362e-42  91.4%\n",
       "PCRC          8.186384e-09   1.0    2.114068  1.500682e-01   0.2%\n",
       "Decay         8.529131e-14   1.0    0.000022  9.962677e-01   0.0%\n",
       "Residual      2.942976e-07  76.0         NaN           NaN   8.3%"
      ]
     },
     "metadata": {},
     "output_type": "display_data"
    }
   ],
   "source": [
    "ins_table = anova(errordata, 'insertions')"
   ]
  },
  {
   "cell_type": "code",
   "execution_count": 7,
   "metadata": {},
   "outputs": [
    {
     "data": {
      "application/vnd.plotly.v1+json": {
       "config": {
        "plotlyServerURL": "https://plot.ly"
       },
       "data": [
        {
         "alignmentgroup": "True",
         "hovertemplate": "index=C(synthesis)<br>type=%{x}<br>eta_sq=%{y}<extra></extra>",
         "legendgroup": "C(synthesis)",
         "marker": {
          "color": "#252525",
          "pattern": {
           "shape": ""
          }
         },
         "name": "C(synthesis)",
         "offsetgroup": "C(synthesis)",
         "orientation": "v",
         "showlegend": true,
         "textposition": "auto",
         "type": "bar",
         "x": [
          "Dels.",
          "Subs."
         ],
         "xaxis": "x",
         "y": [
          0.9230896320299278,
          0.07946812525742226
         ],
         "yaxis": "y"
        },
        {
         "alignmentgroup": "True",
         "hovertemplate": "index=PCRC<br>type=%{x}<br>eta_sq=%{y}<extra></extra>",
         "legendgroup": "PCRC",
         "marker": {
          "color": "#636363",
          "pattern": {
           "shape": ""
          }
         },
         "name": "PCRC",
         "offsetgroup": "PCRC",
         "orientation": "v",
         "showlegend": true,
         "textposition": "auto",
         "type": "bar",
         "x": [
          "Dels.",
          "Subs."
         ],
         "xaxis": "x",
         "y": [
          0.0017785715320994984,
          0.8617408537798963
         ],
         "yaxis": "y"
        },
        {
         "alignmentgroup": "True",
         "hovertemplate": "index=Decay<br>type=%{x}<br>eta_sq=%{y}<extra></extra>",
         "legendgroup": "Decay",
         "marker": {
          "color": "#969696",
          "pattern": {
           "shape": ""
          }
         },
         "name": "Decay",
         "offsetgroup": "Decay",
         "orientation": "v",
         "showlegend": true,
         "textposition": "auto",
         "type": "bar",
         "x": [
          "Dels.",
          "Subs."
         ],
         "xaxis": "x",
         "y": [
          1.2852674924330184e-10,
          0.006456412351275971
         ],
         "yaxis": "y"
        },
        {
         "alignmentgroup": "True",
         "hovertemplate": "index=Residual<br>type=%{x}<br>eta_sq=%{y}<extra></extra>",
         "legendgroup": "Residual",
         "marker": {
          "color": "#cccccc",
          "pattern": {
           "shape": ""
          }
         },
         "name": "Residual",
         "offsetgroup": "Residual",
         "orientation": "v",
         "showlegend": true,
         "textposition": "auto",
         "type": "bar",
         "x": [
          "Dels.",
          "Subs."
         ],
         "xaxis": "x",
         "y": [
          0.07513179630944604,
          0.0523346086114056
         ],
         "yaxis": "y"
        }
       ],
       "layout": {
        "barmode": "relative",
        "font": {
         "family": "Inter"
        },
        "height": 375,
        "legend": {
         "font": {
          "size": 9.333333333333334
         },
         "title": {
          "text": ""
         },
         "tracegroupgap": 0,
         "x": -0.4,
         "xanchor": "left",
         "y": -0.15,
         "yanchor": "top"
        },
        "margin": {
         "b": 150,
         "l": 0,
         "r": 0,
         "t": 0
        },
        "template": {
         "data": {
          "bar": [
           {
            "error_x": {
             "color": "rgb(36,36,36)"
            },
            "error_y": {
             "color": "rgb(36,36,36)"
            },
            "marker": {
             "line": {
              "color": "white",
              "width": 0.5
             },
             "pattern": {
              "fillmode": "overlay",
              "size": 10,
              "solidity": 0.2
             }
            },
            "type": "bar"
           }
          ],
          "barpolar": [
           {
            "marker": {
             "line": {
              "color": "white",
              "width": 0.5
             },
             "pattern": {
              "fillmode": "overlay",
              "size": 10,
              "solidity": 0.2
             }
            },
            "type": "barpolar"
           }
          ],
          "carpet": [
           {
            "aaxis": {
             "endlinecolor": "rgb(36,36,36)",
             "gridcolor": "white",
             "linecolor": "white",
             "minorgridcolor": "white",
             "startlinecolor": "rgb(36,36,36)"
            },
            "baxis": {
             "endlinecolor": "rgb(36,36,36)",
             "gridcolor": "white",
             "linecolor": "white",
             "minorgridcolor": "white",
             "startlinecolor": "rgb(36,36,36)"
            },
            "type": "carpet"
           }
          ],
          "choropleth": [
           {
            "colorbar": {
             "outlinewidth": 1,
             "tickcolor": "rgb(36,36,36)",
             "ticks": "outside"
            },
            "type": "choropleth"
           }
          ],
          "contour": [
           {
            "colorbar": {
             "outlinewidth": 1,
             "tickcolor": "rgb(36,36,36)",
             "ticks": "outside"
            },
            "colorscale": [
             [
              0,
              "#440154"
             ],
             [
              0.1111111111111111,
              "#482878"
             ],
             [
              0.2222222222222222,
              "#3e4989"
             ],
             [
              0.3333333333333333,
              "#31688e"
             ],
             [
              0.4444444444444444,
              "#26828e"
             ],
             [
              0.5555555555555556,
              "#1f9e89"
             ],
             [
              0.6666666666666666,
              "#35b779"
             ],
             [
              0.7777777777777778,
              "#6ece58"
             ],
             [
              0.8888888888888888,
              "#b5de2b"
             ],
             [
              1,
              "#fde725"
             ]
            ],
            "type": "contour"
           }
          ],
          "contourcarpet": [
           {
            "colorbar": {
             "outlinewidth": 1,
             "tickcolor": "rgb(36,36,36)",
             "ticks": "outside"
            },
            "type": "contourcarpet"
           }
          ],
          "heatmap": [
           {
            "colorbar": {
             "outlinewidth": 1,
             "tickcolor": "rgb(36,36,36)",
             "ticks": "outside"
            },
            "colorscale": [
             [
              0,
              "#440154"
             ],
             [
              0.1111111111111111,
              "#482878"
             ],
             [
              0.2222222222222222,
              "#3e4989"
             ],
             [
              0.3333333333333333,
              "#31688e"
             ],
             [
              0.4444444444444444,
              "#26828e"
             ],
             [
              0.5555555555555556,
              "#1f9e89"
             ],
             [
              0.6666666666666666,
              "#35b779"
             ],
             [
              0.7777777777777778,
              "#6ece58"
             ],
             [
              0.8888888888888888,
              "#b5de2b"
             ],
             [
              1,
              "#fde725"
             ]
            ],
            "type": "heatmap"
           }
          ],
          "heatmapgl": [
           {
            "colorbar": {
             "outlinewidth": 1,
             "tickcolor": "rgb(36,36,36)",
             "ticks": "outside"
            },
            "colorscale": [
             [
              0,
              "#440154"
             ],
             [
              0.1111111111111111,
              "#482878"
             ],
             [
              0.2222222222222222,
              "#3e4989"
             ],
             [
              0.3333333333333333,
              "#31688e"
             ],
             [
              0.4444444444444444,
              "#26828e"
             ],
             [
              0.5555555555555556,
              "#1f9e89"
             ],
             [
              0.6666666666666666,
              "#35b779"
             ],
             [
              0.7777777777777778,
              "#6ece58"
             ],
             [
              0.8888888888888888,
              "#b5de2b"
             ],
             [
              1,
              "#fde725"
             ]
            ],
            "type": "heatmapgl"
           }
          ],
          "histogram": [
           {
            "marker": {
             "line": {
              "color": "white",
              "width": 0.6
             }
            },
            "type": "histogram"
           }
          ],
          "histogram2d": [
           {
            "colorbar": {
             "outlinewidth": 1,
             "tickcolor": "rgb(36,36,36)",
             "ticks": "outside"
            },
            "colorscale": [
             [
              0,
              "#440154"
             ],
             [
              0.1111111111111111,
              "#482878"
             ],
             [
              0.2222222222222222,
              "#3e4989"
             ],
             [
              0.3333333333333333,
              "#31688e"
             ],
             [
              0.4444444444444444,
              "#26828e"
             ],
             [
              0.5555555555555556,
              "#1f9e89"
             ],
             [
              0.6666666666666666,
              "#35b779"
             ],
             [
              0.7777777777777778,
              "#6ece58"
             ],
             [
              0.8888888888888888,
              "#b5de2b"
             ],
             [
              1,
              "#fde725"
             ]
            ],
            "type": "histogram2d"
           }
          ],
          "histogram2dcontour": [
           {
            "colorbar": {
             "outlinewidth": 1,
             "tickcolor": "rgb(36,36,36)",
             "ticks": "outside"
            },
            "colorscale": [
             [
              0,
              "#440154"
             ],
             [
              0.1111111111111111,
              "#482878"
             ],
             [
              0.2222222222222222,
              "#3e4989"
             ],
             [
              0.3333333333333333,
              "#31688e"
             ],
             [
              0.4444444444444444,
              "#26828e"
             ],
             [
              0.5555555555555556,
              "#1f9e89"
             ],
             [
              0.6666666666666666,
              "#35b779"
             ],
             [
              0.7777777777777778,
              "#6ece58"
             ],
             [
              0.8888888888888888,
              "#b5de2b"
             ],
             [
              1,
              "#fde725"
             ]
            ],
            "type": "histogram2dcontour"
           }
          ],
          "mesh3d": [
           {
            "colorbar": {
             "outlinewidth": 1,
             "tickcolor": "rgb(36,36,36)",
             "ticks": "outside"
            },
            "type": "mesh3d"
           }
          ],
          "parcoords": [
           {
            "line": {
             "colorbar": {
              "outlinewidth": 1,
              "tickcolor": "rgb(36,36,36)",
              "ticks": "outside"
             }
            },
            "type": "parcoords"
           }
          ],
          "pie": [
           {
            "automargin": true,
            "type": "pie"
           }
          ],
          "scatter": [
           {
            "fillpattern": {
             "fillmode": "overlay",
             "size": 10,
             "solidity": 0.2
            },
            "type": "scatter"
           }
          ],
          "scatter3d": [
           {
            "line": {
             "colorbar": {
              "outlinewidth": 1,
              "tickcolor": "rgb(36,36,36)",
              "ticks": "outside"
             }
            },
            "marker": {
             "colorbar": {
              "outlinewidth": 1,
              "tickcolor": "rgb(36,36,36)",
              "ticks": "outside"
             }
            },
            "type": "scatter3d"
           }
          ],
          "scattercarpet": [
           {
            "marker": {
             "colorbar": {
              "outlinewidth": 1,
              "tickcolor": "rgb(36,36,36)",
              "ticks": "outside"
             }
            },
            "type": "scattercarpet"
           }
          ],
          "scattergeo": [
           {
            "marker": {
             "colorbar": {
              "outlinewidth": 1,
              "tickcolor": "rgb(36,36,36)",
              "ticks": "outside"
             }
            },
            "type": "scattergeo"
           }
          ],
          "scattergl": [
           {
            "marker": {
             "colorbar": {
              "outlinewidth": 1,
              "tickcolor": "rgb(36,36,36)",
              "ticks": "outside"
             }
            },
            "type": "scattergl"
           }
          ],
          "scattermapbox": [
           {
            "marker": {
             "colorbar": {
              "outlinewidth": 1,
              "tickcolor": "rgb(36,36,36)",
              "ticks": "outside"
             }
            },
            "type": "scattermapbox"
           }
          ],
          "scatterpolar": [
           {
            "marker": {
             "colorbar": {
              "outlinewidth": 1,
              "tickcolor": "rgb(36,36,36)",
              "ticks": "outside"
             }
            },
            "type": "scatterpolar"
           }
          ],
          "scatterpolargl": [
           {
            "marker": {
             "colorbar": {
              "outlinewidth": 1,
              "tickcolor": "rgb(36,36,36)",
              "ticks": "outside"
             }
            },
            "type": "scatterpolargl"
           }
          ],
          "scatterternary": [
           {
            "marker": {
             "colorbar": {
              "outlinewidth": 1,
              "tickcolor": "rgb(36,36,36)",
              "ticks": "outside"
             }
            },
            "type": "scatterternary"
           }
          ],
          "surface": [
           {
            "colorbar": {
             "outlinewidth": 1,
             "tickcolor": "rgb(36,36,36)",
             "ticks": "outside"
            },
            "colorscale": [
             [
              0,
              "#440154"
             ],
             [
              0.1111111111111111,
              "#482878"
             ],
             [
              0.2222222222222222,
              "#3e4989"
             ],
             [
              0.3333333333333333,
              "#31688e"
             ],
             [
              0.4444444444444444,
              "#26828e"
             ],
             [
              0.5555555555555556,
              "#1f9e89"
             ],
             [
              0.6666666666666666,
              "#35b779"
             ],
             [
              0.7777777777777778,
              "#6ece58"
             ],
             [
              0.8888888888888888,
              "#b5de2b"
             ],
             [
              1,
              "#fde725"
             ]
            ],
            "type": "surface"
           }
          ],
          "table": [
           {
            "cells": {
             "fill": {
              "color": "rgb(237,237,237)"
             },
             "line": {
              "color": "white"
             }
            },
            "header": {
             "fill": {
              "color": "rgb(217,217,217)"
             },
             "line": {
              "color": "white"
             }
            },
            "type": "table"
           }
          ]
         },
         "layout": {
          "annotationdefaults": {
           "arrowhead": 0,
           "arrowwidth": 1
          },
          "autotypenumbers": "strict",
          "coloraxis": {
           "colorbar": {
            "outlinewidth": 1,
            "tickcolor": "rgb(36,36,36)",
            "ticks": "outside"
           }
          },
          "colorscale": {
           "diverging": [
            [
             0,
             "rgb(103,0,31)"
            ],
            [
             0.1,
             "rgb(178,24,43)"
            ],
            [
             0.2,
             "rgb(214,96,77)"
            ],
            [
             0.3,
             "rgb(244,165,130)"
            ],
            [
             0.4,
             "rgb(253,219,199)"
            ],
            [
             0.5,
             "rgb(247,247,247)"
            ],
            [
             0.6,
             "rgb(209,229,240)"
            ],
            [
             0.7,
             "rgb(146,197,222)"
            ],
            [
             0.8,
             "rgb(67,147,195)"
            ],
            [
             0.9,
             "rgb(33,102,172)"
            ],
            [
             1,
             "rgb(5,48,97)"
            ]
           ],
           "sequential": [
            [
             0,
             "#440154"
            ],
            [
             0.1111111111111111,
             "#482878"
            ],
            [
             0.2222222222222222,
             "#3e4989"
            ],
            [
             0.3333333333333333,
             "#31688e"
            ],
            [
             0.4444444444444444,
             "#26828e"
            ],
            [
             0.5555555555555556,
             "#1f9e89"
            ],
            [
             0.6666666666666666,
             "#35b779"
            ],
            [
             0.7777777777777778,
             "#6ece58"
            ],
            [
             0.8888888888888888,
             "#b5de2b"
            ],
            [
             1,
             "#fde725"
            ]
           ],
           "sequentialminus": [
            [
             0,
             "#440154"
            ],
            [
             0.1111111111111111,
             "#482878"
            ],
            [
             0.2222222222222222,
             "#3e4989"
            ],
            [
             0.3333333333333333,
             "#31688e"
            ],
            [
             0.4444444444444444,
             "#26828e"
            ],
            [
             0.5555555555555556,
             "#1f9e89"
            ],
            [
             0.6666666666666666,
             "#35b779"
            ],
            [
             0.7777777777777778,
             "#6ece58"
            ],
            [
             0.8888888888888888,
             "#b5de2b"
            ],
            [
             1,
             "#fde725"
            ]
           ]
          },
          "colorway": [
           "#1F77B4",
           "#FF7F0E",
           "#2CA02C",
           "#D62728",
           "#9467BD",
           "#8C564B",
           "#E377C2",
           "#7F7F7F",
           "#BCBD22",
           "#17BECF"
          ],
          "font": {
           "color": "rgb(36,36,36)"
          },
          "geo": {
           "bgcolor": "white",
           "lakecolor": "white",
           "landcolor": "white",
           "showlakes": true,
           "showland": true,
           "subunitcolor": "white"
          },
          "hoverlabel": {
           "align": "left"
          },
          "hovermode": "closest",
          "mapbox": {
           "style": "light"
          },
          "paper_bgcolor": "white",
          "plot_bgcolor": "white",
          "polar": {
           "angularaxis": {
            "gridcolor": "rgb(232,232,232)",
            "linecolor": "rgb(36,36,36)",
            "showgrid": false,
            "showline": true,
            "ticks": "outside"
           },
           "bgcolor": "white",
           "radialaxis": {
            "gridcolor": "rgb(232,232,232)",
            "linecolor": "rgb(36,36,36)",
            "showgrid": false,
            "showline": true,
            "ticks": "outside"
           }
          },
          "scene": {
           "xaxis": {
            "backgroundcolor": "white",
            "gridcolor": "rgb(232,232,232)",
            "gridwidth": 2,
            "linecolor": "rgb(36,36,36)",
            "showbackground": true,
            "showgrid": false,
            "showline": true,
            "ticks": "outside",
            "zeroline": false,
            "zerolinecolor": "rgb(36,36,36)"
           },
           "yaxis": {
            "backgroundcolor": "white",
            "gridcolor": "rgb(232,232,232)",
            "gridwidth": 2,
            "linecolor": "rgb(36,36,36)",
            "showbackground": true,
            "showgrid": false,
            "showline": true,
            "ticks": "outside",
            "zeroline": false,
            "zerolinecolor": "rgb(36,36,36)"
           },
           "zaxis": {
            "backgroundcolor": "white",
            "gridcolor": "rgb(232,232,232)",
            "gridwidth": 2,
            "linecolor": "rgb(36,36,36)",
            "showbackground": true,
            "showgrid": false,
            "showline": true,
            "ticks": "outside",
            "zeroline": false,
            "zerolinecolor": "rgb(36,36,36)"
           }
          },
          "shapedefaults": {
           "fillcolor": "black",
           "line": {
            "width": 0
           },
           "opacity": 0.3
          },
          "ternary": {
           "aaxis": {
            "gridcolor": "rgb(232,232,232)",
            "linecolor": "rgb(36,36,36)",
            "showgrid": false,
            "showline": true,
            "ticks": "outside"
           },
           "baxis": {
            "gridcolor": "rgb(232,232,232)",
            "linecolor": "rgb(36,36,36)",
            "showgrid": false,
            "showline": true,
            "ticks": "outside"
           },
           "bgcolor": "white",
           "caxis": {
            "gridcolor": "rgb(232,232,232)",
            "linecolor": "rgb(36,36,36)",
            "showgrid": false,
            "showline": true,
            "ticks": "outside"
           }
          },
          "title": {
           "x": 0.05
          },
          "xaxis": {
           "automargin": true,
           "gridcolor": "rgb(232,232,232)",
           "linecolor": "rgb(36,36,36)",
           "showgrid": false,
           "showline": true,
           "ticks": "outside",
           "title": {
            "standoff": 15
           },
           "zeroline": false,
           "zerolinecolor": "rgb(36,36,36)"
          },
          "yaxis": {
           "automargin": true,
           "gridcolor": "rgb(232,232,232)",
           "linecolor": "rgb(36,36,36)",
           "showgrid": false,
           "showline": true,
           "ticks": "outside",
           "title": {
            "standoff": 15
           },
           "zeroline": false,
           "zerolinecolor": "rgb(36,36,36)"
          }
         }
        },
        "width": 125,
        "xaxis": {
         "anchor": "y",
         "domain": [
          0,
          1
         ],
         "tickfont": {
          "size": 9.333333333333334
         },
         "title": {
          "font": {
           "size": 9.333333333333334
          },
          "text": ""
         }
        },
        "yaxis": {
         "anchor": "x",
         "domain": [
          0,
          1
         ],
         "range": [
          0,
          1
         ],
         "tickfont": {
          "size": 9.333333333333334
         },
         "tickformat": ",.0%",
         "title": {
          "font": {
           "size": 9.333333333333334
          },
          "text": "Explained variance"
         }
        }
       }
      }
     },
     "metadata": {},
     "output_type": "display_data"
    }
   ],
   "source": [
    "sub_table['type'] = 'Subs.'\n",
    "del_table['type'] = 'Dels.'\n",
    "df = pd.concat([del_table, sub_table])\n",
    "\n",
    "\n",
    "fig = px.bar(\n",
    "    df, \n",
    "    x=\"type\", \n",
    "    y=\"eta_sq\", \n",
    "    color=df.index,\n",
    "    color_discrete_sequence=[\"#252525\", \"#636363\", \"#969696\", \"#cccccc\"],\n",
    ")\n",
    "\n",
    "\n",
    "fig.update_layout(\n",
    "    template='simple_white',\n",
    "    height=400,\n",
    "    width=175,\n",
    "    # showlegend=False,\n",
    "    legend=dict(\n",
    "        yanchor=\"top\",\n",
    "        y=-0.15,\n",
    "        xanchor=\"left\",\n",
    "        x=-0.4,\n",
    "        title_text=''\n",
    "    )\n",
    ")\n",
    "fig.update_yaxes(title_text='Explained variance', tickformat=\",.0%\", range=[0, 1])\n",
    "fig.update_xaxes(title_text='')\n",
    "fig.update_layout(\n",
    "    height=375,\n",
    "    width=125,\n",
    "    margin=dict(l=0, r=0, t=0, b=150),\n",
    "    font_family=\"Inter\",\n",
    "    legend_font_size=28/3,\n",
    ")\n",
    "fig.update_xaxes(title_font_size=28/3, tickfont_size=28/3)\n",
    "fig.update_yaxes(title_font_size=28/3, tickfont_size=28/3)\n",
    "fig.show()\n",
    "fig.write_image(\"anova.svg\")"
   ]
  }
 ],
 "metadata": {
  "kernelspec": {
   "display_name": "np_pd_sp",
   "language": "python",
   "name": "python3"
  },
  "language_info": {
   "codemirror_mode": {
    "name": "ipython",
    "version": 3
   },
   "file_extension": ".py",
   "mimetype": "text/x-python",
   "name": "python",
   "nbconvert_exporter": "python",
   "pygments_lexer": "ipython3",
   "version": "3.9.7"
  },
  "orig_nbformat": 4,
  "vscode": {
   "interpreter": {
    "hash": "da8130b5c8ccf41f100662caf67f3ba756beedabd599674f9119b95438e5e458"
   }
  }
 },
 "nbformat": 4,
 "nbformat_minor": 2
}
