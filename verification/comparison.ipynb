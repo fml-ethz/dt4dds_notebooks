{
 "cells": [
  {
   "cell_type": "code",
   "execution_count": 1,
   "metadata": {},
   "outputs": [],
   "source": [
    "import plotly.express as px\n",
    "import plotly.graph_objects as pg\n",
    "import numpy as np\n",
    "import pandas as pd\n",
    "import scipy.stats"
   ]
  },
  {
   "cell_type": "code",
   "execution_count": 2,
   "metadata": {},
   "outputs": [],
   "source": [
    "%load_ext autoreload\n",
    "%autoreload 2\n",
    "import dt4dds.analysis as analysis\n",
    "\n",
    "\n",
    "data = analysis.GroupAnalysis([\n",
    "    ('exp', analysis.ErrorAnalysis(\"../data/DoT/Bunny_M\")),\n",
    "    ('exp', analysis.ErrorAnalysis(\"../data/DoT/Bunny_P\")),\n",
    "    ('exp', analysis.ErrorAnalysis(\"../data/DoT/Bunny_F1\")),\n",
    "    ('exp', analysis.ErrorAnalysis(\"../data/DoT/Bunny_F2\")),\n",
    "    ('exp', analysis.ErrorAnalysis(\"../data/DoT/Bunny_F3\")),\n",
    "    ('exp', analysis.ErrorAnalysis(\"../data/DoT/Bunny_F4\")),\n",
    "    ('exp', analysis.ErrorAnalysis(\"../data/DoT/Bunny_F5\")),\n",
    "    ('sim', analysis.ErrorAnalysis(\"../data/bunny_generations/Bunny_M\")),\n",
    "    ('sim', analysis.ErrorAnalysis(\"../data/bunny_generations/Bunny_P\")),\n",
    "    ('sim', analysis.ErrorAnalysis(\"../data/bunny_generations/Bunny_F1\")),\n",
    "    ('sim', analysis.ErrorAnalysis(\"../data/bunny_generations/Bunny_F2\")),\n",
    "    ('sim', analysis.ErrorAnalysis(\"../data/bunny_generations/Bunny_F3\")),\n",
    "    ('sim', analysis.ErrorAnalysis(\"../data/bunny_generations/Bunny_F4\")),\n",
    "    ('sim', analysis.ErrorAnalysis(\"../data/bunny_generations/Bunny_F5\")),\n",
    "])"
   ]
  },
  {
   "cell_type": "code",
   "execution_count": 3,
   "metadata": {},
   "outputs": [
    {
     "data": {
      "application/vnd.plotly.v1+json": {
       "config": {
        "plotlyServerURL": "https://plot.ly"
       },
       "data": [
        {
         "marker": {
          "color": "#bdbdbd",
          "line": {
           "width": 0.5
          }
         },
         "type": "bar",
         "width": 0.125,
         "x": [
          0.125,
          0.25,
          0.375,
          0.5,
          0.625,
          0.75,
          0.875
         ],
         "y": [
          13.934142786824214,
          13.405465939188415,
          13.601004113784684,
          13.72926628130584,
          13.989013484401955,
          13.011256888554382,
          12.792118395343376
         ]
        },
        {
         "marker": {
          "color": "#636363",
          "line": {
           "width": 0.5
          }
         },
         "type": "bar",
         "width": 0.125,
         "x": [
          1.125,
          1.25,
          1.375,
          1.5,
          1.625,
          1.75,
          1.875
         ],
         "y": [
          11.208547683017569,
          11.271667444807552,
          11.304820869156657,
          11.263314339893098,
          11.306737366266216,
          11.360811550325067,
          11.277434086070441
         ]
        },
        {
         "marker": {
          "color": "#bdbdbd",
          "line": {
           "width": 0.5
          }
         },
         "type": "bar",
         "width": 0.125,
         "x": [
          2.625,
          2.75,
          2.875,
          3,
          3.125,
          3.25,
          3.375
         ],
         "y": [
          5.902919281533729,
          9.335104002291208,
          9.73911827834396,
          9.771772814461903,
          11.093040528006169,
          12.410751115319071,
          14.133323900953492
         ]
        },
        {
         "marker": {
          "color": "#636363",
          "line": {
           "width": 0.5
          }
         },
         "type": "bar",
         "width": 0.125,
         "x": [
          3.625,
          3.75,
          3.875,
          4,
          4.125,
          4.25,
          4.375
         ],
         "y": [
          7.510495496314651,
          8.717413981605349,
          9.903696482580694,
          11.08007572842168,
          12.231305762291905,
          13.458106707787701,
          14.67850422271038
         ]
        }
       ],
       "layout": {
        "font": {
         "family": "Inter"
        },
        "height": 150,
        "legend": {
         "font": {
          "size": 9.333333333333334
         }
        },
        "margin": {
         "b": 0,
         "l": 47,
         "r": 10,
         "t": 0
        },
        "showlegend": false,
        "template": {
         "data": {
          "bar": [
           {
            "error_x": {
             "color": "rgb(36,36,36)"
            },
            "error_y": {
             "color": "rgb(36,36,36)"
            },
            "marker": {
             "line": {
              "color": "white",
              "width": 0.5
             },
             "pattern": {
              "fillmode": "overlay",
              "size": 10,
              "solidity": 0.2
             }
            },
            "type": "bar"
           }
          ],
          "barpolar": [
           {
            "marker": {
             "line": {
              "color": "white",
              "width": 0.5
             },
             "pattern": {
              "fillmode": "overlay",
              "size": 10,
              "solidity": 0.2
             }
            },
            "type": "barpolar"
           }
          ],
          "carpet": [
           {
            "aaxis": {
             "endlinecolor": "rgb(36,36,36)",
             "gridcolor": "white",
             "linecolor": "white",
             "minorgridcolor": "white",
             "startlinecolor": "rgb(36,36,36)"
            },
            "baxis": {
             "endlinecolor": "rgb(36,36,36)",
             "gridcolor": "white",
             "linecolor": "white",
             "minorgridcolor": "white",
             "startlinecolor": "rgb(36,36,36)"
            },
            "type": "carpet"
           }
          ],
          "choropleth": [
           {
            "colorbar": {
             "outlinewidth": 1,
             "tickcolor": "rgb(36,36,36)",
             "ticks": "outside"
            },
            "type": "choropleth"
           }
          ],
          "contour": [
           {
            "colorbar": {
             "outlinewidth": 1,
             "tickcolor": "rgb(36,36,36)",
             "ticks": "outside"
            },
            "colorscale": [
             [
              0,
              "#440154"
             ],
             [
              0.1111111111111111,
              "#482878"
             ],
             [
              0.2222222222222222,
              "#3e4989"
             ],
             [
              0.3333333333333333,
              "#31688e"
             ],
             [
              0.4444444444444444,
              "#26828e"
             ],
             [
              0.5555555555555556,
              "#1f9e89"
             ],
             [
              0.6666666666666666,
              "#35b779"
             ],
             [
              0.7777777777777778,
              "#6ece58"
             ],
             [
              0.8888888888888888,
              "#b5de2b"
             ],
             [
              1,
              "#fde725"
             ]
            ],
            "type": "contour"
           }
          ],
          "contourcarpet": [
           {
            "colorbar": {
             "outlinewidth": 1,
             "tickcolor": "rgb(36,36,36)",
             "ticks": "outside"
            },
            "type": "contourcarpet"
           }
          ],
          "heatmap": [
           {
            "colorbar": {
             "outlinewidth": 1,
             "tickcolor": "rgb(36,36,36)",
             "ticks": "outside"
            },
            "colorscale": [
             [
              0,
              "#440154"
             ],
             [
              0.1111111111111111,
              "#482878"
             ],
             [
              0.2222222222222222,
              "#3e4989"
             ],
             [
              0.3333333333333333,
              "#31688e"
             ],
             [
              0.4444444444444444,
              "#26828e"
             ],
             [
              0.5555555555555556,
              "#1f9e89"
             ],
             [
              0.6666666666666666,
              "#35b779"
             ],
             [
              0.7777777777777778,
              "#6ece58"
             ],
             [
              0.8888888888888888,
              "#b5de2b"
             ],
             [
              1,
              "#fde725"
             ]
            ],
            "type": "heatmap"
           }
          ],
          "heatmapgl": [
           {
            "colorbar": {
             "outlinewidth": 1,
             "tickcolor": "rgb(36,36,36)",
             "ticks": "outside"
            },
            "colorscale": [
             [
              0,
              "#440154"
             ],
             [
              0.1111111111111111,
              "#482878"
             ],
             [
              0.2222222222222222,
              "#3e4989"
             ],
             [
              0.3333333333333333,
              "#31688e"
             ],
             [
              0.4444444444444444,
              "#26828e"
             ],
             [
              0.5555555555555556,
              "#1f9e89"
             ],
             [
              0.6666666666666666,
              "#35b779"
             ],
             [
              0.7777777777777778,
              "#6ece58"
             ],
             [
              0.8888888888888888,
              "#b5de2b"
             ],
             [
              1,
              "#fde725"
             ]
            ],
            "type": "heatmapgl"
           }
          ],
          "histogram": [
           {
            "marker": {
             "line": {
              "color": "white",
              "width": 0.6
             }
            },
            "type": "histogram"
           }
          ],
          "histogram2d": [
           {
            "colorbar": {
             "outlinewidth": 1,
             "tickcolor": "rgb(36,36,36)",
             "ticks": "outside"
            },
            "colorscale": [
             [
              0,
              "#440154"
             ],
             [
              0.1111111111111111,
              "#482878"
             ],
             [
              0.2222222222222222,
              "#3e4989"
             ],
             [
              0.3333333333333333,
              "#31688e"
             ],
             [
              0.4444444444444444,
              "#26828e"
             ],
             [
              0.5555555555555556,
              "#1f9e89"
             ],
             [
              0.6666666666666666,
              "#35b779"
             ],
             [
              0.7777777777777778,
              "#6ece58"
             ],
             [
              0.8888888888888888,
              "#b5de2b"
             ],
             [
              1,
              "#fde725"
             ]
            ],
            "type": "histogram2d"
           }
          ],
          "histogram2dcontour": [
           {
            "colorbar": {
             "outlinewidth": 1,
             "tickcolor": "rgb(36,36,36)",
             "ticks": "outside"
            },
            "colorscale": [
             [
              0,
              "#440154"
             ],
             [
              0.1111111111111111,
              "#482878"
             ],
             [
              0.2222222222222222,
              "#3e4989"
             ],
             [
              0.3333333333333333,
              "#31688e"
             ],
             [
              0.4444444444444444,
              "#26828e"
             ],
             [
              0.5555555555555556,
              "#1f9e89"
             ],
             [
              0.6666666666666666,
              "#35b779"
             ],
             [
              0.7777777777777778,
              "#6ece58"
             ],
             [
              0.8888888888888888,
              "#b5de2b"
             ],
             [
              1,
              "#fde725"
             ]
            ],
            "type": "histogram2dcontour"
           }
          ],
          "mesh3d": [
           {
            "colorbar": {
             "outlinewidth": 1,
             "tickcolor": "rgb(36,36,36)",
             "ticks": "outside"
            },
            "type": "mesh3d"
           }
          ],
          "parcoords": [
           {
            "line": {
             "colorbar": {
              "outlinewidth": 1,
              "tickcolor": "rgb(36,36,36)",
              "ticks": "outside"
             }
            },
            "type": "parcoords"
           }
          ],
          "pie": [
           {
            "automargin": true,
            "type": "pie"
           }
          ],
          "scatter": [
           {
            "fillpattern": {
             "fillmode": "overlay",
             "size": 10,
             "solidity": 0.2
            },
            "type": "scatter"
           }
          ],
          "scatter3d": [
           {
            "line": {
             "colorbar": {
              "outlinewidth": 1,
              "tickcolor": "rgb(36,36,36)",
              "ticks": "outside"
             }
            },
            "marker": {
             "colorbar": {
              "outlinewidth": 1,
              "tickcolor": "rgb(36,36,36)",
              "ticks": "outside"
             }
            },
            "type": "scatter3d"
           }
          ],
          "scattercarpet": [
           {
            "marker": {
             "colorbar": {
              "outlinewidth": 1,
              "tickcolor": "rgb(36,36,36)",
              "ticks": "outside"
             }
            },
            "type": "scattercarpet"
           }
          ],
          "scattergeo": [
           {
            "marker": {
             "colorbar": {
              "outlinewidth": 1,
              "tickcolor": "rgb(36,36,36)",
              "ticks": "outside"
             }
            },
            "type": "scattergeo"
           }
          ],
          "scattergl": [
           {
            "marker": {
             "colorbar": {
              "outlinewidth": 1,
              "tickcolor": "rgb(36,36,36)",
              "ticks": "outside"
             }
            },
            "type": "scattergl"
           }
          ],
          "scattermapbox": [
           {
            "marker": {
             "colorbar": {
              "outlinewidth": 1,
              "tickcolor": "rgb(36,36,36)",
              "ticks": "outside"
             }
            },
            "type": "scattermapbox"
           }
          ],
          "scatterpolar": [
           {
            "marker": {
             "colorbar": {
              "outlinewidth": 1,
              "tickcolor": "rgb(36,36,36)",
              "ticks": "outside"
             }
            },
            "type": "scatterpolar"
           }
          ],
          "scatterpolargl": [
           {
            "marker": {
             "colorbar": {
              "outlinewidth": 1,
              "tickcolor": "rgb(36,36,36)",
              "ticks": "outside"
             }
            },
            "type": "scatterpolargl"
           }
          ],
          "scatterternary": [
           {
            "marker": {
             "colorbar": {
              "outlinewidth": 1,
              "tickcolor": "rgb(36,36,36)",
              "ticks": "outside"
             }
            },
            "type": "scatterternary"
           }
          ],
          "surface": [
           {
            "colorbar": {
             "outlinewidth": 1,
             "tickcolor": "rgb(36,36,36)",
             "ticks": "outside"
            },
            "colorscale": [
             [
              0,
              "#440154"
             ],
             [
              0.1111111111111111,
              "#482878"
             ],
             [
              0.2222222222222222,
              "#3e4989"
             ],
             [
              0.3333333333333333,
              "#31688e"
             ],
             [
              0.4444444444444444,
              "#26828e"
             ],
             [
              0.5555555555555556,
              "#1f9e89"
             ],
             [
              0.6666666666666666,
              "#35b779"
             ],
             [
              0.7777777777777778,
              "#6ece58"
             ],
             [
              0.8888888888888888,
              "#b5de2b"
             ],
             [
              1,
              "#fde725"
             ]
            ],
            "type": "surface"
           }
          ],
          "table": [
           {
            "cells": {
             "fill": {
              "color": "rgb(237,237,237)"
             },
             "line": {
              "color": "white"
             }
            },
            "header": {
             "fill": {
              "color": "rgb(217,217,217)"
             },
             "line": {
              "color": "white"
             }
            },
            "type": "table"
           }
          ]
         },
         "layout": {
          "annotationdefaults": {
           "arrowhead": 0,
           "arrowwidth": 1
          },
          "autotypenumbers": "strict",
          "coloraxis": {
           "colorbar": {
            "outlinewidth": 1,
            "tickcolor": "rgb(36,36,36)",
            "ticks": "outside"
           }
          },
          "colorscale": {
           "diverging": [
            [
             0,
             "rgb(103,0,31)"
            ],
            [
             0.1,
             "rgb(178,24,43)"
            ],
            [
             0.2,
             "rgb(214,96,77)"
            ],
            [
             0.3,
             "rgb(244,165,130)"
            ],
            [
             0.4,
             "rgb(253,219,199)"
            ],
            [
             0.5,
             "rgb(247,247,247)"
            ],
            [
             0.6,
             "rgb(209,229,240)"
            ],
            [
             0.7,
             "rgb(146,197,222)"
            ],
            [
             0.8,
             "rgb(67,147,195)"
            ],
            [
             0.9,
             "rgb(33,102,172)"
            ],
            [
             1,
             "rgb(5,48,97)"
            ]
           ],
           "sequential": [
            [
             0,
             "#440154"
            ],
            [
             0.1111111111111111,
             "#482878"
            ],
            [
             0.2222222222222222,
             "#3e4989"
            ],
            [
             0.3333333333333333,
             "#31688e"
            ],
            [
             0.4444444444444444,
             "#26828e"
            ],
            [
             0.5555555555555556,
             "#1f9e89"
            ],
            [
             0.6666666666666666,
             "#35b779"
            ],
            [
             0.7777777777777778,
             "#6ece58"
            ],
            [
             0.8888888888888888,
             "#b5de2b"
            ],
            [
             1,
             "#fde725"
            ]
           ],
           "sequentialminus": [
            [
             0,
             "#440154"
            ],
            [
             0.1111111111111111,
             "#482878"
            ],
            [
             0.2222222222222222,
             "#3e4989"
            ],
            [
             0.3333333333333333,
             "#31688e"
            ],
            [
             0.4444444444444444,
             "#26828e"
            ],
            [
             0.5555555555555556,
             "#1f9e89"
            ],
            [
             0.6666666666666666,
             "#35b779"
            ],
            [
             0.7777777777777778,
             "#6ece58"
            ],
            [
             0.8888888888888888,
             "#b5de2b"
            ],
            [
             1,
             "#fde725"
            ]
           ]
          },
          "colorway": [
           "#1F77B4",
           "#FF7F0E",
           "#2CA02C",
           "#D62728",
           "#9467BD",
           "#8C564B",
           "#E377C2",
           "#7F7F7F",
           "#BCBD22",
           "#17BECF"
          ],
          "font": {
           "color": "rgb(36,36,36)"
          },
          "geo": {
           "bgcolor": "white",
           "lakecolor": "white",
           "landcolor": "white",
           "showlakes": true,
           "showland": true,
           "subunitcolor": "white"
          },
          "hoverlabel": {
           "align": "left"
          },
          "hovermode": "closest",
          "mapbox": {
           "style": "light"
          },
          "paper_bgcolor": "white",
          "plot_bgcolor": "white",
          "polar": {
           "angularaxis": {
            "gridcolor": "rgb(232,232,232)",
            "linecolor": "rgb(36,36,36)",
            "showgrid": false,
            "showline": true,
            "ticks": "outside"
           },
           "bgcolor": "white",
           "radialaxis": {
            "gridcolor": "rgb(232,232,232)",
            "linecolor": "rgb(36,36,36)",
            "showgrid": false,
            "showline": true,
            "ticks": "outside"
           }
          },
          "scene": {
           "xaxis": {
            "backgroundcolor": "white",
            "gridcolor": "rgb(232,232,232)",
            "gridwidth": 2,
            "linecolor": "rgb(36,36,36)",
            "showbackground": true,
            "showgrid": false,
            "showline": true,
            "ticks": "outside",
            "zeroline": false,
            "zerolinecolor": "rgb(36,36,36)"
           },
           "yaxis": {
            "backgroundcolor": "white",
            "gridcolor": "rgb(232,232,232)",
            "gridwidth": 2,
            "linecolor": "rgb(36,36,36)",
            "showbackground": true,
            "showgrid": false,
            "showline": true,
            "ticks": "outside",
            "zeroline": false,
            "zerolinecolor": "rgb(36,36,36)"
           },
           "zaxis": {
            "backgroundcolor": "white",
            "gridcolor": "rgb(232,232,232)",
            "gridwidth": 2,
            "linecolor": "rgb(36,36,36)",
            "showbackground": true,
            "showgrid": false,
            "showline": true,
            "ticks": "outside",
            "zeroline": false,
            "zerolinecolor": "rgb(36,36,36)"
           }
          },
          "shapedefaults": {
           "fillcolor": "black",
           "line": {
            "width": 0
           },
           "opacity": 0.3
          },
          "ternary": {
           "aaxis": {
            "gridcolor": "rgb(232,232,232)",
            "linecolor": "rgb(36,36,36)",
            "showgrid": false,
            "showline": true,
            "ticks": "outside"
           },
           "baxis": {
            "gridcolor": "rgb(232,232,232)",
            "linecolor": "rgb(36,36,36)",
            "showgrid": false,
            "showline": true,
            "ticks": "outside"
           },
           "bgcolor": "white",
           "caxis": {
            "gridcolor": "rgb(232,232,232)",
            "linecolor": "rgb(36,36,36)",
            "showgrid": false,
            "showline": true,
            "ticks": "outside"
           }
          },
          "title": {
           "x": 0.05
          },
          "xaxis": {
           "automargin": true,
           "gridcolor": "rgb(232,232,232)",
           "linecolor": "rgb(36,36,36)",
           "showgrid": false,
           "showline": true,
           "ticks": "outside",
           "title": {
            "standoff": 15
           },
           "zeroline": false,
           "zerolinecolor": "rgb(36,36,36)"
          },
          "yaxis": {
           "automargin": true,
           "gridcolor": "rgb(232,232,232)",
           "linecolor": "rgb(36,36,36)",
           "showgrid": false,
           "showline": true,
           "ticks": "outside",
           "title": {
            "standoff": 15
           },
           "zeroline": false,
           "zerolinecolor": "rgb(36,36,36)"
          }
         }
        },
        "width": 330,
        "xaxis": {
         "range": [
          -0.05,
          4.45
         ],
         "tickfont": {
          "size": 9.333333333333334
         },
         "tickmode": "array",
         "ticktext": [
          "Deletions",
          "Substitutions"
         ],
         "tickvals": [
          1,
          3.5
         ],
         "title": {
          "font": {
           "family": "Inter",
           "size": 9.333333333333334
          }
         }
        },
        "yaxis": {
         "minor": {
          "dtick": 2.5,
          "ticks": "outside"
         },
         "range": [
          0,
          20
         ],
         "tickfont": {
          "size": 9.333333333333334
         },
         "title": {
          "font": {
           "family": "Inter",
           "size": 9.333333333333334
          },
          "text": "Error rate / 10<sup>-3</sup> nt<sup>-1</sup>"
         }
        }
       }
      }
     },
     "metadata": {},
     "output_type": "display_data"
    }
   ],
   "source": [
    "plot_data = data.data['overall_error_rates'].groupby(['type', 'exp', 'group'])['rate'].mean().reset_index()\n",
    "plot_data.drop(plot_data.loc[(plot_data.type != 'deletions') & (plot_data.type != 'substitutions')].index, inplace=True)\n",
    "\n",
    "exp_order = [\"Bunny_M\", \"Bunny_P\", \"Bunny_F1\", \"Bunny_F2\", \"Bunny_F3\", \"Bunny_F4\", \"Bunny_F5\"]\n",
    "\n",
    "colors = [\"#bdbdbd\", \"#636363\"]\n",
    "\n",
    "fig = pg.Figure()\n",
    "bar_width = 0.125\n",
    "\n",
    "for i, errortype in enumerate(plot_data.type.unique()):\n",
    "\n",
    "    for j, group in enumerate(plot_data.group.unique()):\n",
    "\n",
    "        this_data = plot_data.loc[(plot_data.group == group) & (plot_data.type == errortype)].set_index('exp')\n",
    "        error_data = np.array([this_data.loc[iexp, 'rate'] for iexp in exp_order])\n",
    "\n",
    "        fig.add_trace(\n",
    "            pg.Bar(\n",
    "                x=0.5 + 2.5*i + j + bar_width*np.array([-3, -2, -1, 0, 1, 2, 3]), \n",
    "                y=error_data*1000, \n",
    "                width=bar_width,\n",
    "                marker_color=colors[j]\n",
    "            )\n",
    "        )\n",
    "\n",
    "\n",
    "fig.update_xaxes(\n",
    "    range=[-0.05, 4.45],\n",
    "    tickmode = 'array',\n",
    "    tickvals = [1, 3.5],\n",
    "    ticktext = ['Deletions', 'Substitutions'],\n",
    "    title_font_family=\"Inter\", title_font_size=28/3, tickfont_size=28/3\n",
    ")\n",
    "fig.update_yaxes(\n",
    "    range=[0, 20],\n",
    "    title=\"Error rate / 10<sup>-3</sup> nt<sup>-1</sup>\",\n",
    "    title_font_family=\"Inter\", title_font_size=28/3, tickfont_size=28/3, minor_ticks=\"outside\", minor_dtick=2.5\n",
    ")\n",
    "fig.update_traces(marker=dict(line_width=0.5), selector=dict(type='bar')) \n",
    "fig.update_layout(\n",
    "    template=\"simple_white\", \n",
    "    height=150, \n",
    "    width=330,\n",
    "    showlegend=False, \n",
    "    margin=dict(l=47, r=10, t=0, b=0),\n",
    "    font_family=\"Inter\",\n",
    "    legend_font_size=28/3,\n",
    ")\n",
    "fig.show()\n",
    "fig.write_image(\"comparison_errorrates.svg\")"
   ]
  },
  {
   "attachments": {},
   "cell_type": "markdown",
   "metadata": {},
   "source": [
    "# Dropout comparison"
   ]
  },
  {
   "cell_type": "code",
   "execution_count": 4,
   "metadata": {},
   "outputs": [
    {
     "name": "stdout",
     "output_type": "stream",
     "text": [
      "The autoreload extension is already loaded. To reload it, use:\n",
      "  %reload_ext autoreload\n",
      "Missing sequences: 706, 5.88%\n",
      "Missing sequences: 1192, 9.93%\n",
      "Missing sequences: 1921, 16.01%\n",
      "Missing sequences: 1685, 14.04%\n",
      "Missing sequences: 2266, 18.88%\n",
      "Missing sequences: 3070, 25.58%\n",
      "Missing sequences: 2440, 20.33%\n",
      "Missing sequences: 404, 3.37%\n",
      "Missing sequences: 627, 5.22%\n",
      "Missing sequences: 938, 7.82%\n",
      "Missing sequences: 1294, 10.78%\n",
      "Missing sequences: 1764, 14.70%\n",
      "Missing sequences: 2308, 19.23%\n",
      "Missing sequences: 2763, 23.03%\n",
      "Missing sequences: 3390, 28.25%\n",
      "Missing sequences: 3915, 32.62%\n",
      "Missing sequences: 4424, 36.87%\n",
      "Missing sequences: 4948, 41.23%\n"
     ]
    },
    {
     "data": {
      "text/html": [
       "<div>\n",
       "<style scoped>\n",
       "    .dataframe tbody tr th:only-of-type {\n",
       "        vertical-align: middle;\n",
       "    }\n",
       "\n",
       "    .dataframe tbody tr th {\n",
       "        vertical-align: top;\n",
       "    }\n",
       "\n",
       "    .dataframe thead th {\n",
       "        text-align: right;\n",
       "    }\n",
       "</style>\n",
       "<table border=\"1\" class=\"dataframe\">\n",
       "  <thead>\n",
       "    <tr style=\"text-align: right;\">\n",
       "      <th></th>\n",
       "      <th>mean</th>\n",
       "      <th>total</th>\n",
       "    </tr>\n",
       "    <tr>\n",
       "      <th>exp</th>\n",
       "      <th></th>\n",
       "      <th></th>\n",
       "    </tr>\n",
       "  </thead>\n",
       "  <tbody>\n",
       "    <tr>\n",
       "      <th>BunnyF1_exp</th>\n",
       "      <td>8.627583</td>\n",
       "      <td>103531.0</td>\n",
       "    </tr>\n",
       "    <tr>\n",
       "      <th>BunnyF1_sim</th>\n",
       "      <td>27.683417</td>\n",
       "      <td>332201.0</td>\n",
       "    </tr>\n",
       "    <tr>\n",
       "      <th>BunnyF2_exp</th>\n",
       "      <td>9.017667</td>\n",
       "      <td>108212.0</td>\n",
       "    </tr>\n",
       "    <tr>\n",
       "      <th>BunnyF2_sim</th>\n",
       "      <td>24.313417</td>\n",
       "      <td>291761.0</td>\n",
       "    </tr>\n",
       "    <tr>\n",
       "      <th>BunnyF3_exp</th>\n",
       "      <td>8.575167</td>\n",
       "      <td>102902.0</td>\n",
       "    </tr>\n",
       "    <tr>\n",
       "      <th>BunnyF3_sim</th>\n",
       "      <td>21.283417</td>\n",
       "      <td>255401.0</td>\n",
       "    </tr>\n",
       "    <tr>\n",
       "      <th>BunnyF4_exp</th>\n",
       "      <td>7.370583</td>\n",
       "      <td>88447.0</td>\n",
       "    </tr>\n",
       "    <tr>\n",
       "      <th>BunnyF4_sim</th>\n",
       "      <td>18.532750</td>\n",
       "      <td>222393.0</td>\n",
       "    </tr>\n",
       "    <tr>\n",
       "      <th>BunnyF5_exp</th>\n",
       "      <td>26.273583</td>\n",
       "      <td>315283.0</td>\n",
       "    </tr>\n",
       "    <tr>\n",
       "      <th>BunnyF5_sim</th>\n",
       "      <td>16.133333</td>\n",
       "      <td>193600.0</td>\n",
       "    </tr>\n",
       "    <tr>\n",
       "      <th>BunnyF6_sim</th>\n",
       "      <td>14.040667</td>\n",
       "      <td>168488.0</td>\n",
       "    </tr>\n",
       "    <tr>\n",
       "      <th>BunnyF7_sim</th>\n",
       "      <td>12.310833</td>\n",
       "      <td>147730.0</td>\n",
       "    </tr>\n",
       "    <tr>\n",
       "      <th>BunnyF8_sim</th>\n",
       "      <td>10.835583</td>\n",
       "      <td>130027.0</td>\n",
       "    </tr>\n",
       "    <tr>\n",
       "      <th>BunnyF9_sim</th>\n",
       "      <td>9.484417</td>\n",
       "      <td>113813.0</td>\n",
       "    </tr>\n",
       "    <tr>\n",
       "      <th>BunnyM_exp</th>\n",
       "      <td>16.038333</td>\n",
       "      <td>192460.0</td>\n",
       "    </tr>\n",
       "    <tr>\n",
       "      <th>BunnyM_sim</th>\n",
       "      <td>36.471333</td>\n",
       "      <td>437656.0</td>\n",
       "    </tr>\n",
       "    <tr>\n",
       "      <th>BunnyP_exp</th>\n",
       "      <td>14.770750</td>\n",
       "      <td>177249.0</td>\n",
       "    </tr>\n",
       "    <tr>\n",
       "      <th>BunnyP_sim</th>\n",
       "      <td>31.583083</td>\n",
       "      <td>378997.0</td>\n",
       "    </tr>\n",
       "  </tbody>\n",
       "</table>\n",
       "</div>"
      ],
      "text/plain": [
       "                  mean     total\n",
       "exp                             \n",
       "BunnyF1_exp   8.627583  103531.0\n",
       "BunnyF1_sim  27.683417  332201.0\n",
       "BunnyF2_exp   9.017667  108212.0\n",
       "BunnyF2_sim  24.313417  291761.0\n",
       "BunnyF3_exp   8.575167  102902.0\n",
       "BunnyF3_sim  21.283417  255401.0\n",
       "BunnyF4_exp   7.370583   88447.0\n",
       "BunnyF4_sim  18.532750  222393.0\n",
       "BunnyF5_exp  26.273583  315283.0\n",
       "BunnyF5_sim  16.133333  193600.0\n",
       "BunnyF6_sim  14.040667  168488.0\n",
       "BunnyF7_sim  12.310833  147730.0\n",
       "BunnyF8_sim  10.835583  130027.0\n",
       "BunnyF9_sim   9.484417  113813.0\n",
       "BunnyM_exp   16.038333  192460.0\n",
       "BunnyM_sim   36.471333  437656.0\n",
       "BunnyP_exp   14.770750  177249.0\n",
       "BunnyP_sim   31.583083  378997.0"
      ]
     },
     "metadata": {},
     "output_type": "display_data"
    }
   ],
   "source": [
    "%load_ext autoreload\n",
    "%autoreload 2\n",
    "import dt4dds.analysis as analysis\n",
    "\n",
    "data = analysis.DistributionAnalysis({\n",
    "    'BunnyM_exp': '../data/DoT/Bunny_M/scafstats_pear_perfect.txt',\n",
    "    'BunnyP_exp': '../data/DoT/Bunny_P/scafstats_pear_perfect.txt',\n",
    "    'BunnyF1_exp': '../data/DoT/Bunny_F1/scafstats_pear_perfect.txt',\n",
    "    'BunnyF2_exp': '../data/DoT/Bunny_F2/scafstats_pear_perfect.txt',\n",
    "    'BunnyF3_exp': '../data/DoT/Bunny_F3/scafstats_pear_perfect.txt',\n",
    "    'BunnyF4_exp': '../data/DoT/Bunny_F4/scafstats_pear_perfect.txt',\n",
    "    'BunnyF5_exp': '../data/DoT/Bunny_F5/scafstats_pear_perfect.txt',\n",
    "    'BunnyM_sim': '../data/bunny_generations/Bunny_M/scafstats_pear_perfect.txt',\n",
    "    'BunnyP_sim': '../data/bunny_generations/Bunny_P/scafstats_pear_perfect.txt',\n",
    "    'BunnyF1_sim': '../data/bunny_generations/Bunny_F1/scafstats_pear_perfect.txt',\n",
    "    'BunnyF2_sim': '../data/bunny_generations/Bunny_F2/scafstats_pear_perfect.txt',\n",
    "    'BunnyF3_sim': '../data/bunny_generations/Bunny_F3/scafstats_pear_perfect.txt',\n",
    "    'BunnyF4_sim': '../data/bunny_generations/Bunny_F4/scafstats_pear_perfect.txt',\n",
    "    'BunnyF5_sim': '../data/bunny_generations/Bunny_F5/scafstats_pear_perfect.txt',\n",
    "    'BunnyF6_sim': '../data/bunny_generations/Bunny_F6/scafstats_pear_perfect.txt',\n",
    "    'BunnyF7_sim': '../data/bunny_generations/Bunny_F7/scafstats_pear_perfect.txt',\n",
    "    'BunnyF8_sim': '../data/bunny_generations/Bunny_F8/scafstats_pear_perfect.txt',\n",
    "    'BunnyF9_sim': '../data/bunny_generations/Bunny_F9/scafstats_pear_perfect.txt',\n",
    "})"
   ]
  },
  {
   "cell_type": "code",
   "execution_count": 5,
   "metadata": {},
   "outputs": [],
   "source": [
    "plot_data = data.data.copy()\n",
    "for i, exp in enumerate(plot_data.exp.unique()):\n",
    "    plot_data.loc[plot_data['exp'] == exp, 'group'], plot_data.loc[plot_data['exp'] == exp, 'set'] = exp.split('_')\n",
    "    plot_data.loc[plot_data['exp'] == exp, 'gen'] = plot_data.loc[plot_data['exp'] == exp, 'group'].str.replace('Bunny', '')\n",
    "\n",
    "N_SAMPLES = 5\n",
    "exp_reads_count = []\n",
    "all_results = {}\n",
    "\n",
    "for j, gen in enumerate([\"M\", \"P\", \"F1\", \"F2\", \"F3\", \"F4\", \"F5\"]):\n",
    "    exp_data = plot_data.loc[(plot_data['gen'] == gen) & (plot_data['set'] == 'exp'), ['#name', 'assignedReads']]\n",
    "    exp_reads = int(exp_data.assignedReads.sum())\n",
    "    exp_reads_count.append(exp_reads)\n",
    "    idata = plot_data.loc[(plot_data['gen'] == gen) & (plot_data['set'] == 'sim'), ['#name', 'assignedReads']]\n",
    "    results = []\n",
    "    for i in range(N_SAMPLES):\n",
    "        unique_seqs = len(idata.sample(exp_reads, weights=idata.assignedReads, replace=True)['#name'].unique())\n",
    "        results.append(1-unique_seqs/12000)\n",
    "    all_results[f\"{j}_sim\"] = np.mean(results)\n",
    "    all_results[f\"{j}_exp\"] = 1-np.count_nonzero(exp_data['assignedReads'])/12000\n",
    "\n",
    "for j, gen in enumerate([\"F6\", \"F7\", \"F8\", \"F9\"]):\n",
    "    idata = plot_data.loc[(plot_data['gen'] == gen) & (plot_data['set'] == 'sim'), ['#name', 'assignedReads']]\n",
    "    results = []\n",
    "    for i in range(N_SAMPLES):\n",
    "        unique_seqs = len(idata.sample(int(np.mean(exp_reads_count)), weights=idata.assignedReads, replace=True)['#name'].unique())\n",
    "        results.append(1-unique_seqs/12000)\n",
    "    all_results[f\"{j+7}_sim\"] = np.mean(results)"
   ]
  },
  {
   "cell_type": "code",
   "execution_count": 6,
   "metadata": {},
   "outputs": [
    {
     "data": {
      "application/vnd.plotly.v1+json": {
       "config": {
        "plotlyServerURL": "https://plot.ly"
       },
       "data": [
        {
         "hovertemplate": "set=sim<br>gen=%{x}<br>dropout=%{y}<extra></extra>",
         "legendgroup": "sim",
         "marker": {
          "color": "#636363",
          "size": 7,
          "symbol": "circle"
         },
         "mode": "markers",
         "name": "sim",
         "orientation": "v",
         "showlegend": true,
         "type": "scatter",
         "x": [
          0.075,
          1.075,
          2.075,
          3.075,
          4.075,
          5.075,
          6.075,
          7.075,
          8.075,
          9.075,
          10.075
         ],
         "xaxis": "x",
         "y": [
          0.08248333333333335,
          0.11068333333333331,
          0.18486666666666668,
          0.20945,
          0.24905,
          0.2997166666666667,
          0.24691666666666662,
          0.3258,
          0.36095,
          0.3979833333333333,
          0.4341166666666667
         ],
         "yaxis": "y"
        },
        {
         "hovertemplate": "set=exp<br>gen=%{x}<br>dropout=%{y}<extra></extra>",
         "legendgroup": "exp",
         "marker": {
          "color": "#bdbdbd",
          "size": 7,
          "symbol": "circle"
         },
         "mode": "markers",
         "name": "exp",
         "orientation": "v",
         "showlegend": true,
         "type": "scatter",
         "x": [
          -0.075,
          0.925,
          1.925,
          2.925,
          3.925,
          4.925,
          5.925
         ],
         "xaxis": "x",
         "y": [
          0.05883333333333329,
          0.09933333333333338,
          0.16008333333333336,
          0.14041666666666663,
          0.1888333333333333,
          0.25583333333333336,
          0.20333333333333337
         ],
         "yaxis": "y"
        },
        {
         "type": "scatter",
         "x": [
          1
         ],
         "xaxis": "x2",
         "y": [
          1
         ],
         "yaxis": "y"
        }
       ],
       "layout": {
        "font": {
         "family": "Inter"
        },
        "height": 150,
        "legend": {
         "font": {
          "size": 9.333333333333334
         },
         "title": {
          "text": "set"
         },
         "tracegroupgap": 0
        },
        "margin": {
         "b": 0,
         "l": 47,
         "r": 10,
         "t": 0
        },
        "shapes": [
         {
          "line": {
           "color": "#969696",
           "dash": "dash",
           "width": 1.5
          },
          "opacity": 1,
          "type": "line",
          "x0": 6.5,
          "x1": 6.5,
          "xref": "x",
          "y0": 0,
          "y1": 1,
          "yref": "y domain"
         }
        ],
        "showlegend": false,
        "template": {
         "data": {
          "bar": [
           {
            "error_x": {
             "color": "rgb(36,36,36)"
            },
            "error_y": {
             "color": "rgb(36,36,36)"
            },
            "marker": {
             "line": {
              "color": "white",
              "width": 0.5
             },
             "pattern": {
              "fillmode": "overlay",
              "size": 10,
              "solidity": 0.2
             }
            },
            "type": "bar"
           }
          ],
          "barpolar": [
           {
            "marker": {
             "line": {
              "color": "white",
              "width": 0.5
             },
             "pattern": {
              "fillmode": "overlay",
              "size": 10,
              "solidity": 0.2
             }
            },
            "type": "barpolar"
           }
          ],
          "carpet": [
           {
            "aaxis": {
             "endlinecolor": "rgb(36,36,36)",
             "gridcolor": "white",
             "linecolor": "white",
             "minorgridcolor": "white",
             "startlinecolor": "rgb(36,36,36)"
            },
            "baxis": {
             "endlinecolor": "rgb(36,36,36)",
             "gridcolor": "white",
             "linecolor": "white",
             "minorgridcolor": "white",
             "startlinecolor": "rgb(36,36,36)"
            },
            "type": "carpet"
           }
          ],
          "choropleth": [
           {
            "colorbar": {
             "outlinewidth": 1,
             "tickcolor": "rgb(36,36,36)",
             "ticks": "outside"
            },
            "type": "choropleth"
           }
          ],
          "contour": [
           {
            "colorbar": {
             "outlinewidth": 1,
             "tickcolor": "rgb(36,36,36)",
             "ticks": "outside"
            },
            "colorscale": [
             [
              0,
              "#440154"
             ],
             [
              0.1111111111111111,
              "#482878"
             ],
             [
              0.2222222222222222,
              "#3e4989"
             ],
             [
              0.3333333333333333,
              "#31688e"
             ],
             [
              0.4444444444444444,
              "#26828e"
             ],
             [
              0.5555555555555556,
              "#1f9e89"
             ],
             [
              0.6666666666666666,
              "#35b779"
             ],
             [
              0.7777777777777778,
              "#6ece58"
             ],
             [
              0.8888888888888888,
              "#b5de2b"
             ],
             [
              1,
              "#fde725"
             ]
            ],
            "type": "contour"
           }
          ],
          "contourcarpet": [
           {
            "colorbar": {
             "outlinewidth": 1,
             "tickcolor": "rgb(36,36,36)",
             "ticks": "outside"
            },
            "type": "contourcarpet"
           }
          ],
          "heatmap": [
           {
            "colorbar": {
             "outlinewidth": 1,
             "tickcolor": "rgb(36,36,36)",
             "ticks": "outside"
            },
            "colorscale": [
             [
              0,
              "#440154"
             ],
             [
              0.1111111111111111,
              "#482878"
             ],
             [
              0.2222222222222222,
              "#3e4989"
             ],
             [
              0.3333333333333333,
              "#31688e"
             ],
             [
              0.4444444444444444,
              "#26828e"
             ],
             [
              0.5555555555555556,
              "#1f9e89"
             ],
             [
              0.6666666666666666,
              "#35b779"
             ],
             [
              0.7777777777777778,
              "#6ece58"
             ],
             [
              0.8888888888888888,
              "#b5de2b"
             ],
             [
              1,
              "#fde725"
             ]
            ],
            "type": "heatmap"
           }
          ],
          "heatmapgl": [
           {
            "colorbar": {
             "outlinewidth": 1,
             "tickcolor": "rgb(36,36,36)",
             "ticks": "outside"
            },
            "colorscale": [
             [
              0,
              "#440154"
             ],
             [
              0.1111111111111111,
              "#482878"
             ],
             [
              0.2222222222222222,
              "#3e4989"
             ],
             [
              0.3333333333333333,
              "#31688e"
             ],
             [
              0.4444444444444444,
              "#26828e"
             ],
             [
              0.5555555555555556,
              "#1f9e89"
             ],
             [
              0.6666666666666666,
              "#35b779"
             ],
             [
              0.7777777777777778,
              "#6ece58"
             ],
             [
              0.8888888888888888,
              "#b5de2b"
             ],
             [
              1,
              "#fde725"
             ]
            ],
            "type": "heatmapgl"
           }
          ],
          "histogram": [
           {
            "marker": {
             "line": {
              "color": "white",
              "width": 0.6
             }
            },
            "type": "histogram"
           }
          ],
          "histogram2d": [
           {
            "colorbar": {
             "outlinewidth": 1,
             "tickcolor": "rgb(36,36,36)",
             "ticks": "outside"
            },
            "colorscale": [
             [
              0,
              "#440154"
             ],
             [
              0.1111111111111111,
              "#482878"
             ],
             [
              0.2222222222222222,
              "#3e4989"
             ],
             [
              0.3333333333333333,
              "#31688e"
             ],
             [
              0.4444444444444444,
              "#26828e"
             ],
             [
              0.5555555555555556,
              "#1f9e89"
             ],
             [
              0.6666666666666666,
              "#35b779"
             ],
             [
              0.7777777777777778,
              "#6ece58"
             ],
             [
              0.8888888888888888,
              "#b5de2b"
             ],
             [
              1,
              "#fde725"
             ]
            ],
            "type": "histogram2d"
           }
          ],
          "histogram2dcontour": [
           {
            "colorbar": {
             "outlinewidth": 1,
             "tickcolor": "rgb(36,36,36)",
             "ticks": "outside"
            },
            "colorscale": [
             [
              0,
              "#440154"
             ],
             [
              0.1111111111111111,
              "#482878"
             ],
             [
              0.2222222222222222,
              "#3e4989"
             ],
             [
              0.3333333333333333,
              "#31688e"
             ],
             [
              0.4444444444444444,
              "#26828e"
             ],
             [
              0.5555555555555556,
              "#1f9e89"
             ],
             [
              0.6666666666666666,
              "#35b779"
             ],
             [
              0.7777777777777778,
              "#6ece58"
             ],
             [
              0.8888888888888888,
              "#b5de2b"
             ],
             [
              1,
              "#fde725"
             ]
            ],
            "type": "histogram2dcontour"
           }
          ],
          "mesh3d": [
           {
            "colorbar": {
             "outlinewidth": 1,
             "tickcolor": "rgb(36,36,36)",
             "ticks": "outside"
            },
            "type": "mesh3d"
           }
          ],
          "parcoords": [
           {
            "line": {
             "colorbar": {
              "outlinewidth": 1,
              "tickcolor": "rgb(36,36,36)",
              "ticks": "outside"
             }
            },
            "type": "parcoords"
           }
          ],
          "pie": [
           {
            "automargin": true,
            "type": "pie"
           }
          ],
          "scatter": [
           {
            "fillpattern": {
             "fillmode": "overlay",
             "size": 10,
             "solidity": 0.2
            },
            "type": "scatter"
           }
          ],
          "scatter3d": [
           {
            "line": {
             "colorbar": {
              "outlinewidth": 1,
              "tickcolor": "rgb(36,36,36)",
              "ticks": "outside"
             }
            },
            "marker": {
             "colorbar": {
              "outlinewidth": 1,
              "tickcolor": "rgb(36,36,36)",
              "ticks": "outside"
             }
            },
            "type": "scatter3d"
           }
          ],
          "scattercarpet": [
           {
            "marker": {
             "colorbar": {
              "outlinewidth": 1,
              "tickcolor": "rgb(36,36,36)",
              "ticks": "outside"
             }
            },
            "type": "scattercarpet"
           }
          ],
          "scattergeo": [
           {
            "marker": {
             "colorbar": {
              "outlinewidth": 1,
              "tickcolor": "rgb(36,36,36)",
              "ticks": "outside"
             }
            },
            "type": "scattergeo"
           }
          ],
          "scattergl": [
           {
            "marker": {
             "colorbar": {
              "outlinewidth": 1,
              "tickcolor": "rgb(36,36,36)",
              "ticks": "outside"
             }
            },
            "type": "scattergl"
           }
          ],
          "scattermapbox": [
           {
            "marker": {
             "colorbar": {
              "outlinewidth": 1,
              "tickcolor": "rgb(36,36,36)",
              "ticks": "outside"
             }
            },
            "type": "scattermapbox"
           }
          ],
          "scatterpolar": [
           {
            "marker": {
             "colorbar": {
              "outlinewidth": 1,
              "tickcolor": "rgb(36,36,36)",
              "ticks": "outside"
             }
            },
            "type": "scatterpolar"
           }
          ],
          "scatterpolargl": [
           {
            "marker": {
             "colorbar": {
              "outlinewidth": 1,
              "tickcolor": "rgb(36,36,36)",
              "ticks": "outside"
             }
            },
            "type": "scatterpolargl"
           }
          ],
          "scatterternary": [
           {
            "marker": {
             "colorbar": {
              "outlinewidth": 1,
              "tickcolor": "rgb(36,36,36)",
              "ticks": "outside"
             }
            },
            "type": "scatterternary"
           }
          ],
          "surface": [
           {
            "colorbar": {
             "outlinewidth": 1,
             "tickcolor": "rgb(36,36,36)",
             "ticks": "outside"
            },
            "colorscale": [
             [
              0,
              "#440154"
             ],
             [
              0.1111111111111111,
              "#482878"
             ],
             [
              0.2222222222222222,
              "#3e4989"
             ],
             [
              0.3333333333333333,
              "#31688e"
             ],
             [
              0.4444444444444444,
              "#26828e"
             ],
             [
              0.5555555555555556,
              "#1f9e89"
             ],
             [
              0.6666666666666666,
              "#35b779"
             ],
             [
              0.7777777777777778,
              "#6ece58"
             ],
             [
              0.8888888888888888,
              "#b5de2b"
             ],
             [
              1,
              "#fde725"
             ]
            ],
            "type": "surface"
           }
          ],
          "table": [
           {
            "cells": {
             "fill": {
              "color": "rgb(237,237,237)"
             },
             "line": {
              "color": "white"
             }
            },
            "header": {
             "fill": {
              "color": "rgb(217,217,217)"
             },
             "line": {
              "color": "white"
             }
            },
            "type": "table"
           }
          ]
         },
         "layout": {
          "annotationdefaults": {
           "arrowhead": 0,
           "arrowwidth": 1
          },
          "autotypenumbers": "strict",
          "coloraxis": {
           "colorbar": {
            "outlinewidth": 1,
            "tickcolor": "rgb(36,36,36)",
            "ticks": "outside"
           }
          },
          "colorscale": {
           "diverging": [
            [
             0,
             "rgb(103,0,31)"
            ],
            [
             0.1,
             "rgb(178,24,43)"
            ],
            [
             0.2,
             "rgb(214,96,77)"
            ],
            [
             0.3,
             "rgb(244,165,130)"
            ],
            [
             0.4,
             "rgb(253,219,199)"
            ],
            [
             0.5,
             "rgb(247,247,247)"
            ],
            [
             0.6,
             "rgb(209,229,240)"
            ],
            [
             0.7,
             "rgb(146,197,222)"
            ],
            [
             0.8,
             "rgb(67,147,195)"
            ],
            [
             0.9,
             "rgb(33,102,172)"
            ],
            [
             1,
             "rgb(5,48,97)"
            ]
           ],
           "sequential": [
            [
             0,
             "#440154"
            ],
            [
             0.1111111111111111,
             "#482878"
            ],
            [
             0.2222222222222222,
             "#3e4989"
            ],
            [
             0.3333333333333333,
             "#31688e"
            ],
            [
             0.4444444444444444,
             "#26828e"
            ],
            [
             0.5555555555555556,
             "#1f9e89"
            ],
            [
             0.6666666666666666,
             "#35b779"
            ],
            [
             0.7777777777777778,
             "#6ece58"
            ],
            [
             0.8888888888888888,
             "#b5de2b"
            ],
            [
             1,
             "#fde725"
            ]
           ],
           "sequentialminus": [
            [
             0,
             "#440154"
            ],
            [
             0.1111111111111111,
             "#482878"
            ],
            [
             0.2222222222222222,
             "#3e4989"
            ],
            [
             0.3333333333333333,
             "#31688e"
            ],
            [
             0.4444444444444444,
             "#26828e"
            ],
            [
             0.5555555555555556,
             "#1f9e89"
            ],
            [
             0.6666666666666666,
             "#35b779"
            ],
            [
             0.7777777777777778,
             "#6ece58"
            ],
            [
             0.8888888888888888,
             "#b5de2b"
            ],
            [
             1,
             "#fde725"
            ]
           ]
          },
          "colorway": [
           "#1F77B4",
           "#FF7F0E",
           "#2CA02C",
           "#D62728",
           "#9467BD",
           "#8C564B",
           "#E377C2",
           "#7F7F7F",
           "#BCBD22",
           "#17BECF"
          ],
          "font": {
           "color": "rgb(36,36,36)"
          },
          "geo": {
           "bgcolor": "white",
           "lakecolor": "white",
           "landcolor": "white",
           "showlakes": true,
           "showland": true,
           "subunitcolor": "white"
          },
          "hoverlabel": {
           "align": "left"
          },
          "hovermode": "closest",
          "mapbox": {
           "style": "light"
          },
          "paper_bgcolor": "white",
          "plot_bgcolor": "white",
          "polar": {
           "angularaxis": {
            "gridcolor": "rgb(232,232,232)",
            "linecolor": "rgb(36,36,36)",
            "showgrid": false,
            "showline": true,
            "ticks": "outside"
           },
           "bgcolor": "white",
           "radialaxis": {
            "gridcolor": "rgb(232,232,232)",
            "linecolor": "rgb(36,36,36)",
            "showgrid": false,
            "showline": true,
            "ticks": "outside"
           }
          },
          "scene": {
           "xaxis": {
            "backgroundcolor": "white",
            "gridcolor": "rgb(232,232,232)",
            "gridwidth": 2,
            "linecolor": "rgb(36,36,36)",
            "showbackground": true,
            "showgrid": false,
            "showline": true,
            "ticks": "outside",
            "zeroline": false,
            "zerolinecolor": "rgb(36,36,36)"
           },
           "yaxis": {
            "backgroundcolor": "white",
            "gridcolor": "rgb(232,232,232)",
            "gridwidth": 2,
            "linecolor": "rgb(36,36,36)",
            "showbackground": true,
            "showgrid": false,
            "showline": true,
            "ticks": "outside",
            "zeroline": false,
            "zerolinecolor": "rgb(36,36,36)"
           },
           "zaxis": {
            "backgroundcolor": "white",
            "gridcolor": "rgb(232,232,232)",
            "gridwidth": 2,
            "linecolor": "rgb(36,36,36)",
            "showbackground": true,
            "showgrid": false,
            "showline": true,
            "ticks": "outside",
            "zeroline": false,
            "zerolinecolor": "rgb(36,36,36)"
           }
          },
          "shapedefaults": {
           "fillcolor": "black",
           "line": {
            "width": 0
           },
           "opacity": 0.3
          },
          "ternary": {
           "aaxis": {
            "gridcolor": "rgb(232,232,232)",
            "linecolor": "rgb(36,36,36)",
            "showgrid": false,
            "showline": true,
            "ticks": "outside"
           },
           "baxis": {
            "gridcolor": "rgb(232,232,232)",
            "linecolor": "rgb(36,36,36)",
            "showgrid": false,
            "showline": true,
            "ticks": "outside"
           },
           "bgcolor": "white",
           "caxis": {
            "gridcolor": "rgb(232,232,232)",
            "linecolor": "rgb(36,36,36)",
            "showgrid": false,
            "showline": true,
            "ticks": "outside"
           }
          },
          "title": {
           "x": 0.05
          },
          "xaxis": {
           "automargin": true,
           "gridcolor": "rgb(232,232,232)",
           "linecolor": "rgb(36,36,36)",
           "showgrid": false,
           "showline": true,
           "ticks": "outside",
           "title": {
            "standoff": 15
           },
           "zeroline": false,
           "zerolinecolor": "rgb(36,36,36)"
          },
          "yaxis": {
           "automargin": true,
           "gridcolor": "rgb(232,232,232)",
           "linecolor": "rgb(36,36,36)",
           "showgrid": false,
           "showline": true,
           "ticks": "outside",
           "title": {
            "standoff": 15
           },
           "zeroline": false,
           "zerolinecolor": "rgb(36,36,36)"
          }
         }
        },
        "width": 330,
        "xaxis": {
         "range": [
          -0.4,
          10.2
         ],
         "tickfont": {
          "size": 9.333333333333334
         },
         "tickmode": "array",
         "ticktext": [
          "M",
          "P",
          "F1",
          "F2",
          "F3",
          "F4",
          "F5",
          "F6",
          "F7",
          "F8",
          "F9"
         ],
         "tickvals": [
          0,
          1,
          2,
          3,
          4,
          5,
          6,
          7,
          8,
          9,
          10
         ],
         "title": {
          "font": {
           "family": "Inter",
           "size": 9.333333333333334
          },
          "text": "Generation"
         }
        },
        "xaxis2": {
         "overlaying": "x",
         "range": [
          -0.4,
          10.2
         ],
         "side": "top",
         "tickfont": {
          "size": 9.333333333333334
         },
         "tickmode": "array",
         "ticktext": [
          "44",
          "59",
          "71",
          "83",
          "95",
          "107",
          "119",
          "131",
          "143",
          "155",
          "167"
         ],
         "tickvals": [
          0,
          1,
          2,
          3,
          4,
          5,
          6,
          7,
          8,
          9,
          10
         ],
         "title": {
          "font": {
           "family": "Inter",
           "size": 9.333333333333334
          },
          "text": "Total PCR cycles"
         }
        },
        "yaxis": {
         "anchor": "x",
         "domain": [
          0,
          1
         ],
         "range": [
          0,
          0.6
         ],
         "tickfont": {
          "size": 9.333333333333334
         },
         "tickformat": ".0%",
         "title": {
          "font": {
           "family": "Inter",
           "size": 9.333333333333334
          },
          "text": "Dropout"
         }
        }
       }
      }
     },
     "metadata": {},
     "output_type": "display_data"
    }
   ],
   "source": [
    "plot_data = pd.DataFrame.from_dict(all_results, orient=\"index\", columns=[\"dropout\"]).reset_index().rename(columns={\"index\": \"exp\"})\n",
    "\n",
    "for i, exp in enumerate(plot_data.exp.unique()):\n",
    "    plot_data.loc[plot_data['exp'] == exp, 'gen'], plot_data.loc[plot_data['exp'] == exp, 'set'] = exp.split('_')\n",
    "    plot_data.loc[plot_data['exp'] == exp, 'gen'] = pd.to_numeric(plot_data.loc[plot_data['exp'] == exp, 'gen'])\n",
    "\n",
    "for i, iset in enumerate(plot_data.set.unique()):\n",
    "    plot_data.loc[plot_data['set'] == iset, 'gen'] += 0.075 if iset == 'sim' else -0.075\n",
    "\n",
    "fig = px.scatter(\n",
    "    plot_data,\n",
    "    x=\"gen\",\n",
    "    y=\"dropout\",\n",
    "    color=\"set\",\n",
    "    color_discrete_sequence=[\"#636363\", \"#bdbdbd\"],\n",
    "    range_y=[0, 0.6],\n",
    ")\n",
    "\n",
    "fig.update_xaxes(title_text='Generation')\n",
    "fig.update_yaxes(title_text='Dropout', tickformat=\".0%\", title_font_family=\"Inter\", title_font_size=28/3, tickfont_size=28/3,)\n",
    "fig.update_layout(\n",
    "    template=\"simple_white\", \n",
    "    height=150, \n",
    "    width=330,\n",
    "    showlegend=False, \n",
    "    margin=dict(l=47, r=10, t=0, b=0),\n",
    "    font_family=\"Inter\",\n",
    "    legend_font_size=28/3,\n",
    "    xaxis1 = pg.layout.XAxis( \n",
    "        range=[-0.4, 10.2],\n",
    "        tickmode='array',\n",
    "        tickvals=np.arange(0, 11),\n",
    "        ticktext=['M', 'P', 'F1', 'F2', 'F3', 'F4', 'F5', 'F6', 'F7', 'F8', 'F9'],\n",
    "        title=\"Generation\",\n",
    "        title_font_family=\"Inter\", title_font_size=28/3, tickfont_size=28/3,\n",
    "    ),\n",
    "    xaxis2 = pg.layout.XAxis( \n",
    "        overlaying='x',\n",
    "        side='top',\n",
    "        range=[-0.4, 10.2],\n",
    "        tickmode='array',\n",
    "        tickvals=np.arange(0, 11),\n",
    "        ticktext=['44', '59', '71', '83', '95', '107', '119', '131', '143', '155', '167'],\n",
    "        title=\"Total PCR cycles\",\n",
    "        title_font_family=\"Inter\", title_font_size=28/3, tickfont_size=28/3,\n",
    "    ),\n",
    ")\n",
    "\n",
    "# we need to plot something on the second x axis for it to show\n",
    "fig.add_trace(pg.Scatter(x=[1], y=[1], xaxis='x2', yaxis='y'))\n",
    "\n",
    "fig.add_vline(\n",
    "    x=6.5,\n",
    "    line_dash=\"dash\",\n",
    "    line_width=1.5,\n",
    "    opacity=1,\n",
    "    line_color=\"#969696\"\n",
    ")\n",
    "\n",
    "fig.update_traces(marker=dict(size=7), selector=dict(mode='markers'))\n",
    "\n",
    "\n",
    "fig.show()\n",
    "fig.write_image(\"comparison_dropout.svg\")"
   ]
  }
 ],
 "metadata": {
  "kernelspec": {
   "display_name": "Python 3.8.10 ('nppdsc')",
   "language": "python",
   "name": "python3"
  },
  "language_info": {
   "codemirror_mode": {
    "name": "ipython",
    "version": 3
   },
   "file_extension": ".py",
   "mimetype": "text/x-python",
   "name": "python",
   "nbconvert_exporter": "python",
   "pygments_lexer": "ipython3",
   "version": "3.9.7"
  },
  "orig_nbformat": 4,
  "vscode": {
   "interpreter": {
    "hash": "4664ab76db27c8bb504d0e5ba801765ebaccbcc7762c721eb943e98f81e43c35"
   }
  }
 },
 "nbformat": 4,
 "nbformat_minor": 2
}
