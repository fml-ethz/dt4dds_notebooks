{
 "cells": [
  {
   "cell_type": "code",
   "execution_count": 1,
   "metadata": {},
   "outputs": [],
   "source": [
    "import plotly.express as px\n",
    "import plotly.graph_objects as pg\n",
    "import numpy as np\n",
    "import pandas as pd\n",
    "import scipy.stats"
   ]
  },
  {
   "attachments": {},
   "cell_type": "markdown",
   "metadata": {},
   "source": [
    "# Dropout comparison"
   ]
  },
  {
   "cell_type": "code",
   "execution_count": 2,
   "metadata": {},
   "outputs": [
    {
     "name": "stdout",
     "output_type": "stream",
     "text": [
      "Missing sequences: 1659, 13.83%\n",
      "Missing sequences: 569, 4.74%\n",
      "Missing sequences: 0, 0.00%\n",
      "Missing sequences: 0, 0.00%\n",
      "Missing sequences: 1830, 15.25%\n",
      "Missing sequences: 656, 5.47%\n",
      "Missing sequences: 0, 0.00%\n",
      "Missing sequences: 0, 0.00%\n",
      "Missing sequences: 1964, 16.37%\n",
      "Missing sequences: 743, 6.19%\n",
      "Missing sequences: 0, 0.00%\n",
      "Missing sequences: 0, 0.00%\n",
      "Missing sequences: 2194, 18.28%\n",
      "Missing sequences: 871, 7.26%\n",
      "Missing sequences: 0, 0.00%\n",
      "Missing sequences: 0, 0.00%\n",
      "Missing sequences: 2343, 19.53%\n",
      "Missing sequences: 956, 7.97%\n",
      "Missing sequences: 0, 0.00%\n",
      "Missing sequences: 0, 0.00%\n",
      "Missing sequences: 2519, 20.99%\n",
      "Missing sequences: 1054, 8.78%\n",
      "Missing sequences: 1, 0.01%\n",
      "Missing sequences: 0, 0.00%\n",
      "Missing sequences: 2664, 22.20%\n",
      "Missing sequences: 1139, 9.49%\n",
      "Missing sequences: 0, 0.00%\n",
      "Missing sequences: 0, 0.00%\n",
      "Missing sequences: 2879, 23.99%\n",
      "Missing sequences: 1282, 10.68%\n",
      "Missing sequences: 4, 0.03%\n",
      "Missing sequences: 4, 0.03%\n",
      "Missing sequences: 3114, 25.95%\n",
      "Missing sequences: 1408, 11.73%\n",
      "Missing sequences: 14, 0.12%\n",
      "Missing sequences: 9, 0.07%\n",
      "Missing sequences: 3371, 28.09%\n",
      "Missing sequences: 1602, 13.35%\n",
      "Missing sequences: 16, 0.13%\n",
      "Missing sequences: 13, 0.11%\n",
      "Missing sequences: 3599, 29.99%\n",
      "Missing sequences: 1790, 14.92%\n",
      "Missing sequences: 19, 0.16%\n",
      "Missing sequences: 16, 0.13%\n",
      "Missing sequences: 3948, 32.90%\n",
      "Missing sequences: 1949, 16.24%\n",
      "Missing sequences: 38, 0.32%\n",
      "Missing sequences: 32, 0.27%\n",
      "Missing sequences: 4073, 33.94%\n",
      "Missing sequences: 2058, 17.15%\n",
      "Missing sequences: 44, 0.37%\n",
      "Missing sequences: 36, 0.30%\n",
      "Missing sequences: 4192, 34.93%\n",
      "Missing sequences: 2141, 17.84%\n",
      "Missing sequences: 62, 0.52%\n",
      "Missing sequences: 52, 0.43%\n",
      "Missing sequences: 4407, 36.73%\n",
      "Missing sequences: 2285, 19.04%\n",
      "Missing sequences: 103, 0.86%\n",
      "Missing sequences: 86, 0.72%\n",
      "Missing sequences: 4675, 38.96%\n",
      "Missing sequences: 2548, 21.23%\n",
      "Missing sequences: 132, 1.10%\n",
      "Missing sequences: 112, 0.93%\n",
      "Missing sequences: 4871, 40.59%\n",
      "Missing sequences: 2672, 22.27%\n",
      "Missing sequences: 165, 1.38%\n",
      "Missing sequences: 140, 1.17%\n",
      "Missing sequences: 5120, 42.67%\n",
      "Missing sequences: 2935, 24.46%\n",
      "Missing sequences: 218, 1.82%\n",
      "Missing sequences: 188, 1.57%\n",
      "Missing sequences: 5348, 44.57%\n",
      "Missing sequences: 3066, 25.55%\n",
      "Missing sequences: 333, 2.77%\n",
      "Missing sequences: 294, 2.45%\n",
      "Missing sequences: 5736, 47.80%\n",
      "Missing sequences: 3382, 28.18%\n",
      "Missing sequences: 455, 3.79%\n",
      "Missing sequences: 398, 3.32%\n",
      "Missing sequences: 6050, 50.42%\n",
      "Missing sequences: 3726, 31.05%\n",
      "Missing sequences: 622, 5.18%\n",
      "Missing sequences: 546, 4.55%\n",
      "Missing sequences: 6410, 53.42%\n",
      "Missing sequences: 4108, 34.23%\n",
      "Missing sequences: 935, 7.79%\n",
      "Missing sequences: 858, 7.15%\n",
      "Missing sequences: 6843, 57.03%\n",
      "Missing sequences: 4607, 38.39%\n",
      "Missing sequences: 1427, 11.89%\n",
      "Missing sequences: 1316, 10.97%\n",
      "Missing sequences: 7477, 62.31%\n",
      "Missing sequences: 5152, 42.93%\n",
      "Missing sequences: 2086, 17.38%\n",
      "Missing sequences: 1966, 16.38%\n",
      "Missing sequences: 8152, 67.93%\n",
      "Missing sequences: 6001, 50.01%\n",
      "Missing sequences: 3062, 25.52%\n",
      "Missing sequences: 2921, 24.34%\n",
      "Missing sequences: 8556, 71.30%\n",
      "Missing sequences: 6489, 54.07%\n",
      "Missing sequences: 3884, 32.37%\n",
      "Missing sequences: 3727, 31.06%\n",
      "Missing sequences: 9051, 75.42%\n",
      "Missing sequences: 7061, 58.84%\n",
      "Missing sequences: 4814, 40.12%\n",
      "Missing sequences: 4634, 38.62%\n",
      "Missing sequences: 9580, 79.83%\n",
      "Missing sequences: 7765, 64.71%\n",
      "Missing sequences: 6026, 50.22%\n",
      "Missing sequences: 5859, 48.83%\n",
      "Missing sequences: 10113, 84.28%\n",
      "Missing sequences: 8669, 72.24%\n",
      "Missing sequences: 7524, 62.70%\n",
      "Missing sequences: 7357, 61.31%\n",
      "Missing sequences: 10932, 91.10%\n",
      "Missing sequences: 9902, 82.52%\n",
      "Missing sequences: 9461, 78.84%\n",
      "Missing sequences: 9383, 78.19%\n"
     ]
    },
    {
     "data": {
      "text/html": [
       "<div>\n",
       "<style scoped>\n",
       "    .dataframe tbody tr th:only-of-type {\n",
       "        vertical-align: middle;\n",
       "    }\n",
       "\n",
       "    .dataframe tbody tr th {\n",
       "        vertical-align: top;\n",
       "    }\n",
       "\n",
       "    .dataframe thead th {\n",
       "        text-align: right;\n",
       "    }\n",
       "</style>\n",
       "<table border=\"1\" class=\"dataframe\">\n",
       "  <thead>\n",
       "    <tr style=\"text-align: right;\">\n",
       "      <th></th>\n",
       "      <th>mean</th>\n",
       "      <th>total</th>\n",
       "    </tr>\n",
       "    <tr>\n",
       "      <th>exp</th>\n",
       "      <th></th>\n",
       "      <th></th>\n",
       "    </tr>\n",
       "  </thead>\n",
       "  <tbody>\n",
       "    <tr>\n",
       "      <th>0.5_errorfree_best</th>\n",
       "      <td>128.870500</td>\n",
       "      <td>1546446.0</td>\n",
       "    </tr>\n",
       "    <tr>\n",
       "      <th>0.5_errorfree_worst</th>\n",
       "      <td>36.322000</td>\n",
       "      <td>435864.0</td>\n",
       "    </tr>\n",
       "    <tr>\n",
       "      <th>0.5_witherrors_best</th>\n",
       "      <td>333.333333</td>\n",
       "      <td>4000000.0</td>\n",
       "    </tr>\n",
       "    <tr>\n",
       "      <th>0.5_witherrors_worst</th>\n",
       "      <td>332.771833</td>\n",
       "      <td>3993262.0</td>\n",
       "    </tr>\n",
       "    <tr>\n",
       "      <th>1.5_errorfree_best</th>\n",
       "      <td>128.267500</td>\n",
       "      <td>1539210.0</td>\n",
       "    </tr>\n",
       "    <tr>\n",
       "      <th>...</th>\n",
       "      <td>...</td>\n",
       "      <td>...</td>\n",
       "    </tr>\n",
       "    <tr>\n",
       "      <th>8_witherrors_worst</th>\n",
       "      <td>332.558500</td>\n",
       "      <td>3990702.0</td>\n",
       "    </tr>\n",
       "    <tr>\n",
       "      <th>9_errorfree_best</th>\n",
       "      <td>128.410583</td>\n",
       "      <td>1540927.0</td>\n",
       "    </tr>\n",
       "    <tr>\n",
       "      <th>9_errorfree_worst</th>\n",
       "      <td>35.803833</td>\n",
       "      <td>429646.0</td>\n",
       "    </tr>\n",
       "    <tr>\n",
       "      <th>9_witherrors_best</th>\n",
       "      <td>333.333333</td>\n",
       "      <td>4000000.0</td>\n",
       "    </tr>\n",
       "    <tr>\n",
       "      <th>9_witherrors_worst</th>\n",
       "      <td>332.494000</td>\n",
       "      <td>3989928.0</td>\n",
       "    </tr>\n",
       "  </tbody>\n",
       "</table>\n",
       "<p>120 rows × 2 columns</p>\n",
       "</div>"
      ],
      "text/plain": [
       "                            mean      total\n",
       "exp                                        \n",
       "0.5_errorfree_best    128.870500  1546446.0\n",
       "0.5_errorfree_worst    36.322000   435864.0\n",
       "0.5_witherrors_best   333.333333  4000000.0\n",
       "0.5_witherrors_worst  332.771833  3993262.0\n",
       "1.5_errorfree_best    128.267500  1539210.0\n",
       "...                          ...        ...\n",
       "8_witherrors_worst    332.558500  3990702.0\n",
       "9_errorfree_best      128.410583  1540927.0\n",
       "9_errorfree_worst      35.803833   429646.0\n",
       "9_witherrors_best     333.333333  4000000.0\n",
       "9_witherrors_worst    332.494000  3989928.0\n",
       "\n",
       "[120 rows x 2 columns]"
      ]
     },
     "metadata": {},
     "output_type": "display_data"
    }
   ],
   "source": [
    "%load_ext autoreload\n",
    "%autoreload 2\n",
    "import dt4dds.analysis as analysis\n",
    "\n",
    "parent_folder = '../data/extreme_cases'\n",
    "\n",
    "level_names = ['worst', 'best']\n",
    "\n",
    "pool_names = {\n",
    "    50: 'Pool_500',\n",
    "    45: 'Pool_450',\n",
    "    40: 'Pool_400',\n",
    "    35: 'Pool_350',\n",
    "    32.5: 'Pool_325',\n",
    "    30: 'Pool_300',\n",
    "    27.5: 'Pool_275',\n",
    "    25: 'Pool_250',\n",
    "    22.5: 'Pool_225',\n",
    "    20: 'Pool_200',\n",
    "    18: 'Pool_180',\n",
    "    16: 'Pool_160',\n",
    "    15: 'Pool_150',\n",
    "    14: 'Pool_140',\n",
    "    13: 'Pool_130',\n",
    "    12: 'Pool_120',\n",
    "    11: 'Pool_110',\n",
    "    10: 'Pool_100',\n",
    "    9: 'Pool_090',\n",
    "    8: 'Pool_080',\n",
    "    7: 'Pool_070',\n",
    "    6: 'Pool_060',\n",
    "    5: 'Pool_050',\n",
    "    4: 'Pool_040',\n",
    "    3: 'Pool_030',\n",
    "    2.5: 'Pool_025',\n",
    "    2: 'Pool_020',\n",
    "    1.5: 'Pool_015',\n",
    "    1: 'Pool_010',\n",
    "    0.5: 'Pool_005',\n",
    "}\n",
    "\n",
    "inputs = {\n",
    "    'errorfree': 'scafstats_pear_perfect.txt',\n",
    "    'witherrors': 'scafstats.txt'\n",
    "}\n",
    "\n",
    "input_dict = {f'{cov}_{err}_{lvl}': f'{parent_folder}/{lvl}/{cov_folder}/{err_file}' for cov, cov_folder in pool_names.items() for lvl in level_names for err, err_file in inputs.items()}\n",
    "\n",
    "data = analysis.DistributionAnalysis(input_dict)\n"
   ]
  },
  {
   "cell_type": "code",
   "execution_count": 3,
   "metadata": {},
   "outputs": [],
   "source": [
    "plot_data = data.data.copy()\n",
    "\n",
    "all_results = {}\n",
    "\n",
    "for i, exp in enumerate(plot_data.exp.unique()):\n",
    "    idata = plot_data.loc[plot_data['exp'] == exp, ['#name', 'assignedReads']]\n",
    "    all_results[exp] = 1-np.count_nonzero(idata['assignedReads'])/12000"
   ]
  },
  {
   "cell_type": "code",
   "execution_count": 4,
   "metadata": {},
   "outputs": [],
   "source": [
    "plot_data = pd.DataFrame.from_dict(all_results, orient=\"index\", columns=[\"dropout\"]).reset_index().rename(columns={\"index\": \"exp\"})\n",
    "\n",
    "for i, exp in enumerate(plot_data.exp.unique()):\n",
    "    plot_data.loc[plot_data['exp'] == exp, 'cov'], plot_data.loc[plot_data['exp'] == exp, 'set'], plot_data.loc[plot_data['exp'] == exp, 'lvl'] = exp.split('_')\n",
    "    plot_data.loc[plot_data['exp'] == exp, 'cov'] = pd.to_numeric(plot_data.loc[plot_data['exp'] == exp, 'cov'])"
   ]
  },
  {
   "cell_type": "code",
   "execution_count": 5,
   "metadata": {},
   "outputs": [
    {
     "data": {
      "application/vnd.plotly.v1+json": {
       "config": {
        "plotlyServerURL": "https://plot.ly"
       },
       "data": [
        {
         "fillcolor": "#ececec",
         "line": {
          "color": "#bdbdbd",
          "dash": "dash",
          "width": 1.5
         },
         "type": "scatter",
         "x": [
          50,
          45,
          40,
          35,
          32.5,
          30,
          27.5,
          25,
          22.5,
          20,
          18,
          16,
          15,
          14,
          13,
          12,
          11,
          10,
          9,
          8,
          7,
          6,
          5,
          4,
          3,
          2.5,
          2,
          1.5,
          1,
          0.5
         ],
         "y": [
          0.14537499999999998,
          0.1514722222222222,
          0.1663333333333333,
          0.18058333333333332,
          0.19599999999999998,
          0.20905555555555555,
          0.22394444444444442,
          0.2404722222222222,
          0.2601111111111111,
          0.28011111111111114,
          0.3032777777777778,
          0.3227777777777778,
          0.33925,
          0.35200000000000004,
          0.36872222222222223,
          0.38758333333333334,
          0.40738888888888886,
          0.4260833333333333,
          0.45011111111111113,
          0.47594444444444445,
          0.5054444444444445,
          0.5361944444444444,
          0.5758333333333333,
          0.6242222222222221,
          0.6718055555555557,
          0.7155277777777779,
          0.7551944444444444,
          0.7984444444444444,
          0.8506944444444445,
          0.8768750000000001
         ]
        },
        {
         "fill": "tonexty",
         "fillcolor": "#ececec",
         "line": {
          "color": "#bdbdbd",
          "width": 1.5
         },
         "type": "scatter",
         "x": [
          50,
          45,
          40,
          35,
          32.5,
          30,
          27.5,
          25,
          22.5,
          20,
          18,
          16,
          15,
          14,
          13,
          12,
          11,
          10,
          9,
          8,
          7,
          6,
          5,
          4,
          3,
          2.5,
          2,
          1.5,
          1,
          0.5
         ],
         "y": [
          0.05104166666666665,
          0.05466666666666664,
          0.06305555555555553,
          0.07138888888888888,
          0.08002777777777777,
          0.08747222222222222,
          0.09652777777777777,
          0.10636111111111109,
          0.11922222222222219,
          0.1333333333333333,
          0.14836111111111108,
          0.16102777777777777,
          0.17077777777777778,
          0.1801111111111111,
          0.19372222222222224,
          0.20847222222222225,
          0.2265277777777778,
          0.24091666666666667,
          0.2606388888888889,
          0.2826111111111111,
          0.3115555555555556,
          0.34558333333333335,
          0.38519444444444445,
          0.4377777777777778,
          0.4900555555555555,
          0.5430833333333333,
          0.5920833333333333,
          0.6526388888888889,
          0.7315555555555555,
          0.7737916666666667
         ]
        },
        {
         "fillcolor": "#cccccc",
         "line": {
          "color": "#636363",
          "dash": "dash",
          "width": 1.5
         },
         "type": "scatter",
         "x": [
          50,
          45,
          40,
          35,
          32.5,
          30,
          27.5,
          25,
          22.5,
          20,
          18,
          16,
          15,
          14,
          13,
          12,
          11,
          10,
          9,
          8,
          7,
          6,
          5,
          4,
          3,
          2.5,
          2,
          1.5,
          1,
          0.5
         ],
         "y": [
          0,
          0,
          0,
          0,
          0.00002777777777777472,
          0.00002777777777777472,
          0.0001388888888888736,
          0.0004999999999999819,
          0.0009444444444444144,
          0.0013611111111111092,
          0.0020277777777777764,
          0.0028055555555555798,
          0.0040000000000000036,
          0.005805555555555582,
          0.008250000000000016,
          0.011111111111111146,
          0.014305555555555571,
          0.019888888888888918,
          0.027944444444444477,
          0.03916666666666668,
          0.05588888888888888,
          0.08288888888888886,
          0.12355555555555553,
          0.18263888888888888,
          0.2508888888888889,
          0.32666666666666666,
          0.409,
          0.5101111111111111,
          0.6391944444444445,
          0.7077083333333334
         ]
        },
        {
         "fill": "tonexty",
         "fillcolor": "#cccccc",
         "line": {
          "color": "#636363",
          "width": 1.5
         },
         "type": "scatter",
         "x": [
          50,
          45,
          40,
          35,
          32.5,
          30,
          27.5,
          25,
          22.5,
          20,
          18,
          16,
          15,
          14,
          13,
          12,
          11,
          10,
          9,
          8,
          7,
          6,
          5,
          4,
          3,
          2.5,
          2,
          1.5,
          1,
          0.5
         ],
         "y": [
          0,
          0,
          0,
          0,
          0,
          0,
          0.00011111111111109888,
          0.00036111111111110833,
          0.0007222222222222167,
          0.0010555555555555503,
          0.0016944444444444429,
          0.0023333333333333353,
          0.003333333333333336,
          0.004833333333333319,
          0.00694444444444442,
          0.009388888888888891,
          0.012222222222222245,
          0.017277777777777798,
          0.024444444444444453,
          0.03438888888888888,
          0.050055555555555555,
          0.07555555555555556,
          0.11500000000000003,
          0.17230555555555557,
          0.23927777777777778,
          0.3133888888888889,
          0.395,
          0.4958333333333333,
          0.62775,
          0.6975
         ]
        },
        {
         "marker": {
          "color": "#222222",
          "size": 8,
          "symbol": "diamond"
         },
         "type": "scatter",
         "x": [
          6.2
         ],
         "y": [
          0.15
         ]
        },
        {
         "type": "scatter",
         "x": [
          1
         ],
         "xaxis": "x2",
         "y": [
          1
         ],
         "yaxis": "y"
        }
       ],
       "layout": {
        "font": {
         "family": "Inter"
        },
        "height": 150,
        "legend": {
         "font": {
          "size": 9.333333333333334
         }
        },
        "margin": {
         "b": 0,
         "l": 0,
         "r": 10,
         "t": 0
        },
        "showlegend": false,
        "template": {
         "data": {
          "bar": [
           {
            "error_x": {
             "color": "rgb(36,36,36)"
            },
            "error_y": {
             "color": "rgb(36,36,36)"
            },
            "marker": {
             "line": {
              "color": "white",
              "width": 0.5
             },
             "pattern": {
              "fillmode": "overlay",
              "size": 10,
              "solidity": 0.2
             }
            },
            "type": "bar"
           }
          ],
          "barpolar": [
           {
            "marker": {
             "line": {
              "color": "white",
              "width": 0.5
             },
             "pattern": {
              "fillmode": "overlay",
              "size": 10,
              "solidity": 0.2
             }
            },
            "type": "barpolar"
           }
          ],
          "carpet": [
           {
            "aaxis": {
             "endlinecolor": "rgb(36,36,36)",
             "gridcolor": "white",
             "linecolor": "white",
             "minorgridcolor": "white",
             "startlinecolor": "rgb(36,36,36)"
            },
            "baxis": {
             "endlinecolor": "rgb(36,36,36)",
             "gridcolor": "white",
             "linecolor": "white",
             "minorgridcolor": "white",
             "startlinecolor": "rgb(36,36,36)"
            },
            "type": "carpet"
           }
          ],
          "choropleth": [
           {
            "colorbar": {
             "outlinewidth": 1,
             "tickcolor": "rgb(36,36,36)",
             "ticks": "outside"
            },
            "type": "choropleth"
           }
          ],
          "contour": [
           {
            "colorbar": {
             "outlinewidth": 1,
             "tickcolor": "rgb(36,36,36)",
             "ticks": "outside"
            },
            "colorscale": [
             [
              0,
              "#440154"
             ],
             [
              0.1111111111111111,
              "#482878"
             ],
             [
              0.2222222222222222,
              "#3e4989"
             ],
             [
              0.3333333333333333,
              "#31688e"
             ],
             [
              0.4444444444444444,
              "#26828e"
             ],
             [
              0.5555555555555556,
              "#1f9e89"
             ],
             [
              0.6666666666666666,
              "#35b779"
             ],
             [
              0.7777777777777778,
              "#6ece58"
             ],
             [
              0.8888888888888888,
              "#b5de2b"
             ],
             [
              1,
              "#fde725"
             ]
            ],
            "type": "contour"
           }
          ],
          "contourcarpet": [
           {
            "colorbar": {
             "outlinewidth": 1,
             "tickcolor": "rgb(36,36,36)",
             "ticks": "outside"
            },
            "type": "contourcarpet"
           }
          ],
          "heatmap": [
           {
            "colorbar": {
             "outlinewidth": 1,
             "tickcolor": "rgb(36,36,36)",
             "ticks": "outside"
            },
            "colorscale": [
             [
              0,
              "#440154"
             ],
             [
              0.1111111111111111,
              "#482878"
             ],
             [
              0.2222222222222222,
              "#3e4989"
             ],
             [
              0.3333333333333333,
              "#31688e"
             ],
             [
              0.4444444444444444,
              "#26828e"
             ],
             [
              0.5555555555555556,
              "#1f9e89"
             ],
             [
              0.6666666666666666,
              "#35b779"
             ],
             [
              0.7777777777777778,
              "#6ece58"
             ],
             [
              0.8888888888888888,
              "#b5de2b"
             ],
             [
              1,
              "#fde725"
             ]
            ],
            "type": "heatmap"
           }
          ],
          "heatmapgl": [
           {
            "colorbar": {
             "outlinewidth": 1,
             "tickcolor": "rgb(36,36,36)",
             "ticks": "outside"
            },
            "colorscale": [
             [
              0,
              "#440154"
             ],
             [
              0.1111111111111111,
              "#482878"
             ],
             [
              0.2222222222222222,
              "#3e4989"
             ],
             [
              0.3333333333333333,
              "#31688e"
             ],
             [
              0.4444444444444444,
              "#26828e"
             ],
             [
              0.5555555555555556,
              "#1f9e89"
             ],
             [
              0.6666666666666666,
              "#35b779"
             ],
             [
              0.7777777777777778,
              "#6ece58"
             ],
             [
              0.8888888888888888,
              "#b5de2b"
             ],
             [
              1,
              "#fde725"
             ]
            ],
            "type": "heatmapgl"
           }
          ],
          "histogram": [
           {
            "marker": {
             "line": {
              "color": "white",
              "width": 0.6
             }
            },
            "type": "histogram"
           }
          ],
          "histogram2d": [
           {
            "colorbar": {
             "outlinewidth": 1,
             "tickcolor": "rgb(36,36,36)",
             "ticks": "outside"
            },
            "colorscale": [
             [
              0,
              "#440154"
             ],
             [
              0.1111111111111111,
              "#482878"
             ],
             [
              0.2222222222222222,
              "#3e4989"
             ],
             [
              0.3333333333333333,
              "#31688e"
             ],
             [
              0.4444444444444444,
              "#26828e"
             ],
             [
              0.5555555555555556,
              "#1f9e89"
             ],
             [
              0.6666666666666666,
              "#35b779"
             ],
             [
              0.7777777777777778,
              "#6ece58"
             ],
             [
              0.8888888888888888,
              "#b5de2b"
             ],
             [
              1,
              "#fde725"
             ]
            ],
            "type": "histogram2d"
           }
          ],
          "histogram2dcontour": [
           {
            "colorbar": {
             "outlinewidth": 1,
             "tickcolor": "rgb(36,36,36)",
             "ticks": "outside"
            },
            "colorscale": [
             [
              0,
              "#440154"
             ],
             [
              0.1111111111111111,
              "#482878"
             ],
             [
              0.2222222222222222,
              "#3e4989"
             ],
             [
              0.3333333333333333,
              "#31688e"
             ],
             [
              0.4444444444444444,
              "#26828e"
             ],
             [
              0.5555555555555556,
              "#1f9e89"
             ],
             [
              0.6666666666666666,
              "#35b779"
             ],
             [
              0.7777777777777778,
              "#6ece58"
             ],
             [
              0.8888888888888888,
              "#b5de2b"
             ],
             [
              1,
              "#fde725"
             ]
            ],
            "type": "histogram2dcontour"
           }
          ],
          "mesh3d": [
           {
            "colorbar": {
             "outlinewidth": 1,
             "tickcolor": "rgb(36,36,36)",
             "ticks": "outside"
            },
            "type": "mesh3d"
           }
          ],
          "parcoords": [
           {
            "line": {
             "colorbar": {
              "outlinewidth": 1,
              "tickcolor": "rgb(36,36,36)",
              "ticks": "outside"
             }
            },
            "type": "parcoords"
           }
          ],
          "pie": [
           {
            "automargin": true,
            "type": "pie"
           }
          ],
          "scatter": [
           {
            "fillpattern": {
             "fillmode": "overlay",
             "size": 10,
             "solidity": 0.2
            },
            "type": "scatter"
           }
          ],
          "scatter3d": [
           {
            "line": {
             "colorbar": {
              "outlinewidth": 1,
              "tickcolor": "rgb(36,36,36)",
              "ticks": "outside"
             }
            },
            "marker": {
             "colorbar": {
              "outlinewidth": 1,
              "tickcolor": "rgb(36,36,36)",
              "ticks": "outside"
             }
            },
            "type": "scatter3d"
           }
          ],
          "scattercarpet": [
           {
            "marker": {
             "colorbar": {
              "outlinewidth": 1,
              "tickcolor": "rgb(36,36,36)",
              "ticks": "outside"
             }
            },
            "type": "scattercarpet"
           }
          ],
          "scattergeo": [
           {
            "marker": {
             "colorbar": {
              "outlinewidth": 1,
              "tickcolor": "rgb(36,36,36)",
              "ticks": "outside"
             }
            },
            "type": "scattergeo"
           }
          ],
          "scattergl": [
           {
            "marker": {
             "colorbar": {
              "outlinewidth": 1,
              "tickcolor": "rgb(36,36,36)",
              "ticks": "outside"
             }
            },
            "type": "scattergl"
           }
          ],
          "scattermapbox": [
           {
            "marker": {
             "colorbar": {
              "outlinewidth": 1,
              "tickcolor": "rgb(36,36,36)",
              "ticks": "outside"
             }
            },
            "type": "scattermapbox"
           }
          ],
          "scatterpolar": [
           {
            "marker": {
             "colorbar": {
              "outlinewidth": 1,
              "tickcolor": "rgb(36,36,36)",
              "ticks": "outside"
             }
            },
            "type": "scatterpolar"
           }
          ],
          "scatterpolargl": [
           {
            "marker": {
             "colorbar": {
              "outlinewidth": 1,
              "tickcolor": "rgb(36,36,36)",
              "ticks": "outside"
             }
            },
            "type": "scatterpolargl"
           }
          ],
          "scatterternary": [
           {
            "marker": {
             "colorbar": {
              "outlinewidth": 1,
              "tickcolor": "rgb(36,36,36)",
              "ticks": "outside"
             }
            },
            "type": "scatterternary"
           }
          ],
          "surface": [
           {
            "colorbar": {
             "outlinewidth": 1,
             "tickcolor": "rgb(36,36,36)",
             "ticks": "outside"
            },
            "colorscale": [
             [
              0,
              "#440154"
             ],
             [
              0.1111111111111111,
              "#482878"
             ],
             [
              0.2222222222222222,
              "#3e4989"
             ],
             [
              0.3333333333333333,
              "#31688e"
             ],
             [
              0.4444444444444444,
              "#26828e"
             ],
             [
              0.5555555555555556,
              "#1f9e89"
             ],
             [
              0.6666666666666666,
              "#35b779"
             ],
             [
              0.7777777777777778,
              "#6ece58"
             ],
             [
              0.8888888888888888,
              "#b5de2b"
             ],
             [
              1,
              "#fde725"
             ]
            ],
            "type": "surface"
           }
          ],
          "table": [
           {
            "cells": {
             "fill": {
              "color": "rgb(237,237,237)"
             },
             "line": {
              "color": "white"
             }
            },
            "header": {
             "fill": {
              "color": "rgb(217,217,217)"
             },
             "line": {
              "color": "white"
             }
            },
            "type": "table"
           }
          ]
         },
         "layout": {
          "annotationdefaults": {
           "arrowhead": 0,
           "arrowwidth": 1
          },
          "autotypenumbers": "strict",
          "coloraxis": {
           "colorbar": {
            "outlinewidth": 1,
            "tickcolor": "rgb(36,36,36)",
            "ticks": "outside"
           }
          },
          "colorscale": {
           "diverging": [
            [
             0,
             "rgb(103,0,31)"
            ],
            [
             0.1,
             "rgb(178,24,43)"
            ],
            [
             0.2,
             "rgb(214,96,77)"
            ],
            [
             0.3,
             "rgb(244,165,130)"
            ],
            [
             0.4,
             "rgb(253,219,199)"
            ],
            [
             0.5,
             "rgb(247,247,247)"
            ],
            [
             0.6,
             "rgb(209,229,240)"
            ],
            [
             0.7,
             "rgb(146,197,222)"
            ],
            [
             0.8,
             "rgb(67,147,195)"
            ],
            [
             0.9,
             "rgb(33,102,172)"
            ],
            [
             1,
             "rgb(5,48,97)"
            ]
           ],
           "sequential": [
            [
             0,
             "#440154"
            ],
            [
             0.1111111111111111,
             "#482878"
            ],
            [
             0.2222222222222222,
             "#3e4989"
            ],
            [
             0.3333333333333333,
             "#31688e"
            ],
            [
             0.4444444444444444,
             "#26828e"
            ],
            [
             0.5555555555555556,
             "#1f9e89"
            ],
            [
             0.6666666666666666,
             "#35b779"
            ],
            [
             0.7777777777777778,
             "#6ece58"
            ],
            [
             0.8888888888888888,
             "#b5de2b"
            ],
            [
             1,
             "#fde725"
            ]
           ],
           "sequentialminus": [
            [
             0,
             "#440154"
            ],
            [
             0.1111111111111111,
             "#482878"
            ],
            [
             0.2222222222222222,
             "#3e4989"
            ],
            [
             0.3333333333333333,
             "#31688e"
            ],
            [
             0.4444444444444444,
             "#26828e"
            ],
            [
             0.5555555555555556,
             "#1f9e89"
            ],
            [
             0.6666666666666666,
             "#35b779"
            ],
            [
             0.7777777777777778,
             "#6ece58"
            ],
            [
             0.8888888888888888,
             "#b5de2b"
            ],
            [
             1,
             "#fde725"
            ]
           ]
          },
          "colorway": [
           "#1F77B4",
           "#FF7F0E",
           "#2CA02C",
           "#D62728",
           "#9467BD",
           "#8C564B",
           "#E377C2",
           "#7F7F7F",
           "#BCBD22",
           "#17BECF"
          ],
          "font": {
           "color": "rgb(36,36,36)"
          },
          "geo": {
           "bgcolor": "white",
           "lakecolor": "white",
           "landcolor": "white",
           "showlakes": true,
           "showland": true,
           "subunitcolor": "white"
          },
          "hoverlabel": {
           "align": "left"
          },
          "hovermode": "closest",
          "mapbox": {
           "style": "light"
          },
          "paper_bgcolor": "white",
          "plot_bgcolor": "white",
          "polar": {
           "angularaxis": {
            "gridcolor": "rgb(232,232,232)",
            "linecolor": "rgb(36,36,36)",
            "showgrid": false,
            "showline": true,
            "ticks": "outside"
           },
           "bgcolor": "white",
           "radialaxis": {
            "gridcolor": "rgb(232,232,232)",
            "linecolor": "rgb(36,36,36)",
            "showgrid": false,
            "showline": true,
            "ticks": "outside"
           }
          },
          "scene": {
           "xaxis": {
            "backgroundcolor": "white",
            "gridcolor": "rgb(232,232,232)",
            "gridwidth": 2,
            "linecolor": "rgb(36,36,36)",
            "showbackground": true,
            "showgrid": false,
            "showline": true,
            "ticks": "outside",
            "zeroline": false,
            "zerolinecolor": "rgb(36,36,36)"
           },
           "yaxis": {
            "backgroundcolor": "white",
            "gridcolor": "rgb(232,232,232)",
            "gridwidth": 2,
            "linecolor": "rgb(36,36,36)",
            "showbackground": true,
            "showgrid": false,
            "showline": true,
            "ticks": "outside",
            "zeroline": false,
            "zerolinecolor": "rgb(36,36,36)"
           },
           "zaxis": {
            "backgroundcolor": "white",
            "gridcolor": "rgb(232,232,232)",
            "gridwidth": 2,
            "linecolor": "rgb(36,36,36)",
            "showbackground": true,
            "showgrid": false,
            "showline": true,
            "ticks": "outside",
            "zeroline": false,
            "zerolinecolor": "rgb(36,36,36)"
           }
          },
          "shapedefaults": {
           "fillcolor": "black",
           "line": {
            "width": 0
           },
           "opacity": 0.3
          },
          "ternary": {
           "aaxis": {
            "gridcolor": "rgb(232,232,232)",
            "linecolor": "rgb(36,36,36)",
            "showgrid": false,
            "showline": true,
            "ticks": "outside"
           },
           "baxis": {
            "gridcolor": "rgb(232,232,232)",
            "linecolor": "rgb(36,36,36)",
            "showgrid": false,
            "showline": true,
            "ticks": "outside"
           },
           "bgcolor": "white",
           "caxis": {
            "gridcolor": "rgb(232,232,232)",
            "linecolor": "rgb(36,36,36)",
            "showgrid": false,
            "showline": true,
            "ticks": "outside"
           }
          },
          "title": {
           "x": 0.05
          },
          "xaxis": {
           "automargin": true,
           "gridcolor": "rgb(232,232,232)",
           "linecolor": "rgb(36,36,36)",
           "showgrid": false,
           "showline": true,
           "ticks": "outside",
           "title": {
            "standoff": 15
           },
           "zeroline": false,
           "zerolinecolor": "rgb(36,36,36)"
          },
          "yaxis": {
           "automargin": true,
           "gridcolor": "rgb(232,232,232)",
           "linecolor": "rgb(36,36,36)",
           "showgrid": false,
           "showline": true,
           "ticks": "outside",
           "title": {
            "standoff": 15
           },
           "zeroline": false,
           "zerolinecolor": "rgb(36,36,36)"
          }
         }
        },
        "width": 330,
        "xaxis": {
         "dtick": 10,
         "minor": {
          "dtick": 5,
          "ticks": "outside"
         },
         "range": [
          0,
          40
         ],
         "tickfont": {
          "size": 9.333333333333334
         },
         "tickmode": "linear",
         "title": {
          "font": {
           "family": "Inter",
           "size": 9.333333333333334
          },
          "text": "Physical redundancy"
         }
        },
        "xaxis2": {
         "overlaying": "x",
         "range": [
          0,
          40
         ],
         "side": "top",
         "tickfont": {
          "size": 9.333333333333334
         },
         "tickmode": "array",
         "ticktext": [
          "48",
          "24",
          "12",
          "6",
          "4",
          "3"
         ],
         "tickvals": [
          2.5,
          5,
          10,
          20,
          30,
          40
         ],
         "title": {
          "font": {
           "family": "Inter",
           "size": 9.333333333333334
          },
          "text": "Approx. storage density / EB g<sup>-1</sup>"
         }
        },
        "yaxis": {
         "dtick": 0.2,
         "minor": {
          "dtick": 0.1,
          "ticks": "outside"
         },
         "range": [
          0,
          0.4
         ],
         "tickfont": {
          "size": 9.333333333333334
         },
         "tickformat": ".0%",
         "title": {
          "font": {
           "family": "Inter",
           "size": 9.333333333333334
          },
          "text": "Dropout"
         }
        }
       }
      }
     },
     "metadata": {},
     "output_type": "display_data"
    }
   ],
   "source": [
    "plot_data = pd.DataFrame.from_dict(all_results, orient=\"index\", columns=[\"dropout\"]).reset_index().rename(columns={\"index\": \"exp\"})\n",
    "\n",
    "for i, exp in enumerate(plot_data.exp.unique()):\n",
    "    plot_data.loc[plot_data['exp'] == exp, 'cov'], plot_data.loc[plot_data['exp'] == exp, 'set'], plot_data.loc[plot_data['exp'] == exp, 'lvl'] = exp.split('_')\n",
    "plot_data.loc[:,'cov'] = pd.to_numeric(plot_data.loc[:,'cov'])\n",
    "\n",
    "fig = pg.Figure()\n",
    "\n",
    "colors = [\"#bdbdbd\", \"#636363\"]\n",
    "colors_fill = ['#ececec', '#cccccc']\n",
    "\n",
    "for j, lvl in enumerate(plot_data.lvl.unique()):\n",
    "    for i, iset in enumerate(plot_data.set.unique()):\n",
    "    \n",
    "        idata = plot_data.loc[(plot_data['lvl'] == lvl) & (plot_data['set'] == iset), ['cov', 'dropout']]\n",
    "        fig.add_trace(\n",
    "            pg.Scatter(\n",
    "                x=idata['cov'],\n",
    "                y=idata.rolling(3, min_periods=1, center=True, on='cov').mean()['dropout'],\n",
    "                line_dash=None if iset == 'witherrors' else 'dash',\n",
    "                line_width=1.5,\n",
    "                fill='tonexty' if i == 1 else None,\n",
    "                # mode=\"markers+lines\",\n",
    "                # line_shape='spline',\n",
    "                fillcolor=colors_fill[j],\n",
    "                line_color=colors[j],\n",
    "            )\n",
    "        )\n",
    "    \n",
    "fig.add_trace(pg.Scatter(x=[6.2], y=[0.15], marker_symbol='diamond', marker_size=8, marker_color=\"#222222\"))\n",
    "\n",
    "\n",
    "fig.update_traces(marker=dict(size=7), selector=dict(mode='markers'))\n",
    "\n",
    "fig.update_yaxes(title_text='Dropout', tickformat=\".0%\", dtick=0.2, range=[0, 0.4])\n",
    "fig.update_layout(\n",
    "    template=\"simple_white\", \n",
    "    height=150, \n",
    "    width=330,\n",
    "    showlegend=False, \n",
    "    margin=dict(l=0, r=10, t=0, b=0),\n",
    "    font_family=\"Inter\",\n",
    "    legend_font_size=28/3,\n",
    "    xaxis1 = pg.layout.XAxis( \n",
    "        range=[0, 40],\n",
    "        tickmode='linear',\n",
    "        dtick=10,\n",
    "        title=\"Physical redundancy\",\n",
    "        title_font_family=\"Inter\",\n",
    "        title_font_size=28/3, \n",
    "        tickfont_size=28/3, \n",
    "        minor_ticks=\"outside\",\n",
    "        minor_dtick=5\n",
    "    ),\n",
    "    xaxis2 = pg.layout.XAxis( \n",
    "        overlaying='x',\n",
    "        side='top',\n",
    "        range=[0, 40],\n",
    "        tickmode='array',\n",
    "        tickvals=[2.5, 5, 10, 20, 30, 40],\n",
    "        ticktext=['48', '24', '12', '6', '4', '3'],\n",
    "        title=\"Approx. storage density / EB g<sup>-1</sup>\",\n",
    "        title_font_family=\"Inter\",\n",
    "        title_font_size=28/3, \n",
    "        tickfont_size=28/3\n",
    "    ),\n",
    ")\n",
    "\n",
    "fig.update_xaxes(title_font_family=\"Inter\", title_font_size=28/3, tickfont_size=28/3)\n",
    "fig.update_yaxes(title_font_family=\"Inter\", title_font_size=28/3, tickfont_size=28/3, minor_ticks=\"outside\", minor_dtick=0.1)\n",
    "\n",
    "# we need to plot something on the second x axis for it to show\n",
    "fig.add_trace(pg.Scatter(x=[1], y=[1], xaxis='x2', yaxis='y'))\n",
    "\n",
    "fig.show()\n",
    "fig.write_image(\"extremes.svg\")"
   ]
  }
 ],
 "metadata": {
  "kernelspec": {
   "display_name": "Python 3.9.7 ('np_pd_sp')",
   "language": "python",
   "name": "python3"
  },
  "language_info": {
   "codemirror_mode": {
    "name": "ipython",
    "version": 3
   },
   "file_extension": ".py",
   "mimetype": "text/x-python",
   "name": "python",
   "nbconvert_exporter": "python",
   "pygments_lexer": "ipython3",
   "version": "3.9.7"
  },
  "orig_nbformat": 4,
  "vscode": {
   "interpreter": {
    "hash": "da8130b5c8ccf41f100662caf67f3ba756beedabd599674f9119b95438e5e458"
   }
  }
 },
 "nbformat": 4,
 "nbformat_minor": 2
}
